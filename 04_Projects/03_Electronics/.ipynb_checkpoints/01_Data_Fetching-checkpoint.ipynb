{
 "cells": [
  {
   "cell_type": "markdown",
   "id": "fluid-garlic",
   "metadata": {},
   "source": [
    "## We are going to fetch data from the internet of different electronics using `BeautifulSoup` and `reqests`"
   ]
  },
  {
   "cell_type": "markdown",
   "id": "ruled-things",
   "metadata": {},
   "source": [
    "### Imports"
   ]
  },
  {
   "cell_type": "code",
   "execution_count": 1,
   "id": "virgin-findings",
   "metadata": {},
   "outputs": [],
   "source": [
    "import requests\n",
    "import re\n",
    "import os\n",
    "from bs4 import BeautifulSoup as bs"
   ]
  },
  {
   "cell_type": "markdown",
   "id": "reflected-breeding",
   "metadata": {},
   "source": [
    "### 1. Drone"
   ]
  },
  {
   "cell_type": "code",
   "execution_count": 2,
   "id": "professional-celebration",
   "metadata": {},
   "outputs": [],
   "source": [
    "drone_urls =[\n",
    "    \"https://www.google.com/search?q=white+drones&tbm=isch&ved=2ahUKEwiB8NPX5NPwAhUKShoKHTOgAD8Q2-cCegQIABAA&oq=white+drones&gs_lcp=CgNpbWcQAzICCAAyAggAMgYIABAFEB4yBggAEAgQHjIGCAAQCBAeOgQIIxAnOgQIABBDOgUIABCxAzoHCAAQsQMQQzoICAAQsQMQgwFQuYkIWM-7CGCIvghoAnAAeACAAbUDiAHMI5IBBzItNC44LjKYAQCgAQGqAQtnd3Mtd2l6LWltZ8ABAQ&sclient=img&ei=gf2jYMGrLYqUabPAgvgD&bih=741&biw=1499&rlz=1C1CHZN_enZA940ZA940&hl=en-GB\",\n",
    "    \"https://www.google.com/search?q=black+drones&tbm=isch&ved=2ahUKEwiV7fSa5dPwAhWPBhoKHcScCMsQ2-cCegQIABAA&oq=black+drones&gs_lcp=CgNpbWcQAzICCAAyAggAMgYIABAHEB4yBggAEAcQHjIGCAAQBxAeMgYIABAHEB4yBggAEAcQHjIGCAAQBxAeMgYIABAHEB4yBggAEAcQHlC8iwFY5ZQBYPqaAWgAcAB4AIAB2AKIAdIMkgEFMi0xLjSYAQCgAQGqAQtnd3Mtd2l6LWltZ8ABAQ&sclient=img&ei=Dv6jYJWuMI-NaMS5otgM&bih=741&biw=1499&rlz=1C1CHZN_enZA940ZA940&hl=en-GB\",\n",
    "    \"https://www.google.com/search?q=drone&tbm=isch&ved=2ahUKEwjjltbTstPwAhUI0YUKHZuFASAQ2-cCegQIABAA&oq=dr&gs_lcp=CgNpbWcQARgAMgQIABBDMgQIABBDMgQIABBDMgQIABBDMgQIABBDMgQIABBDMgUIABCxAzIFCAAQsQMyBQgAELEDMgUIABCxAzoECCMQJ1CjoQJY1aICYKq5AmgAcAB4AIABhwSIAZAHkgEHMy0xLjAuMZgBAKABAaoBC2d3cy13aXotaW1nwAEB&sclient=img&ei=C8mjYKPlJYiilwSbi4aAAg&bih=678&biw=1499&rlz=1C1CHZN_enZA940ZA940&hl=en-GB\",\n",
    "    \"https://www.google.com/search?q=drones&tbm=isch&ved=2ahUKEwj34v_nstPwAhWJ44UKHcbOAy0Q2-cCegQIABAA&oq=drones&gs_lcp=CgNpbWcQA1DRs-cEWNGz5wRg7rTnBGgAcAB4AIABAIgBAJIBAJgBAKABAaoBC2d3cy13aXotaW1nwAEB&sclient=img&ei=NsmjYPfvDonHlwTGnY_oAg&bih=678&biw=1499&rlz=1C1CHZN_enZA940ZA940&hl=en-GB\",\n",
    "    \"https://www.google.com/search?q=drones&tbm=isch&hl=en-GB&chips=q:drones,g_1:camera:yeGWGVukNNI%3D&rlz=1C1CHZN_enZA940ZA940&sa=X&ved=2ahUKEwibm_6w2NPwAhUO_BoKHZ6VAeMQ4lYoAXoECAEQGw&biw=1499&bih=741\",\n",
    "    \"https://www.google.com/search?q=drones&tbm=isch&hl=en-GB&chips=q:drones,g_1:camera:yeGWGVukNNI%3D,g_1:professional:jFId8luNgmE%3D&rlz=1C1CHZN_enZA940ZA940&sa=X&ved=2ahUKEwjy64PM2NPwAhUW1IUKHbYHA1EQ4lYoAHoECAEQGw&biw=1499&bih=741\",\n",
    "    \"https://www.google.com/search?q=drones&tbm=isch&hl=en-GB&chips=q:drones,g_1:camera:yeGWGVukNNI%3D,g_1:professional:jFId8luNgmE%3D,online_chips:mavic:a9E4uy5L87g%3D&rlz=1C1CHZN_enZA940ZA940&sa=X&ved=2ahUKEwiJicfU2NPwAhUa_hoKHSzZDd8Q4lYoAHoECAEQHg&biw=1499&bih=741\",\n",
    "    \"https://www.google.com/search?q=drones&tbm=isch&hl=en-GB&chips=q:drones,g_1:camera:yeGWGVukNNI%3D,g_1:professional:jFId8luNgmE%3D,online_chips:mavic:a9E4uy5L87g%3D,online_chips:vs+dji:cRonVN6KTso%3D&rlz=1C1CHZN_enZA940ZA940&sa=X&ved=2ahUKEwjK2NLc2NPwAhUVahoKHbmxBcAQ4lYoAHoECAEQIA&biw=1499&bih=741\",\n",
    "    \"https://www.google.com/search?q=drones&tbm=isch&hl=en-GB&chips=q:drones,g_1:camera:yeGWGVukNNI%3D,g_1:professional:jFId8luNgmE%3D,online_chips:mavic:a9E4uy5L87g%3D,online_chips:vs+dji:cRonVN6KTso%3D,online_chips:air:F52cQ-QYih8%3D&rlz=1C1CHZN_enZA940ZA940&sa=X&ved=2ahUKEwitp6vi2NPwAhUBRBoKHV-YCrAQ4lYoAHoECAEQIg&biw=1499&bih=741\",\n",
    "    \"https://www.google.com/search?q=drones&tbm=isch&hl=en-GB&chips=q:drones,g_1:camera:yeGWGVukNNI%3D,g_1:professional:jFId8luNgmE%3D,online_chips:mavic:a9E4uy5L87g%3D,online_chips:vs+dji:cRonVN6KTso%3D,online_chips:air:F52cQ-QYih8%3D,online_chips:mini:UA2IvsZ4ohc%3D&rlz=1C1CHZN_enZA940ZA940&sa=X&ved=2ahUKEwirtM7p2NPwAhUNLxoKHYIhA1gQ4lYoAHoECAEQJA&biw=1499&bih=741\", \n",
    "    \"https://www.google.com/search?q=drones&tbm=isch&hl=en-GB&chips=q:drones,g_1:camera:yeGWGVukNNI%3D,g_1:professional:jFId8luNgmE%3D,online_chips:mavic:a9E4uy5L87g%3D,online_chips:vs+dji:cRonVN6KTso%3D,online_chips:air:F52cQ-QYih8%3D,online_chips:mini:UA2IvsZ4ohc%3D,online_chips:spark:A8fOmJxw8N4%3D,online_chips:medpharmres:oLF24d9kBMM%3D&rlz=1C1CHZN_enZA940ZA940&sa=X&ved=2ahUKEwjDk-j92NPwAhUHwYUKHahbAUMQ4lYoAnoECAEQLA&biw=1499&bih=741\",\n",
    "    \"https://www.google.com/search?q=drones&tbm=isch&hl=en-GB&chips=q:drones,g_1:military:vxaNtkSP5mQ%3D&rlz=1C1CHZN_enZA940ZA940&sa=X&ved=2ahUKEwi6x_Ka2dPwAhWPwoUKHe4PBQMQ4lYoAHoECAEQGQ&biw=1499&bih=741\", \n",
    "]"
   ]
  },
  {
   "cell_type": "markdown",
   "id": "prescribed-miniature",
   "metadata": {},
   "source": [
    "### 2. cellphone"
   ]
  },
  {
   "cell_type": "code",
   "execution_count": 3,
   "id": "processed-reflection",
   "metadata": {},
   "outputs": [],
   "source": [
    "cellphone_urls = [\n",
    "    \"https://www.google.com/search?q=cellphone&tbm=isch&ved=2ahUKEwiRrLuv2dPwAhXR_IUKHWfVAuMQ2-cCegQIABAA&oq=cellphone&gs_lcp=CgNpbWcQAzIECCMQJzIFCAAQsQMyBQgAELEDMgIIADICCAAyBQgAELEDMgIIADICCAAyAggAMgIIADoECAAQQzoICAAQsQMQgwFQvNYDWJrnA2Dj7ANoAHAAeACAAYYFiAGQG5IBCTItMy40LjAuMpgBAKABAaoBC2d3cy13aXotaW1nwAEB&sclient=img&ei=pPGjYJHKKNH5lwTnqouYDg&bih=741&biw=1499&rlz=1C1CHZN_enZA940ZA940&hl=en-GB\",\n",
    "    \"https://www.google.com/search?q=cellphone&tbm=isch&hl=en-GB&chips=q:cellphone,g_1:iphone:pXM6ND0vS74%3D&rlz=1C1CHZN_enZA940ZA940&sa=X&ved=2ahUKEwi9stLO2dPwAhUIwYUKHXYLCJwQ4lYoAXoECAEQGw&biw=1499&bih=741\", \n",
    "    \"https://www.google.com/search?q=cellphone&tbm=isch&hl=en-GB&chips=q:cellphone,g_1:iphone:pXM6ND0vS74%3D,g_1:iphone+6:i03MKjT9PeU%3D&rlz=1C1CHZN_enZA940ZA940&sa=X&ved=2ahUKEwit7eTg2dPwAhVEKxoKHchWDloQ4lYoAHoECAEQGw&biw=1499&bih=741\",\n",
    "    \"https://www.google.com/search?q=cellphone&tbm=isch&hl=en-GB&chips=q:cellphone,g_1:iphone:pXM6ND0vS74%3D,g_1:iphone+6:i03MKjT9PeU%3D,online_chips:16gb:0YA7ic2y4ag%3D&rlz=1C1CHZN_enZA940ZA940&sa=X&ved=2ahUKEwiPpK3o2dPwAhUW04UKHT41CFsQ4lYoAHoECAEQHg&biw=1499&bih=741\", \n",
    "    \"https://www.google.com/search?q=cellphone&tbm=isch&hl=en-GB&chips=q:cellphone,g_1:iphone:pXM6ND0vS74%3D,g_1:iphone+6:i03MKjT9PeU%3D,online_chips:16gb:0YA7ic2y4ag%3D,online_chips:price:6jq4owmWyC4%3D&rlz=1C1CHZN_enZA940ZA940&sa=X&ved=2ahUKEwiB3pLy2dPwAhVlgc4BHVZ_AP0Q4lYoAHoECAEQIA&biw=1499&bih=741\",\n",
    "    \"https://www.google.com/search?q=cellphone&tbm=isch&hl=en-GB&chips=q:cellphone,g_1:iphone:pXM6ND0vS74%3D,g_1:iphone+6:i03MKjT9PeU%3D,online_chips:16gb:0YA7ic2y4ag%3D,online_chips:price:6jq4owmWyC4%3D,online_chips:plus:T8NhXE2AgXQ%3D&rlz=1C1CHZN_enZA940ZA940&sa=X&ved=2ahUKEwjrs5H52dPwAhXZ44UKHZ92DK4Q4lYoAHoECAEQIg&biw=1499&bih=741\",\n",
    "    \"https://www.google.com/search?q=cellphone&tbm=isch&hl=en-GB&chips=q:cellphone,g_1:iphone:pXM6ND0vS74%3D,g_1:iphone+6:i03MKjT9PeU%3D,online_chips:16gb:0YA7ic2y4ag%3D,online_chips:price:6jq4owmWyC4%3D,online_chips:plus:T8NhXE2AgXQ%3D,online_chips:64gb:K8REeBGiQgo%3D&rlz=1C1CHZN_enZA940ZA940&sa=X&ved=2ahUKEwj3xeiA2tPwAhUS0BoKHYieBKMQ4lYoAHoECAEQJA&biw=1499&bih=741\", \n",
    "    \"https://www.google.com/search?q=cellphone&tbm=isch&hl=en-GB&chips=q:cellphone,g_1:iphone:pXM6ND0vS74%3D,g_1:iphone+6:i03MKjT9PeU%3D,online_chips:16gb:0YA7ic2y4ag%3D,online_chips:price:6jq4owmWyC4%3D,online_chips:plus:T8NhXE2AgXQ%3D,online_chips:64gb:K8REeBGiQgo%3D,online_chips:6plus:qvY9Zh0MitM%3D&rlz=1C1CHZN_enZA940ZA940&sa=X&ved=2ahUKEwjvqtOI2tPwAhVOYxoKHQJuARoQ4lYoAHoECAEQJg&biw=1499&bih=741\",\n",
    "    \"https://www.google.com/search?q=cellphone&tbm=isch&hl=en-GB&chips=q:cellphone,g_1:iphone:pXM6ND0vS74%3D,g_1:iphone+6:i03MKjT9PeU%3D,online_chips:16gb:0YA7ic2y4ag%3D,online_chips:price:6jq4owmWyC4%3D,online_chips:plus:T8NhXE2AgXQ%3D,online_chips:64gb:K8REeBGiQgo%3D,online_chips:6plus:qvY9Zh0MitM%3D,online_chips:a1522:pxrKhHnUfwg%3D&rlz=1C1CHZN_enZA940ZA940&sa=X&ved=2ahUKEwiewrOP2tPwAhXZ44UKHZ92DK4Q4lYoAHoECAEQKA&biw=1499&bih=741\",\n",
    "    \"https://www.google.com/search?q=cellphone&tbm=isch&hl=en-GB&chips=q:cellphone,g_1:samsung:N8chNdr6WNo%3D&rlz=1C1CHZN_enZA940ZA940&sa=X&ved=2ahUKEwi_ncmq2tPwAhUU_xoKHaEcD4YQ4lYoAnoECAEQHQ&biw=1499&bih=741\",\n",
    "    \"https://www.google.com/search?q=cellphone&tbm=isch&hl=en-GB&chips=q:cellphone,g_1:samsung:N8chNdr6WNo%3D,g_1:price:N8chNdr6WNo%3D&rlz=1C1CHZN_enZA940ZA940&sa=X&ved=2ahUKEwiD1pOs2tPwAhUX4RoKHW3XA-AQ4lYoAHoECAEQGw&biw=1499&bih=741\",\n",
    "    \"https://www.google.com/search?q=cellphone&tbm=isch&hl=en-GB&chips=q:cellphone,g_1:samsung:N8chNdr6WNo%3D,g_1:price:N8chNdr6WNo%3D,online_chips:galaxy+j4+core:UdREKoheCLs%3D&rlz=1C1CHZN_enZA940ZA940&sa=X&ved=2ahUKEwjk5MS12tPwAhXY_4UKHavCAcYQ4lYoAXoECAEQHg&biw=1499&bih=741\",\n",
    "    \"https://www.google.com/search?q=cellphone&tbm=isch&hl=en-GB&chips=q:cellphone,g_1:samsung:N8chNdr6WNo%3D,g_1:price:N8chNdr6WNo%3D,online_chips:galaxy+j4+core:UdREKoheCLs%3D,online_chips:pep:yPu5dCfePZY%3D&rlz=1C1CHZN_enZA940ZA940&sa=X&ved=2ahUKEwiyreK82tPwAhVC44UKHThjAscQ4lYoAHoECAEQIA&biw=1499&bih=741\", \n",
    "    \"https://www.google.com/search?q=cellphone&tbm=isch&hl=en-GB&chips=q:cellphone,g_1:samsung:N8chNdr6WNo%3D,g_1:price:N8chNdr6WNo%3D,online_chips:galaxy+j4+core:UdREKoheCLs%3D,online_chips:pep:yPu5dCfePZY%3D,online_chips:game:HVGT41eCFms%3D&rlz=1C1CHZN_enZA940ZA940&sa=X&ved=2ahUKEwifmuzC2tPwAhWU_IUKHQtvCWEQ4lYoAHoECAEQIg&biw=1499&bih=741\",\n",
    "    \"https://www.google.com/search?q=cellphone&tbm=isch&hl=en-GB&chips=q:cellphone,g_1:old:T2GbNd9tYh0%3D&rlz=1C1CHZN_enZA940ZA940&sa=X&ved=2ahUKEwj6kOTS2tPwAhVGZxoKHQNqB2MQ4lYoA3oECAEQHw&biw=1499&bih=741\",\n",
    "    \"https://www.google.com/search?q=cellphone&tbm=isch&hl=en-GB&chips=q:cellphone,g_1:old:T2GbNd9tYh0%3D,g_1:old+fashion:BLDLLKr1D-k%3D&rlz=1C1CHZN_enZA940ZA940&sa=X&ved=2ahUKEwiZwonU2tPwAhWW_IUKHfngCIwQ4lYoAHoECAEQGw&biw=1499&bih=741\", \n",
    "    \"https://www.google.com/search?q=cellphone&tbm=isch&hl=en-GB&chips=q:cellphone,g_1:old:T2GbNd9tYh0%3D,g_1:old+fashion:BLDLLKr1D-k%3D,online_chips:old+school:GXc-F7qm-eM%3D&rlz=1C1CHZN_enZA940ZA940&sa=X&ved=2ahUKEwiAmcPd2tPwAhX6gM4BHc2FBNsQ4lYoBXoECAEQKA&biw=1499&bih=741\",\n",
    "    \"https://www.google.com/search?q=cellphone&tbm=isch&hl=en-GB&chips=q:cellphone,g_1:old:T2GbNd9tYh0%3D,g_1:old+fashion:BLDLLKr1D-k%3D,online_chips:old+school:GXc-F7qm-eM%3D,online_chips:nokia:6UwFFkdwaWw%3D&rlz=1C1CHZN_enZA940ZA940&sa=X&ved=2ahUKEwjTtLTl2tPwAhUCQRoKHRwtCrMQ4lYoA3oECAEQJg&biw=1499&bih=741\",\n",
    "    \"https://www.google.com/search?q=cell+phone+huawei&tbm=isch&hl=en-GB&chips=q:cell+phone+huawei,g_1:model:xlAdnSYQulc%3D&rlz=1C1CHZN_enZA940ZA940&sa=X&ved=2ahUKEwjUy__52tPwAhUPNhoKHQ9BBtYQ4lYoBXoECAEQIw&biw=1499&bih=741\", \n",
    "    \"https://www.google.com/search?q=cell+phone+huawei&tbm=isch&hl=en-GB&chips=q:cell+phone+huawei,g_1:model:xlAdnSYQulc%3D,online_chips:y7+prime:Yp9URm0AyJA%3D&rlz=1C1CHZN_enZA940ZA940&sa=X&ved=2ahUKEwixifv82tPwAhUZ8IUKHWEXDE0Q4lYoAnoECAEQIA&biw=1499&bih=741\",\n",
    "    \"https://www.google.com/search?q=cell+phone+huawei&tbm=isch&hl=en-GB&chips=q:cell+phone+huawei,g_1:model:xlAdnSYQulc%3D,online_chips:y7+prime:Yp9URm0AyJA%3D,online_chips:2020:e4wUqHP5Vos%3D&rlz=1C1CHZN_enZA940ZA940&sa=X&ved=2ahUKEwjWtLiF29PwAhUJ_4UKHXIbDNoQ4lYoAHoECAEQHg&biw=1499&bih=741\",\n",
    "    \"https://www.google.com/search?q=cell+phone+huawei&tbm=isch&hl=en-GB&chips=q:cell+phone+huawei,g_1:model:xlAdnSYQulc%3D,online_chips:y7+prime:Yp9URm0AyJA%3D,online_chips:2020:e4wUqHP5Vos%3D,online_chips:y7p:73V_uwKAFTE%3D&rlz=1C1CHZN_enZA940ZA940&sa=X&ved=2ahUKEwiAxvGT29PwAhWC34UKHU1MAo0Q4lYoAHoECAEQIA&biw=1499&bih=741\",\n",
    "    \"https://www.google.com/search?q=cell+phone+huawei&tbm=isch&hl=en-GB&chips=q:cell+phone+huawei,g_1:model:xlAdnSYQulc%3D,online_chips:y7+prime:Yp9URm0AyJA%3D,online_chips:2020:e4wUqHP5Vos%3D,online_chips:y7p:73V_uwKAFTE%3D,online_chips:pakistan:Db6pU1BNFDA%3D&rlz=1C1CHZN_enZA940ZA940&sa=X&ved=2ahUKEwiR_vKX29PwAhWE04UKHVPuCXkQ4lYoAHoECAEQIg&biw=1499&bih=741\",\n",
    "    \"https://www.google.com/search?q=cell+phone+huawei&tbm=isch&hl=en-GB&chips=q:cell+phone+huawei,g_1:model:xlAdnSYQulc%3D,online_chips:y7+prime:Yp9URm0AyJA%3D,online_chips:2020:e4wUqHP5Vos%3D,online_chips:y7p:73V_uwKAFTE%3D,online_chips:pakistan:Db6pU1BNFDA%3D,online_chips:pro:3OmLEMrEQRw%3D&rlz=1C1CHZN_enZA940ZA940&sa=X&ved=2ahUKEwj8z-Gc29PwAhURMRoKHcZtDY8Q4lYoAXoECAEQJg&biw=1499&bih=741\",\n",
    "    \"https://www.google.com/search?q=phone&tbm=isch&ved=2ahUKEwjkx4ms29PwAhWP_IUKHYtSAtkQ2-cCegQIABAA&oq=phone&gs_lcp=CgNpbWcQAzIHCAAQsQMQQzIECAAQQzIHCAAQsQMQQzIECAAQQzIECAAQQzIHCAAQsQMQQzIECAAQQzIECAAQQzIFCAAQsQMyAggAOgcIIxDqAhAnOgQIIxAnUIETWNMhYM4jaAFwAHgBgAGgA4gBixOSAQcyLTMuMi4ymAEAoAEBqgELZ3dzLXdpei1pbWewAQrAAQE&sclient=img&ei=tvOjYOSUGo_5lwSLpYnIDQ&bih=741&biw=1499&rlz=1C1CHZN_enZA940ZA940&hl=en-GB\",\n",
    "    \"https://www.google.com/search?q=phone&tbm=isch&hl=en-GB&chips=q:phone,g_1:android:KMdeCm2uoQQ%3D&rlz=1C1CHZN_enZA940ZA940&sa=X&ved=2ahUKEwjR_5Sv29PwAhUOxhoKHddSApIQ4lYoAnoECAEQHQ&biw=1499&bih=741\",\n",
    "    \"https://www.google.com/search?q=phone&tbm=isch&hl=en-GB&chips=q:phone,g_1:android:KMdeCm2uoQQ%3D,g_1:white:m6O7sGLOGB4%3D&rlz=1C1CHZN_enZA940ZA940&sa=X&ved=2ahUKEwiZ0tq129PwAhWjgM4BHWRYAP8Q4lYoAnoECAEQHw&biw=1499&bih=741\",\n",
    "    \"https://www.google.com/search?q=phone&tbm=isch&hl=en-GB&chips=q:phone,g_1:nokia:mO5YxJ9roLw%3D&rlz=1C1CHZN_enZA940ZA940&sa=X&ved=2ahUKEwjcsvnj29PwAhVM44UKHV2rC-kQ4lYoCXoECAEQKw&biw=1499&bih=741\",\n",
    "    \"https://www.google.com/search?q=phone&tbm=isch&hl=en-GB&chips=q:phone,g_1:nokia:mO5YxJ9roLw%3D,g_1:original:2VljK-6oIcE%3D&rlz=1C1CHZN_enZA940ZA940&sa=X&ved=2ahUKEwiXp9zn29PwAhWNBhoKHa93DtYQ4lYoAnoECAEQHw&biw=1499&bih=741\",\n",
    "    \"https://www.google.com/search?q=phone&tbm=isch&hl=en-GB&chips=q:phone,g_1:nokia:mO5YxJ9roLw%3D,g_1:original:2VljK-6oIcE%3D,g_1:snake:42ep2Ag8YTs%3D&rlz=1C1CHZN_enZA940ZA940&sa=X&ved=2ahUKEwjr2u7v29PwAhUT0YUKHdkSAqIQ4lYoAXoECAEQHg&biw=1499&bih=741\",\n",
    "]"
   ]
  },
  {
   "cell_type": "markdown",
   "id": "connected-chance",
   "metadata": {},
   "source": [
    "### 3. laptop"
   ]
  },
  {
   "cell_type": "code",
   "execution_count": 4,
   "id": "built-prior",
   "metadata": {},
   "outputs": [],
   "source": [
    "laptop_urls =[\n",
    "    \"https://www.google.com/search?q=laptops&tbm=isch&ved=2ahUKEwiHoc7229PwAhWRw4UKHYEYB6wQ2-cCegQIABAA&oq=laptop&gs_lcp=CgNpbWcQARgAMgQIIxAnMgcIABCxAxBDMgoIABCxAxCDARBDMgcIABCxAxBDMgQIABBDMgQIABBDMgQIABBDMgQIABBDMgQIABBDMgQIABBDUPr6BVjwhwZguJMGaABwAHgAgAGnA4gBzhCSAQUzLTUuMZgBAKABAaoBC2d3cy13aXotaW1nwAEB&sclient=img&ei=UvSjYIewLZGHlwSBsZzgCg&bih=741&biw=1499&rlz=1C1CHZN_enZA940ZA940&hl=en-GB\",\n",
    "    \"https://www.google.com/search?q=laptops&tbm=isch&hl=en-GB&chips=q:laptops,g_1:apple:uIESeY2ZUKo%3D&rlz=1C1CHZN_enZA940ZA940&sa=X&ved=2ahUKEwix4tmn3NPwAhUJahoKHbw3A1oQ4lYoAHoECAEQGQ&biw=1499&bih=741\",\n",
    "    \"https://www.google.com/search?q=laptops&tbm=isch&hl=en-GB&chips=q:laptops,g_1:apple:uIESeY2ZUKo%3D,g_1:rose+gold:tkoNC2w7eZ0%3D&rlz=1C1CHZN_enZA940ZA940&sa=X&ved=2ahUKEwjDoems3NPwAhUOWBoKHenXBwwQ4lYoAHoECAEQGw&biw=1499&bih=741\",\n",
    "    \"https://www.google.com/search?q=laptops&tbm=isch&hl=en-GB&chips=q:laptops,g_1:dell:k_W5dNLBCls%3D&rlz=1C1CHZN_enZA940ZA940&sa=X&ved=2ahUKEwjpkrW43NPwAhWQ0oUKHZsTATwQ4lYoAXoECAEQGw&biw=1499&bih=741\",\n",
    "    \"https://www.google.com/search?q=laptops&tbm=isch&hl=en-GB&chips=q:laptops,g_1:dell:k_W5dNLBCls%3D,g_1:windows+10:44XLJf6cbys%3D&rlz=1C1CHZN_enZA940ZA940&sa=X&ved=2ahUKEwj13--53NPwAhUKQhoKHWgeBlMQ4lYoAHoECAEQGw&biw=1499&bih=741\",\n",
    "    \"https://www.google.com/search?q=laptops&tbm=isch&hl=en-GB&chips=q:laptops,g_1:dell:k_W5dNLBCls%3D,g_1:windows+10:44XLJf6cbys%3D,online_chips:touch+screen:zf8hareE4e8%3D&rlz=1C1CHZN_enZA940ZA940&sa=X&ved=2ahUKEwjT_fq_3NPwAhXH44UKHfpSDtcQ4lYoA3oECAEQIA&biw=1499&bih=741\",\n",
    "    \"https://www.google.com/search?q=laptops&tbm=isch&hl=en-GB&chips=q:laptops,g_1:dell:k_W5dNLBCls%3D,g_1:windows+10:44XLJf6cbys%3D,online_chips:touch+screen:zf8hareE4e8%3D,online_chips:dell+latitude:Uwx2ujQDfbU%3D&rlz=1C1CHZN_enZA940ZA940&sa=X&ved=2ahUKEwjEspHI3NPwAhWRw4UKHYEYB6wQ4lYoAXoECAEQIg&biw=1499&bih=741\",\n",
    "    \"https://www.google.com/search?q=laptops&tbm=isch&hl=en-GB&chips=q:laptops,g_1:dell:k_W5dNLBCls%3D,g_1:windows+10:44XLJf6cbys%3D,online_chips:touch+screen:zf8hareE4e8%3D,online_chips:dell+latitude:Uwx2ujQDfbU%3D,online_chips:5410:S_GZW1S7vbg%3D&rlz=1C1CHZN_enZA940ZA940&sa=X&ved=2ahUKEwjh1OXS3NPwAhUEsxoKHeAlBUUQ4lYoAHoECAEQIg&biw=1499&bih=741\",\n",
    "    \"https://www.google.com/search?q=laptops&tbm=isch&hl=en-GB&chips=q:laptops,g_1:dell:k_W5dNLBCls%3D,g_1:windows+10:44XLJf6cbys%3D,online_chips:touch+screen:zf8hareE4e8%3D,online_chips:dell+latitude:Uwx2ujQDfbU%3D,online_chips:5410:S_GZW1S7vbg%3D,online_chips:core+i7+10th+gen:rGIsAH03ZY0%3D&rlz=1C1CHZN_enZA940ZA940&sa=X&ved=2ahUKEwiQj7HY3NPwAhUOSRoKHS5jC6IQ4lYoAHoECAEQJA&biw=1499&bih=741\",\n",
    "    \"https://www.google.com/search?q=laptops&tbm=isch&hl=en-GB&chips=q:laptops,g_1:gaming:Q7aZmtg4peQ%3D&rlz=1C1CHZN_enZA940ZA940&sa=X&ved=2ahUKEwiZuuzj3NPwAhUUKhoKHZ7lALcQ4lYoA3oECAEQHw&biw=1499&bih=741\",\n",
    "    \"https://www.google.com/search?q=laptops&tbm=isch&hl=en-GB&chips=q:laptops,g_1:gaming:Q7aZmtg4peQ%3D,g_1:alienware:-V1duDtSA1E%3D&rlz=1C1CHZN_enZA940ZA940&sa=X&ved=2ahUKEwjore7m3NPwAhVEHBoKHQG6DfgQ4lYoAHoECAEQGw&biw=1499&bih=741\",\n",
    "    \"https://www.google.com/search?q=laptops&tbm=isch&hl=en-GB&chips=q:laptops,g_1:gaming:Q7aZmtg4peQ%3D,g_1:alienware:-V1duDtSA1E%3D,g_1:cheap:ARSgp07bOF0%3D&rlz=1C1CHZN_enZA940ZA940&sa=X&ved=2ahUKEwjxr4ru3NPwAhUqgHMKHYFqAjoQ4lYoAHoECAEQHQ&biw=1499&bih=741\",\n",
    "    \"https://www.google.com/search?q=laptops&tbm=isch&hl=en-GB&chips=q:laptops,g_1:acer:Ch9-vf5xHw8%3D&rlz=1C1CHZN_enZA940ZA940&sa=X&ved=2ahUKEwiWvIWC3dPwAhUDMRoKHfA0BxAQ4lYoBHoECAEQIQ&biw=1499&bih=741\",\n",
    "    \"https://www.google.com/search?q=laptops&tbm=isch&hl=en-GB&chips=q:laptops,g_1:acer:Ch9-vf5xHw8%3D,g_1:blue:Wxfy93mcJU8%3D&rlz=1C1CHZN_enZA940ZA940&sa=X&ved=2ahUKEwjSiOeD3dPwAhWD44UKHWyiAWMQ4lYoAHoECAEQGw&biw=1499&bih=741\",\n",
    "    \"https://www.google.com/search?q=laptops&tbm=isch&hl=en-GB&chips=q:laptops,g_1:acer:Ch9-vf5xHw8%3D,g_1:blue:Wxfy93mcJU8%3D,online_chips:r3+131t:YMe-FFPQtxE%3D&rlz=1C1CHZN_enZA940ZA940&sa=X&ved=2ahUKEwjB_7OI3dPwAhVIPhoKHSJMAfcQ4lYoAXoECAEQIA&biw=1499&bih=741\",\n",
    "    \"https://www.google.com/search?q=laptops&tbm=isch&hl=en-GB&chips=q:laptops,g_1:acer:Ch9-vf5xHw8%3D,g_1:red:Xk6CZuaAAy8%3D&rlz=1C1CHZN_enZA940ZA940&sa=X&ved=2ahUKEwi5zbOa3dPwAhVS_IUKHayzCKEQ4lYoA3oECAEQIQ&biw=1499&bih=741\",\n",
    "    \"https://www.google.com/search?q=laptops&tbm=isch&hl=en-GB&chips=q:laptops,g_1:acer:Ch9-vf5xHw8%3D,g_1:white:l1qmfUHpYjA%3D&rlz=1C1CHZN_enZA940ZA940&sa=X&ved=2ahUKEwi5zbOa3dPwAhVS_IUKHayzCKEQ4lYoBHoECAEQIw&biw=1499&bih=741\",\n",
    "    \"https://www.google.com/search?q=laptops&tbm=isch&hl=en-GB&chips=q:laptops,g_1:acer:Ch9-vf5xHw8%3D,g_1:white:l1qmfUHpYjA%3D,online_chips:predator:2JXnrgnorSo%3D&rlz=1C1CHZN_enZA940ZA940&sa=X&ved=2ahUKEwjmqeOh3dPwAhWOIRoKHW26DgQQ4lYoAHoECAEQHg&biw=1499&bih=741\",\n",
    "    \"https://www.google.com/search?q=hp+laptops&tbm=isch&hl=en-GB&chips=q:hp+laptops,g_1:blue:fowxW_c6uyA%3D&rlz=1C1CHZN_enZA940ZA940&sa=X&ved=2ahUKEwjry5Lo3dPwAhXQ44UKHSTeA8oQ4lYoAXoECAEQGw&biw=1499&bih=741\",\n",
    "    \"https://www.google.com/search?q=acer+laptops&tbm=isch&hl=en-GB&chips=q:acer+aspire,g_1:old:oMJv_lVkxG4%3D&rlz=1C1CHZN_enZA940ZA940&sa=X&ved=2ahUKEwi06sb43dPwAhVGAhoKHZbsDZ4Q4lYoBXoECAEQIw&biw=1499&bih=741\",\n",
    "    \"https://www.google.com/search?q=acer+laptops+brown&tbm=isch&ved=2ahUKEwi--56A3tPwAhUQ4oUKHVP8Ae8Q2-cCegQIABAA&oq=acer+laptops+brown&gs_lcp=CgNpbWcQAzoECAAQQzoCCAA6BggAEAgQHjoECAAQGFCxYljoeWDDfGgAcAB4AIABngOIAdwNkgEFMy00LjGYAQCgAQGqAQtnd3Mtd2l6LWltZ8ABAQ&sclient=img&ei=f_ajYP6_MZDElwTT-If4Dg&bih=741&biw=1499&rlz=1C1CHZN_enZA940ZA940&hl=en-GB\",\n",
    "    \"https://www.google.com/search?q=accer+laptops&tbm=isch&ved=2ahUKEwi0jp_z3dPwAhVJlxoKHTABBjQQ2-cCegQIABAA&oq=accer+laptops&gs_lcp=CgNpbWcQAzICCAAyBggAEAoQGDIGCAAQChAYUL83WIo-YIlCaABwAHgAgAG-A4gBxA6SAQUzLTQuMZgBAKABAaoBC2d3cy13aXotaW1nwAEB&sclient=img&ei=ZPajYLTMIcmuarCCmKAD&bih=741&biw=1499&rlz=1C1CHZN_enZA940ZA940&hl=en-GB\",\n",
    "    \"https://www.google.com/search?q=hp+laptops&tbm=isch&ved=2ahUKEwiC1Jfi3dPwAhUD4oUKHYy6DDoQ2-cCegQIABAA&oq=hp+laptops&gs_lcp=CgNpbWcQAzICCAAyBggAEAcQHjIGCAAQBxAeMgYIABAHEB4yBggAEAcQHjIGCAAQBxAeMgYIABAHEB4yBggAEAcQHjIGCAAQBxAeMgYIABAHEB5QzEZYtE9g41FoAHAAeACAAfsCiAHlBZIBAzMtMpgBAKABAaoBC2d3cy13aXotaW1nwAEB&sclient=img&ei=QPajYIK0L4PElwSM9bLQAw&bih=741&biw=1499&rlz=1C1CHZN_enZA940ZA940&hl=en-GB\",\n",
    "    \"https://www.google.com/search?q=laptops&tbm=isch&hl=en-GB&chips=q:laptops,g_1:samsung:pE7tSFy5clY%3D,g_1:core+i7:WA1gp0z8Wbs%3D,online_chips:flex:6bY7Z7HonPs%3D&rlz=1C1CHZN_enZA940ZA940&sa=X&ved=2ahUKEwiTgdjS3dPwAhUZbRoKHRceBFgQ4lYoA3oECAEQJA&biw=1499&bih=741\",\n",
    "    \"https://www.google.com/search?q=laptops&tbm=isch&hl=en-GB&chips=q:laptops,g_1:samsung:pE7tSFy5clY%3D,g_1:core+i7:WA1gp0z8Wbs%3D,online_chips:i7+8gb+ram:njfrNS8_2js%3D&rlz=1C1CHZN_enZA940ZA940&sa=X&ved=2ahUKEwiTgdjS3dPwAhUZbRoKHRceBFgQ4lYoAnoECAEQIg&biw=1499&bih=741\",\n",
    "    \"https://www.google.com/search?q=laptops&tbm=isch&hl=en-GB&chips=q:laptops,g_1:samsung:pE7tSFy5clY%3D,g_1:core+i7:WA1gp0z8Wbs%3D&rlz=1C1CHZN_enZA940ZA940&sa=X&ved=2ahUKEwiE8qfM3dPwAhWMwYUKHQeDD4EQ4lYoAnoECAEQHw&biw=1499&bih=741\",\n",
    "    \"https://www.google.com/search?q=laptops&tbm=isch&hl=en-GB&chips=q:laptops,g_1:samsung:pE7tSFy5clY%3D&rlz=1C1CHZN_enZA940ZA940&sa=X&ved=2ahUKEwiD3qrJ3dPwAhUSghoKHRs8CHMQ4lYoBnoECAEQJQ&biw=1499&bih=741\",\n",
    "    \"https://www.google.com/search?q=laptops&tbm=isch&hl=en-GB&chips=q:laptops,g_1:rose+gold:bP5AOZriOUk%3D,g_1:macbook:c4l0NGHPqG8%3D,online_chips:12+inch+macbook:QGGj71JCKxM%3D&rlz=1C1CHZN_enZA940ZA940&sa=X&ved=2ahUKEwiMs-u93dPwAhUqgHMKHYFqAjoQ4lYoBHoECAEQJg&biw=1499&bih=741\",\n",
    "    \"https://www.google.com/search?q=laptops&tbm=isch&hl=en-GB&chips=q:laptops,g_1:rose+gold:bP5AOZriOUk%3D,g_1:macbook:c4l0NGHPqG8%3D&rlz=1C1CHZN_enZA940ZA940&sa=X&ved=2ahUKEwjXqfG23dPwAhUZcxoKHdSjDpIQ4lYoAXoECAEQHQ&biw=1499&bih=741\",\n",
    "    \"https://www.google.com/search?q=laptops&tbm=isch&hl=en-GB&chips=q:laptops,g_1:rose+gold:bP5AOZriOUk%3D&rlz=1C1CHZN_enZA940ZA940&sa=X&ved=2ahUKEwj3j_G03dPwAhUKrhoKHd4cBq8Q4lYoBXoECAEQIw&biw=1499&bih=741\",\n",
    "]"
   ]
  },
  {
   "cell_type": "markdown",
   "id": "extra-spray",
   "metadata": {},
   "source": [
    "### 4. desktop"
   ]
  },
  {
   "cell_type": "code",
   "execution_count": 5,
   "id": "strategic-hollow",
   "metadata": {},
   "outputs": [],
   "source": [
    "desktop_urls =[\n",
    "    \"https://www.google.com/search?q=desktop&tbm=isch&ved=2ahUKEwjqxYaJ3tPwAhVFMRoKHYTrB18Q2-cCegQIABAA&oq=desktop&gs_lcp=CgNpbWcQAzIECCMQJzIECCMQJzIHCAAQsQMQQzIHCAAQsQMQQzIECAAQQzIHCAAQsQMQQzIECAAQQzIECAAQQzIECAAQQzIECAAQQzoICAAQsQMQgwE6BQgAELEDOgIIAFD1xQJYj9ICYJLZAmgAcAB4AIAB2gOIAYQSkgEHMi0xLjUuMZgBAKABAaoBC2d3cy13aXotaW1nwAEB&sclient=img&ei=kvajYOq0EcXiaITXn_gF&bih=741&biw=1499&rlz=1C1CHZN_enZA940ZA940&hl=en-GB\",\n",
    "    \"https://www.google.com/search?q=desktop&tbm=isch&hl=en-GB&chips=q:desktop,g_1:computer:kimy6j3ZOjY%3D&rlz=1C1CHZN_enZA940ZA940&sa=X&ved=2ahUKEwjIlIuf3tPwAhURgHMKHd-JCtkQ4lYoAXoECAEQGw&biw=1499&bih=741\",\n",
    "    \"https://www.google.com/search?q=desktop&tbm=isch&hl=en-GB&chips=q:desktop,g_1:computer:kimy6j3ZOjY%3D,g_1:apple:gqIsrkrXdtQ%3D&rlz=1C1CHZN_enZA940ZA940&sa=X&ved=2ahUKEwjamKmm3tPwAhURwIUKHaKMAHUQ4lYoAHoECAEQGw&biw=1499&bih=741\",\n",
    "    \"https://www.google.com/search?q=desktop&tbm=isch&hl=en-GB&chips=q:desktop,g_1:computer:kimy6j3ZOjY%3D,g_1:apple:gqIsrkrXdtQ%3D,g_1:screen&rlz=1C1CHZN_enZA940ZA940&sa=X&ved=2ahUKEwixhfmr3tPwAhUW1IUKHbYHA1EQ4lYoAHoECAEQHQ&biw=1499&bih=741\",\n",
    "    \"https://www.google.com/search?q=desktop&tbm=isch&hl=en-GB&chips=q:desktop,g_1:computer:kimy6j3ZOjY%3D,g_1:apple:gqIsrkrXdtQ%3D,g_1:screen,online_chips:macos:3Otg36ixqe4%3D&rlz=1C1CHZN_enZA940ZA940&sa=X&ved=2ahUKEwjU07yy3tPwAhWPwoUKHe4PBQMQ4lYoBXoECAEQKQ&biw=1499&bih=741\",\n",
    "    \"https://www.google.com/search?q=desktop&tbm=isch&hl=en-GB&chips=q:desktop,g_1:computer:kimy6j3ZOjY%3D,g_1:apple:gqIsrkrXdtQ%3D,g_1:screen,online_chips:macos:3Otg36ixqe4%3D,online_chips:pro:TgWY47stKI4%3D&rlz=1C1CHZN_enZA940ZA940&sa=X&ved=2ahUKEwjW-uK43tPwAhVV04UKHR_pDwwQ4lYoAHoECAEQIg&biw=1499&bih=741\",\n",
    "    \"https://www.google.com/search?q=desktop+hp&tbm=isch&ved=2ahUKEwiXl-jA3tPwAhWCwYUKHQx5Ci4Q2-cCegQIABAA&oq=desktop+hp&gs_lcp=CgNpbWcQAzICCAAyAggAMgIIADICCAAyAggAMgIIADICCAAyAggAMgIIADICCAA6BAgjECc6BwgAELEDEEM6BAgAEENQjzVYsDlgwTtoAHAAeACAAfECiAGcBZIBBTItMS4xmAEAoAEBqgELZ3dzLXdpei1pbWfAAQE&sclient=img&ei=B_ejYNf3DYKDlwSM8qnwAg&bih=741&biw=1499&rlz=1C1CHZN_enZA940ZA940&hl=en-GB\",\n",
    "    \"https://www.google.com/search?q=desktop+hp&tbm=isch&hl=en-GB&chips=q:desktop+hp,g_1:computer:yZJxjtCKINA%3D,g_1:windows:BW-EgKnGAOg%3D&rlz=1C1CHZN_enZA940ZA940&sa=X&ved=2ahUKEwi3jOHK3tPwAhUN8RoKHQn-A18Q4lYoBXoECAEQIQ&biw=1499&bih=741\",\n",
    "    \"https://www.google.com/search?q=desktop+accer&tbm=isch&ved=2ahUKEwi_0pXP3tPwAhUKrhoKHd4cBq8Q2-cCegQIABAA&oq=desktop+accer&gs_lcp=CgNpbWcQAzIGCAAQChAYOgIIADoECAAQQ1D1swFYmbkBYN2-AWgAcAB4AIABzAKIAfYLkgEFMi0yLjOYAQCgAQGqAQtnd3Mtd2l6LWltZ8ABAQ&sclient=img&ei=JfejYP-rFIrcat65mPgK&bih=741&biw=1499&rlz=1C1CHZN_enZA940ZA940&hl=en-GB\",\n",
    "    \"https://www.google.com/search?q=desktop+acer&tbm=isch&hl=en-GB&chips=q:desktop+acer,g_1:computer:jaZAkGqXmDg%3D&rlz=1C1CHZN_enZA940ZA940&sa=X&ved=2ahUKEwjo4Jjc3tPwAhUZKhoKHU9yDFIQ4lYoAXoECAEQGw&biw=1499&bih=741\",\n",
    "    \"https://www.google.com/search?q=desktop+acer&tbm=isch&hl=en-GB&chips=q:desktop+acer,g_1:computer:jaZAkGqXmDg%3D,online_chips:nitro:6WzspEDGdlo%3D&rlz=1C1CHZN_enZA940ZA940&sa=X&ved=2ahUKEwim7Jnh3tPwAhWRwoUKHd_GDE0Q4lYoBHoECAEQIA&biw=1499&bih=741\",\n",
    "    \"https://www.google.com/search?q=desktop+acer&tbm=isch&hl=en-GB&chips=q:desktop+acer,g_1:computer:jaZAkGqXmDg%3D,online_chips:nitro:6WzspEDGdlo%3D,online_chips:monitor:PfNj1TweFXc%3D&rlz=1C1CHZN_enZA940ZA940&sa=X&ved=2ahUKEwjD3OLm3tPwAhUK3RoKHV9GCukQ4lYoBnoECAEQKg&biw=1499&bih=741\",\n",
    "    \"https://www.google.com/search?q=desktops&tbm=isch&hl=en-GB&chips=q:desktops,g_1:apple:XH5tmwKq7yY%3D&rlz=1C1CHZN_enZA940ZA940&sa=X&ved=2ahUKEwjEw7WI39PwAhWDw4UKHb4yAhoQ4lYoB3oECAEQJw&biw=1499&bih=741\",\n",
    "    \"https://www.google.com/search?q=desktops&tbm=isch&hl=en-GB&chips=q:desktops,g_1:apple:XH5tmwKq7yY%3D,g_1:refurbished:HB_htCUFl7Q%3D&rlz=1C1CHZN_enZA940ZA940&sa=X&ved=2ahUKEwjo1vmN39PwAhU1gXMKHQdZC-4Q4lYoCHoECAEQKQ&biw=1499&bih=741\",\n",
    "    \"https://www.google.com/search?q=old+desktops&tbm=isch&ved=2ahUKEwjW36uX39PwAhXI04UKHfwcARcQ2-cCegQIABAA&oq=old+desktops&gs_lcp=CgNpbWcQAzIGCAAQBxAeMgYIABAHEB4yBggAEAcQHjIGCAAQBxAeMgYIABAHEB4yBggAEAcQHjIGCAAQBxAeMgYIABAHEB5Q90dY7E9gi1FoAHAAeACAAdoCiAG7B5IBAzMtM5gBAKABAaoBC2d3cy13aXotaW1nwAEB&sclient=img&ei=vPejYNaRKsinlwT8uYS4AQ&bih=741&biw=1499&rlz=1C1CHZN_enZA940ZA940&hl=en-GB\",\n",
    "    \"https://www.google.com/search?q=old+desktops&tbm=isch&hl=en-GB&chips=q:old+desktops,g_1:apple:jezeZA3NBgE%3D&rlz=1C1CHZN_enZA940ZA940&sa=X&ved=2ahUKEwjIq-Sd39PwAhUHQRoKHbvXBLoQ4lYoAXoECAEQGw&biw=1499&bih=741\",\n",
    "    \"https://www.google.com/search?q=old+desktops&tbm=isch&hl=en-GB&chips=q:old+desktops,g_1:apple:jezeZA3NBgE%3D,online_chips:imac+g3:sXf1xq3xwD8%3D&rlz=1C1CHZN_enZA940ZA940&sa=X&ved=2ahUKEwi9vbWk39PwAhVD8IUKHT1cDIYQ4lYoAHoECAEQHA&biw=1499&bih=741\",\n",
    "    \"https://www.google.com/search?q=old+desktops&tbm=isch&hl=en-GB&chips=q:old+desktops,g_1:apple:jezeZA3NBgE%3D,online_chips:imac+g3:sXf1xq3xwD8%3D,online_chips:macintosh:jaRF4fK2ISQ%3D,online_chips:molar:6jJo8w26voo%3D&rlz=1C1CHZN_enZA940ZA940&sa=X&ved=2ahUKEwjYns6v39PwAhWa4oUKHUbAAIYQ4lYoBXoECAEQKg&biw=1499&bih=741\",\n",
    "    \"https://www.google.com/search?q=new+desktops&tbm=isch&ved=2ahUKEwim7J2y39PwAhUNLxoKHYIhA1gQ2-cCegQIABAA&oq=new+desktops&gs_lcp=CgNpbWcQAzICCAAyBAgAEBgyBAgAEBgyBAgAEBhQ601Yo1Bg8VJoAHAAeACAAeECiAGnB5IBBTItMi4xmAEAoAEBqgELZ3dzLXdpei1pbWfAAQE&sclient=img&ei=9fejYOadBY3eaILDjMAF&bih=741&biw=1499&rlz=1C1CHZN_enZA940ZA940&hl=en-GB\",\n",
    "    \"https://www.google.com/search?q=new+desktops&tbm=isch&hl=en-GB&chips=q:latest+computers,g_1:apple:7q50nuSCtgI%3D&rlz=1C1CHZN_enZA940ZA940&sa=X&ved=2ahUKEwixsKO439PwAhUO1IUKHaJLCtgQ4lYoAHoECAEQGQ&biw=1499&bih=741\",\n",
    "    \"https://www.google.com/search?q=new+desktops&tbm=isch&hl=en-GB&chips=q:latest+computers,g_1:apple:7q50nuSCtgI%3D,online_chips:27+inch+imac:lU9S3SxXHXk%3D&rlz=1C1CHZN_enZA940ZA940&sa=X&ved=2ahUKEwis7I-_39PwAhUJZhoKHa6CCVkQ4lYoAXoECAEQHg&biw=1499&bih=741\",\n",
    "    \"https://www.google.com/search?q=new+desktops&tbm=isch&hl=en-GB&chips=q:latest+computers,g_1:today:xBxeqO5lVyM%3D&rlz=1C1CHZN_enZA940ZA940&sa=X&ved=2ahUKEwiBgPfK39PwAhUD-4UKHSGtCmgQ4lYoB3oECAEQJQ&biw=1499&bih=741\",\n",
    "    \"https://www.google.com/search?q=mac+desktops&tbm=isch&ved=2ahUKEwiZ64vM39PwAhVH5IUKHSKACn0Q2-cCegQIABAA&oq=mac+desktops&gs_lcp=CgNpbWcQAzIECAAQQzICCAAyBggAEAcQHjIGCAAQBxAeMgYIABAHEB4yBggAEAcQHjIGCAAQBxAeMgYIABAHEB4yBggAEAcQHjIGCAAQBxAeUN9iWKlmYKdqaABwAHgAgAHmAogBsAeSAQUyLTEuMpgBAKABAaoBC2d3cy13aXotaW1nwAEB&sclient=img&ei=K_ijYNmpE8fIlwSigKroBw&bih=741&biw=1499&rlz=1C1CHZN_enZA940ZA940&hl=en-GB\",\n",
    "    \"https://www.google.com/search?q=hp+desktops&tbm=isch&ved=2ahUKEwjDoOPT39PwAhVInRoKHWzqA6gQ2-cCegQIABAA&oq=hp+desktops&gs_lcp=CgNpbWcQA1CSZFj4Z2DcamgAcAB4AIAB7gOIAe4DkgEDNC0xmAEAoAEBqgELZ3dzLXdpei1pbWfAAQE&sclient=img&ei=O_ijYIOXGsi6auzUj8AK&bih=741&biw=1499&rlz=1C1CHZN_enZA940ZA940&hl=en-GB\",\n",
    "    \"https://www.google.com/search?q=sumsung+desktops&tbm=isch&ved=2ahUKEwiU4MPb39PwAhUB_BoKHa-JDmAQ2-cCegQIABAA&oq=sumsung+desktops&gs_lcp=CgNpbWcQA1C7OFjzRGDkR2gAcAB4AIAB9QKIAewOkgEFMi0yLjSYAQCgAQGqAQtnd3Mtd2l6LWltZ8ABAQ&sclient=img&ei=S_ijYNSOKoH4a6-TuoAG&bih=741&biw=1499&rlz=1C1CHZN_enZA940ZA940&hl=en-GB\",\n",
    "]"
   ]
  },
  {
   "cell_type": "markdown",
   "id": "advance-globe",
   "metadata": {},
   "source": [
    "### 5. headphones"
   ]
  },
  {
   "cell_type": "code",
   "execution_count": 6,
   "id": "constant-behalf",
   "metadata": {},
   "outputs": [],
   "source": [
    "headphone_urls =[\n",
    "    \"https://www.google.com/search?q=headphones&tbm=isch&ved=2ahUKEwi90_u94tPwAhWS_4UKHQGZAJgQ2-cCegQIABAA&oq=headphones&gs_lcp=CgNpbWcQAzIECCMQJzICCAAyAggAMgIIADICCAAyAggAMgIIADICCAAyAggAMgIIADoECAAQQzoFCAAQsQM6CAgAELEDEIMBUNXaAljw7AJgme4CaABwAHgAgAHaA4gBlxiSAQcyLTEuNy4xmAEAoAEBqgELZ3dzLXdpei1pbWfAAQE&sclient=img&ei=MvujYL3yPJL_lwSBsoLACQ&bih=741&biw=1499&rlz=1C1CHZN_enZA940ZA940&hl=en-GB\",\n",
    "    \"https://www.google.com/search?q=headphones&tbm=isch&hl=en-GB&chips=q:headphones,g_1:iphone:Xv959o_Aif0%3D&rlz=1C1CHZN_enZA940ZA940&sa=X&ved=2ahUKEwj20qDV4tPwAhUKdBoKHcx6C20Q4lYoAHoECAEQGQ&biw=1499&bih=741\",\n",
    "    \"https://www.google.com/search?q=headphones&tbm=isch&hl=en-GB&chips=q:headphones,g_1:iphone:Xv959o_Aif0%3D,g_1:bluetooth:Et47RviURqM%3D&rlz=1C1CHZN_enZA940ZA940&sa=X&ved=2ahUKEwiTsNve4tPwAhVKXxoKHUKoA6AQ4lYoAHoECAEQGw&biw=1499&bih=741\",\n",
    "    \"https://www.google.com/search?q=headphones&tbm=isch&hl=en-GB&chips=q:headphones,g_1:iphone:Xv959o_Aif0%3D,g_1:bluetooth:Et47RviURqM%3D,g_1:wireless:Nkc3OuRNtDU%3D,online_chips:baseus:VWs0L7IGDnU%3D&rlz=1C1CHZN_enZA940ZA940&sa=X&ved=2ahUKEwibjvbp4tPwAhWCwYUKHQx5Ci4Q4lYoAXoECAEQIg&biw=1499&bih=741\",\n",
    "    \"https://www.google.com/search?q=headphones&tbm=isch&hl=en-GB&chips=q:headphones,g_1:iphone:Xv959o_Aif0%3D,g_1:bluetooth:Et47RviURqM%3D,g_1:wireless:Nkc3OuRNtDU%3D,online_chips:baseus:VWs0L7IGDnU%3D,online_chips:earbuds:jFzc1BkL7GE%3D&rlz=1C1CHZN_enZA940ZA940&sa=X&ved=2ahUKEwiHuIDs4tPwAhWjgM4BHWRYAP8Q4lYoBXoECAEQLA&biw=1499&bih=741\",\n",
    "    \"https://www.google.com/search?q=headphones&tbm=isch&hl=en-GB&chips=q:headphones,g_1:anime:fTSwe4v99iI%3D&rlz=1C1CHZN_enZA940ZA940&sa=X&ved=2ahUKEwjQtYj84tPwAhUSbRoKHYDtABsQ4lYoA3oECAEQHw&biw=1499&bih=741\",\n",
    "    \"https://www.google.com/search?q=headphones&tbm=isch&hl=en-GB&chips=q:headphones,g_1:music:sv3vM7iEP3k%3D&rlz=1C1CHZN_enZA940ZA940&sa=X&ved=2ahUKEwiPwPeE49PwAhVC44UKHThjAscQ4lYoBHoECAEQIQ&biw=1499&bih=741\",\n",
    "    \"https://www.google.com/search?q=headphones&tbm=isch&hl=en-GB&chips=q:headphones,g_1:music:sv3vM7iEP3k%3D,g_1:listening:SneDroP8D7E%3D&rlz=1C1CHZN_enZA940ZA940&sa=X&ved=2ahUKEwj9v56G49PwAhVJQRoKHUbFCksQ4lYoAnoECAEQHw&biw=1499&bih=741\",\n",
    "    \"https://www.google.com/search?q=headphones&tbm=isch&hl=en-GB&chips=q:headphones,g_1:apple:8vJUK9RlC1E%3D&rlz=1C1CHZN_enZA940ZA940&sa=X&ved=2ahUKEwixpJ2U49PwAhUB0oUKHQeWCNgQ4lYoBXoECAEQIw&biw=1499&bih=741\",\n",
    "    \"https://www.google.com/search?q=headphones&tbm=isch&hl=en-GB&chips=q:headphones,g_1:apple:8vJUK9RlC1E%3D,g_1:black:FZwVHjOJ42s%3D&rlz=1C1CHZN_enZA940ZA940&sa=X&ved=2ahUKEwiD7_yW49PwAhUMixoKHfNaApoQ4lYoCHoECAEQKw&biw=1499&bih=741\",\n",
    "    \"https://www.google.com/search?q=headphones&tbm=isch&hl=en-GB&chips=q:headphones,g_1:apple:8vJUK9RlC1E%3D,g_1:black:FZwVHjOJ42s%3D,online_chips:airpods+max:jXOdmhnppF4%3D&rlz=1C1CHZN_enZA940ZA940&sa=X&ved=2ahUKEwjg3vee49PwAhXKwoUKHQwgB50Q4lYoAXoECAEQIA&biw=1499&bih=741\",\n",
    "    \"https://www.google.com/search?q=headphones&tbm=isch&hl=en-GB&chips=q:headphones,g_1:apple:8vJUK9RlC1E%3D,g_1:black:FZwVHjOJ42s%3D,online_chips:airpods+max:jXOdmhnppF4%3D,online_chips:space+gray:5CJUFoc-OW8%3D&rlz=1C1CHZN_enZA940ZA940&sa=X&ved=2ahUKEwibk4aj49PwAhXT_IUKHTU4C7sQ4lYoAnoECAEQJA&biw=1499&bih=741\",\n",
    "    \"https://www.google.com/search?q=headphones&tbm=isch&hl=en-GB&chips=q:headphones,g_1:apple:8vJUK9RlC1E%3D,g_1:black:FZwVHjOJ42s%3D,online_chips:airpods+max:jXOdmhnppF4%3D,online_chips:space+gray:5CJUFoc-OW8%3D,online_chips:amazon:rICv2u-Lw5A%3D&rlz=1C1CHZN_enZA940ZA940&sa=X&ved=2ahUKEwi3lvyn49PwAhUX4RoKHW3XA-AQ4lYoAXoECAEQJA&biw=1499&bih=741\",\n",
    "    \"https://www.google.com/search?q=headphones&tbm=isch&hl=en-GB&chips=q:headphones,g_1:apple:8vJUK9RlC1E%3D,g_1:black:FZwVHjOJ42s%3D,online_chips:airpods+max:jXOdmhnppF4%3D,online_chips:space+gray:5CJUFoc-OW8%3D,online_chips:amazon:rICv2u-Lw5A%3D,online_chips:sony:7taMthAGEiI%3D&rlz=1C1CHZN_enZA940ZA940&sa=X&ved=2ahUKEwiHuJOs49PwAhUqgHMKHYFqAjoQ4lYoAXoECAEQJg&biw=1499&bih=741\",\n",
    "    \"https://www.google.com/search?q=headphones&tbm=isch&hl=en-GB&chips=q:headphones,g_1:apple:8vJUK9RlC1E%3D,g_1:black:FZwVHjOJ42s%3D,online_chips:airpods+max:jXOdmhnppF4%3D,online_chips:space+gray:5CJUFoc-OW8%3D,online_chips:amazon:rICv2u-Lw5A%3D,online_chips:sony:7taMthAGEiI%3D,online_chips:noise+cancelling+headphones:aRfiqVZ37CY%3D&rlz=1C1CHZN_enZA940ZA940&sa=X&ved=2ahUKEwiPrZCx49PwAhUQSxoKHXj5AJoQ4lYoA3oECAEQLA&biw=1499&bih=741\",\n",
    "    \"https://www.google.com/search?q=headphones&tbm=isch&hl=en-GB&chips=q:headphones,g_1:samsung:H7Aj0J0JlYk%3D&rlz=1C1CHZN_enZA940ZA940&sa=X&ved=2ahUKEwj395K849PwAhVJ_4UKHSl2BI0Q4lYoB3oECAEQJw&biw=1499&bih=741\",\n",
    "]"
   ]
  },
  {
   "cell_type": "markdown",
   "id": "double-thousand",
   "metadata": {},
   "source": [
    "### 6. remote"
   ]
  },
  {
   "cell_type": "code",
   "execution_count": 7,
   "id": "dress-karaoke",
   "metadata": {},
   "outputs": [],
   "source": [
    "remote_urls =[\n",
    "    \"https://www.google.com/search?q=remotes&tbm=isch&ved=2ahUKEwiJss7o39PwAhUE_BoKHfBAAm8Q2-cCegQIABAA&oq=remotes&gs_lcp=CgNpbWcQAzIECCMQJzIECAAQQzICCAAyAggAMgIIADICCAAyCAgAELEDEIMBMgIIADICCAAyAggAOgUIABCxAzoECAAQA1Cm5wJYwfICYL_0AmgAcAB4AIABoASIAZsTkgEHMy0zLjIuMZgBAKABAaoBC2d3cy13aXotaW1nwAEB&sclient=img&ei=Z_ijYMniB4T4a_CBifgG&bih=741&biw=1499&rlz=1C1CHZN_enZA940ZA940&hl=en-GB\",\n",
    "    \"https://www.google.com/search?q=remotes&tbm=isch&hl=en-GB&chips=q:remotes,g_1:samsung:f28CGTfgd0I%3D&rlz=1C1CHZN_enZA940ZA940&sa=X&ved=2ahUKEwiZoLGA4NPwAhXDwoUKHfUnBPQQ4lYoAXoECAEQGw&biw=1499&bih=741\",\n",
    "    \"https://www.google.com/search?q=remotes&tbm=isch&hl=en-GB&chips=q:remotes,g_1:samsung:f28CGTfgd0I%3D,g_1:smart+tv:uctqnEZ90nI%3D&rlz=1C1CHZN_enZA940ZA940&sa=X&ved=2ahUKEwi25puF4NPwAhXZ0YUKHcz1BI4Q4lYoAHoECAEQGw&biw=1499&bih=741\",\n",
    "    \"https://www.google.com/search?q=remotes&tbm=isch&hl=en-GB&chips=q:remotes,g_1:samsung:f28CGTfgd0I%3D,g_1:smart+tv:uctqnEZ90nI%3D,online_chips:samsung+bn59+01199f:YK5z1a_olgk%3D&rlz=1C1CHZN_enZA940ZA940&sa=X&ved=2ahUKEwiSoIyJ4NPwAhUNXxoKHVH1BioQ4lYoA3oECAEQIg&biw=1499&bih=741\",\n",
    "    \"https://www.google.com/search?q=remotes&tbm=isch&hl=en-GB&chips=q:remotes,g_1:samsung:f28CGTfgd0I%3D,g_1:smart+tv:uctqnEZ90nI%3D,online_chips:samsung+bn59+01199f:YK5z1a_olgk%3D,online_chips:bn59+01301a:8itdc7PzO_A%3D&rlz=1C1CHZN_enZA940ZA940&sa=X&ved=2ahUKEwjIscyP4NPwAhVNpBoKHUkpAuoQ4lYoAHoECAEQIA&biw=1499&bih=741\",\n",
    "    \"https://www.google.com/search?q=remotes&tbm=isch&hl=en-GB&chips=q:remotes,g_1:samsung:f28CGTfgd0I%3D,g_1:smart+tv:uctqnEZ90nI%3D,online_chips:samsung+bn59+01199f:YK5z1a_olgk%3D,online_chips:bn59+01301a:8itdc7PzO_A%3D,online_chips:red:ExzNZrDa0g4%3D&rlz=1C1CHZN_enZA940ZA940&sa=X&ved=2ahUKEwjwyLSU4NPwAhUY_4UKHQuFAksQ4lYoAHoECAEQIg&biw=1499&bih=741\",\n",
    "    \"https://www.google.com/search?q=remotes&tbm=isch&hl=en-GB&chips=q:remotes,g_1:smart+tv:gGsvw_-41zY%3D&rlz=1C1CHZN_enZA940ZA940&sa=X&ved=2ahUKEwirip-i4NPwAhXT_IUKHTU4C7sQ4lYoAnoECAEQHQ&biw=1499&bih=741\",\n",
    "    \"https://www.google.com/search?q=remotes&tbm=isch&hl=en-GB&chips=q:remotes,g_1:smart+tv:gGsvw_-41zY%3D,g_1:universal:g23irPcf-48%3D&rlz=1C1CHZN_enZA940ZA940&sa=X&ved=2ahUKEwiuwfqj4NPwAhUB44UKHeY3DRoQ4lYoAXoECAEQHQ&biw=1499&bih=741\",\n",
    "    \"https://www.google.com/search?q=remotes&tbm=isch&hl=en-GB&chips=q:remotes,g_1:smart+tv:gGsvw_-41zY%3D,g_1:universal:g23irPcf-48%3D,online_chips:sony:gIR4myfQ6b8%3D&rlz=1C1CHZN_enZA940ZA940&sa=X&ved=2ahUKEwj94b-q4NPwAhVNXxoKHRZrCEUQ4lYoAnoECAEQIg&biw=1499&bih=741\",\n",
    "    \"https://www.google.com/search?q=remotes&tbm=isch&hl=en-GB&chips=q:remotes,g_1:smart+tv:gGsvw_-41zY%3D,g_1:universal:g23irPcf-48%3D,online_chips:sony:gIR4myfQ6b8%3D,online_chips:netflix:Ij9rKeT-NNo%3D&rlz=1C1CHZN_enZA940ZA940&sa=X&ved=2ahUKEwjqhI-v4NPwAhVCaBoKHdOKDXYQ4lYoAHoECAEQIA&biw=1499&bih=741\",\n",
    "    \"https://www.google.com/search?q=remotes&tbm=isch&hl=en-GB&chips=q:remotes,g_1:smart+tv:gGsvw_-41zY%3D,g_1:universal:g23irPcf-48%3D,online_chips:sony:gIR4myfQ6b8%3D,online_chips:netflix:Ij9rKeT-NNo%3D,online_chips:sony+bravia+tv:gIR4myfQ6b8%3D&rlz=1C1CHZN_enZA940ZA940&sa=X&ved=2ahUKEwjekO2z4NPwAhUX7xoKHUbCA9UQ4lYoAXoECAEQJA&biw=1499&bih=741\",\n",
    "    \"https://www.google.com/search?q=remotes+tv&tbm=isch&ved=2ahUKEwiFhbq74NPwAhVRQRoKHYU8Cb8Q2-cCegQIABAA&oq=remotes+tv&gs_lcp=CgNpbWcQAzICCAAyBggAEAgQHjIGCAAQCBAeMgYIABAIEB4yBggAEAgQHjIGCAAQCBAeMgYIABAIEB4yBggAEAgQHjIGCAAQCBAeMgYIABAIEB46BggAEAUQHlDnTVjNU2CsVmgAcAB4AIAB4gKIAbwHkgEDMy0zmAEAoAEBqgELZ3dzLXdpei1pbWfAAQE&sclient=img&ei=FPmjYIWrNNGCaYX5pPgL&bih=741&biw=1499&rlz=1C1CHZN_enZA940ZA940&hl=en-GB\",\n",
    "    \"https://www.google.com/search?q=remotes+tv&tbm=isch&hl=en-GB&chips=q:remote+control+television,online_chips:hisense:W9J5zPvcQOI%3D&rlz=1C1CHZN_enZA940ZA940&sa=X&ved=2ahUKEwjawt7B4NPwAhUZ0oUKHc3lB18Q4lYoBHoECAEQHg&biw=1499&bih=741\",\n",
    "    \"https://www.google.com/search?q=remotes+tv&tbm=isch&hl=en-GB&chips=q:remote+control+television,online_chips:hisense:W9J5zPvcQOI%3D,online_chips:urc+1916:1SqFL0_yBN0%3D&rlz=1C1CHZN_enZA940ZA940&sa=X&ved=2ahUKEwiYl6bH4NPwAhXBwIUKHZX5DaoQ4lYoBnoECAEQKA&biw=1499&bih=741\",\n",
    "    \"https://www.google.com/search?q=remotes+tv&tbm=isch&hl=en-GB&chips=q:remote+control+television,online_chips:hisense:W9J5zPvcQOI%3D,online_chips:urc+1916:1SqFL0_yBN0%3D,online_chips:replacement:GfYrQdR7ReE%3D&rlz=1C1CHZN_enZA940ZA940&sa=X&ved=2ahUKEwj527DM4NPwAhUJgM4BHQixBOgQ4lYoA3oECAEQJA&biw=1499&bih=741\",\n",
    "]"
   ]
  },
  {
   "cell_type": "markdown",
   "id": "arctic-agent",
   "metadata": {},
   "source": [
    "### 7. television"
   ]
  },
  {
   "cell_type": "code",
   "execution_count": 8,
   "id": "divided-basement",
   "metadata": {},
   "outputs": [],
   "source": [
    "television_urls =[\n",
    "    \"https://www.google.com/search?q=tv&tbm=isch&ved=2ahUKEwisnPDa4NPwAhXD34UKHZU1D98Q2-cCegQIABAA&oq=tv&gs_lcp=CgNpbWcQA1D5mwNY_Z0DYLqhA2gAcAB4AIABAIgBAJIBAJgBAKABAaoBC2d3cy13aXotaW1nwAEB&sclient=img&ei=VvmjYKyZLsO_lwSV67z4DQ&bih=741&biw=1499&rlz=1C1CHZN_enZA940ZA940&hl=en-GB\",\n",
    "    \"https://www.google.com/search?q=television&tbm=isch&ved=2ahUKEwjiuJ714NPwAhVCaBoKHdOKDXYQ2-cCegQIABAA&oq=tele&gs_lcp=CgNpbWcQARgAMgQIIxAnMgcIABCxAxBDMgQIABBDMgQIABBDMgQIABBDMgQIABBDMgUIABCxAzIFCAAQsQMyBQgAELEDMgIIAFDPSli8TmDKXGgAcAB4AIAB6QKIAacKkgEDMy00mAEAoAEBqgELZ3dzLXdpei1pbWfAAQE&sclient=img&ei=jvmjYOK5AsLQadOVtrAH&bih=741&biw=1499&rlz=1C1CHZN_enZA940ZA940&hl=en-GB\",\n",
    "    \"https://www.google.com/search?q=television&tbm=isch&hl=en-GB&chips=q:television,g_1:flat+screen:s92X_gzuDt0%3D&rlz=1C1CHZN_enZA940ZA940&sa=X&ved=2ahUKEwjIo_L74NPwAhXCIRoKHdKtCq0Q4lYoAXoECAEQGw&biw=1499&bih=741\",\n",
    "    \"https://www.google.com/search?q=television&tbm=isch&hl=en-GB&chips=q:television,g_1:flat+screen:s92X_gzuDt0%3D,g_1:wall+mounted:5V48Iw5mAug%3D&rlz=1C1CHZN_enZA940ZA940&sa=X&ved=2ahUKEwiYhuOA4dPwAhWQwoUKHYk5DucQ4lYoAHoECAEQGw&biw=1499&bih=741\",\n",
    "    \"https://www.google.com/search?q=television&tbm=isch&hl=en-GB&chips=q:television,g_1:flat+screen:s92X_gzuDt0%3D,g_1:wall+mounted:5V48Iw5mAug%3D,online_chips:hide:98IyqOw32jw%3D&rlz=1C1CHZN_enZA940ZA940&sa=X&ved=2ahUKEwjnzdyE4dPwAhUD_xoKHRNcCPAQ4lYoAHoECAEQHg&biw=1499&bih=741\",\n",
    "    \"https://www.google.com/search?q=television&tbm=isch&hl=en-GB&chips=q:television,g_1:old:Euqu0D9myN8%3D&rlz=1C1CHZN_enZA940ZA940&sa=X&ved=2ahUKEwjI0ZuR4dPwAhVa0oUKHUGHBpkQ4lYoAHoECAEQGQ&biw=1499&bih=741\",\n",
    "    \"https://www.google.com/search?q=television&tbm=isch&hl=en-GB&chips=q:television,g_1:old:Euqu0D9myN8%3D,g_1:90%27s:BhxlwaO_qnI%3D&rlz=1C1CHZN_enZA940ZA940&sa=X&ved=2ahUKEwjylIaT4dPwAhVngM4BHRSnDEoQ4lYoAnoECAEQHw&biw=1499&bih=741\",\n",
    "    \"https://www.google.com/search?q=television&tbm=isch&hl=en-GB&chips=q:television,g_1:old:Euqu0D9myN8%3D,g_1:90%27s:BhxlwaO_qnI%3D,online_chips:png:ptf7dMy3bwc%3D&rlz=1C1CHZN_enZA940ZA940&sa=X&ved=2ahUKEwi6or6Y4dPwAhVI0YUKHZnFDgYQ4lYoA3oECAEQJA&biw=1499&bih=741\",\n",
    "    \"https://www.google.com/search?q=television&tbm=isch&hl=en-GB&chips=q:television,g_1:wall:fZUuGRBYG5w%3D&rlz=1C1CHZN_enZA940ZA940&sa=X&ved=2ahUKEwinqqKk4dPwAhUGhhoKHUgXAQUQ4lYoBXoECAEQIw&biw=1499&bih=741\",\n",
    "    \"https://www.google.com/search?q=television&tbm=isch&hl=en-GB&chips=q:television,g_1:wall:fZUuGRBYG5w%3D,g_1:living+room:9mhbALUE_0I%3D&rlz=1C1CHZN_enZA940ZA940&sa=X&ved=2ahUKEwiL6uml4dPwAhVGwYUKHcBaC-IQ4lYoAHoECAEQGw&biw=1499&bih=741\",\n",
    "    \"https://www.google.com/search?q=television&tbm=isch&hl=en-GB&chips=q:television,g_1:samsung:faIdqxM1imY%3D&rlz=1C1CHZN_enZA940ZA940&sa=X&ved=2ahUKEwj_tbiy4dPwAhUHw4UKHYwWCgQQ4lYoBnoECAEQJQ&biw=1499&bih=741\",\n",
    "    \"https://www.google.com/search?q=television&tbm=isch&hl=en-GB&chips=q:television,g_1:samsung:faIdqxM1imY%3D,g_1:32+inch:n9vlCTiJtTE%3D&rlz=1C1CHZN_enZA940ZA940&sa=X&ved=2ahUKEwjy5fC04dPwAhUjgXMKHfxpDrsQ4lYoAHoECAEQGw&biw=1499&bih=741\",\n",
    "    \"https://www.google.com/search?q=television&tbm=isch&hl=en-GB&chips=q:television,g_1:samsung:faIdqxM1imY%3D,g_1:32+inch:n9vlCTiJtTE%3D,online_chips:price:AjKnWzX3NeU%3D&rlz=1C1CHZN_enZA940ZA940&sa=X&ved=2ahUKEwivypy64dPwAhWE34UKHWl5DLgQ4lYoAHoECAEQHg&biw=1499&bih=741\",\n",
    "    \"https://www.google.com/search?q=television&tbm=isch&hl=en-GB&chips=q:television,g_1:samsung:faIdqxM1imY%3D,g_1:32+inch:n9vlCTiJtTE%3D,online_chips:price:AjKnWzX3NeU%3D,online_chips:full+hd:bUJsfnqD9vY%3D&rlz=1C1CHZN_enZA940ZA940&sa=X&ved=2ahUKEwit5cW84dPwAhWW_IUKHfngCIwQ4lYoAXoECAEQIg&biw=1499&bih=741\",\n",
    "    \"https://www.google.com/search?q=television+huge&tbm=isch&ved=2ahUKEwjKmJnE4dPwAhUS_BoKHRlRAloQ2-cCegQIABAA&oq=television+huge&gs_lcp=CgNpbWcQAzIGCAAQCBAeMgYIABAIEB4yBggAEAgQHjIGCAAQCBAeMgYIABAIEB4yBggAEAgQHjIGCAAQBRAeOgQIABBDOgIIAFCTPVjMR2DWSWgAcAB4AIABvQOIAdkKkgEHMi0xLjIuMZgBAKABAaoBC2d3cy13aXotaW1nwAEB&sclient=img&ei=M_qjYIqzJpL4a5miidAF&bih=741&biw=1499&rlz=1C1CHZN_enZA940ZA940&hl=en-GB\",\n",
    "    \"https://www.google.com/search?q=television+huge&tbm=isch&hl=en-GB&chips=q:tv+huge,g_1:flat+screen:kyVciMvVSec%3D&rlz=1C1CHZN_enZA940ZA940&sa=X&ved=2ahUKEwjT5YnK4dPwAhUVahoKHbmxBcAQ4lYoAXoECAEQGw&biw=1499&bih=741\",\n",
    "    \"https://www.google.com/search?q=television+huge&tbm=isch&hl=en-GB&chips=q:tv+huge,g_1:flat+screen:kyVciMvVSec%3D,online_chips:samsung+110+inch:7VdTqnantf4%3D&rlz=1C1CHZN_enZA940ZA940&sa=X&ved=2ahUKEwiP5pvP4dPwAhVK0YUKHVBIDOoQ4lYoAXoECAEQHg&biw=1499&bih=741\",\n",
    "    \"https://www.google.com/search?q=television+huge&tbm=isch&hl=en-GB&chips=q:tv+huge,g_1:flat+screen:kyVciMvVSec%3D,online_chips:samsung+110+inch:7VdTqnantf4%3D,online_chips:biggest:cCjnU1t0Tw8%3D&rlz=1C1CHZN_enZA940ZA940&sa=X&ved=2ahUKEwibuvvU4dPwAhUXbRoKHWGCAhIQ4lYoAHoECAEQHg&biw=1499&bih=741\",\n",
    "]"
   ]
  },
  {
   "cell_type": "markdown",
   "id": "stable-example",
   "metadata": {},
   "source": [
    "### 8. charger"
   ]
  },
  {
   "cell_type": "code",
   "execution_count": 9,
   "id": "killing-mobile",
   "metadata": {},
   "outputs": [],
   "source": [
    "charger_urls = [\n",
    "    \"https://www.google.com/search?q=phone+charger&tbm=isch&ved=2ahUKEwjVvYXF5dPwAhVW_4UKHRG5ChAQ2-cCegQIABAA&oq=phone+char&gs_lcp=CgNpbWcQARgAMgIIADICCAAyAggAMgIIADICCAAyAggAMgIIADICCAAyAggAMgIIADoECCMQJzoICAAQsQMQgwE6BQgAELEDOgQIABBDOgcIABCxAxBDULOXAli3qQJgu70CaABwAHgAgAGXA4gB6xqSAQcyLTEuOC4xmAEAoAEBqgELZ3dzLXdpei1pbWfAAQE&sclient=img&ei=Z_6jYJXuCNb-lwSR8qqAAQ&bih=741&biw=1499&rlz=1C1CHZN_enZA940ZA940&hl=en-GB\",\n",
    "    \"https://www.google.com/search?q=phone+charger&tbm=isch&hl=en-GB&chips=q:phone+charger,g_1:iphone:wRCmS35zri4%3D&rlz=1C1CHZN_enZA940ZA940&sa=X&ved=2ahUKEwinwbjZ5dPwAhUa_hoKHSzZDd8Q4lYoAHoECAEQGQ&biw=1499&bih=741\",\n",
    "    \"https://www.google.com/search?q=phone+charger&tbm=isch&hl=en-GB&chips=q:phone+charger,g_1:iphone:wRCmS35zri4%3D,g_1:adapter:bpP6CQcVZPw%3D&rlz=1C1CHZN_enZA940ZA940&sa=X&ved=2ahUKEwiV6vbg5dPwAhVFMRoKHYTrB18Q4lYoAXoECAEQHQ&biw=1499&bih=741\",\n",
    "    \"https://www.google.com/search?q=phone+charger&tbm=isch&hl=en-GB&chips=q:phone+charger,g_1:iphone:wRCmS35zri4%3D,g_1:adapter:bpP6CQcVZPw%3D&rlz=1C1CHZN_enZA940ZA940&sa=X&ved=2ahUKEwiV6vbg5dPwAhVFMRoKHYTrB18Q4lYoAXoECAEQHQ&biw=1499&bih=741\",\n",
    "    \"https://www.google.com/search?q=phone+charger&tbm=isch&hl=en-GB&chips=q:phone+charger,g_1:portable:sUGZ8rTVo6U%3D&rlz=1C1CHZN_enZA940ZA940&sa=X&ved=2ahUKEwii9uD35dPwAhWa4oUKHUbAAIYQ4lYoAXoECAEQGw&biw=1499&bih=741\",\n",
    "    \"https://www.google.com/search?q=phone+charger&tbm=isch&hl=en-GB&chips=q:phone+charger,g_1:portable:sUGZ8rTVo6U%3D,g_1:power+bank:knuTmQJ8uT4%3D&rlz=1C1CHZN_enZA940ZA940&sa=X&ved=2ahUKEwjvoJP55dPwAhXLw-AKHUupBjQQ4lYoAXoECAEQHQ&biw=1499&bih=741\",\n",
    "    \"https://www.google.com/search?q=laptop+charger&tbm=isch&ved=2ahUKEwiixZz_5dPwAhUS0BoKHYieBKMQ2-cCegQIABAA&oq=laptop+charger&gs_lcp=CgNpbWcQAzICCAAyAggAMgIIADICCAAyAggAMgIIADICCAAyAggAMgIIADICCAA6BggAEAcQHlDibljzd2CCfGgAcAB4AIABowOIAdwQkgEFMy01LjGYAQCgAQGqAQtnd3Mtd2l6LWltZ8ABAQ&sclient=img&ei=4f6jYOLQCZKga4i9kpgK&bih=741&biw=1499&rlz=1C1CHZN_enZA940ZA940&hl=en-GB\",\n",
    "    \"https://www.google.com/search?q=laptop+charger&tbm=isch&hl=en-GB&chips=q:laptop+charger,g_1:car:-7BeAGs15xY%3D&rlz=1C1CHZN_enZA940ZA940&sa=X&ved=2ahUKEwiBqt2H5tPwAhULvBoKHXauC4AQ4lYoAXoECAEQGw&biw=1499&bih=741\",\n",
    "    \"https://www.google.com/search?q=laptop+charger&tbm=isch&hl=en-GB&chips=q:laptop+charger,g_1:car:-7BeAGs15xY%3D,g_1:universal:wCVgX__COAM%3D&rlz=1C1CHZN_enZA940ZA940&sa=X&ved=2ahUKEwijkNKN5tPwAhUM5IUKHWzaDXMQ4lYoAXoECAEQHQ&biw=1499&bih=741\",\n",
    "    \"https://www.google.com/search?q=laptop+charger&tbm=isch&hl=en-GB&chips=q:laptop+charger,g_1:hp+pavilion:urXdGz7yGBA%3D&rlz=1C1CHZN_enZA940ZA940&sa=X&ved=2ahUKEwiAh7ic5tPwAhUZ5hoKHV_wAi0Q4lYoBXoECAEQIw&biw=1499&bih=741\",\n",
    "    \"https://www.google.com/search?q=laptop+charger&tbm=isch&hl=en-GB&chips=q:laptop+charger,g_1:hp+pavilion:urXdGz7yGBA%3D,online_chips:hp+elitebook:65B52Vq3pNw%3D&rlz=1C1CHZN_enZA940ZA940&sa=X&ved=2ahUKEwigmoOe5tPwAhXSw4UKHRPCCVAQ4lYoCHoECAEQJg&biw=1499&bih=741\",\n",
    "    \"https://www.google.com/search?q=laptop+charger&tbm=isch&hl=en-GB&chips=q:laptop+charger,g_1:hp+pavilion:urXdGz7yGBA%3D,online_chips:hp+elitebook:65B52Vq3pNw%3D,online_chips:usb+c:i4oNSNZUypc%3D&rlz=1C1CHZN_enZA940ZA940&sa=X&ved=2ahUKEwjrpv-j5tPwAhUIdBoKHVF9AQEQ4lYoA3oECAEQJA&biw=1499&bih=741\",\n",
    "    \"https://www.google.com/search?q=laptop+charger&tbm=isch&hl=en-GB&chips=q:laptop+charger,g_1:hp+pavilion:urXdGz7yGBA%3D,online_chips:hp+elitebook:65B52Vq3pNw%3D,online_chips:usb+c:i4oNSNZUypc%3D,online_chips:car+charger:_wDsQhtqNjM%3D&rlz=1C1CHZN_enZA940ZA940&sa=X&ved=2ahUKEwjsl9Ko5tPwAhUH0xoKHSojBnwQ4lYoAXoECAEQIg&biw=1499&bih=741\",\n",
    "]"
   ]
  },
  {
   "cell_type": "markdown",
   "id": "under-contributor",
   "metadata": {},
   "source": [
    "### 9. mouse"
   ]
  },
  {
   "cell_type": "code",
   "execution_count": 10,
   "id": "standard-logic",
   "metadata": {},
   "outputs": [],
   "source": [
    "mouse_urls =[\n",
    "    \"https://www.google.com/search?q=laptop+mouse&tbm=isch&ved=2ahUKEwiA8fi_49PwAhUS8xoKHY2AC4gQ2-cCegQIABAA&oq=laptop+mouse&gs_lcp=CgNpbWcQAzIECCMQJzICCAAyAggAMgIIADICCAAyAggAMgIIADICCAAyAggAMgIIADoECAAQQzoFCAAQsQM6BwgAELEDEEM6CggAELEDEIMBEENQ1OUGWPaEB2CSiAdoAHAAeACAAdIDiAHcIJIBBzItNS40LjOYAQCgAQGqAQtnd3Mtd2l6LWltZ8ABAQ&sclient=img&ei=Q_yjYMDDI5Lma42BrsAI&bih=741&biw=1499&rlz=1C1CHZN_enZA940ZA940&hl=en-GB\",\n",
    "    \"https://www.google.com/search?q=laptop+mouse&tbm=isch&hl=en-GB&chips=q:laptop+mouse,g_1:gaming:8ZplmmUMd_I%3D&rlz=1C1CHZN_enZA940ZA940&sa=X&ved=2ahUKEwjUwYD449PwAhVDwIUKHRf2CHUQ4lYoAXoECAEQGw&biw=1499&bih=741\",\n",
    "    \"https://www.google.com/search?q=laptop+mouse&tbm=isch&hl=en-GB&chips=q:laptop+mouse,g_1:gaming:8ZplmmUMd_I%3D,g_1:wireless:rGW_4TbCu8Q%3D&rlz=1C1CHZN_enZA940ZA940&sa=X&ved=2ahUKEwic6MaC5NPwAhWNgc4BHXy-BqwQ4lYoAHoECAEQGw&biw=1499&bih=741\",\n",
    "    \"https://www.google.com/search?q=laptop+mouse&tbm=isch&hl=en-GB&chips=q:laptop+mouse,g_1:gaming:8ZplmmUMd_I%3D,g_1:wireless:rGW_4TbCu8Q%3D,online_chips:remax:k2vvtVQdrqE%3D&rlz=1C1CHZN_enZA940ZA940&sa=X&ved=2ahUKEwidt-eG5NPwAhWI0oUKHWwzA58Q4lYoA3oECAEQJA&biw=1499&bih=741\",\n",
    "    \"https://www.google.com/search?q=laptop+mouse&tbm=isch&hl=en-GB&chips=q:laptop+mouse,g_1:gaming:8ZplmmUMd_I%3D,g_1:wireless:rGW_4TbCu8Q%3D,online_chips:remax:k2vvtVQdrqE%3D,online_chips:computer+mouse:s8FlviEEZ7Q%3D&rlz=1C1CHZN_enZA940ZA940&sa=X&ved=2ahUKEwj2z_6L5NPwAhULRxQKHV4XARkQ4lYoBXoECAEQKg&biw=1499&bih=741\",\n",
    "    \"https://www.google.com/search?q=laptop+mouse&tbm=isch&hl=en-GB&chips=q:laptop+mouse,g_1:gaming:8ZplmmUMd_I%3D,g_1:wireless:rGW_4TbCu8Q%3D,online_chips:remax:k2vvtVQdrqE%3D,online_chips:computer+mouse:s8FlviEEZ7Q%3D,online_chips:wired:FfvDjEhDzus%3D&rlz=1C1CHZN_enZA940ZA940&sa=X&ved=2ahUKEwjtstGR5NPwAhUC4oUKHdH_DJUQ4lYoAHoECAEQIg&biw=1499&bih=741\",\n",
    "    \"https://www.google.com/search?q=laptop+mouse&tbm=isch&hl=en-GB&chips=q:laptop+mouse,g_1:gaming:8ZplmmUMd_I%3D,g_1:wireless:rGW_4TbCu8Q%3D,online_chips:remax:k2vvtVQdrqE%3D,online_chips:computer+mouse:s8FlviEEZ7Q%3D,online_chips:wired:FfvDjEhDzus%3D,online_chips:hxsj:cEWQbyvC2og%3D&rlz=1C1CHZN_enZA940ZA940&sa=X&ved=2ahUKEwiRk9GW5NPwAhUT4RoKHXo9D-8Q4lYoAnoECAEQKA&biw=1499&bih=741\",\n",
    "    \"https://www.google.com/search?q=laptop+mouse&tbm=isch&hl=en-GB&chips=q:laptop+mouse,g_1:small:IB0OWrcrirs%3D&rlz=1C1CHZN_enZA940ZA940&sa=X&ved=2ahUKEwjS_seh5NPwAhUHQRoKHbvXBLoQ4lYoBnoECAEQJQ&biw=1499&bih=741\",\n",
    "    \"https://www.google.com/search?q=laptop+mouse&tbm=isch&hl=en-GB&chips=q:laptop+mouse,g_1:small:IB0OWrcrirs%3D,online_chips:mini+wireless+mouse:Ay2t7yfBL2I%3D&rlz=1C1CHZN_enZA940ZA940&sa=X&ved=2ahUKEwjo5-ui5NPwAhXx8OAKHeK5AVIQ4lYoBHoECAEQIQ&biw=1499&bih=741\",\n",
    "    \"https://www.google.com/search?q=laptop+mouse&tbm=isch&hl=en-GB&chips=q:laptop+mouse,g_1:small:IB0OWrcrirs%3D,online_chips:mini+wireless+mouse:Ay2t7yfBL2I%3D,online_chips:ergonomic+mouse:HtszQuo-Uog%3D&rlz=1C1CHZN_enZA940ZA940&sa=X&ved=2ahUKEwi7rrmn5NPwAhUX4RoKHW3XA-AQ4lYoAXoECAEQIA&biw=1499&bih=741\",\n",
    "    \"https://www.google.com/search?q=laptop+mouse&tbm=isch&hl=en-GB&chips=q:laptop+mouse,g_1:small:IB0OWrcrirs%3D,online_chips:mini+wireless+mouse:Ay2t7yfBL2I%3D,online_chips:ergonomic+mouse:HtszQuo-Uog%3D,online_chips:gaming+mice:LSZ4RnVtneY%3D&rlz=1C1CHZN_enZA940ZA940&sa=X&ved=2ahUKEwicsYKu5NPwAhUFHBoKHQRkD4AQ4lYoAXoECAEQIg&biw=1499&bih=741\",\n",
    "    \"https://www.google.com/search?q=laptop+mouse&tbm=isch&hl=en-GB&chips=q:laptop+mouse,g_1:white:7wZT_H-0oPc%3D&rlz=1C1CHZN_enZA940ZA940&sa=X&ved=2ahUKEwii6_m45NPwAhUGNBoKHaSqCdUQ4lYoCXoECAEQKw&biw=1499&bih=741\",\n",
    "    \"https://www.google.com/search?q=laptop+mouse&tbm=isch&hl=en-GB&chips=q:laptop+mouse,g_1:white:7wZT_H-0oPc%3D,online_chips:logitech:_yNWfuQL7UA%3D&rlz=1C1CHZN_enZA940ZA940&sa=X&ved=2ahUKEwiZ0pC75NPwAhVO0RoKHZkTAssQ4lYoA3oECAEQIg&biw=1499&bih=741\",\n",
    "    \"https://www.google.com/search?q=desktop+mouse&tbm=isch&ved=2ahUKEwj55uLA5NPwAhVJw4UKHdfaCngQ2-cCegQIABAA&oq=desktop+mouse&gs_lcp=CgNpbWcQAzICCAAyAggAMgQIABBDMgIIADICCAAyAggAMgIIADICCAAyBggAEAcQHjIGCAAQBxAeUJ9ZWNRoYK5raABwAHgAgAGABIgB7BKSAQczLTQuMS4xmAEAoAEBqgELZ3dzLXdpei1pbWfAAQE&sclient=img&ei=Uf2jYLn6LcmGlwTXtavABw&bih=741&biw=1499&rlz=1C1CHZN_enZA940ZA940&hl=en-GB\",\n",
    "    \"https://www.google.com/search?q=desktop+mouse&tbm=isch&hl=en-GB&chips=q:desktop+mouse,g_1:old:OR1ckqViOWE%3D&rlz=1C1CHZN_enZA940ZA940&sa=X&ved=2ahUKEwjyoZPI5NPwAhUKTRoKHQN_CMgQ4lYoA3oECAEQHw&biw=1499&bih=741\",\n",
    "    \"https://www.google.com/search?q=desktop+mouse&tbm=isch&hl=en-GB&chips=q:desktop+mouse,g_1:old:OR1ckqViOWE%3D,online_chips:usb:4yPOvXWhPUs%3D&rlz=1C1CHZN_enZA940ZA940&sa=X&ved=2ahUKEwiu08jN5NPwAhULahoKHe1uAssQ4lYoAnoECAEQIA&biw=1499&bih=741\",\n",
    "    \"https://www.google.com/search?q=desktop+mouse&tbm=isch&hl=en-GB&chips=q:desktop+mouse,g_1:old:OR1ckqViOWE%3D,online_chips:usb:4yPOvXWhPUs%3D,online_chips:wireless+mouse:U2SJ_flhp_w%3D&rlz=1C1CHZN_enZA940ZA940&sa=X&ved=2ahUKEwjXsaPR5NPwAhXAgc4BHV59DR8Q4lYoBHoECAEQJg&biw=1499&bih=741\",\n",
    "]"
   ]
  },
  {
   "cell_type": "markdown",
   "id": "applicable-bacon",
   "metadata": {},
   "source": [
    "### 10. camera"
   ]
  },
  {
   "cell_type": "code",
   "execution_count": 11,
   "id": "brilliant-investigation",
   "metadata": {},
   "outputs": [],
   "source": [
    "camera_urls =[\n",
    "    \"https://www.google.com/search?q=black+cameras&tbm=isch&hl=en-GB&chips=q:black+cameras,g_1:old:FuZfbYmIAf8%3D&rlz=1C1CHZN_enZA940ZA940&sa=X&ved=2ahUKEwiu39O-5dPwAhUGgM4BHa_rCwsQ4lYoAHoECAEQGQ&biw=1499&bih=741\",\n",
    "    \"https://www.google.com/search?q=black+cameras&tbm=isch&hl=en-GB&chips=q:black+cameras,g_1:old:FuZfbYmIAf8%3D,online_chips:canon:GxrGfGGGQ60%3D&rlz=1C1CHZN_enZA940ZA940&sa=X&ved=2ahUKEwi9prTA5dPwAhUSgHMKHUghAlYQ4lYoAnoECAEQIA&biw=1499&bih=741\",\n",
    "    \"https://www.google.com/search?q=cameras&tbm=isch&ved=2ahUKEwiOnZ_04dPwAhUMNBoKHVhYBbIQ2-cCegQIABAA&oq=cameras&gs_lcp=CgNpbWcQAzIHCAAQsQMQQzIHCAAQsQMQQzIECAAQQzIECAAQQzIECAAQQzIECAAQQzICCAAyAggAMgIIADICCAA6BAgjECc6BQgAELEDOggIABCxAxCDAVD1Q1j3ZWCtaGgDcAB4AIABuAOIAdUXkgEHMi0yLjYuMZgBAKABAaoBC2d3cy13aXotaW1nwAEB&sclient=img&ei=mPqjYI7xF4zoaNiwlZAL&bih=741&biw=1499&rlz=1C1CHZN_enZA940ZA940&hl=en-GB\",\n",
    "    \"https://www.google.com/search?q=cameras&tbm=isch&hl=en-GB&chips=q:cameras,g_1:photography:Lb7iaLwrMHE%3D&rlz=1C1CHZN_enZA940ZA940&sa=X&ved=2ahUKEwiUmtP74dPwAhUO-YUKHS_yBvMQ4lYoAHoECAEQGQ&biw=1499&bih=741\",\n",
    "    \"https://www.google.com/search?q=cameras&tbm=isch&hl=en-GB&chips=q:cameras,g_1:photography:Lb7iaLwrMHE%3D,g_1:professional:MRtSOvaTmos%3D&rlz=1C1CHZN_enZA940ZA940&sa=X&ved=2ahUKEwj8kuWB4tPwAhXKwoUKHQwgB50Q4lYoAHoECAEQGw&biw=1499&bih=741\",\n",
    "    \"https://www.google.com/search?q=cameras&tbm=isch&hl=en-GB&chips=q:cameras,g_1:photography:Lb7iaLwrMHE%3D,g_1:professional:MRtSOvaTmos%3D,online_chips:best:I2PrmADq1qU%3D&rlz=1C1CHZN_enZA940ZA940&sa=X&ved=2ahUKEwixtaqH4tPwAhVNwYUKHZOyAmgQ4lYoAHoECAEQHg&biw=1499&bih=741\",\n",
    "    \"https://www.google.com/search?q=cameras&tbm=isch&hl=en-GB&chips=q:cameras,g_1:photography:Lb7iaLwrMHE%3D,g_1:professional:MRtSOvaTmos%3D,online_chips:best:I2PrmADq1qU%3D,online_chips:wildlife:UdLik3rWSMg%3D&rlz=1C1CHZN_enZA940ZA940&sa=X&ved=2ahUKEwipgcOL4tPwAhVM-4UKHbQDB1MQ4lYoAHoECAEQIA&biw=1499&bih=741\",\n",
    "    \"https://www.google.com/search?q=cameras&tbm=isch&hl=en-GB&chips=q:cameras,g_1:photography:Lb7iaLwrMHE%3D,g_1:professional:MRtSOvaTmos%3D,online_chips:best:I2PrmADq1qU%3D,online_chips:wildlife:UdLik3rWSMg%3D,online_chips:nikon+d500:1fbVBIu_Eck%3D&rlz=1C1CHZN_enZA940ZA940&sa=X&ved=2ahUKEwjq0OqQ4tPwAhURRBoKHZP9CCcQ4lYoAHoECAEQIg&biw=1499&bih=741\",\n",
    "    \"https://www.google.com/search?q=cameras&tbm=isch&hl=en-GB&chips=q:cameras,g_1:film:QSAJxx-tVNM%3D&rlz=1C1CHZN_enZA940ZA940&sa=X&ved=2ahUKEwibxZWg4tPwAhUL9BoKHUAZC9oQ4lYoAnoECAEQHQ&biw=1499&bih=741\",\n",
    "    \"https://www.google.com/search?q=cameras&tbm=isch&hl=en-GB&chips=q:cameras,g_1:film:QSAJxx-tVNM%3D,g_1:old:oaP6Ft_46UM%3D&rlz=1C1CHZN_enZA940ZA940&sa=X&ved=2ahUKEwj0m_6h4tPwAhUpgHMKHSv4C1AQ4lYoBHoECAEQIw&biw=1499&bih=741\",\n",
    "    \"https://www.google.com/search?q=cameras&tbm=isch&hl=en-GB&chips=q:cameras,g_1:film:QSAJxx-tVNM%3D,g_1:old:oaP6Ft_46UM%3D,online_chips:nikon:K3wqHWyOxgQ%3D&rlz=1C1CHZN_enZA940ZA940&sa=X&ved=2ahUKEwjJptOm4tPwAhUD9hoKHYNACVAQ4lYoBHoECAEQJg&biw=1499&bih=741\",\n",
    "    \"https://www.google.com/search?q=cameras&tbm=isch&hl=en-GB&chips=q:cameras,g_1:film:QSAJxx-tVNM%3D,g_1:old:oaP6Ft_46UM%3D,online_chips:nikon:K3wqHWyOxgQ%3D,online_chips:medium+format:K7eLjKP8BOk%3D&rlz=1C1CHZN_enZA940ZA940&sa=X&ved=2ahUKEwjBnc2s4tPwAhUMxhoKHfCbDxkQ4lYoAnoECAEQJA&biw=1499&bih=741\",\n",
    "    \"https://www.google.com/search?q=cameras&tbm=isch&hl=en-GB&chips=q:cameras,g_1:film:QSAJxx-tVNM%3D,g_1:old:oaP6Ft_46UM%3D,online_chips:nikon:K3wqHWyOxgQ%3D,online_chips:medium+format:K7eLjKP8BOk%3D,online_chips:vintage:K7eLjKP8BOk%3D&rlz=1C1CHZN_enZA940ZA940&sa=X&ved=2ahUKEwiPm_Ww4tPwAhXM_IUKHS4ICC4Q4lYoBHoECAEQKg&biw=1499&bih=741\",\n",
    "]"
   ]
  },
  {
   "cell_type": "code",
   "execution_count": 12,
   "id": "spread-training",
   "metadata": {},
   "outputs": [],
   "source": [
    "class_names = [\"drone\", \"cellphone\", \"laptop\", \"desktop\",\n",
    "              \"charger\", \"headphones\", \"camera\", \"mouse\", \"television\", \"remote\"]"
   ]
  },
  {
   "cell_type": "code",
   "execution_count": 13,
   "id": "intimate-certificate",
   "metadata": {},
   "outputs": [],
   "source": [
    "def mineImageData(urls, class_name, root= \"data\", save_path = None):\n",
    "    all_image_urls = []\n",
    "    for url in urls:\n",
    "        res = requests.get(url)\n",
    "        soup = bs(res.content)\n",
    "        image_tags = soup.findAll('img')\n",
    "        image_urls = [image_tag['src'] for image_tag in image_tags]\n",
    "        image_urls_filtered = list(filter(lambda x: re.match(r'^https?://',x), image_urls))\n",
    "        all_image_urls += image_urls_filtered\n",
    "    # dowload each and every image\n",
    "\n",
    "    if os.path.exists(os.path.join(root, class_name)) == False:\n",
    "        os.makedirs(os.path.join(root, class_name))\n",
    "        save_path = os.path.join(root, class_name)\n",
    "    else:\n",
    "        save_path = os.path.join(root, class_name)\n",
    "    for i, image_url in enumerate(all_image_urls):\n",
    "        image = requests.get(image_url)\n",
    "        file = open(f'{save_path}/{class_name}{i+1}.png', 'wb')\n",
    "        print(f\"Downloading {class_name}{i+1}.png\")\n",
    "        file.write(image.content)\n",
    "        file.close()\n",
    "    print(f\"Downloaded {len(all_image_urls)} {class_name} image(s)\")"
   ]
  },
  {
   "cell_type": "code",
   "execution_count": 34,
   "id": "quarterly-symbol",
   "metadata": {},
   "outputs": [
    {
     "name": "stdout",
     "output_type": "stream",
     "text": [
      "data\\camera\n",
      "Downloading camera1.png\n"
     ]
    },
    {
     "data": {
      "text/plain": [
       "20"
      ]
     },
     "execution_count": 34,
     "metadata": {},
     "output_type": "execute_result"
    }
   ],
   "source": [
    "mineImageData(drone_urls, \"drone\")"
   ]
  },
  {
   "cell_type": "code",
   "execution_count": 23,
   "id": "basic-dynamics",
   "metadata": {},
   "outputs": [
    {
     "data": {
      "text/plain": [
       "['https://encrypted-tbn0.gstatic.com/images?q=tbn:ANd9GcTZbf2Y4a9eqmyuu0ZRCn1rKdTeHMy_Sho4tw6oZwcEgeGlu7RJQdZ9z9I4DQ&s',\n",
       " 'https://encrypted-tbn0.gstatic.com/images?q=tbn:ANd9GcR_pzPbv54pDuevs1ofMihBmUxT7qlGHUZzOACErG2nPLfivvOEug0bK7CEbg&s']"
      ]
     },
     "execution_count": 23,
     "metadata": {},
     "output_type": "execute_result"
    }
   ],
   "source": [
    "all_image_urls[:2]"
   ]
  },
  {
   "cell_type": "code",
   "execution_count": 26,
   "id": "looking-treaty",
   "metadata": {},
   "outputs": [
    {
     "data": {
      "text/plain": [
       "False"
      ]
     },
     "execution_count": 26,
     "metadata": {},
     "output_type": "execute_result"
    }
   ],
   "source": [
    "os.path.exists(os.path.join('data','camera'))"
   ]
  },
  {
   "cell_type": "code",
   "execution_count": null,
   "id": "governing-destination",
   "metadata": {},
   "outputs": [],
   "source": []
  },
  {
   "cell_type": "code",
   "execution_count": null,
   "id": "sharp-emerald",
   "metadata": {},
   "outputs": [],
   "source": []
  },
  {
   "cell_type": "code",
   "execution_count": null,
   "id": "explicit-builder",
   "metadata": {},
   "outputs": [],
   "source": []
  },
  {
   "cell_type": "code",
   "execution_count": null,
   "id": "legal-simulation",
   "metadata": {},
   "outputs": [],
   "source": []
  },
  {
   "cell_type": "code",
   "execution_count": null,
   "id": "tired-skirt",
   "metadata": {},
   "outputs": [],
   "source": []
  },
  {
   "cell_type": "code",
   "execution_count": null,
   "id": "wanted-feature",
   "metadata": {},
   "outputs": [],
   "source": []
  },
  {
   "cell_type": "code",
   "execution_count": null,
   "id": "increasing-whale",
   "metadata": {},
   "outputs": [],
   "source": []
  },
  {
   "cell_type": "code",
   "execution_count": null,
   "id": "entire-atlas",
   "metadata": {},
   "outputs": [],
   "source": []
  },
  {
   "cell_type": "code",
   "execution_count": null,
   "id": "scenic-shuttle",
   "metadata": {},
   "outputs": [],
   "source": []
  },
  {
   "cell_type": "code",
   "execution_count": null,
   "id": "informational-surname",
   "metadata": {},
   "outputs": [],
   "source": []
  }
 ],
 "metadata": {
  "kernelspec": {
   "display_name": "Python 3",
   "language": "python",
   "name": "python3"
  },
  "language_info": {
   "codemirror_mode": {
    "name": "ipython",
    "version": 3
   },
   "file_extension": ".py",
   "mimetype": "text/x-python",
   "name": "python",
   "nbconvert_exporter": "python",
   "pygments_lexer": "ipython3",
   "version": "3.8.5"
  }
 },
 "nbformat": 4,
 "nbformat_minor": 5
}
