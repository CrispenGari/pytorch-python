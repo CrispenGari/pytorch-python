{
 "cells": [
  {
   "cell_type": "markdown",
   "id": "greek-pavilion",
   "metadata": {},
   "source": [
    "### Image Classification"
   ]
  },
  {
   "cell_type": "code",
   "execution_count": null,
   "id": "sticky-population",
   "metadata": {},
   "outputs": [],
   "source": []
  },
  {
   "cell_type": "markdown",
   "id": "acceptable-regular",
   "metadata": {},
   "source": [
    "### Imports"
   ]
  },
  {
   "cell_type": "code",
   "execution_count": 1,
   "id": "turkish-shower",
   "metadata": {},
   "outputs": [],
   "source": [
    "import cv2\n",
    "import matplotlib.pyplot as plt\n",
    "import numpy as np\n",
    "from sklearn.model_selection import train_test_split\n",
    "import torch\n",
    "from torch import nn\n",
    "import torch.nn.functional as F\n",
    "import os"
   ]
  },
  {
   "cell_type": "markdown",
   "id": "governing-burning",
   "metadata": {},
   "source": [
    "### Data Prep"
   ]
  },
  {
   "cell_type": "code",
   "execution_count": 2,
   "id": "imposed-commodity",
   "metadata": {},
   "outputs": [
    {
     "data": {
      "text/plain": [
       "{0: 'bee', 1: 'ant'}"
      ]
     },
     "execution_count": 2,
     "metadata": {},
     "output_type": "execute_result"
    }
   ],
   "source": [
    "class Insect:\n",
    "    BEE = 'BEE'\n",
    "    ANT = \"ANT\"\n",
    "    BEES_IMAGES_PATH = 'data/gray/bees'\n",
    "    ANTS_IMAGES_PATH = 'data/gray/ants'\n",
    "    \n",
    "classes = {'bee': 0, 'ant' : 1}\n",
    "classes =dict([(i, j) for (j, i) in classes.items()])\n",
    "classes"
   ]
  },
  {
   "cell_type": "markdown",
   "id": "nutritional-receipt",
   "metadata": {},
   "source": [
    "> We are going to use gray images."
   ]
  },
  {
   "cell_type": "code",
   "execution_count": 3,
   "id": "front-magazine",
   "metadata": {},
   "outputs": [
    {
     "name": "stderr",
     "output_type": "stream",
     "text": [
      "<ipython-input-3-6b8198280b07>:12: VisibleDeprecationWarning: Creating an ndarray from ragged nested sequences (which is a list-or-tuple of lists-or-tuples-or ndarrays with different lengths or shapes) is deprecated. If you meant to do this, you must specify 'dtype=object' when creating the ndarray\n",
      "  insects = np.array(insects)\n"
     ]
    }
   ],
   "source": [
    "insects = []\n",
    "for path in os.listdir(Insect.BEES_IMAGES_PATH):\n",
    "    img_path = os.path.join(Insect.BEES_IMAGES_PATH, path)\n",
    "    image = np.array(cv2.imread(img_path, cv2.IMREAD_UNCHANGED), dtype='float32')\n",
    "    image = image / 255\n",
    "    insects.append([image, 0])\n",
    "for path in os.listdir(Insect.ANTS_IMAGES_PATH):\n",
    "    img_path = os.path.join(Insect.ANTS_IMAGES_PATH, path)\n",
    "    image = np.array(cv2.imread(img_path, cv2.IMREAD_UNCHANGED), dtype='float32')\n",
    "    image = image / 255\n",
    "    insects.append([image, 1])\n",
    "insects = np.array(insects)"
   ]
  },
  {
   "cell_type": "code",
   "execution_count": 4,
   "id": "banner-newspaper",
   "metadata": {},
   "outputs": [],
   "source": [
    "np.random.shuffle(insects)"
   ]
  },
  {
   "cell_type": "markdown",
   "id": "special-transmission",
   "metadata": {},
   "source": [
    "> Separating features and labels."
   ]
  },
  {
   "cell_type": "code",
   "execution_count": 5,
   "id": "understood-welding",
   "metadata": {},
   "outputs": [],
   "source": [
    "X = np.array([insect[0] for insect in insects])\n",
    "y = np.array([insect[1] for insect in insects])"
   ]
  },
  {
   "cell_type": "markdown",
   "id": "brief-coaching",
   "metadata": {},
   "source": [
    "> Spliting the data into training and testing."
   ]
  },
  {
   "cell_type": "code",
   "execution_count": 6,
   "id": "forty-portal",
   "metadata": {},
   "outputs": [],
   "source": [
    "X_train, X_test, y_train, y_test = train_test_split(X, y, random_state=33, test_size=.2)"
   ]
  },
  {
   "cell_type": "code",
   "execution_count": 7,
   "id": "comfortable-cookie",
   "metadata": {},
   "outputs": [
    {
     "data": {
      "text/plain": [
       "((384, 200, 200), (384,), (96,), (96, 200, 200))"
      ]
     },
     "execution_count": 7,
     "metadata": {},
     "output_type": "execute_result"
    }
   ],
   "source": [
    "X_train.shape, y_train.shape, y_test.shape, X_test.shape"
   ]
  },
  {
   "cell_type": "code",
   "execution_count": 8,
   "id": "atmospheric-conservative",
   "metadata": {},
   "outputs": [
    {
     "data": {
      "text/plain": [
       "40000"
      ]
     },
     "execution_count": 8,
     "metadata": {},
     "output_type": "execute_result"
    }
   ],
   "source": [
    "in_features = np.prod(X_train.shape[-2:])\n",
    "in_features"
   ]
  },
  {
   "cell_type": "markdown",
   "id": "straight-latitude",
   "metadata": {},
   "source": [
    "### Model Creation"
   ]
  },
  {
   "cell_type": "code",
   "execution_count": 9,
   "id": "encouraging-watershed",
   "metadata": {},
   "outputs": [
    {
     "data": {
      "text/plain": [
       "Net(\n",
       "  (fc1): Linear(in_features=40000, out_features=64, bias=True)\n",
       "  (fc2): Linear(in_features=64, out_features=64, bias=True)\n",
       "  (fc3): Linear(in_features=64, out_features=32, bias=True)\n",
       "  (fc4): Linear(in_features=32, out_features=2, bias=True)\n",
       ")"
      ]
     },
     "execution_count": 9,
     "metadata": {},
     "output_type": "execute_result"
    }
   ],
   "source": [
    "class Net(nn.Module):\n",
    "    def __init__(self):\n",
    "        super().__init__()\n",
    "        self.fc1 = nn.Linear(200 * 200 , 64)\n",
    "        self.fc2 = nn.Linear(64, 64)\n",
    "        self.fc3 = nn.Linear(64, 32)\n",
    "        self.fc4 = nn.Linear(32, 2)\n",
    "        \n",
    "    def forward(self, X):\n",
    "        X = F.relu(self.fc1(X))\n",
    "        X = F.relu(self.fc2(X))\n",
    "        X = F.relu(self.fc3(X))\n",
    "        X = self.fc4(X)\n",
    "        return X\n",
    "    \n",
    "net = Net()\n",
    "net"
   ]
  },
  {
   "cell_type": "markdown",
   "id": "significant-bottom",
   "metadata": {},
   "source": [
    "> Converting trsin and test data into torch tensors"
   ]
  },
  {
   "cell_type": "code",
   "execution_count": 10,
   "id": "infinite-nutrition",
   "metadata": {},
   "outputs": [],
   "source": [
    "X_train = torch.from_numpy(X_train)\n",
    "X_test = torch.from_numpy(X_test)\n",
    "\n",
    "y_train = torch.from_numpy(y_train)\n",
    "y_test = torch.from_numpy(y_test)"
   ]
  },
  {
   "cell_type": "code",
   "execution_count": 11,
   "id": "interstate-congress",
   "metadata": {},
   "outputs": [],
   "source": [
    "loss_function = nn.CrossEntropyLoss()\n",
    "optimizer = torch.optim.Adam(net.parameters())"
   ]
  },
  {
   "cell_type": "code",
   "execution_count": 12,
   "id": "least-biotechnology",
   "metadata": {},
   "outputs": [
    {
     "name": "stdout",
     "output_type": "stream",
     "text": [
      "Epochs: 1/10\n",
      "Loss tensor(0.5602, grad_fn=<NllLossBackward>)\n",
      "Epochs: 2/10\n",
      "Loss tensor(0.4496, grad_fn=<NllLossBackward>)\n",
      "Epochs: 3/10\n",
      "Loss tensor(0.4330, grad_fn=<NllLossBackward>)\n",
      "Epochs: 4/10\n",
      "Loss tensor(0.4896, grad_fn=<NllLossBackward>)\n",
      "Epochs: 5/10\n",
      "Loss tensor(0.4745, grad_fn=<NllLossBackward>)\n",
      "Epochs: 6/10\n",
      "Loss tensor(0.3573, grad_fn=<NllLossBackward>)\n",
      "Epochs: 7/10\n",
      "Loss tensor(0.4132, grad_fn=<NllLossBackward>)\n",
      "Epochs: 8/10\n",
      "Loss tensor(0.3456, grad_fn=<NllLossBackward>)\n",
      "Epochs: 9/10\n",
      "Loss tensor(0.3380, grad_fn=<NllLossBackward>)\n",
      "Epochs: 10/10\n",
      "Loss tensor(0.3473, grad_fn=<NllLossBackward>)\n"
     ]
    }
   ],
   "source": [
    "EPOCHS = 10\n",
    "BATCH_SIZE = 4\n",
    "for epoch in range(EPOCHS):\n",
    "    print(f'Epochs: {epoch+1}/{EPOCHS}')\n",
    "    for i in range(0, len(y_train), BATCH_SIZE):\n",
    "        X_batch = X_train[i: i+BATCH_SIZE].view(-1, 200 * 200)\n",
    "        y_batch = y_train[i: i+BATCH_SIZE].type(torch.LongTensor)\n",
    "        \n",
    "        optimizer.zero_grad() ## or you can say optimizer.zero_grad()\n",
    "        \n",
    "        outputs = net(X_batch)\n",
    "        loss = loss_function(outputs, y_batch)\n",
    "        loss.backward()\n",
    "        optimizer.step()\n",
    "    print(\"Loss\", loss)"
   ]
  },
  {
   "cell_type": "code",
   "execution_count": 13,
   "id": "interracial-surgeon",
   "metadata": {},
   "outputs": [
    {
     "data": {
      "text/plain": [
       "tensor([[-0.9708,  0.9257]], grad_fn=<AddmmBackward>)"
      ]
     },
     "execution_count": 13,
     "metadata": {},
     "output_type": "execute_result"
    }
   ],
   "source": [
    "net(X_test[0].view(-1, 200*200))"
   ]
  },
  {
   "cell_type": "code",
   "execution_count": 14,
   "id": "ready-chemical",
   "metadata": {},
   "outputs": [
    {
     "name": "stdout",
     "output_type": "stream",
     "text": [
      "Accuracy: 0.4895833333333333\n"
     ]
    }
   ],
   "source": [
    "total, correct = 0, 0\n",
    "with torch.no_grad():\n",
    "    for i in range(len(X_test)):\n",
    "        correct_label = torch.argmax(y_test[i])\n",
    "        prediction = torch.argmax(net(X_test[i].view(-1,200 * 200))[0])\n",
    "    \n",
    "        if prediction == correct_label:\n",
    "            correct+=1\n",
    "        total +=1\n",
    "    print(f\"Accuracy: {correct/total}\")"
   ]
  },
  {
   "cell_type": "code",
   "execution_count": 15,
   "id": "million-brooklyn",
   "metadata": {},
   "outputs": [
    {
     "name": "stdout",
     "output_type": "stream",
     "text": [
      "Accuracy: 0.4583333333333333\n"
     ]
    }
   ],
   "source": [
    "total, correct = 0, 0\n",
    "with torch.no_grad():\n",
    "    for i in range(len(X_train)):\n",
    "        correct_label = torch.argmax(y_train[i])\n",
    "        prediction = torch.argmax(net(X_train[i].view(-1,200 * 200))[0])\n",
    "    \n",
    "        if prediction == correct_label:\n",
    "            correct+=1\n",
    "        total +=1\n",
    "    print(f\"Accuracy: {correct/total}\")"
   ]
  },
  {
   "cell_type": "code",
   "execution_count": 16,
   "id": "cleared-condition",
   "metadata": {},
   "outputs": [
    {
     "data": {
      "image/png": "[encoded data removed]",
      "text/plain": [
       "<Figure size 432x288 with 1 Axes>"
      ]
     },
     "metadata": {
      "needs_background": "light"
     },
     "output_type": "display_data"
    }
   ],
   "source": [
    "plt.imshow(X_test[17], cmap=\"gray\")\n",
    "plt.title(classes[torch.argmax(net(X_test[17].view(-1, 200 * 200))).item()].title(), fontsize=16)\n",
    "plt.show()"
   ]
  },
  {
   "cell_type": "code",
   "execution_count": null,
   "id": "british-robin",
   "metadata": {},
   "outputs": [],
   "source": []
  }
 ],
 "metadata": {
  "kernelspec": {
   "display_name": "Python 3",
   "language": "python",
   "name": "python3"
  },
  "language_info": {
   "codemirror_mode": {
    "name": "ipython",
    "version": 3
   },
   "file_extension": ".py",
   "mimetype": "text/x-python",
   "name": "python",
   "nbconvert_exporter": "python",
   "pygments_lexer": "ipython3",
   "version": "3.8.5"
  }
 },
 "nbformat": 4,
 "nbformat_minor": 5
}
