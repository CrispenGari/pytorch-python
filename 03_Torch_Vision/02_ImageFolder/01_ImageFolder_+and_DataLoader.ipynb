{
 "cells": [
  {
   "cell_type": "markdown",
   "id": "arranged-dominican",
   "metadata": {},
   "source": [
    "### ImageFolder\n",
    "\n",
    "* In order to augment the dataset, we apply various transformation techniques. These include the crop, resize, rotation, translation, flip and so on. In the pyTorch, those operations are defined in the ‘torchvision.transforms’ package and we can choose some of those transformations when it is needed.\n",
    "\n",
    "#### Folders Structure.\n",
    "\n",
    "```python\n",
    "data\n",
    "    - train\n",
    "        - class1\n",
    "            - img1.png\n",
    "            - img2.png\n",
    "            ...\n",
    "        - class2\n",
    "            - img1.png\n",
    "            - img2.png\n",
    "            ...\n",
    "        ...\n",
    "    - validation\n",
    "        - class1\n",
    "            - img1.png\n",
    "            - img2.png\n",
    "            ...\n",
    "        - class2\n",
    "            - img1.png\n",
    "            - img2.png\n",
    "            ...\n",
    "        ....\n",
    "    - test\n",
    "      - class1\n",
    "            - img1.png\n",
    "            - img2.png\n",
    "            ...\n",
    "        - class2\n",
    "            - img1.png\n",
    "            - img2.png\n",
    "            ...\n",
    "        ....\n",
    "````\n"
   ]
  },
  {
   "cell_type": "code",
   "execution_count": 23,
   "id": "treated-sauce",
   "metadata": {},
   "outputs": [],
   "source": [
    "import torch\n",
    "import torchvision\n",
    "import torchvision.transforms as transforms\n",
    "import numpy as np\n",
    "import os\n",
    "from torchvision import datasets\n",
    "from torch.utils.data import DataLoader\n",
    "import matplotlib.pyplot as plt"
   ]
  },
  {
   "cell_type": "code",
   "execution_count": 2,
   "id": "indie-basics",
   "metadata": {},
   "outputs": [],
   "source": [
    "base_dir = \"bees_v_ant\""
   ]
  },
  {
   "cell_type": "markdown",
   "id": "alleged-outside",
   "metadata": {},
   "source": [
    "> Image `Transforms`."
   ]
  },
  {
   "cell_type": "code",
   "execution_count": 4,
   "id": "otherwise-stress",
   "metadata": {},
   "outputs": [
    {
     "data": {
      "text/plain": [
       "{'train': Compose(\n",
       "     Resize(size=[224, 224], interpolation=bilinear)\n",
       "     RandomHorizontalFlip(p=0.5)\n",
       "     ToTensor()\n",
       "     Normalize(mean=(0.5, 0.5, 0.5), std=(0.5, 0.5, 0.5))\n",
       " ),\n",
       " 'validation': Compose(\n",
       "     Resize(size=[224, 224], interpolation=bilinear)\n",
       "     RandomHorizontalFlip(p=0.5)\n",
       "     ToTensor()\n",
       "     Normalize(mean=(0.5, 0.5, 0.5), std=(0.5, 0.5, 0.5))\n",
       " )}"
      ]
     },
     "execution_count": 4,
     "metadata": {},
     "output_type": "execute_result"
    }
   ],
   "source": [
    "image_transforms ={\n",
    "    \"train\": transforms.Compose([\n",
    "        transforms.Resize([224,224]), \n",
    "        transforms.RandomHorizontalFlip(),\n",
    "        transforms.ToTensor(),\n",
    "        transforms.Normalize(mean=(0.5,0.5,0.5), std=(0.5,0.5,0.5))\n",
    "    ]),\n",
    "    \"validation\":transforms.Compose([\n",
    "        transforms.Resize([224,224]), \n",
    "        transforms.RandomHorizontalFlip(),\n",
    "        transforms.ToTensor(),\n",
    "        transforms.Normalize(mean=(0.5,0.5,0.5), std=(0.5,0.5,0.5))\n",
    "    ])\n",
    "}\n",
    "image_transforms"
   ]
  },
  {
   "cell_type": "code",
   "execution_count": 6,
   "id": "powered-exhibit",
   "metadata": {},
   "outputs": [],
   "source": [
    "image_datasets = {\n",
    "    x: datasets.ImageFolder(os.path.join(base_dir, x), image_transforms[x]) for x in [\"train\", 'validation']\n",
    "}"
   ]
  },
  {
   "cell_type": "code",
   "execution_count": 7,
   "id": "instrumental-bible",
   "metadata": {},
   "outputs": [
    {
     "data": {
      "text/plain": [
       "{'train': Dataset ImageFolder\n",
       "     Number of datapoints: 20\n",
       "     Root location: bees_v_ant\\train\n",
       "     StandardTransform\n",
       " Transform: Compose(\n",
       "                Resize(size=[224, 224], interpolation=bilinear)\n",
       "                RandomHorizontalFlip(p=0.5)\n",
       "                ToTensor()\n",
       "                Normalize(mean=(0.5, 0.5, 0.5), std=(0.5, 0.5, 0.5))\n",
       "            ),\n",
       " 'validation': Dataset ImageFolder\n",
       "     Number of datapoints: 12\n",
       "     Root location: bees_v_ant\\validation\n",
       "     StandardTransform\n",
       " Transform: Compose(\n",
       "                Resize(size=[224, 224], interpolation=bilinear)\n",
       "                RandomHorizontalFlip(p=0.5)\n",
       "                ToTensor()\n",
       "                Normalize(mean=(0.5, 0.5, 0.5), std=(0.5, 0.5, 0.5))\n",
       "            )}"
      ]
     },
     "execution_count": 7,
     "metadata": {},
     "output_type": "execute_result"
    }
   ],
   "source": [
    "image_datasets"
   ]
  },
  {
   "cell_type": "markdown",
   "id": "facial-royalty",
   "metadata": {},
   "source": [
    "> Getting `class names` of the datasets."
   ]
  },
  {
   "cell_type": "code",
   "execution_count": 11,
   "id": "dress-pierre",
   "metadata": {},
   "outputs": [
    {
     "data": {
      "text/plain": [
       "['ant', 'bee']"
      ]
     },
     "execution_count": 11,
     "metadata": {},
     "output_type": "execute_result"
    }
   ],
   "source": [
    "class_names = image_datasets[\"train\"].classes\n",
    "class_names"
   ]
  },
  {
   "cell_type": "code",
   "execution_count": 13,
   "id": "chubby-share",
   "metadata": {},
   "outputs": [],
   "source": [
    "train = DataLoader(image_datasets['train'],\n",
    "                   batch_size=5, \n",
    "                   shuffle=True,\n",
    "                   num_workers = 2\n",
    "                  )\n",
    "valid = DataLoader(image_datasets['validation'],\n",
    "                   batch_size=5, \n",
    "                   shuffle=False,\n",
    "                   num_workers = 2\n",
    "                  )"
   ]
  },
  {
   "cell_type": "code",
   "execution_count": 15,
   "id": "viral-click",
   "metadata": {},
   "outputs": [],
   "source": [
    "for x in train:\n",
    "    pass"
   ]
  },
  {
   "cell_type": "code",
   "execution_count": 29,
   "id": "corporate-beauty",
   "metadata": {},
   "outputs": [
    {
     "name": "stderr",
     "output_type": "stream",
     "text": [
      "Clipping input data to the valid range for imshow with RGB data ([0..1] for floats or [0..255] for integers).\n"
     ]
    },
    {
     "data": {
      "text/plain": [
       "tensor(0)"
      ]
     },
     "execution_count": 29,
     "metadata": {},
     "output_type": "execute_result"
    },
    {
     "data": {
      "image/png": "[encoded data removed]",
      "text/plain": [
       "<Figure size 432x288 with 1 Axes>"
      ]
     },
     "metadata": {
      "needs_background": "light"
     },
     "output_type": "display_data"
    }
   ],
   "source": [
    "plt.imshow(x[0][0].numpy().transpose(1, 2, 0))\n",
    "x[1][0]"
   ]
  },
  {
   "cell_type": "markdown",
   "id": "comfortable-species",
   "metadata": {},
   "source": [
    "> `5` images and `5` labels in a `batch`"
   ]
  },
  {
   "cell_type": "code",
   "execution_count": 37,
   "id": "piano-inspection",
   "metadata": {},
   "outputs": [
    {
     "data": {
      "text/plain": [
       "tensor([1, 1, 0, 0, 0])"
      ]
     },
     "execution_count": 37,
     "metadata": {},
     "output_type": "execute_result"
    }
   ],
   "source": [
    "inputs, classes = next(iter(train))\n",
    "classes"
   ]
  },
  {
   "cell_type": "markdown",
   "id": "major-springer",
   "metadata": {},
   "source": [
    "> That's how we can use the `ImageFolder` and the `DataLoader`.\n",
    "[Ref](https://medium.com/jun-devpblog/pytorch-1-transform-imagefolder-dataloader-7f75f0a460c0)"
   ]
  },
  {
   "cell_type": "code",
   "execution_count": null,
   "id": "needed-tribe",
   "metadata": {},
   "outputs": [],
   "source": []
  }
 ],
 "metadata": {
  "kernelspec": {
   "display_name": "Python 3",
   "language": "python",
   "name": "python3"
  },
  "language_info": {
   "codemirror_mode": {
    "name": "ipython",
    "version": 3
   },
   "file_extension": ".py",
   "mimetype": "text/x-python",
   "name": "python",
   "nbconvert_exporter": "python",
   "pygments_lexer": "ipython3",
   "version": "3.8.5"
  }
 },
 "nbformat": 4,
 "nbformat_minor": 5
}
