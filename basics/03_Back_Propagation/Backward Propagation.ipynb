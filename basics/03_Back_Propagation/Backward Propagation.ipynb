{
 "cells": [
  {
   "cell_type": "code",
   "execution_count": 1,
   "id": "developing-residence",
   "metadata": {},
   "outputs": [],
   "source": [
    "import torch"
   ]
  },
  {
   "cell_type": "markdown",
   "id": "aging-enforcement",
   "metadata": {},
   "source": [
    "### Inputs"
   ]
  },
  {
   "cell_type": "code",
   "execution_count": 2,
   "id": "advanced-animal",
   "metadata": {},
   "outputs": [],
   "source": [
    "x = torch.tensor([2, 3, 4.])\n",
    "y = torch.tensor([4, 6, 8.])"
   ]
  },
  {
   "cell_type": "markdown",
   "id": "painful-former",
   "metadata": {},
   "source": [
    "### Weights"
   ]
  },
  {
   "cell_type": "code",
   "execution_count": 3,
   "id": "offensive-boating",
   "metadata": {},
   "outputs": [],
   "source": [
    "w = torch.tensor([1., 1., 1.], requires_grad=True)"
   ]
  },
  {
   "cell_type": "markdown",
   "id": "german-importance",
   "metadata": {},
   "source": [
    "### Forward Pass\n",
    "> Making some predictions, by just multiplying the weights and the input `x` we are not going to add `bias` in this case.\n",
    "\n",
    "\n",
    "```\n",
    "              w   (multipy)\n",
    "    input(x)---->(Network)----->output(y)\n",
    "              f(x) = w + x + b\n",
    "              \n",
    "     f(x) = Network\n",
    "        w = weights\n",
    "        b = bias # in our case =0       \n",
    "```"
   ]
  },
  {
   "cell_type": "code",
   "execution_count": 5,
   "id": "strange-renewal",
   "metadata": {},
   "outputs": [
    {
     "data": {
      "text/plain": [
       "tensor([2., 3., 4.], grad_fn=<MulBackward0>)"
      ]
     },
     "execution_count": 5,
     "metadata": {},
     "output_type": "execute_result"
    }
   ],
   "source": [
    "pred = w * x\n",
    "pred"
   ]
  },
  {
   "cell_type": "markdown",
   "id": "severe-thomas",
   "metadata": {},
   "source": [
    "### Calculating Losss\n",
    "* The loss function thatwe are going to use is the `Mean Square Error Loss`\n",
    "\n",
    "```\n",
    "loss = math.pow((y_pred- y), 2)\n",
    "```"
   ]
  },
  {
   "cell_type": "code",
   "execution_count": 9,
   "id": "gentle-samoa",
   "metadata": {},
   "outputs": [
    {
     "data": {
      "text/plain": [
       "tensor([ 4.,  9., 16.], grad_fn=<PowBackward0>)"
      ]
     },
     "execution_count": 9,
     "metadata": {},
     "output_type": "execute_result"
    }
   ],
   "source": [
    "loss = (pred -y)** 2\n",
    "loss"
   ]
  },
  {
   "cell_type": "markdown",
   "id": "unlike-mother",
   "metadata": {},
   "source": [
    "### Basckward pass"
   ]
  },
  {
   "cell_type": "code",
   "execution_count": 12,
   "id": "demographic-algorithm",
   "metadata": {},
   "outputs": [],
   "source": [
    "v = torch.tensor([.1, .1, .1], dtype=torch.float32)\n",
    "loss.backward(v)"
   ]
  },
  {
   "cell_type": "markdown",
   "id": "located-candle",
   "metadata": {},
   "source": [
    "### Updating the Weights\n",
    "* update weights, this operation should not be part of the computational graph so we wrap it in the `with torch.no_grad()` statement.\n"
   ]
  },
  {
   "cell_type": "code",
   "execution_count": 15,
   "id": "lovely-mention",
   "metadata": {},
   "outputs": [
    {
     "name": "stdout",
     "output_type": "stream",
     "text": [
      "tensor([1.0800, 1.1800, 1.3200], requires_grad=True)\n",
      "tensor([1.0800, 1.1800, 1.3200], requires_grad=True)\n"
     ]
    }
   ],
   "source": [
    "\n",
    "for i in range(2):\n",
    "    with torch.no_grad():\n",
    "        w -=0.1 * w.grad\n",
    "        # don't forget to zero the gradients\n",
    "        w.grad.zero_()\n",
    "        print(w)"
   ]
  },
  {
   "cell_type": "markdown",
   "id": "executed-subject",
   "metadata": {},
   "source": [
    "> ` w.grad.zero_()` makes the gradient reamin the same."
   ]
  },
  {
   "cell_type": "code",
   "execution_count": null,
   "id": "instructional-cradle",
   "metadata": {},
   "outputs": [],
   "source": []
  }
 ],
 "metadata": {
  "kernelspec": {
   "display_name": "Python 3",
   "language": "python",
   "name": "python3"
  },
  "language_info": {
   "codemirror_mode": {
    "name": "ipython",
    "version": 3
   },
   "file_extension": ".py",
   "mimetype": "text/x-python",
   "name": "python",
   "nbconvert_exporter": "python",
   "pygments_lexer": "ipython3",
   "version": "3.8.5"
  }
 },
 "nbformat": 4,
 "nbformat_minor": 5
}
