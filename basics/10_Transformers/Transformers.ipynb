{
 "cells": [
  {
   "cell_type": "markdown",
   "id": "norwegian-margin",
   "metadata": {},
   "source": [
    "## Transformers"
   ]
  },
  {
   "cell_type": "code",
   "execution_count": 1,
   "id": "accepting-fifty",
   "metadata": {},
   "outputs": [],
   "source": [
    "import torch\n",
    "import torchvision\n",
    "from torch.utils.data import DataLoader, Dataset\n",
    "import numpy as np\n",
    "import pandas as pd"
   ]
  },
  {
   "cell_type": "markdown",
   "id": "round-simon",
   "metadata": {},
   "source": [
    "> There are a lot of transformation we make on datasets. We can create and load our own dataset and then make some transformation on it, for example **loading the data as numpy array and transform it to torch tensors.**"
   ]
  },
  {
   "cell_type": "code",
   "execution_count": 15,
   "id": "artificial-credits",
   "metadata": {},
   "outputs": [],
   "source": [
    "class Wine(Dataset):\n",
    "    def __init__(self, transform=None):\n",
    "        xy = pd.read_csv('wine.csv').values\n",
    "        self.x = xy[:, 1:]\n",
    "        self.y = xy[:,0:1]\n",
    "        self.transform = transform\n",
    "#         print(self.y, self.x.shape)\n",
    "        \n",
    "        self.length = self.x.shape[0]\n",
    "\n",
    "     \n",
    "    def __getitem__(self, index):\n",
    "        sample = self.x[index], self.y[index]\n",
    "\n",
    "        if self.transform:\n",
    "            sample = self.transform(sample)\n",
    "        return sample\n",
    "\n",
    "    def __len__(self):\n",
    "        return self.length"
   ]
  },
  {
   "cell_type": "markdown",
   "id": "level-seminar",
   "metadata": {},
   "source": [
    "### Custom Transforms\n",
    "We are going to use the `__call__` method:\n",
    "The `__call__` method enables Python programmers to write classes where the instances behave like functions and can be called like a function. When the instance is called as a function; if this method is defined"
   ]
  },
  {
   "cell_type": "markdown",
   "id": "functioning-delaware",
   "metadata": {},
   "source": [
    "#### How does the `__call__` works"
   ]
  },
  {
   "cell_type": "code",
   "execution_count": 3,
   "id": "suspended-native",
   "metadata": {},
   "outputs": [
    {
     "name": "stdout",
     "output_type": "stream",
     "text": [
      "Im a dog class\n"
     ]
    }
   ],
   "source": [
    "class Dog:\n",
    "    def __init__(self):\n",
    "        pass\n",
    "    def __call__(self):\n",
    "        print(\"Im a dog class\")      \n",
    "e = Dog()\n",
    "e()\n",
    "        "
   ]
  },
  {
   "cell_type": "code",
   "execution_count": 4,
   "id": "radical-castle",
   "metadata": {},
   "outputs": [
    {
     "name": "stdout",
     "output_type": "stream",
     "text": [
      "Im a dog Hello\n"
     ]
    }
   ],
   "source": [
    "class Dog:\n",
    "    def __init__(self):\n",
    "        pass\n",
    "    def __call__(self, name):\n",
    "        print(\"Im a dog {}\".format(name))\n",
    "ob = Dog()\n",
    "ob(\"Hello\")"
   ]
  },
  {
   "cell_type": "markdown",
   "id": "extraordinary-special",
   "metadata": {},
   "source": [
    "### ToTensor Transformation\n",
    "> we are going to create a transform that converts our numpy array to tensors."
   ]
  },
  {
   "cell_type": "code",
   "execution_count": 22,
   "id": "brilliant-province",
   "metadata": {},
   "outputs": [],
   "source": [
    "class ToTensor:\n",
    "    def __call__(self, sample):\n",
    "        inputs, targets = sample\n",
    "        return torch.from_numpy(inputs), torch.from_numpy(targets)"
   ]
  },
  {
   "cell_type": "code",
   "execution_count": 18,
   "id": "regulation-australian",
   "metadata": {},
   "outputs": [
    {
     "data": {
      "text/plain": [
       "(array([[1.423e+01, 1.710e+00, 2.430e+00, 1.560e+01, 1.270e+02, 2.800e+00,\n",
       "         3.060e+00, 2.800e-01, 2.290e+00, 5.640e+00, 1.040e+00, 3.920e+00,\n",
       "         1.065e+03],\n",
       "        [1.320e+01, 1.780e+00, 2.140e+00, 1.120e+01, 1.000e+02, 2.650e+00,\n",
       "         2.760e+00, 2.600e-01, 1.280e+00, 4.380e+00, 1.050e+00, 3.400e+00,\n",
       "         1.050e+03]]),\n",
       " array([[1.],\n",
       "        [1.]]))"
      ]
     },
     "execution_count": 18,
     "metadata": {},
     "output_type": "execute_result"
    }
   ],
   "source": [
    "wine = Wine()\n",
    "wine[:2] ## numpy array"
   ]
  },
  {
   "cell_type": "markdown",
   "id": "seven-franklin",
   "metadata": {},
   "source": [
    "### Apply ToTensor Transformation to wine"
   ]
  },
  {
   "cell_type": "code",
   "execution_count": 24,
   "id": "ordered-metadata",
   "metadata": {},
   "outputs": [
    {
     "data": {
      "text/plain": [
       "(tensor([1.4230e+01, 1.7100e+00, 2.4300e+00, 1.5600e+01, 1.2700e+02, 2.8000e+00,\n",
       "         3.0600e+00, 2.8000e-01, 2.2900e+00, 5.6400e+00, 1.0400e+00, 3.9200e+00,\n",
       "         1.0650e+03], dtype=torch.float64),\n",
       " tensor([1.], dtype=torch.float64))"
      ]
     },
     "execution_count": 24,
     "metadata": {},
     "output_type": "execute_result"
    }
   ],
   "source": [
    "wine = Wine(transform=ToTensor())\n",
    "wine[0]"
   ]
  },
  {
   "cell_type": "markdown",
   "id": "romance-might",
   "metadata": {},
   "source": [
    "### MulTransform Transformation\n",
    "> This transform is very useful, let's say we have an image thatwe want to pass to our Network, Sometimes we may want to scale each pixel value by dividing by `255` we can use this transform."
   ]
  },
  {
   "cell_type": "code",
   "execution_count": 28,
   "id": "flush-trademark",
   "metadata": {},
   "outputs": [],
   "source": [
    "class MulTransform:\n",
    "    def __init__(self, factor):\n",
    "        self.factor = factor\n",
    "    \n",
    "    def __call__(self, sample):\n",
    "        inputs, targets = sample\n",
    "        inputs *= self.factor\n",
    "        return inputs, sample"
   ]
  },
  {
   "cell_type": "markdown",
   "id": "interesting-massachusetts",
   "metadata": {},
   "source": [
    "### Using Multiple transforms\n",
    "> `torchvison` has a `Compose` function that allows us to pass mutiple transform as a list. For example let's say we want to apply transforms on out `Wine` datasets we can do it as follows."
   ]
  },
  {
   "cell_type": "code",
   "execution_count": 29,
   "id": "short-integration",
   "metadata": {},
   "outputs": [
    {
     "data": {
      "text/plain": [
       "Compose(\n",
       "    <__main__.ToTensor object at 0x00000237826F5E50>\n",
       "    <__main__.MulTransform object at 0x00000237826F5D90>\n",
       ")"
      ]
     },
     "execution_count": 29,
     "metadata": {},
     "output_type": "execute_result"
    }
   ],
   "source": [
    "composed = torchvision.transforms.Compose([\n",
    "    ToTensor(),\n",
    "    MulTransform(4)\n",
    "])\n",
    "composed"
   ]
  },
  {
   "cell_type": "code",
   "execution_count": 30,
   "id": "quiet-output",
   "metadata": {},
   "outputs": [
    {
     "data": {
      "text/plain": [
       "(tensor([[5.6920e+01, 6.8400e+00, 9.7200e+00, 6.2400e+01, 5.0800e+02, 1.1200e+01,\n",
       "          1.2240e+01, 1.1200e+00, 9.1600e+00, 2.2560e+01, 4.1600e+00, 1.5680e+01,\n",
       "          4.2600e+03],\n",
       "         [5.2800e+01, 7.1200e+00, 8.5600e+00, 4.4800e+01, 4.0000e+02, 1.0600e+01,\n",
       "          1.1040e+01, 1.0400e+00, 5.1200e+00, 1.7520e+01, 4.2000e+00, 1.3600e+01,\n",
       "          4.2000e+03]], dtype=torch.float64),\n",
       " (tensor([[5.6920e+01, 6.8400e+00, 9.7200e+00, 6.2400e+01, 5.0800e+02, 1.1200e+01,\n",
       "           1.2240e+01, 1.1200e+00, 9.1600e+00, 2.2560e+01, 4.1600e+00, 1.5680e+01,\n",
       "           4.2600e+03],\n",
       "          [5.2800e+01, 7.1200e+00, 8.5600e+00, 4.4800e+01, 4.0000e+02, 1.0600e+01,\n",
       "           1.1040e+01, 1.0400e+00, 5.1200e+00, 1.7520e+01, 4.2000e+00, 1.3600e+01,\n",
       "           4.2000e+03]], dtype=torch.float64),\n",
       "  tensor([[1.],\n",
       "          [1.]], dtype=torch.float64)))"
      ]
     },
     "execution_count": 30,
     "metadata": {},
     "output_type": "execute_result"
    }
   ],
   "source": [
    "wine = Wine(composed)\n",
    "wine[:2]"
   ]
  },
  {
   "cell_type": "markdown",
   "id": "requested-surprise",
   "metadata": {},
   "source": [
    "> That's the basics about transforms."
   ]
  }
 ],
 "metadata": {
  "kernelspec": {
   "display_name": "Python 3",
   "language": "python",
   "name": "python3"
  },
  "language_info": {
   "codemirror_mode": {
    "name": "ipython",
    "version": 3
   },
   "file_extension": ".py",
   "mimetype": "text/x-python",
   "name": "python",
   "nbconvert_exporter": "python",
   "pygments_lexer": "ipython3",
   "version": "3.8.5"
  }
 },
 "nbformat": 4,
 "nbformat_minor": 5
}
