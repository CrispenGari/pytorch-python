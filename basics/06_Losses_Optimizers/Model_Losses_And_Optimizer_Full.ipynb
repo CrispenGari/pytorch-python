{
 "cells": [
  {
   "cell_type": "markdown",
   "id": "equipped-indiana",
   "metadata": {},
   "source": [
    "## Model_Losses_And_Optimizer_Full"
   ]
  },
  {
   "cell_type": "code",
   "execution_count": 1,
   "id": "vulnerable-projector",
   "metadata": {},
   "outputs": [],
   "source": [
    "import torch\n",
    "import torch.nn as nn"
   ]
  },
  {
   "cell_type": "markdown",
   "id": "opponent-marker",
   "metadata": {},
   "source": [
    "### Data"
   ]
  },
  {
   "cell_type": "markdown",
   "id": "coated-supply",
   "metadata": {},
   "source": [
    "> We are going to create a `2d` tensor for inputs and labels, this is very important in `pytorch`"
   ]
  },
  {
   "cell_type": "code",
   "execution_count": 2,
   "id": "dress-association",
   "metadata": {},
   "outputs": [
    {
     "data": {
      "text/plain": [
       "(tensor([[0.],\n",
       "         [1.],\n",
       "         [2.],\n",
       "         [3.],\n",
       "         [4.],\n",
       "         [5.]]),\n",
       " tensor([[ 0.],\n",
       "         [ 2.],\n",
       "         [ 4.],\n",
       "         [ 6.],\n",
       "         [ 8.],\n",
       "         [10.]]),\n",
       " 2)"
      ]
     },
     "execution_count": 2,
     "metadata": {},
     "output_type": "execute_result"
    }
   ],
   "source": [
    "X = torch.tensor([[0], [1], [2], [3], [4], [5.]], dtype=torch.float32)\n",
    "y = torch.tensor([[0], [2], [4],[ 6], [8], [10.]], dtype=torch.float32)\n",
    "X, y, X.ndim"
   ]
  },
  {
   "cell_type": "markdown",
   "id": "severe-hepatitis",
   "metadata": {},
   "source": [
    "### Test Data"
   ]
  },
  {
   "cell_type": "code",
   "execution_count": 3,
   "id": "intermediate-architect",
   "metadata": {},
   "outputs": [
    {
     "data": {
      "text/plain": [
       "(tensor([[6.],\n",
       "         [7.],\n",
       "         [8.],\n",
       "         [9.]]),\n",
       " tensor([[12.],\n",
       "         [14.],\n",
       "         [16.],\n",
       "         [18.]]))"
      ]
     },
     "execution_count": 3,
     "metadata": {},
     "output_type": "execute_result"
    }
   ],
   "source": [
    "X_test = torch.tensor([6., 7, 8, 9],  dtype=torch.float32).view(4, 1)\n",
    "y_test = torch.tensor([12., 14, 16, 18],  dtype=torch.float32).view(4, 1)\n",
    "X_test, y_test"
   ]
  },
  {
   "cell_type": "markdown",
   "id": "amino-viewer",
   "metadata": {},
   "source": [
    "### Model Creation\n",
    "> We are going to use the `nn.Linear()` to create our model, since this is a linear regression problem. **Note that if the problem is linear** we should use `MSELoss` as our loss function."
   ]
  },
  {
   "cell_type": "code",
   "execution_count": 4,
   "id": "invisible-african",
   "metadata": {},
   "outputs": [
    {
     "data": {
      "text/plain": [
       "(6, 1)"
      ]
     },
     "execution_count": 4,
     "metadata": {},
     "output_type": "execute_result"
    }
   ],
   "source": [
    "_, n_features = X.shape\n",
    "_, n_features"
   ]
  },
  {
   "cell_type": "code",
   "execution_count": 5,
   "id": "national-newfoundland",
   "metadata": {},
   "outputs": [],
   "source": [
    "input_size = n_features\n",
    "output_size = n_features"
   ]
  },
  {
   "cell_type": "code",
   "execution_count": 6,
   "id": "knowing-hypothetical",
   "metadata": {},
   "outputs": [],
   "source": [
    "model = nn.Linear(input_size, output_size)"
   ]
  },
  {
   "cell_type": "markdown",
   "id": "particular-affair",
   "metadata": {},
   "source": [
    "### Optimizer and Loss"
   ]
  },
  {
   "cell_type": "code",
   "execution_count": 7,
   "id": "floating-surname",
   "metadata": {},
   "outputs": [],
   "source": [
    "loss = nn.MSELoss()\n",
    "optimizer = torch.optim.SGD(model.parameters(), lr=.01)"
   ]
  },
  {
   "cell_type": "markdown",
   "id": "adaptive-spiritual",
   "metadata": {},
   "source": [
    "### Training the Model"
   ]
  },
  {
   "cell_type": "code",
   "execution_count": 8,
   "id": "optimum-election",
   "metadata": {},
   "outputs": [
    {
     "name": "stdout",
     "output_type": "stream",
     "text": [
      "Epochs: 1/200, loss: 19.267501831054688, weights: 0.7174955606460571\n",
      "Epochs: 11/200, loss: 0.3912017345428467, weights: 1.6846545934677124\n",
      "Epochs: 21/200, loss: 0.14186982810497284, weights: 1.8018593788146973\n",
      "Epochs: 31/200, loss: 0.12348330765962601, weights: 1.8242454528808594\n",
      "Epochs: 41/200, loss: 0.10964884608983994, weights: 1.8355774879455566\n",
      "Epochs: 51/200, loss: 0.09739154577255249, weights: 1.8451746702194214\n",
      "Epochs: 61/200, loss: 0.08650478720664978, weights: 1.8540996313095093\n",
      "Epochs: 71/200, loss: 0.07683498412370682, weights: 1.862497329711914\n",
      "Epochs: 81/200, loss: 0.06824610382318497, weights: 1.870410442352295\n",
      "Epochs: 91/200, loss: 0.060617316514253616, weights: 1.8778680562973022\n",
      "Epochs: 101/200, loss: 0.05384130775928497, weights: 1.8848965167999268\n",
      "Epochs: 111/200, loss: 0.047822728753089905, weights: 1.891520380973816\n",
      "Epochs: 121/200, loss: 0.042476996779441833, weights: 1.8977631330490112\n",
      "Epochs: 131/200, loss: 0.03772871941328049, weights: 1.9036465883255005\n",
      "Epochs: 141/200, loss: 0.03351135179400444, weights: 1.9091914892196655\n",
      "Epochs: 151/200, loss: 0.029765328392386436, weights: 1.9144173860549927\n",
      "Epochs: 161/200, loss: 0.02643805555999279, weights: 1.9193423986434937\n",
      "Epochs: 171/200, loss: 0.02348269522190094, weights: 1.923984169960022\n",
      "Epochs: 181/200, loss: 0.02085774391889572, weights: 1.9283586740493774\n",
      "Epochs: 191/200, loss: 0.018526164814829826, weights: 1.9324814081192017\n"
     ]
    }
   ],
   "source": [
    "EPOCHS = 200\n",
    "\n",
    "for epoch in range(EPOCHS):\n",
    "    # forward pass\n",
    "    y_pred = model(X)\n",
    "    ## loss\n",
    "    l = loss(y_pred, y)\n",
    "    ## gradiend - backward pass\n",
    "    l.backward()\n",
    "    ## updates the weights\n",
    "    optimizer.step()\n",
    "    ## zero the grad\n",
    "    optimizer.zero_grad()\n",
    "\n",
    "    if epoch%10 == 0:\n",
    "        [w, b] = model.parameters() ## unpack weights and bias\n",
    "        \n",
    "        print(f'Epochs: {epoch+1}/{EPOCHS}, loss: {l}, weights: {w[0][0]}')"
   ]
  },
  {
   "cell_type": "markdown",
   "id": "dangerous-treasury",
   "metadata": {},
   "source": [
    "### Making Predictions"
   ]
  },
  {
   "cell_type": "code",
   "execution_count": 14,
   "id": "auburn-membrane",
   "metadata": {},
   "outputs": [
    {
     "data": {
      "text/plain": [
       "tensor([4.0991], grad_fn=<AddBackward0>)"
      ]
     },
     "execution_count": 14,
     "metadata": {},
     "output_type": "execute_result"
    }
   ],
   "source": [
    "model(torch.tensor([2], dtype=torch.float32))"
   ]
  },
  {
   "cell_type": "markdown",
   "id": "empty-generator",
   "metadata": {},
   "source": [
    "### Evaluating the Model"
   ]
  },
  {
   "cell_type": "code",
   "execution_count": 15,
   "id": "ancient-clarity",
   "metadata": {},
   "outputs": [
    {
     "name": "stdout",
     "output_type": "stream",
     "text": [
      "Accuracy: 1.00\n"
     ]
    }
   ],
   "source": [
    "\n",
    "total, correct = 0, 0\n",
    "with torch.no_grad():\n",
    "    for x, y in zip(X_test, y_test):\n",
    "        pred = torch.round(model(x))\n",
    "        if pred == y:\n",
    "            correct +=1\n",
    "        total += 1\n",
    "    print(f\"Accuracy: {correct/total:.2f}\")"
   ]
  },
  {
   "cell_type": "markdown",
   "id": "private-satin",
   "metadata": {},
   "source": [
    "> **100%** Acurate again"
   ]
  },
  {
   "cell_type": "code",
   "execution_count": null,
   "id": "posted-housing",
   "metadata": {},
   "outputs": [],
   "source": []
  }
 ],
 "metadata": {
  "kernelspec": {
   "display_name": "Python 3",
   "language": "python",
   "name": "python3"
  },
  "language_info": {
   "codemirror_mode": {
    "name": "ipython",
    "version": 3
   },
   "file_extension": ".py",
   "mimetype": "text/x-python",
   "name": "python",
   "nbconvert_exporter": "python",
   "pygments_lexer": "ipython3",
   "version": "3.8.5"
  }
 },
 "nbformat": 4,
 "nbformat_minor": 5
}
