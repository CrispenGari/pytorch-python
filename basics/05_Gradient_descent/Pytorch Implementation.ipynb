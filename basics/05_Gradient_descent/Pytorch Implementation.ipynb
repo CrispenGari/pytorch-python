{
 "cells": [
  {
   "cell_type": "markdown",
   "id": "documented-employment",
   "metadata": {},
   "source": [
    "### Pytoch Implementaion\n",
    "> from the previous **numpy** implementation we created a function that calcualtes gradient, In this one we will use pytorch `requires_grad=True` when creating the weights and then call the `backward()` for `pytorch`to compute the gradents"
   ]
  },
  {
   "cell_type": "code",
   "execution_count": 1,
   "id": "crucial-wright",
   "metadata": {},
   "outputs": [],
   "source": [
    "import torch"
   ]
  },
  {
   "cell_type": "markdown",
   "id": "minute-future",
   "metadata": {},
   "source": [
    "### Data"
   ]
  },
  {
   "cell_type": "code",
   "execution_count": 3,
   "id": "acceptable-trout",
   "metadata": {},
   "outputs": [
    {
     "data": {
      "text/plain": [
       "(tensor([0., 1., 2., 3., 4., 5.]), tensor([ 0.,  2.,  4.,  6.,  8., 10.]))"
      ]
     },
     "execution_count": 3,
     "metadata": {},
     "output_type": "execute_result"
    }
   ],
   "source": [
    "X = torch.tensor([0, 1, 2, 3, 4, 5.], dtype=torch.float32)\n",
    "y = torch.tensor([0, 2, 4, 6, 8, 10.], dtype=torch.float32)\n",
    "X, y"
   ]
  },
  {
   "cell_type": "markdown",
   "id": "ranking-exclusive",
   "metadata": {},
   "source": [
    "### Weights"
   ]
  },
  {
   "cell_type": "code",
   "execution_count": 4,
   "id": "nonprofit-arrow",
   "metadata": {},
   "outputs": [
    {
     "data": {
      "text/plain": [
       "tensor(0., requires_grad=True)"
      ]
     },
     "execution_count": 4,
     "metadata": {},
     "output_type": "execute_result"
    }
   ],
   "source": [
    "w = torch.tensor(0., requires_grad=True, dtype=torch.float32)\n",
    "w"
   ]
  },
  {
   "cell_type": "markdown",
   "id": "authorized-avatar",
   "metadata": {},
   "source": [
    "### Model "
   ]
  },
  {
   "cell_type": "code",
   "execution_count": 5,
   "id": "allied-morning",
   "metadata": {},
   "outputs": [],
   "source": [
    "def forward(x):\n",
    "    return x * w"
   ]
  },
  {
   "cell_type": "markdown",
   "id": "satisfactory-solomon",
   "metadata": {},
   "source": [
    "### Loss"
   ]
  },
  {
   "cell_type": "code",
   "execution_count": 6,
   "id": "mechanical-tracker",
   "metadata": {},
   "outputs": [],
   "source": [
    "# MSE-loss\n",
    "def loss(y, y_pred):\n",
    "    return ((y_pred - y)**2).mean()"
   ]
  },
  {
   "cell_type": "markdown",
   "id": "constitutional-nancy",
   "metadata": {},
   "source": [
    "### Prediction before training"
   ]
  },
  {
   "cell_type": "code",
   "execution_count": 7,
   "id": "interracial-trailer",
   "metadata": {},
   "outputs": [
    {
     "data": {
      "text/plain": [
       "tensor(0., grad_fn=<MulBackward0>)"
      ]
     },
     "execution_count": 7,
     "metadata": {},
     "output_type": "execute_result"
    }
   ],
   "source": [
    "forward(3)"
   ]
  },
  {
   "cell_type": "markdown",
   "id": "caring-intervention",
   "metadata": {},
   "source": [
    "### Training"
   ]
  },
  {
   "cell_type": "code",
   "execution_count": 15,
   "id": "infectious-samuel",
   "metadata": {},
   "outputs": [
    {
     "name": "stdout",
     "output_type": "stream",
     "text": [
      "Epochs: 10/100, weights: 1.951 loss: 0.023\n",
      "Epochs: 20/100, weights: 1.959 loss: 0.016\n",
      "Epochs: 30/100, weights: 1.966 loss: 0.011\n",
      "Epochs: 40/100, weights: 1.972 loss: 0.008\n",
      "Epochs: 50/100, weights: 1.977 loss: 0.005\n",
      "Epochs: 60/100, weights: 1.981 loss: 0.004\n",
      "Epochs: 70/100, weights: 1.984 loss: 0.002\n",
      "Epochs: 80/100, weights: 1.987 loss: 0.002\n",
      "Epochs: 90/100, weights: 1.989 loss: 0.001\n",
      "Epochs: 100/100, weights: 1.991 loss: 0.001\n"
     ]
    }
   ],
   "source": [
    "EPOCHS = 100\n",
    "lr = .001\n",
    "\n",
    "for epoch in range(EPOCHS):\n",
    "    # FORWARD PASS\n",
    "    y_pred = forward(X)\n",
    "    \n",
    "    # Loss Calc\n",
    "    l = loss(y_pred, y)\n",
    "    \n",
    "    ## backward pass - calculating the gradients\n",
    "    \n",
    "    l.backward()\n",
    "    \n",
    "    ## Updating the weights  - The w update must not be tracked\n",
    "    with torch.no_grad():\n",
    "        w -= lr * w.grad\n",
    "    w.grad.zero_()\n",
    "    \n",
    "    if (epoch + 1) % 10 == 0:\n",
    "        print(f'Epochs: {epoch+1}/{EPOCHS}, weights: {w:.3f} loss: {l.detach().numpy():.3f}')\n",
    "    "
   ]
  },
  {
   "cell_type": "markdown",
   "id": "floral-array",
   "metadata": {},
   "source": [
    "### Prediction after trainning"
   ]
  },
  {
   "cell_type": "code",
   "execution_count": 17,
   "id": "rocky-management",
   "metadata": {},
   "outputs": [
    {
     "data": {
      "text/plain": [
       "tensor(9.9535, grad_fn=<MulBackward0>)"
      ]
     },
     "execution_count": 17,
     "metadata": {},
     "output_type": "execute_result"
    }
   ],
   "source": [
    "forward(5)"
   ]
  },
  {
   "cell_type": "markdown",
   "id": "three-franchise",
   "metadata": {},
   "source": [
    "> The model is not that far away from pridicting `10`"
   ]
  },
  {
   "cell_type": "markdown",
   "id": "regional-partner",
   "metadata": {},
   "source": [
    "### Evaluating the model"
   ]
  },
  {
   "cell_type": "code",
   "execution_count": 19,
   "id": "substantial-anthropology",
   "metadata": {},
   "outputs": [],
   "source": [
    "X_test = torch.tensor([11, 12, 13, 14], dtype=torch.float32)\n",
    "y_test = torch.tensor([22, 24, 26, 28], dtype=torch.float32)"
   ]
  },
  {
   "cell_type": "code",
   "execution_count": 20,
   "id": "complimentary-boundary",
   "metadata": {},
   "outputs": [
    {
     "name": "stdout",
     "output_type": "stream",
     "text": [
      "tensor(22.) tensor(22.)\n",
      "tensor(24.) tensor(24.)\n",
      "tensor(26.) tensor(26.)\n",
      "tensor(28.) tensor(28.)\n"
     ]
    }
   ],
   "source": [
    "total, correct = 0, 0\n",
    "with torch.no_grad():\n",
    "    for x, y in zip(X_test, y_test):\n",
    "        pred = torch.round(forward(x))\n",
    "        \n",
    "        if pred == y:\n",
    "            correct +=1\n",
    "        total += 1\n",
    "    print(\"Ac\")"
   ]
  },
  {
   "cell_type": "code",
   "execution_count": null,
   "id": "proved-tribe",
   "metadata": {},
   "outputs": [],
   "source": []
  }
 ],
 "metadata": {
  "kernelspec": {
   "display_name": "Python 3",
   "language": "python",
   "name": "python3"
  },
  "language_info": {
   "codemirror_mode": {
    "name": "ipython",
    "version": 3
   },
   "file_extension": ".py",
   "mimetype": "text/x-python",
   "name": "python",
   "nbconvert_exporter": "python",
   "pygments_lexer": "ipython3",
   "version": "3.8.5"
  }
 },
 "nbformat": 4,
 "nbformat_minor": 5
}
