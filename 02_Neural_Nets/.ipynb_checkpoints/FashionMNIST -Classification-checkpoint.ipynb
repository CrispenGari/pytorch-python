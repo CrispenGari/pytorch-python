{
 "cells": [
  {
   "cell_type": "markdown",
   "id": "marked-lexington",
   "metadata": {},
   "source": [
    "### FashionMINIST\n",
    "We want to build a `torch` Neural Network that classifies different `10` classes of clothes using `FashionMNIST` dataset."
   ]
  },
  {
   "cell_type": "code",
   "execution_count": 1,
   "id": "spanish-liberia",
   "metadata": {},
   "outputs": [],
   "source": [
    "import torch\n",
    "import torchvision\n",
    "from torchvision import datasets, transforms\n",
    "from matplotlib import pyplot as plt\n",
    "import numpy as np"
   ]
  },
  {
   "cell_type": "code",
   "execution_count": 7,
   "id": "uniform-revelation",
   "metadata": {},
   "outputs": [],
   "source": [
    "train = datasets.FashionMNIST('', train=True, download=True,\n",
    "                              transform= transforms.Compose([\n",
    "                                  transforms.ToTensor()\n",
    "                            ]))\n",
    "test = datasets.FashionMNIST('', train=False, download=True,\n",
    "                              transform= transforms.Compose([\n",
    "                                  transforms.ToTensor()\n",
    "                            ]))"
   ]
  },
  {
   "cell_type": "code",
   "execution_count": 9,
   "id": "bizarre-haiti",
   "metadata": {},
   "outputs": [],
   "source": [
    "trainset = torch.utils.data.DataLoader(train, batch_size= 10, shuffle=True)\n",
    "testset = torch.utils.data.DataLoader(test, batch_size= 10, shuffle=False)"
   ]
  },
  {
   "cell_type": "markdown",
   "id": "studied-clearing",
   "metadata": {},
   "source": [
    "> Now we have our `trainset` and `testset` we can move forward"
   ]
  },
  {
   "cell_type": "code",
   "execution_count": 45,
   "id": "impaired-mobility",
   "metadata": {},
   "outputs": [
    {
     "name": "stdout",
     "output_type": "stream",
     "text": [
      "[tensor([[[[0.0000, 0.0000, 0.0000,  ..., 0.0000, 0.0000, 0.0000],\n",
      "          [0.0000, 0.0000, 0.0000,  ..., 0.0000, 0.0000, 0.0000],\n",
      "          [0.0000, 0.0000, 0.0000,  ..., 0.0000, 0.0000, 0.0000],\n",
      "          ...,\n",
      "          [0.0000, 0.0000, 0.0000,  ..., 0.0000, 0.0000, 0.0000],\n",
      "          [0.0000, 0.0000, 0.0000,  ..., 0.0000, 0.0000, 0.0000],\n",
      "          [0.0000, 0.0000, 0.0000,  ..., 0.0000, 0.0000, 0.0000]]],\n",
      "\n",
      "\n",
      "        [[[0.0000, 0.0000, 0.0000,  ..., 0.0000, 0.0000, 0.0000],\n",
      "          [0.0000, 0.0000, 0.0000,  ..., 0.0000, 0.0000, 0.0000],\n",
      "          [0.0000, 0.0000, 0.0000,  ..., 0.0000, 0.0000, 0.0000],\n",
      "          ...,\n",
      "          [0.0000, 0.0000, 0.0000,  ..., 0.0000, 0.0000, 0.0000],\n",
      "          [0.0000, 0.0000, 0.0000,  ..., 0.0000, 0.0000, 0.0000],\n",
      "          [0.0000, 0.0000, 0.0000,  ..., 0.0000, 0.0000, 0.0000]]],\n",
      "\n",
      "\n",
      "        [[[0.0000, 0.0000, 0.0000,  ..., 0.0000, 0.0000, 0.0000],\n",
      "          [0.0000, 0.0000, 0.0000,  ..., 0.0000, 0.0000, 0.0000],\n",
      "          [0.0000, 0.0000, 0.0000,  ..., 0.0000, 0.0000, 0.0000],\n",
      "          ...,\n",
      "          [0.0000, 0.0000, 0.0000,  ..., 0.0000, 0.0000, 0.0000],\n",
      "          [0.0000, 0.0000, 0.0000,  ..., 0.0000, 0.0000, 0.0000],\n",
      "          [0.0000, 0.0000, 0.0000,  ..., 0.0000, 0.0000, 0.0000]]],\n",
      "\n",
      "\n",
      "        ...,\n",
      "\n",
      "\n",
      "        [[[0.0000, 0.0000, 0.0000,  ..., 0.0000, 0.0000, 0.0000],\n",
      "          [0.0000, 0.0000, 0.0000,  ..., 0.0000, 0.0000, 0.0000],\n",
      "          [0.0000, 0.0000, 0.0000,  ..., 0.0000, 0.0000, 0.0000],\n",
      "          ...,\n",
      "          [0.0000, 0.0000, 0.0000,  ..., 0.0000, 0.0000, 0.0000],\n",
      "          [0.0000, 0.0000, 0.0000,  ..., 0.0000, 0.0000, 0.0000],\n",
      "          [0.0000, 0.0000, 0.0000,  ..., 0.0000, 0.0000, 0.0000]]],\n",
      "\n",
      "\n",
      "        [[[0.0000, 0.0000, 0.0039,  ..., 0.0000, 0.0000, 0.0000],\n",
      "          [0.0000, 0.0000, 0.0039,  ..., 0.0000, 0.0000, 0.0000],\n",
      "          [0.0000, 0.0000, 0.0039,  ..., 0.0000, 0.0000, 0.0000],\n",
      "          ...,\n",
      "          [0.0000, 0.0000, 0.2275,  ..., 0.2353, 0.0000, 0.0000],\n",
      "          [0.0000, 0.0000, 0.2863,  ..., 0.3137, 0.0000, 0.0000],\n",
      "          [0.0000, 0.0000, 0.0745,  ..., 0.0667, 0.0000, 0.0000]]],\n",
      "\n",
      "\n",
      "        [[[0.0000, 0.0000, 0.0000,  ..., 0.0000, 0.0000, 0.0000],\n",
      "          [0.0000, 0.0000, 0.0000,  ..., 0.0000, 0.0000, 0.0000],\n",
      "          [0.0000, 0.0000, 0.0000,  ..., 0.0000, 0.0000, 0.0000],\n",
      "          ...,\n",
      "          [0.0000, 0.0000, 0.0000,  ..., 0.0000, 0.0000, 0.0000],\n",
      "          [0.0000, 0.0000, 0.0000,  ..., 0.0000, 0.0000, 0.0000],\n",
      "          [0.0000, 0.0000, 0.0000,  ..., 0.0000, 0.0000, 0.0000]]]]), tensor([7, 6, 3, 2, 8, 6, 5, 6, 2, 4])]\n"
     ]
    }
   ],
   "source": [
    "for X in trainset:\n",
    "    print(X)\n",
    "    break"
   ]
  },
  {
   "cell_type": "code",
   "execution_count": 16,
   "id": "whole-hundred",
   "metadata": {},
   "outputs": [
    {
     "data": {
      "text/plain": [
       "<matplotlib.image.AxesImage at 0x22b2327a670>"
      ]
     },
     "execution_count": 16,
     "metadata": {},
     "output_type": "execute_result"
    },
    {
     "data": {
      "image/png": "[encoded data removed]",
      "text/plain": [
       "<Figure size 432x288 with 1 Axes>"
      ]
     },
     "metadata": {
      "needs_background": "light"
     },
     "output_type": "display_data"
    }
   ],
   "source": [
    "plt.imshow(data[0][1].view(28,28), cmap=\"gray\")"
   ]
  },
  {
   "cell_type": "markdown",
   "id": "sharing-bunch",
   "metadata": {},
   "source": [
    "### Neural Net Creation."
   ]
  },
  {
   "cell_type": "code",
   "execution_count": 17,
   "id": "heavy-review",
   "metadata": {},
   "outputs": [],
   "source": [
    "from torch import nn\n",
    "import torch.nn.functional as F\n",
    "import torch.optim as optim"
   ]
  },
  {
   "cell_type": "code",
   "execution_count": 39,
   "id": "infrared-intervention",
   "metadata": {},
   "outputs": [
    {
     "data": {
      "text/plain": [
       "Net(\n",
       "  (fc1): Linear(in_features=784, out_features=64, bias=True)\n",
       "  (fc2): Linear(in_features=64, out_features=64, bias=True)\n",
       "  (fc3): Linear(in_features=64, out_features=64, bias=True)\n",
       "  (fc4): Linear(in_features=64, out_features=16, bias=True)\n",
       "  (fc5): Linear(in_features=16, out_features=10, bias=True)\n",
       ")"
      ]
     },
     "execution_count": 39,
     "metadata": {},
     "output_type": "execute_result"
    }
   ],
   "source": [
    "class Net(nn.Module):\n",
    "    def __init__(self):\n",
    "        super().__init__()\n",
    "        self.fc1 = nn.Linear(28*28, 64)\n",
    "        self.fc2 = nn.Linear(64, 64)\n",
    "        self.fc3 = nn.Linear(64, 64)\n",
    "        self.fc4 = nn.Linear(64, 16)\n",
    "        self.fc5 = nn.Linear(16, 10)\n",
    "        \n",
    "    def forward(self, X):\n",
    "        X = F.relu(self.fc1(X))\n",
    "        X = F.relu(self.fc2(X))\n",
    "        X = F.relu(self.fc3(X))\n",
    "        X = F.relu(self.fc4(X))\n",
    "        X = F.log_softmax(self.fc5(X), dim=1)\n",
    "        return X\n",
    "net = Net()\n",
    "net"
   ]
  },
  {
   "cell_type": "code",
   "execution_count": null,
   "id": "hawaiian-lending",
   "metadata": {},
   "outputs": [],
   "source": []
  },
  {
   "cell_type": "markdown",
   "id": "awful-imperial",
   "metadata": {},
   "source": [
    "### Training our NN."
   ]
  },
  {
   "cell_type": "code",
   "execution_count": 40,
   "id": "breathing-stanford",
   "metadata": {},
   "outputs": [],
   "source": [
    "loss = nn.CrossEntropyLoss()\n",
    "optimizer = optim.Adam(net.parameters(), lr=0.001)"
   ]
  },
  {
   "cell_type": "code",
   "execution_count": 41,
   "id": "chinese-wedding",
   "metadata": {},
   "outputs": [
    {
     "name": "stdout",
     "output_type": "stream",
     "text": [
      "0/3\n",
      "tensor(0.6601, grad_fn=<NllLossBackward>)\n",
      "1/3\n",
      "tensor(0.6958, grad_fn=<NllLossBackward>)\n",
      "2/3\n",
      "tensor(0.1293, grad_fn=<NllLossBackward>)\n"
     ]
    }
   ],
   "source": [
    "EPOCHS = 3\n",
    "\n",
    "for epoch in range(EPOCHS):\n",
    "    print(f'{epoch}/{EPOCHS}')\n",
    "    for data in trainset:\n",
    "        X, y = data\n",
    "        net.zero_grad()\n",
    "        output = net(X.view(-1, 28*28))\n",
    "        loss = F.nll_loss(output, y)\n",
    "        loss.backward()\n",
    "        optimizer.step()\n",
    "    print(loss)"
   ]
  },
  {
   "cell_type": "markdown",
   "id": "valued-skirt",
   "metadata": {},
   "source": [
    "### Model Evaluation\n",
    "> We want to create a generic function that calculate the accuracy."
   ]
  },
  {
   "cell_type": "code",
   "execution_count": 42,
   "id": "worldwide-steps",
   "metadata": {},
   "outputs": [],
   "source": [
    "def evaluate(data):\n",
    "    n_correct, n_total = 0, 0\n",
    "    with torch.no_grad():\n",
    "        for data_ in data:\n",
    "            X, y = data_\n",
    "            output = net(X.view(-1, 28*28))\n",
    "            for i, j in enumerate(output):\n",
    "                if y[i] == torch.argmax(j):\n",
    "                    n_correct +=1\n",
    "                n_total +=1\n",
    "    print(\"Accuracy: \", n_correct / n_total)"
   ]
  },
  {
   "cell_type": "code",
   "execution_count": 43,
   "id": "united-database",
   "metadata": {},
   "outputs": [
    {
     "name": "stdout",
     "output_type": "stream",
     "text": [
      "TRAIN SET..\n",
      "Accuracy:  0.87585\n",
      "TEST SET..\n",
      "Accuracy:  0.8594\n"
     ]
    }
   ],
   "source": [
    "print(\"TRAIN SET..\")\n",
    "evaluate(trainset)\n",
    "\n",
    "print('TEST SET..')\n",
    "evaluate(testset)"
   ]
  },
  {
   "cell_type": "markdown",
   "id": "naughty-aaron",
   "metadata": {},
   "source": [
    "> `88%` accurate on the trainset and `86` on the test dataset."
   ]
  },
  {
   "cell_type": "markdown",
   "id": "according-pendant",
   "metadata": {},
   "source": [
    "#### Marking Predictions"
   ]
  },
  {
   "cell_type": "code",
   "execution_count": 44,
   "id": "alive-wallet",
   "metadata": {},
   "outputs": [],
   "source": [
    "class_names = ['T-shirt/top', 'Trouser', 'Pullover', 'Dress', 'Coat', 'Sandal', 'Shirt', 'Sneaker', 'Bag', 'Ankle boot']"
   ]
  },
  {
   "cell_type": "code",
   "execution_count": 50,
   "id": "excess-mixture",
   "metadata": {},
   "outputs": [
    {
     "data": {
      "text/plain": [
       "tensor([[[0.0000, 0.0000, 0.0000, 0.0000, 0.0000, 0.0000, 0.0000, 0.0000,\n",
       "          0.0000, 0.0000, 0.0000, 0.0000, 0.0000, 0.0000, 0.0000, 0.0000,\n",
       "          0.0000, 0.0000, 0.0000, 0.0000, 0.0000, 0.0000, 0.0000, 0.0000,\n",
       "          0.0000, 0.0000, 0.0000, 0.0000],\n",
       "         [0.0000, 0.0000, 0.0000, 0.0000, 0.0000, 0.0000, 0.0000, 0.0000,\n",
       "          0.0000, 0.0000, 0.0000, 0.0000, 0.0000, 0.0000, 0.0000, 0.0000,\n",
       "          0.0000, 0.0000, 0.0000, 0.0000, 0.0000, 0.0000, 0.0000, 0.0000,\n",
       "          0.0000, 0.0000, 0.0000, 0.0000],\n",
       "         [0.0000, 0.0000, 0.0000, 0.0000, 0.0000, 0.0000, 0.0000, 0.0000,\n",
       "          0.0000, 0.0000, 0.0000, 0.0000, 0.0000, 0.0000, 0.0000, 0.0000,\n",
       "          0.0000, 0.0000, 0.0000, 0.0000, 0.0000, 0.0000, 0.0000, 0.0000,\n",
       "          0.0000, 0.0000, 0.0000, 0.0000],\n",
       "         [0.0000, 0.0000, 0.0000, 0.0000, 0.0000, 0.0000, 0.0000, 0.0000,\n",
       "          0.0000, 0.0000, 0.0000, 0.0000, 0.0000, 0.0000, 0.0000, 0.0000,\n",
       "          0.0000, 0.0000, 0.0000, 0.0000, 0.0000, 0.0000, 0.0000, 0.0000,\n",
       "          0.0000, 0.0000, 0.0000, 0.0000],\n",
       "         [0.0000, 0.0000, 0.0000, 0.0000, 0.0000, 0.0000, 0.0000, 0.0000,\n",
       "          0.0000, 0.0000, 0.0000, 0.0000, 0.0000, 0.0000, 0.0000, 0.0000,\n",
       "          0.0000, 0.0000, 0.0000, 0.0000, 0.0000, 0.0000, 0.0000, 0.0000,\n",
       "          0.0000, 0.0000, 0.0000, 0.0000],\n",
       "         [0.0000, 0.0000, 0.0000, 0.0000, 0.0000, 0.0000, 0.0000, 0.0000,\n",
       "          0.0000, 0.0000, 0.0000, 0.0000, 0.0000, 0.0000, 0.0000, 0.0000,\n",
       "          0.0000, 0.0000, 0.0000, 0.0000, 0.0000, 0.0000, 0.0000, 0.0000,\n",
       "          0.0000, 0.0000, 0.0000, 0.0000],\n",
       "         [0.0000, 0.0000, 0.0000, 0.0000, 0.0000, 0.0000, 0.0000, 0.0000,\n",
       "          0.0000, 0.0000, 0.0000, 0.0000, 0.0000, 0.0000, 0.0000, 0.0000,\n",
       "          0.0000, 0.0000, 0.0000, 0.0000, 0.0000, 0.0000, 0.0000, 0.0000,\n",
       "          0.0000, 0.0000, 0.0000, 0.0000],\n",
       "         [0.0000, 0.0000, 0.0000, 0.0000, 0.0000, 0.0000, 0.0000, 0.0000,\n",
       "          0.0000, 0.0000, 0.0000, 0.0000, 0.0000, 0.0000, 0.0000, 0.0000,\n",
       "          0.0000, 0.0000, 0.0000, 0.0000, 0.0000, 0.0000, 0.0000, 0.0000,\n",
       "          0.0000, 0.0000, 0.0000, 0.0000],\n",
       "         [0.0000, 0.0000, 0.0000, 0.0000, 0.0000, 0.0000, 0.0000, 0.0000,\n",
       "          0.0000, 0.0000, 0.0000, 0.0000, 0.0000, 0.0118, 0.0000, 0.0000,\n",
       "          0.0000, 0.0000, 0.4510, 0.3294, 0.0000, 0.0039, 0.0000, 0.0000,\n",
       "          0.0235, 0.0353, 0.0000, 0.0000],\n",
       "         [0.0000, 0.0000, 0.0000, 0.0000, 0.0000, 0.0000, 0.0000, 0.0000,\n",
       "          0.0000, 0.0000, 0.0118, 0.0000, 0.0000, 0.0000, 0.0000, 0.0980,\n",
       "          0.3647, 0.6157, 0.9255, 0.7098, 0.0000, 0.0039, 0.0000, 0.0000,\n",
       "          0.0000, 0.0000, 0.0000, 0.0000],\n",
       "         [0.0000, 0.0000, 0.0000, 0.0000, 0.0000, 0.0000, 0.0000, 0.0000,\n",
       "          0.0039, 0.0000, 0.0000, 0.0000, 0.0000, 0.3294, 0.8078, 1.0000,\n",
       "          0.8314, 0.8392, 0.8196, 0.0000, 0.0000, 0.0039, 0.0000, 0.0000,\n",
       "          0.5059, 0.6039, 0.0000, 0.0000],\n",
       "         [0.0000, 0.0000, 0.0000, 0.0000, 0.0000, 0.0118, 0.0078, 0.0000,\n",
       "          0.0000, 0.0000, 0.0000, 0.4510, 0.8549, 0.8549, 0.8118, 0.7922,\n",
       "          0.7843, 0.8353, 0.8431, 0.0000, 0.0000, 0.0000, 0.0000, 0.4118,\n",
       "          0.8706, 0.9608, 0.3098, 0.0000],\n",
       "         [0.0000, 0.0039, 0.0275, 0.0078, 0.0235, 0.0000, 0.0000, 0.0000,\n",
       "          0.0000, 0.2863, 0.7725, 0.9255, 0.7725, 0.6902, 0.7647, 0.8314,\n",
       "          0.8706, 0.8588, 0.9569, 0.9451, 0.6667, 0.4510, 0.6000, 0.8235,\n",
       "          0.8000, 0.9176, 0.6118, 0.0000],\n",
       "         [0.0000, 0.0000, 0.0000, 0.0000, 0.0000, 0.0000, 0.2314, 0.5804,\n",
       "          0.8353, 0.9137, 0.8196, 0.7529, 0.7490, 0.8471, 0.8471, 0.8235,\n",
       "          0.8549, 0.8471, 0.8863, 0.9137, 0.9333, 1.0000, 0.9020, 0.8588,\n",
       "          0.8706, 0.9020, 0.7255, 0.0000],\n",
       "         [0.0000, 0.0000, 0.1843, 0.4196, 0.6235, 0.8549, 0.8196, 0.8118,\n",
       "          0.7882, 0.7765, 0.7882, 0.8471, 0.8588, 0.8196, 0.8431, 0.8588,\n",
       "          0.8745, 0.8902, 0.8627, 0.9137, 0.9412, 0.8588, 0.8784, 0.8510,\n",
       "          0.8588, 0.9020, 0.7686, 0.0000],\n",
       "         [0.2627, 0.7137, 0.7529, 0.8078, 0.8118, 0.7725, 0.7490, 0.7765,\n",
       "          0.8118, 0.8039, 0.8549, 0.8000, 0.7961, 0.8588, 0.8431, 0.8471,\n",
       "          0.8667, 0.8824, 0.8902, 0.9961, 0.1137, 0.5059, 0.9490, 0.9059,\n",
       "          0.8706, 0.8745, 0.8980, 0.0941],\n",
       "         [0.5529, 0.8824, 0.8392, 0.8000, 0.7922, 0.8157, 0.8431, 0.7725,\n",
       "          0.7020, 0.7137, 0.7686, 0.7608, 0.7725, 0.8824, 0.9294, 0.9647,\n",
       "          0.9765, 0.9686, 0.9647, 1.0000, 0.6980, 0.7294, 0.9922, 0.8941,\n",
       "          0.9451, 0.8902, 0.8588, 0.0196],\n",
       "         [0.0000, 0.1137, 0.4863, 0.7765, 0.8627, 0.8824, 0.8824, 0.7686,\n",
       "          0.7137, 0.7647, 0.7882, 0.7922, 0.8392, 0.9216, 0.8902, 0.7725,\n",
       "          0.6314, 0.4941, 0.2667, 0.1255, 0.1020, 0.0000, 0.0000, 0.0392,\n",
       "          0.1843, 0.1373, 0.0000, 0.0000],\n",
       "         [0.0000, 0.0000, 0.0000, 0.0000, 0.0000, 0.0000, 0.0000, 0.0000,\n",
       "          0.0000, 0.0000, 0.0000, 0.0000, 0.0000, 0.0235, 0.0000, 0.0000,\n",
       "          0.0000, 0.0000, 0.0549, 0.0980, 0.1333, 0.1922, 0.1843, 0.1412,\n",
       "          0.0471, 0.0784, 0.1529, 0.1333],\n",
       "         [0.0000, 0.0000, 0.0314, 0.0588, 0.0588, 0.0510, 0.0588, 0.0863,\n",
       "          0.1059, 0.0902, 0.0941, 0.0902, 0.0941, 0.1176, 0.1490, 0.1804,\n",
       "          0.1725, 0.1686, 0.1529, 0.1686, 0.1490, 0.1059, 0.1373, 0.1255,\n",
       "          0.1412, 0.1333, 0.1176, 0.0824],\n",
       "         [0.0000, 0.0000, 0.0000, 0.0000, 0.0000, 0.0000, 0.0000, 0.0000,\n",
       "          0.0000, 0.0000, 0.0000, 0.0000, 0.0000, 0.0000, 0.0000, 0.0000,\n",
       "          0.0000, 0.0000, 0.0000, 0.0000, 0.0000, 0.0000, 0.0000, 0.0000,\n",
       "          0.0000, 0.0000, 0.0000, 0.0000],\n",
       "         [0.0000, 0.0000, 0.0000, 0.0000, 0.0000, 0.0000, 0.0000, 0.0000,\n",
       "          0.0000, 0.0000, 0.0000, 0.0000, 0.0000, 0.0000, 0.0000, 0.0000,\n",
       "          0.0000, 0.0000, 0.0000, 0.0000, 0.0000, 0.0000, 0.0000, 0.0000,\n",
       "          0.0000, 0.0000, 0.0000, 0.0000],\n",
       "         [0.0000, 0.0000, 0.0000, 0.0000, 0.0000, 0.0000, 0.0000, 0.0000,\n",
       "          0.0000, 0.0000, 0.0000, 0.0000, 0.0000, 0.0000, 0.0000, 0.0000,\n",
       "          0.0000, 0.0000, 0.0000, 0.0000, 0.0000, 0.0000, 0.0000, 0.0000,\n",
       "          0.0000, 0.0000, 0.0000, 0.0000],\n",
       "         [0.0000, 0.0000, 0.0000, 0.0000, 0.0000, 0.0000, 0.0000, 0.0000,\n",
       "          0.0000, 0.0000, 0.0000, 0.0000, 0.0000, 0.0000, 0.0000, 0.0000,\n",
       "          0.0000, 0.0000, 0.0000, 0.0000, 0.0000, 0.0000, 0.0000, 0.0000,\n",
       "          0.0000, 0.0000, 0.0000, 0.0000],\n",
       "         [0.0000, 0.0000, 0.0000, 0.0000, 0.0000, 0.0000, 0.0000, 0.0000,\n",
       "          0.0000, 0.0000, 0.0000, 0.0000, 0.0000, 0.0000, 0.0000, 0.0000,\n",
       "          0.0000, 0.0000, 0.0000, 0.0000, 0.0000, 0.0000, 0.0000, 0.0000,\n",
       "          0.0000, 0.0000, 0.0000, 0.0000],\n",
       "         [0.0000, 0.0000, 0.0000, 0.0000, 0.0000, 0.0000, 0.0000, 0.0000,\n",
       "          0.0000, 0.0000, 0.0000, 0.0000, 0.0000, 0.0000, 0.0000, 0.0000,\n",
       "          0.0000, 0.0000, 0.0000, 0.0000, 0.0000, 0.0000, 0.0000, 0.0000,\n",
       "          0.0000, 0.0000, 0.0000, 0.0000],\n",
       "         [0.0000, 0.0000, 0.0000, 0.0000, 0.0000, 0.0000, 0.0000, 0.0000,\n",
       "          0.0000, 0.0000, 0.0000, 0.0000, 0.0000, 0.0000, 0.0000, 0.0000,\n",
       "          0.0000, 0.0000, 0.0000, 0.0000, 0.0000, 0.0000, 0.0000, 0.0000,\n",
       "          0.0000, 0.0000, 0.0000, 0.0000],\n",
       "         [0.0000, 0.0000, 0.0000, 0.0000, 0.0000, 0.0000, 0.0000, 0.0000,\n",
       "          0.0000, 0.0000, 0.0000, 0.0000, 0.0000, 0.0000, 0.0000, 0.0000,\n",
       "          0.0000, 0.0000, 0.0000, 0.0000, 0.0000, 0.0000, 0.0000, 0.0000,\n",
       "          0.0000, 0.0000, 0.0000, 0.0000]]])"
      ]
     },
     "execution_count": 50,
     "metadata": {},
     "output_type": "execute_result"
    }
   ],
   "source": [
    "X[0][0]"
   ]
  },
  {
   "cell_type": "code",
   "execution_count": 54,
   "id": "twelve-shark",
   "metadata": {},
   "outputs": [
    {
     "data": {
      "text/plain": [
       "<matplotlib.image.AxesImage at 0x22b23395f70>"
      ]
     },
     "execution_count": 54,
     "metadata": {},
     "output_type": "execute_result"
    },
    {
     "data": {
      "image/png": "[encoded data removed]",
      "text/plain": [
       "<Figure size 432x288 with 1 Axes>"
      ]
     },
     "metadata": {
      "needs_background": "light"
     },
     "output_type": "display_data"
    }
   ],
   "source": [
    "plt.imshow(X[0][0].view(28, 28), cmap=\"gray\")"
   ]
  },
  {
   "cell_type": "code",
   "execution_count": 63,
   "id": "dutch-franklin",
   "metadata": {},
   "outputs": [
    {
     "data": {
      "text/plain": [
       "'Sneaker'"
      ]
     },
     "execution_count": 63,
     "metadata": {},
     "output_type": "execute_result"
    }
   ],
   "source": [
    "class_names[torch.argmax(net(X[0][0].view(-1, 28*28)))]"
   ]
  },
  {
   "cell_type": "markdown",
   "id": "valuable-assault",
   "metadata": {},
   "source": [
    "### Let's try to predict on a new image."
   ]
  },
  {
   "cell_type": "code",
   "execution_count": 70,
   "id": "increasing-triangle",
   "metadata": {
    "scrolled": true
   },
   "outputs": [
    {
     "data": {
      "text/plain": [
       "<matplotlib.image.AxesImage at 0x22b239f5fa0>"
      ]
     },
     "execution_count": 70,
     "metadata": {},
     "output_type": "execute_result"
    },
    {
     "data": {
      "image/png": "[encoded data removed]",
      "text/plain": [
       "<Figure size 432x288 with 1 Axes>"
      ]
     },
     "metadata": {
      "needs_background": "light"
     },
     "output_type": "display_data"
    }
   ],
   "source": [
    "import cv2\n",
    "image = cv2.imread('1.webp')\n",
    "image = cv2.cvtColor(image, cv2.COLOR_BGR2GRAY)\n",
    "plt.imshow(image, cmap=\"gray\")"
   ]
  },
  {
   "cell_type": "markdown",
   "id": "solar-agency",
   "metadata": {},
   "source": [
    "> Our image must be resized to `28x28`"
   ]
  },
  {
   "cell_type": "code",
   "execution_count": 77,
   "id": "collaborative-break",
   "metadata": {},
   "outputs": [
    {
     "data": {
      "text/plain": [
       "<matplotlib.image.AxesImage at 0x22b23241c70>"
      ]
     },
     "execution_count": 77,
     "metadata": {},
     "output_type": "execute_result"
    },
    {
     "data": {
      "image/png": "[encoded data removed]",
      "text/plain": [
       "<Figure size 432x288 with 1 Axes>"
      ]
     },
     "metadata": {
      "needs_background": "light"
     },
     "output_type": "display_data"
    }
   ],
   "source": [
    "image = cv2.resize(image, dsize=(28,28))\n",
    "plt.imshow(image, cmap=\"gray\")"
   ]
  },
  {
   "cell_type": "code",
   "execution_count": 78,
   "id": "indoor-feelings",
   "metadata": {},
   "outputs": [],
   "source": [
    "image = image[:]/255 # scalling the the image down"
   ]
  },
  {
   "cell_type": "code",
   "execution_count": 79,
   "id": "suitable-moral",
   "metadata": {},
   "outputs": [
    {
     "data": {
      "text/plain": [
       "<matplotlib.image.AxesImage at 0x22b2337ea00>"
      ]
     },
     "execution_count": 79,
     "metadata": {},
     "output_type": "execute_result"
    },
    {
     "data": {
      "image/png": "[encoded data removed]",
      "text/plain": [
       "<Figure size 432x288 with 1 Axes>"
      ]
     },
     "metadata": {
      "needs_background": "light"
     },
     "output_type": "display_data"
    }
   ],
   "source": [
    "plt.imshow(image, cmap=\"gray\")"
   ]
  },
  {
   "cell_type": "code",
   "execution_count": 82,
   "id": "suburban-stockholm",
   "metadata": {},
   "outputs": [
    {
     "data": {
      "text/plain": [
       "'Sandal'"
      ]
     },
     "execution_count": 82,
     "metadata": {},
     "output_type": "execute_result"
    }
   ],
   "source": [
    "class_names[torch.argmax(net(torch.tensor(image, dtype=torch.float32).view(-1, 28*28)))]"
   ]
  },
  {
   "cell_type": "markdown",
   "id": "standing-leone",
   "metadata": {},
   "source": [
    "> **Wrong prediction** a sneaker is not a sandal. "
   ]
  },
  {
   "cell_type": "code",
   "execution_count": null,
   "id": "foreign-armenia",
   "metadata": {},
   "outputs": [],
   "source": []
  }
 ],
 "metadata": {
  "kernelspec": {
   "display_name": "Python 3",
   "language": "python",
   "name": "python3"
  },
  "language_info": {
   "codemirror_mode": {
    "name": "ipython",
    "version": 3
   },
   "file_extension": ".py",
   "mimetype": "text/x-python",
   "name": "python",
   "nbconvert_exporter": "python",
   "pygments_lexer": "ipython3",
   "version": "3.8.5"
  }
 },
 "nbformat": 4,
 "nbformat_minor": 5
}
