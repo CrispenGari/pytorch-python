{
 "cells": [
  {
   "cell_type": "markdown",
   "metadata": {
    "id": "E-z6kH1cS7tf"
   },
   "source": [
    "## Ciffa10 - Image Classification -torch\n",
    "* The CIFAR-10 dataset consists of `60000` `32x32` colour images in `10` classes, with `6000` images per class. There are ``50000`` training images and ``10000`` test images.\n",
    "\n",
    "> **[Ciffa10](https://www.cs.toronto.edu/~kriz/cifar.html)**"
   ]
  },
  {
   "cell_type": "markdown",
   "metadata": {
    "id": "aq2HtVqTUaSP"
   },
   "source": [
    "### Imports"
   ]
  },
  {
   "cell_type": "code",
   "execution_count": 1,
   "metadata": {
    "id": "cm1btZtCUZ8v"
   },
   "outputs": [],
   "source": [
    "import numpy as np\n",
    "import torch\n",
    "import matplotlib.pyplot as plt\n",
    "from torchvision import transforms, datasets\n",
    "import torchvision"
   ]
  },
  {
   "cell_type": "markdown",
   "metadata": {
    "id": "1FTSgWn_VX1n"
   },
   "source": [
    "### Device configuration"
   ]
  },
  {
   "cell_type": "code",
   "execution_count": 2,
   "metadata": {
    "id": "L62IlibFSyJU"
   },
   "outputs": [],
   "source": [
    "device = \"cuda:0\" if torch.cuda.is_available() else \"cpu\""
   ]
  },
  {
   "cell_type": "markdown",
   "metadata": {
    "id": "5Aj7AGPqS621"
   },
   "source": [
    "### Data Preparation\n",
    "\n",
    "> Getting the train and tests datasets"
   ]
  },
  {
   "cell_type": "code",
   "execution_count": 3,
   "metadata": {
    "colab": {
     "base_uri": "https://localhost:8080/"
    },
    "id": "ivLicTsPVAOl",
    "outputId": "8ffda56b-7889-41ef-97ad-9691e7548e56"
   },
   "outputs": [
    {
     "name": "stdout",
     "output_type": "stream",
     "text": [
      "Files already downloaded and verified\n",
      "Files already downloaded and verified\n"
     ]
    }
   ],
   "source": [
    "train = datasets.CIFAR10('content/drive/', download=True, train=True, transform=transforms.Compose({\n",
    "    transforms.ToTensor()\n",
    "}))\n",
    "test = datasets.CIFAR10('/content/drive/', download=True, train=False, transform=transforms.Compose({\n",
    "    transforms.ToTensor()\n",
    "}))"
   ]
  },
  {
   "cell_type": "markdown",
   "metadata": {
    "id": "2B1GLGPcXXsn"
   },
   "source": [
    "> Loading the data using the `DataLoader` from `torch.utils.data`."
   ]
  },
  {
   "cell_type": "code",
   "execution_count": 4,
   "metadata": {
    "id": "Xz5--WnNWtBP"
   },
   "outputs": [],
   "source": [
    "BATCH_SIZE =10\n",
    "\n",
    "train_set = torch.utils.data.DataLoader(train, batch_size=BATCH_SIZE, shuffle=True)\n",
    "test_set = torch.utils.data.DataLoader(test, shuffle=False, batch_size=BATCH_SIZE)"
   ]
  },
  {
   "cell_type": "markdown",
   "metadata": {
    "id": "5veZ7CvYYPNV"
   },
   "source": [
    "### Iterating over the data"
   ]
  },
  {
   "cell_type": "code",
   "execution_count": 5,
   "metadata": {
    "colab": {
     "base_uri": "https://localhost:8080/"
    },
    "id": "cPVi3zLuYOTw",
    "outputId": "944dc014-54d6-4d8c-c6ea-3402465d0c9b"
   },
   "outputs": [
    {
     "name": "stdout",
     "output_type": "stream",
     "text": [
      "[tensor([[[[0.6706, 0.6784, 0.6863,  ..., 0.8353, 0.8706, 0.8824],\n",
      "          [0.6706, 0.6745, 0.6824,  ..., 0.8314, 0.8588, 0.8745],\n",
      "          [0.6706, 0.6745, 0.6824,  ..., 0.8275, 0.8471, 0.8627],\n",
      "          ...,\n",
      "          [0.3373, 0.3137, 0.3020,  ..., 0.2549, 0.2510, 0.2471],\n",
      "          [0.3255, 0.3137, 0.3098,  ..., 0.2510, 0.2510, 0.2510],\n",
      "          [0.3373, 0.3137, 0.2784,  ..., 0.2549, 0.2549, 0.2549]],\n",
      "\n",
      "         [[0.8078, 0.8039, 0.8039,  ..., 0.8902, 0.8902, 0.9020],\n",
      "          [0.8039, 0.7961, 0.7961,  ..., 0.8863, 0.8863, 0.8941],\n",
      "          [0.8039, 0.7922, 0.7961,  ..., 0.8824, 0.8824, 0.8902],\n",
      "          ...,\n",
      "          [0.3373, 0.3137, 0.3020,  ..., 0.2627, 0.2588, 0.2549],\n",
      "          [0.3255, 0.3137, 0.3098,  ..., 0.2588, 0.2588, 0.2588],\n",
      "          [0.3373, 0.3176, 0.2824,  ..., 0.2627, 0.2627, 0.2588]],\n",
      "\n",
      "         [[0.8314, 0.8314, 0.8353,  ..., 0.8706, 0.8863, 0.8941],\n",
      "          [0.8314, 0.8275, 0.8275,  ..., 0.8667, 0.8784, 0.8902],\n",
      "          [0.8275, 0.8235, 0.8275,  ..., 0.8627, 0.8706, 0.8824],\n",
      "          ...,\n",
      "          [0.3804, 0.3569, 0.3412,  ..., 0.2510, 0.2471, 0.2431],\n",
      "          [0.3686, 0.3529, 0.3451,  ..., 0.2510, 0.2510, 0.2510],\n",
      "          [0.3765, 0.3490, 0.3059,  ..., 0.2588, 0.2588, 0.2588]]],\n",
      "\n",
      "\n",
      "        [[[0.4824, 0.4784, 0.4824,  ..., 0.4275, 0.4196, 0.4118],\n",
      "          [0.4667, 0.4745, 0.4863,  ..., 0.4157, 0.4196, 0.4235],\n",
      "          [0.4745, 0.4510, 0.4667,  ..., 0.4353, 0.4196, 0.4157],\n",
      "          ...,\n",
      "          [0.1569, 0.1686, 0.1882,  ..., 0.3490, 0.4471, 0.5176],\n",
      "          [0.1725, 0.1882, 0.1961,  ..., 0.2196, 0.4863, 0.5647],\n",
      "          [0.1765, 0.1922, 0.2157,  ..., 0.2471, 0.4118, 0.4784]],\n",
      "\n",
      "         [[0.4431, 0.4353, 0.4392,  ..., 0.4588, 0.4471, 0.4471],\n",
      "          [0.4314, 0.4353, 0.4392,  ..., 0.4471, 0.4471, 0.4471],\n",
      "          [0.4314, 0.4196, 0.4196,  ..., 0.4392, 0.4431, 0.4353],\n",
      "          ...,\n",
      "          [0.2745, 0.2706, 0.2824,  ..., 0.3569, 0.4039, 0.4510],\n",
      "          [0.2824, 0.2863, 0.2902,  ..., 0.2392, 0.4392, 0.5059],\n",
      "          [0.2784, 0.2863, 0.3098,  ..., 0.2667, 0.3686, 0.4118]],\n",
      "\n",
      "         [[0.5412, 0.5294, 0.5294,  ..., 0.5765, 0.5882, 0.5922],\n",
      "          [0.5294, 0.5333, 0.5373,  ..., 0.5725, 0.5804, 0.5843],\n",
      "          [0.5216, 0.5216, 0.5176,  ..., 0.5686, 0.5686, 0.5686],\n",
      "          ...,\n",
      "          [0.4471, 0.4392, 0.4510,  ..., 0.4353, 0.4471, 0.4706],\n",
      "          [0.4706, 0.4745, 0.4824,  ..., 0.3294, 0.4706, 0.5176],\n",
      "          [0.4745, 0.4745, 0.4980,  ..., 0.3529, 0.4039, 0.4510]]],\n",
      "\n",
      "\n",
      "        [[[0.6549, 0.6824, 0.7412,  ..., 0.3922, 0.4824, 0.3608],\n",
      "          [0.7098, 0.7255, 0.6706,  ..., 0.2980, 0.3412, 0.2784],\n",
      "          [0.7843, 0.7961, 0.7098,  ..., 0.3686, 0.3490, 0.3882],\n",
      "          ...,\n",
      "          [0.7216, 0.7098, 0.7176,  ..., 0.2706, 0.2039, 0.3451],\n",
      "          [0.7020, 0.7098, 0.7176,  ..., 0.2941, 0.3647, 0.3961],\n",
      "          [0.5725, 0.5765, 0.5922,  ..., 0.4118, 0.5373, 0.6980]],\n",
      "\n",
      "         [[0.5922, 0.6118, 0.6627,  ..., 0.3373, 0.4235, 0.3020],\n",
      "          [0.6980, 0.7059, 0.6392,  ..., 0.2392, 0.2824, 0.2196],\n",
      "          [0.8118, 0.8157, 0.7216,  ..., 0.3059, 0.2902, 0.3294],\n",
      "          ...,\n",
      "          [0.7333, 0.7294, 0.7451,  ..., 0.2392, 0.1765, 0.3176],\n",
      "          [0.6980, 0.7098, 0.7255,  ..., 0.2627, 0.3373, 0.3725],\n",
      "          [0.5490, 0.5608, 0.5843,  ..., 0.3882, 0.5098, 0.6706]],\n",
      "\n",
      "         [[0.4667, 0.4824, 0.5255,  ..., 0.2392, 0.3333, 0.2275],\n",
      "          [0.5765, 0.5843, 0.5176,  ..., 0.1647, 0.2157, 0.1529],\n",
      "          [0.6824, 0.6902, 0.6039,  ..., 0.2392, 0.2196, 0.2510],\n",
      "          ...,\n",
      "          [0.6196, 0.6157, 0.6314,  ..., 0.1882, 0.1216, 0.2471],\n",
      "          [0.5804, 0.6078, 0.6353,  ..., 0.2078, 0.2627, 0.2863],\n",
      "          [0.4510, 0.4706, 0.5020,  ..., 0.3137, 0.4353, 0.5882]]],\n",
      "\n",
      "\n",
      "        ...,\n",
      "\n",
      "\n",
      "        [[[0.9216, 0.9216, 0.9020,  ..., 0.8196, 0.8706, 0.9059],\n",
      "          [0.8902, 0.8824, 0.8824,  ..., 0.7294, 0.7804, 0.9020],\n",
      "          [0.9176, 0.8902, 0.8902,  ..., 0.8392, 0.7804, 0.8118],\n",
      "          ...,\n",
      "          [1.0000, 0.9882, 0.9961,  ..., 0.9961, 0.9961, 0.9961],\n",
      "          [1.0000, 0.9922, 1.0000,  ..., 1.0000, 1.0000, 1.0000],\n",
      "          [0.9961, 0.9843, 0.9843,  ..., 0.9843, 0.9843, 0.9882]],\n",
      "\n",
      "         [[0.9216, 0.9216, 0.9020,  ..., 0.8196, 0.8706, 0.9059],\n",
      "          [0.8902, 0.8824, 0.8824,  ..., 0.7294, 0.7804, 0.9020],\n",
      "          [0.9137, 0.8902, 0.8902,  ..., 0.8392, 0.7804, 0.8118],\n",
      "          ...,\n",
      "          [1.0000, 0.9882, 0.9961,  ..., 0.9961, 0.9961, 0.9961],\n",
      "          [1.0000, 0.9922, 1.0000,  ..., 1.0000, 1.0000, 1.0000],\n",
      "          [0.9961, 0.9843, 0.9843,  ..., 0.9843, 0.9843, 0.9882]],\n",
      "\n",
      "         [[0.9216, 0.9216, 0.9020,  ..., 0.8196, 0.8706, 0.9059],\n",
      "          [0.8902, 0.8824, 0.8824,  ..., 0.7294, 0.7804, 0.9020],\n",
      "          [0.9137, 0.8902, 0.8902,  ..., 0.8392, 0.7804, 0.8118],\n",
      "          ...,\n",
      "          [1.0000, 0.9882, 0.9961,  ..., 0.9961, 0.9961, 0.9961],\n",
      "          [1.0000, 0.9922, 1.0000,  ..., 1.0000, 1.0000, 1.0000],\n",
      "          [0.9961, 0.9843, 0.9843,  ..., 0.9843, 0.9843, 0.9882]]],\n",
      "\n",
      "\n",
      "        [[[0.4980, 0.4667, 0.4784,  ..., 0.7451, 0.7294, 0.7176],\n",
      "          [0.5137, 0.4902, 0.4902,  ..., 0.7569, 0.7020, 0.6745],\n",
      "          [0.5176, 0.5020, 0.4941,  ..., 0.7137, 0.6471, 0.6275],\n",
      "          ...,\n",
      "          [0.5961, 0.6078, 0.6235,  ..., 0.9804, 0.9765, 0.9725],\n",
      "          [0.5490, 0.5608, 0.6196,  ..., 0.9529, 0.9490, 0.9451],\n",
      "          [0.5333, 0.5490, 0.6078,  ..., 0.8980, 0.9020, 0.8980]],\n",
      "\n",
      "         [[0.5569, 0.5059, 0.5216,  ..., 0.8588, 0.8510, 0.8157],\n",
      "          [0.5765, 0.5294, 0.5333,  ..., 0.8706, 0.8235, 0.7765],\n",
      "          [0.5765, 0.5412, 0.5294,  ..., 0.8275, 0.7686, 0.7451],\n",
      "          ...,\n",
      "          [0.6588, 0.6510, 0.6588,  ..., 0.9961, 0.9961, 0.9922],\n",
      "          [0.6118, 0.6118, 0.6627,  ..., 1.0000, 1.0000, 0.9961],\n",
      "          [0.5961, 0.6039, 0.6588,  ..., 0.9765, 0.9804, 0.9765]],\n",
      "\n",
      "         [[0.5176, 0.4706, 0.5020,  ..., 0.6314, 0.6353, 0.6588],\n",
      "          [0.5373, 0.5059, 0.5333,  ..., 0.6471, 0.6039, 0.6196],\n",
      "          [0.5412, 0.5255, 0.5529,  ..., 0.6118, 0.5490, 0.5686],\n",
      "          ...,\n",
      "          [0.6745, 0.6667, 0.6275,  ..., 0.8667, 0.8627, 0.8549],\n",
      "          [0.6275, 0.6275, 0.6275,  ..., 0.8510, 0.8510, 0.8431],\n",
      "          [0.6118, 0.6157, 0.6235,  ..., 0.8118, 0.8157, 0.8157]]],\n",
      "\n",
      "\n",
      "        [[[0.2980, 0.2980, 0.3059,  ..., 0.3882, 0.3922, 0.3843],\n",
      "          [0.3176, 0.3176, 0.3216,  ..., 0.4157, 0.4235, 0.4196],\n",
      "          [0.3333, 0.3294, 0.3333,  ..., 0.4510, 0.4471, 0.4314],\n",
      "          ...,\n",
      "          [0.6431, 0.6392, 0.6549,  ..., 0.6863, 0.6549, 0.6157],\n",
      "          [0.6392, 0.6314, 0.6431,  ..., 0.5294, 0.6314, 0.6196],\n",
      "          [0.6392, 0.6275, 0.6392,  ..., 0.4902, 0.5961, 0.6118]],\n",
      "\n",
      "         [[0.1882, 0.1882, 0.1961,  ..., 0.2824, 0.2863, 0.2784],\n",
      "          [0.1922, 0.1922, 0.1961,  ..., 0.2941, 0.3020, 0.2941],\n",
      "          [0.2039, 0.2039, 0.2078,  ..., 0.3176, 0.3098, 0.3059],\n",
      "          ...,\n",
      "          [0.4000, 0.4039, 0.4196,  ..., 0.4627, 0.4353, 0.4039],\n",
      "          [0.3961, 0.3922, 0.4078,  ..., 0.3569, 0.4235, 0.4078],\n",
      "          [0.4000, 0.3922, 0.4039,  ..., 0.3216, 0.3961, 0.4000]],\n",
      "\n",
      "         [[0.1333, 0.1333, 0.1412,  ..., 0.1922, 0.2000, 0.2039],\n",
      "          [0.1216, 0.1216, 0.1255,  ..., 0.2078, 0.2196, 0.2235],\n",
      "          [0.1216, 0.1255, 0.1255,  ..., 0.2392, 0.2314, 0.2275],\n",
      "          ...,\n",
      "          [0.2784, 0.2784, 0.2745,  ..., 0.3216, 0.2941, 0.2706],\n",
      "          [0.2745, 0.2667, 0.2627,  ..., 0.2510, 0.2980, 0.2745],\n",
      "          [0.2706, 0.2667, 0.2667,  ..., 0.2118, 0.2627, 0.2627]]]]), tensor([0, 0, 6, 9, 3, 3, 9, 0, 2, 6])]\n"
     ]
    }
   ],
   "source": [
    "for data in train_set:\n",
    "  print(data)\n",
    "  break;"
   ]
  },
  {
   "cell_type": "code",
   "execution_count": 6,
   "metadata": {
    "colab": {
     "base_uri": "https://localhost:8080/"
    },
    "id": "Q9IlMeZOYHQB",
    "outputId": "32717f03-d6cd-43db-e0fb-7248fe9d015d"
   },
   "outputs": [
    {
     "data": {
      "text/plain": [
       "['airplane',\n",
       " 'automobile',\n",
       " 'bird',\n",
       " 'cat',\n",
       " 'deer',\n",
       " 'dog',\n",
       " 'frog',\n",
       " 'horse',\n",
       " 'ship',\n",
       " 'truck']"
      ]
     },
     "execution_count": 6,
     "metadata": {
      "tags": []
     },
     "output_type": "execute_result"
    }
   ],
   "source": [
    "class_names = train.classes\n",
    "class_names"
   ]
  },
  {
   "cell_type": "code",
   "execution_count": 7,
   "metadata": {
    "colab": {
     "base_uri": "https://localhost:8080/",
     "height": 283
    },
    "id": "AyHvv4OKZ4kD",
    "outputId": "88172641-954d-4559-b38d-94b74ee17980"
   },
   "outputs": [
    {
     "data": {
      "text/plain": [
       "<matplotlib.image.AxesImage at 0x7f89001a9e50>"
      ]
     },
     "execution_count": 7,
     "metadata": {
      "tags": []
     },
     "output_type": "execute_result"
    },
    {
     "data": {
      "image/png": "[encoded data removed]",
      "text/plain": [
       "<Figure size 432x288 with 1 Axes>"
      ]
     },
     "metadata": {
      "needs_background": "light",
      "tags": []
     },
     "output_type": "display_data"
    }
   ],
   "source": [
    "plt.imshow(np.transpose(data[0][0].numpy(), (1,2,0)))"
   ]
  },
  {
   "cell_type": "code",
   "execution_count": 8,
   "metadata": {
    "colab": {
     "base_uri": "https://localhost:8080/"
    },
    "id": "h-bxcDe-cvPH",
    "outputId": "d47cd010-bf25-4355-a49f-a4372b52f853"
   },
   "outputs": [
    {
     "data": {
      "text/plain": [
       "tensor(0)"
      ]
     },
     "execution_count": 8,
     "metadata": {
      "tags": []
     },
     "output_type": "execute_result"
    }
   ],
   "source": [
    "data[1][0]"
   ]
  },
  {
   "cell_type": "markdown",
   "metadata": {
    "id": "ZzJn2FKDYy8p"
   },
   "source": [
    "### Visualising some images"
   ]
  },
  {
   "cell_type": "code",
   "execution_count": 9,
   "metadata": {
    "colab": {
     "base_uri": "https://localhost:8080/",
     "height": 281
    },
    "id": "CWrNHJY6YKNV",
    "outputId": "4b5d6f07-abac-46b0-d17e-b93be88de6f3"
   },
   "outputs": [
    {
     "data": {
      "image/png": "[encoded data removed]",
      "text/plain": [
       "<Figure size 432x288 with 4 Axes>"
      ]
     },
     "metadata": {
      "needs_background": "light",
      "tags": []
     },
     "output_type": "display_data"
    }
   ],
   "source": [
    "def plotImages(images, labels):\n",
    "\n",
    "  plt.figure()\n",
    "  for i in range(len(labels)):\n",
    "    plt.subplot(221+i)\n",
    "    plt.title(class_names[labels[i]])\n",
    "    # The image shape should be transposed\n",
    "    plt.imshow(np.transpose(images[i].numpy(), (1,2, 0)))\n",
    "  plt.show()\n",
    "\n",
    "plotImages(data[0][:4], data[1][:4])"
   ]
  },
  {
   "cell_type": "markdown",
   "metadata": {
    "id": "hJ1FcMYld2FZ"
   },
   "source": [
    "### Conv NNet\n",
    "Now it's time to create a Conv Neural Netword to classify our images."
   ]
  },
  {
   "cell_type": "code",
   "execution_count": 10,
   "metadata": {
    "id": "g56jQ0Bvd1wJ"
   },
   "outputs": [],
   "source": [
    "from torch import nn\n",
    "from torch.nn import functional as F"
   ]
  },
  {
   "cell_type": "code",
   "execution_count": 65,
   "metadata": {
    "colab": {
     "base_uri": "https://localhost:8080/"
    },
    "id": "JIvC60hXZvMS",
    "outputId": "62efdd56-f3d1-4b98-fa4f-a14d30e0edc0"
   },
   "outputs": [
    {
     "data": {
      "text/plain": [
       "Net(\n",
       "  (conv1): Conv2d(3, 64, kernel_size=(3, 3), stride=(1, 1))\n",
       "  (conv2): Conv2d(64, 64, kernel_size=(3, 3), stride=(1, 1))\n",
       "  (fc1): Linear(in_features=2304, out_features=64, bias=True)\n",
       "  (fc2): Linear(in_features=64, out_features=10, bias=True)\n",
       ")"
      ]
     },
     "execution_count": 65,
     "metadata": {
      "tags": []
     },
     "output_type": "execute_result"
    }
   ],
   "source": [
    "class Net(nn.Module):\n",
    "  def __init__(self):\n",
    "    super().__init__()\n",
    "    self.conv1 = nn.Conv2d(3, 64, (3, 3), stride=1)\n",
    "    #self.conv1 = nn.Conv2d(chanels_of_the_images, 32, (5, 5))\n",
    "    self.conv2 = nn.Conv2d(64, 64, (3, 3))\n",
    "    self._to_linear = None\n",
    "    self.x = torch.randn(3, 32, 32).view(-1, 3, 32, 32)\n",
    "    self.conv(self.x)\n",
    "\n",
    "    self.fc1 = nn.Linear(self._to_linear, 64)\n",
    "    self.fc2 = nn.Linear(64, 10)\n",
    "    \n",
    "  def conv(self, x):\n",
    "    # print(x.shape)\n",
    "    x = F.max_pool2d(F.relu(self.conv1(x)), (2, 2))\n",
    "    # print(x.shape)\n",
    "    x = F.max_pool2d(F.relu(self.conv2(x)), kernel_size=(2, 2))\n",
    "    # print(x.shape) ## We want to multiply the last 3 digits of x to get _to_linear\n",
    "    if self._to_linear is None:\n",
    "      self._to_linear = x.shape[1] * x.shape[2] * x.shape[3]\n",
    "    return x\n",
    "\n",
    "  def forward(self, x):\n",
    "    x = self.conv(x)\n",
    "    x = x.view(-1, self._to_linear)\n",
    "    x = F.relu(self.fc1(x))\n",
    "    return x #F.softmax(self.fc2(x), dim=1)\n",
    "\n",
    "net = Net().to(device)\n",
    "net"
   ]
  },
  {
   "cell_type": "code",
   "execution_count": 66,
   "metadata": {
    "id": "1Gmi3sb4dYVX"
   },
   "outputs": [],
   "source": [
    "from torch import optim\n",
    "\n",
    "optimizer = optim.SGD(net.parameters(), lr=1e-3)\n",
    "loss_function = nn.CrossEntropyLoss() "
   ]
  },
  {
   "cell_type": "markdown",
   "metadata": {
    "id": "9nLBqoKv0dM1"
   },
   "source": [
    "**Note**: When one uses `crossEntropyLoss` as the loss function we must not apply `softmax` **`(#F.softmax(self.fc2(x), dim=1))`** activation function to our output layer, we just have to return `x`"
   ]
  },
  {
   "cell_type": "code",
   "execution_count": 67,
   "metadata": {
    "colab": {
     "base_uri": "https://localhost:8080/"
    },
    "id": "CaD_bhQke1tx",
    "outputId": "aeff8b0d-7254-47f0-af35-fc9be6082c3f"
   },
   "outputs": [
    {
     "name": "stdout",
     "output_type": "stream",
     "text": [
      "Epochs: 1/5\n",
      "tensor(3.1865, device='cuda:0', grad_fn=<NllLossBackward>)\n",
      "Epochs: 2/5\n",
      "tensor(3.2830, device='cuda:0', grad_fn=<NllLossBackward>)\n",
      "Epochs: 3/5\n",
      "tensor(3.0891, device='cuda:0', grad_fn=<NllLossBackward>)\n",
      "Epochs: 4/5\n",
      "tensor(2.6300, device='cuda:0', grad_fn=<NllLossBackward>)\n",
      "Epochs: 5/5\n",
      "tensor(3.1224, device='cuda:0', grad_fn=<NllLossBackward>)\n"
     ]
    }
   ],
   "source": [
    "EPOCHS = 5\n",
    "\n",
    "for epoch in range(EPOCHS):\n",
    "  print(f'Epochs: {epoch+1}/{EPOCHS}')\n",
    "  for data in train_set:\n",
    "    X = data[0].to(device)\n",
    "    y = data[1].to(device)\n",
    "    \n",
    "    optimizer.zero_grad()\n",
    "    outputs = net(X)\n",
    "    # print(y)\n",
    "    loss = loss_function(outputs, y)\n",
    "    loss.backward()\n",
    "    optimizer.step()\n",
    "  print(loss)"
   ]
  },
  {
   "cell_type": "markdown",
   "metadata": {
    "id": "_osg7iIj1WG1"
   },
   "source": [
    "### Model Accuracy"
   ]
  },
  {
   "cell_type": "code",
   "execution_count": 68,
   "metadata": {
    "colab": {
     "base_uri": "https://localhost:8080/"
    },
    "id": "-XaEEk6nuov8",
    "outputId": "d61de506-ac6f-4e1b-a88f-4cf5fe649c45"
   },
   "outputs": [
    {
     "name": "stdout",
     "output_type": "stream",
     "text": [
      "Accuracy:  0.372\n"
     ]
    }
   ],
   "source": [
    "correct = 0\n",
    "total = 0\n",
    "with torch.no_grad():\n",
    "  for data in test_set:\n",
    "    X = data[0].to(device)\n",
    "    y = data[1].to(device)\n",
    "\n",
    "    predictions = net(X)\n",
    "    for i, j in enumerate(predictions):\n",
    "      predicted_class = torch.argmax(j)\n",
    "      real_class = y[i]\n",
    "      if real_class == predicted_class:\n",
    "        correct +=1\n",
    "      total +=1\n",
    "print(\"Accuracy: \", correct/total)"
   ]
  },
  {
   "cell_type": "markdown",
   "metadata": {
    "id": "1OpccIzp4Ghj"
   },
   "source": [
    "### Making predictions"
   ]
  },
  {
   "cell_type": "code",
   "execution_count": 69,
   "metadata": {
    "colab": {
     "base_uri": "https://localhost:8080/",
     "height": 298
    },
    "id": "lbhPO4XJ4C82",
    "outputId": "c323365a-7092-4fad-8115-83c4b3453096"
   },
   "outputs": [
    {
     "data": {
      "image/png": "[encoded data removed]",
      "text/plain": [
       "<Figure size 432x288 with 4 Axes>"
      ]
     },
     "metadata": {
      "needs_background": "light",
      "tags": []
     },
     "output_type": "display_data"
    },
    {
     "name": "stdout",
     "output_type": "stream",
     "text": [
      "tensor([6, 1, 6, 3], device='cuda:0') [tensor(6, device='cuda:0'), tensor(1, device='cuda:0'), tensor(6, device='cuda:0'), tensor(3, device='cuda:0')]\n"
     ]
    }
   ],
   "source": [
    "\n",
    "\n",
    "for data in test_set:\n",
    "   X_ = data[0].to(device)\n",
    "   y_ = data[1].to(device)\n",
    "   break\n",
    "predictions = net(X_)\n",
    "id = [torch.argmax(i) for i in predictions][5:9]\n",
    "images_ = X[5:9]\n",
    "predicted_class_names\n",
    "plotImages(images_.to('cpu'), id)\n",
    "\n",
    "print(y_[5:9], id)"
   ]
  },
  {
   "cell_type": "markdown",
   "metadata": {
    "id": "tZYF7joN_K0h"
   },
   "source": [
    "> I'm not sure about the images, because they are blury, I can say the model is predicting well by comparing the labels printed "
   ]
  }
 ],
 "metadata": {
  "accelerator": "GPU",
  "colab": {
   "collapsed_sections": [],
   "name": "Image Classification CIFAR10.ipynb",
   "provenance": []
  },
  "kernelspec": {
   "display_name": "Python 3",
   "language": "python",
   "name": "python3"
  },
  "language_info": {
   "codemirror_mode": {
    "name": "ipython",
    "version": 3
   },
   "file_extension": ".py",
   "mimetype": "text/x-python",
   "name": "python",
   "nbconvert_exporter": "python",
   "pygments_lexer": "ipython3",
   "version": "3.8.5"
  }
 },
 "nbformat": 4,
 "nbformat_minor": 1
}
