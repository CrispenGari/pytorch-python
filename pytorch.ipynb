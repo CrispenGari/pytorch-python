{
 "cells": [
  {
   "cell_type": "markdown",
   "id": "emerging-comfort",
   "metadata": {},
   "source": [
    "# Pytorch\n",
    "* Introduction to machine learning library based on the Torch library, used for applications such as computer vision and natural language processing, primarily developed by Facebook's AI Research lab"
   ]
  },
  {
   "cell_type": "markdown",
   "id": "failing-consumer",
   "metadata": {},
   "source": [
    "## Installation"
   ]
  },
  {
   "cell_type": "code",
   "execution_count": 4,
   "id": "immediate-challenge",
   "metadata": {},
   "outputs": [
    {
     "name": "stdout",
     "output_type": "stream",
     "text": [
      "Looking in links: https://download.pytorch.org/whl/torch_stable.html\n",
      "Requirement already satisfied: torch==1.8.1+cpu in c:\\users\\crisp\\documents\\anaconda3\\lib\\site-packages (1.8.1+cpu)\n",
      "Requirement already satisfied: torchvision==0.9.1+cpu in c:\\users\\crisp\\documents\\anaconda3\\lib\\site-packages (0.9.1+cpu)\n",
      "Requirement already satisfied: torchaudio===0.8.1 in c:\\users\\crisp\\documents\\anaconda3\\lib\\site-packages (0.8.1)\n",
      "Requirement already satisfied: numpy in c:\\users\\crisp\\documents\\anaconda3\\lib\\site-packages (from torch==1.8.1+cpu) (1.19.5)\n",
      "Requirement already satisfied: typing-extensions in c:\\users\\crisp\\documents\\anaconda3\\lib\\site-packages (from torch==1.8.1+cpu) (3.7.4.3)\n",
      "Requirement already satisfied: pillow>=4.1.1 in c:\\users\\crisp\\documents\\anaconda3\\lib\\site-packages (from torchvision==0.9.1+cpu) (8.1.0)\n"
     ]
    }
   ],
   "source": [
    "!pip install torch==1.8.1+cpu torchvision==0.9.1+cpu torchaudio===0.8.1 -f https://download.pytorch.org/whl/torch_stable.html\n"
   ]
  },
  {
   "cell_type": "markdown",
   "id": "clinical-intelligence",
   "metadata": {},
   "source": [
    "## 1. Touch\n",
    "* The torch package contains data structures for multi-dimensional tensors and defines mathematical operations over these tensors. \n",
    "* Additionally, it provides many utilities for efficient serializing of Tensors and arbitrary types, and other useful utilities."
   ]
  },
  {
   "cell_type": "code",
   "execution_count": 6,
   "id": "developing-freedom",
   "metadata": {},
   "outputs": [],
   "source": [
    "import torch\n",
    "import numpy as np\n",
    "from matplotlib import pyplot as plt"
   ]
  },
  {
   "cell_type": "code",
   "execution_count": 14,
   "id": "generic-experience",
   "metadata": {},
   "outputs": [
    {
     "data": {
      "text/plain": [
       "tensor([4., 1., 4.])"
      ]
     },
     "execution_count": 14,
     "metadata": {},
     "output_type": "execute_result"
    }
   ],
   "source": [
    "# Creating tensors\n",
    "\n",
    "t = torch.tensor([4., 1, 4])\n",
    "t"
   ]
  },
  {
   "cell_type": "markdown",
   "id": "mechanical-tsunami",
   "metadata": {},
   "source": [
    "### touch methods"
   ]
  },
  {
   "cell_type": "markdown",
   "id": "entire-gathering",
   "metadata": {},
   "source": [
    "#### 1.  TORCH.IS_TENSOR\n",
    "* checks if an object is a tensor or not"
   ]
  },
  {
   "cell_type": "code",
   "execution_count": 21,
   "id": "voluntary-basin",
   "metadata": {},
   "outputs": [
    {
     "name": "stdout",
     "output_type": "stream",
     "text": [
      "False\n"
     ]
    },
    {
     "data": {
      "text/plain": [
       "True"
      ]
     },
     "execution_count": 21,
     "metadata": {},
     "output_type": "execute_result"
    }
   ],
   "source": [
    "print(torch.is_tensor([9, 8, -7, 8]))\n",
    "torch.is_tensor(t)"
   ]
  },
  {
   "cell_type": "markdown",
   "id": "heard-aspect",
   "metadata": {},
   "source": [
    "#### 2. TORCH.IS_STORAGE\n",
    "* returns true if the pytorch tensor is an object else false"
   ]
  },
  {
   "cell_type": "code",
   "execution_count": 22,
   "id": "increasing-grass",
   "metadata": {},
   "outputs": [
    {
     "data": {
      "text/plain": [
       "False"
      ]
     },
     "execution_count": 22,
     "metadata": {},
     "output_type": "execute_result"
    }
   ],
   "source": [
    "torch.is_storage(t)"
   ]
  },
  {
   "cell_type": "markdown",
   "id": "commercial-distinction",
   "metadata": {},
   "source": [
    "#### 3. TORCH.IS_COMPLEX\n",
    "* Returns True if the data type of input is a complex data type i.e., one of torch.complex64, and torch.complex128."
   ]
  },
  {
   "cell_type": "code",
   "execution_count": 25,
   "id": "posted-provision",
   "metadata": {},
   "outputs": [
    {
     "name": "stdout",
     "output_type": "stream",
     "text": [
      "True\n"
     ]
    },
    {
     "data": {
      "text/plain": [
       "False"
      ]
     },
     "execution_count": 25,
     "metadata": {},
     "output_type": "execute_result"
    }
   ],
   "source": [
    "c = torch.tensor([2, 5, 8, 9], dtype=torch.complex64)\n",
    "print(torch.is_complex(c))\n",
    "torch.is_complex(t)"
   ]
  },
  {
   "cell_type": "markdown",
   "id": "following-minister",
   "metadata": {},
   "source": [
    "#### 4.TORCH.IS_FLOATING_POINT\n",
    "* Returns True if the data type of input is a floating point data type i.e., one of torch.float64, torch.float32, torch.float16, and torch.bfloat16."
   ]
  },
  {
   "cell_type": "code",
   "execution_count": 27,
   "id": "respiratory-venezuela",
   "metadata": {},
   "outputs": [
    {
     "name": "stdout",
     "output_type": "stream",
     "text": [
      "False\n"
     ]
    },
    {
     "data": {
      "text/plain": [
       "True"
      ]
     },
     "execution_count": 27,
     "metadata": {},
     "output_type": "execute_result"
    }
   ],
   "source": [
    "print(torch.is_floating_point(torch.tensor([0, 6, 9])))\n",
    "torch.is_floating_point(t)"
   ]
  },
  {
   "cell_type": "markdown",
   "id": "confidential-lotus",
   "metadata": {},
   "source": [
    "#### 5. TORCH.IS_NONZERO\n",
    "* Returns True if the input is a single element tensor which is not equal to zero after type conversions."
   ]
  },
  {
   "cell_type": "code",
   "execution_count": 46,
   "id": "limiting-accused",
   "metadata": {},
   "outputs": [
    {
     "name": "stdout",
     "output_type": "stream",
     "text": [
      "True\n"
     ]
    }
   ],
   "source": [
    "print(torch.is_nonzero(torch.tensor([9])))"
   ]
  },
  {
   "cell_type": "markdown",
   "id": "satisfied-savage",
   "metadata": {},
   "source": [
    "#### 6. TORCH.SET_DEFAULT_DTYPE\n",
    "* Sets the default floating point dtype to d"
   ]
  },
  {
   "cell_type": "code",
   "execution_count": 63,
   "id": "initial-horse",
   "metadata": {},
   "outputs": [
    {
     "name": "stdout",
     "output_type": "stream",
     "text": [
      "torch.float32\n"
     ]
    },
    {
     "data": {
      "text/plain": [
       "torch.float64"
      ]
     },
     "execution_count": 63,
     "metadata": {},
     "output_type": "execute_result"
    }
   ],
   "source": [
    "b = torch.tensor([9., 6, 8], dtype=torch.float32)\n",
    "print(b.dtype)\n",
    "torch.set_default_dtype(torch.float64)\n",
    "torch.tensor([2, 5, .9]).dtype\n"
   ]
  },
  {
   "cell_type": "markdown",
   "id": "arctic-contamination",
   "metadata": {},
   "source": [
    "#### 7. TORCH.NUMEL\n",
    "* Returns the total number of elements in the input tensor."
   ]
  },
  {
   "cell_type": "code",
   "execution_count": 69,
   "id": "designed-index",
   "metadata": {},
   "outputs": [
    {
     "name": "stdout",
     "output_type": "stream",
     "text": [
      "tensor([0., 0., 0., 0., 0., 0., 0., 0.])\n",
      "8\n"
     ]
    }
   ],
   "source": [
    "b = torch.ones(8)\n",
    "a = torch.zeros_like(b)\n",
    "print(a)\n",
    "print(torch.numel(a))"
   ]
  },
  {
   "cell_type": "markdown",
   "id": "statewide-strain",
   "metadata": {},
   "source": [
    "#### 8. TORCH.SET_PRINTOPTIONS\n",
    "* [Here](https://pytorch.org/docs/stable/generated/torch.set_printoptions.html#torch.set_printoptions)"
   ]
  },
  {
   "cell_type": "markdown",
   "id": "joined-disease",
   "metadata": {},
   "source": [
    "#### 9. TORCH.SET_FLUSH_DENORMAL\n",
    "* [Here](https://pytorch.org/docs/stable/generated/torch.set_flush_denormal.html#torch.set_flush_denormal)"
   ]
  },
  {
   "cell_type": "code",
   "execution_count": 73,
   "id": "rough-authorization",
   "metadata": {},
   "outputs": [
    {
     "data": {
      "text/plain": [
       "True"
      ]
     },
     "execution_count": 73,
     "metadata": {},
     "output_type": "execute_result"
    }
   ],
   "source": [
    "torch.set_flush_denormal(False)"
   ]
  },
  {
   "cell_type": "markdown",
   "id": "specified-explanation",
   "metadata": {},
   "source": [
    "## Creation Ops\n",
    "* [Here](https://pytorch.org/docs/stable/torch.html#creation-ops)"
   ]
  },
  {
   "cell_type": "code",
   "execution_count": 76,
   "id": "persistent-detroit",
   "metadata": {},
   "outputs": [
    {
     "data": {
      "text/plain": [
       "tensor([0.7801, 0.5808, 0.9566, 0.8771, 0.4297, 0.6235, 0.6755, 0.0372, 0.3678])"
      ]
     },
     "execution_count": 76,
     "metadata": {},
     "output_type": "execute_result"
    }
   ],
   "source": [
    "## torch.rand(n) \n",
    "ten = torch.rand(9)\n",
    "ten"
   ]
  },
  {
   "cell_type": "code",
   "execution_count": 93,
   "id": "black-mayor",
   "metadata": {},
   "outputs": [
    {
     "data": {
      "text/plain": [
       "tensor([-1.7272,  1.0899, -0.0452, -1.0541])"
      ]
     },
     "execution_count": 93,
     "metadata": {},
     "output_type": "execute_result"
    }
   ],
   "source": [
    "## torch.rand_like()\n",
    "a = torch.tensor([4., 7, 8, 9])\n",
    "ten = torch.randn_like(a)\n",
    "ten"
   ]
  },
  {
   "cell_type": "code",
   "execution_count": 98,
   "id": "unique-burner",
   "metadata": {},
   "outputs": [
    {
     "data": {
      "text/plain": [
       "tensor([[ 0.2572,  0.9909,  0.1526, -0.0797,  1.5206],\n",
       "        [-0.6843, -1.2109,  1.2663,  1.1530, -0.0511]])"
      ]
     },
     "execution_count": 98,
     "metadata": {},
     "output_type": "execute_result"
    }
   ],
   "source": [
    "## torch.randn()\n",
    "ten = torch.randn([2, 5])\n",
    "ten"
   ]
  },
  {
   "cell_type": "code",
   "execution_count": 99,
   "id": "awful-sentence",
   "metadata": {},
   "outputs": [
    {
     "data": {
      "text/plain": [
       "tensor([[-0.5828, -0.5335,  0.8463,  0.3833,  1.8376],\n",
       "        [ 1.0752, -0.2285, -1.9837, -0.2995, -0.1300]])"
      ]
     },
     "execution_count": 99,
     "metadata": {},
     "output_type": "execute_result"
    }
   ],
   "source": [
    "## torch.randn_like\n",
    "ten = torch.randn_like(ten)\n",
    "ten"
   ]
  },
  {
   "cell_type": "code",
   "execution_count": 105,
   "id": "combined-maldives",
   "metadata": {},
   "outputs": [
    {
     "data": {
      "text/plain": [
       "tensor([[1, 8, 8, 9, 4],\n",
       "        [9, 9, 4, 9, 5],\n",
       "        [9, 8, 1, 5, 0],\n",
       "        [3, 6, 4, 9, 7],\n",
       "        [7, 0, 9, 1, 5]])"
      ]
     },
     "execution_count": 105,
     "metadata": {},
     "output_type": "execute_result"
    }
   ],
   "source": [
    "## touch.randint(low, high, size)\n",
    "ten = torch.randint(0, 10, [5, 5])\n",
    "ten"
   ]
  },
  {
   "cell_type": "code",
   "execution_count": 111,
   "id": "outdoor-trash",
   "metadata": {},
   "outputs": [
    {
     "data": {
      "text/plain": [
       "tensor([[7, 4, 4, 4, 5],\n",
       "        [7, 6, 5, 6, 7],\n",
       "        [0, 5, 2, 3, 6],\n",
       "        [2, 2, 3, 1, 0],\n",
       "        [6, 1, 1, 4, 8]])"
      ]
     },
     "execution_count": 111,
     "metadata": {},
     "output_type": "execute_result"
    }
   ],
   "source": [
    "## torch.randint_like()\n",
    "ten = torch.randint_like(ten, 0, 9)\n",
    "ten"
   ]
  },
  {
   "cell_type": "code",
   "execution_count": 113,
   "id": "emerging-franchise",
   "metadata": {},
   "outputs": [
    {
     "data": {
      "text/plain": [
       "tensor([1, 7, 2, 6, 4, 5, 3, 0])"
      ]
     },
     "execution_count": 113,
     "metadata": {},
     "output_type": "execute_result"
    }
   ],
   "source": [
    "## torch.randperm()\n",
    "    # Returns a random permutation of integers from\n",
    "ten = torch.randperm(8)\n",
    "ten"
   ]
  },
  {
   "cell_type": "code",
   "execution_count": 115,
   "id": "exciting-memorabilia",
   "metadata": {},
   "outputs": [
    {
     "data": {
      "text/plain": [
       "tensor([2.1342e+161, 7.0981e+194, 7.4861e-114, 6.9558e+252, 1.6779e+243,\n",
       "        5.9083e+223, 2.2830e-109, 2.9124e+257, 4.7129e+257])"
      ]
     },
     "execution_count": 115,
     "metadata": {},
     "output_type": "execute_result"
    }
   ],
   "source": [
    "ten = torch.empty(9)\n",
    "ten"
   ]
  },
  {
   "cell_type": "code",
   "execution_count": 116,
   "id": "passing-momentum",
   "metadata": {},
   "outputs": [
    {
     "data": {
      "text/plain": [
       "tensor([2, 6])"
      ]
     },
     "execution_count": 116,
     "metadata": {},
     "output_type": "execute_result"
    }
   ],
   "source": [
    "## torch.tensor()\n",
    "ten = torch.tensor(np.array([2, 6]), dtype=torch.int64)\n",
    "ten"
   ]
  },
  {
   "cell_type": "code",
   "execution_count": 125,
   "id": "third-effectiveness",
   "metadata": {},
   "outputs": [
    {
     "data": {
      "text/plain": [
       "tensor(indices=tensor([[0, 1, 1],\n",
       "                       [1, 0, 2]]),\n",
       "       values=tensor([2, 7, 8]),\n",
       "       size=(2, 3), nnz=3, layout=torch.sparse_coo)"
      ]
     },
     "execution_count": 125,
     "metadata": {},
     "output_type": "execute_result"
    }
   ],
   "source": [
    "## torch.sparse_coo_tensor\n",
    "indices  = torch.tensor([[0, 1, 1], [1, 0, 2]])\n",
    "values = torch.tensor([2, 7, 8])\n",
    "\n",
    "ten = torch.sparse_coo_tensor(indices, values, (2,3))\n",
    "ten"
   ]
  },
  {
   "cell_type": "code",
   "execution_count": 158,
   "id": "turkish-blood",
   "metadata": {},
   "outputs": [
    {
     "data": {
      "text/plain": [
       "tensor([11, 75, 44], dtype=torch.int32)"
      ]
     },
     "execution_count": 158,
     "metadata": {},
     "output_type": "execute_result"
    }
   ],
   "source": [
    "## torch.as_tensor\n",
    "data = np.random.randint(0, 100, [2,7])\n",
    "ten = torch.as_tensor(data)\n",
    "ten[0][1:4]"
   ]
  },
  {
   "cell_type": "code",
   "execution_count": 160,
   "id": "relevant-lithuania",
   "metadata": {},
   "outputs": [
    {
     "data": {
      "text/plain": [
       "tensor([[0., 0., 0., 0.],\n",
       "        [0., 0., 0., 0.],\n",
       "        [0., 0., 0., 0.],\n",
       "        [0., 0., 0., 0.]])"
      ]
     },
     "execution_count": 160,
     "metadata": {},
     "output_type": "execute_result"
    }
   ],
   "source": [
    "## torch.from_numpy\n",
    "data = np.zeros([4,4])\n",
    "ten = torch.from_numpy(data)\n",
    "ten"
   ]
  },
  {
   "cell_type": "code",
   "execution_count": 169,
   "id": "pretty-performer",
   "metadata": {},
   "outputs": [
    {
     "data": {
      "text/plain": [
       "tensor([[[[0., 0.],\n",
       "          [0., 0.]],\n",
       "\n",
       "         [[0., 0.],\n",
       "          [0., 0.]]],\n",
       "\n",
       "\n",
       "        [[[0., 0.],\n",
       "          [0., 0.]],\n",
       "\n",
       "         [[0., 0.],\n",
       "          [0., 0.]]]])"
      ]
     },
     "execution_count": 169,
     "metadata": {},
     "output_type": "execute_result"
    }
   ],
   "source": [
    "## torch.zeros()\n",
    "ten = torch.zeros([2,2, 2,2])\n",
    "ten"
   ]
  },
  {
   "cell_type": "code",
   "execution_count": 170,
   "id": "greek-charleston",
   "metadata": {},
   "outputs": [
    {
     "data": {
      "text/plain": [
       "tensor([[0, 0, 0],\n",
       "        [0, 0, 0]])"
      ]
     },
     "execution_count": 170,
     "metadata": {},
     "output_type": "execute_result"
    }
   ],
   "source": [
    "## torch.zeros_like()\n",
    "\n",
    "clone = torch.tensor([[8, 9, 10],[11, 12, -19]])\n",
    "\n",
    "ten = torch.zeros_like(clone)\n",
    "ten\n"
   ]
  },
  {
   "cell_type": "code",
   "execution_count": 172,
   "id": "sized-cruise",
   "metadata": {},
   "outputs": [
    {
     "data": {
      "text/plain": [
       "tensor([[1., 1., 1., 1.],\n",
       "        [1., 1., 1., 1.]])"
      ]
     },
     "execution_count": 172,
     "metadata": {},
     "output_type": "execute_result"
    }
   ],
   "source": [
    "## torch.ones()\n",
    "ones = torch.ones([2, 4])\n",
    "ones"
   ]
  },
  {
   "cell_type": "code",
   "execution_count": 173,
   "id": "controlling-glance",
   "metadata": {},
   "outputs": [
    {
     "data": {
      "text/plain": [
       "tensor([[1, 1, 1],\n",
       "        [1, 1, 1]])"
      ]
     },
     "execution_count": 173,
     "metadata": {},
     "output_type": "execute_result"
    }
   ],
   "source": [
    "## torch.ones_like()\n",
    "ones_like = torch.ones_like(clone)\n",
    "ones_like"
   ]
  },
  {
   "cell_type": "code",
   "execution_count": 175,
   "id": "ecological-ordinance",
   "metadata": {},
   "outputs": [
    {
     "data": {
      "text/plain": [
       "tensor([[-9, -9, -9, -9],\n",
       "        [-9, -9, -9, -9],\n",
       "        [-9, -9, -9, -9]])"
      ]
     },
     "execution_count": 175,
     "metadata": {},
     "output_type": "execute_result"
    }
   ],
   "source": [
    "## torch.full()\n",
    "full = torch.full([3,4], -9)\n",
    "full"
   ]
  },
  {
   "cell_type": "code",
   "execution_count": 177,
   "id": "affected-nerve",
   "metadata": {},
   "outputs": [
    {
     "data": {
      "text/plain": [
       "tensor([[7, 7, 7],\n",
       "        [7, 7, 7]])"
      ]
     },
     "execution_count": 177,
     "metadata": {},
     "output_type": "execute_result"
    }
   ],
   "source": [
    "## torch.full_like()\n",
    "full_like = torch.full_like(clone, 7)\n",
    "full_like"
   ]
  },
  {
   "cell_type": "code",
   "execution_count": 180,
   "id": "retired-scenario",
   "metadata": {},
   "outputs": [
    {
     "data": {
      "text/plain": [
       "tensor([ 0,  2,  4,  6,  8, 10, 12, 14, 16, 18])"
      ]
     },
     "execution_count": 180,
     "metadata": {},
     "output_type": "execute_result"
    }
   ],
   "source": [
    "## torch.arange()\n",
    "arange = torch.arange(0, 20, 2)\n",
    "arange"
   ]
  },
  {
   "cell_type": "code",
   "execution_count": 182,
   "id": "patient-ireland",
   "metadata": {},
   "outputs": [
    {
     "data": {
      "text/plain": [
       "tensor([ 0,  2,  4,  6,  8, 10, 12, 14, 16, 18])"
      ]
     },
     "execution_count": 182,
     "metadata": {},
     "output_type": "execute_result"
    }
   ],
   "source": [
    "even = torch.as_tensor([i for i in range(20) if i % 2 == 0])\n",
    "even"
   ]
  },
  {
   "cell_type": "code",
   "execution_count": 183,
   "id": "nervous-valuation",
   "metadata": {},
   "outputs": [
    {
     "name": "stderr",
     "output_type": "stream",
     "text": [
      "<ipython-input-183-ede0633240f5>:2: UserWarning: torch.range is deprecated and will be removed in a future release because its behavior is inconsistent with Python's range builtin. Instead, use torch.arange, which produces values in [start, end).\n",
      "  ten = torch.range(2, 10, 1)\n"
     ]
    },
    {
     "data": {
      "text/plain": [
       "tensor([ 2.,  3.,  4.,  5.,  6.,  7.,  8.,  9., 10.])"
      ]
     },
     "execution_count": 183,
     "metadata": {},
     "output_type": "execute_result"
    }
   ],
   "source": [
    "## torch.range()\n",
    "ten = torch.range(2, 10, 1)\n",
    "ten"
   ]
  },
  {
   "cell_type": "code",
   "execution_count": 188,
   "id": "duplicate-circle",
   "metadata": {},
   "outputs": [
    {
     "data": {
      "text/plain": [
       "tensor([ 0.0000,  2.5000,  5.0000,  7.5000, 10.0000])"
      ]
     },
     "execution_count": 188,
     "metadata": {},
     "output_type": "execute_result"
    }
   ],
   "source": [
    "## torch.linspace()\n",
    "\n",
    "ten = torch.linspace(0, 10, 5)\n",
    "ten"
   ]
  },
  {
   "cell_type": "code",
   "execution_count": 190,
   "id": "verbal-canon",
   "metadata": {},
   "outputs": [
    {
     "data": {
      "text/plain": [
       "tensor([1.0000e+00, 3.1623e+02, 1.0000e+05, 3.1623e+07, 1.0000e+10])"
      ]
     },
     "execution_count": 190,
     "metadata": {},
     "output_type": "execute_result"
    }
   ],
   "source": [
    "## torch.logspace()\n",
    "ten = torch.logspace(0, 10, 5)\n",
    "ten"
   ]
  },
  {
   "cell_type": "code",
   "execution_count": 198,
   "id": "exclusive-chorus",
   "metadata": {},
   "outputs": [
    {
     "data": {
      "text/plain": [
       "tensor([[1., 0.],\n",
       "        [0., 1.]])"
      ]
     },
     "execution_count": 198,
     "metadata": {},
     "output_type": "execute_result"
    }
   ],
   "source": [
    "## torch.eye(n, rows, columns)\n",
    "ten = torch.eye(2)\n",
    "ten"
   ]
  },
  {
   "cell_type": "code",
   "execution_count": 200,
   "id": "authentic-booth",
   "metadata": {},
   "outputs": [
    {
     "data": {
      "text/plain": [
       "tensor([1.2461e-306, 4.4506e-308, 9.3460e-307, 2.2252e-306, 2.1362e-306,\n",
       "        4.4506e-308, 1.3796e-306, 8.4560e-307, 5.7312e-322])"
      ]
     },
     "execution_count": 200,
     "metadata": {},
     "output_type": "execute_result"
    }
   ],
   "source": [
    "## torch.empty()\n",
    "torch.empty(9)"
   ]
  },
  {
   "cell_type": "code",
   "execution_count": 201,
   "id": "another-israel",
   "metadata": {},
   "outputs": [
    {
     "data": {
      "text/plain": [
       "tensor([[0, 0, 0],\n",
       "        [0, 0, 0]])"
      ]
     },
     "execution_count": 201,
     "metadata": {},
     "output_type": "execute_result"
    }
   ],
   "source": [
    "## torch.empty_like()\n",
    "torch.empty_like(clone)"
   ]
  },
  {
   "cell_type": "markdown",
   "id": "cleared-unemployment",
   "metadata": {},
   "source": [
    "## Indexing, Slicing, Joining, Mutating Ops"
   ]
  },
  {
   "cell_type": "code",
   "execution_count": 211,
   "id": "communist-president",
   "metadata": {},
   "outputs": [
    {
     "data": {
      "text/plain": [
       "tensor([[7, 7, 7, 7, 7, 7, 7, 7, 7],\n",
       "        [7, 7, 7, 7, 7, 7, 7, 7, 7]])"
      ]
     },
     "execution_count": 211,
     "metadata": {},
     "output_type": "execute_result"
    }
   ],
   "source": [
    "## torch.cat((...tensors), dim)\n",
    "a = torch.full([2, 3],7)\n",
    "cat = torch.cat([a, a, a], 1)\n",
    "cat"
   ]
  },
  {
   "cell_type": "code",
   "execution_count": 218,
   "id": "pleasant-spray",
   "metadata": {},
   "outputs": [
    {
     "data": {
      "text/plain": [
       "(tensor([[7, 7, 7],\n",
       "         [7, 7, 7]]),\n",
       " tensor([[7, 7, 7],\n",
       "         [7, 7, 7]]),\n",
       " tensor([[7, 7, 7],\n",
       "         [7, 7, 7]]))"
      ]
     },
     "execution_count": 218,
     "metadata": {},
     "output_type": "execute_result"
    }
   ],
   "source": [
    "## torch.chunk()\n",
    "chunks = torch.chunk(cat, 3, 1)\n",
    "chunks"
   ]
  },
  {
   "cell_type": "code",
   "execution_count": 220,
   "id": "norwegian-character",
   "metadata": {},
   "outputs": [
    {
     "data": {
      "text/plain": [
       "tensor([[7, 7, 7, 7, 7, 7],\n",
       "        [7, 7, 7, 7, 7, 7]])"
      ]
     },
     "execution_count": 220,
     "metadata": {},
     "output_type": "execute_result"
    }
   ],
   "source": [
    "# torch.column_stack()\n",
    "\n",
    "col_stack = torch.column_stack((a, a))\n",
    "col_stack"
   ]
  },
  {
   "cell_type": "code",
   "execution_count": 222,
   "id": "numerous-chosen",
   "metadata": {},
   "outputs": [
    {
     "data": {
      "text/plain": [
       "tensor([[7, 7, 7],\n",
       "        [7, 7, 7],\n",
       "        [7, 7, 7],\n",
       "        [7, 7, 7],\n",
       "        [7, 7, 7],\n",
       "        [7, 7, 7]])"
      ]
     },
     "execution_count": 222,
     "metadata": {},
     "output_type": "execute_result"
    }
   ],
   "source": [
    "## torch.row_stack()\n",
    "row_stack = torch.row_stack((a, a, a))\n",
    "row_stack"
   ]
  },
  {
   "cell_type": "code",
   "execution_count": 223,
   "id": "industrial-jerusalem",
   "metadata": {},
   "outputs": [
    {
     "data": {
      "text/plain": [
       "tensor([[7, 7, 7],\n",
       "        [7, 7, 7],\n",
       "        [7, 7, 7],\n",
       "        [7, 7, 7],\n",
       "        [7, 7, 7],\n",
       "        [7, 7, 7]])"
      ]
     },
     "execution_count": 223,
     "metadata": {},
     "output_type": "execute_result"
    }
   ],
   "source": [
    "## torch.vstack()\n",
    "v_stack = torch.vstack([a, a, a])\n",
    "v_stack"
   ]
  },
  {
   "cell_type": "code",
   "execution_count": 225,
   "id": "foreign-administration",
   "metadata": {},
   "outputs": [
    {
     "data": {
      "text/plain": [
       "tensor([[7, 7, 7, 7, 7, 7, 7, 7, 7],\n",
       "        [7, 7, 7, 7, 7, 7, 7, 7, 7]])"
      ]
     },
     "execution_count": 225,
     "metadata": {},
     "output_type": "execute_result"
    }
   ],
   "source": [
    "## torch.hstack()\n",
    "h_stack = torch.hstack((a, a, a))\n",
    "h_stack"
   ]
  },
  {
   "cell_type": "code",
   "execution_count": 226,
   "id": "naval-breeding",
   "metadata": {},
   "outputs": [
    {
     "data": {
      "text/plain": [
       "tensor([[[1, 4],\n",
       "         [2, 5],\n",
       "         [3, 6]]])"
      ]
     },
     "execution_count": 226,
     "metadata": {},
     "output_type": "execute_result"
    }
   ],
   "source": [
    "## torch.dstack()\n",
    "a = torch.tensor([1, 2, 3])\n",
    "b = torch.tensor([4, 5, 6])\n",
    "\n",
    "torch.dstack((a, b))"
   ]
  },
  {
   "cell_type": "code",
   "execution_count": 227,
   "id": "supposed-north",
   "metadata": {},
   "outputs": [
    {
     "data": {
      "text/plain": [
       "tensor([[0],\n",
       "        [1],\n",
       "        [2]])"
      ]
     },
     "execution_count": 227,
     "metadata": {},
     "output_type": "execute_result"
    }
   ],
   "source": [
    "## torch.nonzero()\n",
    "\n",
    "torch.nonzero(a)"
   ]
  },
  {
   "cell_type": "code",
   "execution_count": 229,
   "id": "upset-cleaner",
   "metadata": {},
   "outputs": [
    {
     "data": {
      "text/plain": [
       "tensor([[0, 1],\n",
       "        [2, 3],\n",
       "        [4, 5],\n",
       "        [6, 7],\n",
       "        [8, 9]])"
      ]
     },
     "execution_count": 229,
     "metadata": {},
     "output_type": "execute_result"
    }
   ],
   "source": [
    "## torch.reshape()\n",
    "a = torch.tensor([i for i in range(10)])\n",
    "torch.reshape(a, [5, -1])"
   ]
  },
  {
   "cell_type": "code",
   "execution_count": 230,
   "id": "fabulous-exclusive",
   "metadata": {},
   "outputs": [
    {
     "data": {
      "text/plain": [
       "(tensor([0, 1, 2]), tensor([3, 4, 5]), tensor([6, 7, 8]), tensor([9]))"
      ]
     },
     "execution_count": 230,
     "metadata": {},
     "output_type": "execute_result"
    }
   ],
   "source": [
    "## torch.split()\n",
    "torch.split(a, 3)"
   ]
  },
  {
   "cell_type": "code",
   "execution_count": 234,
   "id": "random-equation",
   "metadata": {},
   "outputs": [
    {
     "data": {
      "text/plain": [
       "tensor([[0, 5],\n",
       "        [1, 6],\n",
       "        [2, 7],\n",
       "        [3, 8],\n",
       "        [4, 9]])"
      ]
     },
     "execution_count": 234,
     "metadata": {},
     "output_type": "execute_result"
    }
   ],
   "source": [
    "## torch.swapaxes()\n",
    "a = torch.reshape(a, [2, -1])\n",
    "\n",
    "torch.swapaxes(a, 0, 1)"
   ]
  },
  {
   "cell_type": "code",
   "execution_count": 236,
   "id": "specified-upgrade",
   "metadata": {},
   "outputs": [
    {
     "name": "stdout",
     "output_type": "stream",
     "text": [
      "tensor([[0, 1, 2, 3, 4],\n",
      "        [5, 6, 7, 8, 9]])\n"
     ]
    },
    {
     "data": {
      "text/plain": [
       "tensor([[0, 5],\n",
       "        [1, 6],\n",
       "        [2, 7],\n",
       "        [3, 8],\n",
       "        [4, 9]])"
      ]
     },
     "execution_count": 236,
     "metadata": {},
     "output_type": "execute_result"
    }
   ],
   "source": [
    "## torch.swapdims()\n",
    "print(a)\n",
    "torch.swapdims(a, 0, 1)"
   ]
  },
  {
   "cell_type": "code",
   "execution_count": 237,
   "id": "loaded-stability",
   "metadata": {},
   "outputs": [
    {
     "data": {
      "text/plain": [
       "tensor([[0, 5],\n",
       "        [1, 6],\n",
       "        [2, 7],\n",
       "        [3, 8],\n",
       "        [4, 9]])"
      ]
     },
     "execution_count": 237,
     "metadata": {},
     "output_type": "execute_result"
    }
   ],
   "source": [
    "## torch.t()\n",
    "torch.t(a)\n"
   ]
  },
  {
   "cell_type": "code",
   "execution_count": 240,
   "id": "beginning-hardware",
   "metadata": {},
   "outputs": [
    {
     "data": {
      "text/plain": [
       "tensor([0, 6, 7])"
      ]
     },
     "execution_count": 240,
     "metadata": {},
     "output_type": "execute_result"
    }
   ],
   "source": [
    "## torch.take()\n",
    "torch.take(a, torch.tensor([0, 6, 7]))"
   ]
  },
  {
   "cell_type": "code",
   "execution_count": 252,
   "id": "excess-induction",
   "metadata": {},
   "outputs": [
    {
     "data": {
      "text/plain": [
       "tensor([[5, 9, 6, 6, 5, 9, 6, 6, 5, 9, 6, 6, 5, 9, 6, 6],\n",
       "        [5, 9, 6, 6, 5, 9, 6, 6, 5, 9, 6, 6, 5, 9, 6, 6],\n",
       "        [5, 9, 6, 6, 5, 9, 6, 6, 5, 9, 6, 6, 5, 9, 6, 6]])"
      ]
     },
     "execution_count": 252,
     "metadata": {},
     "output_type": "execute_result"
    }
   ],
   "source": [
    "## tensor.tile()\n",
    "torch.randint(5, 10, (4, )).tile(3,4)"
   ]
  },
  {
   "cell_type": "code",
   "execution_count": 270,
   "id": "perfect-monte",
   "metadata": {},
   "outputs": [
    {
     "data": {
      "text/plain": [
       "tensor([[0, 5],\n",
       "        [1, 6],\n",
       "        [2, 7],\n",
       "        [3, 8],\n",
       "        [4, 9]])"
      ]
     },
     "execution_count": 270,
     "metadata": {},
     "output_type": "execute_result"
    }
   ],
   "source": [
    "## torch.transpose()\n",
    "torch.transpose(a,1,0 )\n"
   ]
  },
  {
   "cell_type": "code",
   "execution_count": 272,
   "id": "double-component",
   "metadata": {},
   "outputs": [
    {
     "data": {
      "text/plain": [
       "(tensor([0, 1, 2, 3, 4]), tensor([5, 6, 7, 8, 9]))"
      ]
     },
     "execution_count": 272,
     "metadata": {},
     "output_type": "execute_result"
    }
   ],
   "source": [
    "## torch.unbind()\n",
    "torch.unbind(a)"
   ]
  },
  {
   "cell_type": "code",
   "execution_count": 277,
   "id": "acknowledged-change",
   "metadata": {},
   "outputs": [
    {
     "data": {
      "text/plain": [
       "tensor([[1, 1, 1, 1, 1],\n",
       "        [1, 1, 1, 1, 1]])"
      ]
     },
     "execution_count": 277,
     "metadata": {},
     "output_type": "execute_result"
    }
   ],
   "source": [
    "## torch.where()\n",
    "b = torch.ones_like(a)\n",
    "torch.where(a>10,a, b)"
   ]
  },
  {
   "cell_type": "markdown",
   "id": "collectible-share",
   "metadata": {},
   "source": [
    "## Generators"
   ]
  },
  {
   "cell_type": "code",
   "execution_count": 279,
   "id": "novel-reunion",
   "metadata": {},
   "outputs": [
    {
     "data": {
      "text/plain": [
       "device(type='cpu')"
      ]
     },
     "execution_count": 279,
     "metadata": {},
     "output_type": "execute_result"
    }
   ],
   "source": [
    "g_cpu = torch.Generator()\n",
    "g_cpu.device"
   ]
  },
  {
   "cell_type": "code",
   "execution_count": 280,
   "id": "difficult-chain",
   "metadata": {},
   "outputs": [
    {
     "data": {
      "text/plain": [
       "tensor([  1, 209, 156,  ...,   0,   0,   0], dtype=torch.uint8)"
      ]
     },
     "execution_count": 280,
     "metadata": {},
     "output_type": "execute_result"
    }
   ],
   "source": [
    "g_cpu.get_state()"
   ]
  },
  {
   "cell_type": "code",
   "execution_count": 282,
   "id": "handled-partner",
   "metadata": {},
   "outputs": [
    {
     "data": {
      "text/plain": [
       "67280421310721"
      ]
     },
     "execution_count": 282,
     "metadata": {},
     "output_type": "execute_result"
    }
   ],
   "source": [
    "g_cpu.initial_seed()"
   ]
  },
  {
   "cell_type": "markdown",
   "id": "optical-confidentiality",
   "metadata": {},
   "source": [
    "## Random Sampling"
   ]
  },
  {
   "cell_type": "code",
   "execution_count": 284,
   "id": "latter-action",
   "metadata": {},
   "outputs": [
    {
     "data": {
      "text/plain": [
       "15798930354000"
      ]
     },
     "execution_count": 284,
     "metadata": {},
     "output_type": "execute_result"
    }
   ],
   "source": [
    "## torch.seed()\n",
    "seed = torch.seed()\n",
    "seed"
   ]
  },
  {
   "cell_type": "code",
   "execution_count": 286,
   "id": "proud-denmark",
   "metadata": {},
   "outputs": [
    {
     "data": {
      "text/plain": [
       "15874045848800"
      ]
     },
     "execution_count": 286,
     "metadata": {},
     "output_type": "execute_result"
    }
   ],
   "source": [
    "## torch.manual_seed\n",
    "manual_seed = torch.manual_seed(99)\n",
    "manual_seed\n"
   ]
  },
  {
   "cell_type": "code",
   "execution_count": null,
   "id": "thrown-threshold",
   "metadata": {},
   "outputs": [],
   "source": []
  },
  {
   "cell_type": "code",
   "execution_count": null,
   "id": "later-climate",
   "metadata": {},
   "outputs": [],
   "source": []
  },
  {
   "cell_type": "code",
   "execution_count": null,
   "id": "hawaiian-performer",
   "metadata": {},
   "outputs": [],
   "source": []
  },
  {
   "cell_type": "code",
   "execution_count": null,
   "id": "manufactured-dragon",
   "metadata": {},
   "outputs": [],
   "source": []
  },
  {
   "cell_type": "code",
   "execution_count": null,
   "id": "cardiovascular-basket",
   "metadata": {},
   "outputs": [],
   "source": []
  },
  {
   "cell_type": "code",
   "execution_count": null,
   "id": "genetic-madrid",
   "metadata": {},
   "outputs": [],
   "source": []
  },
  {
   "cell_type": "code",
   "execution_count": null,
   "id": "coupled-spanish",
   "metadata": {},
   "outputs": [],
   "source": []
  },
  {
   "cell_type": "code",
   "execution_count": null,
   "id": "looking-pharmaceutical",
   "metadata": {},
   "outputs": [],
   "source": []
  },
  {
   "cell_type": "code",
   "execution_count": null,
   "id": "polar-trance",
   "metadata": {},
   "outputs": [],
   "source": []
  },
  {
   "cell_type": "code",
   "execution_count": null,
   "id": "tutorial-cleanup",
   "metadata": {},
   "outputs": [],
   "source": []
  },
  {
   "cell_type": "code",
   "execution_count": null,
   "id": "developing-indie",
   "metadata": {},
   "outputs": [],
   "source": []
  },
  {
   "cell_type": "code",
   "execution_count": null,
   "id": "automated-disclosure",
   "metadata": {},
   "outputs": [],
   "source": []
  },
  {
   "cell_type": "code",
   "execution_count": null,
   "id": "aerial-opportunity",
   "metadata": {},
   "outputs": [],
   "source": []
  },
  {
   "cell_type": "code",
   "execution_count": null,
   "id": "skilled-somalia",
   "metadata": {},
   "outputs": [],
   "source": []
  },
  {
   "cell_type": "code",
   "execution_count": null,
   "id": "billion-marina",
   "metadata": {},
   "outputs": [],
   "source": []
  },
  {
   "cell_type": "code",
   "execution_count": null,
   "id": "eligible-discount",
   "metadata": {},
   "outputs": [],
   "source": []
  },
  {
   "cell_type": "code",
   "execution_count": null,
   "id": "annual-simpson",
   "metadata": {},
   "outputs": [],
   "source": []
  }
 ],
 "metadata": {
  "kernelspec": {
   "display_name": "Python 3",
   "language": "python",
   "name": "python3"
  },
  "language_info": {
   "codemirror_mode": {
    "name": "ipython",
    "version": 3
   },
   "file_extension": ".py",
   "mimetype": "text/x-python",
   "name": "python",
   "nbconvert_exporter": "python",
   "pygments_lexer": "ipython3",
   "version": "3.8.5"
  }
 },
 "nbformat": 4,
 "nbformat_minor": 5
}
