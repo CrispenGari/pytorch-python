{
 "cells": [
  {
   "cell_type": "code",
   "execution_count": 1,
   "id": "upper-crash",
   "metadata": {},
   "outputs": [],
   "source": [
    "import torch\n",
    "from torch.utils.data import DataLoader, Dataset\n",
    "import matplotlib.pyplot as plt\n",
    "import numpy as np\n",
    "import seaborn as sns\n",
    "from torch import nn\n",
    "from torch.nn import functional as F\n",
    "import torch.optim as optim\n",
    "import pandas as pd\n",
    "from collections import Counter"
   ]
  },
  {
   "cell_type": "markdown",
   "id": "phantom-impression",
   "metadata": {},
   "source": [
    "### Data Preperation"
   ]
  },
  {
   "cell_type": "code",
   "execution_count": 2,
   "id": "collective-killer",
   "metadata": {},
   "outputs": [
    {
     "data": {
      "text/html": [
       "<div>\n",
       "<style scoped>\n",
       "    .dataframe tbody tr th:only-of-type {\n",
       "        vertical-align: middle;\n",
       "    }\n",
       "\n",
       "    .dataframe tbody tr th {\n",
       "        vertical-align: top;\n",
       "    }\n",
       "\n",
       "    .dataframe thead th {\n",
       "        text-align: right;\n",
       "    }\n",
       "</style>\n",
       "<table border=\"1\" class=\"dataframe\">\n",
       "  <thead>\n",
       "    <tr style=\"text-align: right;\">\n",
       "      <th></th>\n",
       "      <th>x</th>\n",
       "      <th>y</th>\n",
       "      <th>color</th>\n",
       "    </tr>\n",
       "  </thead>\n",
       "  <tbody>\n",
       "    <tr>\n",
       "      <th>0</th>\n",
       "      <td>-4.956506</td>\n",
       "      <td>25.706334</td>\n",
       "      <td>0.0</td>\n",
       "    </tr>\n",
       "    <tr>\n",
       "      <th>1</th>\n",
       "      <td>2.897218</td>\n",
       "      <td>10.359784</td>\n",
       "      <td>0.0</td>\n",
       "    </tr>\n",
       "    <tr>\n",
       "      <th>2</th>\n",
       "      <td>-4.488273</td>\n",
       "      <td>22.113311</td>\n",
       "      <td>0.0</td>\n",
       "    </tr>\n",
       "    <tr>\n",
       "      <th>3</th>\n",
       "      <td>3.823152</td>\n",
       "      <td>15.665060</td>\n",
       "      <td>0.0</td>\n",
       "    </tr>\n",
       "    <tr>\n",
       "      <th>4</th>\n",
       "      <td>4.425201</td>\n",
       "      <td>21.118726</td>\n",
       "      <td>0.0</td>\n",
       "    </tr>\n",
       "  </tbody>\n",
       "</table>\n",
       "</div>"
      ],
      "text/plain": [
       "          x          y  color\n",
       "0 -4.956506  25.706334    0.0\n",
       "1  2.897218  10.359784    0.0\n",
       "2 -4.488273  22.113311    0.0\n",
       "3  3.823152  15.665060    0.0\n",
       "4  4.425201  21.118726    0.0"
      ]
     },
     "execution_count": 2,
     "metadata": {},
     "output_type": "execute_result"
    }
   ],
   "source": [
    "data = pd.read_csv('train.csv')\n",
    "data.head()"
   ]
  },
  {
   "cell_type": "markdown",
   "id": "numeric-samoa",
   "metadata": {},
   "source": [
    "### Dataset Class"
   ]
  },
  {
   "cell_type": "code",
   "execution_count": 73,
   "id": "broadband-device",
   "metadata": {},
   "outputs": [],
   "source": [
    "class Colors(Dataset):\n",
    "    def __init__(self,path, transform=None, shuffle=False):\n",
    "        self.path = path\n",
    "        self.transform = transform\n",
    "        self.dataFrame = pd.read_csv(path)\n",
    "        self.xy = pd.read_csv(path).values\n",
    "        self.shuffle = shuffle\n",
    "        \n",
    "        if self.shuffle:\n",
    "            np.random.shuffle(self.xy)\n",
    "            \n",
    "        self.x = self.xy[:, :2]\n",
    "        self.y = self.xy [:, -1]\n",
    "        self.len = self.y.shape[0]\n",
    "        \n",
    "    def __len__(self):\n",
    "        return self.len\n",
    "    \n",
    "    def __getitem__(self, index):\n",
    "        sample = self.x[index], self.y[index]\n",
    "        if self.transform:\n",
    "            sample = self.transform(sample)\n",
    "        return sample\n",
    "    \n",
    "    def plot(self):\n",
    "        sns.scatterplot(data=self.dataFrame, x='x', y='y',hue='color')\n",
    "        plt.show()"
   ]
  },
  {
   "cell_type": "code",
   "execution_count": 74,
   "id": "social-bangkok",
   "metadata": {},
   "outputs": [],
   "source": [
    "class ToTensor:\n",
    "    def __call__(self, samples):\n",
    "        x, y = samples\n",
    "        return torch.Tensor(x.astype('float32')), torch.Tensor(np.array(y).astype('float32'))"
   ]
  },
  {
   "cell_type": "code",
   "execution_count": 75,
   "id": "black-uruguay",
   "metadata": {},
   "outputs": [],
   "source": [
    "train = Colors(\n",
    "    'train.csv',\n",
    "    transform =ToTensor(),\n",
    "    shuffle=True\n",
    ")\n",
    "test = Colors(\n",
    "    'train.csv',\n",
    "    ToTensor(),\n",
    "    shuffle=True\n",
    ")"
   ]
  },
  {
   "cell_type": "code",
   "execution_count": 76,
   "id": "choice-integer",
   "metadata": {},
   "outputs": [
    {
     "data": {
      "text/plain": [
       "(tensor([[ 2.5353,  5.2673],\n",
       "         [-3.2655, 12.5456],\n",
       "         [ 1.7835,  1.5999],\n",
       "         [-2.7223,  9.4085],\n",
       "         [-0.4167, -0.9980],\n",
       "         [ 0.7968, -0.4453]]),\n",
       " tensor([1., 0., 1., 0., 1., 1.]))"
      ]
     },
     "execution_count": 76,
     "metadata": {},
     "output_type": "execute_result"
    }
   ],
   "source": [
    "train[:6]"
   ]
  },
  {
   "cell_type": "markdown",
   "id": "antique-harmony",
   "metadata": {},
   "source": [
    "> Train Data"
   ]
  },
  {
   "cell_type": "code",
   "execution_count": 77,
   "id": "dietary-resource",
   "metadata": {},
   "outputs": [
    {
     "data": {
      "image/png": "[encoded data removed]",
      "text/plain": [
       "<Figure size 432x288 with 1 Axes>"
      ]
     },
     "metadata": {
      "needs_background": "light"
     },
     "output_type": "display_data"
    }
   ],
   "source": [
    "train.plot()"
   ]
  },
  {
   "cell_type": "markdown",
   "id": "compound-raising",
   "metadata": {},
   "source": [
    "> Test data:"
   ]
  },
  {
   "cell_type": "code",
   "execution_count": null,
   "id": "injured-mixture",
   "metadata": {},
   "outputs": [],
   "source": [
    "sns.catplot(data=data, y='y', x='x', hue='color')\n",
    "plt.plot()"
   ]
  },
  {
   "cell_type": "code",
   "execution_count": null,
   "id": "sudden-street",
   "metadata": {},
   "outputs": [],
   "source": []
  },
  {
   "cell_type": "code",
   "execution_count": null,
   "id": "rational-proportion",
   "metadata": {},
   "outputs": [],
   "source": []
  },
  {
   "cell_type": "code",
   "execution_count": null,
   "id": "thorough-china",
   "metadata": {},
   "outputs": [],
   "source": []
  },
  {
   "cell_type": "code",
   "execution_count": null,
   "id": "familiar-significance",
   "metadata": {},
   "outputs": [],
   "source": []
  }
 ],
 "metadata": {
  "kernelspec": {
   "display_name": "Python 3",
   "language": "python",
   "name": "python3"
  },
  "language_info": {
   "codemirror_mode": {
    "name": "ipython",
    "version": 3
   },
   "file_extension": ".py",
   "mimetype": "text/x-python",
   "name": "python",
   "nbconvert_exporter": "python",
   "pygments_lexer": "ipython3",
   "version": "3.8.5"
  }
 },
 "nbformat": 4,
 "nbformat_minor": 5
}
