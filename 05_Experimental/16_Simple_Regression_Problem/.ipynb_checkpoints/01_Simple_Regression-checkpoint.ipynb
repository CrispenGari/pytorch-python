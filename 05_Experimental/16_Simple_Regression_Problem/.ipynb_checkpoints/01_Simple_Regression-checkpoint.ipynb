{
 "cells": [
  {
   "cell_type": "markdown",
   "id": "extraordinary-portuguese",
   "metadata": {},
   "source": [
    "### Predicting `y` given `x`"
   ]
  },
  {
   "cell_type": "markdown",
   "id": "novel-brush",
   "metadata": {},
   "source": [
    "### Imports"
   ]
  },
  {
   "cell_type": "code",
   "execution_count": 1,
   "id": "dedicated-membership",
   "metadata": {},
   "outputs": [],
   "source": [
    "import numpy as np\n",
    "import matplotlib.pyplot as plt\n",
    "import pandas as pd\n",
    "import torch\n",
    "from torch.utils.data import Dataset, DataLoader\n",
    "from torch import nn\n",
    "from torch.nn import functional as F"
   ]
  },
  {
   "cell_type": "markdown",
   "id": "ready-holder",
   "metadata": {},
   "source": [
    "### Data Processing"
   ]
  },
  {
   "cell_type": "code",
   "execution_count": 29,
   "id": "heard-worst",
   "metadata": {},
   "outputs": [
    {
     "data": {
      "text/html": [
       "<div>\n",
       "<style scoped>\n",
       "    .dataframe tbody tr th:only-of-type {\n",
       "        vertical-align: middle;\n",
       "    }\n",
       "\n",
       "    .dataframe tbody tr th {\n",
       "        vertical-align: top;\n",
       "    }\n",
       "\n",
       "    .dataframe thead th {\n",
       "        text-align: right;\n",
       "    }\n",
       "</style>\n",
       "<table border=\"1\" class=\"dataframe\">\n",
       "  <thead>\n",
       "    <tr style=\"text-align: right;\">\n",
       "      <th></th>\n",
       "      <th>x</th>\n",
       "      <th>y</th>\n",
       "    </tr>\n",
       "  </thead>\n",
       "  <tbody>\n",
       "    <tr>\n",
       "      <th>0</th>\n",
       "      <td>24.0</td>\n",
       "      <td>21.549452</td>\n",
       "    </tr>\n",
       "    <tr>\n",
       "      <th>1</th>\n",
       "      <td>50.0</td>\n",
       "      <td>47.464463</td>\n",
       "    </tr>\n",
       "    <tr>\n",
       "      <th>2</th>\n",
       "      <td>15.0</td>\n",
       "      <td>17.218656</td>\n",
       "    </tr>\n",
       "    <tr>\n",
       "      <th>3</th>\n",
       "      <td>38.0</td>\n",
       "      <td>36.586398</td>\n",
       "    </tr>\n",
       "    <tr>\n",
       "      <th>4</th>\n",
       "      <td>87.0</td>\n",
       "      <td>87.288984</td>\n",
       "    </tr>\n",
       "  </tbody>\n",
       "</table>\n",
       "</div>"
      ],
      "text/plain": [
       "      x          y\n",
       "0  24.0  21.549452\n",
       "1  50.0  47.464463\n",
       "2  15.0  17.218656\n",
       "3  38.0  36.586398\n",
       "4  87.0  87.288984"
      ]
     },
     "execution_count": 29,
     "metadata": {},
     "output_type": "execute_result"
    }
   ],
   "source": [
    "df = pd.read_csv('data/train.csv')\n",
    "df.head()"
   ]
  },
  {
   "cell_type": "markdown",
   "id": "proof-henry",
   "metadata": {},
   "source": [
    "### Check if there are `na` values"
   ]
  },
  {
   "cell_type": "code",
   "execution_count": 30,
   "id": "taken-symbol",
   "metadata": {},
   "outputs": [
    {
     "data": {
      "text/plain": [
       "1"
      ]
     },
     "execution_count": 30,
     "metadata": {},
     "output_type": "execute_result"
    }
   ],
   "source": [
    "df.isnull().values.sum()"
   ]
  },
  {
   "cell_type": "code",
   "execution_count": 33,
   "id": "coastal-strike",
   "metadata": {},
   "outputs": [],
   "source": [
    "df = df.dropna()"
   ]
  },
  {
   "cell_type": "code",
   "execution_count": 34,
   "id": "confidential-ability",
   "metadata": {},
   "outputs": [
    {
     "data": {
      "text/plain": [
       "0"
      ]
     },
     "execution_count": 34,
     "metadata": {},
     "output_type": "execute_result"
    }
   ],
   "source": [
    "df.isnull().values.sum()"
   ]
  },
  {
   "cell_type": "code",
   "execution_count": 3,
   "id": "induced-lotus",
   "metadata": {},
   "outputs": [
    {
     "data": {
      "text/plain": [
       "<matplotlib.collections.PathCollection at 0x26daf68cf40>"
      ]
     },
     "execution_count": 3,
     "metadata": {},
     "output_type": "execute_result"
    },
    {
     "data": {
      "image/png": "[encoded data removed]",
      "text/plain": [
       "<Figure size 432x288 with 1 Axes>"
      ]
     },
     "metadata": {
      "needs_background": "light"
     },
     "output_type": "display_data"
    }
   ],
   "source": [
    "plt.scatter(df.x, df.y)"
   ]
  },
  {
   "cell_type": "code",
   "execution_count": 4,
   "id": "hundred-desktop",
   "metadata": {},
   "outputs": [],
   "source": [
    "from sklearn.compose import ColumnTransformer\n",
    "from sklearn.preprocessing import MinMaxScaler,  MaxAbsScaler"
   ]
  },
  {
   "cell_type": "code",
   "execution_count": 35,
   "id": "compressed-indication",
   "metadata": {},
   "outputs": [],
   "source": [
    "class Data(Dataset):\n",
    "    def __init__(self, path, transform=None, shuffle=False):\n",
    "        self.path = path\n",
    "        self.shuffle = shuffle\n",
    "        self.transform = transform\n",
    "        \n",
    "        # Scale the sparse data\n",
    "        self.data = pd.read_csv(self.path)\n",
    "        self.data = self.data.dropna()\n",
    "        column_transformer = ColumnTransformer([\n",
    "            ('min_max_scaler', MaxAbsScaler(), ['x'])\n",
    "        ]).fit(self.data)\n",
    "        self.xy = column_transformer.transform(self.data)\n",
    "        \n",
    "        if self.shuffle:\n",
    "            np.random.shuffle(self.xy)\n",
    "            \n",
    "        self.x = self.xy[:,0]\n",
    "        self.y = self.data.y.values\n",
    "        self.len = self.x.shape[0]\n",
    "        \n",
    "    def __len__(self):\n",
    "        return self.len\n",
    "    \n",
    "    def __getitem__(self, index):\n",
    "        sample = self.x[index], self.y[index]\n",
    "        if self.transform:\n",
    "            sample = self.transform(sample)\n",
    "        return sample\n",
    "    \n",
    "    def plot(self):\n",
    "        plt.scatter(self.x, self.y)\n",
    "        plt.show()\n",
    "        "
   ]
  },
  {
   "cell_type": "markdown",
   "id": "involved-robinson",
   "metadata": {},
   "source": [
    "### Transformers"
   ]
  },
  {
   "cell_type": "code",
   "execution_count": 36,
   "id": "offshore-python",
   "metadata": {},
   "outputs": [],
   "source": [
    "class ToTensor():\n",
    "    def __call__(self, sample):\n",
    "        x, y = sample\n",
    "        return torch.tensor(x.astype('float32')), torch.tensor(y.astype('float32'))"
   ]
  },
  {
   "cell_type": "markdown",
   "id": "english-louis",
   "metadata": {},
   "source": [
    "### Train and testing data"
   ]
  },
  {
   "cell_type": "code",
   "execution_count": 37,
   "id": "activated-maldives",
   "metadata": {},
   "outputs": [],
   "source": [
    "train = Data(path='data/train.csv', shuffle=True, transform=ToTensor())\n",
    "test = Data(path='data/test.csv', shuffle=True, transform=ToTensor())"
   ]
  },
  {
   "cell_type": "code",
   "execution_count": 38,
   "id": "sharp-guide",
   "metadata": {},
   "outputs": [
    {
     "data": {
      "text/plain": [
       "(tensor(0.2200), tensor(21.5495))"
      ]
     },
     "execution_count": 38,
     "metadata": {},
     "output_type": "execute_result"
    }
   ],
   "source": [
    "train[0]"
   ]
  },
  {
   "cell_type": "markdown",
   "id": "indirect-scratch",
   "metadata": {},
   "source": [
    "### Data Loading"
   ]
  },
  {
   "cell_type": "code",
   "execution_count": 39,
   "id": "ultimate-timothy",
   "metadata": {},
   "outputs": [],
   "source": [
    "train_set = DataLoader(\n",
    "    train,\n",
    "    shuffle=True,\n",
    "    batch_size=10\n",
    ")\n",
    "test_set = DataLoader(\n",
    "    test,\n",
    "    shuffle=False,\n",
    "    batch_size=10\n",
    ")"
   ]
  },
  {
   "cell_type": "code",
   "execution_count": 40,
   "id": "executed-highland",
   "metadata": {},
   "outputs": [],
   "source": [
    "in_features = 10 # the batch size "
   ]
  },
  {
   "cell_type": "markdown",
   "id": "formal-basis",
   "metadata": {},
   "source": [
    "### Model Creation"
   ]
  },
  {
   "cell_type": "code",
   "execution_count": 52,
   "id": "breeding-albert",
   "metadata": {},
   "outputs": [
    {
     "data": {
      "text/plain": [
       "Net(\n",
       "  (linear1): Linear(in_features=1, out_features=64, bias=True)\n",
       "  (linear2): Linear(in_features=64, out_features=1, bias=True)\n",
       ")"
      ]
     },
     "execution_count": 52,
     "metadata": {},
     "output_type": "execute_result"
    }
   ],
   "source": [
    "class Net(nn.Module):\n",
    "    def __init__(self):\n",
    "        super().__init__()\n",
    "        self.linear1 = nn.Linear(1, 64)\n",
    "        self.linear2 = nn.Linear(64, 1)\n",
    "        \n",
    "    def forward(self, x):\n",
    "        x = self.linear1(x)\n",
    "        x = self.linear2(x)\n",
    "        return x\n",
    "net = Net()\n",
    "net"
   ]
  },
  {
   "cell_type": "code",
   "execution_count": 53,
   "id": "cultural-hampton",
   "metadata": {},
   "outputs": [],
   "source": [
    "criterion = nn.MSELoss()\n",
    "optimizer = torch.optim.Adam(net.parameters(), lr=0.1)"
   ]
  },
  {
   "cell_type": "code",
   "execution_count": 56,
   "id": "outside-sleep",
   "metadata": {},
   "outputs": [
    {
     "name": "stdout",
     "output_type": "stream",
     "text": [
      "Epoch: 10/100, loss: 1207.961\n",
      "Epoch: 20/100, loss: 1116.373\n",
      "Epoch: 30/100, loss: 870.341\n",
      "Epoch: 40/100, loss: 796.132\n",
      "Epoch: 50/100, loss: 710.145\n",
      "Epoch: 60/100, loss: 846.027\n",
      "Epoch: 70/100, loss: 501.245\n",
      "Epoch: 80/100, loss: 1236.592\n",
      "Epoch: 90/100, loss: 391.527\n",
      "Epoch: 100/100, loss: 318.895\n"
     ]
    }
   ],
   "source": [
    "EPOCHS = 100\n",
    "for epoch in range(EPOCHS):\n",
    "    for X, y in train_set:\n",
    "        optimizer.zero_grad()\n",
    "        # forward pass\n",
    "        outputs = net(X.view(-1, 1))\n",
    "        # Loss\n",
    "        loss = criterion(outputs, y.unsqueeze_(1))\n",
    "        # backward pass\n",
    "        loss.backward()\n",
    "        \n",
    "        ## update the weights\n",
    "        optimizer.step()\n",
    "    if (epoch +1 ) % 10 == 0:\n",
    "        print(f'Epoch: {epoch+1}/{EPOCHS}, loss: {loss:.3f}')"
   ]
  },
  {
   "cell_type": "code",
   "execution_count": 59,
   "id": "disciplinary-somewhere",
   "metadata": {},
   "outputs": [
    {
     "name": "stdout",
     "output_type": "stream",
     "text": [
      "tensor(1029.9642)\n"
     ]
    }
   ],
   "source": [
    "with torch.no_grad():\n",
    "    for X, y in test_set:\n",
    "        outputs = net(X.view(-1, 1))\n",
    "        # Loss\n",
    "        loss = criterion(outputs, y.unsqueeze_(1))\n",
    "    print(loss)"
   ]
  },
  {
   "cell_type": "code",
   "execution_count": 64,
   "id": "chicken-voice",
   "metadata": {},
   "outputs": [
    {
     "data": {
      "text/plain": [
       "(tensor([[56.8608],\n",
       "         [56.4267],\n",
       "         [54.6905]], grad_fn=<AddmmBackward>),\n",
       " tensor([[91.3086],\n",
       "         [ 8.6733],\n",
       "         [39.3149]]))"
      ]
     },
     "execution_count": 64,
     "metadata": {},
     "output_type": "execute_result"
    }
   ],
   "source": [
    "net(X[:3].view(-1, 1)), y[:3]"
   ]
  },
  {
   "cell_type": "code",
   "execution_count": null,
   "id": "composed-spirit",
   "metadata": {},
   "outputs": [],
   "source": []
  },
  {
   "cell_type": "code",
   "execution_count": null,
   "id": "indie-command",
   "metadata": {},
   "outputs": [],
   "source": []
  },
  {
   "cell_type": "code",
   "execution_count": null,
   "id": "expired-discharge",
   "metadata": {},
   "outputs": [],
   "source": []
  },
  {
   "cell_type": "code",
   "execution_count": null,
   "id": "tribal-resort",
   "metadata": {},
   "outputs": [],
   "source": []
  },
  {
   "cell_type": "code",
   "execution_count": null,
   "id": "prepared-germany",
   "metadata": {},
   "outputs": [],
   "source": []
  },
  {
   "cell_type": "code",
   "execution_count": null,
   "id": "hidden-quantity",
   "metadata": {},
   "outputs": [],
   "source": []
  },
  {
   "cell_type": "code",
   "execution_count": null,
   "id": "active-carnival",
   "metadata": {},
   "outputs": [],
   "source": []
  }
 ],
 "metadata": {
  "kernelspec": {
   "display_name": "Python 3",
   "language": "python",
   "name": "python3"
  },
  "language_info": {
   "codemirror_mode": {
    "name": "ipython",
    "version": 3
   },
   "file_extension": ".py",
   "mimetype": "text/x-python",
   "name": "python",
   "nbconvert_exporter": "python",
   "pygments_lexer": "ipython3",
   "version": "3.8.5"
  }
 },
 "nbformat": 4,
 "nbformat_minor": 5
}
