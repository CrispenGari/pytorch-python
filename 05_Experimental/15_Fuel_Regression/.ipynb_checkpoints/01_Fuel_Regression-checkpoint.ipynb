{
 "cells": [
  {
   "cell_type": "markdown",
   "id": "isolated-identification",
   "metadata": {},
   "source": [
    "### The Auto MPG dataset\n",
    "\n",
    "> The dataset is available from [UCI Machine Learning Repository.](https://archive.ics.uci.edu/ml/index.php)"
   ]
  },
  {
   "cell_type": "markdown",
   "id": "commercial-taylor",
   "metadata": {},
   "source": [
    "### Impots"
   ]
  },
  {
   "cell_type": "code",
   "execution_count": 4,
   "id": "solid-impossible",
   "metadata": {},
   "outputs": [],
   "source": [
    "import numpy as np\n",
    "import torch\n",
    "from torch.nn import functional as f\n",
    "import torch.nn as nn\n",
    "import matplotlib.pyplot as plt\n",
    "import pandas as pd\n",
    "import seaborn as sns\n",
    "from torch.utils.data import Dataset, DataLoader"
   ]
  },
  {
   "cell_type": "markdown",
   "id": "incorporated-chick",
   "metadata": {},
   "source": [
    "### Data Prep\n",
    "> Creating a Car Dataset"
   ]
  },
  {
   "cell_type": "code",
   "execution_count": 2,
   "id": "multiple-forum",
   "metadata": {},
   "outputs": [],
   "source": [
    "url = 'http://archive.ics.uci.edu/ml/machine-learning-databases/auto-mpg/auto-mpg.data'\n",
    "column_names = ['MPG', 'Cylinders', 'Displacement', 'Horsepower', 'Weight',\n",
    "                'Acceleration', 'Model Year', 'Origin']\n",
    "raw_dataset = pd.read_csv(url, names=column_names, na_values='?'\n",
    "                         , comment='\\t', sep=' ', skipinitialspace=True)"
   ]
  },
  {
   "cell_type": "code",
   "execution_count": 3,
   "id": "olive-vinyl",
   "metadata": {},
   "outputs": [
    {
     "data": {
      "text/html": [
       "<div>\n",
       "<style scoped>\n",
       "    .dataframe tbody tr th:only-of-type {\n",
       "        vertical-align: middle;\n",
       "    }\n",
       "\n",
       "    .dataframe tbody tr th {\n",
       "        vertical-align: top;\n",
       "    }\n",
       "\n",
       "    .dataframe thead th {\n",
       "        text-align: right;\n",
       "    }\n",
       "</style>\n",
       "<table border=\"1\" class=\"dataframe\">\n",
       "  <thead>\n",
       "    <tr style=\"text-align: right;\">\n",
       "      <th></th>\n",
       "      <th>MPG</th>\n",
       "      <th>Cylinders</th>\n",
       "      <th>Displacement</th>\n",
       "      <th>Horsepower</th>\n",
       "      <th>Weight</th>\n",
       "      <th>Acceleration</th>\n",
       "      <th>Model Year</th>\n",
       "      <th>Origin</th>\n",
       "    </tr>\n",
       "  </thead>\n",
       "  <tbody>\n",
       "    <tr>\n",
       "      <th>0</th>\n",
       "      <td>18.0</td>\n",
       "      <td>8</td>\n",
       "      <td>307.0</td>\n",
       "      <td>130.0</td>\n",
       "      <td>3504.0</td>\n",
       "      <td>12.0</td>\n",
       "      <td>70</td>\n",
       "      <td>1</td>\n",
       "    </tr>\n",
       "    <tr>\n",
       "      <th>1</th>\n",
       "      <td>15.0</td>\n",
       "      <td>8</td>\n",
       "      <td>350.0</td>\n",
       "      <td>165.0</td>\n",
       "      <td>3693.0</td>\n",
       "      <td>11.5</td>\n",
       "      <td>70</td>\n",
       "      <td>1</td>\n",
       "    </tr>\n",
       "    <tr>\n",
       "      <th>2</th>\n",
       "      <td>18.0</td>\n",
       "      <td>8</td>\n",
       "      <td>318.0</td>\n",
       "      <td>150.0</td>\n",
       "      <td>3436.0</td>\n",
       "      <td>11.0</td>\n",
       "      <td>70</td>\n",
       "      <td>1</td>\n",
       "    </tr>\n",
       "    <tr>\n",
       "      <th>3</th>\n",
       "      <td>16.0</td>\n",
       "      <td>8</td>\n",
       "      <td>304.0</td>\n",
       "      <td>150.0</td>\n",
       "      <td>3433.0</td>\n",
       "      <td>12.0</td>\n",
       "      <td>70</td>\n",
       "      <td>1</td>\n",
       "    </tr>\n",
       "    <tr>\n",
       "      <th>4</th>\n",
       "      <td>17.0</td>\n",
       "      <td>8</td>\n",
       "      <td>302.0</td>\n",
       "      <td>140.0</td>\n",
       "      <td>3449.0</td>\n",
       "      <td>10.5</td>\n",
       "      <td>70</td>\n",
       "      <td>1</td>\n",
       "    </tr>\n",
       "  </tbody>\n",
       "</table>\n",
       "</div>"
      ],
      "text/plain": [
       "    MPG  Cylinders  Displacement  Horsepower  Weight  Acceleration  \\\n",
       "0  18.0          8         307.0       130.0  3504.0          12.0   \n",
       "1  15.0          8         350.0       165.0  3693.0          11.5   \n",
       "2  18.0          8         318.0       150.0  3436.0          11.0   \n",
       "3  16.0          8         304.0       150.0  3433.0          12.0   \n",
       "4  17.0          8         302.0       140.0  3449.0          10.5   \n",
       "\n",
       "   Model Year  Origin  \n",
       "0          70       1  \n",
       "1          70       1  \n",
       "2          70       1  \n",
       "3          70       1  \n",
       "4          70       1  "
      ]
     },
     "execution_count": 3,
     "metadata": {},
     "output_type": "execute_result"
    }
   ],
   "source": [
    "raw_dataset.head()"
   ]
  },
  {
   "cell_type": "code",
   "execution_count": 5,
   "id": "maritime-consideration",
   "metadata": {},
   "outputs": [
    {
     "data": {
      "text/plain": [
       "True"
      ]
     },
     "execution_count": 5,
     "metadata": {},
     "output_type": "execute_result"
    }
   ],
   "source": [
    "raw_dataset.isnull().values.any()"
   ]
  },
  {
   "cell_type": "code",
   "execution_count": 6,
   "id": "spoken-withdrawal",
   "metadata": {},
   "outputs": [
    {
     "data": {
      "text/plain": [
       "False"
      ]
     },
     "execution_count": 6,
     "metadata": {},
     "output_type": "execute_result"
    }
   ],
   "source": [
    "df = raw_dataset.dropna()\n",
    "df.isnull().values.any()"
   ]
  },
  {
   "cell_type": "code",
   "execution_count": 16,
   "id": "starting-island",
   "metadata": {},
   "outputs": [
    {
     "data": {
      "text/plain": [
       "['Cylinders',\n",
       " 'Displacement',\n",
       " 'Horsepower',\n",
       " 'Weight',\n",
       " 'Acceleration',\n",
       " 'Model Year',\n",
       " 'Origin']"
      ]
     },
     "execution_count": 16,
     "metadata": {},
     "output_type": "execute_result"
    }
   ],
   "source": [
    "column_names[1:]"
   ]
  },
  {
   "cell_type": "markdown",
   "id": "fabulous-murder",
   "metadata": {},
   "source": [
    "> We may also want to make transformation on the dataset. Although all the data is numeric we may want to scale the data. We are going to use `scikit-learn` `MinMaxScaler` to scale other columns exept for the `MPG` which is what we are trying to predict."
   ]
  },
  {
   "cell_type": "code",
   "execution_count": 8,
   "id": "unable-saskatchewan",
   "metadata": {},
   "outputs": [],
   "source": [
    "from sklearn.preprocessing import MinMaxScaler\n",
    "from sklearn.compose import ColumnTransformer"
   ]
  },
  {
   "cell_type": "code",
   "execution_count": 23,
   "id": "emerging-stewart",
   "metadata": {},
   "outputs": [],
   "source": [
    "class Car(Dataset):\n",
    "    def __init__(self, path, transform=None):\n",
    "        self.transform = transform\n",
    "        self.column_names = ['MPG', 'Cylinders', 'Displacement', 'Horsepower', 'Weight',\n",
    "                'Acceleration', 'Model Year', 'Origin']\n",
    "        self.dataframe = pd.read_csv(path, names=column_names, na_values='?'\n",
    "                         , comment='\\t', sep=' ', skipinitialspace=True)\n",
    "        if self.dataframe.isnull().values.any():\n",
    "            self.dataframe = self.dataframe.dropna()\n",
    "        \n",
    "        self.y = self.dataframe[\"MPG\"].values.astype('float32')\n",
    "        self.features = self.dataframe.drop([\"MPG\"], axis=1)\n",
    "        \n",
    "        self.column_transformer = ColumnTransformer([\n",
    "                ('min_max_scaler', MinMaxScaler(), self.column_names[1:])\n",
    "        ]).fit(self.features)\n",
    "        \n",
    "        self.x = self.column_transformer.transform(self.features).astype('float32')\n",
    "        self.len = self.y.shape[0]\n",
    "        \n",
    "    def __len__(self):\n",
    "        return self.len\n",
    "    \n",
    "    def __getitem__(self, index):\n",
    "        sample = self.x[index], self.y[index]\n",
    "        if self.transform:\n",
    "            sample = self.transform(sample)\n",
    "        return sample"
   ]
  },
  {
   "cell_type": "markdown",
   "id": "sought-republic",
   "metadata": {},
   "source": [
    "> Creating a `ToTensor` transformer"
   ]
  },
  {
   "cell_type": "code",
   "execution_count": 24,
   "id": "adult-galaxy",
   "metadata": {},
   "outputs": [],
   "source": [
    "class ToTensor:\n",
    "    def __call__(self, samples):\n",
    "        x, y = samples\n",
    "        return torch.Tensor(x), torch.Tensor(np.array(y))\n",
    "        "
   ]
  },
  {
   "cell_type": "code",
   "execution_count": 25,
   "id": "marked-guest",
   "metadata": {},
   "outputs": [],
   "source": [
    "car = Car(path=url, transform=ToTensor())"
   ]
  },
  {
   "cell_type": "code",
   "execution_count": 27,
   "id": "outdoor-hearts",
   "metadata": {},
   "outputs": [
    {
     "data": {
      "text/plain": [
       "(tensor([1.0000, 0.7287, 0.6467, 0.5897, 0.2083, 0.0000, 0.0000]), tensor(15.))"
      ]
     },
     "execution_count": 27,
     "metadata": {},
     "output_type": "execute_result"
    }
   ],
   "source": [
    "car[1]"
   ]
  },
  {
   "cell_type": "markdown",
   "id": "binary-transcript",
   "metadata": {},
   "source": [
    "> Split the data into ``train`` and ``test`` sets"
   ]
  },
  {
   "cell_type": "code",
   "execution_count": 28,
   "id": "selected-enzyme",
   "metadata": {},
   "outputs": [],
   "source": [
    "from sklearn.model_selection import train_test_split"
   ]
  },
  {
   "cell_type": "code",
   "execution_count": 29,
   "id": "physical-relationship",
   "metadata": {},
   "outputs": [],
   "source": [
    "train, test = train_test_split(car, test_size=.10, random_state=42)"
   ]
  },
  {
   "cell_type": "code",
   "execution_count": 39,
   "id": "christian-office",
   "metadata": {},
   "outputs": [
    {
     "data": {
      "text/plain": [
       "torch.Size([7])"
      ]
     },
     "execution_count": 39,
     "metadata": {},
     "output_type": "execute_result"
    }
   ],
   "source": [
    "train[0][0].shape"
   ]
  },
  {
   "cell_type": "code",
   "execution_count": null,
   "id": "confidential-arnold",
   "metadata": {},
   "outputs": [],
   "source": []
  },
  {
   "cell_type": "markdown",
   "id": "verified-force",
   "metadata": {},
   "source": [
    "> Creating Data ``Loaders``"
   ]
  },
  {
   "cell_type": "code",
   "execution_count": 36,
   "id": "delayed-istanbul",
   "metadata": {},
   "outputs": [],
   "source": [
    "train_set = DataLoader(\n",
    "    train,\n",
    "    shuffle=True,\n",
    "    batch_size=10,\n",
    ")\n",
    "test_set = DataLoader(\n",
    "    test,\n",
    "    shuffle=False,\n",
    "    batch_size=10,\n",
    ")"
   ]
  },
  {
   "cell_type": "markdown",
   "id": "allied-nirvana",
   "metadata": {},
   "source": [
    "### Creating a `F-FNN` for this regression problem"
   ]
  },
  {
   "cell_type": "code",
   "execution_count": 41,
   "id": "rapid-passion",
   "metadata": {},
   "outputs": [
    {
     "data": {
      "text/plain": [
       "Net(\n",
       "  (fc1): Linear(in_features=7, out_features=64, bias=True)\n",
       "  (fc2): Linear(in_features=64, out_features=128, bias=True)\n",
       "  (fc3): Linear(in_features=128, out_features=256, bias=True)\n",
       "  (fc4): Linear(in_features=256, out_features=128, bias=True)\n",
       "  (fc5): Linear(in_features=128, out_features=64, bias=True)\n",
       "  (fc6): Linear(in_features=64, out_features=16, bias=True)\n",
       "  (fc7): Linear(in_features=16, out_features=1, bias=True)\n",
       ")"
      ]
     },
     "execution_count": 41,
     "metadata": {},
     "output_type": "execute_result"
    }
   ],
   "source": [
    "\n",
    "class Net(nn.Module):\n",
    "    def __init__(self):\n",
    "        super().__init__()\n",
    "        self.fc1 = nn.Linear(in_features=7, out_features = 64)\n",
    "        self.fc2 = nn.Linear(in_features=64, out_features = 128)\n",
    "        self.fc3 = nn.Linear(in_features=128, out_features = 256)\n",
    "        self.fc4 = nn.Linear(in_features=256, out_features = 128)\n",
    "        self.fc5 = nn.Linear(in_features=128, out_features = 64)\n",
    "        self.fc6 = nn.Linear(in_features=64, out_features = 16)\n",
    "        self.fc7 = nn.Linear(in_features=16, out_features = 1)\n",
    "        \n",
    "    def forward(self, x):\n",
    "        x = self.fc1(x)\n",
    "        x = self.fc2(x)\n",
    "        x = self.fc3(x)\n",
    "        x = self.fc4(x)\n",
    "        x = self.fc5(x)\n",
    "        x = self.fc6(x)\n",
    "        x = self.fc7(x)\n",
    "        return x\n",
    "    \n",
    "net = Net()\n",
    "net"
   ]
  },
  {
   "cell_type": "code",
   "execution_count": 42,
   "id": "velvet-running",
   "metadata": {},
   "outputs": [],
   "source": [
    "optimizer = torch.optim.SGD(net.parameters(), lr=0.01)\n",
    "criterion = nn.L1Loss()"
   ]
  },
  {
   "cell_type": "code",
   "execution_count": 46,
   "id": "original-philip",
   "metadata": {},
   "outputs": [
    {
     "name": "stdout",
     "output_type": "stream",
     "text": [
      "Epochs: 10/100, loss=0.659\n",
      "Epochs: 20/100, loss=0.375\n",
      "Epochs: 30/100, loss=2.064\n",
      "Epochs: 40/100, loss=7.232\n",
      "Epochs: 50/100, loss=2.612\n",
      "Epochs: 60/100, loss=0.764\n",
      "Epochs: 70/100, loss=5.416\n",
      "Epochs: 80/100, loss=4.505\n",
      "Epochs: 90/100, loss=1.977\n",
      "Epochs: 100/100, loss=2.105\n"
     ]
    }
   ],
   "source": [
    "EPOCHS = 100\n",
    "losses = []\n",
    "for epoch in range(EPOCHS):\n",
    "    for X, y in train_set:\n",
    "        optimizer.zero_grad()\n",
    "        # forward pass\n",
    "        outputs = net(X)\n",
    "        # loss \n",
    "        loss = criterion(outputs, y.unsqueeze_(1))\n",
    "        # backward pass\n",
    "        loss.backward()\n",
    "        # update the weights\n",
    "        optimizer.step()\n",
    "    losses.append(loss.item())\n",
    "    if (epoch + 1) % 10 == 0:\n",
    "        print(f'Epochs: {epoch+1}/{EPOCHS}, loss={loss.item():.3f}')\n",
    "        "
   ]
  },
  {
   "cell_type": "markdown",
   "id": "rising-haiti",
   "metadata": {},
   "source": [
    "> Visualising the ``model`` ``loss`` on each ``epoch``"
   ]
  },
  {
   "cell_type": "code",
   "execution_count": 55,
   "id": "abstract-kidney",
   "metadata": {},
   "outputs": [],
   "source": [
    "epochs = np.arange(EPOCHS)\n",
    "losses = np.array(losses)"
   ]
  },
  {
   "cell_type": "code",
   "execution_count": null,
   "id": "certain-mountain",
   "metadata": {},
   "outputs": [],
   "source": []
  },
  {
   "cell_type": "markdown",
   "id": "academic-injury",
   "metadata": {},
   "source": [
    "> Evaluating the ``model`` ``on the test_set``"
   ]
  },
  {
   "cell_type": "code",
   "execution_count": 49,
   "id": "behind-plant",
   "metadata": {},
   "outputs": [
    {
     "name": "stdout",
     "output_type": "stream",
     "text": [
      "Loss:  2.3932158946990967\n"
     ]
    }
   ],
   "source": [
    "with torch.no_grad():\n",
    "    for X, y in test_set:\n",
    "        outputs = net(X)\n",
    "        # Loss\n",
    "        loss = criterion(outputs, y.unsqueeze_(1))\n",
    "    print(\"Loss: \", loss.item())"
   ]
  },
  {
   "cell_type": "markdown",
   "id": "dimensional-interstate",
   "metadata": {},
   "source": [
    "### Making predictions"
   ]
  },
  {
   "cell_type": "code",
   "execution_count": 50,
   "id": "alien-buying",
   "metadata": {},
   "outputs": [],
   "source": [
    "for X, y in test_set:\n",
    "    pass"
   ]
  },
  {
   "cell_type": "code",
   "execution_count": 51,
   "id": "convenient-algebra",
   "metadata": {},
   "outputs": [
    {
     "data": {
      "text/plain": [
       "(tensor([[16.7982],\n",
       "         [25.3387],\n",
       "         [23.1987],\n",
       "         [33.6689],\n",
       "         [15.7178]], grad_fn=<AddmmBackward>),\n",
       " tensor([15.0000, 19.4000, 19.2000, 31.6000, 13.0000]))"
      ]
     },
     "execution_count": 51,
     "metadata": {},
     "output_type": "execute_result"
    }
   ],
   "source": [
    "net(X[:5]), y[:5]"
   ]
  },
  {
   "cell_type": "markdown",
   "id": "thousand-schedule",
   "metadata": {},
   "source": [
    "> I'm just happy with the model perfomance especially on predictions"
   ]
  },
  {
   "cell_type": "code",
   "execution_count": null,
   "id": "handy-science",
   "metadata": {},
   "outputs": [],
   "source": []
  }
 ],
 "metadata": {
  "kernelspec": {
   "display_name": "Python 3",
   "language": "python",
   "name": "python3"
  },
  "language_info": {
   "codemirror_mode": {
    "name": "ipython",
    "version": 3
   },
   "file_extension": ".py",
   "mimetype": "text/x-python",
   "name": "python",
   "nbconvert_exporter": "python",
   "pygments_lexer": "ipython3",
   "version": "3.8.5"
  }
 },
 "nbformat": 4,
 "nbformat_minor": 5
}
