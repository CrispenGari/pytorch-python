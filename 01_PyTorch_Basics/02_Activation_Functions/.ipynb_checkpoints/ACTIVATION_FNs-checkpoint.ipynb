{
 "cells": [
  {
   "cell_type": "markdown",
   "id": "younger-service",
   "metadata": {},
   "source": [
    "### Activation functions"
   ]
  },
  {
   "cell_type": "code",
   "execution_count": 1,
   "id": "interior-cooperative",
   "metadata": {},
   "outputs": [],
   "source": [
    "import torch\n",
    "import torch.nn as nn\n",
    "from torch.nn import functional as F"
   ]
  },
  {
   "cell_type": "code",
   "execution_count": 2,
   "id": "surprising-financing",
   "metadata": {},
   "outputs": [],
   "source": [
    "x = torch.tensor([-1.0, 1.0, 2.0, 3.0])"
   ]
  },
  {
   "cell_type": "markdown",
   "id": "undefined-status",
   "metadata": {},
   "source": [
    "### 1. Softmax"
   ]
  },
  {
   "cell_type": "code",
   "execution_count": 28,
   "id": "hydraulic-diabetes",
   "metadata": {},
   "outputs": [
    {
     "data": {
      "text/plain": [
       "(tensor([0.0120, 0.0889, 0.2418, 0.6572]),\n",
       " tensor([0.0120, 0.0889, 0.2418, 0.6572]))"
      ]
     },
     "execution_count": 28,
     "metadata": {},
     "output_type": "execute_result"
    }
   ],
   "source": [
    "output2 = torch.softmax(x, dim=0)\n",
    "output3 = F.softmax(x, dim=0)\n",
    "\n",
    "output2, output3"
   ]
  },
  {
   "cell_type": "markdown",
   "id": "stuck-mitchell",
   "metadata": {},
   "source": [
    "### 2. Sigmoid"
   ]
  },
  {
   "cell_type": "code",
   "execution_count": 25,
   "id": "straight-print",
   "metadata": {},
   "outputs": [
    {
     "data": {
      "text/plain": [
       "(tensor([0.2689, 0.7311, 0.8808, 0.9526]),\n",
       " tensor([0.2689, 0.7311, 0.8808, 0.9526]))"
      ]
     },
     "execution_count": 25,
     "metadata": {},
     "output_type": "execute_result"
    }
   ],
   "source": [
    "output2 = torch.sigmoid(x)\n",
    "output3 = F.sigmoid(x)\n",
    "\n",
    "output2, output3"
   ]
  },
  {
   "cell_type": "markdown",
   "id": "diverse-shore",
   "metadata": {},
   "source": [
    "### 3. tanh"
   ]
  },
  {
   "cell_type": "code",
   "execution_count": 30,
   "id": "former-blind",
   "metadata": {},
   "outputs": [
    {
     "data": {
      "text/plain": [
       "(tensor([-0.7616,  0.7616,  0.9640,  0.9951]),\n",
       " tensor([-0.7616,  0.7616,  0.9640,  0.9951]))"
      ]
     },
     "execution_count": 30,
     "metadata": {},
     "output_type": "execute_result"
    }
   ],
   "source": [
    "output2 = torch.tanh(x)\n",
    "output3 = F.tanh(x)\n",
    "\n",
    "output2, output3"
   ]
  },
  {
   "cell_type": "markdown",
   "id": "entire-claim",
   "metadata": {},
   "source": [
    "### 4. relu"
   ]
  },
  {
   "cell_type": "code",
   "execution_count": 31,
   "id": "advance-sunglasses",
   "metadata": {},
   "outputs": [
    {
     "data": {
      "text/plain": [
       "(tensor([0., 1., 2., 3.]), tensor([0., 1., 2., 3.]))"
      ]
     },
     "execution_count": 31,
     "metadata": {},
     "output_type": "execute_result"
    }
   ],
   "source": [
    "output2 = torch.relu(x)\n",
    "output3 = F.relu(x)\n",
    "\n",
    "output2, output3"
   ]
  },
  {
   "cell_type": "markdown",
   "id": "favorite-cooper",
   "metadata": {},
   "source": [
    "### 5. leaky_relu"
   ]
  },
  {
   "cell_type": "code",
   "execution_count": 32,
   "id": "damaged-oasis",
   "metadata": {},
   "outputs": [
    {
     "data": {
      "text/plain": [
       "(tensor([0., 1., 2., 3.]), tensor([-0.0100,  1.0000,  2.0000,  3.0000]))"
      ]
     },
     "execution_count": 32,
     "metadata": {},
     "output_type": "execute_result"
    }
   ],
   "source": [
    "output3 = F.leaky_relu(x)\n",
    "output2, output3"
   ]
  },
  {
   "cell_type": "markdown",
   "id": "vocational-cassette",
   "metadata": {},
   "source": [
    "> ``nn.ReLU()`` creates an ``nn.Module`` which you can add e.g. to an  ``nn.Sequential`` model.\n",
    "* torch.relu on the other side is just the functional API call to the relu function.\n",
    "\n",
    "**Usage Examples:**"
   ]
  },
  {
   "cell_type": "code",
   "execution_count": 37,
   "id": "ordinary-korea",
   "metadata": {},
   "outputs": [],
   "source": [
    "class Net(nn.Module):\n",
    "    def __init__(self, input_size, hidden_size):\n",
    "        super(NeuralNet, self).__init__()\n",
    "        self.linear1 = nn.Linear(input_size, hidden_size)\n",
    "        self.relu = nn.ReLU()\n",
    "        self.linear2 = nn.Linear(hidden_size, 1)\n",
    "        self.sigmoid = nn.Sigmoid()\n",
    "    \n",
    "    def forward(self, x):\n",
    "        out = self.linear1(x)\n",
    "        out = self.relu(out)\n",
    "        out = self.linear2(out)\n",
    "        out = self.sigmoid(out)\n",
    "        return out"
   ]
  },
  {
   "cell_type": "markdown",
   "id": "flying-adolescent",
   "metadata": {},
   "source": [
    "> **OR**"
   ]
  },
  {
   "cell_type": "code",
   "execution_count": 36,
   "id": "empirical-grove",
   "metadata": {},
   "outputs": [],
   "source": [
    "class Net(nn.Module):\n",
    "    def __init__(self, input_size, hidden_size):\n",
    "        super(NeuralNet, self).__init__()\n",
    "        self.linear1 = nn.Linear(input_size, hidden_size)\n",
    "        self.linear2 = nn.Linear(hidden_size, 1)\n",
    "    \n",
    "    def forward(self, x):\n",
    "        out = torch.relu(self.linear1(x))\n",
    "        out = torch.sigmoid(self.linear2(out))\n",
    "        return out"
   ]
  }
 ],
 "metadata": {
  "kernelspec": {
   "display_name": "Python 3",
   "language": "python",
   "name": "python3"
  },
  "language_info": {
   "codemirror_mode": {
    "name": "ipython",
    "version": 3
   },
   "file_extension": ".py",
   "mimetype": "text/x-python",
   "name": "python",
   "nbconvert_exporter": "python",
   "pygments_lexer": "ipython3",
   "version": "3.8.5"
  }
 },
 "nbformat": 4,
 "nbformat_minor": 5
}
