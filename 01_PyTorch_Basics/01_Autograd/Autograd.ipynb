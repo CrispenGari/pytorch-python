{
 "cells": [
  {
   "cell_type": "markdown",
   "id": "automated-stone",
   "metadata": {},
   "source": [
    "## Autograd"
   ]
  },
  {
   "cell_type": "code",
   "execution_count": 1,
   "id": "restricted-stereo",
   "metadata": {},
   "outputs": [],
   "source": [
    "import torch"
   ]
  },
  {
   "cell_type": "markdown",
   "id": "flush-monday",
   "metadata": {},
   "source": [
    "### Creation of a tensor\n",
    "> When we are creating a tensor we should specify `requires_grad` to be `True` so as to track all the operations on the tensor"
   ]
  },
  {
   "cell_type": "code",
   "execution_count": 2,
   "id": "sought-nutrition",
   "metadata": {},
   "outputs": [
    {
     "data": {
      "text/plain": [
       "tensor([-0.2457,  0.7481,  0.1907, -1.7052], requires_grad=True)"
      ]
     },
     "execution_count": 2,
     "metadata": {},
     "output_type": "execute_result"
    }
   ],
   "source": [
    "x = torch.randn(4, requires_grad=True)\n",
    "x"
   ]
  },
  {
   "cell_type": "markdown",
   "id": "greek-friday",
   "metadata": {},
   "source": [
    "> Now we have a tensor with `requires_grad=True`. Which means we are able to track all operations on our tensor `x`"
   ]
  },
  {
   "cell_type": "code",
   "execution_count": 4,
   "id": "elect-montgomery",
   "metadata": {},
   "outputs": [
    {
     "data": {
      "text/plain": [
       "tensor([1.7543, 2.7481, 2.1907, 0.2948], grad_fn=<AddBackward0>)"
      ]
     },
     "execution_count": 4,
     "metadata": {},
     "output_type": "execute_result"
    }
   ],
   "source": [
    "y = x+2\n",
    "y"
   ]
  },
  {
   "cell_type": "code",
   "execution_count": 5,
   "id": "distinct-market",
   "metadata": {},
   "outputs": [
    {
     "data": {
      "text/plain": [
       "<AddBackward0 at 0x160f0892640>"
      ]
     },
     "execution_count": 5,
     "metadata": {},
     "output_type": "execute_result"
    }
   ],
   "source": [
    "y.grad_fn"
   ]
  },
  {
   "cell_type": "code",
   "execution_count": 6,
   "id": "dramatic-montreal",
   "metadata": {},
   "outputs": [
    {
     "data": {
      "text/plain": [
       "tensor(1.7470, grad_fn=<MeanBackward0>)"
      ]
     },
     "execution_count": 6,
     "metadata": {},
     "output_type": "execute_result"
    }
   ],
   "source": [
    "z = y.mean()\n",
    "z"
   ]
  },
  {
   "cell_type": "markdown",
   "id": "artificial-caribbean",
   "metadata": {},
   "source": [
    "### Gradient Calculation\n",
    "> first of all we need to call the `.backward()`"
   ]
  },
  {
   "cell_type": "code",
   "execution_count": 7,
   "id": "falling-buddy",
   "metadata": {},
   "outputs": [],
   "source": [
    "z.backward() ## backward propagation"
   ]
  },
  {
   "cell_type": "markdown",
   "id": "social-prophet",
   "metadata": {},
   "source": [
    "> To calculate the gradient we call the `x.grad` this will calculate the gradient of `dz/dx`\n",
    "\n",
    "> It computes partial derivates while applying the chain rule\n",
    "\n",
    "> Generally speaking, torch.autograd is an engine for computing vector-Jacobian product"
   ]
  },
  {
   "cell_type": "code",
   "execution_count": 11,
   "id": "oriented-toner",
   "metadata": {},
   "outputs": [
    {
     "data": {
      "text/plain": [
       "tensor([0.2500, 0.2500, 0.2500, 0.2500])"
      ]
     },
     "execution_count": 11,
     "metadata": {},
     "output_type": "execute_result"
    }
   ],
   "source": [
    "x.grad"
   ]
  },
  {
   "cell_type": "markdown",
   "id": "owned-strip",
   "metadata": {},
   "source": [
    "### Non-Scaler output\n",
    "* From the previous example we just called `x.grad` because our operation on `z` returns a scalar value, which was the mean.\n",
    "* In the event that we do some operations on the tensor that doesn't return a scaler value, our backward function should accept a `vector, matrix or tensor` with the same shape as the `output` itself.\n"
   ]
  },
  {
   "cell_type": "code",
   "execution_count": 23,
   "id": "major-research",
   "metadata": {},
   "outputs": [
    {
     "data": {
      "text/plain": [
       "(tensor([2.5166, 0.5973, 0.5338, 1.5008], grad_fn=<PowBackward0>),\n",
       " torch.Size([4]))"
      ]
     },
     "execution_count": 23,
     "metadata": {},
     "output_type": "execute_result"
    }
   ],
   "source": [
    "x = torch.randn(4, requires_grad=True)\n",
    "y = x**2\n",
    "y, y.shape"
   ]
  },
  {
   "cell_type": "markdown",
   "id": "surrounded-nylon",
   "metadata": {},
   "source": [
    "> as we can see our `y` shape is not a scalar value it is a vector, so to calculate the gradiend of `y` with respect to `x` we our `.backward()` should take a vector of random numbers with size `4`"
   ]
  },
  {
   "cell_type": "code",
   "execution_count": 25,
   "id": "muslim-growth",
   "metadata": {},
   "outputs": [],
   "source": [
    "v = torch.rand(4)\n",
    "y.backward(v)"
   ]
  },
  {
   "cell_type": "code",
   "execution_count": 26,
   "id": "close-tuner",
   "metadata": {},
   "outputs": [
    {
     "data": {
      "text/plain": [
       "tensor([-1.8745,  0.0334, -1.1328, -0.8105])"
      ]
     },
     "execution_count": 26,
     "metadata": {},
     "output_type": "execute_result"
    }
   ],
   "source": [
    "x.grad"
   ]
  },
  {
   "cell_type": "markdown",
   "id": "swiss-journalism",
   "metadata": {},
   "source": [
    "### Last Example\n",
    "> Let's have an example on the situation where we have a matrix as our ouput for our `operation`"
   ]
  },
  {
   "cell_type": "code",
   "execution_count": 27,
   "id": "classical-shape",
   "metadata": {},
   "outputs": [
    {
     "data": {
      "text/plain": [
       "tensor([[ 0.8216,  1.0936,  0.4323, -0.7128,  0.2093],\n",
       "        [ 1.6032, -1.8102, -2.8202, -0.9106,  2.0954]], requires_grad=True)"
      ]
     },
     "execution_count": 27,
     "metadata": {},
     "output_type": "execute_result"
    }
   ],
   "source": [
    "x = torch.randn((2, 5), requires_grad=True)\n",
    "x"
   ]
  },
  {
   "cell_type": "code",
   "execution_count": 30,
   "id": "hispanic-significance",
   "metadata": {},
   "outputs": [
    {
     "data": {
      "text/plain": [
       "(tensor([[ 8.8216,  9.0936,  8.4323,  7.2872,  8.2093],\n",
       "         [ 9.6032,  6.1898,  5.1798,  7.0894, 10.0954]], grad_fn=<AddBackward0>),\n",
       " torch.Size([2, 5]))"
      ]
     },
     "execution_count": 30,
     "metadata": {},
     "output_type": "execute_result"
    }
   ],
   "source": [
    "y = x + 8\n",
    "y, y.shape"
   ]
  },
  {
   "cell_type": "markdown",
   "id": "unknown-yukon",
   "metadata": {},
   "source": [
    "> Creating a matrix of size `[2, 5]` to call `y.backward`"
   ]
  },
  {
   "cell_type": "code",
   "execution_count": 32,
   "id": "essential-louis",
   "metadata": {},
   "outputs": [],
   "source": [
    "m = torch.rand([2,5])\n",
    "y.backward(m)"
   ]
  },
  {
   "cell_type": "code",
   "execution_count": 33,
   "id": "spare-thriller",
   "metadata": {},
   "outputs": [
    {
     "data": {
      "text/plain": [
       "tensor([[0.5457, 0.2883, 0.3765, 0.0206, 0.0860],\n",
       "        [0.1082, 0.7485, 0.8342, 0.2105, 0.4323]])"
      ]
     },
     "execution_count": 33,
     "metadata": {},
     "output_type": "execute_result"
    }
   ],
   "source": [
    "x.grad"
   ]
  },
  {
   "cell_type": "markdown",
   "id": "disturbed-enzyme",
   "metadata": {},
   "source": [
    "### Stopping tensors from tracking History\n",
    ">  For example during our training loop when we want to update our ``weights`` then this update operation should not be part of the ``gradient`` computation\n",
    "\n",
    "There are three ways we can stop the `pytorch` from tacking the history of our tensor which are:\n",
    "\n",
    "1. ``x.requires_grad_(False)`` - set the required_grad to false inplace\n",
    "\n",
    "2. `x.detach()`\n",
    "3. ``with torch.no_grad()`` - wrap our operation in a with statement"
   ]
  },
  {
   "cell_type": "code",
   "execution_count": 34,
   "id": "complimentary-lease",
   "metadata": {},
   "outputs": [
    {
     "data": {
      "text/plain": [
       "(tensor([ 0.8408, -0.6605], requires_grad=True),\n",
       " tensor([ 0.1434, -1.3224], requires_grad=True),\n",
       " tensor([0.2439, 0.7129], requires_grad=True))"
      ]
     },
     "execution_count": 34,
     "metadata": {},
     "output_type": "execute_result"
    }
   ],
   "source": [
    "a = torch.randn(2, requires_grad=True)\n",
    "b = torch.randn(2, requires_grad=True)\n",
    "c = torch.randn(2, requires_grad=True)\n",
    "a, b, c"
   ]
  },
  {
   "cell_type": "markdown",
   "id": "widespread-partnership",
   "metadata": {},
   "source": [
    "### ``x.requires_grad_(False)``"
   ]
  },
  {
   "cell_type": "code",
   "execution_count": 35,
   "id": "driving-establishment",
   "metadata": {},
   "outputs": [
    {
     "data": {
      "text/plain": [
       "tensor([ 0.8408, -0.6605])"
      ]
     },
     "execution_count": 35,
     "metadata": {},
     "output_type": "execute_result"
    }
   ],
   "source": [
    "a.requires_grad_(False)\n",
    "a"
   ]
  },
  {
   "cell_type": "markdown",
   "id": "disturbed-inquiry",
   "metadata": {},
   "source": [
    "### `x.detach()`"
   ]
  },
  {
   "cell_type": "code",
   "execution_count": 36,
   "id": "asian-admission",
   "metadata": {},
   "outputs": [
    {
     "data": {
      "text/plain": [
       "tensor([ 0.1434, -1.3224])"
      ]
     },
     "execution_count": 36,
     "metadata": {},
     "output_type": "execute_result"
    }
   ],
   "source": [
    "b.detach()"
   ]
  },
  {
   "cell_type": "markdown",
   "id": "thick-peoples",
   "metadata": {},
   "source": [
    "### ``with torch.no_grad()``"
   ]
  },
  {
   "cell_type": "code",
   "execution_count": 37,
   "id": "characteristic-report",
   "metadata": {},
   "outputs": [
    {
     "data": {
      "text/plain": [
       "tensor([0.2439, 0.7129])"
      ]
     },
     "execution_count": 37,
     "metadata": {},
     "output_type": "execute_result"
    }
   ],
   "source": [
    "with torch.no_grad():\n",
    "    c = c+0\n",
    "c"
   ]
  },
  {
   "cell_type": "code",
   "execution_count": null,
   "id": "western-dictionary",
   "metadata": {},
   "outputs": [],
   "source": []
  }
 ],
 "metadata": {
  "kernelspec": {
   "display_name": "Python 3",
   "language": "python",
   "name": "python3"
  },
  "language_info": {
   "codemirror_mode": {
    "name": "ipython",
    "version": 3
   },
   "file_extension": ".py",
   "mimetype": "text/x-python",
   "name": "python",
   "nbconvert_exporter": "python",
   "pygments_lexer": "ipython3",
   "version": "3.8.5"
  }
 },
 "nbformat": 4,
 "nbformat_minor": 5
}
