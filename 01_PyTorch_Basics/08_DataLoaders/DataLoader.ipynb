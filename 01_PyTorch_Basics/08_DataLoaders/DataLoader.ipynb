{
 "cells": [
  {
   "cell_type": "markdown",
   "id": "broken-effort",
   "metadata": {},
   "source": [
    "### Data Loaders Pytorch Class"
   ]
  },
  {
   "cell_type": "code",
   "execution_count": 2,
   "id": "liberal-daughter",
   "metadata": {},
   "outputs": [],
   "source": [
    "import torch\n",
    "import torchvision\n",
    "from torch.utils.data import DataLoader, Dataset\n",
    "import numpy as np\n",
    "import pandas as pd"
   ]
  },
  {
   "cell_type": "markdown",
   "id": "exotic-spectacular",
   "metadata": {},
   "source": [
    "> **Point** - gradient computation is not efficient for the whole dataset. So the data must be splited in `so` called `batches`"
   ]
  },
  {
   "cell_type": "markdown",
   "id": "according-bearing",
   "metadata": {},
   "source": [
    "> **Training Loop** -with the data splitted into batches\n",
    "\n",
    "```\n",
    "for epoch in range(epochs):\n",
    "    ## loop over all batches\n",
    "    for batch in range(total_batches):\n",
    "        batch_x, batch_y = ...\n",
    "```\n",
    "\n",
    "#### Terms\n",
    "1. **epoch** - one forward pass to **ALL** trainning sample.\n",
    "2. **Batch_size** - number of trainning sample used in one backward/forward pass\n",
    "3. **number_of_iterations** = number of passes each epoch pass (forward + backward) ``100 samples, batch_size =20: iterations = 100/20 =5 for each epoch``"
   ]
  },
  {
   "cell_type": "markdown",
   "id": "brief-orange",
   "metadata": {},
   "source": [
    "### The DataLoader\n",
    "> The dataloader can do the `batch_size` and other computation for us.\n",
    "\n",
    "#### Creation a custom Dataset.\n",
    "There are 2 steps to do this:\n",
    "    * inherit the Dataset Class\n",
    "    * implement the following\n",
    "        * `__init__`\n",
    "        * `__getitem__`\n",
    "        * `__len__`"
   ]
  },
  {
   "cell_type": "code",
   "execution_count": 3,
   "id": "fresh-valve",
   "metadata": {},
   "outputs": [],
   "source": [
    "class Wine(Dataset):\n",
    "    def __init__(self):\n",
    "#         Xy = np.loadtxt('wine.csv', delimiter=',', dtype='float32', skiprows=1)\n",
    "#         print(Xy[0])\n",
    "        xy = pd.read_csv('wine.csv').values\n",
    "        self.n_samples = xy.shape[0]\n",
    "        \n",
    "        self.X = torch.from_numpy(xy[:, 1:].astype('float32')) # all the columns except the first one\n",
    "        self.y = torch.from_numpy(xy[:, 0:1].astype('float32')) # the first column\n",
    "#         print(self.y[:3])\n",
    "        \n",
    "    # To allow indexing such as dataset[i]\n",
    "    def __getitem__(self, index):\n",
    "        return self.X[index], self.y[index]\n",
    "\n",
    "    # when we call len(dataset)\n",
    "    def __len__(self):\n",
    "        return self.n_samples"
   ]
  },
  {
   "cell_type": "code",
   "execution_count": 4,
   "id": "developmental-strain",
   "metadata": {},
   "outputs": [
    {
     "data": {
      "text/plain": [
       "<__main__.Wine at 0x19f047fcd00>"
      ]
     },
     "execution_count": 4,
     "metadata": {},
     "output_type": "execute_result"
    }
   ],
   "source": [
    "wine = Wine()\n",
    "wine"
   ]
  },
  {
   "cell_type": "code",
   "execution_count": 5,
   "id": "collaborative-python",
   "metadata": {},
   "outputs": [
    {
     "data": {
      "text/plain": [
       "(178,\n",
       " (tensor([[1.4230e+01, 1.7100e+00, 2.4300e+00, 1.5600e+01, 1.2700e+02, 2.8000e+00,\n",
       "           3.0600e+00, 2.8000e-01, 2.2900e+00, 5.6400e+00, 1.0400e+00, 3.9200e+00,\n",
       "           1.0650e+03],\n",
       "          [1.3200e+01, 1.7800e+00, 2.1400e+00, 1.1200e+01, 1.0000e+02, 2.6500e+00,\n",
       "           2.7600e+00, 2.6000e-01, 1.2800e+00, 4.3800e+00, 1.0500e+00, 3.4000e+00,\n",
       "           1.0500e+03]]),\n",
       "  tensor([[1.],\n",
       "          [1.]])))"
      ]
     },
     "execution_count": 5,
     "metadata": {},
     "output_type": "execute_result"
    }
   ],
   "source": [
    "len(wine), wine[:2]"
   ]
  },
  {
   "cell_type": "markdown",
   "id": "extended-duncan",
   "metadata": {},
   "source": [
    "### Load Wine dataset using the DataLoader class"
   ]
  },
  {
   "cell_type": "code",
   "execution_count": 6,
   "id": "periodic-attack",
   "metadata": {},
   "outputs": [],
   "source": [
    "train = DataLoader(dataset=wine,\n",
    "                  batch_size=4,\n",
    "                  shuffle=True,\n",
    "                  )"
   ]
  },
  {
   "cell_type": "markdown",
   "id": "outdoor-chinese",
   "metadata": {},
   "source": [
    "### Loading data from `torchvision.datasets`"
   ]
  },
  {
   "cell_type": "code",
   "execution_count": 39,
   "id": "expanded-gardening",
   "metadata": {},
   "outputs": [],
   "source": [
    "train_dataset = torchvision.datasets.MNIST(\n",
    "                    '',\n",
    "                    train = True,\n",
    "                    transform=torchvision.transforms.ToTensor(),  \n",
    "                    download=True\n",
    "                    )"
   ]
  },
  {
   "cell_type": "code",
   "execution_count": 38,
   "id": "celtic-berkeley",
   "metadata": {},
   "outputs": [],
   "source": [
    "test_dataset = torchvision.datasets.MNIST(\n",
    "                    '',\n",
    "                    train = False,\n",
    "                    transform=torchvision.transforms.ToTensor(),  \n",
    "                    download=True\n",
    "                    )"
   ]
  },
  {
   "cell_type": "markdown",
   "id": "social-dance",
   "metadata": {},
   "source": [
    "### Creating Loaders"
   ]
  },
  {
   "cell_type": "code",
   "execution_count": 41,
   "id": "quantitative-internet",
   "metadata": {},
   "outputs": [],
   "source": [
    "train_loader = DataLoader(dataset=train_dataset,\n",
    "                          batch_size = 10,\n",
    "                          shuffle = True\n",
    "                         )"
   ]
  },
  {
   "cell_type": "code",
   "execution_count": 42,
   "id": "valid-separate",
   "metadata": {},
   "outputs": [],
   "source": [
    "test_loader = DataLoader(dataset=test_dataset,\n",
    "                          batch_size = 10,\n",
    "                          shuffle = True\n",
    "                         )"
   ]
  },
  {
   "cell_type": "markdown",
   "id": "combined-launch",
   "metadata": {},
   "source": [
    "### Iterating over datasets"
   ]
  },
  {
   "cell_type": "code",
   "execution_count": 43,
   "id": "grave-advice",
   "metadata": {},
   "outputs": [
    {
     "name": "stdout",
     "output_type": "stream",
     "text": [
      "tensor([[[[0., 0., 0.,  ..., 0., 0., 0.],\n",
      "          [0., 0., 0.,  ..., 0., 0., 0.],\n",
      "          [0., 0., 0.,  ..., 0., 0., 0.],\n",
      "          ...,\n",
      "          [0., 0., 0.,  ..., 0., 0., 0.],\n",
      "          [0., 0., 0.,  ..., 0., 0., 0.],\n",
      "          [0., 0., 0.,  ..., 0., 0., 0.]]],\n",
      "\n",
      "\n",
      "        [[[0., 0., 0.,  ..., 0., 0., 0.],\n",
      "          [0., 0., 0.,  ..., 0., 0., 0.],\n",
      "          [0., 0., 0.,  ..., 0., 0., 0.],\n",
      "          ...,\n",
      "          [0., 0., 0.,  ..., 0., 0., 0.],\n",
      "          [0., 0., 0.,  ..., 0., 0., 0.],\n",
      "          [0., 0., 0.,  ..., 0., 0., 0.]]],\n",
      "\n",
      "\n",
      "        [[[0., 0., 0.,  ..., 0., 0., 0.],\n",
      "          [0., 0., 0.,  ..., 0., 0., 0.],\n",
      "          [0., 0., 0.,  ..., 0., 0., 0.],\n",
      "          ...,\n",
      "          [0., 0., 0.,  ..., 0., 0., 0.],\n",
      "          [0., 0., 0.,  ..., 0., 0., 0.],\n",
      "          [0., 0., 0.,  ..., 0., 0., 0.]]],\n",
      "\n",
      "\n",
      "        ...,\n",
      "\n",
      "\n",
      "        [[[0., 0., 0.,  ..., 0., 0., 0.],\n",
      "          [0., 0., 0.,  ..., 0., 0., 0.],\n",
      "          [0., 0., 0.,  ..., 0., 0., 0.],\n",
      "          ...,\n",
      "          [0., 0., 0.,  ..., 0., 0., 0.],\n",
      "          [0., 0., 0.,  ..., 0., 0., 0.],\n",
      "          [0., 0., 0.,  ..., 0., 0., 0.]]],\n",
      "\n",
      "\n",
      "        [[[0., 0., 0.,  ..., 0., 0., 0.],\n",
      "          [0., 0., 0.,  ..., 0., 0., 0.],\n",
      "          [0., 0., 0.,  ..., 0., 0., 0.],\n",
      "          ...,\n",
      "          [0., 0., 0.,  ..., 0., 0., 0.],\n",
      "          [0., 0., 0.,  ..., 0., 0., 0.],\n",
      "          [0., 0., 0.,  ..., 0., 0., 0.]]],\n",
      "\n",
      "\n",
      "        [[[0., 0., 0.,  ..., 0., 0., 0.],\n",
      "          [0., 0., 0.,  ..., 0., 0., 0.],\n",
      "          [0., 0., 0.,  ..., 0., 0., 0.],\n",
      "          ...,\n",
      "          [0., 0., 0.,  ..., 0., 0., 0.],\n",
      "          [0., 0., 0.,  ..., 0., 0., 0.],\n",
      "          [0., 0., 0.,  ..., 0., 0., 0.]]]]) tensor([5, 1, 8, 4, 6, 2, 4, 3, 2, 4])\n"
     ]
    }
   ],
   "source": [
    "for data in test_loader:\n",
    "    X, y = data\n",
    "    print(X, y)\n",
    "    break\n",
    "    "
   ]
  },
  {
   "cell_type": "markdown",
   "id": "institutional-installation",
   "metadata": {},
   "source": [
    "> Do tehe training magic with the data."
   ]
  },
  {
   "cell_type": "code",
   "execution_count": null,
   "id": "competent-picnic",
   "metadata": {},
   "outputs": [],
   "source": []
  }
 ],
 "metadata": {
  "kernelspec": {
   "display_name": "Python 3",
   "language": "python",
   "name": "python3"
  },
  "language_info": {
   "codemirror_mode": {
    "name": "ipython",
    "version": 3
   },
   "file_extension": ".py",
   "mimetype": "text/x-python",
   "name": "python",
   "nbconvert_exporter": "python",
   "pygments_lexer": "ipython3",
   "version": "3.8.5"
  }
 },
 "nbformat": 4,
 "nbformat_minor": 5
}
