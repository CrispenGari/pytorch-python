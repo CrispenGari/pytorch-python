{
 "cells": [
  {
   "cell_type": "markdown",
   "id": "right-foster",
   "metadata": {},
   "source": [
    "### Gradient Descent In numpy"
   ]
  },
  {
   "cell_type": "code",
   "execution_count": 1,
   "id": "italic-solid",
   "metadata": {},
   "outputs": [],
   "source": [
    "import numpy as np"
   ]
  },
  {
   "cell_type": "code",
   "execution_count": 2,
   "id": "black-involvement",
   "metadata": {},
   "outputs": [
    {
     "data": {
      "text/plain": [
       "(array([0., 1., 2., 3., 4., 5.], dtype=float32),\n",
       " array([ 0.,  2.,  4.,  6.,  8., 10.], dtype=float32))"
      ]
     },
     "execution_count": 2,
     "metadata": {},
     "output_type": "execute_result"
    }
   ],
   "source": [
    "X = np.array([0, 1, 2, 3, 4, 5], dtype='float32')\n",
    "y = np.array([0, 2., 4, 6, 8, 10], dtype='float32')\n",
    "X, y"
   ]
  },
  {
   "cell_type": "markdown",
   "id": "superior-ethiopia",
   "metadata": {},
   "source": [
    "> let our input be `X` and our ouput be `y` we can see that there's a linear relationship between `X` and `y`. Therefore we can approach this a s Linear Regression task.\n"
   ]
  },
  {
   "cell_type": "code",
   "execution_count": 3,
   "id": "foreign-uncertainty",
   "metadata": {},
   "outputs": [],
   "source": [
    "w = 0.0"
   ]
  },
  {
   "cell_type": "markdown",
   "id": "wireless-welding",
   "metadata": {},
   "source": [
    "### Model Creation"
   ]
  },
  {
   "cell_type": "code",
   "execution_count": 4,
   "id": "working-simon",
   "metadata": {},
   "outputs": [],
   "source": [
    "def forward(x):\n",
    "    return w*x"
   ]
  },
  {
   "cell_type": "markdown",
   "id": "combined-spray",
   "metadata": {},
   "source": [
    "### Loss - Mean Squared Error Loss (MSE)\n",
    "\n",
    "```\n",
    "P = MSE = 1/N * (w*x - y)**2\n",
    "```"
   ]
  },
  {
   "cell_type": "code",
   "execution_count": 5,
   "id": "vocational-sunglasses",
   "metadata": {},
   "outputs": [],
   "source": [
    "def loss(y, y_pred):\n",
    "    return ((y_pred - y)**2).mean()"
   ]
  },
  {
   "cell_type": "markdown",
   "id": "supported-valley",
   "metadata": {},
   "source": [
    "### Gradient\n",
    "\n",
    "```\n",
    "    dP/dw = 1/N * 2x(w*x - y)\n",
    "```"
   ]
  },
  {
   "cell_type": "code",
   "execution_count": 6,
   "id": "pharmaceutical-broadcasting",
   "metadata": {},
   "outputs": [],
   "source": [
    "def gradient(x, y, y_pred):\n",
    "    return np.dot(2*x, y_pred - y).mean()"
   ]
  },
  {
   "cell_type": "code",
   "execution_count": 7,
   "id": "czech-extraction",
   "metadata": {},
   "outputs": [
    {
     "name": "stdout",
     "output_type": "stream",
     "text": [
      "Prediction before training: f(2) = 0.000\n"
     ]
    }
   ],
   "source": [
    "print(f'Prediction before training: f(2) = {forward(2):.3f}')"
   ]
  },
  {
   "cell_type": "markdown",
   "id": "proprietary-colombia",
   "metadata": {},
   "source": [
    "### Training"
   ]
  },
  {
   "cell_type": "code",
   "execution_count": 8,
   "id": "individual-yacht",
   "metadata": {},
   "outputs": [
    {
     "name": "stdout",
     "output_type": "stream",
     "text": [
      "Epoch: 1/20, weights: 2.200, loss: 36.667\n",
      "Epoch: 2/20, weights: 1.980, loss: 0.367\n",
      "Epoch: 3/20, weights: 2.002, loss: 0.004\n",
      "Epoch: 4/20, weights: 2.000, loss: 0.000\n",
      "Epoch: 5/20, weights: 2.000, loss: 0.000\n",
      "Epoch: 6/20, weights: 2.000, loss: 0.000\n",
      "Epoch: 7/20, weights: 2.000, loss: 0.000\n",
      "Epoch: 8/20, weights: 2.000, loss: 0.000\n",
      "Epoch: 9/20, weights: 2.000, loss: 0.000\n",
      "Epoch: 10/20, weights: 2.000, loss: 0.000\n",
      "Epoch: 11/20, weights: 2.000, loss: 0.000\n",
      "Epoch: 12/20, weights: 2.000, loss: 0.000\n",
      "Epoch: 13/20, weights: 2.000, loss: 0.000\n",
      "Epoch: 14/20, weights: 2.000, loss: 0.000\n",
      "Epoch: 15/20, weights: 2.000, loss: 0.000\n",
      "Epoch: 16/20, weights: 2.000, loss: 0.000\n",
      "Epoch: 17/20, weights: 2.000, loss: 0.000\n",
      "Epoch: 18/20, weights: 2.000, loss: 0.000\n",
      "Epoch: 19/20, weights: 2.000, loss: 0.000\n",
      "Epoch: 20/20, weights: 2.000, loss: 0.000\n"
     ]
    }
   ],
   "source": [
    "learning_rate = 0.01\n",
    "EPOCHS = 20\n",
    "\n",
    "for epoch in range(EPOCHS):\n",
    "    # forward pass\n",
    "    y_pred = forward(X)\n",
    "    # loss\n",
    "    l = loss(y_pred, y)\n",
    "    \n",
    "    ## calculate the gradinet\n",
    "    dw = gradient(X, y, y_pred)\n",
    "    \n",
    "    ## update weights\n",
    "    w -= learning_rate * dw\n",
    "    \n",
    "    print(f'Epoch: {epoch+1}/{EPOCHS}, weights: {w:.3f}, loss: {l:.3f}')\n",
    "    "
   ]
  },
  {
   "cell_type": "markdown",
   "id": "accredited-cattle",
   "metadata": {},
   "source": [
    "### Making Predictions"
   ]
  },
  {
   "cell_type": "code",
   "execution_count": 12,
   "id": "warming-messenger",
   "metadata": {},
   "outputs": [
    {
     "data": {
      "text/plain": [
       "20.00000009536743"
      ]
     },
     "execution_count": 12,
     "metadata": {},
     "output_type": "execute_result"
    }
   ],
   "source": [
    "forward(10)"
   ]
  },
  {
   "cell_type": "markdown",
   "id": "protected-trail",
   "metadata": {},
   "source": [
    "> Our model is predicting `y` fine after training."
   ]
  },
  {
   "cell_type": "code",
   "execution_count": null,
   "id": "certified-omaha",
   "metadata": {},
   "outputs": [],
   "source": []
  },
  {
   "cell_type": "code",
   "execution_count": null,
   "id": "professional-smile",
   "metadata": {},
   "outputs": [],
   "source": []
  },
  {
   "cell_type": "code",
   "execution_count": null,
   "id": "perceived-denial",
   "metadata": {},
   "outputs": [],
   "source": []
  }
 ],
 "metadata": {
  "kernelspec": {
   "display_name": "Python 3",
   "language": "python",
   "name": "python3"
  },
  "language_info": {
   "codemirror_mode": {
    "name": "ipython",
    "version": 3
   },
   "file_extension": ".py",
   "mimetype": "text/x-python",
   "name": "python",
   "nbconvert_exporter": "python",
   "pygments_lexer": "ipython3",
   "version": "3.8.5"
  }
 },
 "nbformat": 4,
 "nbformat_minor": 5
}
