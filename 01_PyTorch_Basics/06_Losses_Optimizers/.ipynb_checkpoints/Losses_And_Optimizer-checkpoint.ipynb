{
 "cells": [
  {
   "cell_type": "code",
   "execution_count": null,
   "id": "victorian-butler",
   "metadata": {},
   "outputs": [],
   "source": []
  },
  {
   "cell_type": "code",
   "execution_count": 1,
   "id": "legitimate-extreme",
   "metadata": {},
   "outputs": [],
   "source": [
    "import torch\n",
    "from torch import nn"
   ]
  },
  {
   "cell_type": "markdown",
   "id": "confused-devon",
   "metadata": {},
   "source": [
    "### Data"
   ]
  },
  {
   "cell_type": "code",
   "execution_count": 2,
   "id": "wooden-format",
   "metadata": {},
   "outputs": [
    {
     "data": {
      "text/plain": [
       "(tensor([0., 1., 2., 3., 4., 5.]), tensor([ 0.,  2.,  4.,  6.,  8., 10.]))"
      ]
     },
     "execution_count": 2,
     "metadata": {},
     "output_type": "execute_result"
    }
   ],
   "source": [
    "X = torch.tensor([0, 1, 2, 3, 4, 5.], dtype=torch.float32)\n",
    "y = torch.tensor([0, 2, 4, 6, 8, 10.], dtype=torch.float32)\n",
    "X, y"
   ]
  },
  {
   "cell_type": "markdown",
   "id": "signed-shakespeare",
   "metadata": {},
   "source": [
    "### Weights"
   ]
  },
  {
   "cell_type": "code",
   "execution_count": 4,
   "id": "corrected-state",
   "metadata": {},
   "outputs": [
    {
     "data": {
      "text/plain": [
       "tensor(0., requires_grad=True)"
      ]
     },
     "execution_count": 4,
     "metadata": {},
     "output_type": "execute_result"
    }
   ],
   "source": [
    "w = torch.tensor(0, dtype=torch.float32, requires_grad=True)\n",
    "w"
   ]
  },
  {
   "cell_type": "markdown",
   "id": "swedish-rubber",
   "metadata": {},
   "source": [
    "### Model"
   ]
  },
  {
   "cell_type": "code",
   "execution_count": 5,
   "id": "subjective-utility",
   "metadata": {},
   "outputs": [],
   "source": [
    "def forward(X):\n",
    "    return X * w"
   ]
  },
  {
   "cell_type": "markdown",
   "id": "english-pitch",
   "metadata": {},
   "source": [
    "### Making predictions before Training"
   ]
  },
  {
   "cell_type": "code",
   "execution_count": 8,
   "id": "textile-reserve",
   "metadata": {},
   "outputs": [
    {
     "data": {
      "text/plain": [
       "tensor(0., grad_fn=<MulBackward0>)"
      ]
     },
     "execution_count": 8,
     "metadata": {},
     "output_type": "execute_result"
    }
   ],
   "source": [
    "forward(100)"
   ]
  },
  {
   "cell_type": "code",
   "execution_count": 6,
   "id": "prerequisite-corruption",
   "metadata": {},
   "outputs": [],
   "source": [
    "### Loss\n",
    "loss = nn.MSELoss()"
   ]
  },
  {
   "cell_type": "code",
   "execution_count": 7,
   "id": "unlike-scroll",
   "metadata": {},
   "outputs": [],
   "source": [
    "optimizer = torch.optim.SGD([w], lr=0.001)"
   ]
  },
  {
   "cell_type": "markdown",
   "id": "flexible-cinema",
   "metadata": {},
   "source": [
    "### Training"
   ]
  },
  {
   "cell_type": "code",
   "execution_count": 15,
   "id": "compatible-support",
   "metadata": {},
   "outputs": [
    {
     "name": "stdout",
     "output_type": "stream",
     "text": [
      "Epochs: 10/200, weights: 1.739, loss: 0.649\n",
      "Epochs: 20/200, weights: 1.783, loss: 0.448\n",
      "Epochs: 30/200, weights: 1.820, loss: 0.310\n",
      "Epochs: 40/200, weights: 1.850, loss: 0.214\n",
      "Epochs: 50/200, weights: 1.875, loss: 0.148\n",
      "Epochs: 60/200, weights: 1.896, loss: 0.102\n",
      "Epochs: 70/200, weights: 1.914, loss: 0.070\n",
      "Epochs: 80/200, weights: 1.928, loss: 0.049\n",
      "Epochs: 90/200, weights: 1.941, loss: 0.034\n",
      "Epochs: 100/200, weights: 1.951, loss: 0.023\n",
      "Epochs: 110/200, weights: 1.959, loss: 0.016\n",
      "Epochs: 120/200, weights: 1.966, loss: 0.011\n",
      "Epochs: 130/200, weights: 1.972, loss: 0.008\n",
      "Epochs: 140/200, weights: 1.976, loss: 0.005\n",
      "Epochs: 150/200, weights: 1.980, loss: 0.004\n",
      "Epochs: 160/200, weights: 1.984, loss: 0.003\n",
      "Epochs: 170/200, weights: 1.986, loss: 0.002\n",
      "Epochs: 180/200, weights: 1.989, loss: 0.001\n",
      "Epochs: 190/200, weights: 1.991, loss: 0.001\n",
      "Epochs: 200/200, weights: 1.992, loss: 0.001\n"
     ]
    }
   ],
   "source": [
    "EPOCHS = 200\n",
    "for epoch in range(EPOCHS):\n",
    "    # forward pass\n",
    "    y_pred = forward(X)\n",
    "    \n",
    "    # calculate the loss\n",
    "    l = loss(y_pred, y)\n",
    "    \n",
    "    ## Calculate the gradient - backward pass\n",
    "    \n",
    "    l.backward()\n",
    "    \n",
    "    ## update weights\n",
    "    optimizer.step()\n",
    "    \n",
    "    ## zero the grads\n",
    "    optimizer.zero_grad()\n",
    "    \n",
    "    if (epoch + 1) % 10 == 0:\n",
    "        print(f'Epochs: {epoch+1}/{EPOCHS}, weights: {w:.3f}, loss: {l:.3f}')\n",
    "    \n",
    "    \n",
    "    \n",
    "    \n",
    "    "
   ]
  },
  {
   "cell_type": "markdown",
   "id": "maritime-forum",
   "metadata": {},
   "source": [
    "### Making prediction after the model has trained"
   ]
  },
  {
   "cell_type": "code",
   "execution_count": 16,
   "id": "frank-supplement",
   "metadata": {},
   "outputs": [
    {
     "data": {
      "text/plain": [
       "tensor(9.9612, grad_fn=<MulBackward0>)"
      ]
     },
     "execution_count": 16,
     "metadata": {},
     "output_type": "execute_result"
    }
   ],
   "source": [
    "forward(5.)"
   ]
  },
  {
   "cell_type": "markdown",
   "id": "excited-straight",
   "metadata": {},
   "source": [
    "### Evaluating the Model"
   ]
  },
  {
   "cell_type": "code",
   "execution_count": 18,
   "id": "tropical-review",
   "metadata": {},
   "outputs": [
    {
     "name": "stdout",
     "output_type": "stream",
     "text": [
      "Accuracy: 1.00\n"
     ]
    }
   ],
   "source": [
    "X_test = torch.tensor([11, 12, 13, 14], dtype=torch.float32)\n",
    "y_test = torch.tensor([22, 24, 26, 28], dtype=torch.float32)\n",
    "total, correct = 0, 0\n",
    "with torch.no_grad():\n",
    "    for x, y in zip(X_test, y_test):\n",
    "        pred = torch.round(forward(x))\n",
    "        \n",
    "        if pred == y:\n",
    "            correct +=1\n",
    "        total += 1\n",
    "    print(f\"Accuracy: {correct/total:.2f}\")"
   ]
  },
  {
   "cell_type": "markdown",
   "id": "substantial-membrane",
   "metadata": {},
   "source": [
    "> Our model is still `100%` accurate when the number of `epochs` is increased to `200`"
   ]
  },
  {
   "cell_type": "code",
   "execution_count": null,
   "id": "magnetic-product",
   "metadata": {},
   "outputs": [],
   "source": []
  }
 ],
 "metadata": {
  "kernelspec": {
   "display_name": "Python 3",
   "language": "python",
   "name": "python3"
  },
  "language_info": {
   "codemirror_mode": {
    "name": "ipython",
    "version": 3
   },
   "file_extension": ".py",
   "mimetype": "text/x-python",
   "name": "python",
   "nbconvert_exporter": "python",
   "pygments_lexer": "ipython3",
   "version": "3.8.5"
  }
 },
 "nbformat": 4,
 "nbformat_minor": 5
}
