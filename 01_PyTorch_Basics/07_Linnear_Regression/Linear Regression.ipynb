{
 "cells": [
  {
   "cell_type": "markdown",
   "id": "genetic-creator",
   "metadata": {},
   "source": [
    "### Linear Regression Problem "
   ]
  },
  {
   "cell_type": "code",
   "execution_count": null,
   "id": "imposed-writer",
   "metadata": {},
   "outputs": [],
   "source": []
  },
  {
   "cell_type": "code",
   "execution_count": 1,
   "id": "ultimate-holly",
   "metadata": {},
   "outputs": [],
   "source": [
    "import torch\n",
    "from torch import nn\n",
    "import numpy as np\n",
    "from sklearn import datasets\n",
    "from sklearn.model_selection import train_test_split"
   ]
  },
  {
   "cell_type": "markdown",
   "id": "thorough-multiple",
   "metadata": {},
   "source": [
    "### Creating data"
   ]
  },
  {
   "cell_type": "code",
   "execution_count": 2,
   "id": "social-tongue",
   "metadata": {},
   "outputs": [
    {
     "data": {
      "text/plain": [
       "((200, 1), (200,))"
      ]
     },
     "execution_count": 2,
     "metadata": {},
     "output_type": "execute_result"
    }
   ],
   "source": [
    "X, y = datasets.make_regression(n_samples=200, noise=25, n_features=1,random_state=33)\n",
    "X.shape, y.shape"
   ]
  },
  {
   "cell_type": "code",
   "execution_count": 3,
   "id": "criminal-glory",
   "metadata": {},
   "outputs": [],
   "source": [
    "from matplotlib import pyplot as plt"
   ]
  },
  {
   "cell_type": "code",
   "execution_count": 4,
   "id": "martial-minority",
   "metadata": {},
   "outputs": [
    {
     "data": {
      "text/plain": [
       "<matplotlib.collections.PathCollection at 0x2117d35e700>"
      ]
     },
     "execution_count": 4,
     "metadata": {},
     "output_type": "execute_result"
    },
    {
     "data": {
      "image/png": "[encoded data removed]",
      "text/plain": [
       "<Figure size 432x288 with 1 Axes>"
      ]
     },
     "metadata": {
      "needs_background": "light"
     },
     "output_type": "display_data"
    }
   ],
   "source": [
    "plt.scatter(X, y)"
   ]
  },
  {
   "cell_type": "markdown",
   "id": "after-ensemble",
   "metadata": {},
   "source": [
    "### Data Splitting"
   ]
  },
  {
   "cell_type": "code",
   "execution_count": 5,
   "id": "relevant-quantum",
   "metadata": {},
   "outputs": [
    {
     "data": {
      "text/plain": [
       "(array([[ 0.34346274],\n",
       "        [-1.60298056]]),\n",
       " array([-21.15663153, -74.24766618]))"
      ]
     },
     "execution_count": 5,
     "metadata": {},
     "output_type": "execute_result"
    }
   ],
   "source": [
    "X_train, X_test, y_train, y_test = train_test_split(X, y, random_state=42, test_size=.3)\n",
    "\n",
    "X[:2], y[:2]"
   ]
  },
  {
   "cell_type": "markdown",
   "id": "fuzzy-equipment",
   "metadata": {},
   "source": [
    "### Creating tensors from our data"
   ]
  },
  {
   "cell_type": "code",
   "execution_count": 6,
   "id": "supported-marsh",
   "metadata": {},
   "outputs": [
    {
     "data": {
      "text/plain": [
       "tensor([[-2.8094],\n",
       "        [ 0.5278]])"
      ]
     },
     "execution_count": 6,
     "metadata": {},
     "output_type": "execute_result"
    }
   ],
   "source": [
    "X_train = torch.from_numpy(X_train.astype(\"float32\"))\n",
    "X_test = torch.from_numpy(X_test.astype(\"float32\"))\n",
    "y_train = torch.from_numpy(y_train.astype(\"float32\"))\n",
    "y_test = torch.from_numpy(y_test.astype(\"float32\"))\n",
    "X_test[:2]"
   ]
  },
  {
   "cell_type": "markdown",
   "id": "reasonable-bicycle",
   "metadata": {},
   "source": [
    "### Creating A Model"
   ]
  },
  {
   "cell_type": "code",
   "execution_count": 7,
   "id": "recent-queen",
   "metadata": {},
   "outputs": [
    {
     "data": {
      "text/plain": [
       "1"
      ]
     },
     "execution_count": 7,
     "metadata": {},
     "output_type": "execute_result"
    }
   ],
   "source": [
    "input_size = X_test.shape[1]\n",
    "input_size"
   ]
  },
  {
   "cell_type": "code",
   "execution_count": 8,
   "id": "improving-traveler",
   "metadata": {},
   "outputs": [
    {
     "data": {
      "text/plain": [
       "LinearRegression(\n",
       "  (lin): Linear(in_features=1, out_features=1, bias=True)\n",
       ")"
      ]
     },
     "execution_count": 8,
     "metadata": {},
     "output_type": "execute_result"
    }
   ],
   "source": [
    "class LinearRegression(nn.Module):\n",
    "    def __init__(self):\n",
    "        super().__init__()\n",
    "        self.lin = nn.Linear(in_features=input_size, out_features=1)\n",
    "        \n",
    "    def forward(self, X):\n",
    "        return self.lin(X)\n",
    "\n",
    "model = LinearRegression()\n",
    "model"
   ]
  },
  {
   "cell_type": "markdown",
   "id": "fallen-maine",
   "metadata": {},
   "source": [
    "### Optimizer and Loss"
   ]
  },
  {
   "cell_type": "code",
   "execution_count": 9,
   "id": "adult-psychiatry",
   "metadata": {},
   "outputs": [],
   "source": [
    "loss_function = nn.MSELoss()\n",
    "optimizer = torch.optim.Adam(model.parameters(), lr=0.01)"
   ]
  },
  {
   "cell_type": "markdown",
   "id": "unique-blame",
   "metadata": {},
   "source": [
    "### Trainning the Model"
   ]
  },
  {
   "cell_type": "code",
   "execution_count": 10,
   "id": "activated-auction",
   "metadata": {},
   "outputs": [
    {
     "name": "stdout",
     "output_type": "stream",
     "text": [
      "Epoch: 1/200\n",
      "Loss:  2962.9931640625\n",
      "Epoch: 21/200\n",
      "Loss:  2960.825439453125\n",
      "Epoch: 41/200\n",
      "Loss:  2958.8935546875\n",
      "Epoch: 61/200\n",
      "Loss:  2957.2001953125\n",
      "Epoch: 81/200\n",
      "Loss:  2955.721435546875\n",
      "Epoch: 101/200\n",
      "Loss:  2954.42724609375\n",
      "Epoch: 121/200\n",
      "Loss:  2953.288330078125\n",
      "Epoch: 141/200\n",
      "Loss:  2952.278076171875\n",
      "Epoch: 161/200\n",
      "Loss:  2951.37646484375\n",
      "Epoch: 181/200\n",
      "Loss:  2950.5673828125\n"
     ]
    },
    {
     "name": "stderr",
     "output_type": "stream",
     "text": [
      "C:\\Users\\crisp\\Documents\\anaconda3\\lib\\site-packages\\torch\\nn\\modules\\loss.py:528: UserWarning: Using a target size (torch.Size([140, 1])) that is different to the input size (torch.Size([140])). This will likely lead to incorrect results due to broadcasting. Please ensure they have the same size.\n",
      "  return F.mse_loss(input, target, reduction=self.reduction)\n"
     ]
    }
   ],
   "source": [
    "EPOCHS = 200\n",
    "for epoch in range(EPOCHS):\n",
    "    # forward pass\n",
    "    y_pred = model(X_train)\n",
    "    # loss\n",
    "    loss = loss_function(y_train, y_pred)\n",
    "    ## backward pass\n",
    "    loss.backward()\n",
    "    ## update the weights\n",
    "    optimizer.step()\n",
    "    optimizer.zero_grad()\n",
    "    if epoch % 20 == 0:\n",
    "        print(f\"Epoch: {epoch+1}/{EPOCHS}\")\n",
    "        print(\"Loss: \", loss.item())"
   ]
  },
  {
   "cell_type": "code",
   "execution_count": 11,
   "id": "colored-unemployment",
   "metadata": {},
   "outputs": [
    {
     "data": {
      "text/plain": [
       "(tensor([[-3.5672],\n",
       "         [-2.5627]], grad_fn=<AddmmBackward>),\n",
       " tensor([-118.3611,   -1.6715]))"
      ]
     },
     "execution_count": 11,
     "metadata": {},
     "output_type": "execute_result"
    }
   ],
   "source": [
    "model(X_test[:2]), y_test[:2]"
   ]
  },
  {
   "cell_type": "code",
   "execution_count": null,
   "id": "unsigned-xerox",
   "metadata": {},
   "outputs": [],
   "source": []
  },
  {
   "cell_type": "code",
   "execution_count": null,
   "id": "japanese-calculator",
   "metadata": {},
   "outputs": [],
   "source": []
  },
  {
   "cell_type": "code",
   "execution_count": null,
   "id": "liked-return",
   "metadata": {},
   "outputs": [],
   "source": []
  }
 ],
 "metadata": {
  "kernelspec": {
   "display_name": "Python 3",
   "language": "python",
   "name": "python3"
  },
  "language_info": {
   "codemirror_mode": {
    "name": "ipython",
    "version": 3
   },
   "file_extension": ".py",
   "mimetype": "text/x-python",
   "name": "python",
   "nbconvert_exporter": "python",
   "pygments_lexer": "ipython3",
   "version": "3.8.5"
  }
 },
 "nbformat": 4,
 "nbformat_minor": 5
}
