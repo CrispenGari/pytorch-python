{
  "nbformat": 4,
  "nbformat_minor": 0,
  "metadata": {
    "colab": {
      "name": "02_Updated_Sentiment_Analysis.ipynb",
      "provenance": [],
      "collapsed_sections": [],
      "toc_visible": true
    },
    "kernelspec": {
      "name": "python3",
      "display_name": "Python 3"
    },
    "language_info": {
      "name": "python"
    },
    "accelerator": "GPU"
  },
  "cells": [
    {
      "cell_type": "markdown",
      "metadata": {
        "id": "KQzYSXs0KHTL"
      },
      "source": [
        "### 2. Updated Sentiment Analysis using `IMDB` dataset.\n",
        "* In this notebook we are going to update the code from the previous example so that we can improve accuracy on our test dataset.\n",
        "\n",
        "We will walk through the following:\n",
        "* packed padded sequences\n",
        "* pre-trained word embeddings\n",
        "* different RNN architecture\n",
        "* bidirectional RNN\n",
        "* multi-layer RNN\n",
        "* regularization\n",
        "* a different optimizer typically `Adam`\n"
      ]
    },
    {
      "cell_type": "markdown",
      "metadata": {
        "id": "559vErX_KxbE"
      },
      "source": [
        "#### Preparing Data\n",
        "We'll be using ``packed padded sequences``, which will make our ``RNN`` only process the ``non-padded`` elements of our sequence, and for any padded element the output will be a ``zero`` tensor. To use packed padded sequences, we have to tell the RNN how long the actual sequences are. We do this by setting **``include_lengths = True``** for our ``TEXT`` field. This will cause ``batch.text`` to now be a tuple with the first element being our sentence (a numericalized tensor that has been padded) and the second element being the actual lengths of our sentences."
      ]
    },
    {
      "cell_type": "code",
      "metadata": {
        "id": "JHdBFcEwKBTq"
      },
      "source": [
        "import en_core_web_sm"
      ],
      "execution_count": 1,
      "outputs": []
    },
    {
      "cell_type": "code",
      "metadata": {
        "id": "x5yuiuNoL_RT"
      },
      "source": [
        "import torch\n",
        "from torchtext.legacy import data"
      ],
      "execution_count": 2,
      "outputs": []
    },
    {
      "cell_type": "code",
      "metadata": {
        "colab": {
          "base_uri": "https://localhost:8080/"
        },
        "id": "OL8qqi_PMnBb",
        "outputId": "c0229ea2-b5e3-44d3-bd42-b2d3a86f1d14"
      },
      "source": [
        "SEED = 1234\n",
        "\n",
        "torch.manual_seed(SEED)\n",
        "torch.backends.cudnn.deterministic = True\n",
        "device = torch.device(\"cuda\" if torch.cuda.is_available() else 'cpu')\n",
        "device"
      ],
      "execution_count": 3,
      "outputs": [
        {
          "output_type": "execute_result",
          "data": {
            "text/plain": [
              "device(type='cuda')"
            ]
          },
          "metadata": {
            "tags": []
          },
          "execution_count": 3
        }
      ]
    },
    {
      "cell_type": "code",
      "metadata": {
        "colab": {
          "base_uri": "https://localhost:8080/"
        },
        "id": "n2QnkSgCMyMF",
        "outputId": "7c28713c-a0df-4032-886c-4761eb1e2155"
      },
      "source": [
        "TEXT = data.Field(tokenize = 'spacy',\n",
        "                  tokenizer_language = 'en_core_web_sm',\n",
        "              include_lengths=True)\n",
        "LABEL = data.LabelField(dtype = torch.float)\n",
        "TEXT, LABEL"
      ],
      "execution_count": 4,
      "outputs": [
        {
          "output_type": "execute_result",
          "data": {
            "text/plain": [
              "(<torchtext.legacy.data.field.Field at 0x7fe1b1e9b990>,\n",
              " <torchtext.legacy.data.field.LabelField at 0x7fe1b1ea3f90>)"
            ]
          },
          "metadata": {
            "tags": []
          },
          "execution_count": 4
        }
      ]
    },
    {
      "cell_type": "markdown",
      "metadata": {
        "id": "1YDry4njNspn"
      },
      "source": [
        "### Downloading the `IMDB` dataset.\n",
        "Another handy feature of ``TorchText`` is that it has support for common datasets used in natural language processing (NLP)."
      ]
    },
    {
      "cell_type": "code",
      "metadata": {
        "colab": {
          "base_uri": "https://localhost:8080/"
        },
        "id": "liLBrMzHNh4Y",
        "outputId": "eeea5be4-8a99-4a88-d3b5-6ebe69e52e36"
      },
      "source": [
        "from torchtext.legacy import datasets\n",
        "train_data, test_data = datasets.IMDB.splits(TEXT, LABEL)"
      ],
      "execution_count": 5,
      "outputs": [
        {
          "output_type": "stream",
          "text": [
            "aclImdb_v1.tar.gz:   1%|          | 459k/84.1M [00:00<00:19, 4.20MB/s]"
          ],
          "name": "stderr"
        },
        {
          "output_type": "stream",
          "text": [
            "downloading aclImdb_v1.tar.gz\n"
          ],
          "name": "stdout"
        },
        {
          "output_type": "stream",
          "text": [
            "aclImdb_v1.tar.gz: 100%|██████████| 84.1M/84.1M [00:00<00:00, 93.5MB/s]\n"
          ],
          "name": "stderr"
        }
      ]
    },
    {
      "cell_type": "markdown",
      "metadata": {
        "id": "BpPxuiwOOTwO"
      },
      "source": [
        "### Checking the data structure."
      ]
    },
    {
      "cell_type": "code",
      "metadata": {
        "colab": {
          "base_uri": "https://localhost:8080/"
        },
        "id": "FKCdV1gnOJ3d",
        "outputId": "7210f107-4283-4266-df52-704b11cd2a57"
      },
      "source": [
        "print(f\"TRAINING EXAMPLES: \\t {len(train_data)}\\nTEST EXAMPLES: \\t {len(test_data)}\\nTOTAL EXAMPLES: \\t {len(train_data) + len(test_data)}\")"
      ],
      "execution_count": 6,
      "outputs": [
        {
          "output_type": "stream",
          "text": [
            "TRAINING EXAMPLES: \t 25000\n",
            "TEST EXAMPLES: \t 25000\n",
            "TOTAL EXAMPLES: \t 50000\n"
          ],
          "name": "stdout"
        }
      ]
    },
    {
      "cell_type": "markdown",
      "metadata": {
        "id": "bOAdJHLyPGqS"
      },
      "source": [
        "## Checking one example."
      ]
    },
    {
      "cell_type": "code",
      "metadata": {
        "colab": {
          "base_uri": "https://localhost:8080/"
        },
        "id": "uXBkmgNzOTG-",
        "outputId": "dafa6095-2483-468f-af5c-1faea20d143e"
      },
      "source": [
        "vars(train_data.examples[0])"
      ],
      "execution_count": 7,
      "outputs": [
        {
          "output_type": "execute_result",
          "data": {
            "text/plain": [
              "{'label': 'pos',\n",
              " 'text': ['This',\n",
              "  'is',\n",
              "  'my',\n",
              "  'first',\n",
              "  'comment',\n",
              "  '!',\n",
              "  'This',\n",
              "  'is',\n",
              "  'a',\n",
              "  'fantastic',\n",
              "  'movie',\n",
              "  '!',\n",
              "  'I',\n",
              "  'watched',\n",
              "  'it',\n",
              "  'all',\n",
              "  'by',\n",
              "  'luck',\n",
              "  'one',\n",
              "  'night',\n",
              "  'on',\n",
              "  'TV',\n",
              "  '.',\n",
              "  'At',\n",
              "  'first',\n",
              "  '5',\n",
              "  'minutes',\n",
              "  'i',\n",
              "  'thought',\n",
              "  'it',\n",
              "  'was',\n",
              "  'a',\n",
              "  'B',\n",
              "  'movie',\n",
              "  ',',\n",
              "  'but',\n",
              "  'afterward',\n",
              "  'i',\n",
              "  'understood',\n",
              "  'what',\n",
              "  'an',\n",
              "  'amazing',\n",
              "  'product',\n",
              "  'this',\n",
              "  'was.<br',\n",
              "  '/><br',\n",
              "  '/>I',\n",
              "  'suggested',\n",
              "  'to',\n",
              "  'some',\n",
              "  'friends',\n",
              "  'to',\n",
              "  'see',\n",
              "  'the',\n",
              "  'movie',\n",
              "  ',',\n",
              "  'only',\n",
              "  'to',\n",
              "  'tell',\n",
              "  'me',\n",
              "  'that',\n",
              "  'it',\n",
              "  'was',\n",
              "  'a',\n",
              "  'bad',\n",
              "  'B',\n",
              "  'movie',\n",
              "  '.',\n",
              "  'How',\n",
              "  'wrong',\n",
              "  '.',\n",
              "  'Superficial',\n",
              "  'critiques.<br',\n",
              "  '/><br',\n",
              "  '/>I',\n",
              "  'think',\n",
              "  'that',\n",
              "  'the',\n",
              "  'movie',\n",
              "  'is',\n",
              "  'almost',\n",
              "  'a',\n",
              "  'product',\n",
              "  'of',\n",
              "  'genius',\n",
              "  '!',\n",
              "  'The',\n",
              "  'well',\n",
              "  'known',\n",
              "  'director',\n",
              "  'made',\n",
              "  'an',\n",
              "  'excellent',\n",
              "  'job',\n",
              "  'here',\n",
              "  'and',\n",
              "  'it',\n",
              "  'is',\n",
              "  'a',\n",
              "  'shame',\n",
              "  'to',\n",
              "  'tell',\n",
              "  'that',\n",
              "  'he',\n",
              "  'was',\n",
              "  'out',\n",
              "  'of',\n",
              "  'the',\n",
              "  'game',\n",
              "  'all',\n",
              "  'this',\n",
              "  'time',\n",
              "  '.']}"
            ]
          },
          "metadata": {
            "tags": []
          },
          "execution_count": 7
        }
      ]
    },
    {
      "cell_type": "markdown",
      "metadata": {
        "id": "CZeYM0qCPaWH"
      },
      "source": [
        "### Creating the validation data.\n",
        "By default the `IMDB` only have two sets which are the trainning and testing set, we also need the validation set in our sample. We are going to use the `.split()` method on the train data.\n",
        "\n",
        "1. `.split()` method.\n",
        "This method split the dataset into a ration of ``70% `` trainning and ``30%`` validation.\n",
        "* We can change this by specifying the keyword arg `split_ratio = 0.8` which means ``80%`` of the data will belong to the training and the rest to the testing."
      ]
    },
    {
      "cell_type": "code",
      "metadata": {
        "id": "neUomSwCQnZ-"
      },
      "source": [
        "from random import seed"
      ],
      "execution_count": 8,
      "outputs": []
    },
    {
      "cell_type": "code",
      "metadata": {
        "id": "7usnXOytOTAu"
      },
      "source": [
        "train_data, val_data = train_data.split(random_state=seed(SEED))"
      ],
      "execution_count": 9,
      "outputs": []
    },
    {
      "cell_type": "markdown",
      "metadata": {
        "id": "fLnQc9mdQrvD"
      },
      "source": [
        "Let's check how many example do we have now."
      ]
    },
    {
      "cell_type": "code",
      "metadata": {
        "colab": {
          "base_uri": "https://localhost:8080/"
        },
        "id": "AYYARSO-OS9m",
        "outputId": "85e10199-5e9e-4f32-b6e2-ea11d0a355fa"
      },
      "source": [
        "print(f\"TRAINING EXAMPLES: \\t {len(train_data)}\\nVALIDATION EXAMPLES: \\t {len(val_data)}\\nTEST EXAMPLES: \\t {len(test_data)}\\nTOTAL EXAMPLES: \\t {len(train_data) + len(test_data) + len(val_data)}\")"
      ],
      "execution_count": 10,
      "outputs": [
        {
          "output_type": "stream",
          "text": [
            "TRAINING EXAMPLES: \t 17500\n",
            "VALIDATION EXAMPLES: \t 7500\n",
            "TEST EXAMPLES: \t 25000\n",
            "TOTAL EXAMPLES: \t 50000\n"
          ],
          "name": "stdout"
        }
      ]
    },
    {
      "cell_type": "markdown",
      "metadata": {
        "id": "Eq2bPWdLRE58"
      },
      "source": [
        "### $P$re-trained $W$ord $E$mbeddings.\n",
        "\n",
        "Now, instead of having our word embeddings initialized randomly, they are initialized with these pre-trained vectors. We get these vectors simply by specifying which vectors we want and passing it as an argument to ``build_vocab``. ``TorchText`` handles downloading the vectors and associating them with the correct words in our vocabulary.\n",
        "\n",
        "Here, we'll be using the ``\"glove.6B.100d\"`` vectors. Glove is the algorithm used to calculate the vectors, go here for more. ``6B`` indicates these vectors were trained on 6 billion tokens and ``100d`` indicates these vectors are 100-dimensional.\n",
        "\n",
        "The theory is that these pre-trained vectors already have words with similar semantic meaning close together in vector space, e.g. \"terrible\", \"awful\", \"dreadful\" are nearby. This gives our embedding layer a good initialization as it does not have to learn these relations from scratch.\n",
        "\n",
        "By default, ``TorchText`` will initialize words in your vocabulary but not in your pre-trained embeddings to zero. We don't want this, and instead initialize them randomly by setting ``unk_init to torch.Tensor.normal_``. This will now initialize those words via a Gaussian distribution."
      ]
    },
    {
      "cell_type": "code",
      "metadata": {
        "colab": {
          "base_uri": "https://localhost:8080/"
        },
        "id": "gmOfq9dlREsZ",
        "outputId": "eccc5dc3-bd9f-4d7f-bf16-01b8c9741661"
      },
      "source": [
        "MAX_VOCAB_SIZE = 25_000\n",
        "\n",
        "TEXT.build_vocab(train_data, \n",
        "                 max_size = MAX_VOCAB_SIZE,\n",
        "                 vectors = \"glove.6B.100d\",\n",
        "                 unk_init = torch.Tensor.normal_\n",
        "                 )\n",
        "LABEL.build_vocab(train_data)"
      ],
      "execution_count": 11,
      "outputs": [
        {
          "output_type": "stream",
          "text": [
            ".vector_cache/glove.6B.zip: 862MB [02:40, 5.38MB/s]                          \n",
            "100%|█████████▉| 399832/400000 [00:13<00:00, 29330.03it/s]"
          ],
          "name": "stderr"
        }
      ]
    },
    {
      "cell_type": "markdown",
      "metadata": {
        "id": "Iy2qkCZ1REin"
      },
      "source": [
        "### Creating Iterators - `BucketIterator`\n",
        "\n",
        "As before, we create the iterators, placing the tensors on the GPU if one is available.\n",
        "\n",
        "Another thing for packed padded sequences all of the tensors within a batch need to be sorted by their lengths. This is handled in the iterator by setting ``sort_within_batch = True``."
      ]
    },
    {
      "cell_type": "code",
      "metadata": {
        "id": "XoR3rCyBREfv"
      },
      "source": [
        "BATCH_SIZE = 64\n",
        "\n",
        "train_iterator, validation_iterator, test_iterator = data.BucketIterator.splits(\n",
        "    (train_data, val_data, test_data),\n",
        "     batch_size = BATCH_SIZE,\n",
        "     device=device,\n",
        "    sort_within_batch = True\n",
        ")"
      ],
      "execution_count": 12,
      "outputs": []
    },
    {
      "cell_type": "markdown",
      "metadata": {
        "id": "A2PNbHT0ympK"
      },
      "source": [
        "### Different `RNN` achitectures.\n",
        "We'll be using a different RNN architecture called a Long Short-Term Memory ``(LSTM)``. **Why is an LSTM better than a standard RNN?** Standard RNNs suffer from the vanishing gradient problem. LSTMs overcome this by having an extra recurrent state called a ``cell``, $c_0$ - which can be thought of as the \"memory\" of the LSTM - and the use use multiple gates which control the flow of information into and out of the memory.  We can simply think of the LSTM as a function of $x_t$, $h_t$ and $c_t$, instead of just $x_t$ and $h_t$.\n",
        "\n",
        "The `LSTM`\n",
        "\n",
        "<p align=\"center\">\n",
        "<img src=\"https://render.githubusercontent.com/render/math?math=%28h_t%2C%20c_t%29%20%3D%20%5Ctext%7BLSTM%7D%28x_t%2C%20h_t%2C%20c_t%29&mode=display\"/>\n",
        "</p>\n",
        "\n",
        "The `LSTM` looks like (without the embedding layer)\n",
        "\n",
        "<p align=\"center\">\n",
        "<img src=\"https://github.com/bentrevett/pytorch-sentiment-analysis/raw/2b666b3cba7d629a2f192c7d9c66fadcc9f0c363/assets/sentiment2.png\"/>\n",
        "</p>\n",
        "\n",
        "### Bidirectional RNN\n",
        "The concept behind a bidirectional RNN is simple. As well as having an RNN processing the words in the sentence from the first to the last (a forward RNN), we have a second RNN processing the words in the sentence from the last to the first (a backward RNN). At time step $t$, the forward RNN is processing word $x_t$, and the backward RNN is processing word $x_{T-t+1}$.\n",
        "\n",
        "In PyTorch, the hidden state (and cell state) tensors returned by the forward and backward RNNs are stacked on top of each other in a single tensor.\n",
        "\n",
        "We make our sentiment prediction using a concatenation of the last hidden state from the forward RNN (obtained from final word of the sentence), $h_T^\\rightarrow$, and the last hidden state from the backward RNN (obtained from the first word of the sentence), $h_T^\\leftarrow$, i.e. $\\hat{y}=f(h_T^\\rightarrow, h_T^\\leftarrow)$\n",
        "\n",
        "The image below shows a bi-directional RNN, with the forward RNN in orange, the backward RNN in green and the linear layer in silver.\n",
        "\n",
        "<p align=\"center\">\n",
        "<img src=\"https://github.com/bentrevett/pytorch-sentiment-analysis/raw/2b666b3cba7d629a2f192c7d9c66fadcc9f0c363/assets/sentiment3.png\"/>\n",
        "</p>\n",
        "\n",
        "### Regularization\n",
        "Although we've added improvements to our model, each one adds additional parameters. Without going into overfitting into too much detail, the more parameters you have in in your model, the higher the probability that your model will overfit **(memorize the training data, causing a low training error but high validation/testing error, i.e. poor generalization to new, unseen examples).** To combat this, we use regularization. More specifically, we use a method of regularization called dropout. **Dropou**t works by randomly dropping out (setting to 0) neurons in a layer during a forward pass. The probability that each neuron is dropped out is set by a hyperparameter and each neuron with dropout applied is considered indepenently. One theory about why dropout works is that a model with parameters dropped out can be seen as a \"weaker\" (less parameters) model. The predictions from all these \"weaker\" models (one for each forward pass) get averaged together withinin the parameters of the model. Thus, your one model can be thought of as an ensemble of weaker models, none of which are over-parameterized and thus should not overfit.\n",
        "\n",
        "\n",
        "### Implementation Details\n",
        "Another addition to this model is that we are not going to learn the embedding for the ``<pad>`` token. This is because we want to explitictly tell our model that padding tokens are irrelevant to determining the sentiment of a sentence. This means the embedding for the pad token will remain at what it is initialized to (we initialize it to all zeros later). We do this by passing the index of our pad token as the ``padding_idx`` argument to the ``nn.Embedding`` layer.\n",
        "\n",
        "To use an ``LSTM`` instead of the standard RNN, we use ``nn.LSTM`` instead of ``nn.RNN``. Also, note that the ``LSTM `` returns the output and a tuple of the final hidden state and the final cell state, whereas the standard ``RNN`` only returned the output and final hidden state.\n",
        "\n",
        "As the final hidden state of our ``LSTM`` has both a forward and a backward component, which will be concatenated together, the size of the input to the ``nn.Linear`` layer is twice that of the hidden dimension size.\n",
        "\n",
        "Implementing bidirectionality and adding additional layers are done by passing values for the ``num_layers`` and bidirectional arguments for the RNN/LSTM.\n",
        "\n",
        "``Dropout`` is implemented by initializing an ``nn.Dropout`` layer (the argument is the probability of dropping out each neuron) and using it within the forward method after each layer we want to apply dropout to. \n",
        "\n",
        "**Note:** Never use dropout on the input or output layers (text or fc in this case), you only ever want to use dropout on intermediate layers. The ``LSTM`` has a dropout argument which adds dropout on the connections between hidden states in one layer to hidden states in the next layer.\n",
        "\n",
        "As we are passing the lengths of our sentences to be able to use packed padded sequences, we have to add a second argument, text_lengths, to forward.\n",
        "\n",
        "Before we pass our embeddings to the RNN, we need to pack them, which we do with ``nn.utils.rnn.packed_padded_sequence``. This will cause our ``RNN`` to only process the non-padded elements of our sequence. The ``RNN`` will then return packed_output (a packed sequence) as well as the hidden and cell states (both of which are tensors). Without packed padded sequences, hidden and cell are tensors from the last element in the sequence, which will most probably be a pad token, however when using packed padded sequences they are both from the last non-padded element in the sequence. Note that the lengths argument of ``packed_padded_sequence`` must be a CPU tensor so we explicitly make it one by using ``.to('cpu')``.\n",
        "\n",
        "We then unpack the output sequence, with ``nn.utils.rnn.pad_packed_sequence``, to transform it from a packed sequence to a tensor. The elements of output from padding tokens will be zero tensors (tensors where every element is zero). Usually, we only have to unpack output if we are going to use it later on in the model. Although we aren't in this case, we still unpack the sequence just to show how it is done.\n",
        "\n",
        "The final hidden state, hidden, has a shape of ``[num layers * num directions, batch size, hid dim]``. These are ordered: ``[forward_layer_0, backward_layer_0, forward_layer_1, backward_layer 1, ..., forward_layer_n, backward_layer n]``. As we want the final (top) layer forward and backward hidden states, we get the top two hidden layers from the first ``dimension``, ``hidden[-2,:,:]`` and ``hidden[-1,:,:]``, and concatenate them together before passing them to the linear layer (after applying dropout)."
      ]
    },
    {
      "cell_type": "markdown",
      "metadata": {
        "id": "S-pRVlv5pfS0"
      },
      "source": [
        "###  Model Creation.\n"
      ]
    },
    {
      "cell_type": "code",
      "metadata": {
        "id": "niDT4PCtqBHy"
      },
      "source": [
        "from torch import nn"
      ],
      "execution_count": 13,
      "outputs": []
    },
    {
      "cell_type": "code",
      "metadata": {
        "id": "8JocSNu6REZ4"
      },
      "source": [
        "class RNN(nn.Module):\n",
        "  def __init__(self, vocab_size, embedding_dim, hidden_dim, output_dim, n_layers, \n",
        "                bidirectional, dropout, pad_idx):\n",
        "    super().__init__()\n",
        "    self.embedding = nn.Embedding(vocab_size, embedding_dim, padding_idx = pad_idx)\n",
        "    self.rnn = nn.LSTM(embedding_dim, \n",
        "                        hidden_dim, \n",
        "                        num_layers=n_layers, \n",
        "                        bidirectional=bidirectional, \n",
        "                        dropout=dropout)\n",
        "    self.fc = nn.Linear(hidden_dim * 2, output_dim)\n",
        "    self.dropout = nn.Dropout(dropout)\n",
        "        \n",
        "  def forward(self, text, text_lengths):\n",
        "    #text = [sent len, batch size]\n",
        "    embedded = self.dropout(self.embedding(text))\n",
        "    #embedded = [sent len, batch size, emb dim]\n",
        "    #pack sequence\n",
        "    # lengths need to be on CPU!\n",
        "    packed_embedded = nn.utils.rnn.pack_padded_sequence(embedded, text_lengths.to('cpu'))\n",
        "    packed_output, (h_0, c_0) = self.rnn(packed_embedded)\n",
        "    \n",
        "    #unpack sequence\n",
        "    output, output_lengths = nn.utils.rnn.pad_packed_sequence(packed_output)\n",
        "\n",
        "    #output = [sent len, batch size, hid dim * num directions]\n",
        "    #output over padding tokens are zero tensors\n",
        "    \n",
        "    #h_0 = [num layers * num directions, batch size, hid dim]\n",
        "    #c_0 = [num layers * num directions, batch size, hid dim]\n",
        "    \n",
        "    #concat the final forward (h_0[-2,:,:]) and backward (h_0[-1,:,:]) h_0 layers\n",
        "    #and apply dropout\n",
        "    \n",
        "    h_0 = self.dropout(torch.cat((h_0[-2,:,:], h_0[-1,:,:]), dim = 1))\n",
        "            \n",
        "    #h_0 = [batch size, hid dim * num directions]\n",
        "        \n",
        "    return self.fc(h_0)"
      ],
      "execution_count": 15,
      "outputs": []
    },
    {
      "cell_type": "markdown",
      "metadata": {
        "id": "C3e-hPZGtllK"
      },
      "source": [
        "Like before, we'll create an instance of our ``RNN`` class, with the new parameters and arguments for the number of layers, bidirectionality and dropout probability.\n",
        "\n",
        "To ensure the pre-trained vectors can be loaded into the model, the ``EMBEDDING_DIM `` must be equal to that of the pre-trained GloVe vectors loaded earlier.\n",
        "\n",
        "We get our pad token index from the vocabulary, getting the actual string representing the pad token from the field's ``pad_token`` attribute, which is ``<pad>`` by default."
      ]
    },
    {
      "cell_type": "code",
      "metadata": {
        "id": "C-7_mxlbHY79"
      },
      "source": [
        ""
      ],
      "execution_count": 14,
      "outputs": []
    },
    {
      "cell_type": "code",
      "metadata": {
        "colab": {
          "base_uri": "https://localhost:8080/"
        },
        "id": "MwWBDduNHdwb",
        "outputId": "db4b4191-a1d8-44d8-8320-699b65e94be9"
      },
      "source": [
        "\n",
        "INPUT_DIM = len(TEXT.vocab) # # 25002\n",
        "EMBEDDING_DIM = 100\n",
        "HIDDEN_DIM = 256\n",
        "OUTPUT_DIM = 1\n",
        "N_LAYERS = 2\n",
        "BIDIRECTIONAL = True\n",
        "DROPOUT = 0.5\n",
        "PAD_IDX = TEXT.vocab.stoi[TEXT.pad_token] # 0\n",
        "\n",
        "model = RNN(INPUT_DIM, \n",
        "            EMBEDDING_DIM, \n",
        "            HIDDEN_DIM, \n",
        "            OUTPUT_DIM, \n",
        "            N_LAYERS, \n",
        "            BIDIRECTIONAL, \n",
        "            DROPOUT, \n",
        "            PAD_IDX)\n",
        "model"
      ],
      "execution_count": 16,
      "outputs": [
        {
          "output_type": "execute_result",
          "data": {
            "text/plain": [
              "RNN(\n",
              "  (embedding): Embedding(25002, 100, padding_idx=1)\n",
              "  (rnn): LSTM(100, 256, num_layers=2, dropout=0.5, bidirectional=True)\n",
              "  (fc): Linear(in_features=512, out_features=1, bias=True)\n",
              "  (dropout): Dropout(p=0.5, inplace=False)\n",
              ")"
            ]
          },
          "metadata": {
            "tags": []
          },
          "execution_count": 16
        }
      ]
    },
    {
      "cell_type": "markdown",
      "metadata": {
        "id": "VdZnJTgBufqo"
      },
      "source": [
        "#### Number of trainable parameters."
      ]
    },
    {
      "cell_type": "code",
      "metadata": {
        "colab": {
          "base_uri": "https://localhost:8080/"
        },
        "id": "RA7SBum0ujeA",
        "outputId": "81f70828-d335-46b0-d7ee-461eb7a95968"
      },
      "source": [
        "def count_trainable_params(model):\n",
        "  n_t_params =sum(p.numel() for p in model.parameters() if p.requires_grad == True)\n",
        "  return n_t_params\n",
        "\n",
        "print(f'The model has {count_trainable_params(model):,} trainable parameters')"
      ],
      "execution_count": 17,
      "outputs": [
        {
          "output_type": "stream",
          "text": [
            "The model has 4,810,857 trainable parameters\n"
          ],
          "name": "stdout"
        }
      ]
    },
    {
      "cell_type": "markdown",
      "metadata": {
        "id": "65wm3i35vUY4"
      },
      "source": [
        "The final addition is copying the pre-trained word embeddings we loaded earlier into the embedding layer of our model.\n",
        "\n",
        "We retrieve the embeddings from the field's vocab, and check they're the correct size, ``[vocab size, embedding dim]``"
      ]
    },
    {
      "cell_type": "code",
      "metadata": {
        "colab": {
          "base_uri": "https://localhost:8080/"
        },
        "id": "yq-IUpVotv5o",
        "outputId": "a00043e8-2b25-484e-cbdf-9ea3a42e1963"
      },
      "source": [
        "pretrained_embeddings = TEXT.vocab.vectors\n",
        "print(pretrained_embeddings.shape)"
      ],
      "execution_count": 18,
      "outputs": [
        {
          "output_type": "stream",
          "text": [
            "torch.Size([25002, 100])\n"
          ],
          "name": "stdout"
        }
      ]
    },
    {
      "cell_type": "code",
      "metadata": {
        "colab": {
          "base_uri": "https://localhost:8080/"
        },
        "id": "3CIczYNAtv3C",
        "outputId": "2ad118b1-f198-465b-d3ac-3237eee56020"
      },
      "source": [
        "pretrained_embeddings[:1]"
      ],
      "execution_count": 19,
      "outputs": [
        {
          "output_type": "execute_result",
          "data": {
            "text/plain": [
              "tensor([[-0.1117, -0.4966,  0.1631, -0.8817,  0.0539,  0.6684, -0.0597, -0.4675,\n",
              "         -0.2153,  0.8840, -0.7584, -0.3689, -0.3424, -1.4020,  0.3206, -1.0219,\n",
              "          0.7988, -0.0923, -0.7049, -1.6024,  0.2891,  0.4899, -0.3853, -0.7120,\n",
              "         -0.1706, -1.4594,  0.2207,  0.2463, -1.3248,  0.6970, -0.6631,  1.2158,\n",
              "         -1.4949,  0.8810, -1.1786, -0.9340, -0.5675, -0.2772, -2.1834,  0.3668,\n",
              "          0.9380,  0.0078, -0.3139, -1.1567,  1.8409, -1.0174,  1.2192,  0.1601,\n",
              "          1.5985, -0.0469, -1.5270, -2.0143, -1.5173,  0.3877, -1.1849,  0.6897,\n",
              "          1.3232,  1.8169,  0.6808,  0.7244,  0.0323, -1.6593, -1.8773,  0.7372,\n",
              "          0.9257,  0.9247,  0.1825, -0.0737,  0.3147, -1.0369,  0.2100,  0.6144,\n",
              "          0.0628, -0.3297, -1.7970,  0.8728,  0.7670, -0.1138, -0.9428,  0.7540,\n",
              "          0.1407, -0.6937, -0.6159, -0.7295,  1.3204,  1.5997, -1.0792, -0.3396,\n",
              "         -1.4538, -2.6740,  1.5984,  0.8021,  0.5722,  0.0653, -0.0235,  0.8876,\n",
              "          1.4689,  1.2647, -0.2753, -0.1325]])"
            ]
          },
          "metadata": {
            "tags": []
          },
          "execution_count": 19
        }
      ]
    },
    {
      "cell_type": "markdown",
      "metadata": {
        "id": "FCsTidFDvzPO"
      },
      "source": [
        "\n",
        "We then replace the initial weights of the embedding layer with the pre-trained embeddings.\n",
        "\n",
        "**Note**: this should always be done on the weight.data and not the weight!"
      ]
    },
    {
      "cell_type": "code",
      "metadata": {
        "colab": {
          "base_uri": "https://localhost:8080/"
        },
        "id": "Q-_nPtqUHuvw",
        "outputId": "d319f31b-2e1a-4928-908b-00310bae5ed4"
      },
      "source": [
        "model.embedding.weight.data.copy_(pretrained_embeddings)"
      ],
      "execution_count": 21,
      "outputs": [
        {
          "output_type": "execute_result",
          "data": {
            "text/plain": [
              "tensor([[-0.1117, -0.4966,  0.1631,  ...,  1.2647, -0.2753, -0.1325],\n",
              "        [-0.8555, -0.7208,  1.3755,  ...,  0.0825, -1.1314,  0.3997],\n",
              "        [-0.0382, -0.2449,  0.7281,  ..., -0.1459,  0.8278,  0.2706],\n",
              "        ...,\n",
              "        [ 0.0686, -0.2422,  0.2714,  ..., -0.1480, -0.4611,  0.3606],\n",
              "        [-0.1419,  0.0282,  0.2185,  ..., -0.1100, -0.1250,  0.0282],\n",
              "        [-0.9607,  0.5405, -0.8723,  ..., -0.2872,  0.1165,  0.2891]])"
            ]
          },
          "metadata": {
            "tags": []
          },
          "execution_count": 21
        }
      ]
    },
    {
      "cell_type": "markdown",
      "metadata": {
        "id": "mkKp4lN2wUMy"
      },
      "source": [
        "As our ``<unk>`` and ``<pad>`` token aren't in the pre-trained vocabulary they have been initialized using ``unk_init`` (an $\\mathcal{N}(0,1)$ distribution) when building our vocab. It is preferable to initialize them both to all zeros to explicitly tell our model that, initially, they are irrelevant for determining sentiment.\n",
        "\n",
        "We do this by manually setting their row in the embedding weights matrix to zeros. We get their row by finding the index of the tokens, which we have already done for the padding index.\n",
        "\n",
        "**Note:** like initializing the embeddings, this should be done on the weight.data and not the weight!"
      ]
    },
    {
      "cell_type": "code",
      "metadata": {
        "colab": {
          "base_uri": "https://localhost:8080/"
        },
        "id": "XN-mjV1YH2up",
        "outputId": "e3967102-35c5-4f0c-f00a-8eec7ad341b1"
      },
      "source": [
        "\n",
        "UNK_IDX = TEXT.vocab.stoi[TEXT.unk_token] or TEXT.vocab.stoi[\"<unk>\"]\n",
        "\n",
        "model.embedding.weight.data[UNK_IDX] = torch.zeros(EMBEDDING_DIM)\n",
        "model.embedding.weight.data[PAD_IDX] = torch.zeros(EMBEDDING_DIM)\n",
        "\n",
        "print(model.embedding.weight.data)"
      ],
      "execution_count": 23,
      "outputs": [
        {
          "output_type": "stream",
          "text": [
            "tensor([[ 0.0000,  0.0000,  0.0000,  ...,  0.0000,  0.0000,  0.0000],\n",
            "        [ 0.0000,  0.0000,  0.0000,  ...,  0.0000,  0.0000,  0.0000],\n",
            "        [-0.0382, -0.2449,  0.7281,  ..., -0.1459,  0.8278,  0.2706],\n",
            "        ...,\n",
            "        [ 0.0686, -0.2422,  0.2714,  ..., -0.1480, -0.4611,  0.3606],\n",
            "        [-0.1419,  0.0282,  0.2185,  ..., -0.1100, -0.1250,  0.0282],\n",
            "        [-0.9607,  0.5405, -0.8723,  ..., -0.2872,  0.1165,  0.2891]])\n"
          ],
          "name": "stdout"
        }
      ]
    },
    {
      "cell_type": "markdown",
      "metadata": {
        "id": "pX2LL3tHx0WX"
      },
      "source": [
        "We can now see the first two rows of the embedding weights matrix have been set to zeros. As we passed the index of the pad token to the ``padding_idx`` of the embedding layer it will remain zeros throughout training, however the ``<unk>`` token embedding will be learned."
      ]
    },
    {
      "cell_type": "markdown",
      "metadata": {
        "id": "uX6YUTkYfKzm"
      },
      "source": [
        "### Trainning the model.\n",
        "The only part that will change is our `optimizer` we are now using the `Adam` instead of `SGD` and the `criterion` remains the same."
      ]
    },
    {
      "cell_type": "code",
      "metadata": {
        "id": "y6xR6X4pREIo"
      },
      "source": [
        "optimizer = torch.optim.Adam(model.parameters())\n",
        "criterion = nn.BCEWithLogitsLoss()"
      ],
      "execution_count": 24,
      "outputs": []
    },
    {
      "cell_type": "markdown",
      "metadata": {
        "id": "2ce2JxFIgUMW"
      },
      "source": [
        "### Pushing the model and loss function to the devics"
      ]
    },
    {
      "cell_type": "code",
      "metadata": {
        "id": "mrNXBDvigTMd"
      },
      "source": [
        "model = model.to(device)\n",
        "criterion = criterion.to(device)"
      ],
      "execution_count": 25,
      "outputs": []
    },
    {
      "cell_type": "markdown",
      "metadata": {
        "id": "fBeD9BTfgmea"
      },
      "source": [
        "$L$oss and $A$ccuracy.\n",
        "\n",
        "Our criterion function calculates the loss, however we have to write our function to calculate the accuracy.\n",
        "\n",
        "This function first feeds the predictions through a sigmoid layer, squashing the values between 0 and 1, we then round them to the nearest integer. This rounds any value greater than 0.5 to 1 (a positive sentiment) and the rest to 0 (a negative sentiment).\n",
        "\n",
        "We then calculate how many rounded predictions equal the actual labels and average it across the batch."
      ]
    },
    {
      "cell_type": "code",
      "metadata": {
        "id": "EFPWjrS7REFh"
      },
      "source": [
        "def accuracy(y_preds, y_true):\n",
        "  #round predictions to the closest integer\n",
        "  rounded_preds = torch.round(torch.sigmoid(y_preds))\n",
        "  correct = (rounded_preds == y_true).float() #convert into float for division \n",
        "  acc = correct.sum() / len(correct)\n",
        "  return acc"
      ],
      "execution_count": 26,
      "outputs": []
    },
    {
      "cell_type": "markdown",
      "metadata": {
        "id": "jSxxiNYjhMTR"
      },
      "source": [
        "\n",
        "### Training the model - `train()` function\n",
        "We define a function for training our model.\n",
        "\n",
        "As we have set ``include_lengths = True``, our batch.text is now a tuple with the first element being the numericalized tensor and the second element being the actual lengths of each sequence. We separate these into their own variables, text and ``text_lengths``, before passing them to the model.\n",
        "\n",
        "Note: as we are now using dropout, we must remember to use ``model.train()`` to ensure the dropout is \"turned on\" while training."
      ]
    },
    {
      "cell_type": "code",
      "metadata": {
        "id": "_t4zDse6hHZa"
      },
      "source": [
        "def train(model, iterator, optimizer, criterion):\n",
        "    epoch_loss = 0\n",
        "    epoch_acc = 0\n",
        "    model.train()\n",
        "    for batch in iterator:\n",
        "        optimizer.zero_grad()\n",
        "        text, text_lengths = batch.text\n",
        "        predictions = model(text, text_lengths).squeeze(1)\n",
        "        loss = criterion(predictions, batch.label)\n",
        "        acc = accuracy(predictions, batch.label)\n",
        "        loss.backward()\n",
        "        optimizer.step()\n",
        "        epoch_loss += loss.item()\n",
        "        epoch_acc += acc.item()\n",
        "    return epoch_loss / len(iterator), epoch_acc / len(iterator)"
      ],
      "execution_count": 27,
      "outputs": []
    },
    {
      "cell_type": "markdown",
      "metadata": {
        "id": "YbfcmRVai4GZ"
      },
      "source": [
        "\n",
        "Then we define a function for testing our model, again remembering to separate ``batch.text``.\n",
        "\n",
        "Note: as we are now using dropout, we must remember to use ``model.eval()`` to ensure the dropout is \"turned off\" while evaluating."
      ]
    },
    {
      "cell_type": "code",
      "metadata": {
        "id": "AcJ_HDXTi3my"
      },
      "source": [
        "def evaluate(model, iterator, criterion):\n",
        "    epoch_loss = 0\n",
        "    epoch_acc = 0\n",
        "    model.eval()\n",
        "    with torch.no_grad():\n",
        "        for batch in iterator:\n",
        "            text, text_lengths = batch.text\n",
        "            predictions = model(text, text_lengths).squeeze(1)\n",
        "            loss = criterion(predictions, batch.label)\n",
        "            acc = accuracy(predictions, batch.label)\n",
        "            epoch_loss += loss.item()\n",
        "            epoch_acc += acc.item()\n",
        "    return epoch_loss / len(iterator), epoch_acc / len(iterator)"
      ],
      "execution_count": 28,
      "outputs": []
    },
    {
      "cell_type": "markdown",
      "metadata": {
        "id": "qOvKbRaZjpLY"
      },
      "source": [
        "We'll also create a function to tell us how long an epoch takes to compare training times between models."
      ]
    },
    {
      "cell_type": "code",
      "metadata": {
        "id": "jKPleAJchQgz"
      },
      "source": [
        "import time\n",
        "def epoch_time(start_time, end_time):\n",
        "    elapsed_time = end_time - start_time\n",
        "    elapsed_mins = int(elapsed_time / 60)\n",
        "    elapsed_secs = int(elapsed_time - (elapsed_mins * 60))\n",
        "    return elapsed_mins, elapsed_secs"
      ],
      "execution_count": 29,
      "outputs": []
    },
    {
      "cell_type": "markdown",
      "metadata": {
        "id": "1rytha2WjxoZ"
      },
      "source": [
        "We then train the model through multiple epochs, an epoch being a complete pass through all examples in the training and validation sets.\n",
        "\n",
        "At each epoch, if the validation loss is the best we have seen so far, we'll save the parameters of the model and then after training has finished we'll use that model on the test set."
      ]
    },
    {
      "cell_type": "code",
      "metadata": {
        "colab": {
          "base_uri": "https://localhost:8080/"
        },
        "id": "Z47ipa8fhQey",
        "outputId": "6188ae97-881d-42bc-fddd-c48f80458f6a"
      },
      "source": [
        "N_EPOCHS = 5\n",
        "best_valid_loss = float('inf')\n",
        "for epoch in range(N_EPOCHS):\n",
        "    start_time = time.time()\n",
        "    train_loss, train_acc = train(model, train_iterator, optimizer, criterion)\n",
        "    valid_loss, valid_acc = evaluate(model, validation_iterator, criterion)\n",
        "    end_time = time.time()\n",
        "    epoch_mins, epoch_secs = epoch_time(start_time, end_time)\n",
        "    if valid_loss < best_valid_loss:\n",
        "        best_valid_loss = valid_loss\n",
        "        torch.save(model.state_dict(), 'best-model.pt')\n",
        "    print(f'Epoch: {epoch+1:02} | Epoch Time: {epoch_mins}m {epoch_secs}s')\n",
        "    print(f'\\tTrain Loss: {train_loss:.3f} | Train Acc: {train_acc*100:.2f}%')\n",
        "    print(f'\\t Val. Loss: {valid_loss:.3f} |  Val. Acc: {valid_acc*100:.2f}%')"
      ],
      "execution_count": 30,
      "outputs": [
        {
          "output_type": "stream",
          "text": [
            "Epoch: 01 | Epoch Time: 0m 42s\n",
            "\tTrain Loss: 0.673 | Train Acc: 58.21%\n",
            "\t Val. Loss: 0.689 |  Val. Acc: 57.18%\n",
            "Epoch: 02 | Epoch Time: 0m 42s\n",
            "\tTrain Loss: 0.618 | Train Acc: 66.50%\n",
            "\t Val. Loss: 0.539 |  Val. Acc: 74.41%\n",
            "Epoch: 03 | Epoch Time: 0m 42s\n",
            "\tTrain Loss: 0.462 | Train Acc: 78.76%\n",
            "\t Val. Loss: 0.343 |  Val. Acc: 85.38%\n",
            "Epoch: 04 | Epoch Time: 0m 42s\n",
            "\tTrain Loss: 0.332 | Train Acc: 86.46%\n",
            "\t Val. Loss: 0.376 |  Val. Acc: 83.40%\n",
            "Epoch: 05 | Epoch Time: 0m 42s\n",
            "\tTrain Loss: 0.272 | Train Acc: 89.18%\n",
            "\t Val. Loss: 0.280 |  Val. Acc: 88.47%\n"
          ],
          "name": "stdout"
        }
      ]
    },
    {
      "cell_type": "markdown",
      "metadata": {
        "id": "yrvi4XSzkH8I"
      },
      "source": [
        "### Evaluate the best model."
      ]
    },
    {
      "cell_type": "code",
      "metadata": {
        "colab": {
          "base_uri": "https://localhost:8080/"
        },
        "id": "3OFk7fTKhQaQ",
        "outputId": "d1f531fc-df66-4189-a115-bf040632fd9b"
      },
      "source": [
        "model.load_state_dict(torch.load('best-model.pt'))\n",
        "\n",
        "test_loss, test_acc = evaluate(model, test_iterator, criterion)\n",
        "\n",
        "print(f'Test Loss: {test_loss:.3f} | Test Acc: {test_acc*100:.2f}%')"
      ],
      "execution_count": 31,
      "outputs": [
        {
          "output_type": "stream",
          "text": [
            "Test Loss: 0.292 | Test Acc: 87.85%\n"
          ],
          "name": "stdout"
        }
      ]
    },
    {
      "cell_type": "markdown",
      "metadata": {
        "id": "NvSslfNwhQXI"
      },
      "source": [
        "### Making predictions\n",
        "\n",
        "We can now use our model to predict the sentiment of any sentence we give it. As it has been trained on movie reviews, the sentences provided should also be movie reviews.\n",
        "\n",
        "**Note:** When using a model for inference it should always be in evaluation mode.\n",
        "\n",
        "Our ``predict_sentiment`` function does a few things:\n",
        "\n",
        "* sets the model to ``evaluation`` mode\n",
        "* ``tokenizes`` the sentence, i.e. splits it from a raw string into a list of tokens\n",
        "* ``indexes`` the tokens by converting them into their integer representation from our vocabulary\n",
        "* gets the length of our sequence\n",
        "* converts the indexes, which are a Python list into a PyTorch tensor\n",
        "* add a batch dimension by unsqueezeing\n",
        "* converts the length into a tensor\n",
        "* squashes the output prediction from a real number between 0 and 1 with the sigmoid function\n",
        "* converts the tensor holding a single value into an integer with the item() method\n",
        "\n",
        "\n",
        "> We are expecting reviews with a negative sentiment to return a value close to 0 and positive reviews to return a value close to 1."
      ]
    },
    {
      "cell_type": "code",
      "metadata": {
        "id": "q8-szypA0zI8"
      },
      "source": [
        "import spacy\n",
        "import en_core_web_sm\n",
        "nlp = en_core_web_sm.load()\n",
        "def predict_sentiment(model, sent):\n",
        "  model.eval()\n",
        "\n",
        "  tokenized = [tok.text for tok in nlp.tokenizer(sent)]\n",
        "  indexed = [TEXT.vocab.stoi[t] for t in tokenized]\n",
        "  length = [len(indexed)]\n",
        "\n",
        "  tensor = torch.LongTensor(indexed).to(device)\n",
        "  tensor = tensor.unsqueeze(1)\n",
        "  length_tensor = torch.LongTensor(length)\n",
        "  prediction = torch.sigmoid(model(tensor, length_tensor))\n",
        "\n",
        "  return prediction.item()\n"
      ],
      "execution_count": 32,
      "outputs": []
    },
    {
      "cell_type": "markdown",
      "metadata": {
        "id": "fiXjAwn61p4k"
      },
      "source": [
        "> Negative sentiment"
      ]
    },
    {
      "cell_type": "code",
      "metadata": {
        "id": "0UsIB7le1jkJ",
        "colab": {
          "base_uri": "https://localhost:8080/"
        },
        "outputId": "5d458dfd-8388-404a-f6e2-ca46c0eae6ed"
      },
      "source": [
        "predict_sentiment(model, \"This film is terrible\")"
      ],
      "execution_count": 33,
      "outputs": [
        {
          "output_type": "execute_result",
          "data": {
            "text/plain": [
              "0.007193383295089006"
            ]
          },
          "metadata": {
            "tags": []
          },
          "execution_count": 33
        }
      ]
    },
    {
      "cell_type": "markdown",
      "metadata": {
        "id": "VklzPqV61uGm"
      },
      "source": [
        "> Positive sentiment"
      ]
    },
    {
      "cell_type": "code",
      "metadata": {
        "id": "Po4g8acB1tKP",
        "colab": {
          "base_uri": "https://localhost:8080/"
        },
        "outputId": "a6e9e280-a5c6-4759-b99b-106a65bac214"
      },
      "source": [
        "predict_sentiment(model, \"This film is great\")"
      ],
      "execution_count": 34,
      "outputs": [
        {
          "output_type": "execute_result",
          "data": {
            "text/plain": [
              "0.9876543879508972"
            ]
          },
          "metadata": {
            "tags": []
          },
          "execution_count": 34
        }
      ]
    },
    {
      "cell_type": "markdown",
      "metadata": {
        "id": "LE018dTl11tX"
      },
      "source": [
        "\n",
        "### Next Steps\n",
        "We've now built a decent sentiment analysis model for movie reviews! In the next notebook we'll implement a model that gets comparable accuracy with far fewer parameters and trains much, much faster."
      ]
    },
    {
      "cell_type": "markdown",
      "metadata": {
        "id": "ospkjEfNhRHo"
      },
      "source": [
        "### Credits:\n",
        "\n",
        "* [bentrevett](https://github.com/bentrevett/pytorch-sentiment-analysis/blob/master/2%20-%20Upgraded%20Sentiment%20Analysis.ipynb)\n",
        "\n",
        "* [Read the Docs](https://torchtext.readthedocs.io/en/latest/data.html#functions)\n",
        "\n"
      ]
    },
    {
      "cell_type": "code",
      "metadata": {
        "id": "cdq86ChChexb"
      },
      "source": [
        ""
      ],
      "execution_count": null,
      "outputs": []
    }
  ]
}