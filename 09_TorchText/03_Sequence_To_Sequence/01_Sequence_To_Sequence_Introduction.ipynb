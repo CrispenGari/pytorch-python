{
  "nbformat": 4,
  "nbformat_minor": 0,
  "metadata": {
    "colab": {
      "name": "01_Sequence_To_Sequence_Introduction.ipynb",
      "provenance": [],
      "collapsed_sections": [],
      "toc_visible": true
    },
    "kernelspec": {
      "name": "python3",
      "display_name": "Python 3"
    },
    "language_info": {
      "name": "python"
    },
    "accelerator": "GPU"
  },
  "cells": [
    {
      "cell_type": "markdown",
      "metadata": {
        "id": "ZWBSJeGbKBZS"
      },
      "source": [
        "### Sequence to Sequence.\n",
        "From the previous season we have been working with sentiment analyisis and word embedings to predict one or more classes. In this notebook we are hoing to understand the idea behind what we call `sequence` 2 `sequence` by working with a German English translation. The same process can be applied to models like text summarization"
      ]
    },
    {
      "cell_type": "markdown",
      "metadata": {
        "id": "xnPXf_QrK3ha"
      },
      "source": [
        "### Introduction\n",
        "The most common ``sequence-to-sequence`` (seq2seq) models are encoder-decoder models, which commonly use a recurrent neural network (RNN) to encode the source (input) sentence into a single vector which we can call **context vector**. We can think of the context vector as being an abstract representation of the entire input sentence. This vector is then decoded by a second RNN which learns to output the target (output) sentence by generating it one word at a time.\n",
        "\n",
        "\n",
        "<p align=\"center\"><img src=\"https://github.com/bentrevett/pytorch-seq2seq/raw/49df8404d938a6edbf729876405558cc2c2b3013/assets/seq2seq1.png\"/><p>\n",
        "\n",
        "The above image shows an example translation. The input/source sentence, \"guten morgen\", is passed through the embedding layer (yellow) and then input into the encoder (green). We also append a start of sequence (<sos>) and end of sequence (<eos>) token to the start and end of sentence, respectively. At each time-step, the input to the encoder RNN is both the embedding, $e$, of the current word, $e(x_t)$, as well as the hidden state from the previous time-step, $h_{t-1}$, and the encoder RNN outputs a new hidden state $h_t$. We can think of the hidden state as a vector representation of the sentence so far. The RNN can be represented as a function of both of $e(x_t)$ and $h_{t-1}$:\n",
        "\n",
        "$$h_t = \\text{EncoderRNN}(e(x_t), h_{t-1})$$\n",
        "We're using the term RNN generally here, it could be any recurrent architecture, such as an LSTM (Long Short-Term Memory) or a GRU (Gated Recurrent Unit).\n",
        "\n",
        "Here, we have $X = \\{x_1, x_2, ..., x_T\\}$, where $x_1 = \\text{&lt;sos&gt;}, x_2 = \\text{guten}$, etc. The initial hidden state, $h_0$, is usually either initialized to zeros or a learned parameter.\n",
        "\n",
        "Once the final word, $x_T$, has been passed into the RNN via the embedding layer, we use the final hidden state, $h_T$, as the context vector, i.e. $h_T = z$. This is a vector representation of the entire source sentence.\n",
        "\n",
        "Now we have our context vector, $z$, we can start decoding it to get the output/target sentence, \"good morning\". Again, we append start and end of sequence tokens to the target sentence. At each time-step, the input to the decoder RNN (blue) is the embedding, $d$, of current word, $d(y_t)$, as well as the hidden state from the previous time-step, $s_{t-1}$, where the initial decoder hidden state, $s_0$, is the context vector, $s_0 = z = h_T$, i.e. the initial decoder hidden state is the final encoder hidden state. Thus, similar to the encoder, we can represent the decoder as:\n",
        "\n",
        "$$s_t = \\text{DecoderRNN}(d(y_t), s_{t-1})$$\n",
        "Although the input/source embedding layer, $e$, and the output/target embedding layer, $d$, are both shown in yellow in the diagram they are two different embedding layers with their own parameters.\n",
        "\n",
        "In the decoder, we need to go from the hidden state to an actual word, therefore at each time-step we use $s_t$ to predict (by passing it through a Linear layer, shown in purple) what we think is the next word in the sequence, $\\hat{y}_t$.\n",
        "\n",
        "$$\\hat{y}_t = f(s_t)$$\n",
        "The words in the decoder are always generated one after another, with one per time-step. We always use <sos> for the first input to the decoder, $y_1$, but for subsequent inputs, $y_{t&gt;1}$, we will sometimes use the actual, ground truth next word in the sequence, $y_t$ and sometimes use the word predicted by our decoder, $\\hat{y}_{t-1}$. This is called teacher forcing, see a bit more info about it [here](https://machinelearningmastery.com/teacher-forcing-for-recurrent-neural-networks/).\n",
        "\n",
        "When training/testing our model, we always know how many words are in our target sentence, so we stop generating words once we hit that many. During inference it is common to keep generating words until the model outputs an <eos> token or after a certain amount of words have been generated.\n",
        "\n",
        "Once we have our predicted target sentence, $\\hat{Y} = \\{ \\hat{y}_1, \\hat{y}_2, ..., \\hat{y}_T \\}$, we compare it against our actual target sentence, $Y = \\{ y_1, y_2, ..., y_T \\}$, to calculate our loss. We then use this loss to update all of the parameters in our model."
      ]
    },
    {
      "cell_type": "markdown",
      "metadata": {
        "id": "h86wHJVTNeGI"
      },
      "source": [
        "### Data preparation\n",
        "We will be using torchtext and `spacy` for tokenization."
      ]
    },
    {
      "cell_type": "code",
      "metadata": {
        "id": "O3AzUm2_J4Sk"
      },
      "source": [
        "import torch\n",
        "from torch import nn\n",
        "from torch.nn  import functional as F\n",
        "import spacy, math, random\n",
        "import numpy as np\n",
        "\n",
        "from torchtext.legacy import datasets, data"
      ],
      "execution_count": 35,
      "outputs": []
    },
    {
      "cell_type": "markdown",
      "metadata": {
        "id": "VSUIuIWOOT5B"
      },
      "source": [
        "### We will be setting the Seed."
      ]
    },
    {
      "cell_type": "code",
      "metadata": {
        "id": "PJl2Alx2KA85"
      },
      "source": [
        "SEED = 42\n",
        "\n",
        "torch.manual_seed(SEED)\n",
        "np.random.seed(SEED)\n",
        "random.seed(SEED)\n",
        "torch.cuda.manual_seed(SEED)\n",
        "torch.backends.cudnn.deteministic = True"
      ],
      "execution_count": null,
      "outputs": []
    },
    {
      "cell_type": "markdown",
      "metadata": {
        "id": "SiXcaiGzPLGT"
      },
      "source": [
        "### Creating Tokens\n",
        "\n",
        "spaCy has model for each language ``(\"de_core_news_sm\" for German and \"en_core_web_sm\" for English)`` which need to be loaded so we can access the tokenizer of each model.\n",
        "\n",
        "**Note:** the models must first be downloaded using the following on the command line:\n",
        "\n",
        "````shell\n",
        "python -m spacy download en_core_web_sm\n",
        "python -m spacy download de_core_news_sm\n",
        "````\n",
        "\n",
        "When you are using google colab like me you download it as follows:\n",
        "\n",
        "```python\n",
        "import spacy.cli\n",
        "spacy.cli.download(\"en_core_web_sm\")\n",
        "```"
      ]
    },
    {
      "cell_type": "code",
      "metadata": {
        "colab": {
          "base_uri": "https://localhost:8080/"
        },
        "id": "yeZi43gFQVWc",
        "outputId": "36ec37be-f942-491a-9c2b-087f0ea28a37"
      },
      "source": [
        "import spacy.cli\n",
        "spacy.cli.download('de_core_news_sm')"
      ],
      "execution_count": null,
      "outputs": [
        {
          "output_type": "stream",
          "text": [
            "\u001b[38;5;2m✔ Download and installation successful\u001b[0m\n",
            "You can now load the model via spacy.load('de_core_news_sm')\n"
          ],
          "name": "stdout"
        }
      ]
    },
    {
      "cell_type": "code",
      "metadata": {
        "id": "t5jRwbqJPl14"
      },
      "source": [
        "import en_core_web_sm, de_core_news_sm"
      ],
      "execution_count": null,
      "outputs": []
    },
    {
      "cell_type": "code",
      "metadata": {
        "id": "UHpD1D6DKA5i"
      },
      "source": [
        "spacy_de = spacy.load('de_core_news_sm')\n",
        "spacy_en = spacy.load('en_core_web_sm')"
      ],
      "execution_count": null,
      "outputs": []
    },
    {
      "cell_type": "markdown",
      "metadata": {
        "id": "Y0QdG7TJRAJ_"
      },
      "source": [
        "### Creating Tokenize functions\n",
        "\n",
        "We will create tokenize functions for each language.\n",
        "\n",
        "Researchers find it beneficial to reverse the order of the input which they believe \"introduces many short term dependencies in the data that make the optimization problem much easier\". We copy this by reversing the German sentence after it has been transformed into a list of tokens."
      ]
    },
    {
      "cell_type": "code",
      "metadata": {
        "id": "wD6g8hvvKA2r"
      },
      "source": [
        "def tokenize_de(sent):\n",
        "  \"\"\"\n",
        "  Tokenize german sentence and reverse it\n",
        "  \"\"\"\n",
        "  return [tok.text for tok in spacy_de.tokenizer(sent)][::-1]\n",
        "\n",
        "def tokenize_en(sent):\n",
        "  return [tok.text for tok in spacy_en.tokenizer(sent)]"
      ],
      "execution_count": null,
      "outputs": []
    },
    {
      "cell_type": "markdown",
      "metadata": {
        "id": "8Mm3OUD2SOgM"
      },
      "source": [
        "### Creating Fields\n",
        "We set the tokenize argument to the correct tokenization function for each, with German being the SRC (source) field and English being the TRG (target) field. The field also appends the \"start of sequence\" and \"end of sequence\" tokens via the init_token and eos_token arguments, and converts all words to lowercase."
      ]
    },
    {
      "cell_type": "code",
      "metadata": {
        "id": "vSHyFyVcKAyx"
      },
      "source": [
        "SRC = data.Field(\n",
        "    tokenize = tokenize_de,\n",
        "    lower= True,\n",
        "    init_token = \"<sos>\",\n",
        "     eos_token = \"<eos>\"\n",
        ")\n",
        "TRG = data.Field(\n",
        "    tokenize = tokenize_en,\n",
        "    lower= True,\n",
        "    init_token = \"<sos>\",\n",
        "     eos_token = \"<eos>\"\n",
        ")"
      ],
      "execution_count": null,
      "outputs": []
    },
    {
      "cell_type": "markdown",
      "metadata": {
        "id": "gngbCfq7TKWH"
      },
      "source": [
        "#### Loading the Dataset\n",
        "The dataset we'll be using is the ``[Multi30k]`` [dataset](https://github.com/multi30k/dataset). This is a dataset with ``~30,000`` parallel English, German and French sentences, each with ~12 words per sentence.\n",
        "\n",
        "``exts`` specifies which languages to use as the source and target **(source goes first)** and fields specifies which field to use for the source and target."
      ]
    },
    {
      "cell_type": "code",
      "metadata": {
        "id": "FsGxaUmpKAvo"
      },
      "source": [
        "train_data, validation_data, test_data = datasets.Multi30k.splits(\n",
        "    exts=('.de', '.en'),\n",
        "    fields = (SRC, TRG)\n",
        ")"
      ],
      "execution_count": null,
      "outputs": []
    },
    {
      "cell_type": "markdown",
      "metadata": {
        "id": "n1JcwgT1UGZ_"
      },
      "source": [
        "### Checking if we have loaded the data.\n",
        "\n",
        "We are going to use pretty table to visualize the this."
      ]
    },
    {
      "cell_type": "code",
      "metadata": {
        "colab": {
          "base_uri": "https://localhost:8080/"
        },
        "id": "iKZkZYzqKArY",
        "outputId": "fe83df0b-19d2-4550-ede6-201f96e207e1"
      },
      "source": [
        "from prettytable import PrettyTable\n",
        "def tabulate(column_names, data):\n",
        "  table = PrettyTable(column_names)\n",
        "  for row in data:\n",
        "    table.add_row(row)\n",
        "  print(table)\n",
        "\n",
        "column_names = [\"SUBSET\", \"EXAMPLE(s)\"]\n",
        "row_data = [\n",
        "        [\"training\", len(train_data)],\n",
        "        ['validation', len(validation_data)],\n",
        "        ['test', len(test_data)]\n",
        "]\n",
        "tabulate(column_names, row_data)"
      ],
      "execution_count": 36,
      "outputs": [
        {
          "output_type": "stream",
          "text": [
            "+------------+------------+\n",
            "|   SUBSET   | EXAMPLE(s) |\n",
            "+------------+------------+\n",
            "|  training  |   29000    |\n",
            "| validation |    1014    |\n",
            "|    test    |    1000    |\n",
            "+------------+------------+\n"
          ],
          "name": "stdout"
        }
      ]
    },
    {
      "cell_type": "markdown",
      "metadata": {
        "id": "En0cT-etWdFG"
      },
      "source": [
        "### Printing the first example of the SRC and make sure that it is reversed."
      ]
    },
    {
      "cell_type": "code",
      "metadata": {
        "id": "3ohtQE4oKAlQ",
        "colab": {
          "base_uri": "https://localhost:8080/"
        },
        "outputId": "408323a0-d7e3-4cc7-b7a1-f42335326edf"
      },
      "source": [
        "print(vars(train_data.examples[0]))\n"
      ],
      "execution_count": 25,
      "outputs": [
        {
          "output_type": "stream",
          "text": [
            "{'src': ['.', 'büsche', 'vieler', 'nähe', 'der', 'in', 'freien', 'im', 'sind', 'männer', 'weiße', 'junge', 'zwei'], 'trg': ['two', 'young', ',', 'white', 'males', 'are', 'outside', 'near', 'many', 'bushes', '.']}\n"
          ],
          "name": "stdout"
        }
      ]
    },
    {
      "cell_type": "markdown",
      "metadata": {
        "id": "eM1NYvgFainc"
      },
      "source": [
        "### Building Vocabulary\n",
        "\n",
        "Next, we'll build the vocabulary for the ``source`` and ``target`` languages. The vocabulary is used to associate each unique token with an index (an integer). **The vocabularies of the source and target languages are distinct.**\n",
        "\n",
        "Using the **``min_freq``** argument, we only allow tokens that appear at least 2 times to appear in our vocabulary. Tokens that appear only **once** are converted into an ``<unk>`` (unknown) token.\n",
        "\n",
        "**It is important to note that our vocabulary should only be built from the training set and not the validation/test set. This prevents \"information leakage\" into our model, giving us artifically inflated validation/test scores.**"
      ]
    },
    {
      "cell_type": "code",
      "metadata": {
        "id": "Lz9nWxdOKAiN"
      },
      "source": [
        "SRC.build_vocab(train_data, min_freq = 2)\n",
        "TRG.build_vocab(train_data, min_freq = 2)"
      ],
      "execution_count": 29,
      "outputs": []
    },
    {
      "cell_type": "markdown",
      "metadata": {
        "id": "Nh7e4H4dbXxr"
      },
      "source": [
        "### Checking the unique tokens for each language."
      ]
    },
    {
      "cell_type": "code",
      "metadata": {
        "id": "xsNOBi80KAep",
        "colab": {
          "base_uri": "https://localhost:8080/"
        },
        "outputId": "bfb5a52f-ba92-4886-c576-a9260769ab49"
      },
      "source": [
        "column_names = [\"Language\", \"Number of tokens\"]\n",
        "row_data = [\n",
        "        [\"DE (source)\", len(SRC.vocab)],\n",
        "        [\"EN (target)\", len(TRG.vocab)]\n",
        "]\n",
        "\n",
        "tabulate(column_names=column_names, data=row_data)"
      ],
      "execution_count": 37,
      "outputs": [
        {
          "output_type": "stream",
          "text": [
            "+-------------+------------------+\n",
            "|   Language  | Number of tokens |\n",
            "+-------------+------------------+\n",
            "| DE (source) |       7855       |\n",
            "| EN (target) |       5893       |\n",
            "+-------------+------------------+\n"
          ],
          "name": "stdout"
        }
      ]
    },
    {
      "cell_type": "markdown",
      "metadata": {
        "id": "EoJrCvDEbfEu"
      },
      "source": [
        "### Data Preparation and building Iterators.\n",
        "\n",
        "We are going to use the `BucketIterator` and push to the `device`.\n",
        "\n",
        "When we get a batch of examples using an iterator we need to make sure that all of the **source sentences are padded to the same length, the same with the target sentences**. Luckily, torchText iterators handle this for us!\n",
        "\n",
        "We use a ``BucketIterator`` instead of the standard Iterator as it creates batches in such a way that it minimizes the amount of padding in both the source and target sentences."
      ]
    },
    {
      "cell_type": "code",
      "metadata": {
        "colab": {
          "base_uri": "https://localhost:8080/"
        },
        "id": "5UQSjjWHbfCO",
        "outputId": "efbf93c0-0a10-4366-a689-6620acaec632"
      },
      "source": [
        "device = torch.device('cuda' if torch.cuda.is_available() else 'cpu')\n",
        "device"
      ],
      "execution_count": 34,
      "outputs": [
        {
          "output_type": "execute_result",
          "data": {
            "text/plain": [
              "device(type='cuda')"
            ]
          },
          "metadata": {
            "tags": []
          },
          "execution_count": 34
        }
      ]
    },
    {
      "cell_type": "code",
      "metadata": {
        "id": "V4W7Y8Q1be_S"
      },
      "source": [
        "BATCH_SIZE = 128\n",
        "\n",
        "train_iterator, validation_iterator, test_iterator = data.BucketIterator.splits(\n",
        "    (train_data, validation_data, test_data),\n",
        "    device = device,\n",
        "    batch_size= BATCH_SIZE\n",
        ")"
      ],
      "execution_count": 38,
      "outputs": []
    },
    {
      "cell_type": "markdown",
      "metadata": {
        "id": "x1dJj4pnd9_Y"
      },
      "source": [
        "### Building a Sequence to Sequence Model.\n",
        "We'll be building our model in three parts. The encoder, the decoder and a seq2seq model that encapsulates the encoder and decoder and will provide a way to interface with each.\n",
        "\n",
        "Encoder\n",
        "First, the encoder, a 2 layer LSTM. The concept of multi-layer RNNs is easy to expand from 2 to 4 layers.\n",
        "\n",
        "For a multi-layer RNN, the input sentence, $X$, after being embedded goes into the first (bottom) layer of the RNN and hidden states, $H=\\{h_1, h_2, ..., h_T\\}$, output by this layer are used as inputs to the RNN in the layer above. Thus, representing each layer with a superscript, the hidden states in the first layer are given by:\n",
        "\n",
        "$$h_t^1 = \\text{EncoderRNN}^1(e(x_t), h_{t-1}^1)$$\n",
        "The hidden states in the second layer are given by:\n",
        "\n",
        "$$h_t^2 = \\text{EncoderRNN}^2(h_t^1, h_{t-1}^2)$$\n",
        "Using a multi-layer RNN also means we'll also need an initial hidden state as input per layer, $h_0^l$, and we will also output a context vector per layer, $z^l$.\n",
        "\n",
        "Without going into too much detail about LSTMs (see [this](https://colah.github.io/posts/2015-08-Understanding-LSTMs/)blog post to learn more about them), all we need to know is that they're a type of RNN which instead of just taking in a hidden state and returning a new hidden state per time-step, also take in and return a cell state, $c_t$, per time-step.\n",
        "\n",
        "$$\\begin{align*}\n",
        "h_t &amp;= \\text{RNN}(e(x_t), h_{t-1})\\\\\n",
        "(h_t, c_t) &amp;= \\text{LSTM}(e(x_t), h_{t-1}, c_{t-1})\n",
        "\\end{align*}$$\n",
        "We can just think of $c_t$ as another type of hidden state. Similar to $h_0^l$, $c_0^l$ will be initialized to a tensor of all zeros. Also, our context vector will now be both the final hidden state and the final cell state, i.e. $z^l = (h_T^l, c_T^l)$.\n",
        "\n",
        "Extending our multi-layer equations to LSTMs, we get:\n",
        "\n",
        "$$\\begin{align*}\n",
        "(h_t^1, c_t^1) &amp;= \\text{EncoderLSTM}^1(e(x_t), (h_{t-1}^1, c_{t-1}^1))\\\\\n",
        "(h_t^2, c_t^2) &amp;= \\text{EncoderLSTM}^2(h_t^1, (h_{t-1}^2, c_{t-1}^2))\n",
        "\\end{align*}$$\n",
        "Note how only our hidden state from the first layer is passed as input to the second layer, and not the cell state.\n",
        "\n",
        "So our encoder looks something like this:\n",
        "\n",
        "<p align=\"center\"><img src=\"https://github.com/bentrevett/pytorch-seq2seq/raw/49df8404d938a6edbf729876405558cc2c2b3013/assets/seq2seq2.png\"/></p>\n",
        "\n",
        "\n",
        "\n",
        "We create this in code by making an ``Encoder`` module, which requires we inherit from torch.nn.Module and use the ``super().__init__()`` as some boilerplate code. The encoder takes the following arguments:\n",
        "\n",
        "* **input_dim** - is the size/dimensionality of the one-hot vectors that will be input to the encoder. This is equal to the input (source) vocabulary size.\n",
        "* **emb_dim** - is the dimensionality of the embedding layer. This layer converts the one-hot vectors into dense vectors with emb_dim dimensions.\n",
        "* **hid_dim** - is the dimensionality of the hidden and cell states.\n",
        "* **n_layers** - is the number of layers in the RNN.\n",
        "* **dropout** - is the amount of dropout to use. This is a regularization parameter to prevent overfitting. Check out this for more details about dropout.\n",
        "\n",
        "\n",
        "The embedding layer is created using ``nn.Embedding``, the LSTM with ``nn.LSTM`` and a dropout layer with nn.Dropout. Check the PyTorch documentation for more about these.\n",
        "\n",
        "One thing to note is that the dropout argument to the LSTM is how much dropout to apply between the layers of a multi-layer RNN, i.e. between the hidden states output from layer $l$ and those same hidden states being used for the input of layer $l+1$.\n",
        "\n",
        "In the forward method, we pass in the source sentence, $X$, which is converted into dense vectors using the embedding layer, and then dropout is applied. These embeddings are then passed into the RNN. As we pass a whole sequence to the RNN, it will automatically do the recurrent calculation of the hidden states over the whole sequence for us! Notice that we do not pass an initial hidden or cell state to the RNN. This is because, as noted in the documentation, that if no hidden/cell state is passed to the RNN, it will automatically create an initial hidden/cell state as a tensor of all zeros.\n",
        "\n",
        "The RNN returns: outputs (the top-layer hidden state for each time-step), hidden (the final hidden state for each layer, $h_T$, stacked on top of each other) and cell (the final cell state for each layer, $c_T$, stacked on top of each other).\n",
        "\n",
        "As we only need the final hidden and cell states (to make our context vector), forward only returns hidden and cell.\n",
        "\n",
        "The sizes of each of the tensors is left as comments in the code. In this implementation ``n_directions`` will always be 1, however note that bidirectional RNNs (covered in tutorial 3) will have ``n_directions`` as 2."
      ]
    },
    {
      "cell_type": "code",
      "metadata": {
        "id": "r0cYzL6sbe8O"
      },
      "source": [
        "class Encoder(nn.Module):\n",
        "  def __init__(self, input_dim, emb_dim, hid_dim, n_layers, dropout):\n",
        "    super(Encoder, self).__init__()\n",
        "    self.hid_dim = hid_dim\n",
        "    self.n_layers = n_layers\n",
        "    self.embedding = nn.Embedding(input_dim, embedding_dim=emb_dim)\n",
        "    self.rnn = nn.LSTM(emb_dim, hid_dim ,n_layers, dropout=dropout)\n",
        "    self.dropout = nn.Dropout(dropout)\n",
        "\n",
        "  def forward(self, src):\n",
        "    # src = [src len, batch size]\n",
        "    embedded = self.dropout(self.embedding(src))\n",
        "    # embedded = [src len, batch size, emb dim]\n",
        "    outputs, (h_0, c_0) = self.rnn(embedded)\n",
        "\n",
        "    \"\"\"\n",
        "    outputs = [src len, batch size, hid dim * n directions]\n",
        "    hidden (h_0) = [n layers * n directions, batch size, hid dim]\n",
        "    cell (c_0) = [n layers * n directions, batch size, hid dim]\n",
        "    ** outputs are always from the top hidden layer\n",
        "    \"\"\"\n",
        "    return h_0, c_0\n",
        "    "
      ],
      "execution_count": 46,
      "outputs": []
    },
    {
      "cell_type": "markdown",
      "metadata": {
        "id": "oHvfmunbisUm"
      },
      "source": [
        "### Decoder\n",
        "Next, we'll build our decoder, which will also be a 2-layer **LSTM**.\n",
        "\n",
        "<p align=\"center\"><img src=\"https://github.com/bentrevett/pytorch-seq2seq/raw/49df8404d938a6edbf729876405558cc2c2b3013/assets/seq2seq3.png\"/></p>\n",
        "\n",
        "The ``Decoder`` class does a single step of decoding, i.e. it ouputs single token per time-step. The first layer will receive a hidden and cell state from the previous time-step, $(s_{t-1}^1, c_{t-1}^1)$, and feeds it through the LSTM with the current embedded token, $y_t$, to produce a new hidden and cell state, $(s_t^1, c_t^1)$. The subsequent layers will use the hidden state from the layer below, $s_t^{l-1}$, and the previous hidden and cell states from their layer, $(s_{t-1}^l, c_{t-1}^l)$. This provides equations very similar to those in the encoder.\n",
        "\n",
        "$$\\begin{align*}\n",
        "(s_t^1, c_t^1) = \\text{DecoderLSTM}^1(d(y_t), (s_{t-1}^1, c_{t-1}^1))\\\\\n",
        "(s_t^2, c_t^2) = \\text{DecoderLSTM}^2(s_t^1, (s_{t-1}^2, c_{t-1}^2))\n",
        "\\end{align*}$$\n",
        "Remember that the initial hidden and cell states to our decoder are our context vectors, which are the final hidden and cell states of our encoder from the same layer, i.e. $(s_0^l,c_0^l)=z^l=(h_T^l,c_T^l)$.\n",
        "\n",
        "We then pass the hidden state from the top layer of the RNN, $s_t^L$, through a linear layer, $f$, to make a prediction of what the next token in the target (output) sequence should be, $\\hat{y}_{t+1}$.\n",
        "\n",
        "$$\\hat{y}_{t+1} = f(s_t^L)$$\n",
        "The arguments and initialization are similar to the Encoder class, except we now have an output_dim which is the size of the vocabulary for the output/target. There is also the addition of the Linear layer, used to make the predictions from the top layer hidden state.\n",
        "\n",
        "Within the forward method, we accept a batch of input tokens, previous hidden states and previous cell states. As we are only decoding one token at a time, the input tokens will always have a sequence length of 1. We unsqueeze the input tokens to add a sentence length dimension of 1. Then, similar to the encoder, we pass through an embedding layer and apply dropout. This batch of embedded tokens is then passed into the RNN with the previous hidden and cell states. This produces an output (hidden state from the top layer of the RNN), a new hidden state (one for each layer, stacked on top of each other) and a new cell state (also one per layer, stacked on top of each other). We then pass the output (after getting rid of the sentence length dimension) through the linear layer to receive our prediction. We then return the prediction, the new hidden state and the new cell state.\n",
        "\n",
        "**Note:** as we always have a sequence length of 1, we could use ``nn.LSTMCell``, instead of ``nn.LSTM``, as it is designed to handle a batch of inputs that aren't necessarily in a sequence. ``nn.LSTMCell`` is just a single cell and ``nn.LSTM`` is a wrapper around potentially multiple cells. Using the ``nn.LSTMCell`` in this case would mean we don't have to unsqueeze to add a fake sequence length dimension, but we would need one ``nn.LSTMCell`` per layer in the decoder and to ensure each ``nn.LSTMCell`` receives the correct initial hidden state from the encoder. All of this makes the code less concise - hence the decision to stick with the regular ``nn.LSTM``."
      ]
    },
    {
      "cell_type": "code",
      "metadata": {
        "id": "xjRIPuF8be5N"
      },
      "source": [
        "class Decoder(nn.Module):\n",
        "  def __init__(self, output_dim, emb_dim, hid_dim, n_layers, dropout):\n",
        "    super(Decoder, self).__init__()\n",
        "    self.output_dim = output_dim\n",
        "    self.hid_dim = hid_dim\n",
        "    self.n_layers = n_layers\n",
        "\n",
        "    self.embedding = nn.Embedding(output_dim, emb_dim)\n",
        "    self.rnn = nn.LSTM(emb_dim, hid_dim, n_layers, dropout=dropout)\n",
        "    self.fc = nn.Linear(hid_dim, output_dim)\n",
        "    self.dropout = nn.Dropout(dropout)\n",
        "\n",
        "  def forward(self, input, hidden, cell):\n",
        "    \"\"\"\n",
        "    input = [batch size]\n",
        "    hidden = [n layers * n directions, batch size, hid dim]\n",
        "    cell = [n layers * n directions, batch size, hid dim]\n",
        "    **n directions in the decoder will both always be 1, therefore:**\n",
        "      hidden = [n layers, batch size, hid dim]\n",
        "      context = [n layers, batch size, hid dim]\n",
        "    \"\"\"\n",
        "    input = input.unsqueeze(0)\n",
        "    # input = [1, batch size]\n",
        "\n",
        "    embedded = self.dropout(self.embedding(input))\n",
        "    # embedded = [1, batch size, emb dim]\n",
        "\n",
        "    output, (h_0, c_0) = self.rnn(embedded, (hidden, cell))\n",
        "    \"\"\"\n",
        "    output = [seq len, batch size, hid dim * n directions]\n",
        "    hidden = [n layers * n directions, batch size, hid dim]\n",
        "    cell = [n layers * n directions, batch size, hid dim]\n",
        "\n",
        "    **seq len and n directions will always be 1 in the decoder, therefore:**\n",
        "      output = [1, batch size, hid dim]\n",
        "      hidden (h_0) = [n layers, batch size, hid dim]\n",
        "      cell (c_0) = [n layers, batch size, hid dim]\n",
        "    \"\"\"\n",
        "    predictions = self.fc(output.squeeze(0))\n",
        "    #prediction = [batch size, output dim]\n",
        "    return predictions, h_0, c_0"
      ],
      "execution_count": 67,
      "outputs": []
    },
    {
      "cell_type": "markdown",
      "metadata": {
        "id": "-CCauecGmuhH"
      },
      "source": [
        "### Seq2Seq (Sequence to Sequence)\n",
        "For the final part of the implemenetation, we'll implement the seq2seq model. This will handle:\n",
        "\n",
        "* receiving the input/source sentence\n",
        "* using the encoder to produce the context vectors\n",
        "* using the decoder to produce the predicted output/target sentence\n",
        "\n",
        "Our full model will look like this:\n",
        "\n",
        "<p align=\"center\"><img src=\"https://github.com/bentrevett/pytorch-seq2seq/raw/49df8404d938a6edbf729876405558cc2c2b3013/assets/seq2seq4.png\"/></p>\n",
        "\n",
        "The ``Seq2Seq`` model takes in an Encoder, Decoder, and a device (used to place tensors on the GPU, if it exists).\n",
        "\n",
        "For this implementation, we have to ensure that the number of layers and the hidden (and cell) dimensions are equal in the Encoder and Decoder. This is not always the case, we do not necessarily need the same number of layers or the same hidden dimension sizes in a sequence-to-sequence model. However, if we did something like having a different number of layers then we would need to make decisions about how this is handled. For example, if our encoder has 2 layers and our decoder only has 1, how is this handled? Do we average the two context vectors output by the decoder? Do we pass both through a linear layer? Do we only use the context vector from the highest layer? Etc.\n",
        "\n",
        "Our forward method takes the source sentence, target sentence and a ``teacher-forcing ratio``. The teacher **forcing ratio** is used when training our model. When decoding, at each time-step we will predict what the next token in the target sequence will be from the previous tokens decoded, $\\hat{y}_{t+1}=f(s_t^L)$. With probability equal to the teaching forcing ratio ``(teacher_forcing_ratio)`` we will use the actual ground-truth next token in the sequence as the input to the decoder during the next time-step. However, with probability ``1 - teacher_forcing_ratio``, we will use the token that the model predicted as the next input to the model, even if it doesn't match the actual next token in the sequence.\n",
        "\n",
        "The first thing we do in the forward method is to create an outputs tensor that will store all of our predictions, $\\hat{Y}$.\n",
        "\n",
        "We then feed the input/source sentence, src, into the encoder and receive out final hidden and cell states.\n",
        "\n",
        "The first input to the decoder is the start of sequence (<sos>) token. As our trg tensor already has the <sos> token appended (all the way back when we defined the init_token in our TRG field) we get our $y_1$ by slicing into it. We know how long our target sentences should be (max_len), so we loop that many times. The last token input into the decoder is the one before the <eos> token - the <eos> token is never input into the decoder.\n",
        "\n",
        "During each iteration of the loop, we:\n",
        "\n",
        "pass the input, previous hidden and previous cell states ($y_t, s_{t-1}, c_{t-1}$) into the decoder\n",
        "receive a prediction, next hidden state and next cell state ($\\hat{y}_{t+1}, s_{t}, c_{t}$) from the decoder\n",
        "place our prediction, $\\hat{y}_{t+1}$/output in our tensor of predictions, $\\hat{Y}$/outputs\n",
        "decide if we are going to \"teacher force\" or not\n",
        "if we do, the next input is the ground-truth next token in the sequence, $y_{t+1}$/trg[t]\n",
        "if we don't, the next input is the predicted next token in the sequence, $\\hat{y}_{t+1}$/top1, which we get by doing an argmax over the output tensor\n",
        "Once we've made all of our predictions, we return our tensor full of predictions, $\\hat{Y}$/outputs.\n",
        "\n",
        "Note: our decoder loop starts at 1, not 0. This means the 0th element of our outputs tensor remains all zeros. So our trg and outputs look something like:\n",
        "\n",
        "$$\\begin{align*}\n",
        "\\text{trg} = [&lt;sos&gt;, &amp;y_1, y_2, y_3, &lt;eos&gt;]\\\\\n",
        "\\text{outputs} = [0, &amp;\\hat{y}_1, \\hat{y}_2, \\hat{y}_3, &lt;eos&gt;]\n",
        "\\end{align*}$$\n",
        "Later on when we calculate the loss, we cut off the first element of each tensor to get:\n",
        "\n",
        "$$\\begin{align*}\n",
        "\\text{trg} = [&amp;y_1, y_2, y_3, &lt;eos&gt;]\\\\\n",
        "\\text{outputs} = [&amp;\\hat{y}_1, \\hat{y}_2, \\hat{y}_3, &lt;eos&gt;]\n",
        "\\end{align*}$$"
      ]
    },
    {
      "cell_type": "code",
      "metadata": {
        "id": "kyHwa_ePKAVJ"
      },
      "source": [
        "class Seq2Seq(nn.Module):\n",
        "  def __init__(self, encoder, decoder, device):\n",
        "    super(Seq2Seq, self).__init__()\n",
        "\n",
        "    self.encoder = encoder\n",
        "    self.decoder = decoder\n",
        "    self.device = device\n",
        "\n",
        "    assert encoder.hid_dim == decoder.hid_dim, \"Hidden dimensions of encoder and decoder must be equal!\"\n",
        "    assert encoder.n_layers == decoder.n_layers, \"Encoder and decoder must have equal number of layers!\"\n",
        "\n",
        "  def forward(self, src, trg, teacher_forcing_ratio=.5):\n",
        "    \"\"\"\n",
        "    src = [src len, batch size]\n",
        "    trg = [trg len, batch size]\n",
        "    teacher_forcing_ratio is probability to use teacher forcing\n",
        "    e.g. if teacher_forcing_ratio is 0.75 we use ground-truth inputs 75% of the time\n",
        "    \"\"\"\n",
        "    trg_len, batch_size = trg.shape\n",
        "    trg_vocab_size = self.decoder.output_dim\n",
        "\n",
        "    # tensor to store decoder outputs\n",
        "    outputs = torch.zeros(trg_len, batch_size, trg_vocab_size).to(self.device)\n",
        "    # last hidden state of the encoder is used as the initial hidden state of the decoder\n",
        "    hidden, cell = self.encoder(src)\n",
        "    # first input to the decoder is the <sos> tokens\n",
        "    input = trg[0,:]\n",
        "\n",
        "    for t in range(1, trg_len):\n",
        "      \"\"\"\n",
        "      insert input token embedding, previous hidden and previous cell states\n",
        "      receive output tensor (predictions) and new hidden and cell states\n",
        "      \"\"\"\n",
        "      output, hidden, cell = self.decoder(input, hidden, cell)\n",
        "      # place predictions in a tensor holding predictions for each token\n",
        "      outputs[t] = output\n",
        "      # decide if we are going to use teacher forcing or not\n",
        "      teacher_force = random.random() < teacher_forcing_ratio\n",
        "      # get the highest predicted token from our predictions\n",
        "      top1 = output.argmax(1) \n",
        "      \"\"\"\n",
        "      if teacher forcing, use actual next token as next input\n",
        "      if not, use predicted token\n",
        "      \"\"\"\n",
        "      input = trg[t] if teacher_force else top1\n",
        "      return outputs"
      ],
      "execution_count": 80,
      "outputs": []
    },
    {
      "cell_type": "markdown",
      "metadata": {
        "id": "HmslYlbErPLh"
      },
      "source": [
        "### Training the `Seq2Seq`\n",
        "Now we have our model implemented, we can begin training it.\n",
        "\n",
        "First, we'll initialize our model. As mentioned before, the input and output dimensions are defined by the size of the vocabulary. The embedding dimesions and dropout for the encoder and decoder can be different, but the number of layers and the size of the hidden/cell states must be the same.\n",
        "\n",
        "We then define the encoder, decoder and then our Seq2Seq model, which we place on the device."
      ]
    },
    {
      "cell_type": "code",
      "metadata": {
        "id": "m2QShn1fKART",
        "colab": {
          "base_uri": "https://localhost:8080/"
        },
        "outputId": "ae950e19-eb32-446e-f21f-445b34c3ee49"
      },
      "source": [
        "INPUT_DIM = len(SRC.vocab)\n",
        "OUTPUT_DIM = len(TRG.vocab)\n",
        "ENC_EMB_DIM = 256\n",
        "DEC_EMB_DIM = 256\n",
        "HID_DIM = 512\n",
        "N_LAYERS = 2\n",
        "ENC_DROPOUT = 0.5\n",
        "DEC_DROPOUT = 0.5\n",
        "\n",
        "enc = Encoder(INPUT_DIM, ENC_EMB_DIM, HID_DIM, N_LAYERS, ENC_DROPOUT)\n",
        "dec = Decoder(OUTPUT_DIM, DEC_EMB_DIM, HID_DIM, N_LAYERS, DEC_DROPOUT)\n",
        "\n",
        "model = Seq2Seq(enc, dec, device).to(device)\n",
        "model"
      ],
      "execution_count": 81,
      "outputs": [
        {
          "output_type": "execute_result",
          "data": {
            "text/plain": [
              "Seq2Seq(\n",
              "  (encoder): Encoder(\n",
              "    (embedding): Embedding(7855, 256)\n",
              "    (rnn): LSTM(256, 512, num_layers=2, dropout=0.5)\n",
              "    (dropout): Dropout(p=0.5, inplace=False)\n",
              "  )\n",
              "  (decoder): Decoder(\n",
              "    (embedding): Embedding(5893, 256)\n",
              "    (rnn): LSTM(256, 512, num_layers=2, dropout=0.5)\n",
              "    (fc): Linear(in_features=512, out_features=5893, bias=True)\n",
              "    (dropout): Dropout(p=0.5, inplace=False)\n",
              "  )\n",
              ")"
            ]
          },
          "metadata": {
            "tags": []
          },
          "execution_count": 81
        }
      ]
    },
    {
      "cell_type": "markdown",
      "metadata": {
        "id": "4cFmH6B_xgcr"
      },
      "source": [
        "### Counting model parameters"
      ]
    },
    {
      "cell_type": "code",
      "metadata": {
        "colab": {
          "base_uri": "https://localhost:8080/"
        },
        "id": "Jk4Ul1V7wF8X",
        "outputId": "8ee7b3e9-faf6-4682-d016-8f022d0d393b"
      },
      "source": [
        "def count_trainable_params(model):\n",
        "  return sum(p.numel() for p in model.parameters()), sum(p.numel() for p in model.parameters() if p.requires_grad)\n",
        "\n",
        "n_params, trainable_params = count_trainable_params(model)\n",
        "print(f\"Total number of paramaters: {n_params:,}\\nTotal tainable parameters: {trainable_params:,}\")"
      ],
      "execution_count": 82,
      "outputs": [
        {
          "output_type": "stream",
          "text": [
            "Total number of paramaters: 13,899,013\n",
            "Total tainable parameters: 13,899,013\n"
          ],
          "name": "stdout"
        }
      ]
    },
    {
      "cell_type": "markdown",
      "metadata": {
        "id": "QCNayZYHx4Wy"
      },
      "source": [
        "### Initializing weights to the model\n",
        "\n",
        "\n",
        "Next up is initializing the weights of our model.\n",
        "\n",
        "We initialize weights in PyTorch by creating a function which we apply to our model. When using apply, the ``init_weights`` function will be called on every module and sub-module within our model. For each module we loop through all of the parameters and sample them from a uniform distribution with ``nn.init.uniform_``."
      ]
    },
    {
      "cell_type": "code",
      "metadata": {
        "colab": {
          "base_uri": "https://localhost:8080/"
        },
        "id": "kpSjHJ3JxP7k",
        "outputId": "83d1e890-45e4-44c5-8eed-95ea56428e37"
      },
      "source": [
        "def init_weights(m):\n",
        "  for name, param in m.named_parameters():\n",
        "    nn.init.uniform_(param.data, -0.8, 0.8)\n",
        "\n",
        "model.apply(init_weights)"
      ],
      "execution_count": 83,
      "outputs": [
        {
          "output_type": "execute_result",
          "data": {
            "text/plain": [
              "Seq2Seq(\n",
              "  (encoder): Encoder(\n",
              "    (embedding): Embedding(7855, 256)\n",
              "    (rnn): LSTM(256, 512, num_layers=2, dropout=0.5)\n",
              "    (dropout): Dropout(p=0.5, inplace=False)\n",
              "  )\n",
              "  (decoder): Decoder(\n",
              "    (embedding): Embedding(5893, 256)\n",
              "    (rnn): LSTM(256, 512, num_layers=2, dropout=0.5)\n",
              "    (fc): Linear(in_features=512, out_features=5893, bias=True)\n",
              "    (dropout): Dropout(p=0.5, inplace=False)\n",
              "  )\n",
              ")"
            ]
          },
          "metadata": {
            "tags": []
          },
          "execution_count": 83
        }
      ]
    },
    {
      "cell_type": "markdown",
      "metadata": {
        "id": "tTPzbZTuypNk"
      },
      "source": [
        "### Counting parameters after initializing weights"
      ]
    },
    {
      "cell_type": "code",
      "metadata": {
        "colab": {
          "base_uri": "https://localhost:8080/"
        },
        "id": "FHmhfaVEygdz",
        "outputId": "f83ce854-c41f-4017-e32c-862fc895e676"
      },
      "source": [
        "n_params, trainable_params = count_trainable_params(model)\n",
        "print(f\"Total number of paramaters: {n_params:,}\\nTotal tainable parameters: {trainable_params:,}\")"
      ],
      "execution_count": 84,
      "outputs": [
        {
          "output_type": "stream",
          "text": [
            "Total number of paramaters: 13,899,013\n",
            "Total tainable parameters: 13,899,013\n"
          ],
          "name": "stdout"
        }
      ]
    },
    {
      "cell_type": "markdown",
      "metadata": {
        "id": "J_o8NkrFy3fc"
      },
      "source": [
        "### Optimizer"
      ]
    },
    {
      "cell_type": "code",
      "metadata": {
        "id": "MDJeMi_UyxSZ"
      },
      "source": [
        "optimizer = torch.optim.Adam(model.parameters())"
      ],
      "execution_count": 85,
      "outputs": []
    },
    {
      "cell_type": "markdown",
      "metadata": {
        "id": "UFJGj1-ozK8z"
      },
      "source": [
        "### Loss Function\n",
        "Next, we define our loss function. The **``CrossEntropyLoss``** function calculates both the log softmax as well as the negative log-likelihood of our predictions.\n",
        "\n",
        "Our loss function calculates the average loss per token, however by passing the index of the ``<pad> `` token as the ``ignore_index`` argument we ignore the loss whenever the target token is a padding token."
      ]
    },
    {
      "cell_type": "code",
      "metadata": {
        "id": "hI8zVUsQzKZH"
      },
      "source": [
        "TRG_PAD_IDX = TRG.vocab.stoi[TRG.pad_token]\n",
        "criterion = nn.CrossEntropyLoss(ignore_index = TRG_PAD_IDX)"
      ],
      "execution_count": 86,
      "outputs": []
    },
    {
      "cell_type": "markdown",
      "metadata": {
        "id": "ENDIxCe0zdNU"
      },
      "source": [
        "### Defining the training loop"
      ]
    },
    {
      "cell_type": "markdown",
      "metadata": {
        "id": "6_WckYpKzaLb"
      },
      "source": [
        "\n",
        "First, we'll set the model into \"training mode\" with ``model.train()``. This will turn on dropout (and batch normalization, which we aren't using) and then iterate through our data iterator.\n",
        "\n",
        "As stated before, our decoder loop starts at 1, not 0. This means the 0th element of our outputs tensor remains all zeros. So our ``trg`` and outputs look something like:\n",
        "\n",
        "$$\\begin{align*}\n",
        "\\text{trg} = [&lt;sos&gt;, &amp;y_1, y_2, y_3, &lt;eos&gt;]\\\\\n",
        "\\text{outputs} = [0, &amp;\\hat{y}_1, \\hat{y}_2, \\hat{y}_3, &lt;eos&gt;]\n",
        "\\end{align*}$$\n",
        "\n",
        "Here, when we calculate the loss, we cut off the first element of each tensor to get:\n",
        "\n",
        "$$\\begin{align*}\n",
        "\\text{trg} = [&amp;y_1, y_2, y_3, &lt;eos&gt;]\\\\\n",
        "\\text{outputs} = [&amp;\\hat{y}_1, \\hat{y}_2, \\hat{y}_3, &lt;eos&gt;]\n",
        "\\end{align*}$$\n",
        "\n",
        "At each iteration:\n",
        "* get the source and target sentences from the batch, $X$ and $Y$\n",
        "* zero the gradients calculated from the last batch\n",
        "* feed the source and target into the model to get the output, $\\hat{Y}$\n",
        "* as the loss function only works on 2d inputs with 1d targets we need to flatten each of them with .view\n",
        " * we slice off the first column of the output and target tensors as mentioned above\n",
        "* calculate the gradients with loss.backward()\n",
        "* clip the gradients to prevent them from exploding (a common issue in RNNs)\n",
        "* update the parameters of our model by doing an optimizer step\n",
        "* sum the loss value to a running total\n",
        "\n",
        "Finally, we return the loss that is averaged over all batches."
      ]
    },
    {
      "cell_type": "code",
      "metadata": {
        "id": "5zXG3SQ2zc6_"
      },
      "source": [
        "def train(model, iterator, optimizer, criterion, clip):\n",
        "  model.train()\n",
        "  epoch_loss = 0\n",
        "  for i, batch in enumerate(iterator):\n",
        "    src = batch.src\n",
        "    trg = batch.trg\n",
        "    optimizer.zero_grad()\n",
        "    output = model(src, trg)\n",
        "    \"\"\"\n",
        "    trg = [trg len, batch size]\n",
        "    output = [trg len, batch size, output dim]\n",
        "    \"\"\"\n",
        "    output_dim = output.shape[-1]\n",
        "    output = output[1:].view(-1, output_dim)\n",
        "    trg = trg[1:].view(-1)\n",
        "\n",
        "    \"\"\"\n",
        "    trg = [(trg len - 1) * batch size]\n",
        "    output = [(trg len - 1) * batch size, output dim]\n",
        "    \"\"\"\n",
        "    loss = criterion(output, trg)\n",
        "    loss.backward()\n",
        "    torch.nn.utils.clip_grad_norm_(model.parameters(), clip)\n",
        "    optimizer.step()\n",
        "    epoch_loss += loss.item()\n",
        "    return epoch_loss / len(iterator)"
      ],
      "execution_count": 87,
      "outputs": []
    },
    {
      "cell_type": "markdown",
      "metadata": {
        "id": "RKFueuBk1fvv"
      },
      "source": [
        "### Defining the Evaluation Loop\n",
        "\n",
        "Our evaluation loop is similar to our training loop, however as we aren't updating any parameters we don't need to pass an optimizer or a clip value.\n",
        "\n",
        "We must remember to set the model to evaluation mode with ``model.eval()``. This will turn off dropout (and batch normalization, if used).\n",
        "\n",
        "We use the with ``torch.no_grad()`` block to ensure no gradients are calculated within the block. This reduces memory consumption and speeds things up.\n",
        "\n",
        "The iteration loop is similar (without the parameter updates), however we must ensure we turn teacher forcing off for evaluation. This will cause the model to only use it's own predictions to make further predictions within a sentence, which mirrors how it would be used in deployment."
      ]
    },
    {
      "cell_type": "code",
      "metadata": {
        "id": "pzBQJ1ubzc4G"
      },
      "source": [
        "def evaluate(model, iterator, criterion):\n",
        "  model.eval()\n",
        "  epoch_loss = 0\n",
        "  with torch.no_grad():\n",
        "    for i, batch in enumerate(iterator):\n",
        "      src = batch.src\n",
        "      trg = batch.trg\n",
        "      output = model(src, trg, 0) #turn off teacher forcing\n",
        "      \"\"\"\n",
        "      trg = [trg len, batch size]\n",
        "      output = [trg len, batch size, output dim]\n",
        "      \"\"\"\n",
        "      output_dim = output.shape[-1]\n",
        "      output = output[1:].view(-1, output_dim)\n",
        "      trg = trg[1:].view(-1)\n",
        "      \"\"\"\n",
        "      trg = [(trg len - 1) * batch size]\n",
        "      output = [(trg len - 1) * batch size, output dim]\n",
        "      \"\"\"\n",
        "      loss = criterion(output, trg)\n",
        "      epoch_loss += loss.item()\n",
        "  return epoch_loss / len(iterator)"
      ],
      "execution_count": 88,
      "outputs": []
    },
    {
      "cell_type": "markdown",
      "metadata": {
        "id": "o427hgJVzc1J"
      },
      "source": [
        "Next, we'll create a function that we'll use to tell us how long an epoch takes."
      ]
    },
    {
      "cell_type": "code",
      "metadata": {
        "id": "M0fG0_zqzcyM"
      },
      "source": [
        "def epoch_time(start_time, end_time):\n",
        "    elapsed_time = end_time - start_time\n",
        "    elapsed_mins = int(elapsed_time / 60)\n",
        "    elapsed_secs = int(elapsed_time - (elapsed_mins * 60))\n",
        "    return elapsed_mins, elapsed_secs"
      ],
      "execution_count": 89,
      "outputs": []
    },
    {
      "cell_type": "markdown",
      "metadata": {
        "id": "ypRrRRVF2wCF"
      },
      "source": [
        "### Training the model.\n",
        "\n",
        "At each epoch, we'll be checking if our model has achieved the best validation loss so far. If it has, we'll update our best validation loss and save the parameters of our model **(called ``state_dict`` in PyTorch)**. Then, when we come to test our model, we'll use the saved parameters used to achieve the best validation loss.\n",
        "\n",
        "We'll be printing out both the loss and the perplexity at each epoch. It is easier to see a change in perplexity than a change in loss as the numbers are much bigger."
      ]
    },
    {
      "cell_type": "code",
      "metadata": {
        "id": "_c1aZgCE3BzD"
      },
      "source": [
        "import time"
      ],
      "execution_count": 90,
      "outputs": []
    },
    {
      "cell_type": "code",
      "metadata": {
        "colab": {
          "base_uri": "https://localhost:8080/"
        },
        "id": "BeE-yoyjzcuJ",
        "outputId": "c581bcd4-2bb4-4756-9df0-198bbdcb86f9"
      },
      "source": [
        "N_EPOCHS = 10\n",
        "CLIP = 1\n",
        "best_valid_loss = float('inf')\n",
        "for epoch in range(N_EPOCHS):\n",
        "    start_time = time.time()\n",
        "    train_loss = train(model, train_iterator, optimizer, criterion, CLIP)\n",
        "    valid_loss = evaluate(model, validation_iterator, criterion)\n",
        "    end_time = time.time()\n",
        "    epoch_mins, epoch_secs = epoch_time(start_time, end_time)\n",
        "    if valid_loss < best_valid_loss:\n",
        "        best_valid_loss = valid_loss\n",
        "        torch.save(model.state_dict(), 'best-model.pt')\n",
        "    print(f'Epoch: {epoch+1:02} | Time: {epoch_mins}m {epoch_secs}s')\n",
        "    print(f'\\tTrain Loss: {train_loss:.3f} | Train PPL: {math.exp(train_loss):7.3f}')\n",
        "    print(f'\\t Val. Loss: {valid_loss:.3f} |  Val. PPL: {math.exp(valid_loss):7.3f}')"
      ],
      "execution_count": 93,
      "outputs": [
        {
          "output_type": "stream",
          "text": [
            "Epoch: 01 | Time: 0m 0s\n",
            "\tTrain Loss: 0.041 | Train PPL:   1.041\n",
            "\t Val. Loss: 9.165 |  Val. PPL: 9558.906\n",
            "Epoch: 02 | Time: 0m 0s\n",
            "\tTrain Loss: 0.041 | Train PPL:   1.041\n",
            "\t Val. Loss: 9.180 |  Val. PPL: 9700.942\n",
            "Epoch: 03 | Time: 0m 0s\n",
            "\tTrain Loss: 0.040 | Train PPL:   1.041\n",
            "\t Val. Loss: 9.151 |  Val. PPL: 9424.860\n",
            "Epoch: 04 | Time: 0m 0s\n",
            "\tTrain Loss: 0.040 | Train PPL:   1.041\n",
            "\t Val. Loss: 9.156 |  Val. PPL: 9468.162\n",
            "Epoch: 05 | Time: 0m 0s\n",
            "\tTrain Loss: 0.040 | Train PPL:   1.041\n",
            "\t Val. Loss: 9.170 |  Val. PPL: 9605.405\n",
            "Epoch: 06 | Time: 0m 0s\n",
            "\tTrain Loss: 0.040 | Train PPL:   1.041\n",
            "\t Val. Loss: 9.155 |  Val. PPL: 9457.176\n",
            "Epoch: 07 | Time: 0m 0s\n",
            "\tTrain Loss: 0.041 | Train PPL:   1.041\n",
            "\t Val. Loss: 9.151 |  Val. PPL: 9425.137\n",
            "Epoch: 08 | Time: 0m 0s\n",
            "\tTrain Loss: 0.041 | Train PPL:   1.042\n",
            "\t Val. Loss: 9.153 |  Val. PPL: 9446.761\n",
            "Epoch: 09 | Time: 0m 0s\n",
            "\tTrain Loss: 0.040 | Train PPL:   1.041\n",
            "\t Val. Loss: 9.147 |  Val. PPL: 9381.689\n",
            "Epoch: 10 | Time: 0m 0s\n",
            "\tTrain Loss: 0.040 | Train PPL:   1.041\n",
            "\t Val. Loss: 9.134 |  Val. PPL: 9262.793\n"
          ],
          "name": "stdout"
        }
      ]
    },
    {
      "cell_type": "markdown",
      "metadata": {
        "id": "_wcX7LHS37vu"
      },
      "source": [
        "### Evaluating the model."
      ]
    },
    {
      "cell_type": "code",
      "metadata": {
        "colab": {
          "base_uri": "https://localhost:8080/"
        },
        "id": "3CZe0qV0zcrB",
        "outputId": "1cbc0529-f632-45dd-e563-c07b046cfb98"
      },
      "source": [
        "model.load_state_dict(torch.load('best-model.pt'))\n",
        "\n",
        "test_loss = evaluate(model, test_iterator, criterion)\n",
        "\n",
        "print(f'| Test Loss: {test_loss:.3f} | Test PPL: {math.exp(test_loss):7.3f} |')"
      ],
      "execution_count": 92,
      "outputs": [
        {
          "output_type": "stream",
          "text": [
            "| Test Loss: 9.175 | Test PPL: 9653.451 |\n"
          ],
          "name": "stdout"
        }
      ]
    },
    {
      "cell_type": "markdown",
      "metadata": {
        "id": "N8aj2njr4LO0"
      },
      "source": [
        "### What's Next?\n",
        "\n",
        "In the following notebook we'll implement a model that achieves improved test perplexity, but only uses a single layer in the encoder and the decoder.\n",
        "\n",
        "\n",
        "#### Credits\n",
        "[bentrevett](https://github.com/bentrevett/pytorch-seq2seq/blob/master/1%20-%20Sequence%20to%20Sequence%20Learning%20with%20Neural%20Networks.ipynb)"
      ]
    },
    {
      "cell_type": "code",
      "metadata": {
        "id": "cbWGxOst4Abj"
      },
      "source": [
        ""
      ],
      "execution_count": null,
      "outputs": []
    }
  ]
}