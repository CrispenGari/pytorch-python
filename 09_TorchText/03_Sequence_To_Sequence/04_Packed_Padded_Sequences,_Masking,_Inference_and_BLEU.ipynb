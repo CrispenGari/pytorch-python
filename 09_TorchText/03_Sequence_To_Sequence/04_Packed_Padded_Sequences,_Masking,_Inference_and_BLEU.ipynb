{
  "nbformat": 4,
  "nbformat_minor": 0,
  "metadata": {
    "colab": {
      "name": "04_Packed_Padded_Sequences,_Masking,_Inference_and_BLEU.ipynb",
      "provenance": [],
      "collapsed_sections": [],
      "toc_visible": true
    },
    "kernelspec": {
      "name": "python3",
      "display_name": "Python 3"
    },
    "language_info": {
      "name": "python"
    },
    "accelerator": "GPU"
  },
  "cells": [
    {
      "cell_type": "markdown",
      "metadata": {
        "id": "1IdR-cvjB98k"
      },
      "source": [
        "### Packed Padded Sequences, Masking, Inference and BLEU\n",
        "\n",
        "In this notebook we will be adding a few improvements - `packed padded sequences` and `masking` - to the model from the previous notebook. Packed padded sequences are used to tell our RNN to skip over padding tokens in our encoder. Masking explicitly forces the model to ignore certain values, such as attention over padded elements. Both of these techniques are commonly used in NLP.\n",
        "\n",
        "We will also look at how to use our model for inference for the first time, by giving it a sentence, seeing what it translates it as and seeing where exactly it pays attention to when translating each word.\n",
        "\n",
        "Finally, we'll use the `BLEU` metric to measure the quality of our translations.\n",
        "\n",
        "So basically in this notebook we are going to pay a closer look to a practical example."
      ]
    },
    {
      "cell_type": "markdown",
      "metadata": {
        "id": "c3xmupDLDh39"
      },
      "source": [
        "### Data Preparation\n",
        "Again we still prepare the data just like from the previous notebooks. We will also import `matplotlib.pyplot` so that we will visualize the attention."
      ]
    },
    {
      "cell_type": "code",
      "metadata": {
        "id": "e27sHvySBvdl"
      },
      "source": [
        "import torch\n",
        "from torch import nn\n",
        "from torch.nn  import functional as F\n",
        "import spacy, math, random\n",
        "import numpy as np\n",
        "from torchtext.legacy import datasets, data\n",
        "import time\n",
        "from prettytable import PrettyTable\n",
        "from matplotlib import pyplot as plt"
      ],
      "execution_count": 1,
      "outputs": []
    },
    {
      "cell_type": "markdown",
      "metadata": {
        "id": "qULeoHgED4sK"
      },
      "source": [
        "### Setting seeds"
      ]
    },
    {
      "cell_type": "code",
      "metadata": {
        "id": "ARQsq54OD2Le"
      },
      "source": [
        "SEED = 42\n",
        "\n",
        "np.random.seed(SEED)\n",
        "torch.manual_seed(SEED)\n",
        "random.seed(SEED)\n",
        "torch.cuda.manual_seed(SEED)\n",
        "torch.backends.cudnn.deteministic = True"
      ],
      "execution_count": 2,
      "outputs": []
    },
    {
      "cell_type": "markdown",
      "metadata": {
        "id": "at1-Ov4CD_Fp"
      },
      "source": [
        "### Loading the German and English models."
      ]
    },
    {
      "cell_type": "code",
      "metadata": {
        "colab": {
          "base_uri": "https://localhost:8080/"
        },
        "id": "5BLu9yx9D7LO",
        "outputId": "a1a4712b-c39a-40cd-8ef6-11c438308fb5"
      },
      "source": [
        "import spacy\n",
        "import spacy.cli\n",
        "spacy.cli.download('de_core_news_sm')\n",
        "\n",
        "import de_core_news_sm, en_core_web_sm\n",
        "\n",
        "spacy_de = spacy.load('de_core_news_sm')\n",
        "spacy_en = spacy.load('en_core_web_sm')"
      ],
      "execution_count": 3,
      "outputs": [
        {
          "output_type": "stream",
          "text": [
            "\u001b[38;5;2m✔ Download and installation successful\u001b[0m\n",
            "You can now load the model via spacy.load('de_core_news_sm')\n"
          ],
          "name": "stdout"
        }
      ]
    },
    {
      "cell_type": "markdown",
      "metadata": {
        "id": "q4fqzsWJELJi"
      },
      "source": [
        "### Preprocessing function that tokenizes sentences."
      ]
    },
    {
      "cell_type": "code",
      "metadata": {
        "id": "YPUI0OgJEHF_"
      },
      "source": [
        "def tokenize_de(sent):\n",
        "  return [tok.text for tok in spacy_de.tokenizer(sent)]\n",
        "\n",
        "def tokenize_en(sent):\n",
        "  return [tok.text for tok in spacy_en.tokenizer(sent)]"
      ],
      "execution_count": 4,
      "outputs": []
    },
    {
      "cell_type": "markdown",
      "metadata": {
        "id": "JPKy6rBYEV_t"
      },
      "source": [
        "### Creating the `Fields`\n",
        "\n",
        "**Now**, When using packed padded sequences, we need to tell `PyTorch` how long the actual `(non-padded)` sequences are. Luckily for us, `TorchText`'s Field objects allow us to use the `include_lengths` argument, this will cause our batch.`src` to be a tuple. The first element of the tuple is the same as before, a batch of numericalized source sentence as a tensor, and the second element is the `non-padded lengths` of each source sentence within the batch.\n",
        "\n",
        "**Note:** We have only used `include_lengths` arg to `True` on the `SRC`"
      ]
    },
    {
      "cell_type": "code",
      "metadata": {
        "id": "llr-QxqgERqG"
      },
      "source": [
        "SRC = data.Field(\n",
        "    tokenize = tokenize_de,\n",
        "    lower= True,\n",
        "    init_token = \"<sos>\",\n",
        "     eos_token = \"<eos>\",\n",
        "     include_lengths =True\n",
        ")\n",
        "TRG = data.Field(\n",
        "    tokenize = tokenize_en,\n",
        "    lower= True,\n",
        "    init_token = \"<sos>\",\n",
        "     eos_token = \"<eos>\"\n",
        ")"
      ],
      "execution_count": 5,
      "outputs": []
    },
    {
      "cell_type": "markdown",
      "metadata": {
        "id": "8ucGQ1tZEiOB"
      },
      "source": [
        "### Loading `Multi30k` dataset.\n"
      ]
    },
    {
      "cell_type": "code",
      "metadata": {
        "colab": {
          "base_uri": "https://localhost:8080/"
        },
        "id": "FG8vOZz2EcrR",
        "outputId": "f08bc455-9e18-4b79-b1a8-c5b48afcc7a3"
      },
      "source": [
        "train_data, valid_data, test_data = datasets.Multi30k.splits(\n",
        "    exts=('.de', '.en'),\n",
        "    fields = (SRC, TRG)\n",
        ")"
      ],
      "execution_count": 6,
      "outputs": [
        {
          "output_type": "stream",
          "text": [
            "downloading training.tar.gz\n"
          ],
          "name": "stdout"
        },
        {
          "output_type": "stream",
          "text": [
            "training.tar.gz: 100%|██████████| 1.21M/1.21M [00:01<00:00, 1.15MB/s]\n"
          ],
          "name": "stderr"
        },
        {
          "output_type": "stream",
          "text": [
            "downloading validation.tar.gz\n"
          ],
          "name": "stdout"
        },
        {
          "output_type": "stream",
          "text": [
            "validation.tar.gz: 100%|██████████| 46.3k/46.3k [00:00<00:00, 175kB/s]\n"
          ],
          "name": "stderr"
        },
        {
          "output_type": "stream",
          "text": [
            "downloading mmt_task1_test2016.tar.gz\n"
          ],
          "name": "stdout"
        },
        {
          "output_type": "stream",
          "text": [
            "mmt_task1_test2016.tar.gz: 100%|██████████| 66.2k/66.2k [00:00<00:00, 165kB/s]\n"
          ],
          "name": "stderr"
        }
      ]
    },
    {
      "cell_type": "markdown",
      "metadata": {
        "id": "GU4ij9uPFAYV"
      },
      "source": [
        "### Checking if we have loaded the data corectly."
      ]
    },
    {
      "cell_type": "code",
      "metadata": {
        "colab": {
          "base_uri": "https://localhost:8080/"
        },
        "id": "gkMA5rIpE_zE",
        "outputId": "227ac381-2744-45ab-9933-114fb2883964"
      },
      "source": [
        "from prettytable import PrettyTable\n",
        "def tabulate(column_names, data):\n",
        "  table = PrettyTable(column_names)\n",
        "  table.title= \"VISUALIZING SETS EXAMPLES\"\n",
        "  table.align[column_names[0]] = 'l'\n",
        "  table.align[column_names[1]] = 'r'\n",
        "  for row in data:\n",
        "    table.add_row(row)\n",
        "  print(table)\n",
        "\n",
        "column_names = [\"SUBSET\", \"EXAMPLE(s)\"]\n",
        "row_data = [\n",
        "        [\"training\", len(train_data)],\n",
        "        ['validation', len(valid_data)],\n",
        "        ['test', len(test_data)]\n",
        "]\n",
        "tabulate(column_names, row_data)"
      ],
      "execution_count": 7,
      "outputs": [
        {
          "output_type": "stream",
          "text": [
            "+-----------------------------+\n",
            "|  VISUALIZING SETS EXAMPLES  |\n",
            "+--------------+--------------+\n",
            "| SUBSET       |   EXAMPLE(s) |\n",
            "+--------------+--------------+\n",
            "| training     |        29000 |\n",
            "| validation   |         1014 |\n",
            "| test         |         1000 |\n",
            "+--------------+--------------+\n"
          ],
          "name": "stdout"
        }
      ]
    },
    {
      "cell_type": "markdown",
      "metadata": {
        "id": "rT_SvmG4FPkC"
      },
      "source": [
        "### Checking a single example, of the `SRC` and the `TRG`."
      ]
    },
    {
      "cell_type": "code",
      "metadata": {
        "colab": {
          "base_uri": "https://localhost:8080/"
        },
        "id": "acqSqqFMFUQ8",
        "outputId": "53e3e712-4e1f-4fd1-8b80-326401efec4b"
      },
      "source": [
        "print(vars(train_data[0]))"
      ],
      "execution_count": 8,
      "outputs": [
        {
          "output_type": "stream",
          "text": [
            "{'src': ['zwei', 'junge', 'weiße', 'männer', 'sind', 'im', 'freien', 'in', 'der', 'nähe', 'vieler', 'büsche', '.'], 'trg': ['two', 'young', ',', 'white', 'males', 'are', 'outside', 'near', 'many', 'bushes', '.']}\n"
          ],
          "name": "stdout"
        }
      ]
    },
    {
      "cell_type": "markdown",
      "metadata": {
        "id": "BX-4SSIkEzDr"
      },
      "source": [
        "### Building the vocabulary.\n",
        "Just like from the previous notebook all the tokens that apears less than 2, are automatically converted to unknown token `<unk>`."
      ]
    },
    {
      "cell_type": "code",
      "metadata": {
        "id": "TSY3U52REuTX"
      },
      "source": [
        "SRC.build_vocab(train_data, min_freq=2)\n",
        "TRG.build_vocab(train_data, min_freq=2)"
      ],
      "execution_count": 9,
      "outputs": []
    },
    {
      "cell_type": "markdown",
      "metadata": {
        "id": "0yy0sn0DFmyq"
      },
      "source": [
        "### Device"
      ]
    },
    {
      "cell_type": "code",
      "metadata": {
        "colab": {
          "base_uri": "https://localhost:8080/"
        },
        "id": "etl3Au1AFmIW",
        "outputId": "73a06feb-2e27-4248-bbe1-077d4d07e422"
      },
      "source": [
        "device = torch.device('cuda' if torch.cuda.is_available() else 'cpu')\n",
        "device"
      ],
      "execution_count": 10,
      "outputs": [
        {
          "output_type": "execute_result",
          "data": {
            "text/plain": [
              "device(type='cuda')"
            ]
          },
          "metadata": {
            "tags": []
          },
          "execution_count": 10
        }
      ]
    },
    {
      "cell_type": "markdown",
      "metadata": {
        "id": "8BTkCbKtFsyC"
      },
      "source": [
        "### Creating Iterators.\n",
        "\n",
        "One quirk about packed padded sequences is that all elements in the batch need to be **sorted** by their `non-padded` lengths in descending order, i.e. the first sentence in the batch needs to be the longest. \n",
        "\n",
        "We use two arguments of the iterator to handle this, `sort_within_batch` which tells the iterator that the contents of the batch need to be sorted, and `sort_key` a function which tells the iterator how to sort the elements in the batch. Here, we sort by the length of the src sentence.\n"
      ]
    },
    {
      "cell_type": "code",
      "metadata": {
        "id": "J6m1R8qTFpnr"
      },
      "source": [
        "BATCH_SIZE = 128\n",
        "sort_key = lambda x: len(x.src)\n",
        "\n",
        "train_iterator, valid_iterator, test_iterator = data.BucketIterator.splits(\n",
        "    (train_data, valid_data, test_data),\n",
        "    device = device,\n",
        "    batch_size = BATCH_SIZE,\n",
        "    sort_key= sort_key,\n",
        "    sort_within_batch = True\n",
        ")"
      ],
      "execution_count": 29,
      "outputs": []
    },
    {
      "cell_type": "markdown",
      "metadata": {
        "id": "wvencNmnF0mi"
      },
      "source": [
        "### Encoder.\n",
        "\n",
        "**The changes here all within the forward method. It now accepts the lengths of the source sentences as well as the sentences themselves.**\n",
        "\n",
        "\n",
        "After the source sentence (padded automatically within the iterator) has been embedded, we can then use pack_padded_sequence on it with the lengths of the sentences. Note that the tensor containing the lengths of the sequences must be a `CPU` tensor as of the latest version of PyTorch, which we explicitly do so with `to('cpu')`. `packed_embedded` will then be our packed padded sequence. This can be then fed to our RNN as normal which will return `packed_outputs`, a packed tensor containing all of the hidden states from the sequence, and hidden which is simply the final hidden state from our sequence. hidden is a standard tensor and not packed in any way, the only difference is that as the input was a packed sequence, this tensor is from the final `non-padded` element in the sequence.\n",
        "\n",
        "We then unpack our `packed_outputs` using `pad_packed_sequence` which returns the outputs and the lengths of each, which we don't need.\n",
        "\n",
        "The first dimension of outputs is the padded sequence lengths however due to using a packed padded sequence the values of tensors when a padding token was the input will be all zeros."
      ]
    },
    {
      "cell_type": "code",
      "metadata": {
        "id": "dzzTySv2FxRj"
      },
      "source": [
        "class Encoder(nn.Module):\n",
        "  def __init__(self, input_dim, emb_dim, enc_hid_dim, dec_hid_dim, dropout):\n",
        "    super(Encoder, self).__init__()\n",
        "\n",
        "    self.embedding = nn.Embedding(input_dim, embedding_dim=emb_dim)\n",
        "    self.gru = nn.GRU(emb_dim, enc_hid_dim, bidirectional = True)\n",
        "    self.fc = nn.Linear(enc_hid_dim * 2, dec_hid_dim)\n",
        "    self.dropout = nn.Dropout(dropout)\n",
        "\n",
        "  def forward(self, src, src_len):\n",
        "    \"\"\" \n",
        "    src = [src len, batch size]\n",
        "    src_len = [batch size]\n",
        "    \"\"\"\n",
        "    embedded = self.dropout(self.embedding(src)) # embedded = [src len, batch size, emb dim]\n",
        "    # need to explicitly put lengths on cpu!\n",
        "    packed_embedded = nn.utils.rnn.pack_padded_sequence(embedded, src_len.to('cpu'))\n",
        "    packed_outputs, hidden = self.gru(packed_embedded)\n",
        "    \"\"\"\n",
        "    packed_outputs is a packed sequence containing all hidden states\n",
        "    hidden is now from the final non-padded element in the batch\n",
        "    \"\"\"\n",
        "    outputs, _ = nn.utils.rnn.pad_packed_sequence(packed_outputs) \n",
        "    \"\"\"\n",
        "    outputs is now a non-packed sequence, all hidden states obtained\n",
        "    when the input is a pad token are all zeros\n",
        "  \n",
        "    outputs = [src len, batch size, hid dim * num directions]\n",
        "    hidden = [n layers * num directions, batch size, hid dim]\n",
        "\n",
        "    hidden is stacked [forward_1, backward_1, forward_2, backward_2, ...]\n",
        "    outputs are always from the last layer\n",
        "\n",
        "    hidden [-2, :, : ] is the last of the forwards RNN \n",
        "    hidden [-1, :, : ] is the last of the backwards RNN\n",
        "\n",
        "    initial decoder hidden is final hidden state of the forwards and backwards \n",
        "    encoder RNNs fed through a linear layer\n",
        "    \"\"\"\n",
        "    hidden = torch.tanh(self.fc(torch.cat((hidden[-2,:,:], hidden[-1,:,:]), dim = 1)))\n",
        "\n",
        "    \"\"\"\n",
        "    outputs = [src len, batch size, enc hid dim * 2]\n",
        "    hidden = [batch size, dec hid dim]\n",
        "    \"\"\"\n",
        "    return outputs, hidden"
      ],
      "execution_count": 12,
      "outputs": []
    },
    {
      "cell_type": "markdown",
      "metadata": {
        "id": "2zpt3x2BIgBa"
      },
      "source": [
        "\n",
        "### Attention Layer\n",
        "\n",
        "The attention module is where we calculate the attention values over the source sentence.\n",
        "\n",
        "Previously, we allowed this module to \"pay attention\" to padding tokens within the source sentence. However, using masking, we can force the attention to only be over non-padding elements.\n",
        "\n",
        "The forward method now takes a mask input. This is a **[batch size, source sentence length]** tensor that is `1` when the source sentence token is not a padding token, and `0` when it is a padding token. For example, if the source sentence is: `[\"hello\", \"how\", \"are\", \"you\", \"?\", <pad>, <pad>]`, then the mask would be `[1, 1, 1, 1, 1, 0, 0]`.\n",
        "\n",
        "We apply the mask after the attention has been calculated, but before it has been normalized by the softmax function. It is applied using `masked_fill`. **This fills the tensor at each element where the first argument `(mask == 0)` is true, with the value given by the second argument (-1e10).** In other words, it will take the un-normalized attention values, and change the attention values over padded elements to be `-1e10`. As these numbers will be miniscule compared to the other values they will become zero when passed through the softmax layer, ensuring no attention is payed to padding tokens in the source sentence."
      ]
    },
    {
      "cell_type": "code",
      "metadata": {
        "id": "DSCzZghhF0VT"
      },
      "source": [
        "class Attention(nn.Module):\n",
        "  def __init__(self, enc_hid_dim, dec_hid_dim):\n",
        "    super(Attention, self).__init__()\n",
        "    self.attn = nn.Linear((enc_hid_dim * 2) + dec_hid_dim, dec_hid_dim)\n",
        "    self.v = nn.Linear(dec_hid_dim, 1, bias = False)\n",
        "\n",
        "  def forward(self, hidden, encoder_outputs, mask):\n",
        "    \"\"\"\n",
        "    hidden = [batch size, dec hid dim]\n",
        "    encoder_outputs = [src len, batch size, enc hid dim * 2]\n",
        "    \"\"\"\n",
        "    batch_size = encoder_outputs.shape[1]\n",
        "    src_len = encoder_outputs.shape[0]\n",
        "    # repeat decoder hidden state src_len times\n",
        "    hidden = hidden.unsqueeze(1).repeat(1, src_len, 1)\n",
        "    encoder_outputs = encoder_outputs.permute(1, 0, 2)\n",
        "\n",
        "    \"\"\"\n",
        "    hidden = [batch size, src len, dec hid dim]\n",
        "    encoder_outputs = [batch size, src len, enc hid dim * 2]\n",
        "    \"\"\"\n",
        "    energy = torch.tanh(self.attn(torch.cat((hidden, encoder_outputs), dim = 2))) # energy = [batch size, src len, dec hid dim]\n",
        "    attention = self.v(energy).squeeze(2) # attention= [batch size, src len]\n",
        "    attention = attention.masked_fill(mask == 0, -1e10)\n",
        "    return F.softmax(attention, dim=1)\n",
        "    "
      ],
      "execution_count": 13,
      "outputs": []
    },
    {
      "cell_type": "markdown",
      "metadata": {
        "id": "rbtwxnYQNKDZ"
      },
      "source": [
        "### Decoder.\n",
        "\n",
        "The decoder only needs a few small changes. It needs to accept a mask over the source sentence and pass this to the attention module. As we want to view the values of attention during inference, we also return the attention tensor."
      ]
    },
    {
      "cell_type": "code",
      "metadata": {
        "id": "9GE6BLCcF0TG"
      },
      "source": [
        "class Decoder(nn.Module):\n",
        "  def __init__(self, output_dim, emb_dim, enc_hid_dim, dec_hid_dim, dropout, attention):\n",
        "    super(Decoder, self).__init__()\n",
        "    self.output_dim = output_dim\n",
        "    self.attention = attention\n",
        "\n",
        "    self.embedding = nn.Embedding(output_dim, emb_dim)\n",
        "    self.gru = nn.GRU((enc_hid_dim * 2) + emb_dim, dec_hid_dim)\n",
        "    self.fc = nn.Linear((enc_hid_dim * 2) + dec_hid_dim + emb_dim, output_dim)\n",
        "    self.dropout = nn.Dropout(dropout)\n",
        "        \n",
        "  def forward(self, input, hidden, encoder_outputs, mask):\n",
        "    \"\"\"\n",
        "    input = [batch size]\n",
        "    hidden = [batch size, dec hid dim]\n",
        "    encoder_outputs = [src len, batch size, enc hid dim * 2]\n",
        "    mask = [batch size, src len]\n",
        "    \"\"\"\n",
        "    input = input.unsqueeze(0) # input = [1, batch size]\n",
        "    embedded = self.dropout(self.embedding(input)) # embedded = [1, batch size, emb dim]\n",
        "    a = self.attention(hidden, encoder_outputs, mask)# a = [batch size, src len]\n",
        "    a = a.unsqueeze(1) # a = [batch size, 1, src len]\n",
        "    encoder_outputs = encoder_outputs.permute(1, 0, 2) # encoder_outputs = [batch size, src len, enc hid dim * 2]\n",
        "    weighted = torch.bmm(a, encoder_outputs) # weighted = [batch size, 1, enc hid dim * 2]\n",
        "    weighted = weighted.permute(1, 0, 2) # weighted = [1, batch size, enc hid dim * 2]\n",
        "    rnn_input = torch.cat((embedded, weighted), dim = 2) # rnn_input = [1, batch size, (enc hid dim * 2) + emb dim]\n",
        "    output, hidden = self.gru(rnn_input, hidden.unsqueeze(0))\n",
        "    \n",
        "    \"\"\"\n",
        "    output = [seq len, batch size, dec hid dim * n directions]\n",
        "    hidden = [n layers * n directions, batch size, dec hid dim]\n",
        "    \n",
        "    seq len, n layers and n directions will always be 1 in this decoder, therefore:\n",
        "    output = [1, batch size, dec hid dim]\n",
        "    hidden = [1, batch size, dec hid dim]\n",
        "    this also means that output == hidden\n",
        "    \"\"\"\n",
        "    assert (output == hidden).all()\n",
        "    embedded = embedded.squeeze(0)\n",
        "    output = output.squeeze(0)\n",
        "    weighted = weighted.squeeze(0)\n",
        "\n",
        "    prediction = self.fc(torch.cat((output, weighted, embedded), dim = 1)) # prediction = [batch size, output dim]\n",
        "    return prediction, hidden.squeeze(0), a.squeeze(1)"
      ],
      "execution_count": 51,
      "outputs": []
    },
    {
      "cell_type": "markdown",
      "metadata": {
        "id": "NjRI__w3PHY4"
      },
      "source": [
        "### Seq2Seq Model\n",
        "\n",
        "The overarching `seq2seq` model also needs a few changes for packed padded sequences, masking and inference.\n",
        "\n",
        "We need to tell it what the indexes are for the pad token and also pass the source sentence lengths as input to the forward method.\n",
        "\n",
        "We use the pad token index to create the masks, by creating a mask tensor that is 1 wherever the source sentence is not equal to the pad token. This is all done within the `create_mask` function.\n",
        "\n",
        "The sequence lengths as needed to pass to the encoder to use packed padded sequences.\n",
        "\n",
        "The attention at each `time-step` is stored in the attentions"
      ]
    },
    {
      "cell_type": "code",
      "metadata": {
        "id": "6sqjb7-zF0QK"
      },
      "source": [
        "class Seq2Seq(nn.Module):\n",
        "  def __init__(self, encoder, decoder, src_pad_idx, device):\n",
        "    super().__init__()\n",
        "    self.encoder = encoder\n",
        "    self.decoder = decoder\n",
        "    self.device = device\n",
        "    self.src_pad_idx = src_pad_idx\n",
        "  \n",
        "  def create_mask(self, src):\n",
        "    mask = (src != self.src_pad_idx).permute(1, 0)\n",
        "    return mask\n",
        "  def forward(self, src, src_len, trg, teacher_forcing_ratio = 0.5):\n",
        "    \"\"\"\n",
        "    src = [src len, batch size]\n",
        "    src_len = [batch size]\n",
        "    trg = [trg len, batch size]\n",
        "    teacher_forcing_ratio is probability to use teacher forcing\n",
        "    e.g. if teacher_forcing_ratio is 0.75 we use teacher forcing 75% of the time\n",
        "    \"\"\"\n",
        "    trg_len, batch_size = trg.shape\n",
        "    trg_vocab_size = self.decoder.output_dim\n",
        "        \n",
        "    # tensor to store decoder outputs\n",
        "    outputs = torch.zeros(trg_len, batch_size, trg_vocab_size).to(self.device)\n",
        "    \"\"\"\n",
        "    encoder_outputs is all hidden states of the input sequence, back and forwards\n",
        "    hidden is the final forward and backward hidden states, passed through a linear layer\n",
        "    \"\"\"\n",
        "    encoder_outputs, hidden = self.encoder(src, src_len)     \n",
        "    # first input to the decoder is the <sos> tokens\n",
        "    input = trg[0,:]\n",
        "    mask = self.create_mask(src) # mask = [batch size, src len]\n",
        "    for t in range(1, trg_len):\n",
        "      # insert input token embedding, previous hidden state and all encoder hidden states and mask\n",
        "      # receive output tensor (predictions) and new hidden state\n",
        "      output, hidden, _ = self.decoder(input, hidden, encoder_outputs, mask)\n",
        "      \n",
        "      # place predictions in a tensor holding predictions for each token\n",
        "      outputs[t] = output\n",
        "      \n",
        "      # decide if we are going to use teacher forcing or not\n",
        "      teacher_force = random.random() < teacher_forcing_ratio\n",
        "      \n",
        "      # get the highest predicted token from our predictions\n",
        "      top1 = output.argmax(1) \n",
        "      \n",
        "      # if teacher forcing, use actual next token as next input\n",
        "      # if not, use predicted token\n",
        "      input = trg[t] if teacher_force else top1\n",
        "    return outputs"
      ],
      "execution_count": 61,
      "outputs": []
    },
    {
      "cell_type": "markdown",
      "metadata": {
        "id": "CeozYyYxQGnx"
      },
      "source": [
        "### Training the Seq2Seq Model\n",
        "\n",
        "The rest of the code is similar from the previous notebooks, where there's changes I will highlight.\n",
        "\n",
        "### Hyper parameters"
      ]
    },
    {
      "cell_type": "code",
      "metadata": {
        "id": "hIYpcdhRF0NW",
        "colab": {
          "base_uri": "https://localhost:8080/"
        },
        "outputId": "51c30c53-fd11-4aae-e178-0ab2179b6d6f"
      },
      "source": [
        "INPUT_DIM = len(SRC.vocab)\n",
        "OUTPUT_DIM = len(TRG.vocab)\n",
        "ENC_EMB_DIM = DEC_EMB_DIM = 256\n",
        "ENC_HID_DIM = DEC_HID_DIM = 512\n",
        "ENC_DROPOUT = DEC_DROPOUT = 0.5\n",
        "SRC_PAD_IDX = SRC.vocab.stoi[SRC.pad_token]\n",
        "\n",
        "attn = Attention(ENC_HID_DIM, DEC_HID_DIM)\n",
        "enc = Encoder(INPUT_DIM, ENC_EMB_DIM, ENC_HID_DIM, DEC_HID_DIM, ENC_DROPOUT)\n",
        "dec = Decoder(OUTPUT_DIM, DEC_EMB_DIM, ENC_HID_DIM, DEC_HID_DIM, DEC_DROPOUT, attn)\n",
        "\n",
        "model = Seq2Seq(enc, dec, SRC_PAD_IDX, device).to(device)\n",
        "model"
      ],
      "execution_count": 62,
      "outputs": [
        {
          "output_type": "execute_result",
          "data": {
            "text/plain": [
              "Seq2Seq(\n",
              "  (encoder): Encoder(\n",
              "    (embedding): Embedding(7855, 256)\n",
              "    (gru): GRU(256, 512, bidirectional=True)\n",
              "    (fc): Linear(in_features=1024, out_features=512, bias=True)\n",
              "    (dropout): Dropout(p=0.5, inplace=False)\n",
              "  )\n",
              "  (decoder): Decoder(\n",
              "    (attention): Attention(\n",
              "      (attn): Linear(in_features=1536, out_features=512, bias=True)\n",
              "      (v): Linear(in_features=512, out_features=1, bias=False)\n",
              "    )\n",
              "    (embedding): Embedding(5893, 256)\n",
              "    (gru): GRU(1280, 512)\n",
              "    (fc): Linear(in_features=1792, out_features=5893, bias=True)\n",
              "    (dropout): Dropout(p=0.5, inplace=False)\n",
              "  )\n",
              ")"
            ]
          },
          "metadata": {
            "tags": []
          },
          "execution_count": 62
        }
      ]
    },
    {
      "cell_type": "markdown",
      "metadata": {
        "id": "Nn6hea0EQpwI"
      },
      "source": [
        "### Initializing the weights\n",
        "ere, we will initialize all biases to zero and all weights from $\\mathcal{N}(0, 0.01)$."
      ]
    },
    {
      "cell_type": "code",
      "metadata": {
        "id": "EkcE5_GOF0Ka",
        "colab": {
          "base_uri": "https://localhost:8080/"
        },
        "outputId": "48371adc-bd09-4744-913c-f62d6f59b99a"
      },
      "source": [
        "def init_weights(m):\n",
        "  for name, param in m.named_parameters():\n",
        "    if 'weight' in name:\n",
        "        nn.init.normal_(param.data, mean=0, std=0.01)\n",
        "    else:\n",
        "        nn.init.constant_(param.data, 0)   \n",
        "model.apply(init_weights)"
      ],
      "execution_count": 63,
      "outputs": [
        {
          "output_type": "execute_result",
          "data": {
            "text/plain": [
              "Seq2Seq(\n",
              "  (encoder): Encoder(\n",
              "    (embedding): Embedding(7855, 256)\n",
              "    (gru): GRU(256, 512, bidirectional=True)\n",
              "    (fc): Linear(in_features=1024, out_features=512, bias=True)\n",
              "    (dropout): Dropout(p=0.5, inplace=False)\n",
              "  )\n",
              "  (decoder): Decoder(\n",
              "    (attention): Attention(\n",
              "      (attn): Linear(in_features=1536, out_features=512, bias=True)\n",
              "      (v): Linear(in_features=512, out_features=1, bias=False)\n",
              "    )\n",
              "    (embedding): Embedding(5893, 256)\n",
              "    (gru): GRU(1280, 512)\n",
              "    (fc): Linear(in_features=1792, out_features=5893, bias=True)\n",
              "    (dropout): Dropout(p=0.5, inplace=False)\n",
              "  )\n",
              ")"
            ]
          },
          "metadata": {
            "tags": []
          },
          "execution_count": 63
        }
      ]
    },
    {
      "cell_type": "markdown",
      "metadata": {
        "id": "puCmnFqCQ-eH"
      },
      "source": [
        "### Counting model parameters.\n"
      ]
    },
    {
      "cell_type": "code",
      "metadata": {
        "id": "68IQMoSpF0HZ",
        "colab": {
          "base_uri": "https://localhost:8080/"
        },
        "outputId": "fe92b7f6-4a9d-496e-9b55-8ec21919bf27"
      },
      "source": [
        "def count_trainable_params(model):\n",
        "  return sum(p.numel() for p in model.parameters()), sum(p.numel() for p in model.parameters() if p.requires_grad)\n",
        "\n",
        "n_params, trainable_params = count_trainable_params(model)\n",
        "print(f\"Total number of paramaters: {n_params:,}\\nTotal tainable parameters: {trainable_params:,}\")"
      ],
      "execution_count": 64,
      "outputs": [
        {
          "output_type": "stream",
          "text": [
            "Total number of paramaters: 20,518,917\n",
            "Total tainable parameters: 20,518,917\n"
          ],
          "name": "stdout"
        }
      ]
    },
    {
      "cell_type": "markdown",
      "metadata": {
        "id": "yGVyGlhhRgig"
      },
      "source": [
        "### Optimizer"
      ]
    },
    {
      "cell_type": "code",
      "metadata": {
        "id": "nmabBrj2Rihx"
      },
      "source": [
        "optimizer = torch.optim.Adam(model.parameters())"
      ],
      "execution_count": 65,
      "outputs": []
    },
    {
      "cell_type": "markdown",
      "metadata": {
        "id": "FGFKDnv-Rlw3"
      },
      "source": [
        "### Loss Function\n",
        "Our loss function calculates the average loss per token, however by passing the index of the `<pad>` token as the `ignore_index` argument we ignore the loss whenever the target token is a padding token.\n",
        "\n"
      ]
    },
    {
      "cell_type": "code",
      "metadata": {
        "id": "4hdlEicFRyeF"
      },
      "source": [
        "TRG_PAD_IDX = TRG.vocab.stoi[TRG.pad_token]\n",
        "criterion = nn.CrossEntropyLoss(ignore_index = TRG_PAD_IDX)"
      ],
      "execution_count": 66,
      "outputs": []
    },
    {
      "cell_type": "markdown",
      "metadata": {
        "id": "LUNIKuT9SBYv"
      },
      "source": [
        "### Training and Evaluating Functions\n",
        "\n",
        "As we are using include_lengths = True for our source field, batch.src is now a tuple with the first element being the numericalized tensor representing the sentence and the second element being the lengths of each sentence within the batch.\n",
        "\n",
        "Our model also returns the attention vectors over the batch of source source sentences for each decoding time-step. We won't use these during the training/evaluation, but we will later for inference.\n"
      ]
    },
    {
      "cell_type": "code",
      "metadata": {
        "id": "9xN5v3SYR6az"
      },
      "source": [
        "def train(model, iterator, optimizer, criterion, clip):\n",
        "    model.train()\n",
        "    epoch_loss = 0\n",
        "    for i, batch in enumerate(iterator):\n",
        "        src, src_len = batch.src\n",
        "        trg = batch.trg\n",
        "        optimizer.zero_grad()\n",
        "        output = model(src, src_len, trg)\n",
        "        \"\"\"\n",
        "        trg = [trg len, batch size]\n",
        "        output = [trg len, batch size, output dim]\n",
        "        \"\"\"\n",
        "        output_dim = output.shape[-1]\n",
        "        output = output[1:].view(-1, output_dim)\n",
        "        trg = trg[1:].view(-1)\n",
        "        \"\"\"\n",
        "        trg = [(trg len - 1) * batch size]\n",
        "        output = [(trg len - 1) * batch size, output dim]\n",
        "        \"\"\"\n",
        "        loss = criterion(output, trg)\n",
        "        loss.backward()\n",
        "        torch.nn.utils.clip_grad_norm_(model.parameters(), clip)\n",
        "        optimizer.step()\n",
        "        epoch_loss += loss.item()\n",
        "    return epoch_loss / len(iterator)\n",
        "\n",
        "def evaluate(model, iterator, criterion):\n",
        "    model.eval()\n",
        "    epoch_loss = 0\n",
        "    with torch.no_grad():\n",
        "      for i, batch in enumerate(iterator):\n",
        "          src, src_len = batch.src\n",
        "          trg = batch.trg\n",
        "          optimizer.zero_grad()\n",
        "          output = model(src, src_len, trg, 0) ## Turn off the teacher forcing ratio.\n",
        "          \"\"\"\n",
        "          trg = [trg len, batch size]\n",
        "          output = [trg len, batch size, output dim]\n",
        "          \"\"\"\n",
        "          output_dim = output.shape[-1]\n",
        "          output = output[1:].view(-1, output_dim)\n",
        "          trg = trg[1:].view(-1)\n",
        "          \"\"\"\n",
        "          trg = [(trg len - 1) * batch size]\n",
        "          output = [(trg len - 1) * batch size, output dim]\n",
        "          \"\"\"\n",
        "          loss =  criterion(output, trg)\n",
        "          epoch_loss += loss.item()\n",
        "    return epoch_loss / len(iterator)"
      ],
      "execution_count": 70,
      "outputs": []
    },
    {
      "cell_type": "markdown",
      "metadata": {
        "id": "ucdxQbw1SGpv"
      },
      "source": [
        "### Train Loop.\n",
        "\n",
        "Bellow is a function that tells us how long each epoch took to complete."
      ]
    },
    {
      "cell_type": "code",
      "metadata": {
        "id": "8yOJBHbDR6X2"
      },
      "source": [
        "def epoch_time(start_time, end_time):\n",
        "  elapsed_time = end_time - start_time\n",
        "  elapsed_mins = int(elapsed_time / 60)\n",
        "  elapsed_secs = int(elapsed_time - (elapsed_mins * 60))\n",
        "  return elapsed_mins, elapsed_secs"
      ],
      "execution_count": 71,
      "outputs": []
    },
    {
      "cell_type": "code",
      "metadata": {
        "id": "p_vPbgDVR6GW",
        "colab": {
          "base_uri": "https://localhost:8080/"
        },
        "outputId": "98e4fdd6-49dd-42b6-b412-856db1d34d94"
      },
      "source": [
        "N_EPOCHS = 10\n",
        "CLIP = 1\n",
        "best_valid_loss = float('inf')\n",
        "for epoch in range(N_EPOCHS):\n",
        "  start_time = time.time()\n",
        "  train_loss = train(model, train_iterator, optimizer, criterion, CLIP)\n",
        "  valid_loss = evaluate(model, valid_iterator, criterion)\n",
        "  end_time = time.time()\n",
        "  epoch_mins, epoch_secs = epoch_time(start_time, end_time)\n",
        "  if valid_loss < best_valid_loss:\n",
        "      best_valid_loss = valid_loss\n",
        "      torch.save(model.state_dict(), 'best-model.pt')\n",
        "  \n",
        "  print(f'Epoch: {epoch+1:02} | Time: {epoch_mins}m {epoch_secs}s')\n",
        "  print(f'\\tTrain Loss: {train_loss:.3f} | Train PPL: {math.exp(train_loss):7.3f}')\n",
        "  print(f'\\t Val. Loss: {valid_loss:.3f} |  Val. PPL: {math.exp(valid_loss):7.3f}')"
      ],
      "execution_count": 72,
      "outputs": [
        {
          "output_type": "stream",
          "text": [
            "Epoch: 01 | Time: 0m 47s\n",
            "\tTrain Loss: 4.140 | Train PPL:  62.773\n",
            "\t Val. Loss: 4.181 |  Val. PPL:  65.411\n",
            "Epoch: 02 | Time: 0m 46s\n",
            "\tTrain Loss: 3.348 | Train PPL:  28.460\n",
            "\t Val. Loss: 3.651 |  Val. PPL:  38.503\n",
            "Epoch: 03 | Time: 0m 47s\n",
            "\tTrain Loss: 2.857 | Train PPL:  17.416\n",
            "\t Val. Loss: 3.379 |  Val. PPL:  29.330\n",
            "Epoch: 04 | Time: 0m 47s\n",
            "\tTrain Loss: 2.446 | Train PPL:  11.544\n",
            "\t Val. Loss: 3.290 |  Val. PPL:  26.851\n",
            "Epoch: 05 | Time: 0m 47s\n",
            "\tTrain Loss: 2.168 | Train PPL:   8.741\n",
            "\t Val. Loss: 3.210 |  Val. PPL:  24.784\n",
            "Epoch: 06 | Time: 0m 47s\n",
            "\tTrain Loss: 1.938 | Train PPL:   6.943\n",
            "\t Val. Loss: 3.178 |  Val. PPL:  24.010\n",
            "Epoch: 07 | Time: 0m 46s\n",
            "\tTrain Loss: 1.743 | Train PPL:   5.714\n",
            "\t Val. Loss: 3.223 |  Val. PPL:  25.107\n",
            "Epoch: 08 | Time: 0m 47s\n",
            "\tTrain Loss: 1.573 | Train PPL:   4.819\n",
            "\t Val. Loss: 3.295 |  Val. PPL:  26.982\n",
            "Epoch: 09 | Time: 0m 47s\n",
            "\tTrain Loss: 1.445 | Train PPL:   4.240\n",
            "\t Val. Loss: 3.358 |  Val. PPL:  28.733\n",
            "Epoch: 10 | Time: 0m 47s\n",
            "\tTrain Loss: 1.366 | Train PPL:   3.920\n",
            "\t Val. Loss: 3.348 |  Val. PPL:  28.432\n"
          ],
          "name": "stdout"
        }
      ]
    },
    {
      "cell_type": "markdown",
      "metadata": {
        "id": "AQKnSataS9-f"
      },
      "source": [
        "### Evaluating the best model."
      ]
    },
    {
      "cell_type": "code",
      "metadata": {
        "id": "Ax3ZZS6ITAWV",
        "colab": {
          "base_uri": "https://localhost:8080/"
        },
        "outputId": "54a49959-82c1-4f7e-fb82-c70280a513ba"
      },
      "source": [
        "model.load_state_dict(torch.load('best-model.pt'))\n",
        "test_loss = evaluate(model, test_iterator, criterion)\n",
        "print(f'| Test Loss: {test_loss:.3f} | Test PPL: {math.exp(test_loss):7.3f} |')"
      ],
      "execution_count": 73,
      "outputs": [
        {
          "output_type": "stream",
          "text": [
            "| Test Loss: 3.213 | Test PPL:  24.843 |\n"
          ],
          "name": "stdout"
        }
      ]
    },
    {
      "cell_type": "markdown",
      "metadata": {
        "id": "8w3xspdTvnAV"
      },
      "source": [
        "### Model inference.\n",
        "\n",
        "Now we can use our trained model to generate translations.\n",
        "\n",
        "**Note:** these translations will be poor compared to examples shown in paper as they use hidden dimension sizes of `1000` and train for **`4 days`**😭😭!\n",
        "\n",
        "They have been cherry picked in order to show off what attention should look like on a sufficiently sized model.\n",
        "\n",
        "Our `translate_sentence` function will do the following:\n",
        "\n",
        "* ensure our model is in evaluation mode, which it should always be for inference\n",
        "* tokenize the source sentence if it has not been tokenized (is a string)\n",
        "* numericalize the source sentence\n",
        "* convert it to a tensor and add a batch dimension\n",
        "* get the length of the source sentence and convert to a tensor\n",
        "* feed the source sentence into the encoder\n",
        "* create the mask for the source sentence\n",
        "* create a list to hold the output sentence, initialized with an `<sos>` token\n",
        "* create a tensor to hold the attention values\n",
        "* while we have not hit a maximum length\n",
        "  * get the input tensor, which should be either `<sos>` or the last predicted token\n",
        "  * feed the input, all encoder outputs, hidden state and mask into the decoder\n",
        "  * store attention values\n",
        "  * get the predicted next token\n",
        "  * add prediction to current output sentence prediction\n",
        "  * break if the prediction was an `<eos>` token\n",
        "* convert the output sentence from indexes to tokens\n",
        "* return the output sentence (with the `<sos>` token removed) and the attention values over the sequence."
      ]
    },
    {
      "cell_type": "code",
      "metadata": {
        "id": "iaNbVMdivnXv"
      },
      "source": [
        "import spacy\n",
        "import de_core_news_sm\n",
        "def translate_sentence(sent, src_field, trg_field, mdoel, device, max_len=50):\n",
        "  model.eval()\n",
        "\n",
        "  if isinstance(sent, str):\n",
        "    nlp = de_core_news_sm.load()\n",
        "    tokens = [token.text.lower() for token in nlp(sent)]\n",
        "  else:\n",
        "    tokens = [token.lower() for token in sent]\n",
        "  \n",
        "  tokens = [src_field.init_token] + tokens + [src_field.eos_token]\n",
        "  src_indexes = [src_field.vocab.stoi[token] for token in tokens]\n",
        "  src_tensor = torch.LongTensor(src_indexes).unsqueeze(1).to(device)\n",
        "  src_len = torch.LongTensor([len(src_indexes)])\n",
        "\n",
        "  with torch.no_grad():\n",
        "    encoder_outputs, hidden = model.encoder(src_tensor, src_len)\n",
        "\n",
        "  mask = model.create_mask(src_tensor)\n",
        "  trg_indexes = [trg_field.vocab.stoi[trg_field.init_token]]\n",
        "  attentions = torch.zeros(max_len, 1, len(src_indexes)).to(device)\n",
        "\n",
        "  for i in range(max_len):\n",
        "    trg_tensor = torch.LongTensor([trg_indexes[-1]]).to(device)\n",
        "    with torch.no_grad():\n",
        "      output, hidden, attention = model.decoder(trg_tensor, hidden, encoder_outputs, mask)\n",
        "\n",
        "    attentions[i] = attention\n",
        "    pred_token = output.argmax(1).item()\n",
        "    trg_indexes.append(pred_token)\n",
        "\n",
        "    if pred_token == trg_field.vocab.stoi[trg_field.eos_token]:\n",
        "       break\n",
        "  trg_tokens = [trg_field.vocab.itos[i] for i in trg_indexes]\n",
        "  return trg_tokens[1:], attentions[:len(trg_tokens)-1]"
      ],
      "execution_count": 82,
      "outputs": []
    },
    {
      "cell_type": "markdown",
      "metadata": {
        "id": "p-ggK0ukysEe"
      },
      "source": [
        "\n",
        "Next, we'll make a function that displays the model's attention over the source sentence for each target token generated."
      ]
    },
    {
      "cell_type": "code",
      "metadata": {
        "id": "nv9eIc37voCn"
      },
      "source": [
        "import matplotlib.ticker as ticker\n",
        "def display_attention(sentence, translation, attention):\n",
        "    \n",
        "    fig = plt.figure(figsize=(10,10))\n",
        "    ax = fig.add_subplot(111)\n",
        "    \n",
        "    attention = attention.squeeze(1).cpu().detach().numpy()\n",
        "    \n",
        "    cax = ax.matshow(attention, cmap='bone')\n",
        "   \n",
        "    ax.tick_params(labelsize=15)\n",
        "    \n",
        "    x_ticks = [''] + ['<sos>'] + [t.lower() for t in sentence] + ['<eos>']\n",
        "    y_ticks = [''] + translation\n",
        "     \n",
        "    ax.set_xticklabels(x_ticks, rotation=45)\n",
        "    ax.set_yticklabels(y_ticks)\n",
        "\n",
        "    ax.xaxis.set_major_locator(ticker.MultipleLocator(1))\n",
        "    ax.yaxis.set_major_locator(ticker.MultipleLocator(1))\n",
        "\n",
        "    plt.show()\n",
        "    plt.close()"
      ],
      "execution_count": 90,
      "outputs": []
    },
    {
      "cell_type": "markdown",
      "metadata": {
        "id": "CY8gq5B7zCNa"
      },
      "source": [
        "Now, we'll grab some translations from our dataset and see how well our model did. Note, we're going to cherry pick examples here so it gives us something interesting to look at, but feel free to change the example_idx value to look at different examples.\n",
        "\n",
        "First, we'll get a source and target from our dataset."
      ]
    },
    {
      "cell_type": "code",
      "metadata": {
        "colab": {
          "base_uri": "https://localhost:8080/"
        },
        "id": "8VQ7E1KYvn_n",
        "outputId": "0c039ca9-cb48-4ef3-dfe2-f1be838be670"
      },
      "source": [
        "example_idx = 0\n",
        "\n",
        "src = vars(train_data.examples[example_idx])['src']\n",
        "trg = vars(train_data.examples[example_idx])['trg']\n",
        "print(f'src = {src}')\n",
        "print(f'trg = {trg}')"
      ],
      "execution_count": 91,
      "outputs": [
        {
          "output_type": "stream",
          "text": [
            "src = ['zwei', 'junge', 'weiße', 'männer', 'sind', 'im', 'freien', 'in', 'der', 'nähe', 'vieler', 'büsche', '.']\n",
            "trg = ['two', 'young', ',', 'white', 'males', 'are', 'outside', 'near', 'many', 'bushes', '.']\n"
          ],
          "name": "stdout"
        }
      ]
    },
    {
      "cell_type": "markdown",
      "metadata": {
        "id": "-yAcSX2tzWdn"
      },
      "source": [
        "Then we'll use our `translate_sentence` function to get our predicted translation and attention. We show this graphically by having the source sentence on the `x-axis` and the predicted translation on the `y-axis`. The lighter the square at the intersection between two words, the more attention the model gave to that source word when translating that target word.\n",
        "\n",
        "Below is an example the model attempted to translate."
      ]
    },
    {
      "cell_type": "code",
      "metadata": {
        "colab": {
          "base_uri": "https://localhost:8080/"
        },
        "id": "EUKbgOjfvn78",
        "outputId": "3e3a05d1-5759-4365-f2fa-b90168b5dff9"
      },
      "source": [
        "tokens, attention = translate_sentence(src,  SRC, TRG, model, device)\n",
        "print(tokens)\n",
        "tokens, attention = translate_sentence(\"zwei junge\",  SRC, TRG, model, device)\n",
        "print(tokens)"
      ],
      "execution_count": 92,
      "outputs": [
        {
          "output_type": "stream",
          "text": [
            "['two', 'young', 'white', 'men', 'are', 'outside', 'near', 'many', 'bushes', '.', '<eos>']\n",
            "['two', 'young', 'lovers', '.', '<eos>']\n"
          ],
          "name": "stdout"
        }
      ]
    },
    {
      "cell_type": "code",
      "metadata": {
        "colab": {
          "base_uri": "https://localhost:8080/",
          "height": 631
        },
        "id": "zc_KXdy6vn47",
        "outputId": "1178207d-7a60-449c-eae6-0ea61c59dc56"
      },
      "source": [
        "display_attention(src, tokens, attention)"
      ],
      "execution_count": 93,
      "outputs": [
        {
          "output_type": "display_data",
          "data": {
            "image/png": "[encoded data removed]",
            "text/plain": [
              "<Figure size 720x720 with 1 Axes>"
            ]
          },
          "metadata": {
            "tags": [],
            "needs_background": "light"
          }
        }
      ]
    },
    {
      "cell_type": "code",
      "metadata": {
        "colab": {
          "base_uri": "https://localhost:8080/"
        },
        "id": "o7CPxvhH2OWX",
        "outputId": "5b2aa442-a22e-4596-8816-e80027ac9df0"
      },
      "source": [
        "\n",
        "example_idx = 14\n",
        "src = vars(valid_data.examples[example_idx])['src']\n",
        "trg = vars(valid_data.examples[example_idx])['trg']\n",
        "print(f'src = {src}')\n",
        "print(f'trg = {trg}')"
      ],
      "execution_count": 95,
      "outputs": [
        {
          "output_type": "stream",
          "text": [
            "src = ['eine', 'frau', 'spielt', 'ein', 'lied', 'auf', 'ihrer', 'geige', '.']\n",
            "trg = ['a', 'female', 'playing', 'a', 'song', 'on', 'her', 'violin', '.']\n"
          ],
          "name": "stdout"
        }
      ]
    },
    {
      "cell_type": "code",
      "metadata": {
        "colab": {
          "base_uri": "https://localhost:8080/",
          "height": 613
        },
        "id": "VZNKHr8V2OTk",
        "outputId": "500c82bd-02bc-46f2-da2c-1c647bf0f570"
      },
      "source": [
        "translation, attention = translate_sentence(src, SRC, TRG, model, device)\n",
        "\n",
        "print(f'predicted trg = {translation}')\n",
        "\n",
        "display_attention(src, translation, attention)"
      ],
      "execution_count": 96,
      "outputs": [
        {
          "output_type": "stream",
          "text": [
            "predicted trg = ['a', 'woman', 'plays', 'a', 'song', 'on', 'her', 'violin', '.', '<eos>']\n"
          ],
          "name": "stdout"
        },
        {
          "output_type": "display_data",
          "data": {
            "image/png": "[encoded data removed]",
            "text/plain": [
              "<Figure size 720x720 with 1 Axes>"
            ]
          },
          "metadata": {
            "tags": [],
            "needs_background": "light"
          }
        }
      ]
    },
    {
      "cell_type": "markdown",
      "metadata": {
        "id": "QQnuNd8Z2cjJ"
      },
      "source": [
        "> The model misses `plays` to `playing`."
      ]
    },
    {
      "cell_type": "markdown",
      "metadata": {
        "id": "M4b5Bcdr2m7a"
      },
      "source": [
        "### Examples in the test set."
      ]
    },
    {
      "cell_type": "code",
      "metadata": {
        "colab": {
          "base_uri": "https://localhost:8080/"
        },
        "id": "4oIXjMMd2OR6",
        "outputId": "2162a2b7-5ad0-4fe3-8e96-917ec2ef215e"
      },
      "source": [
        "example_idx = 18\n",
        "src = vars(test_data.examples[example_idx])['src']\n",
        "trg = vars(test_data.examples[example_idx])['trg']\n",
        "print(f'src = {src}')\n",
        "print(f'trg = {trg}')"
      ],
      "execution_count": 98,
      "outputs": [
        {
          "output_type": "stream",
          "text": [
            "src = ['die', 'person', 'im', 'gestreiften', 'shirt', 'klettert', 'auf', 'einen', 'berg', '.']\n",
            "trg = ['the', 'person', 'in', 'the', 'striped', 'shirt', 'is', 'mountain', 'climbing', '.']\n"
          ],
          "name": "stdout"
        }
      ]
    },
    {
      "cell_type": "code",
      "metadata": {
        "colab": {
          "base_uri": "https://localhost:8080/",
          "height": 671
        },
        "id": "_FFT12rW2ONg",
        "outputId": "1170a0ef-b7dd-41fc-a452-4449e50b4aa1"
      },
      "source": [
        "translation, attention = translate_sentence(src, SRC, TRG, model, device)\n",
        "print(f'predicted trg = {translation}')\n",
        "display_attention(src, translation, attention)"
      ],
      "execution_count": 99,
      "outputs": [
        {
          "output_type": "stream",
          "text": [
            "predicted trg = ['the', 'person', 'in', 'a', 'striped', 'shirt', 'is', 'climbing', 'a', 'mountain', '.', '<eos>']\n"
          ],
          "name": "stdout"
        },
        {
          "output_type": "display_data",
          "data": {
            "image/png": "[encoded data removed]",
            "text/plain": [
              "<Figure size 720x720 with 1 Axes>"
            ]
          },
          "metadata": {
            "tags": [],
            "needs_background": "light"
          }
        }
      ]
    },
    {
      "cell_type": "markdown",
      "metadata": {
        "id": "lRf8btmB2_iG"
      },
      "source": [
        "###  Let's translate more examples from the test set."
      ]
    },
    {
      "cell_type": "code",
      "metadata": {
        "colab": {
          "base_uri": "https://localhost:8080/"
        },
        "id": "yOkOvj1v2OKK",
        "outputId": "871a6c5c-b433-4bb8-e1c4-f8f45361bdb5"
      },
      "source": [
        "def tabulate_translations(column_names, data, title, max_characters=25):\n",
        "  table = PrettyTable(column_names)\n",
        "  table.title= title\n",
        "  table.align[column_names[0]] = 'l'\n",
        "  table.align[column_names[1]] = 'l'\n",
        "  table.align[column_names[2]] = 'l'\n",
        "  table._max_width = {column_names[0] :max_characters, column_names[1] :max_characters, column_names[2]:max_characters}\n",
        "  for row in data:\n",
        "    table.add_row(row)\n",
        "  print(table)\n",
        "columns_names = [\n",
        "    \"German (real src sentence)\", \"English (the actual text)\", \"Translated (translated version)\"\n",
        "]\n",
        "title = \"GERMAN to ENGLISH TRANSLATOR\"\n",
        "\n",
        "def translation_table(src, SRC, TRG, model, device,columns_names, title,  max_characters=25,total_translations=10):\n",
        "  rows_data = []\n",
        "  for idx in range(total_translations):\n",
        "    src = vars(test_data.examples[idx])['src']\n",
        "    trg = vars(test_data.examples[idx])['trg']\n",
        "    trasl, _ = translate_sentence(src, SRC, TRG, model, device)\n",
        "    rows_data.append(\n",
        "        [\n",
        "        \" \".join(src),\n",
        "        \" \".join(trg),\n",
        "        \" \".join(trasl).replace('<eos>', '')\n",
        "        ], \n",
        "    )\n",
        "    if idx+1 != total_translations:\n",
        "      rows_data.append([\"-\" * max_characters, \"-\" * max_characters, \"-\" * max_characters ])\n",
        "\n",
        "  tabulate_translations(columns_names, rows_data, title, max_characters)\n",
        "translation_table(src, SRC, TRG, model, device,columns_names, title, max_characters=36)"
      ],
      "execution_count": 116,
      "outputs": [
        {
          "output_type": "stream",
          "text": [
            "+--------------------------------------------------------------------------------------------------------------------+\n",
            "|                                            GERMAN to ENGLISH TRANSLATOR                                            |\n",
            "+--------------------------------------+--------------------------------------+--------------------------------------+\n",
            "| German (real src sentence)           | English (the actual text)            | Translated (translated version)      |\n",
            "+--------------------------------------+--------------------------------------+--------------------------------------+\n",
            "| ein mann mit einem orangefarbenen    | a man in an orange hat starring at   | a man in an orange hat is something  |\n",
            "| hut , der etwas anstarrt .           | something .                          | something .                          |\n",
            "| ------------------------------------ | ------------------------------------ | ------------------------------------ |\n",
            "| ein boston terrier läuft über        | a boston terrier is running on lush  | a small dog runs over grass grass in |\n",
            "| saftig-grünes gras vor einem weißen  | green grass in front of a white      | front of a white fence .             |\n",
            "| zaun .                               | fence .                              |                                      |\n",
            "| ------------------------------------ | ------------------------------------ | ------------------------------------ |\n",
            "| ein mädchen in einem karateanzug     | a girl in karate uniform breaking a  | a girl in a karate uniform is a a a  |\n",
            "| bricht ein brett mit einem tritt .   | stick with a front kick .            | with a a .                           |\n",
            "| ------------------------------------ | ------------------------------------ | ------------------------------------ |\n",
            "| fünf leute in winterjacken und mit   | five people wearing winter jackets   | five people in winter gear and       |\n",
            "| helmen stehen im schnee mit          | and helmets stand in the snow , with | helmets stand in the with with       |\n",
            "| schneemobilen im hintergrund .       | snowmobiles in the background .      | clouds in the background .           |\n",
            "| ------------------------------------ | ------------------------------------ | ------------------------------------ |\n",
            "| leute reparieren das dach eines      | people are fixing the roof of a      | people are fixing the roof of a      |\n",
            "| hauses .                             | house .                              | house .                              |\n",
            "| ------------------------------------ | ------------------------------------ | ------------------------------------ |\n",
            "| ein hell gekleideter mann            | a man in light colored clothing      | a colorfully in a photo of a group   |\n",
            "| fotografiert eine gruppe von männern | photographs a group of men wearing   | of men in orange suits and hats , a  |\n",
            "| in dunklen anzügen und mit hüten ,   | dark suits and hats standing around  | woman in a woman dress .             |\n",
            "| die um eine frau in einem            | a woman dressed in a strapless gown  |                                      |\n",
            "| trägerlosen kleid herum stehen .     | .                                    |                                      |\n",
            "| ------------------------------------ | ------------------------------------ | ------------------------------------ |\n",
            "| eine gruppe von menschen steht vor   | a group of people standing in front  | a group of people standing in front  |\n",
            "| einem iglu .                         | of an igloo .                        | of a .                               |\n",
            "| ------------------------------------ | ------------------------------------ | ------------------------------------ |\n",
            "| ein junge in einem roten trikot      | a boy in a red uniform is attempting | a boy in a red jersey trying to to   |\n",
            "| versucht , die home base zu          | to avoid getting out at home plate , | the base to the base while the       |\n",
            "| erreichen , während der catcher im   | while the catcher in the blue        | catcher catcher catcher to to to to  |\n",
            "| blauen trikot versucht , ihn zu      | uniform is attempting to catch him . | the catcher .                        |\n",
            "| fangen .                             |                                      |                                      |\n",
            "| ------------------------------------ | ------------------------------------ | ------------------------------------ |\n",
            "| ein typ arbeitet an einem gebäude .  | a guy works on a building .          | a guy works on a building .          |\n",
            "| ------------------------------------ | ------------------------------------ | ------------------------------------ |\n",
            "| ein mann in einer weste sitzt auf    | a man in a vest is sitting in a      | a man in a vest is sitting on a      |\n",
            "| einem stuhl und hält magazine .      | chair and holding magazines .        | chair holding holding a chair .      |\n",
            "+--------------------------------------+--------------------------------------+--------------------------------------+\n"
          ],
          "name": "stdout"
        }
      ]
    },
    {
      "cell_type": "markdown",
      "metadata": {
        "id": "G5Q4oj2YAqKg"
      },
      "source": [
        "### BLEU\n",
        "\n",
        "Previously we have only cared about the loss/perplexity of the model. However there metrics that are specifically designed for measuring the quality of a translation - the most popular is BLEU. Without going into too much detail, BLEU looks at the overlap in the predicted and actual target sequences in terms of their n-grams. It will give us a number between `0` and `1` for each sequence, where `1` means there is perfect overlap, i.e. a perfect translation, although is usually shown between 0 and 100. BLEU was designed for multiple candidate translations per source sequence, however in this dataset we only have one candidate per source.\n",
        "\n",
        "We define a calculate_bleu function which calculates the BLEU score over a provided TorchText dataset. This function creates a corpus of the actual and predicted translation for each source sentence and then calculates the BLEU score."
      ]
    },
    {
      "cell_type": "code",
      "metadata": {
        "id": "zqQevzwCAyrP"
      },
      "source": [
        "from torchtext.data.metrics import bleu_score\n",
        "def calculate_bleu(data, src_field, trg_field, model, device, max_len = 50):\n",
        "    trgs = []\n",
        "    pred_trgs = []\n",
        "    for datum in data:\n",
        "        src = vars(datum)['src']\n",
        "        trg = vars(datum)['trg']\n",
        "        pred_trg, _ = translate_sentence(src, src_field, trg_field, model, device, max_len)\n",
        "        # cut off <eos> token\n",
        "        pred_trg = pred_trg[:-1]\n",
        "        pred_trgs.append(pred_trg)\n",
        "        trgs.append([trg])\n",
        "    return bleu_score(pred_trgs, trgs)"
      ],
      "execution_count": 117,
      "outputs": []
    },
    {
      "cell_type": "markdown",
      "metadata": {
        "id": "cZ2sLRWpBWSH"
      },
      "source": [
        "\n",
        "We get a BLEU of around `31.15`. If we compare it to the paper that the attention model is attempting to replicate, they achieve a BLEU score of `26.75`. This is similar to our score, however they are using a completely different dataset and their model size is much larger - 1000 hidden dimensions which takes 4 days to train! - so we cannot really compare against that either.\n",
        "\n",
        "This number isn't really interpretable, we can't really say much about it. The most useful part of a BLEU score is that it can be used to compare different models on the same dataset, where the one with the higher **BLEU score is \"better\"**."
      ]
    },
    {
      "cell_type": "code",
      "metadata": {
        "colab": {
          "base_uri": "https://localhost:8080/"
        },
        "id": "A-E1kRBpBV_U",
        "outputId": "d53b3924-4c45-4f3c-9c1d-54cb97a49af5"
      },
      "source": [
        "bleu_score = calculate_bleu(test_data, SRC, TRG, model, device)\n",
        "print(f'BLEU score = {bleu_score*100:.2f}')"
      ],
      "execution_count": 118,
      "outputs": [
        {
          "output_type": "stream",
          "text": [
            "BLEU score = 31.15\n"
          ],
          "name": "stdout"
        }
      ]
    },
    {
      "cell_type": "markdown",
      "metadata": {
        "id": "RW7QMb3FTJzp"
      },
      "source": [
        "\n",
        "In the next notebook we will be moving away from using recurrent neural networks and start looking at other ways to construct `sequence-to-sequence` models. Specifically, in the next notebook we will be using convolutional neural networks.\n",
        "\n",
        "### Credits.\n",
        "* [bentrevett](https://github.com/bentrevett/pytorch-seq2seq/blob/master/3%20-%20Neural%20Machine%20Translation%20by%20Jointly%20Learning%20to%20Align%20and%20Translate.ipynb)"
      ]
    },
    {
      "cell_type": "code",
      "metadata": {
        "id": "mWfDANnvTde4"
      },
      "source": [
        ""
      ],
      "execution_count": null,
      "outputs": []
    }
  ]
}