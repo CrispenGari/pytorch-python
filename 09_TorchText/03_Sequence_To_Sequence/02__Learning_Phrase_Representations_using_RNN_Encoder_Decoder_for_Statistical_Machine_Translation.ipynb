{
  "nbformat": 4,
  "nbformat_minor": 0,
  "metadata": {
    "colab": {
      "name": "02_ Learning Phrase Representations using RNN Encoder-Decoder for Statistical Machine Translation.ipynb",
      "provenance": [],
      "collapsed_sections": [],
      "toc_visible": true
    },
    "kernelspec": {
      "name": "python3",
      "display_name": "Python 3"
    },
    "language_info": {
      "name": "python"
    },
    "accelerator": "GPU"
  },
  "cells": [
    {
      "cell_type": "markdown",
      "metadata": {
        "id": "GDWoz-10wMhB"
      },
      "source": [
        "### Learning Phrase Representations using RNN Encoder-Decoder for Statistical Machine Translation.\n",
        "\n",
        "In this notebook we are going to implement the model from [this](https://arxiv.org/abs/1406.1078) paper.\n",
        "\n",
        "From the previous notebook we talked about the encoder and the decoder model. Let's remind ourselves about the encoder decoder model.\n",
        "\n",
        "\n",
        "<p align=\"center\"><img src=\"https://github.com/bentrevett/pytorch-seq2seq/raw/49df8404d938a6edbf729876405558cc2c2b3013/assets/seq2seq1.png\"/></p>\n",
        "\n",
        "In the previous notebook we used a multi-layer LSTM which was looking as follows:\n",
        "\n",
        "\n",
        "<p align=\"center\"><img src=\"https://github.com/bentrevett/pytorch-seq2seq/raw/49df8404d938a6edbf729876405558cc2c2b3013/assets/seq2seq4.png\"/></p>\n",
        "\n",
        "One downside of the previous model is that the decoder is trying to cram lots of information into the hidden states. Whilst decoding, the hidden state will need to contain information about the whole of the source sequence, as well as all of the tokens have been decoded so far. By alleviating some of this information compression, we can create a better model!\n",
        "\n",
        "We'll also be using a GRU (Gated Recurrent Unit) instead of an LSTM (Long Short-Term Memory). Why? Mainly because that's what they did in the paper (this paper also introduced GRUs) and also because we used LSTMs last time. Both GRU and LSTM are pretty much the same as they differ from regular RNNs.\n",
        "\n",
        "### Data Preparation.\n",
        "The preparation of the data is just like from the previous Notebook. Nothing will change that much. If there's a code block that changes along the way i will highlight changes.\n",
        "\n"
      ]
    },
    {
      "cell_type": "code",
      "metadata": {
        "id": "NQeioMM3wGtT"
      },
      "source": [
        "import torch\n",
        "from torch import nn\n",
        "from torch.nn  import functional as F\n",
        "import spacy, math, random\n",
        "import numpy as np\n",
        "\n",
        "from torchtext.legacy import datasets, data"
      ],
      "execution_count": 1,
      "outputs": []
    },
    {
      "cell_type": "markdown",
      "metadata": {
        "id": "8dBrPYKsyAu7"
      },
      "source": [
        "### Setting seeds"
      ]
    },
    {
      "cell_type": "code",
      "metadata": {
        "id": "qyTfYvpJwK35"
      },
      "source": [
        "SEED = 42\n",
        "\n",
        "np.random.seed(SEED)\n",
        "torch.manual_seed(SEED)\n",
        "random.seed(SEED)\n",
        "torch.cuda.manual_seed(SEED)\n",
        "torch.backends.cudnn.deteministic = True"
      ],
      "execution_count": 2,
      "outputs": []
    },
    {
      "cell_type": "markdown",
      "metadata": {
        "id": "AjNec3A0ymHA"
      },
      "source": [
        "### Creating Tokens"
      ]
    },
    {
      "cell_type": "code",
      "metadata": {
        "colab": {
          "base_uri": "https://localhost:8080/"
        },
        "id": "I3EA1E5twK0w",
        "outputId": "4523c641-ddbd-4d0a-82fe-6406e73ef40e"
      },
      "source": [
        "import spacy\n",
        "import spacy.cli\n",
        "spacy.cli.download('de_core_news_sm')\n",
        "\n",
        "import de_core_news_sm, en_core_web_sm\n",
        "\n",
        "spacy_de = spacy.load('de_core_news_sm')\n",
        "spacy_en = spacy.load('en_core_web_sm')"
      ],
      "execution_count": 3,
      "outputs": [
        {
          "output_type": "stream",
          "text": [
            "\u001b[38;5;2m✔ Download and installation successful\u001b[0m\n",
            "You can now load the model via spacy.load('de_core_news_sm')\n"
          ],
          "name": "stdout"
        }
      ]
    },
    {
      "cell_type": "markdown",
      "metadata": {
        "id": "07EDHqRGzTPU"
      },
      "source": [
        "Previously we reversed the source `(German)` sentence, however in the paper we are implementing they don't do this, so neither will we."
      ]
    },
    {
      "cell_type": "code",
      "metadata": {
        "id": "OXigeMIAwKyd"
      },
      "source": [
        "def tokenize_de(sent):\n",
        "  return [tok.text for tok in spacy_de.tokenizer(sent)]\n",
        "\n",
        "def tokenize_en(sent):\n",
        "  return [tok.text for tok in spacy_en.tokenizer(sent)]"
      ],
      "execution_count": 4,
      "outputs": []
    },
    {
      "cell_type": "markdown",
      "metadata": {
        "id": "_NVvmCtYziBg"
      },
      "source": [
        "### Creating `Fields` that process data."
      ]
    },
    {
      "cell_type": "code",
      "metadata": {
        "id": "aaF426zJwKuM"
      },
      "source": [
        "SRC = data.Field(\n",
        "    tokenize = tokenize_de,\n",
        "    lower= True,\n",
        "    init_token = \"<sos>\",\n",
        "     eos_token = \"<eos>\"\n",
        ")\n",
        "TRG = data.Field(\n",
        "    tokenize = tokenize_en,\n",
        "    lower= True,\n",
        "    init_token = \"<sos>\",\n",
        "     eos_token = \"<eos>\"\n",
        ")"
      ],
      "execution_count": 5,
      "outputs": []
    },
    {
      "cell_type": "markdown",
      "metadata": {
        "id": "sHkIpu_2zrxy"
      },
      "source": [
        "### Loading the `Multi30k` Dataset\n",
        "\n",
        "Just like from the previous notebook: `exts` specifies which languages to use as the source and target **(source goes first)** and fields specifies which field to use for the source and target."
      ]
    },
    {
      "cell_type": "code",
      "metadata": {
        "colab": {
          "base_uri": "https://localhost:8080/"
        },
        "id": "DbceGavkwKro",
        "outputId": "93f3e582-2691-4e29-a410-3982430bb1ea"
      },
      "source": [
        "train_data, valid_data, test_data = datasets.Multi30k.splits(\n",
        "    exts=('.de', '.en'),\n",
        "    fields = (SRC, TRG)\n",
        ")"
      ],
      "execution_count": 6,
      "outputs": [
        {
          "output_type": "stream",
          "text": [
            "downloading training.tar.gz\n"
          ],
          "name": "stdout"
        },
        {
          "output_type": "stream",
          "text": [
            "training.tar.gz: 100%|██████████| 1.21M/1.21M [00:00<00:00, 1.82MB/s]\n"
          ],
          "name": "stderr"
        },
        {
          "output_type": "stream",
          "text": [
            "downloading validation.tar.gz\n"
          ],
          "name": "stdout"
        },
        {
          "output_type": "stream",
          "text": [
            "validation.tar.gz: 100%|██████████| 46.3k/46.3k [00:00<00:00, 279kB/s]\n"
          ],
          "name": "stderr"
        },
        {
          "output_type": "stream",
          "text": [
            "downloading mmt_task1_test2016.tar.gz\n"
          ],
          "name": "stdout"
        },
        {
          "output_type": "stream",
          "text": [
            "mmt_task1_test2016.tar.gz: 100%|██████████| 66.2k/66.2k [00:00<00:00, 266kB/s]\n"
          ],
          "name": "stderr"
        }
      ]
    },
    {
      "cell_type": "markdown",
      "metadata": {
        "id": "JzJQEUUH0TWU"
      },
      "source": [
        "### Checking if we have loaded the data corectly."
      ]
    },
    {
      "cell_type": "code",
      "metadata": {
        "colab": {
          "base_uri": "https://localhost:8080/"
        },
        "id": "VXRgEyTpwKpb",
        "outputId": "8c25488d-1b2f-458d-f0f3-cc77f4153b48"
      },
      "source": [
        "from prettytable import PrettyTable\n",
        "def tabulate(column_names, data):\n",
        "  table = PrettyTable(column_names)\n",
        "  table.title= \"VISUALIZING SETS EXAMPLES\"\n",
        "  table.align[column_names[0]] = 'l'\n",
        "  table.align[column_names[1]] = 'r'\n",
        "  for row in data:\n",
        "    table.add_row(row)\n",
        "  print(table)\n",
        "\n",
        "column_names = [\"SUBSET\", \"EXAMPLE(s)\"]\n",
        "row_data = [\n",
        "        [\"training\", len(train_data)],\n",
        "        ['validation', len(valid_data)],\n",
        "        ['test', len(test_data)]\n",
        "]\n",
        "tabulate(column_names, row_data)"
      ],
      "execution_count": 7,
      "outputs": [
        {
          "output_type": "stream",
          "text": [
            "+-----------------------------+\n",
            "|  VISUALIZING SETS EXAMPLES  |\n",
            "+--------------+--------------+\n",
            "| SUBSET       |   EXAMPLE(s) |\n",
            "+--------------+--------------+\n",
            "| training     |        29000 |\n",
            "| validation   |         1014 |\n",
            "| test         |         1000 |\n",
            "+--------------+--------------+\n"
          ],
          "name": "stdout"
        }
      ]
    },
    {
      "cell_type": "markdown",
      "metadata": {
        "id": "ybLbfHcZ2Xfp"
      },
      "source": [
        "### Checking a single example, of the `SRC` and the `TRG`."
      ]
    },
    {
      "cell_type": "code",
      "metadata": {
        "colab": {
          "base_uri": "https://localhost:8080/"
        },
        "id": "m7OMny2AwKlR",
        "outputId": "56fd6b49-d12c-49e9-da46-88b55b0d5c98"
      },
      "source": [
        "print(vars(train_data.examples[0]))"
      ],
      "execution_count": 8,
      "outputs": [
        {
          "output_type": "stream",
          "text": [
            "{'src': ['zwei', 'junge', 'weiße', 'männer', 'sind', 'im', 'freien', 'in', 'der', 'nähe', 'vieler', 'büsche', '.'], 'trg': ['two', 'young', ',', 'white', 'males', 'are', 'outside', 'near', 'many', 'bushes', '.']}\n"
          ],
          "name": "stdout"
        }
      ]
    },
    {
      "cell_type": "markdown",
      "metadata": {
        "id": "vIILdOE13AyE"
      },
      "source": [
        "### Building the vocabulary.\n",
        "Just like from the previous notebook all the tokens that apears less than 2, are automatically converted to unknown token `<unk>`."
      ]
    },
    {
      "cell_type": "code",
      "metadata": {
        "id": "XwjyGkg7wKh8"
      },
      "source": [
        "SRC.build_vocab(train_data, min_freq=2)\n",
        "TRG.build_vocab(train_data, min_freq=2)"
      ],
      "execution_count": 9,
      "outputs": []
    },
    {
      "cell_type": "markdown",
      "metadata": {
        "id": "fFDzQgQe3iIY"
      },
      "source": [
        "### Device."
      ]
    },
    {
      "cell_type": "code",
      "metadata": {
        "colab": {
          "base_uri": "https://localhost:8080/"
        },
        "id": "cHclV-OI3hZQ",
        "outputId": "5e7e3cc9-6120-4c8b-d79a-1b93f3885b11"
      },
      "source": [
        "device = torch.device('cuda' if torch.cuda.is_available() else 'cpu')\n",
        "device"
      ],
      "execution_count": 10,
      "outputs": [
        {
          "output_type": "execute_result",
          "data": {
            "text/plain": [
              "device(type='cuda')"
            ]
          },
          "metadata": {
            "tags": []
          },
          "execution_count": 10
        }
      ]
    },
    {
      "cell_type": "markdown",
      "metadata": {
        "id": "S2NwkNze33zV"
      },
      "source": [
        "### Creating Iterators.\n",
        "Just like from the previous notebook we are going to use the `BucketIterator` to create the train, validation and test sets."
      ]
    },
    {
      "cell_type": "code",
      "metadata": {
        "id": "pjKyuqylwKgf"
      },
      "source": [
        "BATCH_SIZE = 128\n",
        "train_iterator, valid_iterator, test_iterator = data.BucketIterator.splits(\n",
        "    (train_data, valid_data, test_data),\n",
        "    device = device,\n",
        "    batch_size = BATCH_SIZE\n",
        ")"
      ],
      "execution_count": 11,
      "outputs": []
    },
    {
      "cell_type": "markdown",
      "metadata": {
        "id": "3W36jHgk4aMA"
      },
      "source": [
        "### Encoder Model.\n",
        "The encoder is similar to the previous one, with the multi-layer LSTM swapped for a single-layer GRU. We also don't pass the dropout as an argument to the GRU as that dropout is used between each layer of a multi-layered RNN. As we only have a single layer, PyTorch will display a warning if we try and use pass a dropout value to it.\n",
        "\n",
        "Another thing to note about the GRU is that it only requires and returns a hidden state, there is no cell state like in the LSTM.\n",
        "\n",
        "<p align=\"center\"> <img src=\"https://render.githubusercontent.com/render/math?math=%5Cbegin%7Balign%2A%7D%0Ah_t%20%26amp%3B%3D%20%5Ctext%7BGRU%7D%28e%28x_t%29%2C%20h_%7Bt-1%7D%29%5C%5C%0A%28h_t%2C%20c_t%29%20%26amp%3B%3D%20%5Ctext%7BLSTM%7D%28e%28x_t%29%2C%20h_%7Bt-1%7D%2C%20c_%7Bt-1%7D%29%5C%5C%0Ah_t%20%26amp%3B%3D%20%5Ctext%7BRNN%7D%28e%28x_t%29%2C%20h_%7Bt-1%7D%29%0A%5Cend%7Balign%2A%7D&mode=display\"/></p>\n",
        "\n",
        "From the equations above, it looks like the RNN and the GRU are identical. Inside the GRU, however, is a number of gating mechanisms that control the information flow in to and out of the hidden state (similar to an LSTM). \n",
        "\n",
        "The rest of the encoder should be very familar from the previous notebook, it takes in a sequence, $X = \\{x_1, x_2, ... , x_T\\}$, passes it through the embedding layer, recurrently calculates hidden states, $H = \\{h_1, h_2, ..., h_T\\}$, and returns a context vector **(the final hidden state)**, $z=h_T$.\n",
        "\n",
        "$$h_t = \\text{EncoderGRU}(e(x_t), h_{t-1})$$\n",
        "This is identical to the encoder of the general **`seq2seq`** model, with all the \"magic\" happening inside the GRU (green).\n",
        "\n",
        "<p align=\"center\"><img src=\"https://github.com/bentrevett/pytorch-seq2seq/raw/49df8404d938a6edbf729876405558cc2c2b3013/assets/seq2seq5.png\"/></p>\n",
        "\n"
      ]
    },
    {
      "cell_type": "code",
      "metadata": {
        "id": "dT-oUnNgwKbr"
      },
      "source": [
        "class Encoder(nn.Module):\n",
        "  def __init__(self, input_dim, emb_dim, hid_dim, dropout):\n",
        "    super(Encoder, self).__init__()\n",
        "    self.hid_dim = hid_dim\n",
        "    self.embedding = nn.Embedding(input_dim, embedding_dim=emb_dim)\n",
        "    \"\"\"\n",
        "    No Dropout (GRU) since we have **one** layer.\n",
        "    \"\"\"\n",
        "    self.gru = nn.GRU(emb_dim, hid_dim)\n",
        "    self.dropout = nn.Dropout(dropout)\n",
        "\n",
        "  def forward(self, src):\n",
        "    # src = [src len, batch size]\n",
        "    embedded = self.dropout(self.embedding(src))\n",
        "    # embedded = [src len, batch size, emb dim]\n",
        "    ouputs, h_0 = self.gru(embedded) # no cell state since it is a GRU not LSTM\n",
        "    \"\"\"\n",
        "    outputs = [src len, batch size, hid dim * n directions]\n",
        "    hidden (h_0) = [n_layers * n_directions, batch size, hid dim]\n",
        "    ** outputs are always from the top hidden layer\n",
        "    \"\"\"\n",
        "    return h_0"
      ],
      "execution_count": 12,
      "outputs": []
    },
    {
      "cell_type": "markdown",
      "metadata": {
        "id": "SmyX0YNk63MJ"
      },
      "source": [
        "### Decoder Model.\n",
        "The decoder is where the implementation differs significantly from the previous model and we alleviate some of the information compression.\n",
        "\n",
        "Instead of the GRU in the decoder taking just the embedded target token, $d(y_t)$ and the previous hidden state $s_{t-1}$ as inputs, it also takes the context vector $z$.\n",
        "\n",
        "$$s_t = \\text{DecoderGRU}(d(y_t), s_{t-1}, z)$$\n",
        "Note how this context vector, $z$, does not have a $t$ subscript, meaning we re-use the same context vector returned by the encoder for every time-step in the decoder.\n",
        "\n",
        "Before, we predicted the next token, $\\hat{y}_{t+1}$, with the linear layer, $f$, only using the top-layer decoder hidden state at that time-step, $s_t$, as $\\hat{y}_{t+1}=f(s_t^L)$. Now, we also pass the embedding of current token, $d(y_t)$ and the context vector, $z$ to the linear layer.\n",
        "\n",
        "$$\\hat{y}_{t+1} = f(d(y_t), s_t, z)$$\n",
        "Thus, our decoder now looks something like this:\n",
        "\n",
        "<p align=\"center\"><img src=\"https://github.com/bentrevett/pytorch-seq2seq/raw/49df8404d938a6edbf729876405558cc2c2b3013/assets/seq2seq6.png\"/></p>\n",
        "\n",
        "\n",
        "Note, the initial hidden state, $s_0$, is still the context vector, $z$, so when generating the first token we are actually inputting two identical context vectors into the GRU.\n",
        "\n",
        "How do these two changes reduce the information compression? Well, hypothetically the decoder hidden states, $s_t$, no longer need to contain information about the source sequence as it is always available as an input. Thus, it only needs to contain information about what tokens it has generated so far. The addition of $y_t$ to the linear layer also means this layer can directly see what the token is, without having to get this information from the hidden state.\n",
        "\n",
        "However, this hypothesis is just a hypothesis, it is impossible to determine how the model actually uses the information provided to it (don't listen to anyone that says differently). Nevertheless, it is a solid intuition and the results seem to indicate that this modifications are a good idea!\n",
        "\n",
        "Within the implementation, we will pass $d(y_t)$ and $z$ to the GRU by concatenating them together, so the input dimensions to the GRU are now emb_dim + hid_dim (as context vector will be of size hid_dim). The linear layer will take $d(y_t), s_t$ and $z$ also by concatenating them together, hence the input dimensions are now emb_dim + hid_dim*2. We also don't pass a value of dropout to the GRU as it only uses a single layer.\n",
        "\n",
        "forward now takes a context argument. Inside of forward, we concatenate $y_t$ and $z$ as emb_con before feeding to the GRU, and we concatenate $d(y_t)$, $s_t$ and $z$ together as output before feeding it through the linear layer to receive our predictions, $\\hat{y}_{t+1}$."
      ]
    },
    {
      "cell_type": "code",
      "metadata": {
        "id": "wBspTlQpwKaJ"
      },
      "source": [
        "class Decoder(nn.Module):\n",
        "  def __init__(self, output_dim, emb_dim, hid_dim, dropout):\n",
        "    super(Decoder, self).__init__()\n",
        "    self.hid_dim = hid_dim\n",
        "    self.output_dim = output_dim\n",
        "\n",
        "    self.embedding = nn.Embedding(output_dim, emb_dim)\n",
        "    self.gru = nn.GRU(emb_dim + hid_dim, hid_dim)\n",
        "    self.fc = nn.Linear(emb_dim + hid_dim * 2, output_dim)\n",
        "    self.dropout = nn.Dropout(dropout)\n",
        "\n",
        "  def forward(self, input, hidden, context):\n",
        "    \"\"\"     \n",
        "    input = [batch size]\n",
        "    hidden, (h_0) = [n_layers * n_directions, batch_size, hid_dim]\n",
        "    context = [n_layers * n_directions, batch_size, hid_dim]\n",
        "\n",
        "    n_layers and n_directions in the decoder will both always be 1, therefore:\n",
        "    hidden (h_0) = [1, batch_size, hid_dim]\n",
        "    context = [1, batch_size, hid_dim]\n",
        "    \"\"\"\n",
        "    input = input.unsqueeze(0)  # nput = [1, batch size]\n",
        "    embedded = self.dropout(self.embedding(input)) # embedded = [1, batch_size, emb_dim]\n",
        "    emb_con = torch.cat((embedded, context), dim = 2) # emb_con = [1, batch size, emb dim + hid dim]\n",
        "\n",
        "    output, h_0 = self.gru(emb_con, hidden)\n",
        "    \"\"\"      \n",
        "    output = [seq_len, batch_size, hid dim * n_directions]\n",
        "    hidden (h_0) = [n_layers * n_directions, batch_size, hid_dim]\n",
        "\n",
        "    seq_len, n_layers and n_directions will always be 1 in the decoder, therefore:\n",
        "    output = [1, batch_size, hid_dim]\n",
        "    hidden (h_0) = [1, batch_size, hid_dim]\n",
        "    \"\"\"\n",
        "    output = torch.cat((embedded.squeeze(0), h_0.squeeze(0), context.squeeze(0)), \n",
        "                           dim = 1) # output = [batch size, emb dim + hid dim * 2]\n",
        "    prediction = self.fc(output) # prediction = [batch size, output dim]\n",
        "    return prediction, h_0"
      ],
      "execution_count": 13,
      "outputs": []
    },
    {
      "cell_type": "markdown",
      "metadata": {
        "id": "Z4hIW-16ARdP"
      },
      "source": [
        "### `Seq2Seq` Model\n",
        "Putting the encoder and decoder together, we get:\n",
        "\n",
        "<p><img src=\"https://github.com/bentrevett/pytorch-seq2seq/raw/49df8404d938a6edbf729876405558cc2c2b3013/assets/seq2seq7.png\"/></p>\n",
        "\n",
        "**Again, in this implementation we need to ensure the hidden dimensions in both the encoder and the decoder are the same.**\n",
        "\n",
        "**Briefly going over all of the steps:**\n",
        "\n",
        "* the outputs tensor is created to hold all predictions, $\\hat{Y}$\n",
        "* the source sequence, $X$, is fed into the encoder to receive a context vector\n",
        "* the initial decoder hidden state is set to be the `context vector`, $s_0 = z = h_T$\n",
        "* we use a batch of `<sos>` tokens as the first input, $y_1$\n",
        "* we then decode within a loop:\n",
        "  * inserting the input token $y_t$, previous hidden state, $s_{t-1}$, and the context vector, $z$, into the decoder\n",
        "  * receiving a prediction, $\\hat{y}_{t+1}$, and a new hidden state, $s_t$\n",
        "  * we then decide if we are going to teacher force or not, setting the next input as appropriate (either the ground truth next token in the target sequence or the highest predicted next token)"
      ]
    },
    {
      "cell_type": "code",
      "metadata": {
        "id": "gFkgP8ZWwKST"
      },
      "source": [
        "class Seq2Seq(nn.Module):\n",
        "    def __init__(self, encoder, decoder, device):\n",
        "        super().__init__()\n",
        "        \n",
        "        self.encoder = encoder\n",
        "        self.decoder = decoder\n",
        "        self.device = device\n",
        "        \n",
        "        assert encoder.hid_dim == decoder.hid_dim, \"Hidden dimensions of encoder and decoder must be equal!\"\n",
        "        \n",
        "    def forward(self, src, trg, teacher_forcing_ratio = 0.5):\n",
        "        \"\"\"\n",
        "        src = [src_len, batch_size]\n",
        "        trg = [trg_len, batch_size]\n",
        "        teacher_forcing_ratio is probability to use teacher forcing\n",
        "        e.g. if teacher_forcing_ratio is 0.75 we use ground-truth inputs 75% of the time\n",
        "        \"\"\"\n",
        "        batch_size = trg.shape[1]\n",
        "        trg_len = trg.shape[0]\n",
        "        trg_vocab_size = self.decoder.output_dim\n",
        "        \n",
        "        # tensor to store decoder outputs\n",
        "        outputs = torch.zeros(trg_len, batch_size, trg_vocab_size).to(self.device)\n",
        "        # last hidden state of the encoder is the context\n",
        "        context = self.encoder(src)\n",
        "        \n",
        "        # context also used as the initial hidden state of the decoder\n",
        "        hidden = context\n",
        "        \n",
        "        # first input to the decoder is the <sos> tokens\n",
        "        input = trg[0,:]\n",
        "        \n",
        "        for t in range(1, trg_len):\n",
        "            # insert input token embedding, previous hidden state and the context state\n",
        "            # receive output tensor (predictions) and new hidden state\n",
        "            output, hidden = self.decoder(input, hidden, context)\n",
        "            # place predictions in a tensor holding predictions for each token\n",
        "            outputs[t] = output\n",
        "            # decide if we are going to use teacher forcing or not\n",
        "            teacher_force = random.random() < teacher_forcing_ratio\n",
        "            # get the highest predicted token from our predictions\n",
        "            top1 = output.argmax(1) \n",
        "            # if teacher forcing, use actual next token as next input\n",
        "            # if not, use predicted token\n",
        "            input = trg[t] if teacher_force else top1\n",
        "        return outputs"
      ],
      "execution_count": 18,
      "outputs": []
    },
    {
      "cell_type": "markdown",
      "metadata": {
        "id": "PXHFIHQTDI7B"
      },
      "source": [
        "### Training the `seq2seq` model.\n",
        "The rest of the code will remain the same. We will first define hyper params and then initialize the model.\n",
        "\n",
        "We will then create the instance of the `Encoder` and `Decoder` so that we will pass them to the `Seq2Seq` class instance."
      ]
    },
    {
      "cell_type": "code",
      "metadata": {
        "colab": {
          "base_uri": "https://localhost:8080/"
        },
        "id": "51TePrhVwKQw",
        "outputId": "927c5eca-17b6-4b8e-e039-01ef59f623bd"
      },
      "source": [
        "INPUT_DIM = len(SRC.vocab)\n",
        "OUTPUT_DIM = len(TRG.vocab)\n",
        "ENC_EMB_DIM = 256\n",
        "DEC_EMB_DIM = 256\n",
        "HID_DIM = 512\n",
        "ENC_DROPOUT = 0.5\n",
        "DEC_DROPOUT = 0.5\n",
        "\n",
        "enc = Encoder(INPUT_DIM, ENC_EMB_DIM, HID_DIM, ENC_DROPOUT)\n",
        "dec = Decoder(OUTPUT_DIM, DEC_EMB_DIM, HID_DIM, DEC_DROPOUT)\n",
        "model = Seq2Seq(enc, dec, device).to(device)\n",
        "model"
      ],
      "execution_count": 19,
      "outputs": [
        {
          "output_type": "execute_result",
          "data": {
            "text/plain": [
              "Seq2Seq(\n",
              "  (encoder): Encoder(\n",
              "    (embedding): Embedding(7855, 256)\n",
              "    (gru): GRU(256, 512)\n",
              "    (dropout): Dropout(p=0.5, inplace=False)\n",
              "  )\n",
              "  (decoder): Decoder(\n",
              "    (embedding): Embedding(5893, 256)\n",
              "    (gru): GRU(768, 512)\n",
              "    (fc): Linear(in_features=1280, out_features=5893, bias=True)\n",
              "    (dropout): Dropout(p=0.5, inplace=False)\n",
              "  )\n",
              ")"
            ]
          },
          "metadata": {
            "tags": []
          },
          "execution_count": 19
        }
      ]
    },
    {
      "cell_type": "markdown",
      "metadata": {
        "id": "tlxjGijREKm4"
      },
      "source": [
        "Next, we initialize our parameters. The paper states the parameters are initialized from a normal distribution with a mean of 0 and a standard deviation of 0.01, i.e. $\\mathcal{N}(0, 0.01)$.\n",
        "\n",
        "It also states we should initialize the recurrent parameters to a special initialization, however to keep things simple we'll also initialize them to $\\mathcal{N}(0, 0.01)$.\n"
      ]
    },
    {
      "cell_type": "code",
      "metadata": {
        "colab": {
          "base_uri": "https://localhost:8080/"
        },
        "id": "2eutTj08wKLw",
        "outputId": "c0fbe42f-bec1-4f74-ca10-7dad21d7a67f"
      },
      "source": [
        "def init_weights(m):\n",
        "    for name, param in m.named_parameters():\n",
        "        nn.init.normal_(param.data, mean=0, std=0.01)\n",
        "        \n",
        "model.apply(init_weights)"
      ],
      "execution_count": 20,
      "outputs": [
        {
          "output_type": "execute_result",
          "data": {
            "text/plain": [
              "Seq2Seq(\n",
              "  (encoder): Encoder(\n",
              "    (embedding): Embedding(7855, 256)\n",
              "    (gru): GRU(256, 512)\n",
              "    (dropout): Dropout(p=0.5, inplace=False)\n",
              "  )\n",
              "  (decoder): Decoder(\n",
              "    (embedding): Embedding(5893, 256)\n",
              "    (gru): GRU(768, 512)\n",
              "    (fc): Linear(in_features=1280, out_features=5893, bias=True)\n",
              "    (dropout): Dropout(p=0.5, inplace=False)\n",
              "  )\n",
              ")"
            ]
          },
          "metadata": {
            "tags": []
          },
          "execution_count": 20
        }
      ]
    },
    {
      "cell_type": "markdown",
      "metadata": {
        "id": "ppEsk0TpFvld"
      },
      "source": [
        "### Counting trainabe parameters.\n",
        "\n",
        "We print out the number of parameters.\n",
        "\n",
        "**Even though we only have a single layer RNN for our encoder and decoder we actually have more parameters than the last model. This is due to the increased size of the inputs to the GRU and the linear layer. However, it is not a significant amount of parameters and causes a minimal amount of increase in training time (~3 seconds per epoch extra).**"
      ]
    },
    {
      "cell_type": "code",
      "metadata": {
        "colab": {
          "base_uri": "https://localhost:8080/"
        },
        "id": "QNP5oMAbFu-5",
        "outputId": "c9ae8eec-d986-4d0c-ace4-84ef8e59d8aa"
      },
      "source": [
        "def count_trainable_params(model):\n",
        "  return sum(p.numel() for p in model.parameters()), sum(p.numel() for p in model.parameters() if p.requires_grad)\n",
        "\n",
        "n_params, trainable_params = count_trainable_params(model)\n",
        "print(f\"Total number of paramaters: {n_params:,}\\nTotal tainable parameters: {trainable_params:,}\")"
      ],
      "execution_count": 21,
      "outputs": [
        {
          "output_type": "stream",
          "text": [
            "Total number of paramaters: 14,220,293\n",
            "Total tainable parameters: 14,220,293\n"
          ],
          "name": "stdout"
        }
      ]
    },
    {
      "cell_type": "markdown",
      "metadata": {
        "id": "02SHR8iaGdkV"
      },
      "source": [
        "### The optimizer."
      ]
    },
    {
      "cell_type": "code",
      "metadata": {
        "id": "8iDoVi6_wKJi"
      },
      "source": [
        "optimizer = torch.optim.Adam(model.parameters())"
      ],
      "execution_count": 22,
      "outputs": []
    },
    {
      "cell_type": "markdown",
      "metadata": {
        "id": "mwxVyNVIGqAv"
      },
      "source": [
        "### Loss Function.\n",
        "Our loss function calculates the average loss per token, however by passing the index of the `<pad>` token as the `ignore_index` argument we ignore the loss whenever the target token is a padding token.\n",
        "\n"
      ]
    },
    {
      "cell_type": "code",
      "metadata": {
        "id": "E4aP2reBwKFj"
      },
      "source": [
        "TRG_PAD_IDX = TRG.vocab.stoi[TRG.pad_token]\n",
        "criterion = nn.CrossEntropyLoss(ignore_index = TRG_PAD_IDX)"
      ],
      "execution_count": 23,
      "outputs": []
    },
    {
      "cell_type": "markdown",
      "metadata": {
        "id": "PBogIBQOHBXq"
      },
      "source": [
        "### The train and evaluation function."
      ]
    },
    {
      "cell_type": "code",
      "metadata": {
        "id": "3BOhbkh_wKDj"
      },
      "source": [
        "def train(model, iterator, optimizer, criterion, clip):\n",
        "    model.train()\n",
        "    epoch_loss = 0\n",
        "    for i, batch in enumerate(iterator):\n",
        "        src = batch.src\n",
        "        trg = batch.trg\n",
        "        optimizer.zero_grad()\n",
        "        output = model(src, trg)\n",
        "        # trg = [trg len, batch size]\n",
        "        # output = [trg len, batch size, output dim]\n",
        "        output_dim = output.shape[-1]\n",
        "        output = output[1:].view(-1, output_dim)\n",
        "        trg = trg[1:].view(-1)\n",
        "        # trg = [(trg len - 1) * batch size]\n",
        "        # output = [(trg len - 1) * batch size, output dim]\n",
        "        loss = criterion(output, trg)\n",
        "        loss.backward()\n",
        "        torch.nn.utils.clip_grad_norm_(model.parameters(), clip)\n",
        "        optimizer.step()\n",
        "        epoch_loss += loss.item()\n",
        "    return epoch_loss / len(iterator)\n",
        "\n",
        "def evaluate(model, iterator, criterion):\n",
        "    model.eval()\n",
        "    epoch_loss = 0\n",
        "    with torch.no_grad():\n",
        "        for i, batch in enumerate(iterator):\n",
        "            src = batch.src\n",
        "            trg = batch.trg\n",
        "            output = model(src, trg, 0) # turn off teacher forcing\n",
        "            # trg = [trg len, batch size]\n",
        "            # output = [trg len, batch size, output dim]\n",
        "            output_dim = output.shape[-1]\n",
        "            output = output[1:].view(-1, output_dim)\n",
        "            trg = trg[1:].view(-1)\n",
        "            # trg = [(trg len - 1) * batch size]\n",
        "            # output = [(trg len - 1) * batch size, output dim]\n",
        "            loss = criterion(output, trg)\n",
        "            epoch_loss += loss.item()\n",
        "    return epoch_loss / len(iterator)"
      ],
      "execution_count": 24,
      "outputs": []
    },
    {
      "cell_type": "markdown",
      "metadata": {
        "id": "1BOhD0XjHybC"
      },
      "source": [
        "We'll also define the function that calculates how long an epoch takes."
      ]
    },
    {
      "cell_type": "code",
      "metadata": {
        "id": "z-1oqTwLwJ_E"
      },
      "source": [
        "import time\n",
        "def epoch_time(start_time, end_time):\n",
        "    elapsed_time = end_time - start_time\n",
        "    elapsed_mins = int(elapsed_time / 60)\n",
        "    elapsed_secs = int(elapsed_time - (elapsed_mins * 60))\n",
        "    return elapsed_mins, elapsed_secs"
      ],
      "execution_count": 25,
      "outputs": []
    },
    {
      "cell_type": "markdown",
      "metadata": {
        "id": "YVfvKcitH6GI"
      },
      "source": [
        "### The trainning loop."
      ]
    },
    {
      "cell_type": "code",
      "metadata": {
        "colab": {
          "base_uri": "https://localhost:8080/"
        },
        "id": "MDAzBkcJwJ8d",
        "outputId": "c0b807bc-c903-47fa-f669-2dc4891b870c"
      },
      "source": [
        "\n",
        "N_EPOCHS = 10\n",
        "CLIP = 1\n",
        "best_valid_loss = float('inf')\n",
        "for epoch in range(N_EPOCHS):\n",
        "    start_time = time.time()\n",
        "    train_loss = train(model, train_iterator, optimizer, criterion, CLIP)\n",
        "    valid_loss = evaluate(model, valid_iterator, criterion)\n",
        "    end_time = time.time()\n",
        "    epoch_mins, epoch_secs = epoch_time(start_time, end_time)\n",
        "    if valid_loss < best_valid_loss:\n",
        "        best_valid_loss = valid_loss\n",
        "        torch.save(model.state_dict(), 'best-model.pt')\n",
        "    \n",
        "    print(f'Epoch: {epoch+1:02} | Time: {epoch_mins}m {epoch_secs}s')\n",
        "    print(f'\\tTrain Loss: {train_loss:.3f} | Train PPL: {math.exp(train_loss):7.3f}')\n",
        "    print(f'\\t Val. Loss: {valid_loss:.3f} |  Val. PPL: {math.exp(valid_loss):7.3f}')"
      ],
      "execution_count": 26,
      "outputs": [
        {
          "output_type": "stream",
          "text": [
            "Epoch: 01 | Time: 0m 35s\n",
            "\tTrain Loss: 5.017 | Train PPL: 150.934\n",
            "\t Val. Loss: 5.155 |  Val. PPL: 173.216\n",
            "Epoch: 02 | Time: 0m 35s\n",
            "\tTrain Loss: 4.393 | Train PPL:  80.915\n",
            "\t Val. Loss: 5.215 |  Val. PPL: 184.101\n",
            "Epoch: 03 | Time: 0m 36s\n",
            "\tTrain Loss: 4.089 | Train PPL:  59.668\n",
            "\t Val. Loss: 4.714 |  Val. PPL: 111.548\n",
            "Epoch: 04 | Time: 0m 36s\n",
            "\tTrain Loss: 3.758 | Train PPL:  42.854\n",
            "\t Val. Loss: 4.365 |  Val. PPL:  78.663\n",
            "Epoch: 05 | Time: 0m 36s\n",
            "\tTrain Loss: 3.452 | Train PPL:  31.569\n",
            "\t Val. Loss: 4.152 |  Val. PPL:  63.551\n",
            "Epoch: 06 | Time: 0m 36s\n",
            "\tTrain Loss: 3.147 | Train PPL:  23.270\n",
            "\t Val. Loss: 4.017 |  Val. PPL:  55.516\n",
            "Epoch: 07 | Time: 0m 36s\n",
            "\tTrain Loss: 2.887 | Train PPL:  17.938\n",
            "\t Val. Loss: 3.908 |  Val. PPL:  49.784\n",
            "Epoch: 08 | Time: 0m 36s\n",
            "\tTrain Loss: 2.652 | Train PPL:  14.181\n",
            "\t Val. Loss: 3.716 |  Val. PPL:  41.092\n",
            "Epoch: 09 | Time: 0m 36s\n",
            "\tTrain Loss: 2.460 | Train PPL:  11.702\n",
            "\t Val. Loss: 3.704 |  Val. PPL:  40.629\n",
            "Epoch: 10 | Time: 0m 36s\n",
            "\tTrain Loss: 2.263 | Train PPL:   9.613\n",
            "\t Val. Loss: 3.706 |  Val. PPL:  40.702\n"
          ],
          "name": "stdout"
        }
      ]
    },
    {
      "cell_type": "markdown",
      "metadata": {
        "id": "idBoFOjFwJ40"
      },
      "source": [
        "Finally, we test the model on the test set using these \"best\" parameters."
      ]
    },
    {
      "cell_type": "code",
      "metadata": {
        "id": "PiECLH5ewJ2X",
        "colab": {
          "base_uri": "https://localhost:8080/"
        },
        "outputId": "c01ff162-4c6d-44c8-b24e-c77cc94bdc8e"
      },
      "source": [
        "model.load_state_dict(torch.load('best-model.pt'))\n",
        "\n",
        "test_loss = evaluate(model, test_iterator, criterion)\n",
        "\n",
        "print(f'| Test Loss: {test_loss:.3f} | Test PPL: {math.exp(test_loss):7.3f} |')"
      ],
      "execution_count": 27,
      "outputs": [
        {
          "output_type": "stream",
          "text": [
            "| Test Loss: 3.635 | Test PPL:  37.895 |\n"
          ],
          "name": "stdout"
        }
      ]
    },
    {
      "cell_type": "markdown",
      "metadata": {
        "id": "7-S8tCKhjOQS"
      },
      "source": [
        "\n",
        "Just looking at the test loss, we get better performance than the previous model. This is a pretty good sign that this model architecture is doing something right! Relieving the information compression seems like the way forard, and in the next notebook we'll expand on this even further with attention.\n",
        "\n",
        "### Credits\n",
        "\n",
        "* [bentrevett](https://github.com/bentrevett?tab=repositories&q=&type=&language=&sort=)"
      ]
    }
  ]
}