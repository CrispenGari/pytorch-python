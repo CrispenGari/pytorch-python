{
  "nbformat": 4,
  "nbformat_minor": 0,
  "metadata": {
    "colab": {
      "name": "02_Speech_Command_Recognition_and_DataLoader.ipynb",
      "provenance": [],
      "collapsed_sections": []
    },
    "kernelspec": {
      "name": "python3",
      "display_name": "Python 3"
    },
    "language_info": {
      "name": "python"
    },
    "accelerator": "GPU"
  },
  "cells": [
    {
      "cell_type": "markdown",
      "metadata": {
        "id": "rouZL97R7yX-"
      },
      "source": [
        "### Speech recognition with torchaudio Part 2 using the dataloader\n",
        "\n",
        "In this notebook we are going to build a nueral network based on the previous notebook that will classify speech commands.\n",
        "\n",
        "In this notebook we are going to have a look on how we can use the `Dataloader` to prepare our dataset in a way that our network will load it eaisly."
      ]
    },
    {
      "cell_type": "code",
      "metadata": {
        "id": "fRXM268-7uSD"
      },
      "source": [
        "!pip install pydub torch==1.7.0+cu101 torchvision==0.8.1+cu101 torchaudio==0.7.0 -f https://download.pytorch.org/whl/torch_stable.html"
      ],
      "execution_count": null,
      "outputs": []
    },
    {
      "cell_type": "markdown",
      "metadata": {
        "id": "d3ZcIskn8ynx"
      },
      "source": [
        "### Imports"
      ]
    },
    {
      "cell_type": "code",
      "metadata": {
        "colab": {
          "base_uri": "https://localhost:8080/"
        },
        "id": "TPPCJ6JG7uQQ",
        "outputId": "4a1e0889-3c31-4070-d280-f240fa46b835"
      },
      "source": [
        "import torch\n",
        "from torch import nn\n",
        "from torch.nn import functional as F\n",
        "import torchaudio, sys\n",
        "\n",
        "import matplotlib.pyplot as plt\n",
        "import IPython.display as ipd\n",
        "\n",
        "from tqdm import tqdm\n",
        "\n",
        "torch.__version__, torchaudio.__version__"
      ],
      "execution_count": 1,
      "outputs": [
        {
          "output_type": "stream",
          "name": "stderr",
          "text": [
            "/usr/local/lib/python3.7/dist-packages/torchaudio/backend/utils.py:54: UserWarning: \"sox\" backend is being deprecated. The default backend will be changed to \"sox_io\" backend in 0.8.0 and \"sox\" backend will be removed in 0.9.0. Please migrate to \"sox_io\" backend. Please refer to https://github.com/pytorch/audio/issues/903 for the detail.\n",
            "  '\"sox\" backend is being deprecated. '\n"
          ]
        },
        {
          "output_type": "execute_result",
          "data": {
            "text/plain": [
              "('1.7.0+cu101', '0.7.0')"
            ]
          },
          "metadata": {},
          "execution_count": 1
        }
      ]
    },
    {
      "cell_type": "markdown",
      "metadata": {
        "id": "_vKl14_Y9P09"
      },
      "source": [
        "### Device\n"
      ]
    },
    {
      "cell_type": "code",
      "metadata": {
        "colab": {
          "base_uri": "https://localhost:8080/"
        },
        "id": "M7NVxb4j7uMn",
        "outputId": "25009b0d-ee7b-418c-b554-c0142ea2b72b"
      },
      "source": [
        "device = torch.device(\"cuda\" if torch.cuda.is_available() else 'cpu')\n",
        "device"
      ],
      "execution_count": 2,
      "outputs": [
        {
          "output_type": "execute_result",
          "data": {
            "text/plain": [
              "device(type='cuda')"
            ]
          },
          "metadata": {},
          "execution_count": 2
        }
      ]
    },
    {
      "cell_type": "markdown",
      "metadata": {
        "id": "k0kLXp259fuA"
      },
      "source": [
        "### Dataset\n",
        "\n",
        "We are going to use [SpeechCommands](https://arxiv.org/abs/1804.03209) dataset which contains of 35 different commands spoken by different people. The dataset `SPEECHCOMMANDS` is a `torch.utils.data.Dataset` version of the dataset. In this dataset, all audio files are about 1 second long (and so about 16000 time frames long).\n",
        "\n",
        "### Spitting the dataset into `train`, `test` and `validation`."
      ]
    },
    {
      "cell_type": "code",
      "metadata": {
        "id": "u3z-JZUj7uK1"
      },
      "source": [
        "from torchaudio.datasets import SPEECHCOMMANDS\n",
        "import os\n",
        "import numpy as np\n"
      ],
      "execution_count": 3,
      "outputs": []
    },
    {
      "cell_type": "code",
      "metadata": {
        "id": "uryD96_R7uHR"
      },
      "source": [
        "class SubsetSC(SPEECHCOMMANDS):\n",
        "  def __init__(self, subset: str = None):\n",
        "    super().__init__(\"./\", download=True)\n",
        "\n",
        "    def load_list(filename):\n",
        "      filepath = os.path.join(self._path, filename)\n",
        "      with open(filepath) as f:\n",
        "        return [os.path.join(self._path, line.strip()) for line in f]\n",
        "\n",
        "    if subset == \"validation\":\n",
        "      self._walker = load_list(\"validation_list.txt\")\n",
        "    elif subset == \"testing\":\n",
        "      self._walker = load_list(\"testing_list.txt\")\n",
        "    elif subset == \"training\":\n",
        "      excludes = load_list(\"validation_list.txt\") + load_list(\"testing_list.txt\")\n",
        "      excludes = set(excludes)\n",
        "      self._walker = [w for w in self._walker if w not in excludes]\n"
      ],
      "execution_count": 4,
      "outputs": []
    },
    {
      "cell_type": "markdown",
      "metadata": {
        "id": "-7gOjZVRBVMV"
      },
      "source": [
        "### Creating train and test splits."
      ]
    },
    {
      "cell_type": "code",
      "metadata": {
        "id": "iYcn49z27uFf"
      },
      "source": [
        "train_set = SubsetSC(\"training\")\n",
        "test_set = SubsetSC(\"testing\")\n",
        "val_set = SubsetSC(\"validation\")"
      ],
      "execution_count": 5,
      "outputs": []
    },
    {
      "cell_type": "markdown",
      "metadata": {
        "id": "AOI3GKAndOeJ"
      },
      "source": [
        "### Dataset filtering\n",
        "\n",
        "We are going to filter the this dataset and get what we want from it. We are goig to take `waveform` with it's correcponding `label`."
      ]
    },
    {
      "cell_type": "code",
      "metadata": {
        "id": "4JSzkmoedlXR"
      },
      "source": [
        "#  Train \n",
        "X_train = [waveform for waveform, _, label, __, ___ in train_set]\n",
        "y_train = [label for waveform, _, label, __, ___ in train_set]\n",
        "\n",
        "# Test\n",
        "\n",
        "X_test = [waveform for waveform, _, label, __, ___ in test_set]\n",
        "y_test = [label for waveform, _, label, __, ___ in test_set]\n",
        "\n",
        "# Validation\n",
        "\n",
        "X_val = [waveform for waveform, _, label, __, ___ in val_set]\n",
        "y_val = [label for waveform, _, label, __, ___ in val_set]"
      ],
      "execution_count": 6,
      "outputs": []
    },
    {
      "cell_type": "code",
      "metadata": {
        "id": "fHUeizDhencH"
      },
      "source": [
        "from torch.utils.data import Dataset, DataLoader"
      ],
      "execution_count": 7,
      "outputs": []
    },
    {
      "cell_type": "code",
      "metadata": {
        "colab": {
          "base_uri": "https://localhost:8080/"
        },
        "id": "XKKsbBnxenW0",
        "outputId": "eb9dd14e-560d-4f7b-831a-8ce5251ca00b"
      },
      "source": [
        "X_train[0], y_train[0]"
      ],
      "execution_count": 8,
      "outputs": [
        {
          "output_type": "execute_result",
          "data": {
            "text/plain": [
              "(tensor([[-0.0658, -0.0709, -0.0753,  ..., -0.0700, -0.0731, -0.0704]]),\n",
              " 'backward')"
            ]
          },
          "metadata": {},
          "execution_count": 8
        }
      ]
    },
    {
      "cell_type": "code",
      "metadata": {
        "colab": {
          "base_uri": "https://localhost:8080/"
        },
        "id": "0kiBah2Rl5vT",
        "outputId": "900332c6-94a5-4f4f-9d61-51262ace88a8"
      },
      "source": [
        "len(y_train), len(X_train)"
      ],
      "execution_count": 9,
      "outputs": [
        {
          "output_type": "execute_result",
          "data": {
            "text/plain": [
              "(84843, 84843)"
            ]
          },
          "metadata": {},
          "execution_count": 9
        }
      ]
    },
    {
      "cell_type": "markdown",
      "metadata": {
        "id": "2VPI0Qnefqud"
      },
      "source": [
        "### Testing audio"
      ]
    },
    {
      "cell_type": "code",
      "metadata": {
        "id": "DQb5R8flfxQv"
      },
      "source": [
        "sample_rate = 16000"
      ],
      "execution_count": 10,
      "outputs": []
    },
    {
      "cell_type": "code",
      "metadata": {
        "colab": {
          "base_uri": "https://localhost:8080/",
          "height": 75
        },
        "id": "pmZpkBlPfuM_",
        "outputId": "12c08f84-a3ff-4258-80fd-8c67ba7e2101"
      },
      "source": [
        "ipd.Audio(X_train[0].numpy(), rate=sample_rate)"
      ],
      "execution_count": 11,
      "outputs": [
        {
          "output_type": "execute_result",
          "data": {
            "text/html": [
              "\n",
              "                <audio controls=\"controls\" >\n",
              "                    <source src=\"data:audio/wav;base64,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\" type=\"audio/wav\" />\n",
              "                    Your browser does not support the audio element.\n",
              "                </audio>\n",
              "              "
            ],
            "text/plain": [
              "<IPython.lib.display.Audio object>"
            ]
          },
          "metadata": {},
          "execution_count": 11
        }
      ]
    },
    {
      "cell_type": "markdown",
      "metadata": {
        "id": "ZuumwoAxfl0p"
      },
      "source": [
        "### Labels"
      ]
    },
    {
      "cell_type": "code",
      "metadata": {
        "colab": {
          "base_uri": "https://localhost:8080/"
        },
        "id": "eS6553xpenSj",
        "outputId": "d002881c-2a7d-4c91-9766-f32ccbd32909"
      },
      "source": [
        "labels = list(set(list(sorted(y_train))))\n",
        "len(labels), labels[:2]"
      ],
      "execution_count": 12,
      "outputs": [
        {
          "output_type": "execute_result",
          "data": {
            "text/plain": [
              "(35, ['eight', 'right'])"
            ]
          },
          "metadata": {},
          "execution_count": 12
        }
      ]
    },
    {
      "cell_type": "code",
      "metadata": {
        "id": "v_WwlB7XenNE"
      },
      "source": [
        "def label_to_index(label):\n",
        "  return labels.index(label)"
      ],
      "execution_count": 13,
      "outputs": []
    },
    {
      "cell_type": "code",
      "metadata": {
        "colab": {
          "base_uri": "https://localhost:8080/"
        },
        "id": "f8IHDN9YmfZu",
        "outputId": "abaa80a0-d614-4f20-c896-fdbadf43b5dd"
      },
      "source": [
        "label_to_index(\"down\")"
      ],
      "execution_count": 14,
      "outputs": [
        {
          "output_type": "execute_result",
          "data": {
            "text/plain": [
              "5"
            ]
          },
          "metadata": {},
          "execution_count": 14
        }
      ]
    },
    {
      "cell_type": "markdown",
      "metadata": {
        "id": "lhlReWYMhBiN"
      },
      "source": [
        "### Creating the dataset."
      ]
    },
    {
      "cell_type": "code",
      "metadata": {
        "id": "odxIhgGMenJk"
      },
      "source": [
        "class SpeechCommands(Dataset):\n",
        "  def __init__(self, x, y, transform=None):\n",
        "    self.transform = transform\n",
        "    self.x = x\n",
        "    self.y = [label_to_index(i) for i in y]\n",
        "    self.len = len(y)\n",
        "        \n",
        "  def __len__(self):\n",
        "    return self.len\n",
        "\n",
        "  def __getitem__(self, index):\n",
        "    sample = self.x[index], self.y[index]\n",
        "    if self.transform:\n",
        "        sample = self.transform(sample)\n",
        "    return sample"
      ],
      "execution_count": 15,
      "outputs": []
    },
    {
      "cell_type": "code",
      "metadata": {
        "id": "oE80prqfkrR7"
      },
      "source": [
        "class ToTensor:\n",
        "    def __call__(self, samples):\n",
        "        x, y = samples\n",
        "        return torch.Tensor(x), torch.Tensor([y])"
      ],
      "execution_count": 16,
      "outputs": []
    },
    {
      "cell_type": "code",
      "metadata": {
        "id": "c8Q4oVJpdlH9"
      },
      "source": [
        "train = SpeechCommands(X_train, y_train, transform=ToTensor())\n",
        "test = SpeechCommands(X_test, y_test, transform=ToTensor())\n",
        "val = SpeechCommands(X_val, y_val, transform=ToTensor())"
      ],
      "execution_count": 17,
      "outputs": []
    },
    {
      "cell_type": "code",
      "metadata": {
        "colab": {
          "base_uri": "https://localhost:8080/"
        },
        "id": "VgqnanR6rAu-",
        "outputId": "9bed7799-7c13-4bb2-b750-baef19a115ec"
      },
      "source": [
        "val[0]"
      ],
      "execution_count": 18,
      "outputs": [
        {
          "output_type": "execute_result",
          "data": {
            "text/plain": [
              "(tensor([[-0.0004, -0.0007, -0.0009,  ...,  0.0062,  0.0058,  0.0057]]),\n",
              " tensor([1.]))"
            ]
          },
          "metadata": {},
          "execution_count": 18
        }
      ]
    },
    {
      "cell_type": "markdown",
      "metadata": {
        "id": "4Tm200X0i7XQ"
      },
      "source": [
        "### Dataloaders\n",
        "We are then going to create data lodaers for both our sets:\n",
        "\n",
        "1. `train`\n",
        "2. `test`\n",
        "3. `validation`\n",
        "\n",
        "We are also going to pad the sequences by applying the collate_function to the dataloader beacause the `DataLoader` class takes the following as args and keyword args.\n",
        "\n",
        "```py\n",
        "DataLoader(dataset, batch_size=1, shuffle=False, sampler=None,\n",
        "           batch_sampler=None, num_workers=0, collate_fn=None,\n",
        "           pin_memory=False, drop_last=False, timeout=0,\n",
        "           worker_init_fn=None, *, prefetch_factor=2,\n",
        "           persistent_workers=False)\n",
        "```\n",
        "\n",
        "We are also going to transform the `waveform` by reducing the `sample_rate` from `16000` to `8000`\n",
        "\n",
        "\n"
      ]
    },
    {
      "cell_type": "code",
      "metadata": {
        "id": "HXFxuZQjqZBb"
      },
      "source": [
        "new_sample_rate = 8000\n",
        "transform = torchaudio.transforms.Resample(orig_freq=sample_rate,\n",
        "                                           new_freq=new_sample_rate)"
      ],
      "execution_count": 19,
      "outputs": []
    },
    {
      "cell_type": "code",
      "metadata": {
        "id": "j7qKPq-dsEPC"
      },
      "source": [
        ""
      ],
      "execution_count": 19,
      "outputs": []
    },
    {
      "cell_type": "code",
      "metadata": {
        "id": "5wjioQfBoIvB"
      },
      "source": [
        "def pad_sequence(batch):\n",
        "  batch = [item.t() for item in batch]\n",
        "  batch = torch.nn.utils.rnn.pad_sequence(batch, batch_first=True, padding_value=0.)\n",
        "  return batch.permute(0, 2, 1)\n",
        "\n",
        "\n",
        "def collate_fn(batch):\n",
        "  tensors, targets = [], []\n",
        "\n",
        "  for waveform, label in batch:\n",
        "    tensors += [transform(waveform)]\n",
        "    targets += [label.type(torch.LongTensor).squeeze()]\n",
        "\n",
        "  tensors = pad_sequence(tensors)\n",
        "  targets = torch.stack(targets)\n",
        "  return tensors, targets"
      ],
      "execution_count": 20,
      "outputs": []
    },
    {
      "cell_type": "code",
      "metadata": {
        "id": "sRWkjUhgi9MS"
      },
      "source": [
        "BATCH_SIZE = 64\n",
        "\n",
        "train_loader = DataLoader(\n",
        "    train,\n",
        "    shuffle=True,\n",
        "    batch_size=BATCH_SIZE,\n",
        "    collate_fn=collate_fn\n",
        ")\n",
        "\n",
        "test_loader = DataLoader(\n",
        "    test,\n",
        "    shuffle=True, # should be false\n",
        "    batch_size=BATCH_SIZE,\n",
        "    collate_fn = collate_fn\n",
        ")\n",
        "\n",
        "val_loader = DataLoader(\n",
        "    val,\n",
        "    shuffle=True, #should be false\n",
        "    batch_size=BATCH_SIZE,\n",
        "    collate_fn=collate_fn\n",
        "\n",
        ")\n"
      ],
      "execution_count": 21,
      "outputs": []
    },
    {
      "cell_type": "markdown",
      "metadata": {
        "id": "4-KGxQgMpdEE"
      },
      "source": [
        "### Creating a model\n",
        "\n",
        "Next we are going to create a model."
      ]
    },
    {
      "cell_type": "code",
      "metadata": {
        "id": "IyhBOdcvs3p5"
      },
      "source": [
        "class M5(nn.Module):\n",
        "  def __init__(self, n_input=1, n_output=35, stride=16, n_channel=32):\n",
        "    super(M5, self).__init__()\n",
        "    self.conv1 = nn.Conv1d(n_input, n_channel, kernel_size=80, stride=stride)\n",
        "    self.bn1 = nn.BatchNorm1d(n_channel)\n",
        "    self.pool1 = nn.MaxPool1d(4)\n",
        "\n",
        "    self.conv2 = nn.Conv1d(n_channel, n_channel, kernel_size=3)\n",
        "    self.bn2 = nn.BatchNorm1d(n_channel)\n",
        "    self.pool2 = nn.MaxPool1d(4)\n",
        "\n",
        "    self.conv3 = nn.Conv1d(n_channel, 2 * n_channel, kernel_size=3)\n",
        "    self.bn3 = nn.BatchNorm1d(2 * n_channel)\n",
        "    self.pool3 = nn.MaxPool1d(4)\n",
        "\n",
        "    self.conv4 = nn.Conv1d(2 * n_channel, 2 * n_channel, kernel_size=3)\n",
        "    self.bn4 = nn.BatchNorm1d(2 * n_channel)\n",
        "    self.pool4 = nn.MaxPool1d(4)\n",
        "\n",
        "    self.fc1 = nn.Linear(2 * n_channel, n_output)\n",
        "\n",
        "\n",
        "  def forward(self, x):\n",
        "    x = self.conv1(x)\n",
        "    x = F.relu(self.bn1(x))\n",
        "    x = self.pool1(x)\n",
        "    x = self.conv2(x)\n",
        "    x = F.relu(self.bn2(x))\n",
        "    x = self.pool2(x)\n",
        "    x = self.conv3(x)\n",
        "    x = F.relu(self.bn3(x))\n",
        "    x = self.pool3(x)\n",
        "    x = self.conv4(x)\n",
        "    x = F.relu(self.bn4(x))\n",
        "    x = self.pool4(x)\n",
        "    x = F.avg_pool1d(x, x.shape[-1])\n",
        "    x = x.permute(0, 2, 1)\n",
        "    x = self.fc1(x)\n",
        "    return x"
      ],
      "execution_count": 22,
      "outputs": []
    },
    {
      "cell_type": "code",
      "metadata": {
        "colab": {
          "base_uri": "https://localhost:8080/"
        },
        "id": "iZe4Z5o6s3lS",
        "outputId": "784b48dd-7e8b-4edb-9aaa-45533fa72192"
      },
      "source": [
        "model = M5(n_input=1, n_output=len(labels)).to(device)\n",
        "model"
      ],
      "execution_count": 23,
      "outputs": [
        {
          "output_type": "execute_result",
          "data": {
            "text/plain": [
              "M5(\n",
              "  (conv1): Conv1d(1, 32, kernel_size=(80,), stride=(16,))\n",
              "  (bn1): BatchNorm1d(32, eps=1e-05, momentum=0.1, affine=True, track_running_stats=True)\n",
              "  (pool1): MaxPool1d(kernel_size=4, stride=4, padding=0, dilation=1, ceil_mode=False)\n",
              "  (conv2): Conv1d(32, 32, kernel_size=(3,), stride=(1,))\n",
              "  (bn2): BatchNorm1d(32, eps=1e-05, momentum=0.1, affine=True, track_running_stats=True)\n",
              "  (pool2): MaxPool1d(kernel_size=4, stride=4, padding=0, dilation=1, ceil_mode=False)\n",
              "  (conv3): Conv1d(32, 64, kernel_size=(3,), stride=(1,))\n",
              "  (bn3): BatchNorm1d(64, eps=1e-05, momentum=0.1, affine=True, track_running_stats=True)\n",
              "  (pool3): MaxPool1d(kernel_size=4, stride=4, padding=0, dilation=1, ceil_mode=False)\n",
              "  (conv4): Conv1d(64, 64, kernel_size=(3,), stride=(1,))\n",
              "  (bn4): BatchNorm1d(64, eps=1e-05, momentum=0.1, affine=True, track_running_stats=True)\n",
              "  (pool4): MaxPool1d(kernel_size=4, stride=4, padding=0, dilation=1, ceil_mode=False)\n",
              "  (fc1): Linear(in_features=64, out_features=35, bias=True)\n",
              ")"
            ]
          },
          "metadata": {},
          "execution_count": 23
        }
      ]
    },
    {
      "cell_type": "code",
      "metadata": {
        "colab": {
          "base_uri": "https://localhost:8080/"
        },
        "id": "4L1gXi8Os3jU",
        "outputId": "c1fb8ac8-85b1-4ce9-e87d-ddf932308c57"
      },
      "source": [
        "def count_trainable_params(model):\n",
        "  return sum(p.numel() for p in model.parameters()), sum(p.numel() for p in model.parameters() if p.requires_grad)\n",
        "\n",
        "n_params, trainable_params = count_trainable_params(model)\n",
        "print(f\"Total number of paramaters: {n_params:,}\\nTotal tainable parameters: {trainable_params:,}\")"
      ],
      "execution_count": 24,
      "outputs": [
        {
          "output_type": "stream",
          "name": "stdout",
          "text": [
            "Total number of paramaters: 26,915\n",
            "Total tainable parameters: 26,915\n"
          ]
        }
      ]
    },
    {
      "cell_type": "markdown",
      "metadata": {
        "id": "mj2C35XMt28G"
      },
      "source": [
        "### Criterion and Optimizer"
      ]
    },
    {
      "cell_type": "code",
      "metadata": {
        "id": "EBnLPvwEs3fw"
      },
      "source": [
        "optimizer = torch.optim.Adam(model.parameters())\n",
        "criterion = nn.CrossEntropyLoss().to(device)\n"
      ],
      "execution_count": 25,
      "outputs": []
    },
    {
      "cell_type": "markdown",
      "metadata": {
        "id": "3-gC1v9At86z"
      },
      "source": [
        "### Categorical accuracy function"
      ]
    },
    {
      "cell_type": "code",
      "metadata": {
        "id": "HWvmWQNSs3dz"
      },
      "source": [
        "def categorical_accuracy(preds, y):\n",
        "  top_pred = preds.argmax(1, keepdim = True)\n",
        "  correct = top_pred.eq(y.view_as(top_pred)).sum()\n",
        "  acc = correct.float() / y.shape[0]\n",
        "  return acc"
      ],
      "execution_count": 26,
      "outputs": []
    },
    {
      "cell_type": "markdown",
      "metadata": {
        "id": "PG--0x4suEDA"
      },
      "source": [
        "### Train and evaluation function"
      ]
    },
    {
      "cell_type": "code",
      "metadata": {
        "id": "MIsN5juiuPNM"
      },
      "source": [
        "def train(model, iterator, optimizer, criterion):\n",
        "  epoch_loss = 0\n",
        "  epoch_acc = 0\n",
        "  model.train()\n",
        "  for X, y in iterator:\n",
        "    X, y = X.to(device), y.type(torch.LongTensor).to(device)\n",
        "    optimizer.zero_grad()\n",
        "    predictions = model(X).squeeze(1)\n",
        "    loss = criterion(predictions, y)\n",
        "    acc = categorical_accuracy(predictions, y)\n",
        "    loss.backward()\n",
        "    optimizer.step()\n",
        "    epoch_loss += loss.item()\n",
        "    epoch_acc += acc.item()\n",
        "  return epoch_loss / len(iterator), epoch_acc / len(iterator)\n",
        "\n",
        "def evaluate(model, iterator, criterion):\n",
        "  epoch_loss = 0\n",
        "  epoch_acc = 0\n",
        "  model.eval()\n",
        "  with torch.no_grad():\n",
        "    for X, y in iterator:\n",
        "      X, y = X.to(device), y.type(torch.LongTensor).to(device)\n",
        "      predictions = model(X).squeeze(1)\n",
        "      loss = criterion(predictions, y)\n",
        "      acc = categorical_accuracy(predictions, y)\n",
        "      epoch_loss += loss.item()\n",
        "      epoch_acc += acc.item()\n",
        "  return epoch_loss / len(iterator), epoch_acc / len(iterator)"
      ],
      "execution_count": 27,
      "outputs": []
    },
    {
      "cell_type": "markdown",
      "metadata": {
        "id": "Ap1u3GS0wX32"
      },
      "source": [
        "### Train Loop\n",
        "\n",
        "We will create helper functions that will help us to visualize training each and every epoch.\n",
        "\n",
        "1. Time to string "
      ]
    },
    {
      "cell_type": "code",
      "metadata": {
        "id": "nK_BxEOHwoeU"
      },
      "source": [
        "import time\n",
        "from prettytable import PrettyTable"
      ],
      "execution_count": 28,
      "outputs": []
    },
    {
      "cell_type": "code",
      "metadata": {
        "id": "XxBw68-wuPJd"
      },
      "source": [
        "\n",
        "def hms_string(sec_elapsed):\n",
        "    h = int(sec_elapsed / (60 * 60))\n",
        "    m = int((sec_elapsed % (60 * 60)) / 60)\n",
        "    s = sec_elapsed % 60\n",
        "    return \"{}:{:>02}:{:>05.2f}\".format(h, m, s)"
      ],
      "execution_count": 29,
      "outputs": []
    },
    {
      "cell_type": "markdown",
      "metadata": {
        "id": "YC095tPowzaQ"
      },
      "source": [
        "2. tabulate training"
      ]
    },
    {
      "cell_type": "code",
      "metadata": {
        "id": "47TVCTVCuPGC"
      },
      "source": [
        "def visualize_training(start, end, train_loss, train_accuracy, val_loss, val_accuracy, title):\n",
        "  data = [\n",
        "       [\"Training\", f'{train_loss:.3f}', f'{train_accuracy:.3f}', f\"{hms_string(end - start)}\" ],\n",
        "       [\"Validation\", f'{val_loss:.3f}', f'{val_accuracy:.3f}', \"\" ],       \n",
        "  ]\n",
        "  table = PrettyTable([\"CATEGORY\", \"LOSS\", \"ACCURACY\", \"ETA\"])\n",
        "  table.align[\"CATEGORY\"] = 'l'\n",
        "  table.align[\"LOSS\"] = 'r'\n",
        "  table.align[\"ACCURACY\"] = 'r'\n",
        "  table.align[\"ETA\"] = 'r'\n",
        "  table.title = title\n",
        "  for row in data:\n",
        "    table.add_row(row)\n",
        "  print(table)\n",
        "  "
      ],
      "execution_count": 30,
      "outputs": []
    },
    {
      "cell_type": "code",
      "metadata": {
        "colab": {
          "base_uri": "https://localhost:8080/"
        },
        "id": "B9wIfNsQuPBa",
        "outputId": "d321442b-7045-4bfb-e631-d4091e4f5a69"
      },
      "source": [
        "N_EPOCHS = 10\n",
        "best_valid_loss = float('inf')\n",
        "for epoch in range(N_EPOCHS):\n",
        "    start = time.time()\n",
        "    train_loss, train_acc = train(model, train_loader, optimizer, criterion)\n",
        "    valid_loss, valid_acc = evaluate(model, val_loader, criterion)\n",
        "    title = f\"EPOCH: {epoch+1:02}/{N_EPOCHS:02} {'saving best model...' if valid_loss < best_valid_loss else 'not saving...'}\"\n",
        "    if valid_loss < best_valid_loss:\n",
        "        best_valid_loss = valid_loss\n",
        "        torch.save(model.state_dict(), 'best-model.pt')\n",
        "    end = time.time()\n",
        "    visualize_training(start, end, train_loss, train_acc, valid_loss, valid_acc, title)"
      ],
      "execution_count": 32,
      "outputs": [
        {
          "output_type": "stream",
          "name": "stdout",
          "text": [
            "+--------------------------------------------+\n",
            "|     EPOCH: 01/10 saving best model...      |\n",
            "+------------+-------+----------+------------+\n",
            "| CATEGORY   |  LOSS | ACCURACY |        ETA |\n",
            "+------------+-------+----------+------------+\n",
            "| Training   | 1.833 |    0.490 | 0:02:47.17 |\n",
            "| Validation | 1.131 |    0.672 |            |\n",
            "+------------+-------+----------+------------+\n",
            "+--------------------------------------------+\n",
            "|     EPOCH: 02/10 saving best model...      |\n",
            "+------------+-------+----------+------------+\n",
            "| CATEGORY   |  LOSS | ACCURACY |        ETA |\n",
            "+------------+-------+----------+------------+\n",
            "| Training   | 0.997 |    0.714 | 0:02:45.91 |\n",
            "| Validation | 0.945 |    0.714 |            |\n",
            "+------------+-------+----------+------------+\n",
            "+--------------------------------------------+\n",
            "|     EPOCH: 03/10 saving best model...      |\n",
            "+------------+-------+----------+------------+\n",
            "| CATEGORY   |  LOSS | ACCURACY |        ETA |\n",
            "+------------+-------+----------+------------+\n",
            "| Training   | 0.825 |    0.761 | 0:02:45.16 |\n",
            "| Validation | 0.779 |    0.772 |            |\n",
            "+------------+-------+----------+------------+\n",
            "+--------------------------------------------+\n",
            "|     EPOCH: 04/10 saving best model...      |\n",
            "+------------+-------+----------+------------+\n",
            "| CATEGORY   |  LOSS | ACCURACY |        ETA |\n",
            "+------------+-------+----------+------------+\n",
            "| Training   | 0.738 |    0.784 | 0:02:45.27 |\n",
            "| Validation | 0.740 |    0.779 |            |\n",
            "+------------+-------+----------+------------+\n",
            "+--------------------------------------------+\n",
            "|     EPOCH: 05/10 saving best model...      |\n",
            "+------------+-------+----------+------------+\n",
            "| CATEGORY   |  LOSS | ACCURACY |        ETA |\n",
            "+------------+-------+----------+------------+\n",
            "| Training   | 0.675 |    0.803 | 0:02:43.79 |\n",
            "| Validation | 0.684 |    0.796 |            |\n",
            "+------------+-------+----------+------------+\n",
            "+--------------------------------------------+\n",
            "|     EPOCH: 06/10 saving best model...      |\n",
            "+------------+-------+----------+------------+\n",
            "| CATEGORY   |  LOSS | ACCURACY |        ETA |\n",
            "+------------+-------+----------+------------+\n",
            "| Training   | 0.634 |    0.814 | 0:02:44.00 |\n",
            "| Validation | 0.631 |    0.811 |            |\n",
            "+------------+-------+----------+------------+\n",
            "+--------------------------------------------+\n",
            "|     EPOCH: 07/10 saving best model...      |\n",
            "+------------+-------+----------+------------+\n",
            "| CATEGORY   |  LOSS | ACCURACY |        ETA |\n",
            "+------------+-------+----------+------------+\n",
            "| Training   | 0.602 |    0.823 | 0:02:44.69 |\n",
            "| Validation | 0.584 |    0.830 |            |\n",
            "+------------+-------+----------+------------+\n",
            "+--------------------------------------------+\n",
            "|         EPOCH: 08/10 not saving...         |\n",
            "+------------+-------+----------+------------+\n",
            "| CATEGORY   |  LOSS | ACCURACY |        ETA |\n",
            "+------------+-------+----------+------------+\n",
            "| Training   | 0.575 |    0.830 | 0:02:45.09 |\n",
            "| Validation | 0.589 |    0.828 |            |\n",
            "+------------+-------+----------+------------+\n",
            "+--------------------------------------------+\n",
            "|         EPOCH: 09/10 not saving...         |\n",
            "+------------+-------+----------+------------+\n",
            "| CATEGORY   |  LOSS | ACCURACY |        ETA |\n",
            "+------------+-------+----------+------------+\n",
            "| Training   | 0.554 |    0.835 | 0:02:44.24 |\n",
            "| Validation | 0.607 |    0.821 |            |\n",
            "+------------+-------+----------+------------+\n",
            "+--------------------------------------------+\n",
            "|     EPOCH: 10/10 saving best model...      |\n",
            "+------------+-------+----------+------------+\n",
            "| CATEGORY   |  LOSS | ACCURACY |        ETA |\n",
            "+------------+-------+----------+------------+\n",
            "| Training   | 0.537 |    0.840 | 0:02:44.76 |\n",
            "| Validation | 0.567 |    0.838 |            |\n",
            "+------------+-------+----------+------------+\n"
          ]
        }
      ]
    },
    {
      "cell_type": "markdown",
      "metadata": {
        "id": "9O1GoesXyGRc"
      },
      "source": [
        "### Evaluating the best model."
      ]
    },
    {
      "cell_type": "code",
      "metadata": {
        "colab": {
          "base_uri": "https://localhost:8080/"
        },
        "id": "LhaBnNnVyOX5",
        "outputId": "8ff433bd-05d1-4865-d7e8-474a69fedc9d"
      },
      "source": [
        "model.load_state_dict(torch.load('best-model.pt'))\n",
        "\n",
        "test_loss, test_acc = evaluate(model, test_loader, criterion)\n",
        "print(f'Test Loss: {test_loss:.3f} | Test Acc: {test_acc*100:.2f}%')"
      ],
      "execution_count": 33,
      "outputs": [
        {
          "output_type": "stream",
          "name": "stdout",
          "text": [
            "Test Loss: 0.631 | Test Acc: 81.83%\n"
          ]
        }
      ]
    },
    {
      "cell_type": "markdown",
      "metadata": {
        "id": "GJSs0nAc0CTi"
      },
      "source": [
        "### Model inference"
      ]
    },
    {
      "cell_type": "code",
      "metadata": {
        "id": "pP3VAUES0fAH"
      },
      "source": [
        "def index_to_label(i):\n",
        "  return labels[i]"
      ],
      "execution_count": 34,
      "outputs": []
    },
    {
      "cell_type": "code",
      "metadata": {
        "id": "BMAzyvlQ94tN"
      },
      "source": [
        "for batch in train_loader:\n",
        "  break"
      ],
      "execution_count": 59,
      "outputs": []
    },
    {
      "cell_type": "code",
      "metadata": {
        "id": "5GBE_qNU_Y4w"
      },
      "source": [
        "def predict(index):\n",
        "  label = torch.argmax(model(batch[0][index].unsqueeze(1).to(device)), dim=-1).squeeze().item()\n",
        "\n",
        "  preds ={\n",
        "      \"actual_label\": batch[1][index].item(),\n",
        "      \"predicted_label\": label,\n",
        "      \"actual_class\": index_to_label(batch[1][index].item()),\n",
        "      \"predicted_class\": index_to_label(label)\n",
        "  }\n",
        "  return preds\n"
      ],
      "execution_count": 65,
      "outputs": []
    },
    {
      "cell_type": "markdown",
      "metadata": {
        "id": "pP0IHOBzAGJK"
      },
      "source": [
        "### Train example"
      ]
    },
    {
      "cell_type": "code",
      "metadata": {
        "colab": {
          "base_uri": "https://localhost:8080/"
        },
        "id": "OH7mHrg-AZkK",
        "outputId": "5582030d-3f8e-4394-8619-6c934c7cdc57"
      },
      "source": [
        "index=0\n",
        "sample_rate=8000\n",
        "waveform = batch[0][index]\n",
        "predict(index)"
      ],
      "execution_count": 76,
      "outputs": [
        {
          "output_type": "execute_result",
          "data": {
            "text/plain": [
              "{'actual_class': 'up',\n",
              " 'actual_label': 27,\n",
              " 'predicted_class': 'up',\n",
              " 'predicted_label': 27}"
            ]
          },
          "metadata": {},
          "execution_count": 76
        }
      ]
    },
    {
      "cell_type": "code",
      "metadata": {
        "colab": {
          "base_uri": "https://localhost:8080/",
          "height": 75
        },
        "id": "Puxv89nQAX7m",
        "outputId": "aba5e607-3ae6-45e6-bb5a-1eabca42ba62"
      },
      "source": [
        "ipd.Audio(waveform.numpy(), rate=sample_rate)"
      ],
      "execution_count": 77,
      "outputs": [
        {
          "output_type": "execute_result",
          "data": {
            "text/html": [
              "\n",
              "                <audio controls=\"controls\" >\n",
              "                    <source src=\"data:audio/wav;base64,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\" type=\"audio/wav\" />\n",
              "                    Your browser does not support the audio element.\n",
              "                </audio>\n",
              "              "
            ],
            "text/plain": [
              "<IPython.lib.display.Audio object>"
            ]
          },
          "metadata": {},
          "execution_count": 77
        }
      ]
    },
    {
      "cell_type": "code",
      "metadata": {
        "colab": {
          "base_uri": "https://localhost:8080/"
        },
        "id": "357zI-vFA4IV",
        "outputId": "f32797b4-c783-4837-a869-ebcef78f3451"
      },
      "source": [
        "index=-1\n",
        "sample_rate=8000\n",
        "waveform = batch[0][index]\n",
        "predict(index)"
      ],
      "execution_count": 78,
      "outputs": [
        {
          "output_type": "execute_result",
          "data": {
            "text/plain": [
              "{'actual_class': 'four',\n",
              " 'actual_label': 25,\n",
              " 'predicted_class': 'four',\n",
              " 'predicted_label': 25}"
            ]
          },
          "metadata": {},
          "execution_count": 78
        }
      ]
    },
    {
      "cell_type": "code",
      "metadata": {
        "colab": {
          "base_uri": "https://localhost:8080/",
          "height": 75
        },
        "id": "fI0Ivud2BCcq",
        "outputId": "d7609094-2dff-4787-ff0d-2d5f8f3f880f"
      },
      "source": [
        "ipd.Audio(waveform.numpy(), rate=sample_rate)"
      ],
      "execution_count": 79,
      "outputs": [
        {
          "output_type": "execute_result",
          "data": {
            "text/html": [
              "\n",
              "                <audio controls=\"controls\" >\n",
              "                    <source src=\"data:audio/wav;base64,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\" type=\"audio/wav\" />\n",
              "                    Your browser does not support the audio element.\n",
              "                </audio>\n",
              "              "
            ],
            "text/plain": [
              "<IPython.lib.display.Audio object>"
            ]
          },
          "metadata": {},
          "execution_count": 79
        }
      ]
    },
    {
      "cell_type": "markdown",
      "metadata": {
        "id": "sDmxJJ2qALnx"
      },
      "source": [
        "### Valid example"
      ]
    },
    {
      "cell_type": "code",
      "metadata": {
        "id": "bPMdy9DeBTg4"
      },
      "source": [
        "for batch in val_loader:\n",
        "  break"
      ],
      "execution_count": 82,
      "outputs": []
    },
    {
      "cell_type": "code",
      "metadata": {
        "colab": {
          "base_uri": "https://localhost:8080/"
        },
        "id": "US-EKZHEAQN6",
        "outputId": "c661e718-53d4-420f-9063-cea6040dd11b"
      },
      "source": [
        "index=0\n",
        "sample_rate=8000\n",
        "waveform = batch[0][index]\n",
        "predict(index)"
      ],
      "execution_count": 83,
      "outputs": [
        {
          "output_type": "execute_result",
          "data": {
            "text/plain": [
              "{'actual_class': 'nine',\n",
              " 'actual_label': 16,\n",
              " 'predicted_class': 'no',\n",
              " 'predicted_label': 33}"
            ]
          },
          "metadata": {},
          "execution_count": 83
        }
      ]
    },
    {
      "cell_type": "code",
      "metadata": {
        "colab": {
          "base_uri": "https://localhost:8080/",
          "height": 75
        },
        "id": "p8s1rjujBGH5",
        "outputId": "6785b62c-a52d-4523-db38-3c4e1122c8c0"
      },
      "source": [
        "ipd.Audio(waveform.numpy(), rate=sample_rate)"
      ],
      "execution_count": 84,
      "outputs": [
        {
          "output_type": "execute_result",
          "data": {
            "text/html": [
              "\n",
              "                <audio controls=\"controls\" >\n",
              "                    <source src=\"data:audio/wav;base64,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\" type=\"audio/wav\" />\n",
              "                    Your browser does not support the audio element.\n",
              "                </audio>\n",
              "              "
            ],
            "text/plain": [
              "<IPython.lib.display.Audio object>"
            ]
          },
          "metadata": {},
          "execution_count": 84
        }
      ]
    },
    {
      "cell_type": "code",
      "metadata": {
        "colab": {
          "base_uri": "https://localhost:8080/"
        },
        "id": "n0wCXwiuBF_a",
        "outputId": "1aff9dfb-6de7-480e-9da9-4475a960925e"
      },
      "source": [
        "index=-1\n",
        "sample_rate=8000\n",
        "waveform = batch[0][index]\n",
        "predict(index)"
      ],
      "execution_count": 85,
      "outputs": [
        {
          "output_type": "execute_result",
          "data": {
            "text/plain": [
              "{'actual_class': 'sheila',\n",
              " 'actual_label': 9,\n",
              " 'predicted_class': 'sheila',\n",
              " 'predicted_label': 9}"
            ]
          },
          "metadata": {},
          "execution_count": 85
        }
      ]
    },
    {
      "cell_type": "code",
      "metadata": {
        "colab": {
          "base_uri": "https://localhost:8080/",
          "height": 75
        },
        "id": "EQceM2OcBF2-",
        "outputId": "8a11be48-d3d7-419e-806b-aefacf66bab2"
      },
      "source": [
        "ipd.Audio(waveform.numpy(), rate=sample_rate)"
      ],
      "execution_count": 86,
      "outputs": [
        {
          "output_type": "execute_result",
          "data": {
            "text/html": [
              "\n",
              "                <audio controls=\"controls\" >\n",
              "                    <source src=\"data:audio/wav;base64,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\" type=\"audio/wav\" />\n",
              "                    Your browser does not support the audio element.\n",
              "                </audio>\n",
              "              "
            ],
            "text/plain": [
              "<IPython.lib.display.Audio object>"
            ]
          },
          "metadata": {},
          "execution_count": 86
        }
      ]
    },
    {
      "cell_type": "markdown",
      "metadata": {
        "id": "Z4aU5Ft0AN1B"
      },
      "source": [
        "### Test example"
      ]
    },
    {
      "cell_type": "code",
      "metadata": {
        "id": "381GkJiLBgkP"
      },
      "source": [
        "for batch in test_loader:\n",
        "  break"
      ],
      "execution_count": 87,
      "outputs": []
    },
    {
      "cell_type": "code",
      "metadata": {
        "colab": {
          "base_uri": "https://localhost:8080/"
        },
        "id": "78ahceApAPu7",
        "outputId": "9e38d505-bd21-4cc8-f7f0-f204dda3be7f"
      },
      "source": [
        "index=0\n",
        "sample_rate=8000\n",
        "waveform = batch[0][index]\n",
        "predict(index)"
      ],
      "execution_count": 88,
      "outputs": [
        {
          "output_type": "execute_result",
          "data": {
            "text/plain": [
              "{'actual_class': 'follow',\n",
              " 'actual_label': 31,\n",
              " 'predicted_class': 'follow',\n",
              " 'predicted_label': 31}"
            ]
          },
          "metadata": {},
          "execution_count": 88
        }
      ]
    },
    {
      "cell_type": "code",
      "metadata": {
        "colab": {
          "base_uri": "https://localhost:8080/",
          "height": 75
        },
        "id": "oT50CQPnBNiC",
        "outputId": "b34fed39-4285-455c-8f92-9374f2ec779f"
      },
      "source": [
        "ipd.Audio(waveform.numpy(), rate=sample_rate)"
      ],
      "execution_count": 89,
      "outputs": [
        {
          "output_type": "execute_result",
          "data": {
            "text/html": [
              "\n",
              "                <audio controls=\"controls\" >\n",
              "                    <source src=\"data:audio/wav;base64,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\" type=\"audio/wav\" />\n",
              "                    Your browser does not support the audio element.\n",
              "                </audio>\n",
              "              "
            ],
            "text/plain": [
              "<IPython.lib.display.Audio object>"
            ]
          },
          "metadata": {},
          "execution_count": 89
        }
      ]
    },
    {
      "cell_type": "code",
      "metadata": {
        "colab": {
          "base_uri": "https://localhost:8080/"
        },
        "id": "QrAljJsMBM-4",
        "outputId": "d1e85e2f-ba06-4dd6-98a6-6a7483bc1f22"
      },
      "source": [
        "index=-1\n",
        "sample_rate=8000\n",
        "waveform = batch[0][index]\n",
        "predict(index)"
      ],
      "execution_count": 90,
      "outputs": [
        {
          "output_type": "execute_result",
          "data": {
            "text/plain": [
              "{'actual_class': 'off',\n",
              " 'actual_label': 10,\n",
              " 'predicted_class': 'off',\n",
              " 'predicted_label': 10}"
            ]
          },
          "metadata": {},
          "execution_count": 90
        }
      ]
    },
    {
      "cell_type": "code",
      "metadata": {
        "colab": {
          "base_uri": "https://localhost:8080/",
          "height": 75
        },
        "id": "61EEPnlzBM0l",
        "outputId": "1a690ab6-1571-4e4f-aab6-800787b91c6e"
      },
      "source": [
        "ipd.Audio(waveform.numpy(), rate=sample_rate)"
      ],
      "execution_count": 91,
      "outputs": [
        {
          "output_type": "execute_result",
          "data": {
            "text/html": [
              "\n",
              "                <audio controls=\"controls\" >\n",
              "                    <source src=\"data:audio/wav;base64,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\" type=\"audio/wav\" />\n",
              "                    Your browser does not support the audio element.\n",
              "                </audio>\n",
              "              "
            ],
            "text/plain": [
              "<IPython.lib.display.Audio object>"
            ]
          },
          "metadata": {},
          "execution_count": 91
        }
      ]
    },
    {
      "cell_type": "code",
      "metadata": {
        "id": "OUeF9qXBBvPe"
      },
      "source": [
        ""
      ],
      "execution_count": null,
      "outputs": []
    }
  ]
}