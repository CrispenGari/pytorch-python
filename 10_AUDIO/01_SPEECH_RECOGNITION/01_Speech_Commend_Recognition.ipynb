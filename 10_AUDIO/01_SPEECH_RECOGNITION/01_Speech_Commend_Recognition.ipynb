{
  "nbformat": 4,
  "nbformat_minor": 0,
  "metadata": {
    "colab": {
      "name": "01_Speech_Commend_Recognition.ipynb",
      "provenance": []
    },
    "kernelspec": {
      "name": "python3",
      "display_name": "Python 3"
    },
    "language_info": {
      "name": "python"
    },
    "accelerator": "GPU",
    "widgets": {
      "application/vnd.jupyter.widget-state+json": {
        "146214f6b4b4488cb822ac21df81044c": {
          "model_module": "@jupyter-widgets/controls",
          "model_name": "HBoxModel",
          "model_module_version": "1.5.0",
          "state": {
            "_view_name": "HBoxView",
            "_dom_classes": [],
            "_model_name": "HBoxModel",
            "_view_module": "@jupyter-widgets/controls",
            "_model_module_version": "1.5.0",
            "_view_count": null,
            "_view_module_version": "1.5.0",
            "box_style": "",
            "layout": "IPY_MODEL_688cbca8774f41c891f2c57d16429bd4",
            "_model_module": "@jupyter-widgets/controls",
            "children": [
              "IPY_MODEL_47d16b54cc234db7acdec000efa07bf0",
              "IPY_MODEL_61e9cdebe5ce4c238301879cdddebb96",
              "IPY_MODEL_05f05a28db4d44d687c4abff294973cd"
            ]
          }
        },
        "688cbca8774f41c891f2c57d16429bd4": {
          "model_module": "@jupyter-widgets/base",
          "model_name": "LayoutModel",
          "model_module_version": "1.2.0",
          "state": {
            "_view_name": "LayoutView",
            "grid_template_rows": null,
            "right": null,
            "justify_content": null,
            "_view_module": "@jupyter-widgets/base",
            "overflow": null,
            "_model_module_version": "1.2.0",
            "_view_count": null,
            "flex_flow": null,
            "width": null,
            "min_width": null,
            "border": null,
            "align_items": null,
            "bottom": null,
            "_model_module": "@jupyter-widgets/base",
            "top": null,
            "grid_column": null,
            "overflow_y": null,
            "overflow_x": null,
            "grid_auto_flow": null,
            "grid_area": null,
            "grid_template_columns": null,
            "flex": null,
            "_model_name": "LayoutModel",
            "justify_items": null,
            "grid_row": null,
            "max_height": null,
            "align_content": null,
            "visibility": null,
            "align_self": null,
            "height": null,
            "min_height": null,
            "padding": null,
            "grid_auto_rows": null,
            "grid_gap": null,
            "max_width": null,
            "order": null,
            "_view_module_version": "1.2.0",
            "grid_template_areas": null,
            "object_position": null,
            "object_fit": null,
            "grid_auto_columns": null,
            "margin": null,
            "display": null,
            "left": null
          }
        },
        "47d16b54cc234db7acdec000efa07bf0": {
          "model_module": "@jupyter-widgets/controls",
          "model_name": "HTMLModel",
          "model_module_version": "1.5.0",
          "state": {
            "_view_name": "HTMLView",
            "style": "IPY_MODEL_04339fbad4f54163812b7f75b96aae66",
            "_dom_classes": [],
            "description": "",
            "_model_name": "HTMLModel",
            "placeholder": "​",
            "_view_module": "@jupyter-widgets/controls",
            "_model_module_version": "1.5.0",
            "value": "100%",
            "_view_count": null,
            "_view_module_version": "1.5.0",
            "description_tooltip": null,
            "_model_module": "@jupyter-widgets/controls",
            "layout": "IPY_MODEL_7d5306ceb26f4a95ad555755efdd39c2"
          }
        },
        "61e9cdebe5ce4c238301879cdddebb96": {
          "model_module": "@jupyter-widgets/controls",
          "model_name": "FloatProgressModel",
          "model_module_version": "1.5.0",
          "state": {
            "_view_name": "ProgressView",
            "style": "IPY_MODEL_658cfbb922084872a0a3a9b0de1b4330",
            "_dom_classes": [],
            "description": "",
            "_model_name": "FloatProgressModel",
            "bar_style": "success",
            "max": 2428923189,
            "_view_module": "@jupyter-widgets/controls",
            "_model_module_version": "1.5.0",
            "value": 2428923189,
            "_view_count": null,
            "_view_module_version": "1.5.0",
            "orientation": "horizontal",
            "min": 0,
            "description_tooltip": null,
            "_model_module": "@jupyter-widgets/controls",
            "layout": "IPY_MODEL_920ca2fc97df4a89a879065fe8d9ca21"
          }
        },
        "05f05a28db4d44d687c4abff294973cd": {
          "model_module": "@jupyter-widgets/controls",
          "model_name": "HTMLModel",
          "model_module_version": "1.5.0",
          "state": {
            "_view_name": "HTMLView",
            "style": "IPY_MODEL_f12925a2530244caa1a69b67a6b9ad5a",
            "_dom_classes": [],
            "description": "",
            "_model_name": "HTMLModel",
            "placeholder": "​",
            "_view_module": "@jupyter-widgets/controls",
            "_model_module_version": "1.5.0",
            "value": " 2.26G/2.26G [00:34&lt;00:00, 81.8MB/s]",
            "_view_count": null,
            "_view_module_version": "1.5.0",
            "description_tooltip": null,
            "_model_module": "@jupyter-widgets/controls",
            "layout": "IPY_MODEL_bc06d4698bd149de8864753f49e3ddbe"
          }
        },
        "04339fbad4f54163812b7f75b96aae66": {
          "model_module": "@jupyter-widgets/controls",
          "model_name": "DescriptionStyleModel",
          "model_module_version": "1.5.0",
          "state": {
            "_view_name": "StyleView",
            "_model_name": "DescriptionStyleModel",
            "description_width": "",
            "_view_module": "@jupyter-widgets/base",
            "_model_module_version": "1.5.0",
            "_view_count": null,
            "_view_module_version": "1.2.0",
            "_model_module": "@jupyter-widgets/controls"
          }
        },
        "7d5306ceb26f4a95ad555755efdd39c2": {
          "model_module": "@jupyter-widgets/base",
          "model_name": "LayoutModel",
          "model_module_version": "1.2.0",
          "state": {
            "_view_name": "LayoutView",
            "grid_template_rows": null,
            "right": null,
            "justify_content": null,
            "_view_module": "@jupyter-widgets/base",
            "overflow": null,
            "_model_module_version": "1.2.0",
            "_view_count": null,
            "flex_flow": null,
            "width": null,
            "min_width": null,
            "border": null,
            "align_items": null,
            "bottom": null,
            "_model_module": "@jupyter-widgets/base",
            "top": null,
            "grid_column": null,
            "overflow_y": null,
            "overflow_x": null,
            "grid_auto_flow": null,
            "grid_area": null,
            "grid_template_columns": null,
            "flex": null,
            "_model_name": "LayoutModel",
            "justify_items": null,
            "grid_row": null,
            "max_height": null,
            "align_content": null,
            "visibility": null,
            "align_self": null,
            "height": null,
            "min_height": null,
            "padding": null,
            "grid_auto_rows": null,
            "grid_gap": null,
            "max_width": null,
            "order": null,
            "_view_module_version": "1.2.0",
            "grid_template_areas": null,
            "object_position": null,
            "object_fit": null,
            "grid_auto_columns": null,
            "margin": null,
            "display": null,
            "left": null
          }
        },
        "658cfbb922084872a0a3a9b0de1b4330": {
          "model_module": "@jupyter-widgets/controls",
          "model_name": "ProgressStyleModel",
          "model_module_version": "1.5.0",
          "state": {
            "_view_name": "StyleView",
            "_model_name": "ProgressStyleModel",
            "description_width": "",
            "_view_module": "@jupyter-widgets/base",
            "_model_module_version": "1.5.0",
            "_view_count": null,
            "_view_module_version": "1.2.0",
            "bar_color": null,
            "_model_module": "@jupyter-widgets/controls"
          }
        },
        "920ca2fc97df4a89a879065fe8d9ca21": {
          "model_module": "@jupyter-widgets/base",
          "model_name": "LayoutModel",
          "model_module_version": "1.2.0",
          "state": {
            "_view_name": "LayoutView",
            "grid_template_rows": null,
            "right": null,
            "justify_content": null,
            "_view_module": "@jupyter-widgets/base",
            "overflow": null,
            "_model_module_version": "1.2.0",
            "_view_count": null,
            "flex_flow": null,
            "width": null,
            "min_width": null,
            "border": null,
            "align_items": null,
            "bottom": null,
            "_model_module": "@jupyter-widgets/base",
            "top": null,
            "grid_column": null,
            "overflow_y": null,
            "overflow_x": null,
            "grid_auto_flow": null,
            "grid_area": null,
            "grid_template_columns": null,
            "flex": null,
            "_model_name": "LayoutModel",
            "justify_items": null,
            "grid_row": null,
            "max_height": null,
            "align_content": null,
            "visibility": null,
            "align_self": null,
            "height": null,
            "min_height": null,
            "padding": null,
            "grid_auto_rows": null,
            "grid_gap": null,
            "max_width": null,
            "order": null,
            "_view_module_version": "1.2.0",
            "grid_template_areas": null,
            "object_position": null,
            "object_fit": null,
            "grid_auto_columns": null,
            "margin": null,
            "display": null,
            "left": null
          }
        },
        "f12925a2530244caa1a69b67a6b9ad5a": {
          "model_module": "@jupyter-widgets/controls",
          "model_name": "DescriptionStyleModel",
          "model_module_version": "1.5.0",
          "state": {
            "_view_name": "StyleView",
            "_model_name": "DescriptionStyleModel",
            "description_width": "",
            "_view_module": "@jupyter-widgets/base",
            "_model_module_version": "1.5.0",
            "_view_count": null,
            "_view_module_version": "1.2.0",
            "_model_module": "@jupyter-widgets/controls"
          }
        },
        "bc06d4698bd149de8864753f49e3ddbe": {
          "model_module": "@jupyter-widgets/base",
          "model_name": "LayoutModel",
          "model_module_version": "1.2.0",
          "state": {
            "_view_name": "LayoutView",
            "grid_template_rows": null,
            "right": null,
            "justify_content": null,
            "_view_module": "@jupyter-widgets/base",
            "overflow": null,
            "_model_module_version": "1.2.0",
            "_view_count": null,
            "flex_flow": null,
            "width": null,
            "min_width": null,
            "border": null,
            "align_items": null,
            "bottom": null,
            "_model_module": "@jupyter-widgets/base",
            "top": null,
            "grid_column": null,
            "overflow_y": null,
            "overflow_x": null,
            "grid_auto_flow": null,
            "grid_area": null,
            "grid_template_columns": null,
            "flex": null,
            "_model_name": "LayoutModel",
            "justify_items": null,
            "grid_row": null,
            "max_height": null,
            "align_content": null,
            "visibility": null,
            "align_self": null,
            "height": null,
            "min_height": null,
            "padding": null,
            "grid_auto_rows": null,
            "grid_gap": null,
            "max_width": null,
            "order": null,
            "_view_module_version": "1.2.0",
            "grid_template_areas": null,
            "object_position": null,
            "object_fit": null,
            "grid_auto_columns": null,
            "margin": null,
            "display": null,
            "left": null
          }
        }
      }
    }
  },
  "cells": [
    {
      "cell_type": "markdown",
      "metadata": {
        "id": "rouZL97R7yX-"
      },
      "source": [
        "### Speech recognition with torchaudio\n",
        "\n",
        "In this notebook we are going to create an audio classifier usin torchaudion.\n",
        "\n",
        "\n",
        "### Installation of `torchaudio`\n",
        "\n",
        "To install torchaudio for CPU you need to run the following command.\n",
        "\n",
        "```shell\n",
        "!pip install pydub torch==1.7.0+cpu torchvision==0.8.1+cpu torchaudio==0.7.0 -f https://download.pytorch.org/whl/torch_stable.html\n",
        "```\n",
        "\n",
        "Since we are working with google colab and GPU we are going to install it as follows:\n",
        "\n",
        "```shell\n",
        "!pip install pydub torch==1.7.0+cu101 torchvision==0.8.1+cu101 torchaudio==0.7.0 -f https://download.pytorch.org/whl/torch_stable.html\n",
        "```"
      ]
    },
    {
      "cell_type": "code",
      "metadata": {
        "id": "fRXM268-7uSD"
      },
      "source": [
        "!pip install pydub torch==1.7.0+cu101 torchvision==0.8.1+cu101 torchaudio==0.7.0 -f https://download.pytorch.org/whl/torch_stable.html"
      ],
      "execution_count": null,
      "outputs": []
    },
    {
      "cell_type": "markdown",
      "metadata": {
        "id": "d3ZcIskn8ynx"
      },
      "source": [
        "### Imports"
      ]
    },
    {
      "cell_type": "code",
      "metadata": {
        "colab": {
          "base_uri": "https://localhost:8080/"
        },
        "id": "TPPCJ6JG7uQQ",
        "outputId": "9285fe08-1b60-40d9-9037-775ce8f119fd"
      },
      "source": [
        "import torch\n",
        "from torch import nn\n",
        "from torch.nn import functional as F\n",
        "import torchaudio, sys\n",
        "\n",
        "import matplotlib.pyplot as plt\n",
        "import IPython.display as ipd\n",
        "\n",
        "from tqdm import tqdm\n",
        "\n",
        "torch.__version__, torchaudio.__version__"
      ],
      "execution_count": 2,
      "outputs": [
        {
          "output_type": "stream",
          "name": "stderr",
          "text": [
            "/usr/local/lib/python3.7/dist-packages/torchaudio/backend/utils.py:54: UserWarning: \"sox\" backend is being deprecated. The default backend will be changed to \"sox_io\" backend in 0.8.0 and \"sox\" backend will be removed in 0.9.0. Please migrate to \"sox_io\" backend. Please refer to https://github.com/pytorch/audio/issues/903 for the detail.\n",
            "  '\"sox\" backend is being deprecated. '\n"
          ]
        },
        {
          "output_type": "execute_result",
          "data": {
            "text/plain": [
              "('1.7.0+cu101', '0.7.0')"
            ]
          },
          "metadata": {},
          "execution_count": 2
        }
      ]
    },
    {
      "cell_type": "markdown",
      "metadata": {
        "id": "_vKl14_Y9P09"
      },
      "source": [
        "### Device\n"
      ]
    },
    {
      "cell_type": "code",
      "metadata": {
        "colab": {
          "base_uri": "https://localhost:8080/"
        },
        "id": "M7NVxb4j7uMn",
        "outputId": "a5e3a68b-ce81-4a17-beec-df62c757bf86"
      },
      "source": [
        "device = torch.device(\"cuda\" if torch.cuda.is_available() else 'cpu')\n",
        "device"
      ],
      "execution_count": 4,
      "outputs": [
        {
          "output_type": "execute_result",
          "data": {
            "text/plain": [
              "device(type='cuda')"
            ]
          },
          "metadata": {},
          "execution_count": 4
        }
      ]
    },
    {
      "cell_type": "markdown",
      "metadata": {
        "id": "k0kLXp259fuA"
      },
      "source": [
        "### Dataset\n",
        "\n",
        "We are going to use [SpeechCommands](https://arxiv.org/abs/1804.03209) dataset which contains of 35 different commands spoken by different people. The dataset `SPEECHCOMMANDS` is a `torch.utils.data.Dataset` version of the dataset. In this dataset, all audio files are about 1 second long (and so about 16000 time frames long).\n",
        "\n",
        "### Spitting the dataset into `train`, `test` and `validation`."
      ]
    },
    {
      "cell_type": "code",
      "metadata": {
        "id": "u3z-JZUj7uK1"
      },
      "source": [
        "from torchaudio.datasets import SPEECHCOMMANDS\n",
        "import os"
      ],
      "execution_count": 5,
      "outputs": []
    },
    {
      "cell_type": "code",
      "metadata": {
        "id": "uryD96_R7uHR"
      },
      "source": [
        "class SubsetSC(SPEECHCOMMANDS):\n",
        "  def __init__(self, subset: str = None):\n",
        "    super().__init__(\"./\", download=True)\n",
        "\n",
        "    def load_list(filename):\n",
        "      filepath = os.path.join(self._path, filename)\n",
        "      with open(filepath) as f:\n",
        "        return [os.path.join(self._path, line.strip()) for line in f]\n",
        "\n",
        "    if subset == \"validation\":\n",
        "      self._walker = load_list(\"validation_list.txt\")\n",
        "    elif subset == \"testing\":\n",
        "      self._walker = load_list(\"testing_list.txt\")\n",
        "    elif subset == \"training\":\n",
        "      excludes = load_list(\"validation_list.txt\") + load_list(\"testing_list.txt\")\n",
        "      excludes = set(excludes)\n",
        "      self._walker = [w for w in self._walker if w not in excludes]\n"
      ],
      "execution_count": 8,
      "outputs": []
    },
    {
      "cell_type": "markdown",
      "metadata": {
        "id": "-7gOjZVRBVMV"
      },
      "source": [
        "### Creating train and test splits."
      ]
    },
    {
      "cell_type": "code",
      "metadata": {
        "colab": {
          "base_uri": "https://localhost:8080/",
          "height": 49,
          "referenced_widgets": [
            "146214f6b4b4488cb822ac21df81044c",
            "688cbca8774f41c891f2c57d16429bd4",
            "47d16b54cc234db7acdec000efa07bf0",
            "61e9cdebe5ce4c238301879cdddebb96",
            "05f05a28db4d44d687c4abff294973cd",
            "04339fbad4f54163812b7f75b96aae66",
            "7d5306ceb26f4a95ad555755efdd39c2",
            "658cfbb922084872a0a3a9b0de1b4330",
            "920ca2fc97df4a89a879065fe8d9ca21",
            "f12925a2530244caa1a69b67a6b9ad5a",
            "bc06d4698bd149de8864753f49e3ddbe"
          ]
        },
        "id": "iYcn49z27uFf",
        "outputId": "d4babd74-4d09-40d5-bc71-85ee55d99658"
      },
      "source": [
        "train_set = SubsetSC(\"training\")\n",
        "test_set = SubsetSC(\"testing\")"
      ],
      "execution_count": 9,
      "outputs": [
        {
          "output_type": "display_data",
          "data": {
            "application/vnd.jupyter.widget-view+json": {
              "model_id": "146214f6b4b4488cb822ac21df81044c",
              "version_minor": 0,
              "version_major": 2
            },
            "text/plain": [
              "  0%|          | 0.00/2.26G [00:00<?, ?B/s]"
            ]
          },
          "metadata": {}
        }
      ]
    },
    {
      "cell_type": "markdown",
      "metadata": {
        "id": "HAKQ2LBvBbCw"
      },
      "source": [
        "### Checking a single example."
      ]
    },
    {
      "cell_type": "code",
      "metadata": {
        "id": "_QAKUq4q7TG5"
      },
      "source": [
        "waveform, sample_rate, label, speaker_id, utterance_number = train_set[0]"
      ],
      "execution_count": 10,
      "outputs": []
    },
    {
      "cell_type": "code",
      "metadata": {
        "colab": {
          "base_uri": "https://localhost:8080/"
        },
        "id": "tTQBKAsxBtQA",
        "outputId": "b6fdca20-f6de-4455-c545-5623027e342c"
      },
      "source": [
        "waveform, label"
      ],
      "execution_count": 12,
      "outputs": [
        {
          "output_type": "execute_result",
          "data": {
            "text/plain": [
              "(tensor([[-0.0658, -0.0709, -0.0753,  ..., -0.0700, -0.0731, -0.0704]]),\n",
              " 'backward')"
            ]
          },
          "metadata": {},
          "execution_count": 12
        }
      ]
    },
    {
      "cell_type": "code",
      "metadata": {
        "colab": {
          "base_uri": "https://localhost:8080/",
          "height": 299
        },
        "id": "GWJSwE84BtLp",
        "outputId": "7d0759f7-9540-4efb-8bde-3b710e95b834"
      },
      "source": [
        "print(\"Shape of waveform: {}\".format(waveform.size()))\n",
        "print(\"Sample rate of waveform: {}\".format(sample_rate))\n",
        "\n",
        "plt.plot(waveform.t().numpy())\n",
        "plt.show()"
      ],
      "execution_count": 14,
      "outputs": [
        {
          "output_type": "stream",
          "name": "stdout",
          "text": [
            "Shape of waveform: torch.Size([1, 16000])\n",
            "Sample rate of waveform: 16000\n"
          ]
        },
        {
          "output_type": "display_data",
          "data": {
            "image/png": "[encoded data removed]",
            "text/plain": [
              "<Figure size 432x288 with 1 Axes>"
            ]
          },
          "metadata": {
            "needs_background": "light"
          }
        }
      ]
    },
    {
      "cell_type": "markdown",
      "metadata": {
        "id": "u2Md2RIrCVoR"
      },
      "source": [
        "### Checking the labels."
      ]
    },
    {
      "cell_type": "code",
      "metadata": {
        "colab": {
          "base_uri": "https://localhost:8080/"
        },
        "id": "mJ1CR-L4BtJy",
        "outputId": "66ea00e7-9189-475a-8989-b8c703b3fade"
      },
      "source": [
        "labels = sorted(list(set(datapoint[2] for datapoint in train_set)))\n",
        "labels"
      ],
      "execution_count": 15,
      "outputs": [
        {
          "output_type": "execute_result",
          "data": {
            "text/plain": [
              "['backward',\n",
              " 'bed',\n",
              " 'bird',\n",
              " 'cat',\n",
              " 'dog',\n",
              " 'down',\n",
              " 'eight',\n",
              " 'five',\n",
              " 'follow',\n",
              " 'forward',\n",
              " 'four',\n",
              " 'go',\n",
              " 'happy',\n",
              " 'house',\n",
              " 'learn',\n",
              " 'left',\n",
              " 'marvin',\n",
              " 'nine',\n",
              " 'no',\n",
              " 'off',\n",
              " 'on',\n",
              " 'one',\n",
              " 'right',\n",
              " 'seven',\n",
              " 'sheila',\n",
              " 'six',\n",
              " 'stop',\n",
              " 'three',\n",
              " 'tree',\n",
              " 'two',\n",
              " 'up',\n",
              " 'visual',\n",
              " 'wow',\n",
              " 'yes',\n",
              " 'zero']"
            ]
          },
          "metadata": {},
          "execution_count": 15
        }
      ]
    },
    {
      "cell_type": "markdown",
      "metadata": {
        "id": "cu4XaK1PC0GF"
      },
      "source": [
        "### Counting labels.\n",
        "\n",
        "There are 35 labels in this dataset. Let's create a helper function that will visualize a single example with it's correcponding label in the dataset"
      ]
    },
    {
      "cell_type": "code",
      "metadata": {
        "id": "r_rww_dxBtFK"
      },
      "source": [
        "def visualize_example(index):\n",
        "  waveform, sample_rate, label, speaker_id, utterance_number = train_set[index]\n",
        "  print(f\"LABEL: {label}\")\n",
        "\n",
        "  ### Displaying a playable audio\n",
        "\n",
        "  ipd.Audio(waveform.numpy(), rate=sample_rate)\n",
        "  ipd.display()\n",
        "\n",
        "  # plotting the waveform\n",
        "  plt.plot(waveform.t().numpy())\n",
        "  plt.show()\n",
        "  "
      ],
      "execution_count": 26,
      "outputs": []
    },
    {
      "cell_type": "code",
      "metadata": {
        "colab": {
          "base_uri": "https://localhost:8080/",
          "height": 75
        },
        "id": "2gw00tTGETjt",
        "outputId": "21e587db-0cb6-4f7e-803d-d1388bccd2ca"
      },
      "source": [
        "ipd.Audio(waveform.numpy(), rate=sample_rate)"
      ],
      "execution_count": 23,
      "outputs": [
        {
          "output_type": "execute_result",
          "data": {
            "text/html": [
              "\n",
              "                <audio controls=\"controls\" >\n",
              "                    <source src=\"data:audio/wav;base64,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\" type=\"audio/wav\" />\n",
              "                    Your browser does not support the audio element.\n",
              "                </audio>\n",
              "              "
            ],
            "text/plain": [
              "<IPython.lib.display.Audio object>"
            ]
          },
          "metadata": {},
          "execution_count": 23
        }
      ]
    },
    {
      "cell_type": "markdown",
      "metadata": {
        "id": "1xwUe1diD2S-"
      },
      "source": [
        "visualizing the first 5 examples and test them."
      ]
    },
    {
      "cell_type": "code",
      "metadata": {
        "colab": {
          "base_uri": "https://localhost:8080/",
          "height": 282
        },
        "id": "MGTHVd6oBtDn",
        "outputId": "22f99400-88e2-4f50-fcba-665372a741ad"
      },
      "source": [
        "visualize_example(5)"
      ],
      "execution_count": 27,
      "outputs": [
        {
          "output_type": "stream",
          "name": "stdout",
          "text": [
            "LABEL: backward\n"
          ]
        },
        {
          "output_type": "display_data",
          "data": {
            "image/png": "[encoded data removed]",
            "text/plain": [
              "<Figure size 432x288 with 1 Axes>"
            ]
          },
          "metadata": {
            "needs_background": "light"
          }
        }
      ]
    },
    {
      "cell_type": "markdown",
      "metadata": {
        "id": "ytlQvYWaFjXO"
      },
      "source": [
        "> The dataset contains files that are not shuffled."
      ]
    },
    {
      "cell_type": "code",
      "metadata": {
        "colab": {
          "base_uri": "https://localhost:8080/",
          "height": 282
        },
        "id": "UnUt94YXBs9r",
        "outputId": "9979ab1e-7b51-4bcf-b262-809dc95d932c"
      },
      "source": [
        "visualize_example(7188)"
      ],
      "execution_count": 38,
      "outputs": [
        {
          "output_type": "stream",
          "name": "stdout",
          "text": [
            "LABEL: dog\n"
          ]
        },
        {
          "output_type": "display_data",
          "data": {
            "image/png": "[encoded data removed]",
            "text/plain": [
              "<Figure size 432x288 with 1 Axes>"
            ]
          },
          "metadata": {
            "needs_background": "light"
          }
        }
      ]
    },
    {
      "cell_type": "code",
      "metadata": {
        "colab": {
          "base_uri": "https://localhost:8080/",
          "height": 75
        },
        "id": "RsTF81pyGTyQ",
        "outputId": "514c465f-893b-4a0f-d831-a5906548426b"
      },
      "source": [
        "ipd.Audio(waveform.numpy(), rate=sample_rate)"
      ],
      "execution_count": 39,
      "outputs": [
        {
          "output_type": "execute_result",
          "data": {
            "text/html": [
              "\n",
              "                <audio controls=\"controls\" >\n",
              "                    <source src=\"data:audio/wav;base64,UklGRiR9AABXQVZFZm10IBAAAAABAAEAgD4AAAB9AAACABAAZGF0YQB9AAAAAAAAAAABAAEAAQAAAP3//f8AAAAAAwABAAAAAAAAAAEAAAAAAAAA/f/9////AAAAAAAAAAAAAAAAAAAAAP///f////3//f8AAAEAAAAAAAAA/f///wEAAAAAAAEAAAAAAAAAAQABAAAAAQADAAEAAQABAAEAAAABAAEAAQAAAAAAAQAAAAEAAQAAAAAAAAD//wAAAAD9//3//f////3/+//6//v/+v/6//3//f/9//////8AAP///f/9//3/AAABAAAAAAAAAAEAAQABAAAAAQABAAEABQABAAEABQAFAAUABQAFAAUABQAFAAUABQAFAAUABQAFAAUABQABAAEAAQAAAAAAAQAAAAAAAAD9/wAAAAD9///////9//3//f/9//3//f/9//3//f/9/wAAAAAAAAAAAAAAAAAAAQAAAAAAAAAAAAAAAAAAAAEAAAD9//3//f/9//3//f/9//3//f/9/wAA//8AAAAA/f/9//3//f///////f/9////AQAAAAAAAAD9///////9////AAABAAAAAAD//wAAAAAAAAAAAAAAAAAAAAAAAAAAAAAAAAAAAAAAAAAAAAABAAEAAQABAAMAAQABAAUABQAFAAUAAQADAAUABQAFAAEAAQADAAEAAQABAAEAAQABAAAAAAABAAEAAAAAAAAA//8BAAEAAAABAAAAAAAAAAAAAQAAAAEAAwABAAEAAAAAAAAAAAABAAEAAAAAAP3//f/9//3//f/9//3/+//6//r/+v/6//r/+v/6//r//f/9//3//f////3/+//6//v//f/9//3//f/9//3//f/9////AQD9//3//f/9/wAAAAD9//3///8AAAAAAAABAAAAAAAAAAAAAQABAAEAAQABAAMAAQADAAUAAwABAAMAAQADAAUAAwABAAMAAwADAAEAAQABAAEAAwABAAEAAwADAAEAAwAFAAUABQAGAAMAAQADAAEAAQABAAAAAAAAAAAAAAAAAAAAAAABAAAAAAAAAP//AAABAAAAAAAAAP3//f////3//f/9//v/+//7//v//f/7//r//f/7//r//f/9//r/+v/6//r/+//7//r//f/9//3//////wAA/f/9//3//f//////AAAAAAAAAQADAAMAAwABAAMAAwADAAEAAQABAAMAAwADAAMAAAAAAAEAAAAAAAAAAAAAAAAAAQABAAEAAQAAAAEAAAAAAAEAAAD///3///8AAP///f/9//3/AAABAAEAAQAAAAAAAAAAAAAAAQABAAEAAQABAAEAAQABAAUABQAFAAUAAQADAAUABQAGAAUABQAFAAMAAQABAAEAAQABAAEAAAABAAAA///9/////f////3///8AAAAAAAD///3//f/6//r/+v/6//v/+v/6//v/+v/7//3////9////AAD//wAAAAD//wAAAQAAAAAAAAD///3////9////AAABAAAAAQAAAAAAAAAAAAAAAAABAAAAAQABAAAAAAAAAAAAAQAAAP//AAABAAAAAQAAAP//AAABAAAAAAAAAAAAAAAAAAAA/f/9/wAAAAAAAAAAAAAAAAEAAAAAAAAAAAAAAAAAAAAAAAAAAAAAAAAAAAAAAAEAAQAAAAAAAAABAAAAAQABAAEAAQABAAEAAAAAAAAAAAAAAAAAAAAAAAAAAAAAAAAAAAAAAAAAAAAAAAEAAAAAAAAAAAAAAAAAAAAAAAAAAAAAAAAAAAABAAAAAAABAAAAAAAAAAEAAQAAAAAAAQABAAEAAQABAAEAAQABAAEAAQABAAAAAQADAAEAAQAAAAAAAAAAAP3//f/9//3//f/9//3//f/9//3//f/9/////f/7//3//f/9//3//f/9//3//f/9//3//f/9//3//f/9//3//f/9/wAAAQAAAAAAAAAAAAAAAAAAAAAAAAAAAAAAAAABAAEAAAABAAAAAAADAAEAAQABAAEAAQABAAEAAQADAAEAAQABAAEAAQABAAEAAQABAAEAAQABAAEAAQABAAEAAQABAAEAAQABAAEAAQABAAEAAQABAAEAAQABAAEAAQAAAAAAAAAAAAAA/f/9//3//f/9//3//f/9//3/+v/6//r//f/9//3//f/9//3//f/9//3/AAAAAAAAAAAAAAEAAAAAAAAAAAAAAAAAAAAAAAAAAAAAAAAAAAAAAAEAAAAAAAEAAAAAAAAAAAAAAAAAAQAAAAAAAAAAAAAAAAAAAP3//f/9////AAD9//3//f/9//3//f/9////AAD9//3////9/wAAAAAAAAAAAAABAAAAAAABAAEAAQABAAEAAQABAAEAAQADAAEAAwAFAAEAAQABAAEAAwABAAEAAQABAAEAAAABAAAAAAAAAAEAAAAAAAAAAAAAAAEAAAD9//3//f/9//3//f/9/wAAAAD9//3//f/9/wAAAAAAAAAAAAAAAAAAAAAAAAAAAAAAAAAAAAAAAAEAAAAAAAAAAQAAAAAAAAAAAAAAAAAAAAAAAQAAAP//AAAAAAAAAQAAAAEAAAAAAAEAAAABAAEAAAAAAAAAAAAAAAAAAQABAAMAAQABAAEAAAAAAAAAAAAAAAAAAAAAAAAAAAAAAAAAAAABAAAAAAAAAAAAAAAAAAAAAAAAAAAAAQAAAAAAAAAAAAAAAAAAAAAAAAAAAAAAAAAAAAAA/f/9//3//f/9//3//f/9/////f///////f/9//3//f/9//3//f///wAAAQABAAMAAQABAAEAAQABAAEAAQABAAEAAQABAAEAAAAAAAEAAAAAAAAAAQAAAAAAAAAAAAEAAAAAAAAAAAAAAAAAAAAAAAAAAAAAAAAAAAAAAAAAAAD//wAAAAAAAAAAAAAAAAAAAAAAAAAAAAAAAAAAAAAAAP3//f/9/wAAAAAAAAAAAAAAAAAAAAAAAAAAAAAAAAAAAAAAAAAAAAAAAAEAAAAAAAAA//8AAP//AAD////////9/wEAAAAAAAAAAAAAAAEAAQABAAEAAQABAAEAAQABAAEAAQABAAAAAAAAAAAAAAAAAAAAAAAAAAAAAAAAAAAAAQAAAAAAAAAAAAAAAAAAAAAAAAABAAAA///9//3//f///wAAAAAAAAAAAAAAAAAAAAAAAAAAAQABAAAAAAABAAAAAAAAAAAAAQABAAAAAAAAAAAAAAAAAAAAAAAAAP3//f/9//3/AAAAAAAAAAAAAAAAAAAAAAAAAQABAAEAAQABAAEAAQAAAAAAAAAAAAAAAAAAAAAAAAAAAAEAAAABAAAAAAAAAAAAAAAAAAAAAAAAAAAAAAAAAAAAAAAAAAAAAAABAAEAAAAAAAAAAAAAAAAAAAAAAAAAAAABAAAAAAABAAAAAAAAAAAAAAAAAAAAAAAAAAAAAAAAAAAAAAAAAAAAAAAAAAAAAAAAAAAAAQABAAAAAAAAAAAAAAAAAAAAAQABAAEAAAABAAEAAAAAAAAAAAAAAAAAAAAAAAAAAAD9//3///8AAP3//f/9//3/+//6//r//f/9//3//f/6//r//f/9//3//f/9//3//f/9//3//f/9//3//f/9/wEAAAAAAAAAAAAAAAAAAQABAAEAAwAFAAUABQADAAUABgAFAAUABQAFAAUABQAFAAUAAQABAAEAAQABAAEAAQABAAAAAAAAAAAAAAD9//3//f/9/wAAAAAAAP///f/9//3//f/9/////f/6//3//f/9//3//f/9//3/AAAAAAAAAAAAAAEAAQABAAEAAQABAAEAAQABAAMABQADAAUABgAFAAMAAQABAAEAAwAAAAAAAAAAAAAAAQABAAAAAAD//////f/6//r/+v/6//r/+v/6//r/+v/9/////f/9//3//f/9//3//f/9//3/AAAAAAAAAQAAAAAAAAABAAEAAwADAAEAAwADAAMAAQADAAYABgAFAAYABgAFAAMAAwADAAEAAQABAAAAAQABAAEAAQAAAAAAAAAAAAAAAAAAAAAAAAAAAP//AAAAAP///f////3/+v/9//v/+v/7//3////6//r//f/7//3//f/7//3/+//9//v/+v/7//3//////wAAAAABAAAAAAABAAEAAQABAAAAAAABAAEAAwAFAAUABQAGAAYABQAFAAUABgAFAAUABQAFAAUABQAFAAMAAQABAAMAAQABAAEAAAAAAAAAAAD///3//f/9//3//f/6//r/+v/6//r/+v/6//r/+v/6//3/+v/7//v/+v/9////AAABAAAAAQABAAUABQAFAAUABQAFAAUABQAFAAUABQAFAAUABQAFAAUABQADAAEAAQAAAAAAAAD///3////9//v//f/7//r/+//7//r/+P/6//r/+v/4//j/+P/6//j/+P/6//r/+v/6//3//f/9/wAAAAABAAEAAAABAAEAAQABAAEAAQABAAEABQAGAAUABQAFAAUABQAFAAUABgAGAAYABgAFAAUABQADAAMAAwADAAMAAwABAAMAAwADAAMAAAABAAEAAAAAAAAA/f/9//3//f/6//r/+v/6//j/+v/7//r/+v/6//v//f/9//3//f8AAAAAAAABAAEAAwADAAEAAAAAAAAAAQAAAP3///8AAAAAAAABAAEAAQADAAMAAwABAAMAAwABAAEAAAAAAAEAAAAAAAAAAAAAAP3////9//3/AAAAAAAAAAD9/wAAAAD9/wAAAAD9//3//f/9//3//f/9//3////9////AAABAAAAAAABAAMAAQABAAEAAwABAAMAAwABAAUABQAFAAEAAQABAAEAAQABAAEAAQABAAMAAwABAAAAAAAAAP3//f/9//3////9//3//f/9///////9//3//f/9//3/AAAAAP///f/9//3///8AAAAAAAAAAAEAAQAAAAAAAAAAAAAAAQABAAEAAQABAAEAAQADAAMAAAAAAAEAAAABAAEAAAABAAEAAAABAAAA/f/9/////f/9//3///8AAAEAAAAAAAEAAAD9//3////9////AAAAAP3//f8AAAAAAAAAAAAAAAAAAAAAAQABAAAAAAABAAEAAQADAAEAAQABAAEAAQABAAAAAAAAAAAAAQAAAAAAAAAAAAAAAQABAAAAAQABAAAAAAAAAAEAAAAAAAAAAAAAAAAAAAAAAP///f/9//3//f/9//3/AAAAAP3////9//3//f/9/wAAAAAAAAAAAAAAAAAAAAAAAAAAAAAAAAEAAAAAAAAAAAAAAAAAAAAAAAAAAAAAAAEAAwABAAEAAAAAAAAAAQABAAAAAAAAAAAAAAAAAAAAAAD///3//f///wAAAAAAAP////8AAAAAAQAAAAAAAAAAAAAAAAABAAAAAAAAAAAAAQAAAAAAAQABAAAAAAABAAAAAQABAAAAAQABAAEAAwABAAMAAQABAAEAAQADAAEAAQABAAEAAQABAAEAAQABAAEAAAAAAAAAAAABAAAAAAAAAAAA/f/9/wAAAAAAAAAAAAABAAEAAAAAAAAA//8AAAEAAAD///3///8AAAAAAAD9//3//f/9/wAAAAAAAAEAAAAAAAAAAAAAAAAAAQABAAEAAAABAAEAAQABAAAAAQABAAEAAAAAAAAAAAAAAAEAAAD9//3////9//3//f////3//f/9//3//f/7//r/+v/6//r/+v/6//r/+v/6//r/+P/4//j/+P/4//j/+P/4//r/+v/7//3///8AAAEAAAAAAAAAAQABAAMAAwABAAUABgAGAAgABQAGAAYACAAGAAYACgAKAAoACgAKAAsACgAKAAoACgAKAAsACgAKAAoACgALAAsACwALAAsACwALAAsACwALAAsADwAPAA8ADwALAAsACwALAAsACwAKAAgABgAGAAYABgAGAAYABgAGAAYABQABAAAAAAAAAAAAAAD9//3//f/6//j/9f/1//X/9f/1//X/8//w//D/7v/u/+7/7v/u/+7/6//r/+z/6//n/+f/5//r/+7/6//r/+7/6//s/+z/7P/w//D/8f/x//D/8P/x//H/8f/x//H/9f/2//b/9f/2//b/9v/6//r/+//9////AAABAAUACAAGAAgACgALAAsAEAASABUAFwAXABkAHgAeAB4AIQAjACQAKAAoACgAKwArACsAKAArAC4ALgArACsAKwApACsAKQArAC0AKwAmACQAIQAfAB8AHAAcABoAFwAXABcAFQASAA8ACgAIAAoACAAFAAAA//////v/+//4//P/8//z/+7/7P/p/+b/5v/k/+H/3//a/9f/1//V/9D/zf/L/8T/xv/G/8H/v/+6/7z/uv+3/7f/s/+1/7P/tf+1/7P/t/+6/73/v//B/73/wf/J/8v/0P/S/9j/3P/h/+T/5//r/+7/8//1//v//f8DAAUACAANAAsAEgAUABkAGgAcAB8AHwAjACMAJAAkACkAKQAtACYAKQAtACsANQArAC0AOAAyAC4AMAAtADUANQAzADwAKQAzADoANwA/ADUANwAwADUARAA8AEMAOAApAEsATgA3AFMAOgAzAFIASABQAD8APQA8ADwASwA4ADgAMgAkACkAOAAeAAgAGQAQABoACwD//+b/3/8IAPr/4v/a/9X/3f/u/93/3f/V/8T/6//n/8n/3f/Y/87/6//V/9P/xv/G/+n/3P+8/7X/yP+y/8j/yP+U/5n/sP+u/6H/o/+F/4v/nv+V/6P/fv91/4b/nP+Q/4H/j/93/4//pP+p/5X/i/+c/5z/uP+3/63/o/+p/8v/3//Q/7X/uv/w/+7/4v/4/67/8P8fAOH/EAD1/+T/LQAQAAsAHwDw/zUAMgABAFgAAQArAD0ADwB1AA0AMwBXADIAXwAuAB4AXQBIAFwAkQDx/zMAhwBfAHYAQwA3AEQAdgCkAGsAHABxAHAAeACYADwAeABhAC0AqgCiAB8AUwCaADAAhABwACQAOABSAJ0AMgDk/wYAcABrADIA3P/f/wgAGQB6AAMAl/+//+7/TgDz/67/8/+N/+L/EADQ/7f/of/h/9D/yf+h/5D/6f/I/6b/lf9h/6H/5/8BAJX/Jf+L/73/0v+9/5r/W/9t//D/qf+p/5r/a/+K/9//wf/I/8j/E/+c/9D/AwAFAEj/lP+u/+T/EgB6/5//7v+1/z8A8f9o/9f//f8hABoA5v/1//b/8/9kAAsA3f9SADAADwAzABcAVwBIANP/NQCMAAoAMgBXABcASABJAC4AFwB9AFMAPAAjADoAmAB7AOv/7P/bAIsATgBIABwAXAB7AL4AEgA1AJUAUABfACgAlQB2AEsAAwBIAI4ARgBpABcABQBpAB4AIwBGACgAKAAAAB8A2P84AC0Av/8PAOb/HAAmAJT/1f/4/+T/1f/6/w0Ad//J/xcAiP+8/woAt//I/+z/qP+k/8v/zf/D/+v/zf+F/wUApv9m/xcA0v/D/+7/sv+w/6H/yf/i//v/1/+y//D/jf+3/zoA/f+9/9P/5//2/73/CwAaAOL/BgDX////0/8oAIwArv+9//X/TgBaAOv/5/8aADgANwAuAOb/NQAQAE0AZwDV/1MAKQDw/0sARgBxAAgAAQA1AEQASQD9/04APQD7/zgAFQArAFgA/f8KACMAKwBBAAMA0//2/xcAaQBLANL/hf8kACkA6/9VAOT/uv8AACMAxP/c/yEA3P83AMj/j/9fALf/qP8eAAsA1f+9/wsA+v/a/wMAmf+1/2kAEgAAAKb/W/9NAFIA7v8GAID/8P8QAP//cwC1/6P/+v8VAD0A9v8AAJ7/+v9mAOH/8//L/wEAGQAaAAEAs/8ZABkA6//k/+f/KQAQAB8Azf/E/yQAEAAzABcA0P/c/wEADwBDAEEA5P+k/wgAMAA/AA0A8f8eALr/LQA3AOf/DQAwAN//4f8uAO7/PwDN//D/SwDO//r/+v8tAO7/of8jAB4A4v9YAO7/q//u/9z/NwAhAC4A3P/L/+L//f9hAPj/8P/7/+7/KAAkAKv/+P8XAM3/awAzAMn/0v/J/zcA8f8KAEgA+v/Q/7f/XAAKAPX/QQBX/yQAiwDd/wAAwf///xAA4v8yACMA7v84AJT/kv+pANf/y/9JAMH/NQDL/xAA8f+G/xoACwBkADgAHABK/3r/KwAuAGQAxP8LAP3/JgCG/3T/CgFr/8H/bACw/2sAn/+9//r/PADa//v/HwCw/xAAJgAcAGr/OAABAH7/4ADJ/63/KwDE/x8ADQAAAIH/nQB1//3/XAG2/kMALQBl/5AAs/8UAOIAxP9q/44A3f9g/10AoAD6/9//ggBg/8T/7QBr////8/96ANkAw/8O/2X/3gA/AGYALgCI/4IAfP+j/9EAVP8NAMcAbgAwACr/cv+k/9MAlQDn/y4AaP8wABwAV//a/1wAgAB6ANP/Vv8IAKP/CgCVAEQAev/V/1MAqf+LAHT/0/+kAHf/vgCw//b+XABzAA8AFACV/+H/iwAn/2YA8f8tAGsATf81AOn+hACLAPj/0P8v//QAGgCZ/5n/VP9zAEEAMwA/ANL/FP/i/zcACgDKAIP/MwDw//P+cABSAI3/TgCYALL/iP8KAPv/fQDn/3T/0wD0/r3/ZAGr/93/y/+a/24AtADp/67/mv+N/4AAhwA1APH////u/6T/LgDz/w0ABgCpABAAof/N/1T/oAA9AJYANwDk/n0AAADG/+H/AQDsAMv/zf/S/+T/mAA8AP3+WgC5AIX/zAAM/wgAGwEg/zIAAQBVAB4A+v89AOX+cABkABQA+/8AADMAdf/k////nwDE/6T/KAAoAPb/qf9xAFH/jgDeAGD/pv8g/yQAPwDQ/4wAuQBF/9L/FwBU/0kArv+0AK7/Wf9mAJL/IwGD/yz/PQCI/zUBZwBC//P+nv9uAFAAy/+kAKIA3f6e/9r/IQAyAPX/fQA5/w8AWAC2/j8BnP8XACgBSv6xAAUAaP/D/zUANQDr/6QAhf8cAMT/yP/D/z8ApAC//4YAbf8KAMT/2v5aAQ0AGQCYAK3/1f/1/yMApv+1/63/MwDWACgAIQD//7D/rv/L/2wA2v+qAJYAxv77/+v/IwCVAGj/8gCJAHT/0v/J/7r/UAD4/6b/AQEAAE0A7P9A/8v/dP/YADgAhf8BAfIAVP/u/sT/mv/0AL4Azf+aAA//7P/0AOz+6f/YAAX/oABaAKcAUwCn/kQAZf9pAD0Alf9SANr/0wCo/9v+XwDKAI3/CgB/AIr/nv/k/30A5//Y/83/Zv9JAFUA//9wAL//vP/h/5T/Lf9/AOIAUf9SADIAzf8J//3/AABg/68ADQAVAHEAqf/z/osAbgB3/3EANv8XAPP/l/8WAVn+AQDRAVb/q//G/6v/FQDu/zIAFwG6/+/+SACK/zgAQwD7/+f/DQC4//P/awDx/ygAggAmAAz/pQDf/+v/MADT/6UAxP/X/3T/TQBYAFgA4gDTAGH/Nf4wAJz/mAAtAosAmv8O/7r/hf8UANP/PQBBApL/LP8PAZn/5f5IAIkA9v/WAegAqf5w/j7/VQCqABwApACfAYj/BP8Z/zgAQwBVAD0AHwC+AF7+DwBVAHf/QQGZ/4P/LgBXAJn/y/8kAHT/jABo/68AHADl/scACv/7/xAAO//CABwAcwAhAJ3+Rf+WAI3/zAAaAOr91QEwAM7+VQFB/sb+LQDiACsBVP9pAPj/pP7H/oYAqQCMAHf/pwAIAbH9bgCG/0r+fAF/AIAAzf/1//4AZv80/lL/pgHxABUAqP+X/wUAj//r/9sAkQCK/4AAfQBt/uT/wgCN/7sATgCdAMUAQ//i/isARgBt/90AcAABAFUA3/8mAG3/o/8WARwBOf/J/rEBPv/C/pUCPv98/04A0v+LAGj///9QAPD/GgDFAAAAgP/S/6AAYgBpAEYA/f7B/7r/fv9mAfP/mf/JAGb/LgA1AGv/g/9BAe7/Qv8AAAYA7P/O/yoBw//tANX/2/7V/p7/PAGc/4kA1v5w//sAiQDlACsAn/8X/gAA9f98/l8AHgGX/yf/LwE8AAYAp/5l/+T/Vv9FAsT/xP67ADAALf/a/rr+DwBJADT/GQGsAEMAxP+1/qwAEf9SAOIAaP48AKb/PACEAP3/gP9o/8H/iP8jAN3/nQBLAUMBDv9S/rP/6/86AX8A2P+LAHz+nwAFAHT/ZgEy/0oBRAABAKkAtf6r/6kAuAC1/9QAiwDdAOH/0P5PAdj+OgBfATT/mAAU/2cApAH2/uMAEgELADoB0/+9/23/O/9nAJMA9ABcAF7/of5w/z8B1ABhASgB0P8F/yYAQQDU/c4AfQHZAMb/uv4s/1n+yQBPAekB9AD0/g//aP7d/k3/dgBFAuUAtADl/lX9of8DAIcAnP8kAKoAHAA5/7/+a/7L/qsBsP+A/+T/tf6YAJgBkQDB/7gAmv+k/jL/xv4l/lL/3P8SAHQC3QCN/kkAZf8PAHgAqf51ACkAiwCy/7j+9v/f/x8AmAGVAKwAvgCI/h4AYgBkASgAAv9pAHUA/gC//wsAAv+8/9QATwFAAwYAQwBTANL86v4hAAUACgFNAccCMAU8AXf+i/3Q+lT+ZgHdAZX/cQC/A1oBO/93AQAAOgDXAkYA1gBA/vr7AADi/pz+pgGaAe7/YgAoAiMASADk/1n/pQC2ACL/vfyr/lP7Jvz8+3/5swK4B+4IqAgdBG3/+P8p/TP6jfsb+6n9VP8DAEkAzwBq/xT+LgBkAWMBeAEc/jz8//+k/r/9T//p/+MDigKt/1wBjv7E/W4AFwCm/z/9//4HAbb9DgK/Aw0BPAJrAGP/Nv/g/O/+IAOa/2//EwKYAGsAlwH7ALP9IQDjAAoBXAFQ/pEAq//k//8CNQFkABj/T/8jACsBvAIUAtwCgQJM/+j8E/8r/Sj9UAAt/24A/f9jAYgCpgH8AGMCFwF//I3/mP3O+pb8pfxa/soAFAJjAdIDQgQWA1wCUABK/7T9L/75/ZYANAHs/2cAJv55A1YE4gEJA8b+sf6E/Qr9IP8r/GT9kv7C/Eb9H/2h/nsAnP5uAY4ECwOXA2YBGgCD/2z8s/2Q/ov+DQC4AL0ClwNmAgUBQP9k/Rr8t/tv/Nj+of/m/4QB2wCX/oT+zv9rAJ0BoQGU/xb+BP/x/+cAGANMAjUB8QFmAgwCOgHu/jf+ZAAO/10AEAA3/Wv+Hv+EAHYAvQGfAWEAmwBa/lv/aAG0ALz/3f9A/tP+dwMqAjIBXAF1/j0A8/9P/hQAEgClAFkCeAH//xP/cP44AEYANwArASYBKgGX/yD+hv8Z/7j9eABQAAgABgBSAAEBE/+U/23/RACOABQA3QCF/zcATQFJAPD/nQAWAUoB7QBhAIIALP+a/mP/Tf1h/hkACv8LAJ3+ef+kAd4A8QBLAMz+kv4x/7T9/v1w/jr+IAH+AKQArAHB/73/awBcAMwAvf8x/03/awCEAGj+7P1U/mP+lf+LAGYB8gAkAPIAnQCG/yf/nQCvAH7/i/+V/zn/mf8zAHX/of+V/0QA3gDQ/5z/Q/+i/lL+Rf+f/+7+ggDQAWsA+//EAFcAJADAAOwA5P8jAO8AkwDUALz/3/+VAIb/AQBH/+X+fv+k/yQAYQCVAJz/Of8o/zH/a//d/+z/Sv/4/zf/n/64/0QA5QA6AVAB/ACQACoBTwGdAFoA5wC2AD8B4gGvABcA0/86AOH/YP/f/8n/lf8PAF7/Bf67/tj+Y//T/4H/3P/6/5X/2P8tACD/pv9QAMQAHAE1AH0APwAmAI8C+gIeAjsCBwKEAhwBpP7R/UH91Pyl/cz9ev2O/Wb9QP7O/V39T/4d/yf/1v5H/3D+wv1o/tb+lP///sL+Uf/L/x8Ad//Q/7r/CADPALj/gf8BAFAABwGuAVoBHgBBAMP/Rf5U/l/+N/7//lb/4P7l/v/+gP86APD/rv5Z/tb+Ef81ANMAv/8R/5T/0v+HAK8AkQApAFf/+v9r/xIAiAFQAZoB4gEdArICPQToBKYDeQNIA+kClAMEA20CnwFpAK8APAH4AXkCjQLNAu4CDQQxBP8CLgMFAsQAegEWATwA3gBeAbEAQwDX/wL/rv61/hn+8f1h/ir/JgBv/03/dgCWAPsAXwFkAFz/cv8o/xn+cf20+/H5Zvk6+Aj3R/a89e31EPZP9mn33vda+J/4U/iv92/2y/Z692n3xfej9xz4L/nG+sj8x/z+/Pf9+P4vAaUDCAUSBv8HMQmRCvsMgA6lDlsO8A2rDMcLkQoiCYgIwgaYBRwGzQUcBtAH9gejB6sIZQj6B/wIpgicB6MHhgcYByIHFAeZBwIInwdKB9YF8APQAWD/WP2e+n34bPd49kX2RPYf9vr1j/V79TP2ufaq9oD2jPaZ9pn3FPm1+Yb6nvtk/HX9Bf7P/a/9lv0y/lf+wv30/Gn8D/2E/r/+UP1P+zf4+vW+9cb05fNS9DLzEPPb9Mf0DvUk9uz0T/S786jxZPEV8oj0ZPjK/FsCYAfSDQ0UfBjTHVohcCUeLMcxTTcQOfY22jKVK4AkPBsSD0wDC/ay6rbiGd2h20Lcq+Au59PtXvaC/SkEogt1EFsThBRsE0ASVxHKDz0NGAoABiABCP1I+IXxaure4rHcRtl415jYftuv4CDqKfeUBHoPsRn6Hvwf7CDHHHIXPRNvDGsHCQQ6AFf+2v5sAFcBnAMLBTMEGQYRB4kHzQnaCBYI0gg0CMsHTgbvAQj8ivb38HTqQeTZ3vvad9ut3z3mae6p9HL5Yf1M/9P+iPu+9cftpOQj3bbXQdNQ0/HVk9mF4DXoYvDn+Q4D0Ak7DksR0BOKGSsmtjTNQYlPW1aRVH1Tx06hQugy4hubAKnp79hMzafH9Mm+0JXedvXFCUgc3C4mOXA//0InPpsy6CUuGloPzwYS/brz6PAE8WfwqOzF4SHUbsgcvlS3XbIFr/GzJ8Fz0zHqZgLmF/cqSjvyQ4tGTURZOx8zhivtHioTMgZL97jvCuqZ4jXeB9sk2xrhX+ln8gf+DQsUFxIkby5SMr4yKS36IewVYQdT9qPmidlA0P7Ny9A416PhMezQ9cD9bgC4/vr6I/R57M7lpN0Y11PWudiC3I7imuig7eLy9fWI9tr1wfHw6//lgd+23DzdT+HJ6pr05wBrEE8jBTxMTghbdmNvW2dP5UPnMScjRBOU/8XyJu7s75/17v+nCaIPmRi6G68Y6xfbEFsH6wMwAKX9lf5wAGYHzw8pE1sUfBI5DfkFRfpw6v3Zac3xxEnCfsb3zCfX2+SH8uQBgg/0FtcZ9xhBFWwPZAr2BYAAUv8tAMoA7gIzAMb6u/at7yXpLeVm48DnyfCM/OULCx59LqM5JEIDRWQ+oDJkH2AIY/bh5fnXmdD9zwjX4eIe8vMB/QzYEn0T6A+bCL783O/A4sXYodTN0cLSPdgP3nrk5ena6oXn1uJs3a/XnNTC0/7TjtcH31zqK/gfBGUOFBcPHIsgyiobNrg5Jj6fQJg2WC0UJrEbfhdVEA8CKfyI+9L7AAL+CYwQzhcoH1EfER7kI+Ii/RzBHfMbfhdfFccRzQ+SDvcJrQKg94ftEeXs2JHMZMSav+2968JRzUTYXOVv9d0F2xV3Ia4k2iNiH84Vow5FCT7/+PVF8HvrJ+zo7dPqlegW5Ufge+C85APti/nkB2MYJCq9OlZHUU6zUMlKXjyiKmkVKAH58f7j1tkr1+/YWN5t6RT4TwLbBfgG2QM3/eP2MO7B5VPhKt6a3jTjwOgR7o/xMfT48w/uyOVE3MjSnss2x4rHO8p0z93YU+Ow8HT8AgOPCXMKCQg7CAUH8g4+HB0knjIhPiM/4UMDRoxCuT6WNMUlxxaqCYYAEvmH9rP4eP3LBKMH9gzVFpMZShysIOof4x2GGIESLxNBEXcLbQao/PbzbO1M4j3Y9dAuyPLBZ8HFw6TK4dda6DT4AAclEz8a9x/fIm4gYxvxEAoCDvU26grjpuBD3qjc398B5+/uivaT/oQGJQ6+EygX+Bx2ImkkpCa8JvwkzyTdIV0dohlRE9kKoQFv+SX1wPJ28G7xQ/Pc8WzwvPB98a/xbfCb7XDqPOhF5a3hPeIO5SzlreVf51jnkua+5WHl9eWh5jjnCebu5C3lNOSj5eTpvOtN7njyLfTA9/L8lQW1GFIqxDaaRjtNeksfTxJOZ0dKQjs25CODEpgEr/sx9B/w8PE09PX1/fgZASINghW4GzUgDSFtIjwh/x5nH0IZjA/DBcr3ie1f5LzV8MpGxGO/VMDPwxnKjdUv4yvxNP7SCYQRRRPkEfsMIgQe+lbvi+WJ3WTXSdbA2AncquMp8GP7MAR/DBcUKBzJIlIl6yenK90sciywK/UplSd5I7IdRxg0E5wMsgNe+2D2QfQ68gPyRPev/Cz/sgL8BX8GFwQA/0j5/vMR7l7mHN9z3GzcL9v02VTaedwk3RHbjtnn2fjaQ9p+2oLeU+Lx5T7qYe9n93z9pP9NAm0DewTyBTYJFBevJJQtEz61SplMuE/AT5RJHkH9MU0d3QdW9pjnHNlx1rLfueia89gCthTzKDI2IDsLPw0+nzXfJhAYTw2r/r/uYeQ32ibU89GsybDFIMnIyCnLstJj2vDlNfPz/4sMmhZlHaweCBzgFlAKVPpL7FHcTs2yxcLDqcR4zK3cqOvR/A4UCyPcLNk4Tz0oO8o4BjSlLlkr3ChuJrwjwSEIH3gaYRVJDgsFgfnd7eLlnuIp5m7sivLM/lULMBDbFEMWHA/vBWT5kOnL3P3Qeca8wd7B38afzufUT9yi5MLoxOpq7GPrGenZ5z3nHedZ6frsy+/+8rH2oPet9kf2iPZW92b93g7IHmkpNj5HUTpVblqUXYJSA0Z6NeAaXQOE80flI9nH2n/qdvvYDCYgYzAkPe5CTj56NdgqBxxUB0X0Z+vh4rTbXdy+3CTgOOff5QTideNW4WzdA90e3kLhjOaf7cH1n/5XBwsL8wjlBCb8v+6F4ozX3M2HyI7I18yQ1Rnk3PbFCS0cCSw5Nv4+x0WzRIZBl0CkOvExKCuVIREXrA6ZBGb66fON7qbpvedl6t7y6v0nCRsWbSC0JOUkGB+AE3oFkvTs4rTT18fowSfBXMQ1zX3YieJ36vvuyPD976brn+Wc4DjdWNvw24nfkuWa7Xf1Hfou/H/8D/kL8gvsxums6SvyQwNfEfIimDu7ScFNblNhUXFELjdrJ0gRqP/s+e7z6+/v/MgOWBqtJywzhTf2Oac00SUhGcgOsQAV8/zsq+q36jXu8e4I7/rx0+4g5gji491C2F3YIdw94YTpuvSc/uYEeAraDOkHxP+a8yzhRNM9y9zBMr6HxEjO4tpp7BAAjxTQJzE2Bj86REtG+kGYOjY2iTDmJ1wihBznEgINWwiV/+75CPix8r7tW+9h9P/6dQV3Eqsc4iFUIqMcexKHBvz3quew2fTOAsc3xH3HSc4L1w7iTuv07vvv2u+y62/lSuBs28DYetlv2/HfDek389D6mv+zAVAAtPoe9Ivu4u6s+eUEDA74HXwtMDS1OkQ/0D07PL4zkiKAEwsKZAE7+hj7xgS8EVQcLiQFLR85Uz74N+IxEyy8HmEMGvwy77zlKt6Q1GfOvc8x0Z3PONNi24/hEOjE7hP18vwhBYoJIQrsCmAJKAJj+UnxluZe26PSQssMxwHH6cvw1cvhJPA5AlAUfSPML246g0LDRAZD5T8BOhYz6iujIhIZxw/yBX/9MfaA8OXurO6x7mvzkvu0AwEOEhmZH1ohEh8xF38MQwIr9qvpuuBh2VDSu87Vzw3TJteb2/nddt0k3crcXNrd2fncp97s37bj8OcQ7Bzx1Pfg/oEBNwCN/1f9Ef7sB8oQnhk6KRgx/C31LTgtJib6IV4dlxEKB2gC3vsT9zb/sQu0FBUe1iaGLSA2TDxNO+86NDtEM7cjtBW8B4L3HukZ2YHKU8PkvMe1e7hRwg7Mbtg85+j1twNJEHYYdxtDHLoYkg5MAtz1ZOjv3QnW0c25yIDIiMzb0sTbjuly+AsGtRFfGRMixizOMdY0ZDutPpY9NDuaNjcxyiroH2wTLgnL/lX0H+0q6qvrSfEe+PYA8wzgFiccKR4KHMUVNAvU/J/uyOJ62PPP08r6ykDQ2tUz25rg9OJk5KHkGOFS3oze6dpJ1yvZMdtJ3mPmuu4S9DP7tQFOA4gHHhXKIEMmQTD4N0Q1/TDkLDMkvh0HGOgK/f8G/Yv6yvaX+QAD1QwKFWYaCCCqKuw0JTfROfc/2z8NORcvlCIDFcwFEfA/2R7KjL26r0SpGq0FtXbCEtNf4q31MAv4GHsf+yRLJsMe/RLTBir4sOpT4efVQMuPyATIvMeUzHbT5NsW6hf5BgU4ElQicjD1OK8/8EbiSmJJgENMOYotGiOQFTwHPP/c+h71g/Dc8Nr0UPm2/ZcDxgiBC2ELtQdQBC4DS/5P9rfxrezq5BvfYNq51rvXh9h71m7Xx9qF3FDdQ9+i49fnLueu5GnkruPF4UziNORG56fsKfGZ9av+dQ8WI8kxpT7TSglNkEXwPMQwtCNkGhcMCfx89afzi/A18xX9+gdAETQXyhpDITUr/i8wMMgz6DfANcUufCdMHs4RygCX69LXqsi6u/awR63LsQu9hcuD2hrtYQISFBMfACUZJykkSRphCt74l+mZ3ZHRqsafw1bFNcczzTvXeuIZ8h0CEQxFFh0j5yufMIc1CjoxPRg+/jldMxMu9ib+GygSsQkZALr4z/KW7SzvZ/VV+U//zQkhEewSyBLtEEEL+wJL+Cnr2uAg2tXRlMsQzrvTCtjA3S3knekD7tPuy+t36uPoJuO+3JHYgdYs1inYzdz444zrffKB+Fr+4QQ7DVwcqSs+NbM/3EfnRopC5DygMowq+CCKD9L/9/bh7wLqIuxM9akBJw48F+ogVS/COTI6hjoCO4w1WisCHcYNSgKP9T7jX9RgzJzFgb99vWzBFMoq1B7eW+v3+20LNxbsG5QfVR9yFkIIkPk16ZXZp80Sw5S8Hr4mxC/Ljtf06fr6EgoDGvomVzDXOfA+Zz7NPXA7ojRPLDklYB0cFdwN1gVc/qT6f/j99fX28PoFADIG2gyYFLAbFR+6HRoYlg6tAhT1aOYH2oXR+MpnxiHHJ8wh0+Tba+PE6Djtje9B77vtkutQ6efl1eA83mveKt/m4NvjJuc36jztG+/98GD0Mvn5/mQKnBwdLFA5yUefT1lN4EnmQi01rylJG24G4fdG8g7squuF93gGpRS1IP8ovS/6Nik4KjFaKjok8hisCVf9PvSd7HfkfNrg08/RVM9qy8zK7M+o11Tfuegu9aIB9guSETsRww4hCXP9ye504HPTqMrZxmXFIMk01GXhhe03/EEMrBmTJUUu/zLIN7c7SDpeN7A1qzFyK7sjvhnIDyMH6Psu8rDvH/BP8Xb2IP/rCPcTmx24JSorLinXH9gRaAHB71zfzdE9xxDCHMQ8yTPQB9xu58jt9PEb88nvVexI6ZLkOOGj4XzjU+aj6iPvpvMW9lz04u+Z6sXj6Nvt1trWDNqr4DPsO/s2EfErJUDkUJdgBmSrWyhQOD91LHsdSAym+/7z9PJp8ir42QWqFeYi9SfQJuAlhSRbHAoSMgu2BkACo/qX9OT0UfYt84ztRuho5KHfIdj506XWENwR4THnPO429vv92v8j/XH7m/Y77Cbjh9yD16TYqNz53sPlK/Hp+jME0RCAHREotTA/NQA3OziiNtYwACpFIxYbTRAJBT38Z/Yt8wnxWPHP94YCDwx9FN4e9SjGLPwojSJ1GtYMjPvk6o3cWtNYzn/Kfsvv0tzajeAq5tTrsu+Z7/Pr0udI5YTjLuLH4tTmXO0E8jv09/Xy9dfyGe315CHc49PQzNbI9slW0W/cyueO9LQDRhQhKRI/Bk/CW7NlaWO0WMxOjkDCMLMk+hQWA9/5d/Xj8XT12/7BCfERwBN5E0kV+xUGE3sOOQtmCtgH/QKxARAEFAYxBLn9ivZL7zbkwNfkz4fM08uszKfOPtSz3qTpK/EA+Jr+g/9y+uDzu+1j6ijqBOqJ7MXzmPzVBpUSxR4/Kyk0Dzc5NlMziC1VJfQbnBISC9QDa/2a+ar4Ufrv/vQEFQtsFPwdbyPHJvMnISRWHHkR6gSO+a7t6OG/2YbV0dMu08HUeNj827vdEt5w3nLfG+DD4Pbi3+Ww6YTup/I696D8vP8i/337gfVh7erjEdu400vOV8s2yynOxtWI4HTqT/V5ArINoxiTK8lAkE89XlxqV2p0ZRhe8k0rP0ozhR3NBVr3UOz942bjz+hw8sX7B/9eAmwJsw9MErcRKBHWEXwQ6Qx9C7MMTA09CFX+YPVz7HfghNRNy5zFCsSfxBDHts5J3BHqBvN3+tMCxwUHA57/pPo29n71vfO58Qf2pP0sBMQLVRWZHgUn0yyCLtQtayp0IysafxEaChUEXQAU/1n/MgHKBeUL5hIJGu0faCOZIr8d8xYgDckCVPtE83HrEueC40Lgrt+S3zTfld/i3v7cPtuk2bDZBtxk3v7hf+cN7Ufy5PZD+sr9fv/6+9r2B/FS6A3fRdcC0BTLsch9x7fKmtMP3svpEvhXBTsRGyFsNzNMtFxObAB1KHMfbMlfYk4cP/MsNhIM+vnpmd3U1oDYWOHg7hn6nQBiCdwU8BzBHpAdJB16GxQWCBBaCxYI0QQz/GXwrOfd3onTEcoexKrCksVzyeTPo9sO6o32l/4VBY4K9wlSBdz/2fg29Hryd+7P7GbyTfl9ADMKiRQpHwEpky4UMfwygzLJLMUjWhtdE6wKsANg/z38rfyu/7ICaAjJEYAZCh2SHp4dDhnuEf4J7wGV+QHxkOgW4V3cldkE1mfT/NId0o3QKNDI0TnVsNkV3pPjQOsb8xn5Wf5MA8AFWgTE/pT2a+6r5BzZ288aydfCDMDywpjJg9Sq4tDwbf+8DaYcvDKhSilcB2xxd0p2WW+uZBFSFEHdMCwXvfyy66He8dVe1lfeC+3G+wIEjAv5FhAg8iK3IVUftxx4FpcMsgNh/vP6RvSG6evhf91R1xDSedBz0gvYfd1O4cznivGw+jv/UAAKAVf+rPb77i7oI+TD5VbnAejQ7jj65QT8D2sboCW8LrszjDM6M8ozaS8SJjccQxLVB+D+sfe58tHy6/bk+zYDuA+/HIElSyq1LJorBCQkGMIMoACE8sjlftoD09DQtM13yvXLA87xzdPPrNO02PnehOMI56/sv/Mq+a79KgI3BTwFAQGw+Fbv9eRB2VTPfMbkv9y9yb/MxJjPL95a7GH6rwh6FSgljD0aVDBkPXPEepN00WmDW6lGMjRaIeoGSu/D4o7aRtio4HDu/f2zC3ASgRY5HakgSR7cGVAUww7VCAID6/8cAFIBhP2W8/DqzuPR2bTRCM+Xz13ToNjo3Vjm3vE9+5P+Bf4d+7P06+sZ5DfffN5W4jPnn+1O+EcFcxFFHJEl8SuPLtkt8SzyKronyCMnHD4SCQpHA9v9HPxZ+0v9KwQ+C4oTCCC4K6MyDTVeMYMoxhwRDsT9ku4L4Y7UB8sXx0TI5Msb0FrUgtiF3DLf7eBi4xvmqejQ6rPt9PIh+Sv9YgC1AjwAvfhy7iviQtWNyuTBZ7yGu3W+kcMIzU/bLept+fcIdBS1HBImGDItRVxadWqrdkp71nN8ZdlSYTykJ7MQVPXd4BfXjtO818/jmPT5BTYRghUaGlAgACK5HaMYOhWzEu8PsAx9C4ELwwUK+KLpX90G0SfFlLxSuge/Pcc90WrfXfFyATUKMQzjCpYFe/uc8EToJeS65Ibo7O5S+XAFIQ+iFXMagRyVGp4YExf+FbQZJiBwJGUoHiq9JEocPxPmB+b/+/0g/ooDjA+dGwQnnzDJMnItyCLdEiEBMfF94ozW5c4zy0zLEc+t1QbdKePp5rHnsObm5nboxOrz7rPzF/eh+en7u/1A/+T+q/oZ82foattDz8PGg8DLvMC91MHhxxvRA95x7Hf6ggY6DzwWmR7OJ2g1B0wLY8hziX//f+hyjmCLRxooVwth7+LU+sWCwurHOtn48E0H4RkoJSUoiieVJSwhZhuwFzoVLxEsDh8OaAxDBkv8eO253DfN1L4DtAyxk7WivpDLg9u07NH9fAwmFKsSZQ05Bq36SvC164PqM+3H88f5j/+dBvoJQwj7BhkG4QNeBoUNUhY6JXo1/D46ROtD+TiDKBYXbAUh+efzd/Rc/RUL1xePI6wqxymHI/YX6wdF+abryN131ffS69H008XX89oA317hLOH04XzklOcl6pnshu/I8VbyPPN09Xv35vdg9qLy4+ux4yXanc/Bxuy/GLyCvVLDc8yG2qjqpvmLB1ISiBnHH20mBC1fOfdNv2H4cEp8zntlbT1YzjvlGiX+aeTmzcHC7MOOzc3gWvkFEE4jUC+5LxcrqCeeIkYcThigFZ4ScQ88Cw0G1v6z8y3k2NM+xtq7DLXwtYm+zcug28bqB/nEBpARFxWmEmUNVwXc+rbyq+9j71bytvY1+K/36vYP9P/wdvHz8636vAcRGB8qyDwyS4lQeU2yQ/QzPCDfDPD8evKV72zyTPoRBx8UbB3BIbsfqhjmDlQC3/aO7gzmtd6t2m7XSNV51X7Vv9ZM28XeVOFb587tBvJz9v/5Tfp8+MP13fJ98SDwRO4B7Nbn59/X1c/MQMXGv3S9yb/RxTbPRdqO59T35gceFdQgSCtgMn04Tj8hSFFX72jGcjx1UG85WmE7vRu9/MDjmNTwyonJxNM85K/3BA53Ipgv+TMXL4wleR0dGGgTuhEnExAT+RC1DbIHsfxm7ordRcznv3e5Z7h1vvPKutmv6Mf39wWxEBcWPBVTDxIH7/3f9Wfxj/Do8DXybvJc7/rq5+Un4ZHhHukW9UIFqhgNK0Q6XUeQT7FPHEocPosqghWkAmvyDupP6u7vofpBB4sRbhnCG2sW0w0NBJf5EPF26zPocebU48ngmt/23rnd6t0b3xvhPeVq6pzwsffr/Az/Mv1u96Xx/euo5RvhIt/823bX8tMK0KrLyclSyYzJxc0q1CLbduVN88YBjBBZHhkqpTI7OMk8W0FDR0NR6FwnY0RiQld0QQIn3Q1f+LHpR+Jh3+3htukn9ZkEexRaIEko9ClbIwsbGRbNEwsU9BVaFiUT9w3vBp78m/Ai5W7YWMzzxHnBVcK7yZfVueI48NL7UQT0CTYNbw0IC34HkgPR/rz5tPW28cPtdek35OrepduC3GvjffGMBT0dsjMbRixSJlWMTzhDPTJoIN4P+wBd93jzTPJt8xL32vsgAtwJjw9SEUcPiAlHAtL7e/b28r/wBu0h6D/jwN3+2Q/aZNwd4G3ko+ec60rxlvfv/cYBtAD5+1H1tu0/53rjQOHR3gDbTNXzzkPKjMetxqnIlMzk0TzZ3eNO8toDhhVOJBkvLzXYNtg1KjXkNgI77kKITc5UI1UaTV06EiE4CsH2Feg/41HmHO0a+JsEJQ4KFhEcfB27GpUVjw+4C20NOBPXGYkfBSHkG94QPgFm7cnatM0nxYrCQsbLzEfVPeCe6l7zCftzABMEoQb1B/8Hbwf2BU0CUPxF9L/rrOM03pjcwt5H5ajwhADGESIi9y6VN8E7WjuhN/0w/CcuHvUTzghiAB/8cvrB+tH8gf93AZ4DzQWhBlIGWgWSA1wBVP/y/M75UfWa7w/pj+GX2vPVc9SX1qDb9eFa6dfwufeV/TUAQwBR/+T72fZk8WjrH+aC4WfbQdQEzTvFSL8wvQi/XMUrz8HaCOeQ88wAUw4UHBYojjCRNYM21jRbNGE2VDtrRmBTTVm1VtVIry8QFQYA5O/R57vojOx/8q76wAEqBxsNhhGLEgwS8Q9EDgIRiBglIW0okyouJMkXPgea813hmtTGzDfJDcpLzZjSfNrZ4mbqmfH+9yv9gQGnBN8GJgmMCmwJkQUb/zD2bu0p5xvkA+RC54ntYPaJAUINdBh+IrsqTjBeMgcxBS1HJ9cfXhcYD1YHYQDk+hL32PWs9777XwHaBmcKlAqVBy4D9f93/nH9c/xm+qX1jO3F46Ta5NQt04PVW9vq4mjr2/RB/voEfgjcB2oCV/q58GrneeCK3DTatNea01PNhccoxNvE68og1CveMugu8Qr5JwIWDa8Y3iMnLLYvPy9iLjIvrzOtPDBJHlQaV89OyjmeHsMF2/OB6snqCfGY91/9xQC6Ab0CVwUJCI4Luw/hEq0XdR/SJ4Iu4DAcKkEcQQve99Xlgdkj0wbRwNGn0hzSNdJS1AbY/t1v5jPwy/mVAi4JkA1DEKIPcwunBFX8B/Tv7YjrP+wg73jzffiI/scFNg0XFRQdlyPDJ1AqpCoTKV8mGSHDGUsRUQhcAIL7f/k4+mr8PP77/2EBPgIbA2IEUgXkBmIIfwfXBNf/fffA7N/hwthf0wPTrdaO3evl5+1o9U/7IP+YAAgAdf2n+K/y6+vn5UDhZt1E2bnTkswixTTA9r+Bxb/PwNwv6kr1Vf6kB/gRwRy6J98wrjVsNyo3EzfUOZ1A/kgzTblJrDvCJUcOUfsE8Krs+++Q9Dn49vlW+lP7D/89BTkMwBOvGSQetCIEKJUrkCvEJYMZZwqP+hLsIeIw3nXdPd0h3GnYeNOj0BDRTNWk3djohPRC/wUIyA3gDzEOJAmJAQr6HvS38dHzMPjQ+6D9zv2t/GT9HgFtB7MPRRhWHm8h/yJWI0QjTSLRH58axRMDDJQEdf8S/dv8z/03ANMCpAWlCGEKqQqKCqcJXAboAFT5yPCU53LemNeG1B7V2ddi3H3iWulv8HX3XP1NAZUCPAGg/dT4k/Mr7u3os+NG3hjXN85Pxeq+wL2qworMD9q96HD0J/y9AagHZA9uGS0kLi14M7g2Fjg1Ot4+EUb7S9ZKIUBcLBcVTwHD9cLyQvaP+yb+r/3N+qD3Xfdi+3QCNwuZE7sZ8h4BJTgq4CurKPcfThQlCFP8GfOx7aHpieSJ3V7UkMoLxI7DfchE0grf1+ux9tD+DQSrBlQHWQZsBOQCBwKyAnAF3whOCpUIaQQy/+77zPxNAXYI9w++FBYWZxX6E9QTIxUUFjAWARVPEsYOLwxJCuEI3AfqBqwGBwekB34HZgWBAXj9b/nM9IrwzeyB6MXi3NyO2HbXANqd30Hnu+459KX4w/xnAHwDVQXyBP0BJv1n9krvoOjU4RPbr9Oyy/HF78TjyATRotwQ6K/wAfY2+XH9wQQYDwYbxCYNL6ozWTaSOPE7+EAtRqZGEUBIMYAdiwsUAOP7IfwU/t79DvuZ9g3yWfCv8nr4MgABCTkRFRhrH8wmnCuhK7MmKR7XFAwM4QOg/GL1D+1m4yvZtc/HyKbGzMjZzQzVj9065lTugfXr+tr+cgHVAwMHBQsQD3sSjxRCFPYR5g4FDBYJLQZZA1UAG/6J/Wj/cgOICJwMIg72DC4K5Ae1COkM+hKoGDobZBnXE0gNdgi4BigHgQebBVABq/sU9RHujuf04bzc79g41wHY+NvV4Q/ooO238b/0lfgu/YgBwwQGBbEBUPy19Ujv7+m05ZvhENw61ATMr8eJyEbOjtf64ILogO1u8Xn2Tf+TC54ZByd6MOI1WDipOjg+6kOxSUhK10OMNUAjcBKDB0AD0ALLAlv/k/gu8CjpXuam6Qny1PzJB3IQkxZ4GxUgoCO0JHYjkR9dGpEUuQ0FBur8e/Lm5qrbwNFwylbH5scJyw7QMdZg3Jbigehy7qT0Xfv/AqIKIRFkFSUYxhmJGqoazBrIGrIYbxQdDhQHbQE3/u/8HP1A/ur+xv9dAHcB2QPYB2MNchOBGLQaEhunGfYWNRSnEdIOWAsRB7MB//tb9eLtOObP3lzYKNQe05jUztiH3vbjfeg67NfvYfQJ+pT/0gPIBUIFFgPh/1775vU878Xn89/W1/3QRM1uze/Px9Oq18HaN94N5EbtxvllCOAWwyNqLWczeTeOO0tAkkWdS1tOTko4P3gunhxKDgEG5gKQAt4Agvud85fqX+Ol4cXmGvFG/igLEhQ9GQwcgx1bHkEfVyACIcAgeR1uFq4LRf5D8HfjudiD0P/LZcoEyyHNjdBt1MDYzd1E44bpr/CB+R0DRQyUE88Y0ByWH9AhbyN/JNAj1x9gGJQOMwWk/nb8uPxw/WL9xftL+d72wfZP+lQBiAlpEccWrRc8FkQUUROeE4QUoBS3ElsOSwd1/kbzGuic39bZMNfv1x3a3tv03Bzdlt2836LkMeya9Nf7YQARAiMBy/9z/lH8afmj9N3tIuWQ2yHTzM1JzNbN/9Hc1TnZC9zv3mPkgO3I+nsKrxoYKPAx/TeIOws/8kLhRphKNEyPR9g8yi01HkISwAq/B3YF4ACY+fLwn+go47Dj2+nK8+T+OQjrDQUR+BL8FNUXSRsuH6Qh0yE4HhcWYgoA/fLwPOef31TaJNY/0hLPLs28zKrNs8/b0sPXpN6050vydf2pB6APpBXAGRodfCBOI/MlDCjgJmUhYhhFDi0GFgLCAeABmv/V+mX1+PAq8F70PfxCBaQMMBHVEfEQ2xCCE3IX3BlrGkMXpRBvB0n9BfM86dniJ9/W3SbdQ9up2LfVtdSA15jewOes8Ur6/f7WAFIAJf/u/sb+PP4//Iz3y/C26Mbf/tf20/zSZtRi2EXcgt7v3l7gF+TP67/4bAiSGJ0lGi9sNIg2hTd4OJ86yj0VQgtEi0GPOHsq0RszD5cIxQWABL8BLvwg9Bvry+Y853vsmPRl/JUC7AWmCM4L9A9RFJEYVBx3HSIcUxitEhkLOwMc/Cf1++4l6Vnkq98s237XJdSN0bXQ8NJQ2LDgzeqa9H38NgKaBowKIQ8UFbUbrSH0Jc4mhCSIHuQWEhCdCskHSwX9Aqb/GPvA9j70UPSh9m37qQCvBIsGnAewCAMLOA/eE0MXxBYbE3IMrwNE+wf0Hu8d7AfqCuiK5cPhTt493aTesOPk6gbyhPc4+mD6Lflm+J33Rvf+9g/1t/F+7A7med812ZnV1tRT1iPa/t1q4Prh9OJC5S7rf/QKAOULMxXiGuge9iEjJVQo3yvCLyYzSDZnOC441zQVL3cnhB8XGWkVThRME9EQEQwSBcD8T/aE84b0x/iq/Z0BEAMfA9cClwKFBA4IfgxBELgRfBDGDL8H2gHl/OX47fVV89DvIuvQ5I7ejNll187Y/tyz4/bpmu7/8BDy6vN794v9cwXtDacUwxg1Ge8WXRTLEUMRUhHvEJoQ+g4jDbMKEgelA4kAT/4c/joALAOdBSgHpgcUB7YGPAcECLoIcQgAB2cDEf7A+KT0QvK18PHvCu847Xrq0ufU5jrn2+kR7jDyQ/Wt9rf2G/bk9BDzrPFU8MXunewg6l3nEeRy4MjddtxR3NHdReCC48PmZuoN7hryqPa3+/sBXAeCC0YP2hIgFo4Zbx14IO4iNyWaJ30pXCqQK3wrOil3Jisk4iKKIhEiqR+FGjQTQQw+B1oEFwSCBL4D6ABI/dv5ivfD99b59/y8/7ABQwIcAWD/jv3e+5D6J/rG+T75jPcI9NfvsusR6Q/oFehK6abqkush7JTsbO2176LzlfgF/SkA1wLqBBQHggkTDQwSwBSnFbEVOxRZEk0QuQ65DYEMAQvQCagH3ATjA3QEFQW8BDsDAAF1/n38xfvw+437Dvty+r/44fZi9Xz0U/Mh8qfxu/Fi8l/zwfWf+F76yfpD+tP40PZn9cL0jfTg84zydPD87GLoQOT+4XHhwOJf5NzlCOc955PntOgV61Xu9PLP9637q/6QAGsCDQTvBQsJ0A28EiUXjhpDG3wb3Rz0IDInhi0dM640+jEaLVMoZCX7JPQlCiWVIJwYDxAaCMIBtv52/Zb80Pr4+A33bPUk9RH2GfjT+ff7L/77/yYBGQFJAKz+I/0c/M37GvvE+W73i/O6783sg+tT617rNOvG6ufpDelm6Yfrf+/m9Ob66/9KA10FugbrCD4MZQ9oEtwUMBbHFqQW5xW5FMQSfhEwEAQOxQs4Cb0FWQFS/TP6rvf69Z/1BvaP9Yv0xPPo8pHyofOt9XH3Zvnz+4v+uP/Y/rv9LPwl+jv5m/iK98j1AvQO8gLvjetz6Yfozecc6HzoN+ha58vme+Y15t/mQejE6jPtA+9e8OHwoPHM8n70iva9+Zb9IwHRBDYJEw7JEs0X/RsUIKUkSCqTMOc0yTZANgY0IDGDLqQsVSu3KZolsh73FYgNDAfaArgAYf+7/RD7P/h79c/ynfEw8kr0Fffp+YX8kP4ZAOwAkwHiATIC0wIzA7cC2wC2/Ub5avRF8GTtU+v26YjpKOnl52DmgOUv5ujove0/86/3e/v9/sQBaQQJCJUMgRFLFjIaEhzbGzAaMRhpFd0RNQ8zDTULPwlXBpUBm/sd9r3ycfHL8bbzSPU49Xn0YfRq9XX3tPr0/aj/hv8e/l/8w/ol+ob6pPrO+Qb4zfX28nTw0O5Z7n/u6u337JTrb+rB6b/p5+mN6X/pp+nx6QLqlOoz7IztPu7n7lnwpfFD84P2nvp//qQCTQgODl0TjBi/Hbch7STrKTQwXTVzOO85jDj+NHwxji4dLPkpmicWI78bKhPTC9YFpwBT/cP6f/f+82TxL+8m7Z3sUO788bf2dvtP/3IBigI0A0UEnQVSBzsJqgnOB2wDzP0k+N/zMfFo76TtLOtY6GjlROIs4LLgG+Sb6DPtivGD9SH57fxSAeUFIwvCEPYVLBmJGj4bnBsBG+4YyhUqEqAOhwueCDgF2QD/+z33wvP68TzyO/Qd9h/3KPe79lb2hfag9/r51vwy/pX+i/1x+5z5UvjK98/2BvZI9YH06vJ+8aPwee/A7urtbu1G7Afrfuq66eLoguge6cTo3ucE52rm1eZn53/p+Os87unwUvTg9wH7Xv9QBF0KxBDdFo0c/SDyJBgp+C17MrM2SDpNO5451DWZMZItyipJKaEmVSExGSkQiQceANL68vcu9uXz7/HC75jtRuzK7HnvWvPI9/X7xv+EArcE/gWhBj4HWwj5CSsKKQjpAwr/Mfrh9Y7ywu9f7avq0ufd5BPigeD44Azk4+dR7Jzw+/M39zH7rwAgBkYL6A9YFNUXkxnKGsoaHhpnGFcWjBMeEK8NpAuqCTUGLwIc/lv6UPhu+Lf5wvnu+Fb3jfWQ9Df0lfUa93/4QPmE+HP26fP+8kPz7vRs9pP3YPdt9XPz/fBB7x7uQe5P75zvd+4C7DLpv+Vp41viVeI/4xHkduUV5uzl1eWg5qLod+sH8CD1kvpv/7IDhAftCkMQ+BY4Hqoj0ietLN8xhDbjOPc5HzpSOsg5wTZ2Mssu+ixzKfsh7hfFDqsIAgRTAHP8jPju9Efxc+0F6lDp2utF8Db0AfcW+Zn6evy4/mQBEgQlBt0HqAilCEUHZARJAAv8mvgM9hf02/F575HsxulG55Lly+Vr6JHsivCO80r1Vvey+nr/BgX6Cc0NchACEp4SlBMQFV8WAxfOFUATehDuDQcMWAp0CPEFCwNI/9X7Wfm993P3Afe+9afzKfIx8bnwnvCl8GDxQfI88+TzzvOY84P04/Vv9pH2dvab9rH25PW89ODy5vBm7/Ht4euV6XrnpOUl5FHiU+EG4ePh0+OF5a3mVeeY6AvrxO4o83j4Mv6NA/MIxA3uEsYY/x4QJUkqGi8/NJg5rz1dP/I9gTruNg000zH0L0It3CgKItUY9Q5eBp0Asf01/CD67/bj8qLucutX6u7ruu9P9Pn3J/qH+9n8gf5kAFECOgSsBUsG4gVYBLABbf7u+lD3MvQX8vPw6+8o7qXrIemE50Ln8egh7OfvtfMs9qD3A/my+x4AKwXQCXQNixCrEmUUmBVcFuAWvRZQFkMV9xNDEgMQBA2bCNwDUv8G/A/6rPhE9/D0EPLq7tfsnOuj6wjtie6o75/vg++u763we/LJ9CL3Wvji+Kr4AfiA92X3Vfdu9sL0WPIE8KTtUesW6VTmwuNg4fPfQd+w3ybhceI54xzjruPE5TnqYvBG917+rQTWCgoQPBXyGnwhuyh4L+k1ADuoPmFA2T+MPS06SDftNPcyATBVK80kMRwvE5MKqwPQ/q37T/lZ9s3yv+6q6wTqYeql7PPvsfOj9v34qPqA/Lj+BwEdA2IEDQUeBTUFiATkAlcA2/yy+dn2rfQX88/xgPD07intNutj6gDrLe1A8Drz3/Um+G36AP0rAKUDgQfbCxQQwxN8FvAXpRiXGDgYMxgkGNwXeBZyExoP+Qn1BKUAWP2X+i/4W/XA8eXtPOoF6Ezn5ucN6RHq3Oo+6wjsH+3q7orxXPT69sT4zPlI+pD6gPoo+o35OfiD9oT0mPLN8MnuRuwr6fHl1uKm4NDfKeB94eDi3uOG5GjlX+fc6rjvd/Xt+34C+AgaD+8UpBoBIDclFyrBLkQzNjdQOuk75DtXOos36zO0L4QrSideI2Qf3hpTFXsOJwcNAK36WPfz9bD1dPWy9CDzWPER8FbwOvJv9Vr5yvxW/8kAQwErAeIA0QA0AdoBTQJmAtMBYQAN/t/6gvej9MDy7/Hq8RDyDfLX8TbxnPBb8OTwxfLh9fv5df6UAs8FQwjrCSELqQy0Dn4RURRcFgoXERarE3AQKg1pCpwIXAfiBZYDOgAk/BT4s/R28m7xNfE98QLxQvA072Pu9u0j7v7ub/BL8h70d/UC9vz18PVZ9kf3Ovjz+A/5TvjF9sb0pPKU8MfuUO0i7Avr5OnE6J3nquZM5tfmdujc6tTt0PCh80/2BfkQ/Gr/ZwPuB7AMPBFVFRIZVhw1H4ghiiNuJWoneSkDK+Ur5CsvK3MpnCYbI2wfNxx+GTEXtBSVEY8NzgjjA2v/SfyF+q75G/lc+FP3IPYs9dH0WfV+9v73ifm/+q/7evwc/XD9Yv0K/af8VfwE/NT7mfsT+xH6kfjk9m/1n/R19NH0UvXS9TD2E/a69aP1gvaH+Gf7if45AR8DKwTUBF0FUAYKCEsKQwwKDZoMNAt4CewH2wYeBm4FowRnA5cBR/8Z/W/7Q/p0+cf4C/gc9yL2M/VX9K7zaPN183PzYfN687vz/vMU9Ar08fP980j0pvS/9GH0uvPM8sDx9fCw8OHwE/H68Hfwpu/u7sTuYe+I8APyjvPa9LD1OvbX9g/4Gfrb/NX/dwKFBDwG6wflCW8MXw98Ej8VdBcaGXMarBvGHNwd0h65H1ggcCD0H7Ye6xykGkAY+xUdFJUSzhCFDm0LHQj8BHACswCr/xn/hv7Z/e/8Lvzp+xj8ivy7/KD8Wvws/DD8c/y9/Kr8K/wG+5r5V/il93v3W/f09iT2IvUW9Ebz5fLI8gDzTfOc8/jzjfSV9d72PPhy+aP61fsr/bD+LgCVAbICYAORA1kDGgMdA4MDCQRqBFEEnANlAuwApP/H/nr+c/5r/g3+Jv3N+1b6K/mE+G34u/gr+VT5CPlz+L73GPev9o/2pfbG9tn2wPZs9u71dvUx9SD1Q/Vj9Vf1FvXE9J30sPQF9XL1yPXY9bL1i/WV9Qf28PYv+Hr5n/qe+5b8pP0H/+AAJAOKBcIHmQn3Cv0LEw1zDhAQqxHrEogTWxOUEoERkxAQEOsP3g94D28O3wwDC0cJGgitB90HWwi1CJcIDghSB/MGSwdCCI0JwAp4C3wL3goGCmQJIgkmCSEJwQi3BxIGNQReArQANv+//Sb8SPpS+ID2BPX08y3zafJ48Wjwee/47h3vB/Bs8a7yX/N681DzVfMD9JD1x/cP+vP7F/1I/er8qPwD/f39Uf+WAFQBSwGpANr/I/+//uL+Rf96/1L/7v5r/vT9tv27/c79pP1n/UH9Lf1B/aL9FP45/vv9fP3h/FD8FfxJ/JP8kfw9/KP7zvr/+YH5Uvky+Qr5wPg6+JP3E/f19iv3j/cD+Fz4h/i4+DH5//kJ+0f8ov3T/tP/zgDgAfYC8APeBLMFRAarBiUHugdHCLAI2gi5CF0I3Qd8B1kHawefB8YHswdUB9EGcgZZBn0GxAYRBzsHMgcNB/sGJweXBxsIXghRCBQI4gffBw8IZQiXCHII5wcsB2gG2QWkBZUFZwXZBAkEFQMsAogBMgESAdYATgCD/4v+nf3m/HH8Kfzm+3T70Pr/+Rf5Sfiz93P3dfd/93X3Wvc49xD3CfdT9+33s/iE+TP6lfqu+qj6yfoa+5H7LPy+/Ar94/xv/O77iPtY+2L7dPtv+0X78PqF+hH6v/mm+aL5uPnk+Qr6KvpN+m/6lPq8+gH7Xfuw+/n7MPxR/GD8avx2/IL8rfz7/DP9Rv1E/TD9Gf0F/R79c/3i/Vz+xP4J/z7/iP/4/4wAPAH+AboCRQOrAxcEfgTbBCgFXQV2BYAFfQV1BWcFVQU4BeoEeQQaBNcDtAO6A/wDVQSPBJEEdARvBJkE+QSbBWYGEQdhBzcH2AaEBmEGiQbVBg8HCgenBvYFNQWqBHYEbwRuBGoEOATEAzsD1wKfAnQCQAL+AbABTQHyALsAmwCQAHEAIwCt/zf/7/7f/v3+Kv8+/x3/sf4m/sr9n/20/QX+Rf5D/uX9S/2j/Bj81/vX+/n78/uc+wf7TfqX+QL5nfhh+D/4KvgS+O/3wPed9473lPfK9zD4xPh5+Tb63Ppj+8D7/vtG/Jn8Af2E/Q/+bv6O/nX+N/7n/Yf9WP1p/af9+/00/l7+Rf4I/uX97P1e/h7/9f+vADABdwGTAZ0B2wFjAgIDmwPjA9wDmQMpA90CoQKNApACYQIWAqkBRQH2AKUAegBsAHoArAD2AE0BwgEeAlsCfwKzAhgDngNzBB8FsQUFBtMFmgU4BSgFaQWVBeMFAwa2BQsFOgS3A4gDWwNWA1kDMwPnAlkC+QG9AYIBaAE1ATIBHgERATABJgE+AQwBuwCbAHYAhACvAOMAAAENAcUAYQANAMn/v//B/+H/7v/s/7z/VP/T/kr+B/7b/eL93v3O/af9KP2t/Cv89fvQ+9L77vvU+9X7ivtl+1H7P/tR+1v7Vvs/+1n7U/t5+2f7Ovsp+9j66frX+uH6DPvp+gL73Pqf+tr6Mfuw+zr8hfzX/Cn9Tf2s/WH+N/8LAJ0A9gAjASoBMgGGAQkCRQJUAlcCGwLOAU0B9wDeAL0AxQCnAD8A5//h/3f/av+Z/8n/UgA4ALMAAQHyADkBlwEjAqMCNgNjA98DMQRWBG4EbATgBPoEHwUUBSgFBgWtBNsENgQSBBcEtAOjA1kDVAP4AoYCTwIyAgACtQHGAZgBmAFZARwB7ADtABQByQDEAIwAegBVACMAZwBuAD0AOgDz/6v/uv+L/3z/w/8DAA8Avf9c/0f/3f64/qf+p/64/pP+tf5X/iP+f/1i/Y79Rv3E/ZH9lv2x/aT9Z/1n/Wv9yv0t/pX9+/3T/e39jv1n/bv9gf3C/Tz9X/1O/fX84/x//Kf8zfyx/LL8AP0Q/fD8rPwF/U39Lf2u/ff9Uv6a/m3+8/5I/1T/nv+e/8b/UgCRAIIArAC+ANsA5QCOANMAJgF8AWMBUAFkAecACAEAASEBSAGQAccBmAFzAWQBQwFPAbUBnQHJAewB8wHsAZoBDwIoAtEBKgJlAjkCLQJlAosCrQJ1Ap4CTAN3AhUDNgNqAkADDAMvAx0DnwILA3kDDgOuAsICdAK8AjcC7gEgAtYB0QGwAcABLwGOAJMA8QCsAEsAggAwAFIASADx/43/cP84ADIAi//m/wUA8/9h/wT/zv9g/1b/0/+U/4//cv8Y/5P+bv7L/jb/Hf/2/nX/Nv8r/t398f3C/dP9f/6k/uD9SP7Y/Vb8dv2O/I78SP7r/H/9kP2v/Lj8NfzR/Aj9gf2n/T/9QP5Y/Sn8Hv1n/Zj9X/70/nr+G/51/sr9Of2u/dv+df+E/vP+2v98/gP+PP6u/gL/pv7D/2P/Lf+A/9v+dP+A/6H/8//r/2cACAH//8T/HAHFAAUBmgF1AfsBtwLbAWgBHgLTAZoCngKXAkUEGgOPAvMCgwKZAnwCzQJWA/8CvAK3AwACeAFoAuUBngK6ARkCWQKuARsCWQHnAFUBTwLkAWMB4gE3AZwBaQGwAR4CEQG/AXcCWgEWAcQATQH2AV4BFgFhAJoAtADY/7//W//z/1MAgf/b/g7/jf+D/kP+p/7E/nL+6v5c/vL9iP9p/i3+S/5r/r/+Tf7H/R7+GP+Y/Tr+X/73/Zj+WP29/ZX9Vf0v/hL+nfxi/Xr+D/2u/Wz9ov0m/s/99/22/Gb9Fv4o/ir+lf7z/mH+iP5//bn9kP7H/kf/x/4QAB8Awv6r/ov+Nv/I/2P/SQCvALf/2P+uAKj/n//6/7D/cAGkAbkA3gBcAF8B0QEeAMwA3QEtAkcC9AGDAucB2wFoAoYCzQKQAmECSgIQA78C0AKwAmsCLwMMA7oCsAEOAqYCsAIbAmMCnwKxAV4C6QHVAXMBKAFyAqEBDwJwAa4AeAGbAFIBmgEeAasBYQFnAGkAVQAkALsAUABfAFkBFQAGAPP/3/5dAIv///6S/8H+5v+j/2P/R//g/nD+tf6c/gj++P4e/gD/L/+E/m7+2f3M/jn+kv5N/uz9nP7b/uT+Zv4C/2j+L/9t/mH9PP/i/jb/d/6E/k3/eP5c/vv9kv6N/+r+p/3g/u/+S/4U/8D9if6f/wr/x/5c/mP/rv4v/hb/wf4O/3r/pP9D/4H/G/8o/rX/3/6t/6QAzv7n/7L/mv8o/4H/UwBdAKkAQQAVAF7/l/+9ANEA3P/FAJ8BjgDAAFAADAFIASQA6ADqALYAUAFUATUBxAF4AV4BxAHAAN0AKAKdAXgAdwFjAhkCpwEbArMCnQH0AFABDwGGASsBwAG4Au4BTQGGAc4BFwDUAO4BRgDdAPYAbQE0AYr/QwLoAHL/eAEmAFoAPAAo/7MAXQAt/9MAPwAmAFAAWf8uAOf+Sv+A/8f+XP/E/igA+//w/8b+BP9NACH9Sv4Y/wz+y/5c/6IAMv/A/WH/CP5v/Nb+5P9V/sL+dP+Q/qX9wP2X/rb+G/+Y/sb/n/9G/Sr+ev62/Zr+NwDn/6L+hv8n/yP+X/73/T7/TP/R/oAAAQBA/xAAWv6i/gX/Y/5LAPIAuv+z/wgAev/p///+pwBnAIr/pgFXAHf+XQAnAlb/RAA+ASUB7AC6/y8BUgDT/yoB/gBNATIBuQApAPX/AwEjAbsAbgE7ArsBjABR/+b/4ACmAYQCIgJLAeAAtgAtAeH/wABXAoAAeQKzAdj/UAH8ANYAYgCkAJoBhABmANUB9wAkAF0ASwDFAFIALgBuAOH/AwEIAQgACACr/2H/zv/oAOoAYQCYAOH/D/+Z/zwABP8eAPIA3P8jAIb+aQAaACX+gf9B/iD/y/+1/4kAuP7T/UP/3f5V/kj/0f40/5r/GgC5AKj8/Pyy/zH/ev/O/jn/fQCu/gj+i/+l/SP/av+N/mcAyf7q/pr+gf2I/mv/kv8l/wT/s/9XAL3+cv4Y/1r+Uv/lAIwAHACB/27+ewDI/zUA8QEeAE0AxP/m/1AAY/+0APgCYQH4/lMA4wCX/0P/dgBBAXwBRwKaATAAXP+Q/0YAMAF1AdEBGAJUAcYBogH5ANP/YgDOARYCcAKIAlIBGwEMAv3/hv9sAFgAwgCZA8sD9f8t/3z/mP6sANsB/gAXAYj/EQGxAV7+7P+BAe7/+wDUAMwARAAm/ggBUAHm/1IB9f9X//v/Av8PAD7/V/7fAdYAFP5S//v9kP3J/6b+Mv8K/2H+//6G/tz/9P4M/rD+Qf0h/sn/FQDY/1n++P5U/yP+gf5V/jH/4f+P/8v/tP05/bD+cv7d/gsAa/+D/4b+j/xr/h3//v2a/y0Akv/JAE3+yf22/l39kwBjAl0AI/8q/5T/CwBdALkAfv8UAPMBzv+4/6oAi/+5AK4AuAA8Acv/XAA1AJoAyQH3AKkAPQD9/tEAAgLHAOwBNAJhAQoB8f/l/g8CkwQnAvkAHgAWAU0B1gD4AjsCDgNhAnL/fwDi/94ACgLsAL0CFAJcAFoApv8VAFwBbgHiALsAVv+8/2QBaAHHADMAlQE1AK7+0P/z/lAAawEjASgBi/9h/h7+uP9w/5r/pQBN/zL/Hv5I/hT/tv6G/5L/rv/9/gr+CP5k/Tf+YgDm/5X+0/5U/nD+QP9e/9H+Ev7B/gr/5/7x/vP+PP9q/xP/3v3Q/q7/mv6s/oP/iP8b/7L/TP/k/ob/av9/ACsAFv/1/5X/VP/L/zoAFwAuAFMASACgALf/LgCTACsAkACOABoAUwA+AfcAcQALAAoAwgHqAR4AzADeAFv/MwBAAkEBEgAqAT8A7QDEAWwAggBXAA0A4ABmAa4AkADFACoBzADB/yEAVwDqAKYBBwGa/+7/yP9IAE0BSQAmAYwAaP+w/04A7ABU/zT/rAAjAR8An/+K/3T/wAA8ACEAuv/E/oIAHgBo//b/4v8kAA8A5/9OAJn/1v61/wAA///i//H/+/82/2b/GQD4/3z/uv+1//H/6f8y/83/BP91/xoAvP/c/xT/+P9nAIr/6f5D/y3/4f+pAGb/lP/9/oj/tgCB/9r/xv8g/9P/nv9S/1IASABI/9P/+v+L/6v/l/88AJr/6f8pADL/fv9c/0gAZAAVADAAzv/x/4v/y//i/xoARgB9AEgAY/+L/3AA+QC6/2//XQDu/1wAxwAoAAMACgAPAOv/lf9SAFwBXADh/xAACgDZALr/AABeAQAAKADdAKj/rf/qAGcAPABDAM3/CAFQAN//hgDu/yQA6f9hAKoAmwCS/xIA/gAq/z8AWADh/5EAMAAHAbX/gf5cAA8BDQCVAEgARf/6/4D/kQB7AGX/IAF7AAn/xP9fAPv/1f/1/x8ALQDw/+n/cv+P/4IAkAD2/5z/D//4/2sA/f7Q/38Anv9mAOn/hv+V/37/5P+e/9f/UwBOAMH/rf8Y/9/+dQCCAPP/EABv//n+nv8uAL//CgBOAOz/yf96/6P/ef8eAAoAEAB2ALz/zv9o/wAAeABGADgAFP/9/swA6gDI/5EAqf/D/2sAYP/s/9X/XQD5AF0Ag/85/7r/CgCgAGYAWADi/2P/6//EAP//l/94ACQA2P/6/wsAsv86AL0AcADf/4j/3/8FAEgAGQB6ABoAq/8uAPr/s//n/0MAVwB/AGwATf+m//r/fv/OAKIAHwBBAIb/0P+9/+b/VwDd//b/pwB2AMn/wf8b//j/pQC1//P/NQD9/zwAGQB3/7r/qf/Y/2wAv/+8/88AZgAo/8T/0v/G/+L/JAC9AO7/s/8yADoAQv/u/4wAdP89AHEAOgDr/4X/gAAwAE//uv/r/zUA0wAjAO7/cv9I/wUAZwC//ykAzgBh/5//FAAuADUArf/2/8b/ZgC1/wgABQCp/8cAlf/p/7f/mf9SAEgAXwBl/wYApv/i/zgA/f99ANP/0P9IAOb/Nv9EACEAuv+WAJUA/f9F/8v/vP/m/9gAhACL/9P/YQCA//D/GQDO/+MAcwCV/2j/Wf8KAJ0AFQD//1cA7v///4r/av9iACsAgACfAAX/V/81AC0AYgA6ABoAAADN/5L/IwANAAEAegAAAOz/hv/T/04A8//n/zoANwDk/+z/ev+//3oAIwAFACkAvP8cAFcA0P8DAKb/g/9pAJoAHwAZAAYAo//L/xQA+/8KAPD/ZwBSALf/LgCQ/5f/SwAhABUAIwAIAJT/PwCu/wYAfwBP/2YAmAC6/7r/AQDm/9D/WADm/z8AawDL//r/nv+I/xIAogDc/9j/hgCk/6P/HgDr/8b/+/9NABoAqf/f/38A8P+c/yMA8f+y/wAArABiAJf/+v8QAHz/zv8tAA8AlgCAAPX/j/9b/8v/KAAhAFIASADm/xkA0v+r/8n/AwCvACsA2v/X/4//EgAaABAAGQAkAIIAn/+t/+L/6f9SAP//TgDm/8j/KwAaAAgAt/8XADcAkP/h/0MA+P/7/wYATQAGAHL/j/9YADIA6/+TACQAdP/k//j/d/9zAJEABgBYAK3/i//6////CgBJAGQA+v/D/8b/rf83AFgANQApAOT/tf+K/8n/cAB6APP/YQAuAFv/Zv8cAPb/GgC4ADAAzf+y/5n/0//9/z8AawADAL//0v+z/73/+/88AGwAFQDn/+L/fv8AAGIA1f8VAE0AAwAKAKP/FQBJAPD/DwD2/xIA8P8ZAOf/+/9TAPj/8f/J/x8AKQD//0EAEADd/9P/4f/a/+b/eAB4AOf/AQDm/3z/qP8aADMAXQBXAPr/5v+a/5L/BQAfABoAcwB4ALX/qP/c/8v/5//4/2cAHwDx/wUA0P/7/8n/FAAhAMv//f8PAB4Ay/8NAGYABQD2//b/6//S//H/DwAfADAAFwA8AOv/zf/p/6H/7P8mABoALgAFAPX/7v/T/+H/+/8aACsAGgDu/xAABQDY/yQAHwDx/+H/DQA1AAAADQD//wAAzf+k/w0AGQAeACQALgAQAMj/0v/I//D/BgAoAFgAJAAAAP3/7v+y//j/OgDu/xoAGQDm//P/3P8GADcA///w/xIA0v/E//r///8pADoAHwAcAAAAvP/S/wEA4v8NADUAHwAhAN//3f8GANr/8P86AAsAxP8NAA0A3f8fAD8A+//a/wsA+//N/xwAUAD9/+H/AADi/9//AwAFADMAFADr/w8A5v/p////9v8KAPb/AwAUAP//FAAeAAsAAQAGAOH/1f////X/HwAyABUADwD7/9j/zf/7//b/DQAaAA8AIwDz//H/CwAAAAAA//8DAOz/6/8GABkAIQANAPb/5v/c/9//BQANAAMAEAD9//X/9f/6//v/8f8AABoAGQD6/woAFwDX/+L/FQAKAAUAFwAXAAEA6//i//X/8P/s/wgADwAGAAgACgD6//b/AQD9/wAAEAAPAAEABQALAPv/8//x//v/AQABAA0A///7//v/7v/4/wEA9v/7/woA//8DAAUA+P8DAAEAAAAKAAMAAwAKAAgAAwAIAAYA+//w//X/BgD9/wEAGQAFAPj/CAD9/+n//f8GAPr/AQAZABwADQAGAP3/8f/z//H/AwAIAP//BgANAAsA9v/w//r/8//x/woAFAABAAgABQDu//D/9f8IABIA//8DAA8A9v/u/wEAAAD2/wMA///w/wEADQAAAAEAAQDr/+L/7v8FABUAFAAVABIA+P/r//H/6//2/w8AEAAVABIAAAAAAAAA8//4//3//f8AAAYADQALAAsACwAGAPr/+P8DAAEAAAAIAAEA+//7//X/AAAFAAUABQD///3/8f/w//3/AAD9/wMADwAAAPv/CAD6/+7/+/////j//f8DAAoACwAFAAUAAQDz//X/+//6//v/CgANAAUABQABAAAA/f8AAAUAAQADAAMAAwADAAAACAASAAMAAQADAPv/+//9/wAAAAABAAMAAwABAAAAAQAAAPv//f/9//j/+/8AAAAAAwAFAAoACgAAAP3////4//r/AQAGAAgABQABAPv/+P/9//3/AQAAAP3////9////AAABAAEAAQAFAAEA/f/9/////////wEABQAAAAAAAwAAAP/////7//3/+//9/wAAAAAAAAMAAAD9//v/+//4//r///8BAAEA+/8AAAAA+P///wMAAAD9//3//f///wAA/f8AAP//+/8BAAEAAQADAAEAAAABAAEABgAGAAMAAwAGAAAAAQAGAAUAAwADAAAA//8BAAUABgAFAAYAAwD9////AQAAAAMAAQD7/wEABgABAAEAAwAAAP//AAD//wAABQAFAAUAAQD6//j/+P/7/wEAAQABAAEA/f/9////AAADAAMAAwADAAUAAwAAAAEA//8BAAAA/f///wEAAQABAAUAAwABAAEA/////wEACAAIAAYAAwD9//j/9v/9/wAAAwAIAAYAAQD///v/9v/7/wEAAQABAAEA/f/6//v//f////3/+//9/////f/9//3/AAABAP3//f/7//j/+v/9/wAAAAD9//3/+//4//j//f8AAAEAAQAAAP3/+v/7//3//f8AAAAAAAD///3/+//6//v/+//6////AQABAAMAAwAAAP/////9/wEAAwABAAEAAQABAAAAAQADAAYACAAIAAgABQADAAEAAQADAAMABgAGAAYACAAGAAYABgAGAAgABgAGAAYABgAIAAgACgAIAAYABgAFAAMABQAGAAYACAAFAAEAAQAAAP//AAAAAAAA///7//r/+v/7////AQABAAMAAQD9//v/+v/6//r//f/9//v/+P/4//b/9v/4//j/+v/6//v/+v/7/////f/1//P/8f/x//b/+P/9/wAA/f/7//r/9v/4//v/+////wAA///9//v//f/7//r//f////3//f///////f///wEABQAGAAMAAwADAAEAAAAAAAAAAAABAAUABgAGAAYABgAGAAMAAwAFAAUABgAGAAoABgADAAUAAQADAAUABQAFAAUABQAGAAUAAwAFAAYACAAIAAYABQADAAAAAAABAAEABQAFAAMABQABAAEABQAGAAMAAwAAAP//AAABAAMACAAIAAMAAAD///v///8AAAMAAwABAAAAAAAAAAEAAwAFAAMAAwAAAP3//f/6//3/AAD////////7//j/9v/2//r/+v/6//3//f/9///////9//v/+P/2//j/9v/4//v/+v/6//v/+P/6//v/+/////////8BAAEAAAD9//v/+v/9//3/+v/6//j/+P/4//j/+v/9//////8BAAAA//8AAAEAAAD////////7//v///8AAAAAAQABAAEAAQAFAAgABgAFAAMAAwADAAEAAQAGAAgABQAFAAMAAQAAAAEAAQADAAYABgAGAAUAAQABAAEAAwAAAAEABQAGAAMAAAAAAAAAAAAAAAAAAQADAAEAAQAAAAAAAQABAAAA//8BAAEAAQABAAAAAAD//wAAAQAAAAEABQAFAAMAAQD/////AAD//wEABQAFAAEAAQABAP////8AAAAAAwADAAEAAAD9//3/+//6//3///8AAAAAAAABAP///f/9//3/+//6//3//f/7//v/+P/2//b/9f/2//r//f//////AAAAAAAA//////3/////////AAABAAAA///9//////8AAAAAAQAIAAYACAAIAAUAAwABAAAAAQADAAEAAQABAP////8AAAMAAwADAAUAAQABAAAA/f/7//3//f/9//v/+/////////8AAAEA//8AAAEAAAAAAAMAAwABAAMAAwAAAAAAAAAAAAEAAwABAAEAAAAAAAAAAQAFAAgABgAGAAUAAAD///v/+////wAAAAABAAEA///9//3/+//7//3///8BAAAAAAD///v/+//4//j/+v/7//3/AAAAAP///f/9////AQADAAUAAwADAAEA/////wAAAwAGAAYACAAGAAMAAAAAAAAAAAAAAAEABQAFAAEABQAFAAEAAQADAAEAAQAFAAMABQADAAMAAwADAAAAAAAAAAEAAwAFAAUAAwABAAAA///9////AAABAP//AAD///r/+v/6//r/+/8AAAAAAAAAAP//////////AQABAAMAAwABAAAA+//4//r//f8BAAMABQAFAAEA///7//v//f/9/wAAAwAFAAMAAQD//////f8AAAEAAQABAAMAAQD///3/////////AAAAAAAAAQABAAAAAAD///3//f8AAAEAAwAGAAYAAQAAAP///////wAAAQADAAUABQAFAAAA/f/9//v///8AAAEAAAABAAMAAAABAAAAAAABAAEAAQADAAEAAQD9//3/AAAAAAEAAQABAAMAAQABAAEAAAD//wEAAQADAAEAAwADAAAA/f//////AAAAAAEAAwABAAAAAAD9//3///8AAAEAAAABAAAA///9//r/+P/6//3/AAABAAEAAAD///3/+//9////AAABAAEAAwADAAAAAAD9////AQAAAAMAAwABAAEAAQD9//3//f///wEABQAGAAUAAQD///v///8AAAEAAQAFAAMAAwAAAP///////wAAAQAAAAAAAAAAAAAAAAD///v/+////wAAAAD//wAAAQD/////AAAAAAAAAAABAAEAAAABAP///f8AAAAA//8AAAMAAwABAAAA///9//3//f8AAAEAAQADAAAAAAAAAP3////9/wAAAQAAAAAAAAAAAP3////9////AAAAAAEAAwAAAP3/+v/6//3//f8BAAMABQADAAAA/f/9//v/+////wMABQAFAAUAAQD///3///8AAAEAAwAFAAYAAwAAAAAA/f/9/wEAAwAGAAYABgAFAAEAAAD/////AAABAAMAAQADAAMAAQABAP///f///wAAAQADAAEAAQAAAP3/+///////AAABAAMAAAAAAP3/+//7//v//f///wEAAQAAAP///f////////8AAAAAAwADAAMAAQAAAP////8AAAAAAQADAAEAAAD//wAA/////wAAAAAAAP//AAABAP/////9//3/+//9/wAAAAAAAAEAAAD///3/+//7//v//////wAAAQABAAEA//8AAAAA//8AAAEAAQAAAAEAAAD//wAA/////wAAAQAAAAEAAQAAAAAAAAADAAYABQAFAAEAAQABAAEAAQABAAEAAQABAAEAAwAAAAAAAAAAAAEAAQABAAEAAAABAAEA/f/9/////f8AAAAAAAAAAAAA/f/9/wAA//8AAAEAAQAAAAEAAAAAAAAAAAAAAAEAAAAAAAEAAAAAAP3//f/9//v//f///wAAAAAAAP///f/9//3//f8BAAAAAAABAAAA///9//3///////3/////////AAD9////AAABAAEAAAAAAP//AAD///3//f/9//3//f/7//3/AAD///3//f/9//v/+//6//v/+//7//v/+//9//v/+//7//3//f////3//////wEAAQAAAAAAAAAAAAEAAAABAAEAAAAAAAAAAAAAAAAAAAAAAAAAAQAAAAEAAAD///////8AAAEAAQABAAEAAAABAAAAAAAAAAAAAAD//wAAAAABAAEAAAAAAAEAAAAAAAMABgAIAAsACAAGAAYABgAFAAMABQAFAAUABgAGAAUABQAGAAUAAwABAAMAAwADAAUAAQAAAP///f/7//v//f8AAAAA/f/9/////////////f/7//v//f/9//r/+v/6//r/+P/2//j/+P/6//r/+v/6//b/9v/2//b/8//z//P/9f/2//b/9v/1//P/8//2//b/+P/6//j/+v/4//j/+v/6//r/+P/6//r/+P/4//r/+//6//v/+//9/wAA//8BAAAAAAAAAP//AAD//wAAAQABAAEAAQADAAMABQAGAAUABgAIAAYABgAIAAgABgAFAAYACAAGAAgACAAIAAgACAAGAAYACAAIAAYACgAKAAgACAAGAAYABQABAAUAAQABAAEAAwAIAAYABQAFAAMAAwADAAMABQAFAAMABgAGAAUAAwAFAAMAAwAFAAUAAwAFAAMABQADAAMABQADAAMAAwAFAAMAAwADAAEA///9/wAA/////wAA///9/////f//////+//6//v/+v/6//v/+v/2//j/+P/4//j/9v/4//r/+//6//j/+P/7//r/+v/7//r/+v/9//3//f/7//v//f/9//////8AAAAA//////////8AAP3///8AAAAAAAAAAP//AAAAAAAAAQABAAAA///9/wAA/////wAAAAAAAP//+//9//////8AAP/////9////AAABAAEAAQABAAAAAAABAAAA/f8AAAEAAQADAAEAAQABAAMAAQADAAMAAwADAAMAAQADAAMAAwADAAMABQAIAAUABQAIAAYACgAIAAgABgAFAAYABQAFAAYABQAGAAUABQAIAAYABgAGAAYABQAGAAUABQAGAAEAAQADAAEAAQAAAP//AAAAAAAAAQABAAMAAQAAAAAA/////wAAAAD//wAA/////////f/9/////////wEAAAD///3//f/9////AAD9/////////////f/9//v//f/9//v//f/9//3///////3//f/9//3//f/9////AAAAAP//AAD//////////wAA//8AAAEAAAD/////AAAAAAAA/////wAA////////AAD9//3//////////////////////wAAAAAAAAAAAAD//wAAAQADAAMAAwADAAMAAQADAAUAAwADAAUABgAFAAUABgAFAAYABgAIAAgACwAKAAYACAAFAAUABgAGAAYAAwABAAMAAwADAAMAAQABAAAAAAABAAAAAAAAAP3////9//3////////////////////9//3/+//9////AAAAAP3//f/7//v/+////////f////////8AAAAAAAD/////AAAAAAAAAQAAAAEAAAABAAAAAAABAAEAAQADAAEA///9//3/AAABAAEAAQABAAAA//8AAAAAAAAAAP3//f/9/////f/////////9//3//////wAAAAABAAEAAQAAAAAA//8AAAAAAQABAAAAAQAAAAAAAQABAAEAAQABAAAAAQABAP//AAABAA==\" type=\"audio/wav\" />\n",
              "                    Your browser does not support the audio element.\n",
              "                </audio>\n",
              "              "
            ],
            "text/plain": [
              "<IPython.lib.display.Audio object>"
            ]
          },
          "metadata": {},
          "execution_count": 39
        }
      ]
    },
    {
      "cell_type": "markdown",
      "metadata": {
        "id": "Ou-hVSHAF1uy"
      },
      "source": [
        "### Formatting the Data\n",
        "\n",
        "For the waveform, we downsample the audio for faster processing without losing too much of the classification power.\n",
        "\n",
        "We don’t need to apply other transformations here. It is common for some datasets though to have to reduce the number of channels (say from stereo to mono) by either taking the mean along the channel dimension, or simply keeping only one of the channels. Since SpeechCommands uses a single channel for audio, this is not needed here."
      ]
    },
    {
      "cell_type": "code",
      "metadata": {
        "colab": {
          "base_uri": "https://localhost:8080/"
        },
        "id": "9i3-jaayGgcY",
        "outputId": "a05ca2be-5776-486f-a9b6-297d2832e618"
      },
      "source": [
        "sample_rate"
      ],
      "execution_count": 41,
      "outputs": [
        {
          "output_type": "execute_result",
          "data": {
            "text/plain": [
              "16000"
            ]
          },
          "metadata": {},
          "execution_count": 41
        }
      ]
    },
    {
      "cell_type": "code",
      "metadata": {
        "colab": {
          "base_uri": "https://localhost:8080/",
          "height": 75
        },
        "id": "Fl1PzZjGGa1g",
        "outputId": "0910afa3-0c6c-48b4-b5f1-0c1b618a612b"
      },
      "source": [
        "new_sample_rate = 8000\n",
        "transform = torchaudio.transforms.Resample(orig_freq=sample_rate,\n",
        "                                           new_freq=new_sample_rate)\n",
        "transformed = transform(waveform)\n",
        "\n",
        "ipd.Audio(waveform.numpy(), rate=sample_rate)"
      ],
      "execution_count": 42,
      "outputs": [
        {
          "output_type": "execute_result",
          "data": {
            "text/html": [
              "\n",
              "                <audio controls=\"controls\" >\n",
              "                    <source src=\"data:audio/wav;base64,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\" type=\"audio/wav\" />\n",
              "                    Your browser does not support the audio element.\n",
              "                </audio>\n",
              "              "
            ],
            "text/plain": [
              "<IPython.lib.display.Audio object>"
            ]
          },
          "metadata": {},
          "execution_count": 42
        }
      ]
    },
    {
      "cell_type": "markdown",
      "metadata": {
        "id": "m1zPQzqAG8Uu"
      },
      "source": [
        "We are encoding each word using index in the list of labels."
      ]
    },
    {
      "cell_type": "code",
      "metadata": {
        "id": "3j2TRZOrBs5f"
      },
      "source": [
        "def label_to_index(word):\n",
        "  return torch.tensor(labels.index(word))\n",
        "\n",
        "def index_to_label(index):\n",
        "  return labels[index]"
      ],
      "execution_count": 43,
      "outputs": []
    },
    {
      "cell_type": "code",
      "metadata": {
        "colab": {
          "base_uri": "https://localhost:8080/"
        },
        "id": "GnNa4-BcBs33",
        "outputId": "5a723272-0fdb-455d-d62f-b9256397dd58"
      },
      "source": [
        "word_start = \"yes\"\n",
        "index = label_to_index(word_start)\n",
        "word_recovered = index_to_label(index)\n",
        "\n",
        "print(word_start, \"-->\", index, \"-->\", word_recovered)"
      ],
      "execution_count": 44,
      "outputs": [
        {
          "output_type": "stream",
          "name": "stdout",
          "text": [
            "yes --> tensor(33) --> yes\n"
          ]
        }
      ]
    },
    {
      "cell_type": "markdown",
      "metadata": {
        "id": "aDuPd-aKHvEV"
      },
      "source": [
        "To turn on a lists of data point made of audio recordings and utterances into two batched tensors for the model, we implement a collate function which is used by the PyTorch DataLoader that allows us to iterate over a dataset by batches. In this colate function we are going to apply resampling and do the text encoding."
      ]
    },
    {
      "cell_type": "code",
      "metadata": {
        "id": "giwbkiH2Bszg"
      },
      "source": [
        "def pad_sequence(batch):\n",
        "  batch = [item.t() for item in batch]\n",
        "  batch = torch.nn.utils.rnn.pad_sequence(batch, batch_first=True, padding_value=0.)\n",
        "  return batch.permute(0, 2, 1)\n",
        "\n",
        "\n",
        "def collate_fn(batch):\n",
        "  tensors, targets = [], []\n",
        "\n",
        "  for waveform, _, label, *_ in batch:\n",
        "    tensors += [waveform]\n",
        "    targets += [label_to_index(label)]\n",
        "\n",
        "  tensors = pad_sequence(tensors)\n",
        "  targets = torch.stack(targets)\n",
        "  return tensors, targets\n"
      ],
      "execution_count": 49,
      "outputs": []
    },
    {
      "cell_type": "code",
      "metadata": {
        "id": "BshOmumlBsxz"
      },
      "source": [
        "batch_size = 256\n",
        "\n",
        "if device == \"cuda\":\n",
        "    num_workers = 1\n",
        "    pin_memory = True\n",
        "else:\n",
        "    num_workers = 0\n",
        "    pin_memory = False"
      ],
      "execution_count": 50,
      "outputs": []
    },
    {
      "cell_type": "code",
      "metadata": {
        "id": "3-VcJ2SlJbDt"
      },
      "source": [
        "train_loader = torch.utils.data.DataLoader(\n",
        "    train_set,\n",
        "    batch_size=batch_size,\n",
        "    shuffle=True,\n",
        "    collate_fn=collate_fn,\n",
        "    num_workers=num_workers,\n",
        "    pin_memory=pin_memory,\n",
        ")\n",
        "\n",
        "test_loader = torch.utils.data.DataLoader(\n",
        "    test_set,\n",
        "    batch_size=batch_size,\n",
        "    shuffle=True, # normally set t false\n",
        "    # drop_last=False,\n",
        "    collate_fn=collate_fn,\n",
        "    num_workers=num_workers,\n",
        "    pin_memory=pin_memory,\n",
        ")"
      ],
      "execution_count": 90,
      "outputs": []
    },
    {
      "cell_type": "code",
      "metadata": {
        "colab": {
          "base_uri": "https://localhost:8080/"
        },
        "id": "bIPOVHaTJa_4",
        "outputId": "84317e8e-fe73-43fb-8a94-0b53819d1243"
      },
      "source": [
        "next(iter(train_loader))"
      ],
      "execution_count": 91,
      "outputs": [
        {
          "output_type": "execute_result",
          "data": {
            "text/plain": [
              "(tensor([[[ 9.1553e-05,  1.8921e-03,  3.7231e-03,  ...,  1.1597e-03,\n",
              "            1.0376e-03,  1.2512e-03]],\n",
              " \n",
              "         [[ 0.0000e+00,  0.0000e+00,  0.0000e+00,  ...,  1.2207e-04,\n",
              "            1.2207e-04,  2.7466e-04]],\n",
              " \n",
              "         [[ 0.0000e+00,  3.0518e-05,  6.1035e-05,  ..., -1.2207e-04,\n",
              "           -6.1035e-05, -3.0518e-05]],\n",
              " \n",
              "         ...,\n",
              " \n",
              "         [[-1.1597e-03, -9.1553e-04, -2.2278e-03,  ..., -2.2278e-03,\n",
              "           -2.7161e-03, -2.5024e-03]],\n",
              " \n",
              "         [[ 2.7466e-04,  3.0518e-04,  3.3569e-04,  ...,  7.3242e-04,\n",
              "            6.4087e-04,  5.7983e-04]],\n",
              " \n",
              "         [[-3.0518e-05, -3.0518e-05, -3.0518e-05,  ...,  4.7272e-02,\n",
              "            6.0059e-02,  6.8787e-02]]]),\n",
              " tensor([18, 12, 25, 23, 31, 10, 34,  3,  9, 28,  5, 17, 34, 30, 34, 32,  1,  5,\n",
              "         25, 26, 12, 22, 12, 34, 13, 19,  7,  9, 13, 32, 33, 20, 34,  2,  8, 21,\n",
              "         27, 16,  5, 26, 18, 27, 17, 13, 18, 34, 14,  9, 14, 30, 26,  8, 18, 21,\n",
              "         23, 29, 20, 27, 10, 33, 32, 23, 19, 25,  7, 24, 18, 12, 30,  1, 25, 32,\n",
              "         31, 19, 29,  3, 19,  3, 23, 17,  5, 20,  6, 10, 23, 23,  1,  3, 29, 30,\n",
              "          2, 34, 10, 34,  2,  5,  4, 25,  5, 33, 33, 33, 32, 22, 23, 10, 23, 26,\n",
              "          6, 30, 30, 26, 11, 14, 19,  5,  6, 12, 15,  7, 16,  6,  4, 17, 10, 13,\n",
              "         26, 12, 27, 33, 34, 26, 29,  0,  6,  4,  6, 29, 22, 18,  2, 11, 31, 16,\n",
              "         29, 34,  7, 10,  0, 17,  4, 28, 18,  6, 20, 26,  6,  2, 17, 30,  6, 20,\n",
              "         34, 21, 32, 19,  7, 11, 26, 34, 21, 28,  3, 15, 10, 19, 17, 22, 26, 12,\n",
              "         27,  3, 22, 25, 15, 29, 19, 30,  0, 16,  6, 20, 20, 30, 20, 21, 27, 20,\n",
              "         21,  7, 22, 22, 13, 23, 11,  5, 33, 11, 11, 20, 19, 24,  3, 20, 16,  7,\n",
              "         18,  7, 29, 28, 25,  4,  2, 31, 30, 29, 34,  1, 10, 30, 12, 11,  1,  6,\n",
              "         24, 27, 17, 30, 26,  8, 11,  7, 33, 20,  8, 20, 30, 25, 31, 17,  2, 34,\n",
              "         30, 23, 21,  9]))"
            ]
          },
          "metadata": {},
          "execution_count": 91
        }
      ]
    },
    {
      "cell_type": "markdown",
      "metadata": {
        "id": "rj1G2SmoKDPd"
      },
      "source": [
        "### Defining the Network\n",
        "\n",
        "We are going to use a Convolutional neural network to process the raw audio data.  Usually more advanced transforms are applied to the audio data, however CNNs can be used to accurately process the raw data. The specific architecture is modeled after the **M5** network architecture described in [this paper](https://arxiv.org/pdf/1610.00087.pdf)."
      ]
    },
    {
      "cell_type": "code",
      "metadata": {
        "colab": {
          "base_uri": "https://localhost:8080/"
        },
        "id": "jYQxM3xMLGEZ",
        "outputId": "4078fb55-ab34-4e16-edbe-2860985b0f34"
      },
      "source": [
        "waveform.shape"
      ],
      "execution_count": 92,
      "outputs": [
        {
          "output_type": "execute_result",
          "data": {
            "text/plain": [
              "torch.Size([1, 16000])"
            ]
          },
          "metadata": {},
          "execution_count": 92
        }
      ]
    },
    {
      "cell_type": "code",
      "metadata": {
        "id": "UWhHJNNhJa99"
      },
      "source": [
        "class M5(nn.Module):\n",
        "  def __init__(self, n_input=1, n_output=35, stride=16, n_channel=32):\n",
        "    super(M5, self).__init__()\n",
        "    self.conv1 = nn.Conv1d(n_input, n_channel, kernel_size=80, stride=stride)\n",
        "    self.bn1 = nn.BatchNorm1d(n_channel)\n",
        "    self.pool1 = nn.MaxPool1d(4)\n",
        "\n",
        "    self.conv2 = nn.Conv1d(n_channel, n_channel, kernel_size=3)\n",
        "    self.bn2 = nn.BatchNorm1d(n_channel)\n",
        "    self.pool2 = nn.MaxPool1d(4)\n",
        "\n",
        "    self.conv3 = nn.Conv1d(n_channel, 2 * n_channel, kernel_size=3)\n",
        "    self.bn3 = nn.BatchNorm1d(2 * n_channel)\n",
        "    self.pool3 = nn.MaxPool1d(4)\n",
        "\n",
        "    self.conv4 = nn.Conv1d(2 * n_channel, 2 * n_channel, kernel_size=3)\n",
        "    self.bn4 = nn.BatchNorm1d(2 * n_channel)\n",
        "    self.pool4 = nn.MaxPool1d(4)\n",
        "\n",
        "    self.fc1 = nn.Linear(2 * n_channel, n_output)\n",
        "\n",
        "\n",
        "  def forward(self, x):\n",
        "    x = self.conv1(x)\n",
        "    x = F.relu(self.bn1(x))\n",
        "    x = self.pool1(x)\n",
        "    x = self.conv2(x)\n",
        "    x = F.relu(self.bn2(x))\n",
        "    x = self.pool2(x)\n",
        "    x = self.conv3(x)\n",
        "    x = F.relu(self.bn3(x))\n",
        "    x = self.pool3(x)\n",
        "    x = self.conv4(x)\n",
        "    x = F.relu(self.bn4(x))\n",
        "    x = self.pool4(x)\n",
        "    x = F.avg_pool1d(x, x.shape[-1])\n",
        "    x = x.permute(0, 2, 1)\n",
        "    x = self.fc1(x)\n",
        "    return F.log_softmax(x, dim=2)\n"
      ],
      "execution_count": 138,
      "outputs": []
    },
    {
      "cell_type": "code",
      "metadata": {
        "colab": {
          "base_uri": "https://localhost:8080/"
        },
        "id": "-Ig-dNHlJa4t",
        "outputId": "1a7dedfb-5f02-4b97-b109-d2138d734d7b"
      },
      "source": [
        "model = M5(n_input=transformed.shape[0], n_output=len(labels)).to(device)\n",
        "model"
      ],
      "execution_count": 139,
      "outputs": [
        {
          "output_type": "execute_result",
          "data": {
            "text/plain": [
              "M5(\n",
              "  (conv1): Conv1d(1, 32, kernel_size=(80,), stride=(16,))\n",
              "  (bn1): BatchNorm1d(32, eps=1e-05, momentum=0.1, affine=True, track_running_stats=True)\n",
              "  (pool1): MaxPool1d(kernel_size=4, stride=4, padding=0, dilation=1, ceil_mode=False)\n",
              "  (conv2): Conv1d(32, 32, kernel_size=(3,), stride=(1,))\n",
              "  (bn2): BatchNorm1d(32, eps=1e-05, momentum=0.1, affine=True, track_running_stats=True)\n",
              "  (pool2): MaxPool1d(kernel_size=4, stride=4, padding=0, dilation=1, ceil_mode=False)\n",
              "  (conv3): Conv1d(32, 64, kernel_size=(3,), stride=(1,))\n",
              "  (bn3): BatchNorm1d(64, eps=1e-05, momentum=0.1, affine=True, track_running_stats=True)\n",
              "  (pool3): MaxPool1d(kernel_size=4, stride=4, padding=0, dilation=1, ceil_mode=False)\n",
              "  (conv4): Conv1d(64, 64, kernel_size=(3,), stride=(1,))\n",
              "  (bn4): BatchNorm1d(64, eps=1e-05, momentum=0.1, affine=True, track_running_stats=True)\n",
              "  (pool4): MaxPool1d(kernel_size=4, stride=4, padding=0, dilation=1, ceil_mode=False)\n",
              "  (fc1): Linear(in_features=64, out_features=35, bias=True)\n",
              ")"
            ]
          },
          "metadata": {},
          "execution_count": 139
        }
      ]
    },
    {
      "cell_type": "markdown",
      "metadata": {
        "id": "jbVu7-22NJTo"
      },
      "source": [
        "### Counting `model` parameters."
      ]
    },
    {
      "cell_type": "code",
      "metadata": {
        "colab": {
          "base_uri": "https://localhost:8080/"
        },
        "id": "KmGod9XpJa0x",
        "outputId": "f13bb34e-b58c-4420-f561-d40f4508acd1"
      },
      "source": [
        "def count_trainable_params(model):\n",
        "  return sum(p.numel() for p in model.parameters()), sum(p.numel() for p in model.parameters() if p.requires_grad)\n",
        "\n",
        "n_params, trainable_params = count_trainable_params(model)\n",
        "print(f\"Total number of paramaters: {n_params:,}\\nTotal tainable parameters: {trainable_params:,}\")"
      ],
      "execution_count": 140,
      "outputs": [
        {
          "output_type": "stream",
          "name": "stdout",
          "text": [
            "Total number of paramaters: 26,915\n",
            "Total tainable parameters: 26,915\n"
          ]
        }
      ]
    },
    {
      "cell_type": "markdown",
      "metadata": {
        "id": "UbXjNBR-NcXX"
      },
      "source": [
        "### Optimizer and Criterion\n",
        "\n",
        "We will use the `Adam` optimizer with the weight decay of `0.0001` with a learning rate of `0.01` but we will use the `scheduler` to decrease it to `0.001` after every 20 epochs."
      ]
    },
    {
      "cell_type": "code",
      "metadata": {
        "id": "fVB7VNHGJazH"
      },
      "source": [
        "optimizer = torch.optim.Adam(model.parameters(), lr=0.01, weight_decay=0.0001)\n",
        "criterion = nn.CrossEntropyLoss().to(device)\n",
        "scheduler = torch.optim.lr_scheduler.StepLR(optimizer, step_size=20, gamma=0.1)  # reduce the learning after 20 epochs by a factor of 10"
      ],
      "execution_count": 141,
      "outputs": []
    },
    {
      "cell_type": "markdown",
      "metadata": {
        "id": "risBVh0qPZZf"
      },
      "source": [
        "### The categorical accuracy function\n",
        "\n",
        "This function will measure the accuracy with actual predictions and model predictions during training.\n"
      ]
    },
    {
      "cell_type": "code",
      "metadata": {
        "id": "CqtocVWsPY3f"
      },
      "source": [
        "def categorical_accuracy(preds, y):\n",
        "  top_pred = preds.argmax(1, keepdim = True)\n",
        "  correct = top_pred.eq(y.view_as(top_pred)).sum()\n",
        "  acc = correct.float() / y.shape[0]\n",
        "  return acc"
      ],
      "execution_count": 142,
      "outputs": []
    },
    {
      "cell_type": "markdown",
      "metadata": {
        "id": "gXDVdrW7OdlN"
      },
      "source": [
        "### Training and testing the Network\n",
        "\n",
        "Now let's define our training function that will feed our training data into the model and perform backward propagation and optimization steps."
      ]
    },
    {
      "cell_type": "code",
      "metadata": {
        "id": "f5332KhoaIXj"
      },
      "source": [
        "def train(model, epoch, log_interval):\n",
        "    model.train()\n",
        "    for batch_idx, (data, target) in enumerate(train_loader):\n",
        "\n",
        "        data = data.to(device)\n",
        "        target = target.to(device)\n",
        "\n",
        "        # apply transform and model on whole batch directly on device\n",
        "        data = transform(data)\n",
        "        output = model(data)\n",
        "\n",
        "        # negative log-likelihood for a tensor of size (batch x 1 x n_output)\n",
        "        loss = F.nll_loss(output.squeeze(), target)\n",
        "\n",
        "        optimizer.zero_grad()\n",
        "        loss.backward()\n",
        "        optimizer.step()\n",
        "\n",
        "        # print training stats\n",
        "        if batch_idx % log_interval == 0:\n",
        "            print(f\"Train Epoch: {epoch} [{batch_idx * len(data)}/{len(train_loader.dataset)} ({100. * batch_idx / len(train_loader):.0f}%)]\\tLoss: {loss.item():.6f}\")\n",
        "\n",
        "        # update progress bar\n",
        "        pbar.update(pbar_update)\n",
        "        # record loss\n",
        "        losses.append(loss.item())"
      ],
      "execution_count": 143,
      "outputs": []
    },
    {
      "cell_type": "code",
      "metadata": {
        "id": "c1Y7cxTYaO2o"
      },
      "source": [
        "def number_of_correct(pred, target):\n",
        "    # count number of correct predictions\n",
        "    return pred.squeeze().eq(target).sum().item()\n",
        "\n",
        "\n",
        "def get_likely_index(tensor):\n",
        "    # find most likely label index for each element in the batch\n",
        "    return tensor.argmax(dim=-1)\n",
        "\n",
        "\n",
        "def test(model, epoch):\n",
        "    model.eval()\n",
        "    correct = 0\n",
        "    for data, target in test_loader:\n",
        "\n",
        "        data = data.to(device)\n",
        "        target = target.to(device)\n",
        "\n",
        "        # apply transform and model on whole batch directly on device\n",
        "        data = transform(data)\n",
        "        output = model(data)\n",
        "\n",
        "        pred = get_likely_index(output)\n",
        "        correct += number_of_correct(pred, target)\n",
        "\n",
        "        # update progress bar\n",
        "        pbar.update(pbar_update)\n",
        "\n",
        "    print(f\"\\nTest Epoch: {epoch}\\tAccuracy: {correct}/{len(test_loader.dataset)} ({100. * correct / len(test_loader.dataset):.0f}%)\\n\")"
      ],
      "execution_count": 144,
      "outputs": []
    },
    {
      "cell_type": "code",
      "metadata": {
        "id": "ojIokhNqakPh"
      },
      "source": [
        "from tqdm import tqdm"
      ],
      "execution_count": 147,
      "outputs": []
    },
    {
      "cell_type": "code",
      "metadata": {
        "colab": {
          "base_uri": "https://localhost:8080/"
        },
        "id": "iWO1zf9faeqy",
        "outputId": "6c2b9a2a-3bd7-4929-e044-e5ec7730e676"
      },
      "source": [
        "log_interval = 20\n",
        "n_epoch = 2\n",
        "\n",
        "pbar_update = 1 / (len(train_loader) + len(test_loader))\n",
        "losses = []\n",
        "\n",
        "# The transform needs to live on the same device as the model and the data.\n",
        "transform = transform.to(device)\n",
        "with tqdm(total=n_epoch) as pbar:\n",
        "    for epoch in range(1, n_epoch + 1):\n",
        "        train(model, epoch, log_interval)\n",
        "        test(model, epoch)\n",
        "        scheduler.step()"
      ],
      "execution_count": 148,
      "outputs": [
        {
          "output_type": "stream",
          "name": "stderr",
          "text": [
            "  0%|          | 0.008/2 [00:00<01:07, 33.92s/it]                "
          ]
        },
        {
          "output_type": "stream",
          "name": "stdout",
          "text": [
            "Train Epoch: 1 [0/84843 (0%)]\tLoss: 3.854132\n"
          ]
        },
        {
          "output_type": "stream",
          "name": "stderr",
          "text": [
            "  3%|▎         | 0.061333333333333316/2 [00:01<01:02, 32.04s/it]"
          ]
        },
        {
          "output_type": "stream",
          "name": "stdout",
          "text": [
            "Train Epoch: 1 [5120/84843 (6%)]\tLoss: 2.941710\n"
          ]
        },
        {
          "output_type": "stream",
          "name": "stderr",
          "text": [
            "  6%|▌         | 0.11466666666666661/2 [00:03<01:02, 33.14s/it]"
          ]
        },
        {
          "output_type": "stream",
          "name": "stdout",
          "text": [
            "Train Epoch: 1 [10240/84843 (12%)]\tLoss: 2.452315\n"
          ]
        },
        {
          "output_type": "stream",
          "name": "stderr",
          "text": [
            "  8%|▊         | 0.16800000000000012/2 [00:05<00:57, 31.22s/it]"
          ]
        },
        {
          "output_type": "stream",
          "name": "stdout",
          "text": [
            "Train Epoch: 1 [15360/84843 (18%)]\tLoss: 2.165611\n"
          ]
        },
        {
          "output_type": "stream",
          "name": "stderr",
          "text": [
            " 11%|█         | 0.2213333333333337/2 [00:07<00:56, 31.93s/it] "
          ]
        },
        {
          "output_type": "stream",
          "name": "stdout",
          "text": [
            "Train Epoch: 1 [20480/84843 (24%)]\tLoss: 2.020693\n"
          ]
        },
        {
          "output_type": "stream",
          "name": "stderr",
          "text": [
            " 14%|█▎        | 0.274666666666667/2 [00:08<00:54, 31.41s/it] "
          ]
        },
        {
          "output_type": "stream",
          "name": "stdout",
          "text": [
            "Train Epoch: 1 [25600/84843 (30%)]\tLoss: 1.880635\n"
          ]
        },
        {
          "output_type": "stream",
          "name": "stderr",
          "text": [
            " 16%|█▋        | 0.328/2 [00:10<00:52, 31.35s/it]             "
          ]
        },
        {
          "output_type": "stream",
          "name": "stdout",
          "text": [
            "Train Epoch: 1 [30720/84843 (36%)]\tLoss: 1.597939\n"
          ]
        },
        {
          "output_type": "stream",
          "name": "stderr",
          "text": [
            " 19%|█▉        | 0.381333333333333/2 [00:12<00:52, 32.25s/it] "
          ]
        },
        {
          "output_type": "stream",
          "name": "stdout",
          "text": [
            "Train Epoch: 1 [35840/84843 (42%)]\tLoss: 1.602111\n"
          ]
        },
        {
          "output_type": "stream",
          "name": "stderr",
          "text": [
            " 22%|██▏       | 0.43466666666666604/2 [00:13<00:50, 31.99s/it]"
          ]
        },
        {
          "output_type": "stream",
          "name": "stdout",
          "text": [
            "Train Epoch: 1 [40960/84843 (48%)]\tLoss: 1.441137\n"
          ]
        },
        {
          "output_type": "stream",
          "name": "stderr",
          "text": [
            " 24%|██▍       | 0.48799999999999905/2 [00:15<00:47, 31.11s/it]"
          ]
        },
        {
          "output_type": "stream",
          "name": "stdout",
          "text": [
            "Train Epoch: 1 [46080/84843 (54%)]\tLoss: 1.307778\n"
          ]
        },
        {
          "output_type": "stream",
          "name": "stderr",
          "text": [
            " 27%|██▋       | 0.5413333333333329/2 [00:17<00:45, 30.88s/it]"
          ]
        },
        {
          "output_type": "stream",
          "name": "stdout",
          "text": [
            "Train Epoch: 1 [51200/84843 (60%)]\tLoss: 1.339556\n"
          ]
        },
        {
          "output_type": "stream",
          "name": "stderr",
          "text": [
            " 30%|██▉       | 0.594666666666667/2 [00:18<00:43, 31.24s/it] "
          ]
        },
        {
          "output_type": "stream",
          "name": "stdout",
          "text": [
            "Train Epoch: 1 [56320/84843 (66%)]\tLoss: 1.276974\n"
          ]
        },
        {
          "output_type": "stream",
          "name": "stderr",
          "text": [
            " 32%|███▏      | 0.6480000000000011/2 [00:20<00:43, 32.51s/it]"
          ]
        },
        {
          "output_type": "stream",
          "name": "stdout",
          "text": [
            "Train Epoch: 1 [61440/84843 (72%)]\tLoss: 1.262046\n"
          ]
        },
        {
          "output_type": "stream",
          "name": "stderr",
          "text": [
            " 35%|███▌      | 0.7013333333333353/2 [00:22<00:40, 31.42s/it]"
          ]
        },
        {
          "output_type": "stream",
          "name": "stdout",
          "text": [
            "Train Epoch: 1 [66560/84843 (78%)]\tLoss: 1.186881\n"
          ]
        },
        {
          "output_type": "stream",
          "name": "stderr",
          "text": [
            " 38%|███▊      | 0.7546666666666694/2 [00:23<00:38, 30.84s/it]"
          ]
        },
        {
          "output_type": "stream",
          "name": "stdout",
          "text": [
            "Train Epoch: 1 [71680/84843 (84%)]\tLoss: 1.254314\n"
          ]
        },
        {
          "output_type": "stream",
          "name": "stderr",
          "text": [
            " 40%|████      | 0.8080000000000035/2 [00:25<00:38, 32.17s/it]"
          ]
        },
        {
          "output_type": "stream",
          "name": "stdout",
          "text": [
            "Train Epoch: 1 [76800/84843 (90%)]\tLoss: 1.389045\n"
          ]
        },
        {
          "output_type": "stream",
          "name": "stderr",
          "text": [
            " 43%|████▎     | 0.8613333333333376/2 [00:27<00:35, 30.96s/it]"
          ]
        },
        {
          "output_type": "stream",
          "name": "stdout",
          "text": [
            "Train Epoch: 1 [81920/84843 (96%)]\tLoss: 1.043523\n"
          ]
        },
        {
          "output_type": "stream",
          "name": "stderr",
          "text": [
            " 50%|█████     | 1.0053333333333394/2 [00:31<00:28, 28.70s/it]"
          ]
        },
        {
          "output_type": "stream",
          "name": "stdout",
          "text": [
            "\n",
            "Test Epoch: 1\tAccuracy: 6628/11005 (60%)\n",
            "\n",
            "Train Epoch: 2 [0/84843 (0%)]\tLoss: 1.212359\n"
          ]
        },
        {
          "output_type": "stream",
          "name": "stderr",
          "text": [
            " 53%|█████▎    | 1.0586666666666713/2 [00:33<00:29, 31.68s/it]"
          ]
        },
        {
          "output_type": "stream",
          "name": "stdout",
          "text": [
            "Train Epoch: 2 [5120/84843 (6%)]\tLoss: 1.056767\n"
          ]
        },
        {
          "output_type": "stream",
          "name": "stderr",
          "text": [
            " 56%|█████▌    | 1.1120000000000032/2 [00:34<00:28, 31.85s/it]"
          ]
        },
        {
          "output_type": "stream",
          "name": "stdout",
          "text": [
            "Train Epoch: 2 [10240/84843 (12%)]\tLoss: 1.047772\n"
          ]
        },
        {
          "output_type": "stream",
          "name": "stderr",
          "text": [
            " 58%|█████▊    | 1.165333333333335/2 [00:36<00:25, 31.03s/it]"
          ]
        },
        {
          "output_type": "stream",
          "name": "stdout",
          "text": [
            "Train Epoch: 2 [15360/84843 (18%)]\tLoss: 1.123228\n"
          ]
        },
        {
          "output_type": "stream",
          "name": "stderr",
          "text": [
            " 61%|██████    | 1.218666666666667/2 [00:38<00:24, 31.25s/it] "
          ]
        },
        {
          "output_type": "stream",
          "name": "stdout",
          "text": [
            "Train Epoch: 2 [20480/84843 (24%)]\tLoss: 1.136580\n"
          ]
        },
        {
          "output_type": "stream",
          "name": "stderr",
          "text": [
            " 64%|██████▎   | 1.271999999999999/2 [00:39<00:23, 31.82s/it] "
          ]
        },
        {
          "output_type": "stream",
          "name": "stdout",
          "text": [
            "Train Epoch: 2 [25600/84843 (30%)]\tLoss: 1.066638\n"
          ]
        },
        {
          "output_type": "stream",
          "name": "stderr",
          "text": [
            " 66%|██████▋   | 1.3253333333333308/2 [00:41<00:20, 30.74s/it]"
          ]
        },
        {
          "output_type": "stream",
          "name": "stdout",
          "text": [
            "Train Epoch: 2 [30720/84843 (36%)]\tLoss: 0.965958\n"
          ]
        },
        {
          "output_type": "stream",
          "name": "stderr",
          "text": [
            " 69%|██████▉   | 1.3786666666666627/2 [00:43<00:19, 30.78s/it]"
          ]
        },
        {
          "output_type": "stream",
          "name": "stdout",
          "text": [
            "Train Epoch: 2 [35840/84843 (42%)]\tLoss: 1.096697\n"
          ]
        },
        {
          "output_type": "stream",
          "name": "stderr",
          "text": [
            " 72%|███████▏  | 1.4319999999999946/2 [00:44<00:17, 31.59s/it]"
          ]
        },
        {
          "output_type": "stream",
          "name": "stdout",
          "text": [
            "Train Epoch: 2 [40960/84843 (48%)]\tLoss: 0.991484\n"
          ]
        },
        {
          "output_type": "stream",
          "name": "stderr",
          "text": [
            " 74%|███████▍  | 1.4853333333333265/2 [00:46<00:15, 30.72s/it]"
          ]
        },
        {
          "output_type": "stream",
          "name": "stdout",
          "text": [
            "Train Epoch: 2 [46080/84843 (54%)]\tLoss: 1.143974\n"
          ]
        },
        {
          "output_type": "stream",
          "name": "stderr",
          "text": [
            " 77%|███████▋  | 1.5386666666666584/2 [00:48<00:14, 31.51s/it]"
          ]
        },
        {
          "output_type": "stream",
          "name": "stdout",
          "text": [
            "Train Epoch: 2 [51200/84843 (60%)]\tLoss: 1.016132\n"
          ]
        },
        {
          "output_type": "stream",
          "name": "stderr",
          "text": [
            " 80%|███████▉  | 1.5919999999999903/2 [00:49<00:12, 31.51s/it]"
          ]
        },
        {
          "output_type": "stream",
          "name": "stdout",
          "text": [
            "Train Epoch: 2 [56320/84843 (66%)]\tLoss: 0.895918\n"
          ]
        },
        {
          "output_type": "stream",
          "name": "stderr",
          "text": [
            " 82%|████████▏ | 1.6453333333333222/2 [00:51<00:10, 30.82s/it]"
          ]
        },
        {
          "output_type": "stream",
          "name": "stdout",
          "text": [
            "Train Epoch: 2 [61440/84843 (72%)]\tLoss: 1.092318\n"
          ]
        },
        {
          "output_type": "stream",
          "name": "stderr",
          "text": [
            " 85%|████████▍ | 1.6986666666666541/2 [00:53<00:09, 30.57s/it]"
          ]
        },
        {
          "output_type": "stream",
          "name": "stdout",
          "text": [
            "Train Epoch: 2 [66560/84843 (78%)]\tLoss: 1.006853\n"
          ]
        },
        {
          "output_type": "stream",
          "name": "stderr",
          "text": [
            " 88%|████████▊ | 1.751999999999986/2 [00:54<00:07, 31.29s/it] "
          ]
        },
        {
          "output_type": "stream",
          "name": "stdout",
          "text": [
            "Train Epoch: 2 [71680/84843 (84%)]\tLoss: 0.820516\n"
          ]
        },
        {
          "output_type": "stream",
          "name": "stderr",
          "text": [
            " 90%|█████████ | 1.805333333333318/2 [00:56<00:06, 31.63s/it] "
          ]
        },
        {
          "output_type": "stream",
          "name": "stdout",
          "text": [
            "Train Epoch: 2 [76800/84843 (90%)]\tLoss: 0.961983\n"
          ]
        },
        {
          "output_type": "stream",
          "name": "stderr",
          "text": [
            " 93%|█████████▎| 1.8586666666666498/2 [00:58<00:04, 31.62s/it]"
          ]
        },
        {
          "output_type": "stream",
          "name": "stdout",
          "text": [
            "Train Epoch: 2 [81920/84843 (96%)]\tLoss: 0.837534\n"
          ]
        },
        {
          "output_type": "stream",
          "name": "stderr",
          "text": [
            "100%|█████████▉| 1.9999999999999793/2 [01:02<00:00, 31.13s/it]"
          ]
        },
        {
          "output_type": "stream",
          "name": "stdout",
          "text": [
            "\n",
            "Test Epoch: 2\tAccuracy: 7530/11005 (68%)\n",
            "\n"
          ]
        },
        {
          "output_type": "stream",
          "name": "stderr",
          "text": [
            "\n"
          ]
        }
      ]
    },
    {
      "cell_type": "markdown",
      "metadata": {
        "id": "nVrUCJY_bTw1"
      },
      "source": [
        "### Model inference"
      ]
    },
    {
      "cell_type": "code",
      "metadata": {
        "colab": {
          "base_uri": "https://localhost:8080/"
        },
        "id": "uspucmTjbEHh",
        "outputId": "9b16986e-58dd-4806-ea98-29ba997651a5"
      },
      "source": [
        "def predict(tensor):\n",
        "    # Use the model to predict the label of the waveform\n",
        "    tensor = tensor.to(device)\n",
        "    tensor = transform(tensor)\n",
        "    tensor = model(tensor.unsqueeze(0))\n",
        "    tensor = get_likely_index(tensor)\n",
        "    tensor = index_to_label(tensor.squeeze())\n",
        "    return tensor\n",
        "\n",
        "\n",
        "waveform, sample_rate, utterance, *_ = train_set[-1]\n",
        "ipd.Audio(waveform.numpy(), rate=sample_rate)\n",
        "\n",
        "print(f\"Expected: {utterance}. Predicted: {predict(waveform)}.\")"
      ],
      "execution_count": 149,
      "outputs": [
        {
          "output_type": "stream",
          "name": "stdout",
          "text": [
            "Expected: zero. Predicted: zero.\n"
          ]
        }
      ]
    },
    {
      "cell_type": "code",
      "metadata": {
        "colab": {
          "base_uri": "https://localhost:8080/",
          "height": 75
        },
        "id": "BY93uFZfbL6g",
        "outputId": "f4d7c4ae-5bed-40f0-c82f-caaca7f2172c"
      },
      "source": [
        "ipd.Audio(waveform.numpy(), rate=sample_rate)"
      ],
      "execution_count": 150,
      "outputs": [
        {
          "output_type": "execute_result",
          "data": {
            "text/html": [
              "\n",
              "                <audio controls=\"controls\" >\n",
              "                    <source src=\"data:audio/wav;base64,UklGRiR9AABXQVZFZm10IBAAAAABAAEAgD4AAAB9AAACABAAZGF0YQB9AAA8/1X/Ev/a/lX/GP9V/zb/wv4S/1v/JP90/23/4f5V/4b/jP/D/6X/q/+r/8P/w/8MAEMAVQClALcAxAAmAXUBLAF7AZQBlAHFAXsBvwHLAdcB/AHqAdcB8AECAuoB4wGIAWMBUAHoAIAAtwBJABIATwAAAAAAGABbAFsAjACxADgBrAHdAX0CtAJBA9oDzgOcA6MDqQMWA64C0QGZAOj/o/6o/Wr8w/ps+fb3n/YL9cbzRPKN8T3xtvBJ8bfxPvJ38870DPbL96/5UPuW/cP/ywFOBEsG9wc9ClELXwyXDcINvQ7PDnoOqw7gDWANgwxdC+EJfggPB40FiwTGAr8BGQFPABj/VP7N/RX9xvwO/CD8ZPxR/A/9kP2i/XL+wv7t/hj/Bf8w/7f/6P/o/yQAkv+l/0n/YP4E/q79v/wy/A789Ppn+tr5Kfnf+Jz4ffiV+JX4EPmv+VX6H/sO/Dr97P2Y/3oAUAHMAmsDzwSxBXwGIQe0B/EHKAhmCDsItAf2BqAGjQXbBPgDOgNMAnsB7gDi///+Fv53/aH8P/y++437svtK+1b7Vvti+xr8IPx8/Eb9nP2F/mH/t/8eAAEBBwHqAZUClQKEA9oDNgSLBPoE7QTDBLwEiwSwBPgDuwOKA8YCpwInAl0BnwA9AKv/Vf/C/s39tP0D/aH8ZPzd++P7AfyN+2L7jfsM+xP7Bvu3+uj67vqq+oz6mPrb+u76K/tW++/7xvwu/f79VP7a/k//hv/u/9YAdQGyAXACUgJwAroC0gK6AhwDugLLAQgC9QD1APABPgHjAToDHAMoA7UDFwRCBGIF7wU+BqIHBAidCOYIyAhgCNMHWAcNBpkFAAU8BGUDiQICAlsAhv9s/sz8s/zE+3n6Yfpb+mH6kvpb+ir6Bfqd+Qr5+PgQ+Yv5UPvj+1/9jP9VAPABpwIJA84DzgMRBOEE4gVkB6kIfghTCOQGZQMS//P5nfQL8PDtYexs607rf+u16uPoZ+fN5YnlouVC51Tr+fAm97P8oAHvBdoIygonDPgMaQ95EoMVxBidG4Edkx3sG2MZEBa8Er4P4A3ZDP4MyA3HDIILngn2BpwDnwAv/gn9KP1A/RL/NwAHAeIAnv8E/l38aPtt+gD7CPwv/qUAYwEzAi0CygDz/iH9gfsq+gv6bPnC+e764Pnx+D73R/Rd8jzwRe727XDuze+l8WTzKvVJ9sT2PveP+Av6CPyj/rkBhwWpCBoLOgx3DNILMgvdClYKAQvSC4kMHA20DLMLLAvgCHUGQwWQAxwDiQJeAvwBkwBJ/478vfoQ+Wn3y/f89/j4kvos/Cj9Fv75/mf/GAD1AOsCeQRpBp0IZwnDCTEKHQlsCDsInAc2CcMJxAq0DM0MogwyC9UJBAhpBocF4QRjBr8GfAa4BY4Bgfux8eDm590/1mXSXNDJzwHR8NEU0RzOQ8vGyO7GiMcMy5zSx9y25pfw/vjP/8kE6we+CuIOcBX5G6cj7yvlMtM3GDlGNzE1szFSLWAq3SemJ1IoAih0Jj8jcB5oGK4RMgstBz0FqQMFBLEFPgYyBjwEOAGL/pP7Ivkh+Pz3R/mH+9L8Ff39/On7BPnp9gv1qPOJ89LzbPTa9Ar0B/KW7zDszOkw5yflfeWP5ajl/uX25FHkQ+NI4p/jJ+WC6cfvpPUg/MACTQiiDAMRaRR/F6kb8R+zI28nCyq8KuApRSgEJaQhRR7kGXMXmhTHEdYOgQr7BegAe/u99Y3xtO6Y7NTrbOtm607rnOq56Q7puOg56ebq3Oy172TzVPWZ9gL4WPg1+ar6Rfw8/90BRwMbAuP7ZfS97Ork9+DQ3vPdtOAf48rjN+Pl4GLe0tux2RnaDN7F5A3t5/Xn/mQHJA7NEScVQxh4G4sgGCYVLeI0pzsTPwJA1j6zOxs3yjABLCMq0ihFKFYnOiSpIIkaThJuCqkDWv42+uT3ifhP+oT5J/gq9e3wn+y353Dk9OLj49Plpuj+6vTsWO6U7efr1OvD7NHtz/Bs9Bf6PP9SAvcC0gLiAMf9SvtR98r23PbF98P60Pso/XH9c/oJ+Df27PTD9br4Lv39AiQJbA1eEIQRdxFLECsPmg/9EMoTkBYmGZsauho5Gq8WohEFDhkKRAY9BRADAQHKAGD+2/rv9l7zQO8p61Pq9+m/6STsoe6t7q/vjfHg743tuu5m8APvBvG19AX1qPjd+2j7+/uo/e/73PZm8B3rEeeX4fDfbt4F3bnfuuAe3q7bP9tP2bPW5Nam2uXgPOcn7vT1L/5uBYYJbA2wEvoXBh0UI4sqBDNEOmM/KULFRE1GvkPMQP89SD13PD46pTmjODk2FTK8Ko4j7x0LF5UQogxQCs4IIQepAzEAZPzE9n/wsOvj6FXnBOaX5iDptepG6jnpt+ch5cTj/eBj30fhdOPf5Vbo/upb7Fvsx+oa6fXosui56TXrle4/81T1mPWT9qv2F/XH9MDzHfVA+Jv8T/85Ah0J1QlCCToMWg0UCzYOBBJQDycVjxrAFZAW0xrLFL4PkBFnCSwGogz6BFMDpQr1AKP+JQXW9mPyFPz09c/whPn4+MvyQfm//D32wPPo+vb3EvFG+Jv84/YT+4QD+P1q/FsAgfZf7wvwl+YL4tPlW+JA4NviAuDd2vDa/9io0mzTTNei16PcQOUO6Xbu7vX79r77IQKvA8QKwRFyFusfuCddLKIyojffN8k5HDxWOvc7Hj66O3c8aD6eOdA1jzL1K7wl5R/UG/oXyxSBFO0S9A4kDoILaQZZA0P/Mvyp+eX48fgs97L25/XF8onu+eu56dPlueQJ5bnkd+WG52Lo5eVg5jXmk+N25APlnOUT6FHpxe0J7xPtEvFt8KnvjvKN8UryivTo+tX6TPi6At78/vhsDYP9bPSkEsEDSPqVFTwO//4OEIoWHv9lA9MatwCw/nEaywFKAVUYSgEqAHQKrfy0AucE8Pz4/bz+gwdL/AfyZQNQ+8H0Vf+w9RX4VwEg9wv6RfxS+DX+7gCI/CP+vQm3/8LwsPV26WfdOuXs3Afav+T/4crjj+XM4AffKNxC2E7Ytdx749HoPfGy+3T/KQSmBmIF/whXC08O8hZHIDopPjF9N4o8azwZOsw25DFnNBM1CTJiNRs3wDLYMWks7iF8HtIVeg75DdkMPg+rDtYKMgsnB44BgftH9I/z1/IT8iHzQvUK+VL4lPK88Cvt5Omr58Dg3ePV5yXoBezJ7MPsYexo6DTlQOXF5P/hg+U27MburvN/9QL4WPht9dD7DPaq9av/MftQAUEDAgL0DqsA9QD+DG/3SgpPDtHy0wz6CcoAJhnjAR76vRO6B5oBWwDs/W8UfgP09bYXVgVP8SsPcAIC6cACKwU48l/9UwP4/e/7UfzEBcj+jegFBPYGueSpCNsEPezuCaH8U/RwAgH83vep9Kj9bwbR9x4F1QRs/uMPefrd7Z30OuW449HtUOM94zT0mOwK5tfyqus438Lrkufw3wr0q/Fb8ZgEBgABAV8MawMMBR4OMweTD5QZaBhnIbUpcCh5KhMsaigiKUgqLyoYKywspC/cMIQpxynVKlce5xxUHN4QNRKfE1APpg+ZCuEJIghs/nP6SfYB8qXx+/Fs9FLzbvGF8HrsKOpx6lbjrd8A4y/mP+nT5fnmWepb5+DhfORl6oXitOAa6STnMOzx85bq/urb6wDjie709Z76aAAh/V0BDvx6AFUOKQRXBmgdvx5EBgIacSQq8XgWvSsO5OwWMDRB3DgPCzlI4nD87jkw+u/2OinRAR7/lRoFBFUJqQjm+ZESCAdz3eP2RRDA21H3vAQD0tH31gr410zgz/+/34DZXwPs6qDaww567DziXgei78LwQf4B94P9TgkrBcP/3hWfBeT3PgFM81LuXfKz8tftJPrV+rX0v/yz9xTutfS/6UzqwPgt8zz1GwL/A7H/3gaWA/n+Age4BW8G4hORF7YcyiKJKEcpAym+JwgjICj0IQQlaDBrKfYnuDB1IpkdMyNEFOgOhBG9DgAKwhI6FoMHeQmdCCD8Zf3C+b/yG/gg/HT29faU9x31GPYl7VboG+ou6nXoCOkP73PnGulf9CXjyuOl7Lbd5N9c6CXj6+VD7D/p8+YD7zTvEedk6cjrwPga7qT6ngRG+E4EJP/1Cnj+ofwvDR4FnBHhCaAB8htZG24A+xiVI4j3ahqyHTkCTxjPCXwQGQqhC5EXBwHU+ZIE5BA3++L6PP+H6CEVLPe04AsOeOau/RsCrts7+eoB8+Z16MoASOvR39QWy/II0SsFrAFR38v3zQwY3sP64w9C5xMGwgh56zQMPgZ7+0oPHgAi+e8KfO5F7rYEQ+N78t0Koe5X92cJTPO49l38AfJ58D37ufdu+3MJmgF0BSwLSwZNDQUOigh8EDoWSRhwHjMohyJJJlsr9yNlJA0sNSWXG80pMyieHD4n7yu/FFoSpByaDz4GqxMVEVX6uQaKEe7/+/u8+W7xb/ID/Q7ubuMk/zzwYOY3AAnqYuOR8CflYexL6Yjpg+7l4FTwkfAZ453rBuOZ2XPncO6P5R/jz+JG6sHquOgg6Rno/+ul8aD3f/5b9X70NQjYAlT+xACKCDwJZRF4CDAEiDHZB/jqtU/4H8vMXEMTP5HFoSgCZm28pfH/f9fVPdDPXz7yaMZROwwT2s67/aEVA/3fzYwJrxbZv4YA9xU01zbs6vftBMDITOqTIl7DVuhyCCzaG/OS+nHleeJ4/h4AZOC1+YgGCQOk+kf+Bf+ABW8PyvsfChAWxQv9ELof/hb6BEUQERes7aECphSJ+I4B0AVNDV4CgPrUAwcBD+/a/v0CCOnVBKkIOfN7D+oLAvihC8sGfgMnDNAKCw7LFK0ZXySmGWIPzR9UF3MSaBhYGiYZyBJuHSwe9Qr6Dr8UMQBBA+AIlfjaA74F8/nqC0f+5e4CAgf33PYR8LXvKf6b86HzMfYl9nP1MvK67k3v+fDC62rueueU7Q/44OFU8MLd/+Eq8arKB+0u7w/XP/O/7XHgpPXe91zobuxoBSD8r/mkEjD12/paKgUE7vr8GdQWNQj+EXQrpAlnFz0K9RjXOorX5R8QRgzQ1xnnODLfBf8ANYbx9+4aFV74HgCh/NHoxQYV5VXsHiHOzu7nRxZu3mzm0QHz8H/Y0/2b/LrbTe8L/0jwluXa/k714+229Yv5iv1G+Db6+vU7DWQCBfVDCp8F4RLh/nIDCyrm+VoSAzyO9zkQRjw3CsYC8jdiIlboKxiYF/Prsg9yCMf4lQJoADb/GfvD/5HwSvKG8fLvtvUb8+gAzPO59/UF6fbD+t78+vrFBjf7Hf6uEaQJ4A1sEpYD0RTHEdD7gRQdF5H5xxF5Egz7Qx2GDur3RQIIByYLiu8tAjAJ2ep6BYwJFfhb9SP+FPx77RX4PQVe8wPvagKG+k71LPyy9mjxbvti8ZL1KgCH6E35DgIx9sHhUferBWvXJPFt/1PmX/Qq+jT9LfhM+KH8OPc1CBkBe/v0CZUHWwDpFF0ehAPxFRoQkwCNOvwBH+0QLvIMuBSiEQ0PNgkS/w4oRw2m8mLxiiTyG1rAUh/dIu+4jh55EhXEYgU8BN7fSfET8rT46/hV3ovrWAxezSjchiHDyhXSwhdD7BbJLAZW+8/PMfYSEzPb3eNjHojypOePFS4DR+YSHf8INucDLhUagOyOGXkv/wjE+8YygSe5BiIbbzGFF9obASzlGv8bJgagFB8dQ/YF/yEfZf3d7YUNEAP94Pr1ngQV16XjGP9m5gThb/IU7gHkQfmu8+nViOlW9pHrjPWK/YLyBvYeAGT40vya9yIDuQtB9HsK1xQE+RAIJyjlAgf3SSZuCvnwBCArIlr5XxH+KbQHQgkRF+kPPgH8BmEmnP358M85TBFN3MIlExQn4N8CEw+38Xj0ygoc9CD8y/LY6QgCU+pQ2jH2CAcU1izkmgbX7XvosvZI+sbul/Cq+gEBXfwm8owJzg0M3hAglBl6wRIdti/i2WH/6xr4DCr1hxR4FibRPSY+GRPVLxdeFWXlFwnjFMfckwBTFlnhpeOvGwH3UNXyAw3ymeOB+7v0sM9C+sQPNLbN+O4hQMQA9lMWG+DK6F8RaAp+3HMJqBrh4jQRExSW7/IkdAWo+L00Jgvu+tgoeBu5BgA6gR3G83MhITdoE9/9UDqNHYfjVkM/KF3f2S1vLG7xYxmAJubqxPZaF4jkFtxgDYzirdYIAnXt078C6XDzYbcj3ezv08Q92ez09NTW1IAAJN53xPD8UO0F3Z4EE/u47UcNLBQy90H+lBnpD9oD+SUpIBgFsTRqLeoGKDNNG+Ecoy64CoIxzxxEFGRAzBrLAbErCC0B9+oG2DEO83kEJzJ58CLvVh0QDfjSk/t+FtDGzuvJIQHRpd5VE7LaVtDvCqriEcWu/Tjf5tf5CMXkOtdZ9OLsB+TK8YrhltwoG5noVMpmKsr7SLwZIggaGb36/74dtAfU60TyADr96dDeiUo85yPYFEDnDZfhkwrnPU3mfPedRpHdigOHMF33DQG9DswVV/L7Ba4aaPG7A8r7gOyBItvrPeOsLDvmK+3ECoMMVPBZ4cwobwGezwsc4BbHxPgfUSxY0kcI7Spa5p8AIi41+QTwWCj8FPPdvxR6MN7p2fijJQ/4Re5VJg4QQ+OXDf8gp/dW9vsYdwwD6uX92hbJ3ZrfWw7A23PPIAb/5lDQF/V74+DTB/Jv7RvNvezK9obZLvTDBOXgquurAGzrKP2aD5b0dQEUI9MHXAXVIXsZogxyIFQvVhT7GJY35B5DHf4pCCM/KKsYZiA/IzMasBwWKSQYDPuPH2Ygn/tYB9ATVfF3+GoaF/W959oNUuAV5XcMT9QU6YP44Nwp68/nnvXY24XT6Pr63c3cffN/3QXnFOkV5Tb6PdmW6lf8rNr98yz3le778Wz57/vm+VQEFvSCBnkXTuumD0Icpuh/HN8f3PGBFJwpqwDKBbEr0QEE/ps7ZwR49GE5XAWjA38vYvbW/5cqHQSY4v0VmA7j42IY/e6S4kwaFtwl9rEFeNOLBK33xe2iB3bupOfOEtT0DtGpFlYFVN2fCmkBXO0KDTYJtubO/hMUPu31+w8p9P9L5JEgBhjp45UQAwwg5FMubAi92Wo7ugJW1Y8tFBAQ65UQWRZ5CSL5U/lP+tHtNfAI6VPqNvUs3ybpRQLD1LnRl/k54GzTnfRd8nrniPJH+b/35PIh+PUFRQLQADwXARkqDnQY5iBNG4QWCxx+G6UmtyteH0km6SJ2I78j+BZ7FDwhlh/BDJ0gaBM5AlwiXQaS7AMWnwUI7vkNSvsI8wAF4+039vT/r+YX9cH9TOUo70z9DOxl6nfzM/NL7njmjvL4/Q7zE99w8xYIRuVx4D4G9fa23UMAmvfq1rv9FAKA2W31OQs56QftgguM+hrpmhTxB0fvFREFDroHp/xEFLUg8PLjCo0dnfmGGHQYb+1gEswawPPDDt0UbOtpGdcUQNdZEZsQMuRtCSMENvXc5/wGBBIKxYv5hRzD2ej66Ans78bzw/rZB4n48PcQ/gX1OwiLBEb4QBEeAOXzlQc1DSEC9vccDakNBwG/HiUKKeuaGcAHJ/OuH34NW/EIGqAZGfKyD0gXPvLbCYEPWOUi9HoFaOPs4f/0L9102Zjsbtl12vPmW9kH1QjgreSE4bzrOuoA6OT3MPrM8zcAjAm/BpMPRBlkGlEesCWRJbkjMygCMn4unyuSNB04syysJ8QwayndHUseiBn3GmEcAhBXEKAPMweEAygDNwCf+zL33fsA9pHw1Pm88O3wg+6E6jH2oOjn5u76Q+xf4bv0xu7D4tbxK+1R5Mn1jvLv4z7ywPMs6bHsifM676DtRfya8g/qa/jJ9arwjfb++JX8Rfey9jX+c/UnAjwEvfqOBm0O1A0YBUIJUQvNDKMWWAdsDQEZ7AhqEBsMFQdFEAAFWQPCCEYHBQQw9VgHHgUv6+j/bgA/7jH73P/67MrxQvq47XXt8PIT8mH6v/dHA3j+7esiCHwLR/mcBy0ayA0LBMQYwhcHAekP2hauEW0hRBk7DSMcthJx/QgafhuHBZoZFCNJDmMGVwZB5g/S+O+L6+nLgeOh5KTFFMi0vyewTLoZwvbCpcbd0PnYwtPq1m7Z39ta8JL69QCKEVAdsxkVGnUnSCrgLpo6o0GYR95OqErARTNF0EP9QPY6ZDt/QpE9CC30JvweehhrES0HCwktAsQAawON8fDpmOcF54rhDNkG3vnhteH02azau9wg1gLbb99k4BrpE+0a6SzpX+848j7t8e6Y+lUAGQFG/cj+w/8l9nP6v/xG+O7/eAOuAiQA2vlY+NrvHfVNA+X9iQLKBbEFPQUTAUMFGAVLCyUU0Q/pFGsWlAu0DKkIQgkNFAcPzg0nFUAMCQOPAo0FEv/FARoL4wF//moC5/Ve7r31yPDQ8TX5HfCr7D329Owr40To1uwT6HTsmPp89wH3Xvh49AEBmP9jAWUWbA2eDiIbGA6SCYsXQx0TIuEqFTLIMx8d8BT5DZfm9OeO90nsce/F3+/LM8j7uEW5ybfMsF/JnM2cvznIhMlsyW3UHtnK6JH+vATCCBkU3hkQFjwhSTDQNRJIZFMZTZ1LUkphTK5K2ktgVR5R81CWSpE4IjMaKAgaIBkxGPAU2QzoAHH4k+jX31nhsN2e3QfkkOH50xnQdtZr0j/R7Nxt4lXezeWq8N/l2uZ08WLxTP1rB6AG6wzQCscDYgDHAyoOkAz9CyoOmQW0/Xf9nfmL8JjsXu709an+yPny7zrvGumq4oDskPTQ+ygDsP6t91P0O/mO/CH92As4D3gNRBmtFWwImwuPFZ0SRRWZIi0fzRabFZgJRQLzCCEMngkNBkgEC/8L9SXtbOu/6ZrtIfNA6sjmpOdg3fzav9+Y4oDnY+0+7cPn2eqH7d7pC/Xo/xgFbw8FDtQISgoQFkEgKhzXIlIkXRSTDyH9kuf+5aLlS+447dbUdcxXzOzEyMBKvS7EqdMw2ZrVJdWZ2enoz/WM9U0DXBhKIvAjeSVYMnc8qUGiT8BYd11wYSpf9Fp4WSxhn2SsW2Fa71b+RYk7FDZFKAceIR8+FIoDG/0d8DngF9jhz9nNBM4AxqDC0r6PtVS367qEu6/EI8pcyzPNSM+H1TfZ3uTn8KnvG/25Bmf/hwWMCaQJLhGtFSQYWBpzF5wRjxC2DTUNBhO+Ch7/7vqY9cv37v8Q/tH3FfM072nyCvSd9Pf8Hv+h847ygfuGAFgCQwXmCAwFQQhaDZgJ3A7YFX8SbxS/GUMYpxX0E08Tfg20DP4RQAzkBlMDgvzA+LX0gvLA7iDpXOgj4iHggt9V2WjZadWH1UjdpOJC5xHnT+fI5tDjoe4F+s4DQBFnDsgILgxsEkMdUSxsMwUvUij3Gq4R0gsi+U/sNebY5K3uwutE2gbLuL3YuWS6S75Zzg3VjtGczUHJc88f4zv0UgJ8ENATExnXIi0tjzttR6BSnV4YZHNoMmpZZzJq/Wukbf9xtWxFYR5W4UfOOAwwtS7vJzEYqQjl+E7rjt8P1ybRz8o7xW+5e6+wrS6sRbCXspWwira9t8C6WsAavvvGWNLy11Ti/upa8H70Dfe2/jwECAtDEyAQmxAwEz0TyhN8FQobHhiqEgwTWg0SCgUOHA3QCp4J6QqPB6MDoQIh86boeevg73X7xABY+DXwM+mq63XyoPfVBNsJYAiYCaoEggaiEc0W0B18HgYY2hZSFYATpBIUFWIY8xdTETkLFQdt/wH85Pwj/kb9MvdU8NznteEs5L/k/+Ej4mHi4t6D25Dck96o6pn7oAESAMT2d/NXAVkRtRtSHyIbXxZhE6YZRSiKLvswLineFUAMXQGc7xfiDtsa6VLzLuGmzMu05KZDs522PLeVyJ3OA8l1vayvz7xg3a38Ew/eC14HIQyFF6gtRUD0TBZeTmiZaWBo9mX+Z9Fv2XWDdd9wJ2aoXbZQ5DuDMl0sTiUPHyALXvNm5v3bMNSMz6vLMscfvTSxP6byoymtN7NBtni2+q4asMe6o8DxyATTE9qY4hjnrupt8En2qf6tBp0NfxK4FBwWkhOxE7EYmh57JwYrVyMXHLMZnRv6IVkk7CSpILwXSROhEOIOLhHXD3wLVgp0/x313PHf8wb7xvOi6qPrketp8n/1Lu+e8FHyTvWZ9gHyqPhg/kn/WgTU/p/7DABbACgDBgC3+hIA/QLo/7T9mfZw8wz2Yvaq9TLyBvFI8HjvPfFf9Dz1Eva8+VP5K/toABgFEAiTBY0K1RcDHxojIB7eFc8cmicuKagkoSN2KCIuoy5SJN4V5hbKHfMX0Q9PAB7ngdD+usO3Gsye3QbZmbg5kzqGoo9UpJ637cBCxeLBX7bos+PChOEVB94ZjRgPEe0S7SUUO35LiFfPX+xn8Wt3Yr9X1VVFXDJlXGXVWsFKbD1pMVkkbBtiGMEWnBHqBvbyjd6V1r3U8tcF3VvZws4tw965DLg0vzzK3NQJ14LR+8vPynnPXdqv5gXs1vEy90z4W/rH/U4Egwz8FOUauRnYFY4UyxRqGj8j1ydvJ8Ekgh5lFjMVqxhDHa8glh8FF3EMUwgzB0gJzAsZCl0GmP/P+qn0yug14cvkSfHk903vX9yPzQvPzNv85BnoBOtZ6o3j5dty0/rUNueA+hgAbfAp3c7YhOH78QP9avxB+bv0HvHV8C703P+1CLIKoQtQCsULVROeF0MYQhyNIhgrvS+aLKUmhSWzLPU1mzu+OhQ2jDTENQw1+TMhMjYvfCiEIOAbgBi+GAEU3wdM/eT36fbD9cnsj+CW0j++hKwjpBWnlK9Osg+nppdmkGKSkpb8nEeocLWBwgrFlMKhyDDZX+9eAjoM5xJjHj0rCzRlN688HEZOUF1cWWLeXPBXNlXOUBpTvlaKVPxN4UIJN20v2ypyJZYf1RfRDxcJaQHC+Unx0eiT4zvh7d0J3Pza9dVL0X3NystBzovT6ta41dzUm9bx26Tit+dP7Hjv2vTE+5H+gwJsCKUODBMzFQAY/xvVIa0j8yCTHYUcnSDXItgemhk4FH0R8RBiD/QOIw1MBxj/pfZR8tr06fah8xLsueSq4irif91P1FbLLciGz73ZcNvB1+rRT8v3yGDOHtmJ5SXtEuxM5VHffuHb6+b50gIDA+H+qvrb+tICjA76F40dRyCRIGYgrSNAKSYxjDmmP1A/Cj2XPeI+nEHNQQtCukDnPew8vDioMpIvmiy4J30kcxxUEg8MqQhrBycCp/xe+Lzwtuag3/fbQdwY3uvbM9Z5z0nLlslQx4XA87LkoX6V/pT6nz6qHa2gqn+kRKFdoYKhfqjqucPPEuM27A3tMu0u9LwEEhhzKt47yki5ToVQV04qUdNdcmy2dsl3+267YqJd41vbWhJb1FS0SnlCkTj2LIEiWhdYDOADOfxH9Hnr1eIn22vSN8uqxe3ALr+pwAHCS8Prw3PFPsxM0kbXftzx4D/pefXn/rEFUQueDkkTYhjVHKQhICigLD0ryCUwIZ0gBiLeI+sfZxcOEJIJ+AMSAOD5AvPy75TtDukg5CDfktmC1ofV2Nbs1wnX+tQW08jTX9fV2I/W3NTu1FLbsuOT6Nnqw+x27l/vjfG688j5ZAKKCI0KrAqhCzwOtRHcExcXmxpYH6cj/SPTJKcoICzsLtAwdDA9MGgwES8XL0sxojJBM9wwHisFJu8i5B7yG3QYwBWZEzwOwgjP/1r5D/gd9X/wPu3K6Cbk+eGG3gncNNwR3S3bltfC05nQrdGx1KLXJ9vb3dbeK9683QjgfN9P2QjRkMRsu/66m753xKXL0tH11bXX/tI8z8jT/tw27Nf7PAl5F9QgKyelK6MuBjUyP2NJ51CeVVdXBFklWx1a/FecVK5Pc0xsRidAHzrxMi0t3CZjHpkTrwhG/VjzpeyL5o3j1eLf4LnfFtwp2CXVhdN01CnYjt/C5hntR+9z8KHzJ/hl/SYBTgSjCMQPRRUdFwsXcxfKGHUZHhitFQwTcw7jCpQGugJPANf7hfV87nPnquIn4ODcsdm41fjSbNMm1rvX2dcm1pLUFdfl26nhfuYV6rHsVPCm8lLzv/I588P1MPq9APwGZQyiDDkLwghXBogG8AbDCTYOdxGLEu0SzRFTEbwSQRIEEikSzBDTEYcUHRedGzIeRh+aHpUa0BgyGbsbpx4eISYjbyIxImYg3R0KG4oW1RKyD8gNgwxLCxwIeQQ+ART8yvYR8EbqQufF5PXj6eMA4//hwOBE3zzd4Nza3M/d9t+z3yLh++NH5t7pLe6+8Vv1xPZQ9iX2DPbu9e71JvKh6Q/gANWozfvL/85G1/HgU+a25nDkg+BY4ADjH+gp8I73jAB0CnUUmBz3IyQrcy9LMQkyBTQ1OF0/9EdGT6VRf1BKTSZJfUVkQEo6sjVYMm0vByznJXYepBcVEWUMywbT/Zn2KfDN6lDomOfn5s7mBOZI4k/eldva3DLfKuJA5e3muekM7NLu3PEd9V33Mvf79q/0uvON9tP4MPoq+un2G/OG8Vnvmu367ArrcOkg6T7oeud45uTkJuR7467lb+ib6RjsOe4j8Cj0cfgf+/38KP3E+9f7ov2M/2QCoQIfAUkAmP8sAY8CpAS0B7gKLgw6DP0L4QmHCrwNohF+FtAYRBkEG3IbEh2jICsiZCMuJKYiOyCEIFshgyRLKFkp5Sg1JRwgWRtEGZMYkxicFuwRtAzwBtgCWwBt/5z9wPgT8nTsUOjY5IXi3+CU3ybf4d1S273ZKdjh2NfaitwY3hrfB9+g37Xh6OJ35VrmWubD5w3ob+gp6wHt5e5O8D3xM/PB9AL4r/kL+rr4H/YN8jXrjePH3KTYRtdK2jngXenR8jD6C//c/2MBVAR+CLwNhxRIHBclKS+LOB1CWEoeUclVRFcNV5hVtFNDUWVPm04OTppNTEqIRNk8xjL6JmEcHhN/CfsAbvZs6wviVdm209fQv8zByUzIqsUIwxjBQcAjwA7D88VayhTR5tdL3wnlv+nQ7FTwwfRS+AD7TP1V/yYBlgN6BQ8HeQnoCRsHfgND/0r7tPho9tLzGfKe8JfwMfHa7ynwze+c7/Xxd/OQ9Br3hPks/HsBZAezC40POxJuE2QVTRbsFi8XeBYoFjoWsBcZGTkaWRsoG+wbBRy7Gz4ZARR8EC4MmQqSCfwG1QQUAgAAq/9oAD0AJgGS/9L8h/vI+ev4IvmA+vv7f/7P/xIA6P+2/gT+Zf0J/SH9Zf0y/G77SPoC+EX3DfdW9jj3IPe29U30tvBw7iXteuxV7Ejrouo06lnqEOvD7OvuI/AA8Rfw8e5r7wPvF/Dh8LbwQ/Gf8bTzKvWO9xH6Cf0eAD8C5AaTCioOxxFLFeIYBBtNG+gYqxPMC1QE/v1B+WP3Ifj++B/7Cv5t/wgCKAM0AxEEygVyCEUL+g6FEhcXZxz0Ib4nGy2CMU80LDZiNVgyPy1pJ+QjhCDQHTkalRVxEf0L0QYmAR76oPJa66Tigdoq1NjMtMj7xhnHIsn7y+bO9M+/0WvS7dOK16HbKOHU5ufrLPIE+Yv+vAQkCd4LBw+KESoTIRWWFigWPBfNFl8WWRaaFLgUQxNFEDYOlAtvBnIDWwAB/J35jfad9K7zzPNO9Sb33/iG+gH8GvyI/Oz97f6TAAgCTQOqBHUGywbpBVoEAgKmAYAA+v8SAAAASgEoA1QEJQWfBZADoQJoAEb9If0D/dL8ff1H/i/+mP8+AQsErgc2CQAKNwp/CU0ILwgtB6IHsAlcCtYKwwlZCMYHAgdXBgEGFwTQAOH+0Psq+ir6wPgQ+fb3u/RK8kjwP+6H7ZrtE+3D7JfrcutP7Ajuou/58DPznfRR97X5h/sb/ZH+aABFAqkD4QQVByIIAArFC3ALZQw6DCAL8AsWDQ0PlhFoE28UxhUQFiIWvxQJEZQLEAMK+TPuiOQF3eHYQtiS2djbY99I4vHloenh68Hv5PKH9jX5s/zjAZ0ImxDVF6IfnSW8KpAuMC+dLoIsZChgJZ4hkx1qGk0W5xKgDzIL0QYtAt37MPXS7kToQuI93szbmtrp2hbcWOAD5UvpWO658iz3Mftt/18DDwdzCSkNCRHuE8oYSBzeHk8hHiGWHwcexRnlFbsR8AvZB9gCa/3O+fT1E/Ll7lrrSecy5Hjh+97z3dTc8txz3eLeu+FA5ePow+wT8n/1Nvp0/0UCuAUvCM8JgwwYDugOpxAiEXYQcBAfD0ENEA3eC8oKewqECFIHhwVSAiQAov1i+zX52PdJ9tv1OPdd95X4tfmM+jf7dfvp+1L9cv4F/8n/sf/P/4gB7AOxBSgI7AiXCOsHfAZJBf8D5QJwAoEBTwBEAXsBWAJnBNsEqwWUBpkF+gTPBMYCsgGgAeIAmQBjATMCQQOSBLAEAAUwBAICMgE8/6j9L/4W/vL9BP46/bP8g/0u/eT80vxX/Hz8k/sr+3D8BP6IAaAGYgoQDdYOtAyaBoP9+fDL5HrZvc9nyoPI+Mm3z17WI90y5Hbpy+238Rz0DffQ+5MAIgiCEG4YbyJ0K00z6TpEP31AoUB/PZE4FjP2LKAn9SL4HxccVxnMFacQ0guSBIr9w/X67NPlY99Q2v7XWthp2tDeV+Qm6TPubvH386v2UfdG+Nr5yfoj/uMBGga+CtoNlRCtEBoQnQ1VCVwF9QDS/K74u/TE8ezvmu237FXszuud62TpMehn51jlieUF5wDocuv47+b06Pp0ACYGagtvD5cSxRQoFq8WlhZ+FoMVDhXWEx0SKBHJDt4Lowh4Awn9+/Yq8ePt4uwN7anvOfPn9TP4cvmV+BD53/jx+ET7Hf6VAmQHQAxwEEUVdBgWG74dBx6tHsQd1BvvGCEVNRKtEHAQORBqEHMOnwr1BTEA4vo39hvz8/Bz8F/vLu9f76HutvCs8qn04/al9rv0/PLm77LtuO0O7mDwAvPO9Fb2GvdQ9i70RPL+71Luv+177Tnuuu7T7ybyCvT69QL4HPlt+uP7Jftq/Kn+twBLBqIMdBOEG4whECXUJU0gkBYLCc34QOq33i/Y/tep3IfjDOxw8+T3mftk/HD8Zf3O/kUCqQhGESEa5iRfLl02SD3SQPhBCUFxPF02ti8gKKshQhwkGMUUhRKeDrcJigNh+lTw6+UU28fScc08yofL+c5P1JTa/eDz5pjsvvF/9br4pPrM/Lf/2AIbB1IMRhHsFsAa4Bv9GngWiBC3CeoB7/sU96byVPB87jbsqOq46LrlEeJu3rTbMNls2NzZltzU4Wjo9+499rP88AEPB1AKiw1MEeITnBZjGdQbBx7THwshziCDH/ocVRhuEwAP6AnDBNAATP2D+K/0vvH97lbtjOz87c3vDPFw88/1a/hE++H+AwMhBxUMuA8ZFM0WWhdPGOYWbxSLEq0Q8w1UDekKHAhdBj8Cqf4l+w33s/J47/nrzOlX6WrpEOth7CjvP/NO9fz3pPri+hr8Kf56/+4AMwKKA40FrQZYB6IH9gaxBYUERQKA//f8//nY96v2nvUL9ar1dPYJ+Bb5tfno+rL7xvyi/Tz/vwG8BJgJrw2REu0X6xpuHdIeyx6ZHb0c5RqZGD4U5AtPAKLvHd2gzBW/W7e2twG+fslI2APluu4581/0ZPNK8vT1ov31CsYasStiOppEwUpNSzxH8D/NN/gunyYnH/oXWhIjDfcHTAKH+8zzZeqo4C3Wrs38x03EgMY3y0zSWdwE5sfvOvhH/vcCywYGCk0NlhHrFWoajx8+Ii4kiiTcId4e6Bg0EeAIgP+l9nHvV+nF5Mrj7uLu4ofj/+F94CTe8dtS2zTc0d9h59Xwz/q4BXoOBxTKGLQahBueHIwcgh4iIGEhmyODJD8jUyARHOUVbQ5pBhD+0Paq8GfsG+ri57Hn9OfR6Fnqo+vQ7HXtRe7r7lXxxvMN93P60vweAFMDDwdWCowOzBDyEfMSzBDCDQwK9QUFBM4DQQMdBP8DGwJh/7362vTn8MvtsOuS7Gnt8u8c9Jr3cPxSAqYGgQoKDQsOCw5gDRANeA2YDocPOhFlESAQ/w2+CpMFdQHl/f/5zfgB95P2XPY89RH1C/XO9FT12/Vi9kv34/bW9tH3Zvnv+yoA4QRtCWwNMQ++D2cO0guTCugJVgqlCvsKXAqDB4UENwDf/SH9X/1h/yQAMvxi8eTfKco7tt+nMKQdrai/TthJ8eADaQ/4EaELxAUWA9AFTBGhI9M3rkpEV7ZamVYFTGw9Ry6tHnwQ4gWI/If2afJ473vt5+td6Sbkwt111WDOWsqry2fUpOIW9I4GJxVXHsQipCGcHzcdPR0wIQUmsCo7Ltoueit/JRcc0xFxBwP9J/MD6lviidsu1z7V6NTx1pHY1tkO25TaPtpN3A/g5eXr7vb3CAJWCkoPNRJMEckOFQw9CsgI1AjsCLQHywZhBDIBrv1H+fL09fHF7Zfr2+t36hjs3u6G8YX1wPh5+gn9+v8bAogGPwsJEfMXXB0wIcQihyLZHyUdAhrUFrgUnBELDjAJnAM0/ZP2SfEz7kvu9+4x8WTzxvOK9LX0MfZg+Tr9uQEnBw4LPA6CEGsRixKSEzcTIxIuEfMNCAuCBtcBSf/k/Kb71Pkm98Dz/e4Q69znQuey6EHr0+9k89b2i/nV+t37L/6l/3sB9wK1A5kFdAVpBusHIghTCNoIogdvBrgF2gNwAqYB7v/f/bn8EPl29xr33PaL+Sb8Wv4qANb/x/3K+6P5x/i+++7/sAShC5oP4hNNFusVjxWEEagHAfeJ4DnIHLY7rbux98NN3MH0sQVOCdcB2fMt5SbfwOWI91oSAy4aRIVQSFCGR9w5KSrjHUUVaQ+XDX4NOA9MEfIRZBAUC2oC1fVv6JzcJtZ/2CLhwvCUATwO8BQlFLoMCAJI+p/2Afy0B2MUWB99JOojkhyuEZ8FkvoV81LujOx/6+zqzuts6xDrgukw53fl7uIE4TXh7+M/6abyOv3cBZQLbA0fCqsFLQJD/58AkgTVCRkPkBHAEIsN7AhWBV8DCQOeBHwGrgd+CKMIzQe5Bj0FfQLu/4786/gs91T15vSJ+Nj8LAGlBe8FQQPU/s34rvOw8HPwTPMU9wD7Yf8BAR4AsP5n+lz2V/Jw7j/uvPBW9r/8QgTuCQkMcQxoCqgHMQXBAxIF+QhMDO8P2RHkEFsOgwd0AD37SfYb84/z8vSt9wj8VP7iAEwCdQFVALf/TwBFAqUF7gncDioTgxUQFsoTnQ3kBlUAJPom9wD24/bA+Gz5O/lR96DyoO1M6qzofer+7/X2dACKCLYNtRGWEd0PnQ01DcINghBdFFMWdBhnF+gTFBAxCnMEegAk+iL05e5l6hvqB+0g8jr4lfwO/G364PkG+6wBggbdAZHwOtLKs3SgVaC0tWDY7vqXEl0ZKw8D/bXq4eIb6mv9axYoLtE/K0j6R/JBQzlnL04lRBkjDXYCk/vw/KoEAA/PF7UWsgp69vXerczzxcDNLeB3+BgOeBuZHZYWOQvKAO/7f/5TCGgTUR68JawnQSWtHrgUEQky/AnvTeaP4F7g+OW37BPy9vLs79foZOCr2U7YF90v5t/zvwGQDIsSHRK8DYkHxQHz/lABBwalCvoOghACEJwMLQe5Aaz7QvXv8X/wAPG79H34Ufzt/vr/+v+S/1L9ZPxM/cL+IgN8BuMKrA+5EFkRSxADDKgHnAOxAFsAOAEtAoQDVAT9Asn/pvti9qrwBexL6Xnr4fBX91T+JwKbAnQA3vww+iT6jftb/38EEAiDDFUOng7iDq4MEgoNBnUBKf5G/T0AbgXpClQNNAwWCOL/7flU9ZXzpPWP+GT8Hf5//ur84vpz+ub5E/uh/Dn8S/yx+rz5MPr6+tf7xPsR+vr1AvO28EPxKPTx+L3/DAWoBzsIZgjlB3IIwwnwC+IOghDeEIQRmxCjDYILJgZvAZ3+DvwV/eH+1v9oAIb/0PtB+Xf4L/lG/Q4CnQhwECcVSRgSGEEW6xXtF3Ye2SRyIJoGDtsirIWMp4pipe7PyvZcCtEGRPJ/2NHHP8jO2DD1/xJmKkk5pEKfSMJL/kodQuoxuxtdBub5OviVAnsUwiBJIZcSGPYu1zG9/bDftT/If+IA+/0LaBNUEtYKWQMGADz/igNGDMoYGSeeNNk8wDuZMKIaWAIU7kHhjt/K40jrs/Lf8yTxbecl2jXO8sSJwyjJMdVD4/DyFALtDYsXgxp+FtoNkgQtAiQJnhcDKRo2wji4MCUi3hCgAZn24O8U7oTvNPTo+kn/q/9x/UD46PEh7qjqx+pk7nj05/5ICQkRzRajFkwR/gw5B68DuwNnBKAGhgkSCjUIeQT3/GrzrOhE367bPN0x4zbs8vSA+gj84vrW9r318Pe5/J8Fkg4cFsYa8hsWGyca5RW5EJAMAgcDAxIAbf8NAdgCMAS2BIgBJPrS83zu/+uH7dXwmPWA+s393P9FAooDfwSTBVYFXAVDBUgEEAMzAvr/tv5y/kb9qP1H/mv9ZPyM+hr3MPUw9cX3Ff3MAjkHDAoGCpEIWQiuB9QInwrwC0AMvwuZCskJsAlrByUFwAJh/2T8Nfln9YT0xvOv9FD2vfWC9/D8+gSzC5oP/gy7COQGvws4GQ8kgx8cAzPWGKmRkIWVJLMh29/4ugKy+6XsFtw51v3bWep//poPWB+CLMI42UUdUDhSUEhrMk4XlQKx+usCaxa1KToyzyqsFK74ieDM0SjOL9M63B/or/QmAV0LaxEXEkULWALz+fb3l/4hDMse4C5GNx81GiiaFDMCG/PY6QXnc+fe6cLrx+om6X3l4t4H2rbTa82Hy8LOedix5yL5zggQEqQSzAtYAsr72PwTBtYTBiIRKk4qpyNNGzsSGQpfAwz7kvW38VXxjPUr+1X/gACi/W/3bvHt62brfu+q9X39nAMnB+4J3guoDM4NyA1GDGgKYAi5BmQHfQdzBHT/8PeZ8cvtcuvC69zsyezL7Xjvk/GZ9q38FALkBngI8wifCkwMTBGDFdoWUxbbEoYOFAsqCfwGVAQGAAj8Pftf/ZL/dgI2BJoBZ/9S/Vz7w/oA+8b8w//LAVMDsASQA6kD9ASkBLYEGwJZ/d/4mPVU9fX2d/ii+IL3d/Ok8DTvre7+70Px9/MA9pH5Qf7fAmsHmAlXCy4MCAtMDBEOBw9kEKEQlRAwDsoKIAbYAjIBDAC9/1L9yfpB+b/3y/fx+Aj8BwF5BH4IWg3QE00bRR6RErPybcqhq8qliLk520D4kwWKAyf44+1J59XnXu6N9lr+/wOqCXYVmCaoN0FBLTs6KSIR7P1o9j37iQc4FAYdHx3JF54OtQOM+lfybOsq57fnb+379gsEjA5bE8AQIgjc/yr6kfnz/mEJLBSTHfkgpx7qGfIR7wrAAmH6DfIe7ArrH+3q8vb3QPhX8rLoDd/c2QjbTeHG6eHwfPdf/VcBWgT0BNcBi/5W+9D7SQA3BbkLcRGDFVUYnhfzEnwLhQSUAS4DCAcFCZEI5gOe/9P92Pxk/Lz5K/Yk8XDuQO/K8Uv3VP70BDwJKAinArj7afda+Yz/5AaOCzQMNgkxBY8CDADY/PD3JvKi7+XunvAL9bX5wv77AG8BGP8f+2n3OPcB/GMBAgcyC4kMogyiDO4JWAd+A+H+EP5h/5ADfQcfCpkKKgmOBv8D8AEK/nv7W/pt+m77Ff1g/oz/jABoAMoAjAA1/t37sfqA+q38zv49ANEBLAFV/yP+mfuV+EP2F/X29zr9jgHhBMQFFgOJAgkDbQT2Br8GGwdsCNYKow2mD00NLAa8/mz5i/kW/rQCiAauBywGrQYYBRsCYgB6AGEE7wpqEIsNUv3m4UHJV764wpnQq95h573sHfBl9Jj63/0q/wv/kv/2ATIG/w3fGtsqfDZbOe8wOyAzEGkG+gSkCcgN4g4cDTsIqQNdAYX+F/p+9KPr5OTF5Njp2vSlACEHuwiYBBv9bPlC+mb+qwVRC1YPkRLOEm4TsBLcDu4J5gPG/Pb35vTd8qjzifNf9Ef0lPIP71HppeNX39/g0uQ76wfyY/dF/G3/MQA3AFABOQIBBt0KpQ5TER0SbBKVFcUZQx2lHegYpxDJCXUGcwRPBTwE7v/o+qX22fMB8gvw3e0S7NLpferp7SL0pvvjAeEEDAVlA4kChQRoBSgIKwqYCTwJ5gj0CbQMBQ4PDAQIWwBy+Sv2PfaE+SH9+P2I/J357/bF97r4BPnN+J/2+vVe+K38ywEyBtoICgi/Br4FTwUmBqAGRgdHCFMIGwfLBkkFZwRBA+7/m/wt+C70RvPm9EX3gPoT+zD64PlS+Cf4fvn0+gP9Hv/iAIEBewGMAIz/Qf4O/BT8KP3t/g4CqwWuB3gIoAa1A84DowM9BfEHowhtCREJ8Aa4BREE8QIJAz4Bf/4m/ED91v9tBFIHxQZeB9oIww6fE3UPKv+o5YzPt8ZaymLVuuAG6O3r+O+h8wD28fgv+UH5UPsp/osEsxA6Hy0tjTWuMoopdB2aFDUSSBI0EasOmwsGCrQMSQ7rDCYGW/p87vjlJuRz53XtgvKH9vj4yPk2+ub5C/q9+sb8jP/0BD8L/A/LFHYVbhNMEbYNUAr8Bv0CJADt/mX9XfxS+L/y5e6F6/7q2eoJ6pPovedW6BXqde0W75bvEfAS8Sv2yvs4AeIFlAaDB6MImQrDDj0TUxYkGL8ZxRneGY4ZKRdjFLEO8Qf3AnH9gPpt+sL5UvgK9JTtiOkC6Sjq8e448hXzHfVp9638XgI+BpUH5AZzBFgCowMCBzkLNg4FDo4LBAiKA9YAHv9a/n/+W/+2/iH9UPte+Cn5mPoT+0L6Avh69hT3wPis++3+VwGFBIkHZwkRCSgIMwe1CDILBQ5ED1oN2wneBvUFkANTA5QBzv5S/ZL6Ivmt9wf3OPcP+Jn2ePQz8/Dyh/YL+j/8Rv0x+0/6Jfvp+wr+Q/+S/4EBTgQbB70JhwrECgAK5gjGB78G6QWrBbkGAgeoByYGoQLI/vT6cfj897H6XfyW/eX9D/13/SP++v92AqkDxAXbCQ0PYRO5EEwCYexU2O/LPMpyzkfTbNgm31boV/Ii+RP7Y/fc8bruqe9O9VX/yw8cIIgs/jK6Mskv4istKFYijxo7EukPgRSQGxki2iDRGeMPMARi+8bz9Oxq6e7n8OmK78/1Hvoa/FL9ZPxW+/X79/yl/34DXQbsCN0KawwrD+QQSg+NCuUC1/sv+Rr3Bvaj9Ibxx+/l7ifuMu3b6w3oheac5SflT+fM6Sfu9vKz98n65f1VAEgE+gkjDTgPJhA0EasTEhjIG1QcFhsLF+0SdhAFDl8MCwk2BE8AcPzR9/L0OPJ/8OfwI/DM7pHr++g16+DvWfSI99H3yvaP+C79IgMiCAAKpAnVCYcKwwlhCTAJHAgoCDMHJQXsAxwDrgJYApMA3vww+r/3Q/Zi9tX1uPaE+d78ygCmASoANwBXASkE6wcZCpIJ2gg9CuQLHA1fDHkJ0QbaA1UAWf3P+rT4fvnt+Tz6Tfkr9oz1jfZM+Nr5ffgL9Xj0//SH9lP5+fl4+Vr5PfvC/kUCQgSYBEQGogdICcULAwwmC1wKPQp0CiALMQqjCI4GzgMjBPID9wInAkMAW/+fAJoBUgIIAp8AoQJNCIkMAApDAHjvIuFw27Tbyt5d3zngG+U47Wn3DADBA1kDsgHuAEP/L/5P/3gDewoIEBkU5RW4FOgThhMzEKELqwWgARwD0AUECJQGFwQiA08FigidCOsHFwQ3AJMAcAKFBG4FBgX6BI4G4AhqC20Ohw9VDrMLegWM/4r9iPwd/nj+avzz+Yj3b/fW9jD1T/EC7j3skes+7XzuNO/b8Ir0rfce+ub5rfe+9mz0lvQa9yH4zvn7+6j9qwBTA5gEPAS2BHUGWwk0DOsMaQ9WD1APCBAADwUOpwvbCTsITgQq/+763/hr+NT5uPtQ+zf7Jfsm/Ef+bP6j/vj9IPyL+f74r/l2/Lf/VQBMAtcBegBbABIAKf5k/IH7Pfsb/ST/EgAY///+kwDaA5IE3wK9AMf9TP3t/lcBzAJBA5UCKAPPBOcEIAbKBSECCAJ7AeL/JABEAQkD3QEZAUn/Cf25/Iv+If34+CL5ZPjr+Lf6+/tr/ef+pgHHA/ID3QHa/rj7l/mo+Cf4y/cz+DD6ufzh/rEAUgL0BF0GYwYsBh4F7wU9CsgNew9wEPkNTAxaDSsPMxCSDsgI3P/l88rocOQL4l/hXd9p30zlu+p68fH41P4sAT0FVgqqCX0HOwgrCmUM1A1WD/4RhRK9Ey4WfBVxEdMMHAjbBJsCyP5E+zr4Xff0+mX9sP5bAHoAbgBJ/wT+/fy5/JD9egBqAswCBwb/CH0MvQ7gDQgLzQf1BaQEVAR9AoYAdP8Q/ln9rfxn+oP4Rffs9CHzYvG28MLw5u/476rwpPC38WX0jPXa9Mf0QvVX9/P5pPri+sj5ePnu+hv9R/6L/hD+jvx//uMBtgRCBEcDqgS+BeQGKAjPCTEKLAtrDKUK8AYGBXkErwOKA/gDJQUlBY0Fuge7CJUHfAbpBTAEwAK3AEP/T/+G/zgB7gCAAIwAPgEfAZ7/C/+n/D/8If2Q/WD+YP7C/jEAYwHdAV4CsQBb//r/9P89AD0AJADdAawBiAHqAW4AsQDiAB4Af/6//NX6hvpW+2j7gfvK+8r7v/z4/Sj9QP3y/Rj/HgCr/9P9P/x7+xP76Prz+Q/4jvfx+Oj69/xX/Fb74/sP/c//gwL3ApsC/QJYAjgBygCTAJYD0Qa1CMoKUQsbDBAN2AsgBjT9//SW71vsmOe05XzpRO2a8rT4p/zJ/ygD1wbhCQAKmAn9C6gMUgxVDrcOCg26DKkNWw7CDboMwQx3DDcKZghLBk0DTQPPBKMDYgAQ/kz9QP3+/c7+Cv7S/Cj9Kv89APUA/QLSAhADDAVRBkkF5gMFBIkCNwAP/SX7c/rO+f/5fvkz+Nj32fgW+ev4g/gt+An4dveJ+Av6zvlh+sT7bvsT+wv6s/eS9UPxZO7N79XwVPAM8WH1YfqS/zQD5gO4BZwH4wrwC+4JfwmeCb4KfAuTCugJsgrECpMKIAv/CNYF6QXEBecE/wMbAogBDgIcA6MDHAO0Av0CeAOpA3IDKANfA00DQQPBA5IE6QV8BnwGpASsAVX/v/xW++b5IfiH9or0LfM/8/byevHn8BLxBvHE8VfyAvPa9ND2Wvk3+4j8Tv6l/0//sP6K/cb8S/ym+6z7svt3/R3+bgAQA9UE1wb7BZMFPgb6BE4E7AMUAj8ClAGGABIAmQCPAjAEVwaXCPIMSxAbER0SaAohAmD+HPki9Dnu1+1H7z3xhPRr+Az7Jfs4AZMFgAUeBeEEMgbKBQIHcwmeCfMI4QlmDaIM9gudDSMNVQ7oDgcPkg60DDoMCQx/CZMFfwS1A+gABgA1/p/7sfqG+pn7bfpN+WH6jfvk/Gb+VP5F/Nf7Pfvb+pj6ePmA+uP7Dvwb/R3+5Pz9/Cj9rPtB+Zr3hfWh82/yVfHw8jjyjvLA8+TySvK58qn0+/Yv+UL69Pqb/Pj9kv+d/lb7gvyj/rcAGQF2ArMG+wqGDoYOKw+xDjgP9xB6DjkLlwj8Bo8HOQeNBXkE0gI/ApADQgT3AqABJgEtAmUD4wFpAfYBjwIjBH4DewEBAbEA4v+M/9P9gvxZ/a79PP+lAGIAjgGVAtgCtAITAdr+rv3k/Pv7dftT+VL4wPgL+nP6hvqm+wH8R/4Y/08AbwHc/0MAq//N/ff8ZPwy/Gr8/fyI/Pf8A/2O/BX9GvzD+p76SvvM/Eb99ftQ+4b6jPpb+rf62/pE+yP+SQA/AuUCEwEV/eb5QPh29/3zyPCC8hH1U/nE+yH9Hv/jAbYE0AV0BTcF5giyChQLCg34DEULggvwC/IM/w1PDoEP8hEhFakWcxd4FkEWBRfSFcMT+BF7DxgOIQwwCX4IgAXOAy4DEwFn/5b9Afzu+mL7gPr5+WT4GPbc9kX3n/YG9nn1zvTa9Bz0P/Mb86jzlfN383Dz9fGm8svy5PL28lXxBvHK8Qfy6vLf89nzePQ39vH46Pos/Hf9C/+MAN0BEAM2BE4EFwTyA1oETwVJBSID1gCuAuwD2wT/AxEE0QYYBRIFMQWQA4sEXAUXBOYDQgRUBLgFHgXbBDcFIwRlAwAFYgUrBbwEeQSrBfQE/wNyA64CywGnAvECXQGZAKsAsQDiAD0A7f5m/uz9tP2D/Xb8bvsT++35x/iP+K33dPZu9p/2p/dk+KL4HvpC+qP5kfnA+Dv52vnC+ar6hvo//Jf+hv/u/9wAJgEZAQcB+f5y/t/92v7u/57/hv/o/5kAvQAiA4QDowMSBdEGhgnVCdkH5wRBA8sBnwD0+ij0zvT09bL2Afef9n/1iPez/CQAsQB0//ECDweGCbIKIw3gDSsPLBS/FCQTDxGQEfkS/xLVEkgSqBE0EbwSYBKIEGEOtAxFC38JlQfhBHgDoAE/AnUBKv8p/lH8Rfwm/M/6Kflx+K33Ifg1+V74k/YM9h/2SfZ59Rz02fP28g7zUfIe8ZDv6+7e7pTtFO6H7WPt8e7r7mruA++V7pDvpPAS8dnzjPUh+Fz7L/4AAJ8AJwJZA3ACjgFwAhgFugdcCokMKg6tEOkP/A/WDrwNZQxdC0ULnQiwCSsK4Qm9CXIItAfFBkkF9QVLBhoG5Ab8BrQHZAdMB40FBgW1A1ICOQJh///+BP7M/EX84/sl+3n6kvrV+gj8gvy//DL8+/um+w78APuX+XL52fip+ZL6APvX+0v8rfzH/Yb/DADi/yQA1P5t/3/+kP3B/ZP7N/sT+x/7w/ow+sL5C/ro+uL6CPy//F/90/0E/i/+jP+lAE8AAQEIAqUAZv6C/Bf6PPrU+fD32fiR+eD5+vpt+mH6Jftw/AT+Z/+x/xsCtgQyBowJGQqlCjILmQqIC/YLDwyLDXMOUA8DEd4QKBGWEVQSbBIoEd4QURCbEPUPkw9iD5ENOgyNCn4IOQcYBTQD6gFPADEA9P8d/hr83ft1+7H6jPrx+GP3MvfV9dv12vSb8530IvSW9GX0HPSJ8/zy8PKO8sXyvvH58CTxjfG38cvyXvOb8xH1N/Y491f3Yvbc9s348/kh/bf/6ADBA0kFOQdkB0YHugf8Bi8IjwcCB8AH6weXCEcI5ggqCUcInAcnB+QGjQWABVQE2gNtBBADpwKhAqEC3wJNA4MCUgJXAWIAnwBh/zz/kf4p/rb+5/7H/SH9cf37+8T71fr++Ez4WPgP+Ez4hPkK+a/5PPrO+U/6+fk7+YT5Ivk6+Eb4Xvhs+Tf7P/xk/C79YP42/3T/GP8k/2f/yf+9/4AAlAF1AScCagKhAnkEEQROBIcFdAWxBRgFDAUYBR0EFgOuAjMCXgLOA1kDWQPaA4QD2gNyA2UDRwPxAj8CUgKDAmkBagKEA5wDwQPgA2EE7AOFBMkEDAVuBSsFaQYmBogGvwYtB0EIEAhsCOYI1AiVB5wHQAd0BQwFTgQcA34D/QI/AicCxAABAasApf9a/kb9ov1f/Wv9v/zw/GT8UPtK+3P6d/g6+Pb3pfat99b2UPbW9m72Aff89xT3Q/Y99jD12/WY9QX1sPVC9Rf1sPVr+Mj5Qvpo++r8Zv62/qv/DABuACcCQQMhAl4CTAJYAigDrgJFAsUBlAGsARwDtgRoBeQGGwd9B+wIHAiDBw0G2wTnBGcE1AOpAxcEqgRJBbwEYQRfA98CZALcAHQA7v+A/5L/Yf+p/iP+Lv1q/Gr87/ti+/P5Efp5+ir6GfsM+5n70Pti+5n7JvxF/Aj86fsr+3v7rPtW+1D7Jfsm/PL92v6M/4AAoAFkAsACxwPHA2cEfwQdBOYD0gKcA9gCgwK6AhQCdQF6AIAAjABKAUQB4gC/AcUB6gHlAi0CxgIoA30CPwJdAcoASQAYAHr/jP/h/pf+PP+x/wAAqwAZARMBfQKJAoMC9gFEAaYBbwFKAQICagINAaEC6wJSAngDgwJZAyMEHAObAngDcgNlA68DAwN+A3YCxQE/AsUBrAGaAcsBSgEZAZkAkv+Y/zz/Ev8w/2z+ff01/oP91/s//CX7E/uH+xP7n/sF+sj59Pqm+zf7Jft2/B/7h/u5/GX9Wv4K/pH+Sf9H/gr+dP9V/x7/vf9bAD0A1gBEAb8B5QLGApYDqQNNA7sDTgQLBKkD7AMJA/8DHQTyAxEEwALYAn0C1wG5AW8BhgBuABkB4gBV/4D/tv60/VT+cPwU/L77Yvus+4f7pvvj+yb8rPsA+wb7nvru+tX6mPp1+7H66fv1+wH86vw5/Ff8Ff1r/Vn9Tv5m/gv/9P90AOIAoAHwAaABFgN2ApoBOQIbAhsC6wLxAl4C3wK0AgkD9wJwAlgCMwJSAv0C0gLqAWQCjgEHAaABBwFKAeIA9P8xALf/q/88/zz/wv7a/lX/hf5h/0n/2v56/2gAdADKAAEBygD8AbIBRAEhAuMBEwFKAT4BewEOAmoCUwOpA+YDcwTJBIUEHQTgA2sD1APmAykEiwTyAzwEfgNlAxwDOQLjAVcBewGGAD4B+wBh/7f/PP9//kH+X/1X/Jv8vvus+z/8Bvu9+oz6qvqB+437rPvK+6T6kvpi+9D76PrP+sr7bvsa/NL8Ff2K/QT+Hf68/sP/z/8AAPT/9P+OAWMBmgEtAnoALAFEARkBYwEBAQcBMgE+AdAA0QHdAZQBUAGUASYBnwDiAEMABwHW/4b/+v/a/uj/KgBJ/3r/q/9b/+L/t//a/kn/Hv8F/5L/Hv8w/wwAAAAYAKUAjP+3/wwAw/9oALEAHwFVAAAA7v8MADEAq/+9ANwAPQCTAE8AgABjASYBYwECAtwAAQFKAaUAXQGsAbIBiAEBAXoAPQCfAIwAGQEsAYwA9QBQAW8BaQEyAaABAgKOAY4BaQEyAWIA4v8AANb/9P8q/4z/9P+G/+7/4v+r/1v/bP41/jD/hf7I/s//mP9VALcAbf/6/+gAkv83AOL/Q/+A/1X/1v+l/0n/nv9DABgAev90/yT/sP4L/1X/PP90/6v/7f5J/9T+T/+A//L9Nv/O/gv/sf/n/pL/BgD0/zEAPQAk/yr/1v/P/4D/3P+x/4b/VQBPACQAvf8eAFUADABt/yQAbgBJADIBkwClAKwBGQHuAFABaACZAFUA1v9DAIwApf9PAPUASQCAAAAAWwDD/4b/gP+9/x4A9P8NAR4AQ/+Y/2f/Bf8L/2H/zv5h/wYAkwC9AE//Z//c/73/6P/W/yT/BgAAAL3/+v/5/rf/Vf8L/zz/Yf9h/2f/mP/t/jz/Wv5B/tT+//4k/zb/AACY//T/+v8Y/4b/vf/i/5MAVQDEAAcBMgE4AQ0B1wH8ASECIQKPAuMBTAKbAo4BCAIzAnUBYwH2AdcB0QFQAZkAAQFQAYwAdADc/8//PQC3/0kAEgAxAL3/mP9h/7D+1P7f/XL+bP5H/i/+wf0W/lT+Cv7G/GX9QP1k/HH9Ov1f/Zf+Fv6p/gX/Bf8GAIb/gP/i/1v/kv+lAJMAKgBPALEApQAyAYEBywH8AZQBTAKVAqEC3wLlAhQCugLSAl4CCQNSAswCNAMCAtEBpwKPAi0CzAL2AZQBxQHuAEoBdADW/4AAvf9t/3r/o/6p/uf++f6M/0P/bP4j/rb+eP6F/vP+ov1y/vP+L/5y/jv+8v1B/mD+lv3I/sj+VP75/pH+wv5//pb95f2x/8//Vf+S/0n/W//0/zD/T/9J/9r+7v+G/1v/sf82/3/+Hv+Y/4b/Z//I/mb+Vf8Y///+t//n/u7/vf9V/7H/Z/8e/2H/1v8eAJkAT//D/9AAEwFpAVcBsgGsASECUgIUAjMC2AL9AuUCPwLAAqEC8AHfAtcBFALGAhsC3QEzArkBSgH8ATIBjgE5AhkBGQHQAMQAgQG3AKUAegCMAIwAEgBh/xL/Hv9H/sj+7f6w/iP+Nf4Q/pb9zf1A/X392f0p/kH+nf6R/lT+4f7C/tr+eP7C/m3/4f6A/xIA7v/W/7H/vf9JAAYAkv9JAPr/YgCZAEkAWwBuAFUAt/9iADcANwCZAJkAUAENAfr/1v+GAEMAbgDW/1X/9P9J/4D/WwBJ//n+pf/h/v/+Bf8L/xgA4v/z/nT/Hv+L/lv/vP7h/pj/yP68/hL/l/7t/sL+bP5V/8//Vf/P/2IAGAABARMBMgGUAW8BxQHqAW8BbwEUAr0ABwGyAYwApQDKAGgA4gD7ABgAUAGZAOL/AQFDAAYAMQBDAD0AJAD0/4z/sf9b/+3+bf///ir/GAB6//T/pf9y/gAAMQBb/x7/Vf+G/wYAKgDP/70AnwCGAEQBnwC3AD4BOAHRARkBsQBiAIAAtwBEAcUBEwGmAZQBywFYApoBSgECAssBoAG/AYAA4gCAAID/MQD6/+L/EgDJ/xj/EgAeACoAKgAq/3QA1v/n/iT/i/5//jD/cv5a/h3+rv0d/gT+NP2Q/eX9A/0d/gr+Tv54/mX9Uv1Z/fD8NP3k/OT8Kf4Q/i/+4f62/qP++v/u/+j/egAxAHQAxAClALcAMQBt/xIAWwClAG8BCAJSAo8CjwICAnACagLwAVICAgJvATMCOQJXAawBVwFpAfABpQBbANwAhgCxAE8AJACrAJ8ATwAYAGgAaACZAGIATwBPAD0AEgDD/+j/bf9J/4v+W/8GAAAAAAB6/wAAw/96AEMAw/9PANz/4v8xAG4AgACAAPr/yf8MACr/sP7h/tr+sf/u//P+vP5y/vL9Nf4K/v798v3Z/Tv+YP7O/pH+bf8w/9r+1v+e/x4AVQAkAEMAYgDJ/yoAHgASAD4BTwB6AHsBTwBVAG8BRAGmAQICPwJqAvYBrAHqAbIB+wBjARMBbwH2AYwA3ABpAe4A9QCMAKUAqwAmAR8BKgB6AGIAvQBoAKv/yf+x/+f+Tv7//k7+bP6L/sj+JP9y/hL/Sf/a/k7+GP+2/gT+tv6d/k7+zv7a/uH+Ev9s/s7+sP42/zcAQwAxAA0BGQHEAAcB4gC9AGMBjgHwAScCGQHXAdAAygAtArkBjgHXAYgBPgHwAQcBYwGgAaUAdAC3/8n/nv/o/wwAQwDD/yT/bf9//sL+Yf+p/mb+MP82//n+Nv81/sH9kf7f/ZD9/v3N/Wz+Tv7f/Tb/8/5g/hj/cv7U/ir/Bf96/7f/PP9J/zb/Tv4Y/zz/dP/c/7f/kv8L/xL/MP96APT/hv+3AGgAEwGOAfsAbwHFAQEB9QBKAWgA1gAsAZMAJgG9AG4AygCAAHoA+wCZAD4BywG5AYgBJgGOAfUAjgHFAdEBjgEZAUoBnwBoANAA+wBDAOgADABt/5kAJAC3/9z/W/88/xgANv9t/9z/t/9DABIAEgBJACQAAACZAJMAjADWABgAEgA9ANb/SQAAAEMAkwCx/0P/Q/+G/+3+sf/J/xL/q//D/yQAKgAGALH/z/82/9T+vf96/4b/dP8k/6X/nv9V/8//bf82/2H/PP/0/1UAq/+M/xIAHgC9/+j/Vf/U/h7/+f5b/2f/dP+S/zEAW/+M/zEAGP8xABgADAAHAaUAWwB0AFUAnwDoAMP/JAAGAKX/4v+Y/+7/+v8GAAwA+v+A/0P/GP88/yr/1v+x/0n/6P+A/0n/sf9P/x7/t/8w/3T/jP9P/57/9P/D/4YAVQCx/2gAhv8qAGgAQwCGAG4AYgB0AEMAVQClAE8ABwGTAIYAdAAkAB4A0AAmAb0A1gATAbkBoAHRAaYBJgHXAY4B6ACaAQEBpgGIAUQBIQIsAZkAVQBoACQAGAB0AAAAAADi/3r/yf/0/3r/Nv+A/7D+MP9t/xL/pf8e/0P/Hv+d/pf+C/+R/tT+ev8w/+L/z/9D//P+//4q/6v/kv9t/6X/8/6d/gv/Kv+j/vP+1P7I/rH/w/+3/2f/nv+r/5j/Sf9D/x4At//J/1v/5/5J//n+Yf88/9T+t/8YAM//7v/iAMoAhgDiAD0AQwDKAJkAegDQAOgAHwHFAdcBHwEIApoBgQEbAkQBsgHqAeUC0gI/AggCFALRASwBywEsAV0BVwGxAKUATwBVAD0AkwC3AJMANwCY//T/jABJ/yr/GABt/8P/MP9m/rz+1P4S/23/wv54/uH+BP4v/ov+Wv7h/mz+0/1a/kH+qP3f/SP+BP75/tT+Wv4k///+Z/96/57/GABbAEMAvf89AMn/bgBVANb/SgEHAb0AnwCAAJkA9QB0ACQAvQBVACQAHgDc/0MA+v9t/0MAw//P/08AdP/W/zcAw/9h/0n/dP+9/3oAsf90/7H/Yf8YAAAAz/8AAHQAKgD6/6X/PP89APT/hv+xAIwAhgC3AAYAWwBuAL0AxABbAHQAegAqADcAPQDc/zEAbgA9AJMAegA9AE8AJAAMACoA1gDoAIAA6AB0AIYAmQAGAGIAaAA3AEkADADW/z0AVQAqAFsAhgAqAPUAqwCAAHUBegDWANYAhgC3AHoAmQDcACYB7gCAAJ8AbgBPAKUAAADW/z0AMQCr/7H/5/6M/0n/nf6r/8L+Z/96/4D/6P/o/+j/Sf+M/6X/4v+r/8L+1P6M/23/bf+Y/wv/q/9P/yr/4v/t/uf+T/9P/3T/6P+3/4D/hv+8/qP+8/5B/vn+Vf+2/m3/l/4v/hL/sP4S/1X/o/5h/8n/hv+A/7H/Yf+Y/xIA6P+fADEAHgCrAMoAgADcACwB+wB1AUQBHwFvAXUB7gBpAWkBEwE4ARkBaQEyAbEAVwENAYYA3ADWAMoAgAAkANYA4gDW/1UAjABPADcAVQA9AB4AWwCx/zcAegAGADEAHgBiAKsAVQBDALcAnwCfACoAw/+TAJMA6P/J/9b/q//6/8//hv+S/0n/yf/0/+j/mP+Y/4z/kv8AANb/yf8e/wX/+f6F/nL+Tv75/qn+wv4S/0H+//6F/pH+Vf/z/jD/Vf+r/yoAHgCM/8//dADu/wAAsQCl/7f/DADD/wwAmP9DAPsAgABVAB4AYgBDAEkAsQBV/yQADACx/wwASf/J/9z/4v8AAHQAhv/i/7EAJACAAIwANwDJ/7f/dP+Y/x7/Q//0/zD/PP8GAOj/nv9oAMn/AAB6ALH/NwCZAKX/DABiAHT/gAAkAEMA4gBiACoAEgAkAE8AAQENASwBbwFvAcUBuQEsAdcBMgGrAB8BdQGBAfsAvwEmAcsBxQGMAPUANwAxAD4B4gC9ACwBpQBVAHQApQAkACQA9P/u/zcAhv/6/1X/yP7o/2f/Yf9h/7D+GP8Y/53+VP7I/n/+nf4S/53+nf5m/lT+VP4S/zz/sf8GAHT/6P9J/0P/4v+A/57/aAAMAE//hv/W/4b/1v/J/0n/z/90/4D/q/+A/1X/jP9n/7f/kv8F/7f/Sf8S/6X/Nv8e/0n/Ev/c/6v/MP+G//r/yf/J/+j/mP8MAMn/4v+rAIwAMQBuAGgAWwDcAGgAMQCTAMQA1gDcANwAVwGUAbcAJgFpAbEA9QD1AG4A3ACAAJkAdQGrAOgAJgGfAB8BMgHEAAcBJgGGAIYApQDWAD4BDQHKAG4AegCrAG4AHgDJ/6X/q/+x/6v/Sf9b/wYAhv9h/4D/qf7h/mH/C/8q/0n/hf7t/jb/C/+Y/1X/7f4w/xj/Nv9n/xL/nv/6/1v/dP/0/70A7gDcAL0AkwBVAIYA7gB6AMoAJgGIAdAAkwB0AO7/dAD6/58AVQC9/zEAPP/t/hj/Q/9b/0P/o/5y/qP+f/4S//n+GP/t/vn+w/+Y/6X/nv/i/8n/+v/P/yoAMQCM/3QABgDu/5MAnwAxAJMAdABbAOgAKgD7APsA7gA4AXQAbgBiALEAqwAHAbcAEgAkANz/T/+S//T/q//u/9b/jP/u/7H/gP8eAL3/HgBuAOj/mQClAAYAGABbACQA9P8qAFsAbgAxAAYAhgA3AO7/VQASAEMASQAGAEMAMQDJ/wAAEgC9/yoAHgDJ/wYAmP8q/7H/6P/D/wwAmP9J/8P/mP/o/yQA3P+9/zb/T//W/6v/w/8YANz/mP+A/yr/GP9h/1X/bf/D/3r/T/+S/wX/GP9t/+f+MP90/3T/dP/z/u3+Z/+Y/3r/t/9b/23/TwAMAOL/PQAYAGIAmQCMAMQApQCrACYBHwG3AEoBUAFEAawBSgF7AcUBBwEmAZQB9QBvAV0B+wCyAWkB6AANAeIApQDQAFsAegDcAG4AWwBiAOL/3P9uAAYA6P8xANz/DADc/6v/QwAAAKv/yf+r/8//EgDc/7H/QwAxAMn/DADD/8P/BgCx/9z/7v+S/4D/bf8Y/2H/kv8S/0//Sf8q/4D/JP/5/jD/Q/8k/xj/7f7U/mf/Nv8w/7H/PP///ir/7f7n/mf/Z/+9/z0AMQAqAM//gP+e/2H/Vf/0/+L/+v90ALH/GABbAJj/w//u/73/yf83AAAAMQBVAB4ApQClACQAsQDKALcAGQEfAb0AhgBoAB4AnwCGAOIAAQFiAJkAVQDW/9b/gP9t/wYAyf90/4z/W/9J/57/Z/9V//r/Q/9h/9z/Vf/c/wAAjP9iAIYABgCxAHoAw/8AAOj/mP8kABIAKgCGAPT/1v89AAwAyf89ABgA9P9bAG4AygD1ADcAtwAmAZkAXQHcALcASgHWAAcBMgGZAKUAHwFoAG4AMQCS/2IAYgD6/2IAHgAAADcAt/8SADcAnv+M/+7/HgAGAAAAJP+Y/9z/kv9iABgAz/9DAMP/w/8qADD/dP8kAEn/gP90/8L+hv///mz+o/6j/sL+hf42/0n/Ev+A/x7/GP9D/xL/gP90//P+W/+Y/0//gP9h/wv/AAC9/zD/TwAAAPT/7gCTAPsARAFbANwA7gAAAHQAgAAYAMQAsQA9AOIAtwCZAOIATwBuABMBxACfANYAKgCZAJ8AbgDKAFUApQBPAPr/+v8AAAYAev8AAAYA7v8AANb/4v90/+7/TwBoADcA6P96AEMATwBJAM//MQAqAD0AegDEAB4AEgBiAD0A+wAGABgA3P9J/23/dP+l/x7/vf9D/xj/Vf96/6v/sf9b/zD/bf8L/9b/Vf8k/0//T//J/5j/Vf9J/0P/5/5n/+L/DACr/8//KgA3AAwAz/8eAJj/z/83ABIA7v8xAJ8Az/8YACQAw/89AGIAegB0AEMAKgCfAHQAaABiAPr/QwCAAJkAqwA+ASwB0AATATEAkwDcADEAHwFPAGgAAQEMAAYAmQCAAID/w//0/6X/MQCS/zb/4v8k/+7/7v+M/+j/w//J/7f/MQCe/wwAkv9J/+L/mP/P/8P/z//P/xIAq/8YAHQAt//6/4wAqwBJAMoAegAeAFsAhgDEAGIATwBVACQAHgCfAIwAxACGABgADAAMAMn/sf/u/8n/AAAGAOL/VQAqALH/hgAqAMn/3P/o/9b/9P8xAJL/AACS/4b/3P+l/xIA9P8AANb/BgDo/x4A6P+Y/0kAt//c/xgAz/+9/yoAsf8e/57/Q/9h/1X/MP9h/0P/hv/P/7f/Z/+e/0P/1P6G/0//GP9J/4z/bf+M/0n/Ev/o/0n/w/8qAEP/AAASANz/MQAAAAwAPQBPAJj/EgAkAG3/SQDo/+7/hgAeAE8ANwC3/zcAJABiAIYAJABDAJMAvQAxANAAGACS/2IA+v9DAHoAvQCrAMoAxACfAB8BBwETATgB+wBpATIB9QB7AegASgH7APUAOAEHAbkBMgEZAb0AegCTAJ8AkwCMALEAkwCTAKsA3P+A/0P/GP+M/7b+JP8k/8j+4f7t/vP+i/7U/kH+tv5//nj+Ev/h/rD+sP4w/4X+Bf/t/gX/kv8k/3T/4v9t/1v/VQCl/xIAbgC3/+7/BgCY/xgA9P8e/zEAZ/8e/z0AdP+3/5kA7v8MAAAApf/6/wYAz/9uAGgAw/+lAKUAegCfAPsAdAAeAFUAAAC3ACQATwDQALf/3P9JAD0AAADi/wYABgAqAPT/3P/i/8//3P+S/+7/TwB0AIwAnwBiAFUAkwDcAEMAkwDKACQAUAEmAeIAPgGZALEA4gBDAIYAjAAGAL0AygBVAG4Ayf/c/24A9P82/9b/HgCl/5L/nv8e/wv/sf88/7H/Q/8w/xIAKv8Y/xIAbf8k/73/mP96/73/sf+G/8P/q/8kALH/q/9JAMn/w//i/+L/DADEAKUAnwBJAIwA0AAeAPT/egDcAIb/DAB6AOL/3P/P/7H/z/+Y/1X/KgBh/2H/sf8Y/0//GP8e//r/t/8F/6X/Q//n/ob/Yf/D/7f/PP+3/6X/mP/J/wAAt/+x/73/mP/6/9b/7v/o/wAAPQCAAFUAEgCTAGIA9QB6AD0ABwE3AJkADQGZAG8BFAJ7AcUBlAETAawBVwEfAY4BsgF1AfYBmgHWABMB0ADEAIwAYgA9AG4A1gB0ANAAaADu/2IAPQAMAMP/kv9V/yr/Hv+r/wX/1P7W/1v/C//P/4z/4f5V/+3+4f7h/n/+nf6L/in+f/5U/k7+sP7I/n/+eP7//mz+l/62/qP+2v5P/zb/gP/P/4D/+v9n/3T/6P/i/9z/PQBVACoATwA9ALEAgABVAL0A4gBuAIwAxABoAIwAQwAkAD0ABgD0/24A6P9PAHQABgDoAGIAMQCxAFsAmP9VAMoADABiAIwAMQDEABgAWwAZAb3/VQAkAAYAPQAxAFUAPQCfABIAgABoAHQAqwD7AFUAtwBpASQAtwCfAPr/MQAqAOL/VQAYAB4AbgC9/xgASQCe/9z/JADi/2IASQD6/58AdAASADEAw/9JAGIA9P8kAPr/TwBJAEMA3P+x/+j/nv/P/4D/JP89AD0Aw/9DAAwA9P/D/3T/hv/u/2f/Sf/i/7H/q//P/+H+MP90/9T+Q/82/xL/sP7z/gX/Kv/t/qP++f68/s7+wv5D/3T/W/96/5j/1v9n/z0AkwD6/2IAgADi/xgAYgBuAKUAVQCMAEkAnwCZALcAkwCGAMoAPQCTACoA4v9bAFUA+v8GADcA9P+M/73/dP8kAD0A6P/oALEAWwAeAAYANwC3ACQAEgBVABgA4gBDAD0AmQBoAGgA7v/P/8n/z/+9/1UAdAA3AHoAbgA9AJ8AVQB6ANYAVQDiAIAAHwFEAbEADQEmAUoBxADQAB8B9QDKAMQAkwBJAG4AdADc/8n/W/8YAE8Aev/i/3T/ev8F///+Z////pH+l/6M/7D+Kf75/n/++f4e/4X+8/62/rD+qf7h/kn/sf8kAL3/nv89AMn/MQAMAJj/MQDD/yoABgDJ/6v/EgDi/+L/vQBJAGIADADi/wAAz/9t/7H/w/8w/+7/Vf/5/nT/8/54/iT/GP/n/p7/JP+3/+7/t/83AFsAkwCTAAwAKgBuADEAAAB6AEMAWwAfAcoA7gCrAPUA9QBXAYEBUAF7AQEBVwETAdwADQHXAY4BgQFXAb0AXQFPAGgASgHcAMoALAGrAG4AvQA9AEkAGADu/0MA7v+3/x4Ayf90/8//Sf9P/5L/5/4S//n+Hv9D//P+tv7O/uH+VP42/wX/i/7a/mD+2v4w/8L+7f6S/yr/t/83AGH/z/+S/8//JADc/8n/EgC3ACoAgACGAIAA6ADQAA0BaQEZAb0AdQHuAKsA1gCfABMBBwGMAGIAdADu/2gAegCS/zcAGACe//r/+v+e/9b/+v/D/wwAjP9b/5L/q/9P/1X/BgC3/7f/bgBoAO7/bgAkANz/6P/o//T/1v/u/5L/PP/0//r/hv/W/4z/Nv9P/1v/GP88//n+MP/5/p3+Kv+Y/+j/Yf+r/2H/T/+A/7H/MQDW/8P/QwCfAAwA6P+A/6v/BgBn/yoAdAB6AMQAtwCTAJMAxAANAW8BVwENASYBdQETAYEBMgFKAXsBEwGaAe4AegDuAIAAbgDcAKUAkwBiAHoADABPANz/hv8YADz/q/+x/1v/T//D/3T/Q/8Y/53+hv/C/rz+Yf8L//n+GP94/hb+bP5y/tT+vP6w/uf+5/4L/53+tv7I/hj/mP90/+7/7v/W/xIAHgDu/4wAegDc/6sABgA9ACYBWwDWAA0BNwA4AcoANwA4AfsAtwAfAUoBVQAfAR8BmQAHAT0AVQD7AEkAMQC9AOj/gACxACQAegBoAO7/MQBoANz/QwBJAAAA+v+9/57/3P9h/wYAYgCG/zcApf+3/8QAygCGAKUAsQA3AL0AkwBDAB4A6P83APr/+v90AEkAt//D/xL/Hv88///+Sf9J/2H/GP9t/1X/kv8kALf/AAAMAAYAPQA3AL3/z/8MAHr/9P+x/6X/yf8S/5L/w/8AAAwADAC9AHQAqwDoAIAAgABJAJMAYgBDAEkAw/+x/3T/DAB0ALH/3P9b/x7/+v+l/+L/Yf9P//T/mP+9/8n/gP9J/6v/sf8k/9z/yf9n/9z/7v8MABgAQwA9ADEAWwDD/x4ADABt/5MABgDJ/0kA4v9DACoA7v8eAGgAJAASADEApf90/73/1v8eALf/3P9bABgA3P8qAFsAKgDEAAwAaADoAL0AEwG3AAEBEwHiAJkASgGlAB4A+wBVAIAAmQAMACoApQBoAOL/TwBVAJj/PQBJANz/AAAq/3r/7v9P/57/hv+G/6v/ev9n/0P/dP/5/jz/7f4e/+L/2v5b/73/nv8YACoAw//6/1sAMQB6AAYAAAB0AKsApf8SAIwAPP/i/+j/3P83AAAAt/+x/4D/q/8AAL3/QwBDACQAsQBiAGIAygAqAM//+v+3/2H/bf8k/x7/hv8w/0//gP8L/xL/dP8k/5L/1v+M/z0A4v+l/8n/VQASABIANwDu/z0AjP90AHQAHgCMAIwAkwC3AMoAWwDoAL0ASQAHAaUAaADuADcAdAB0AAYAkwAYALf/BgDD//T/DAAMABIA4v+GAPr/HgAYAGH/dADi/2f/JACx/6X/NwD6/8//3P8AAMn/PQAeABgAgADo/58AjABPAL0AAAAkAIYADAASADEAEgC9/xgAgP+x/zEAW/8SACoAGAD0/xgA4v9DALEAAAB6AAwAPQB6AJj/6P8xAAYAKgDP/xIAMQC3/6v/t//0/+j/KgD0/5L/+v+S/5L/mP8w/2H/pf9t/yT/nv9D/0n/W/8e/8P/vf9J/5L/AAC3/5j/z/9h/6v/GADi//r/Yf+e/9b/t/+r/8P/DAC9/z0ASQAqAE8AnwDWAHoAjACfAL0AxACAAL0AhgAxANYATwA3ADEA1v9iADcAgABJAEMAVQBJALcAJAAeANz/nv89ANb/7v8kAD0AHgAAAOL/sf9uAPT/KgBbAL3/6P/0/0kAbgCG/9b/egAMACoA9P+3//r/TwD0/wwAVQD6/wAAbgAeAPT/YgB6/+j/6P+M/+L/t/8SAAwAmP+G/9z/mP+Y/9z/7v/u/yQA3P8qAOj/ev8YACr/t//D/6X/hv9J/8P/Q/8SAM//3P9PAKX/1v/o/2f/BgDi/5j/4v90/1sAdAAxADEANwClAGIAkwCGAIYADQFoAO4ALAG9AEQBGQHcAIwAqwCMAD4B4gAeAIYAq//D/+j/t//i/4D/4v+3/yT/ev/5/ob/pf8w/zD/kf5t/zz/sP4q//P+2v5t/0//Bf8w/zD/dP8Y/yT/mP+Y/57/EgBVAB4AbgDcAKUAqwCZAEkAxACZAJ8A0ABiAB4ADABoABgAvQDuAIYA9QA3ADEAsQBuANAAAQFoAJ8ApQBPAL0AjAB6ACYBnwBPAHQA1v/c/xgAq/8eAAwAJABPAJL/mP90/4z/Vf+M/3T/Sf+r/1X/Bf+R/qn+i/4F/7z+kf69/wv/l/75/sj+hf4q/x7/Sf+e/+H+Ev9b/4z/4v+x/7H/7v/0//T/DADP/6v/TwAqAAAATwB0AJMA0AABAegA9QDQAF0BuQEfASYBEwHcACwBGQG9AHUBJgHiAF0BPgFvAQEB+wAZAbcANwBVAGIABgB0AIAAWwAkAOj/+v/J/zEAjP+e/2gAMQBoAFsAdACAAFsA7v8xAAAADAAAAGH/1v+S/5L/w/+Y/4b/4v/c/1v/t/9h/0//jP+x/3r/C/+M/yT///48//P+C/8q/9r+4f7h/hj/Yf8Y/3T/pf8q/zb/Vf8w/8n/yf82/2f/nv+3/9z/kv+9/xgAnv+Y/8n/4v/6/9z/q/8xAG4AVQClAJMAWwBbAIAAWwCrAL3/WwCxAO7/3ACGADcAhgDWAG4A1gDEAHQAkwBbAE8AegCZAKv/WwAAAD0AdAC9/1sAQwA9AMQA3AASAIYAAQH1ANwAygA9ALEAnwCr/zcAEgDD//T/3P+r/yQAAAD6/73/w/9PAMn/z/8qAOj/BgBPAOj/sf8kALf/gP90AEMAYgBoAOj/mQBDALf/HgDu/73/pf+l/5L/Q/9J/yr/kv+x/yr/Nv8Y/zz/dP9J/+7/w/8L/+7/DAAAAAAA+v/J/73/6P+M/yQA7v+3/0kA1v+A/08A4v/6//T/pf8MAMn/3P/J/+L/W//W/4z/kv9VAMn/EgCGADcAAADWAFsAQwCTACQAnwCZAEMASQB6ACQATwBoAG4AbgDP/1UASQAGAFUAWwAYAE8AVQD6/yQANwDu/wAAmQCMAKsAVQAYAFsAYgD6/08AkwDW/1UA4v9h/wAAdP8k/5L/wv5n/0//o/5J//n+MP8k/zz/4f7O/vP+zv5n///+Hv+M/4b/t/+Y/57/+v8MANb/VQCAACQAaADWAOgAHwFQAZkA3ADKAOgADQGZACwBGQE+AR8B0ACTAOgAtwBbAPUAGAB0ANwAMQAeAAwAHgBDAPr/q/8MAG4Az//i/1sAbf9bAJ8AGABuAPr/EgBDAJj/kv8xAKv/t/9n/0n/dP88/87+o/7t/pf+2v6p/rz+7f4L/6n+tv4w//P+bf9P/zz///5h/9z/DAASAOj/VQC3/3oALAFuANwABwGGABkBsQClAGMB3AC3AO4ApQCxAOgAaACZANAAsQBXAUQBgABKASwB7gDcAEkAYgA9AFUA6P9DANb/nv/P/23/ev8S//n+Bf+G//P+Nv+l//P+kv/D/6v/jP+9/1v/Z/+r/zz/3P/u/x4AVQAqACQAMQBoADcAHgD6/1sAxABiAD0AWwA3APT/+v+M/wAA6P9P/z0Asf9D/8P/nv+l/wAAvf/J/xgAYf/u/yQAYf/D/wwA4v/u/yQAVQBVAD0AKgCAAGIAMQCxAG4A6P8GAPr/q//6/5j/q//0/8P/nv9V/xj/+f42/53+dP+A/zb/w/8w/23/gP8q/xL/hv8F/2H/6P88/5j/w/+G/zz/mP/u//r/AABiAKsA3ADoAOgADQENAXUBHwEyATgB1gAHAUQB4gDcAOIAYgD1AJ8AqwAyAW4AmQDEAO7/aAB6AKX/WwD0/8P/NwD6/wwAMQD6/x4AdAAeAIwAHgAkANwAvQBbAA0B0AB0AF0BhgAHAfsAdABuAFUASQDo/+L/w/8eABIAkv/o/73/Yf+Y/2f/mP/u/+L/hv+Y/zD/vf8MAID/7v+A/0//PP9h/0P/ev9J/xL/SQB6/+3+pf9D/1X/bf/5/jD/MP+d/ir/T/+R/rb+4f7h/jz/PP8k/+L/Z/9n/8//+f5n/4D/MP/W/9z/ev/0/6v/1v8qAFX/6P9iADcAhgCZAJkAygB6AMQApQBPAPUAhgCxAJ8AegBJAAAAWwCl/yQA9P9b/yQA+v/P/+j/9P83ABIADADu/2IAKgC3/0MAjP8YAIAAQwCMAFsAegAfAegABgCAABgAKgB0AGIAqwCrAPUA6AAmAQcBBwFKASwBOAGaASYBdAAHAcQAdAD7AKsAMQBuADcAegBiAOL/YgD0/6X/6P+S/4b/sf8q/1X/gP8e/5j/PP8F/6X/Z/8e/0P/C/9P/yT/Q/9D/5j/7v82/wYAMP///oD/MP+r/3T/nv+l/6X/nv9t/0P/Ev9n//r/t//J//r/nv/P/3T/hv+e/+L/PQAMAD0AQwBiAD0AKgA3ACoAKgCMAIYASQBoAAYAJAA3APr/PQCfAHoAHgAAAOj/t//J/+L/EgAqAAwAhgASAO7/JACl/z0AdAAGAGgAjABVAFsANwDJ/8//PQAGAFsASQD0/5MASQB0AIYASQCrANAAjABbANwAtwCrADIBjACrAPUAVQB6AIwAJABoAIwA9P8SADcA9P/u/3r/ev+r/0//Yf+G/x7/Kv9J/6P+i/7z/qP++f50/+H+T/+S/zb/kv8F/1v/BgCl/7f/sf/D/7H/AADi/wwAWwAMADcApf+l/8n/7v/P/yoAKgC3/4YA+v/J/x4Avf8AADcA3P/0/x4Az/83AGIA4v/u/xIApf90//r/4v+Y/9z/W/90/xIA3P/u/z0AEgAqAM//yf9VAOj/TwCGACQAgAB0AG4A1gC3ACoAygB6AE8A+wCfAAcBsQAkAMoAhgD0/9AAqwBVAHoA9P/W/08AEgD6/4YAbgAMAB4AHgBVAMQAtwDuAIwAYgBPAJMAKgCrALEA1v/1AMQAjACfAHQADABbAEMAgP+e/yr/T/9P/5j/z//D/0n/JP90/x7/dP9V/7f/EgAeAJj/mP8AAIz/+v/P/4z/Hv/h/gv/Ev8e/wv/dP96/2H/Sf///qX/AACY/9b/dP/J/xIAsf90/5L/t/+r/0MAmP9t/23/T//6/1UAw/8MAJkA1v96AG4AegAmAcQANwD0/9z/QwBuAHT/7v+ZAAYAhgDi/4b/TwCx/73/qwB0AB4ApQD6/+j/bgAqAEkAdABiACoAbgAeAB4ApQBDAJkANwDi/6sAPQBJAD0AAAAqAPT/+v83AFsAJACMAKUAPQCxAE8A3P+lADEAEgB0ACoAmQCGAIAAnwDcAHoApQDWAOj/dABbANz/GADD/4b/AADu/+7/HgCS/3r/9P+Y/0n/gP/h/jb/W/+R/tr+Bf94/s7+8/54/gv/5/7h/ir/1P5t/4b/PP/P//T/q//W/+j/yf90/xj/C/9b/2H/T//J/5j/bf+9/5L/t/8GAMP/3P8xADEA6P/o/yQA7v/J/7H/GABVAPr/SQAxAOj/EgBPAO4AGQGxAA0BlAEsAegADQHoACYBOAE4AV0BRAFQATIB9QAHATgBMgHoANYA1gDWAMoAnwClABkBpQC3APsATwAHAVUAGACMAB4ADAAGADEA7v8xAPr/Vf/W/4z/PP/P/3T/w//W/0//t/+9/wYAKgAGAAYA+v9JAOj/4v+3/4D/TwB6/4b/3P8S/yT/Sf8L/7z+2v6F/uH+8/75/mH/C/8w/0n/Z/8F/0//hv/z/jb/W/8S/7H/9P+Y/wAAyf/c/zcATwASAFUAMQBPAHQAz/8qAGIAKgBuAE8AEgBVAAYADAAeAEkAJAA3AEkAHgCxAOj/yf/o/73/nv+Y/3T/Z/9VAG3/Yf/P/9b/GACl/8P/3P8GABIAKgAAABgAWwAYAB4AMQA9AJkAmQAqAGIAqwBuAJkAsQDEAPUA4gCxAAEBEwGGAPsAygBbAKUAYgBiAJkAyf/u/08A+v9VAAAA6P+r/4b/Z//J/3r/Sf8eAEn/hv8xALf/pf/0/8P/PQAAAL3/WwA9AAYASQB0AID/GAAAAKv/NwDP/+7/JAAAAMn/+v8MAAYASQDi/6X/NwCr/6X/1v/5/nr/kv9n/23/JP9P/23/Sf9t/7H/Bf+M//T/t//6/0MANwD6/9b/KgBuAFUA6P/0/zcAq/8kAJ7/q/8YAMn/4v+3/73/z//W/z0AHgDc/1UAdACfADEANwBiAAwA+v8eAE8A7v/0/08ADACGAPsAegClAG4AQwClAEMAEgBoAB4AJAAxADEApQBoAMn/NwCfACoA1gBVAD0ApQASAHQASQAYAPT/QwA3AMn/TwCx/6v/6P+Y/wAAnv82/4z/7v+e/73/vf/W//T/t//c/73/SQBbAPr/9P8GADEAPQASAB4AVQDi/+L/BgC3/wAAvf+A/9b/q/9b/5L/jP8e/2H/Kv+M/8P/W/90/2f/nv+x/wAA+v/u/xgA1v8xAIwAmP/i/z0A4v8eAPr/hgAeAO7/1v/u/9z/sf+MACQA+v+MAPr/BgBVADEAegAMAEMAEgAeAMP/Sf90/0//ev9h/0n/JP8w/xj/JP82/zz/Hv9J/5L/vf/J/57/MQAkAKv/QwAqAFUAmQCTANAAkwDEAL0A9QC9AL0AMgEZAVcBAQHiABMBHwEBARkB3AB6AB8B6AABAeIAtwDKAIAAnwBuAKsAhgC3AJ8AQwB0AEkAYgAxAAYADADW/x4Asf+e/6X/Q/9b/zD/bf+A/4z/q/96/2H/bf90/2H/4v/0/zb/pf8AAL3/vf/D//T/DAAkABgADAC3/9b/NwBPAFUAMQAqAEkAWwBJAJ8AgABiAIYAGAD0/z0APQAMACoA4v90/57/gP9n/2H/Vf9V//n+PP+M/73/hv82/5j/1P4L/0n/hf4Y/87+7f4L//P+Q//C/mH/JP9t/4z/JP+Y/0P/Q/9t/57/Vf+9/73/t//i/23/pf+3/8n/pf83ABgA3P9iAJMAbgBoAGIABgBJADcAMQBDAPr/dAD1AIAAOAEBAdYAsgEfATIBRAHcAPUAPgHuAPUAXQHcAD4BVwG3ABMB3ABoAAEBbgCxAB8BjADWAIYAEwENAasAWwBbAG4Anv/i/6v/Yf90/4D/MP8q/zD/1P4Y/7b+tv4w/wv/Bf/D/4b///5V/w==\" type=\"audio/wav\" />\n",
              "                    Your browser does not support the audio element.\n",
              "                </audio>\n",
              "              "
            ],
            "text/plain": [
              "<IPython.lib.display.Audio object>"
            ]
          },
          "metadata": {},
          "execution_count": 150
        }
      ]
    },
    {
      "cell_type": "markdown",
      "metadata": {
        "id": "CPgPytoqbjF_"
      },
      "source": [
        "### Example from the train data"
      ]
    },
    {
      "cell_type": "code",
      "metadata": {
        "colab": {
          "base_uri": "https://localhost:8080/",
          "height": 92
        },
        "id": "HJ601_f6baUF",
        "outputId": "07266c39-e358-4b92-b94e-d968ea6bef4d"
      },
      "source": [
        "waveform, sample_rate, utterance, *_ = train_set[10]\n",
        "print(f\"Expected: {utterance}. Predicted: {predict(waveform)}.\")\n",
        "\n",
        "ipd.Audio(waveform.numpy(), rate=sample_rate)"
      ],
      "execution_count": 151,
      "outputs": [
        {
          "output_type": "stream",
          "name": "stdout",
          "text": [
            "Expected: backward. Predicted: backward.\n"
          ]
        },
        {
          "output_type": "execute_result",
          "data": {
            "text/html": [
              "\n",
              "                <audio controls=\"controls\" >\n",
              "                    <source src=\"data:audio/wav;base64,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\" type=\"audio/wav\" />\n",
              "                    Your browser does not support the audio element.\n",
              "                </audio>\n",
              "              "
            ],
            "text/plain": [
              "<IPython.lib.display.Audio object>"
            ]
          },
          "metadata": {},
          "execution_count": 151
        }
      ]
    },
    {
      "cell_type": "markdown",
      "metadata": {
        "id": "VThMbk2PbmZ9"
      },
      "source": [
        "### Example from the test data"
      ]
    },
    {
      "cell_type": "code",
      "metadata": {
        "colab": {
          "base_uri": "https://localhost:8080/",
          "height": 92
        },
        "id": "Rt-7LLx6bo4a",
        "outputId": "4bd68de5-fa0f-48ad-b87d-2075a337f04e"
      },
      "source": [
        "waveform, sample_rate, utterance, *_ = test_set[10]\n",
        "print(f\"Expected: {utterance}. Predicted: {predict(waveform)}.\")\n",
        "\n",
        "ipd.Audio(waveform.numpy(), rate=sample_rate)"
      ],
      "execution_count": 152,
      "outputs": [
        {
          "output_type": "stream",
          "name": "stdout",
          "text": [
            "Expected: right. Predicted: eight.\n"
          ]
        },
        {
          "output_type": "execute_result",
          "data": {
            "text/html": [
              "\n",
              "                <audio controls=\"controls\" >\n",
              "                    <source src=\"data:audio/wav;base64,UklGRiR9AABXQVZFZm10IBAAAAABAAEAgD4AAAB9AAACABAAZGF0YQB9AAAAAAAAAAAAAAAAAAAAAAAAAAAAAAAAAAAAAAAAAAAAAAAAAAAAAAAAAAAAAAAAAAAAAAAAAAAAAAAAAAAAAAAAAAAAAAAAAAAAAAAAAAAAAAAAAAAAAAAAAgAEAAIAAAAAAAAAAAAAAAAAAAAAAAAAAAAAAAAAAAAAAAAAAAAAAAAAAAAAAAAAAAAAAAAAAAAAAAAAAAAAAAAAAAAAAAAAAAAAAAAAAAAAAAAAAAAAAAAAAAAAAAAAAAAAAAAAAAAAAAAAAAAAAAAAAAAAAAAAAAAAAAAAAAAAAAAAAAAAAAAAAAAAAAAAAAAAAAAAAAAAAAAAAAAAAAAAAAAAAAIA/P/+/wAAAAAAAAAAAAAAAAAAAAAAAAQAAgAAAAAAAAAEAAIAAAAAAAAAAAAAAAAAAAAAAAAAAAAAAAAAAAAAAAAAAAAAAAAAAAAAAAAAAAAAAAAAAAAAAAAAAAAAAAAAAAAAAAAAAAAAAAAAAAAAAAAAAAAAAAAAAAAAAAAAAAAAAAAAAAAAAAAAAAAAAAAAAAAAAAAAAAAAAAAAAAAAAAAAAAAAAAAAAAAAAAAAAAAAAAAAAAAAAAAAAAAAAAAAAAAAAAAAAAAAAAAAAAAAAAAAAAAAAAAAAgD8//7/AAAAAAAAAAAAAAAAAAAAAAAAAAAAAAAAAAAAAAAAAAAAAAAAAAAAAAAAAAAAAAAAAAAAAAAAAAAAAAAAAAAAAAAAAAAAAAAAAgD8//7/AAAAAAAAAAAAAAAAAAAAAAAAAAAAAAAAAAAAAAAAAAAAAAAAAAAAAAAAAAAAAAAAAAAAAAAAAAAAAAAAAAAAAAAAAAAAAAAAAAAAAAAAAAAAAAAAAAAAAAAAAAAAAAAAAAAAAAAAAAAAAAAAAAAAAAAAAAAAAAAAAAAAAAAAAAAAAAAAAAAAAAAAAAAAAAAAAAAAAAAAAAAAAAAAAAAAAAAAAAAAAAAAAAAAAAAAAAAAAAAAAAAAAAAAAAAAAAAAAAAAAAAAAAAAAAAAAAAAAAAAAAAAAAAAAAAAAAAAAAAAAAAAAAAAAAAAAAAAAAAAAAAAAAAAAAAAAAAAAAAAAAAAAAAAAAAAAAAAAAAAAAAAAAAAAAAAAAAAAAAAAAAAAAAAAAAAAAAAAAAAAAAAAAAAAAAAAAAAAAAAAAAAAAAAAAAAAAAAAAAAAAAAAAAAAAAAAAAAAAAAAAAAAAAAAAAAAAAAAAAAAAAAAAAAAAAAAAAAAAAAAAAAAAAAAAAAAAAAAAAAAAAAAAAAAAAAAAAAAAAAAAAAAAAAAAAAAAAAAAAAAAAAAAAAAAAAAAAAAAAAAAAAAAAAAAAAAAAAAAAAAAAAAAAAAAAAAAAAAAAAAAAAAAAAAAAAAAAAAAAAAAAAAAAAAAAAAAAAAAAAAAAAAAAAAAAAAAAAAAAAAAAAAAAAAAAAAAAAAAAAAAAAAAAAAAAAAAAAAAAAAAAAAAAAAAAAAAAAAAAAAAAAAAAAAAAAAAAAAAIA/P/5//n//v8AAAAAAAAAAAAAAAAAAAIA/P/+/wAAAAAAAAAAAAAAAAAAAAAAAAAAAAAAAAAAAAAAAAAAAAAAAAAAAAAAAAAAAAAAAAAAAAAAAAAAAAAAAAAAAAAAAAAAAAAAAAAAAAAAAAAAAAAAAAAAAAAAAAAAAAAAAAAAAAAAAAAAAAAAAAAAAAAAAAAAAAAAAAAAAAAAAAAAAAAAAAAAAAAAAAAAAAAAAAAAAAAAAAAAAAAAAAAAAAAAAAAAAAAAAAAAAAAAAAAAAAAAAAAAAAACAPz/9//+/wAAAAAAAAAAAAAAAAAAAAAAAAAAAAAAAAAAAAAAAAAAAAAAAAAAAAAAAAAAAAAAAAAAAAAAAAAAAAAAAAAAAAAAAAAAAAAAAAAAAAAAAAAAAAAAAAAAAAAAAAAAAAAAAAAAAAAAAAAAAAAAAAAAAAAAAAAAAAAAAAAAAAAAAAAAAAAAAAAAAAAAAAAAAAAAAAAAAAAAAAAAAAAAAAAAAAAAAAAAAAAAAAAAAAAAAAAAAAAAAAAAAAAAAAQAAgAAAAAAAAAAAAAAAAAAAAAAAAAAAAAAAAAAAAAAAAAAAAAAAAAAAAAAAAAAAAAAAAAAAAAAAAAAAAAAAAAAAAAAAAAAAAAAAAAAAAAAAAAAAAAAAAAAAAAAAAAAAAAAAAAAAAAAAAAAAAAAAAAAAAAAAAAAAAAAAAAAAAAAAAAAAAAAAAAAAAAAAAAAAAAAAAAAAAAAAAAAAAAAAAAAAAAAAAAAAAAAAAAAAAAAAAAAAAAAAAAAAAAAAAAAAAAAAAAAAAAAAAAAAAAAAAAAAAAAAAAAAAAAAAAAAAAAAAAAAAAAAAAAAAAAAAAAAAAAAAAAAAAAAAAAAAAAAAAAAAAAAAAAAAAAAAAAAAAAAAAAAAAAAAAAAAAAAAAAAAAAAAAAAAAAAAAAAAAAAAAAAAAAAAAAAAAAAAAAAAAAAAAAAAAAAAAAAAAAAAAAAAAAAAACAPz//v8CAPn//v8AAAAAAAAAAAAAAAAAAAAAAAAAAAAAAAAAAAAAAAAAAAAAAAAAAAAAAAAAAAAAAAAAAAAAAAAAAAAAAAAAAAAAAAAAAAAAAAAAAAAAAAAAAAAAAAAAAAAAAAAAAAAAAAAAAAAAAAAAAAAAAAAAAAAAAAACAPz//v8AAAAAAAAAAAAAAAAAAAAAAAAAAAAAAAAAAAAAAAAAAAAAAAAAAAAAAAAAAAAAAAAAAAAAAAAAAAAAAAAAAAAAAAAAAAAAAAAAAAAAAAAAAAAAAAAAAAAAAAAAAAAAAAAAAAAAAAAAAAAAAAAAAAAAAAAAAAAAAAAAAAAAAAAAAAAAAAAAAAAAAAAAAAAAAAAAAAAAAAAAAAAAAAAAAAAAAAAAAAAAAAAAAAAAAAAAAAIABAACAAAAAAAAAAAAAAAAAAAAAAAAAAAAAAAAAAAAAAAAAAAAAAAAAAAAAAAAAAAAAAAAAAAAAAAAAAAAAAAAAAAAAAAAAAAAAAAAAAAAAAAAAAAAAAAAAAAAAAAAAAAAAAAAAAAAAAAAAAAAAAAAAAAAAAAAAAAAAAAAAAAAAAAAAAAAAAAAAAAAAAAAAAAAAAAAAAAAAAAAAAAAAAAAAAAAAAAAAAAAAAAAAAAAAAAAAAAAAAAAAAAAAAAAAAAAAAAAAAAAAAAAAAAAAAAAAAAAAAAAAAAAAAACAPz/9//+/wAAAAAAAAAAAAAAAAAAAAAAAAAAAAAAAAAAAAAAAAAAAAAAAAAAAAAAAAAAAAAAAAAAAAAAAAAAAAAAAAAAAAAAAAAAAAAAAAAAAAAAAAAAAAAAAAAAAAAAAAAAAAAAAAAAAAAAAAAAAAAAAAAAAAAAAAAAAAAAAAAAAAAAAAAAAAAAAAAAAAAAAAAAAAAAAAAAAAAAAAAAAAAAAAAAAAAAAAAAAAAAAAAAAAAAAAAAAAAAAAAAAAAAAAAAAAAAAAAAAAAAAAAAAAAAAAAAAAAAAAAAAAAAAAAAAAAAAAAAAAAAAAAAAAAAAAAAAAAAAAAAAAAAAAAAAAAAAAAAAAAAAAAAAAAAAAAAAAAAAAAAAAAAAAAAAAAAAAAAAAAAAAAAAAAAAAAAAAAAAAAAAAAAAAAAAAAAAAAAAAAAAAAAAAAAAAAAAAAAAAAAAAAAAAAAAAAAAAAAAAAAAAAAAAAAAAAAAAAAAAAAAAAAAAAAAAAAAAAAAAAAAAAAAAAAAAAAAAAAAAAAAAAAAAAAAAAAAAAAAgD8//7/AAAAAAAAAAAAAAAAAAAAAAAAAAAAAAAAAAAAAAAAAAAAAAAAAAAAAAAAAAAAAAAAAAAAAAAAAAAAAAAAAAAAAAAAAAAAAAAAAAAAAAAAAAAAAAAAAAAAAAAAAAAAAAAAAAAAAAAAAAAAAAAAAAAAAAAAAAAAAAAAAAAAAAAAAAAAAAAAAAAAAAAAAAAAAAAAAAAAAAAAAAAAAAAAAAAAAAAAAAAAAAAAAAAAAAAAAAAAAAAAAAAAAAAAAAAAAAAAAAAAAAAAAAAAAAAAAAAAAAAAAAAAAAAAAAAAAAAAAAAAAAAAAAAAAAAA/P/5//7/AAAAAAAAAAAAAAAAAAAAAAAAAAAAAAAAAAAAAAAAAAAAAAAAAAAAAAAAAAAAAAAAAAAAAAAAAAACAPz//v8AAAAAAAAAAAAAAAAAAAAAAAAAAAAAAAAAAAAAAAAAAAAAAAAAAAAAAAAAAAAAAAAAAAAAAAAAAAAAAAAAAAAAAAAAAAAA/v8EAAIAAAAAAAAAAAAAAAAAAAAAAAAAAAAAAAAAAAAAAAAAAAAAAAAAAAACAPz//v8AAAAAAAAAAAAAAAAAAAAAAAAAAAAAAAAAAAAAAAAAAAAAAAAAAAAAAAAAAAAAAAAAAAAA/v8EAAIAAAAAAAAAAAAAAAQAAgAAAAAAAAAAAAAAAAAAAAAAAAAAAAAAAAAAAAAAAAAAAAAAAAAAAAAAAAAAAAAAAAAAAAAAAAAAAAAAAAAAAAAAAAAAAAAAAAAAAAAAAAAAAAAAAAAAAAAAAAAAAAAAAAAAAAAAAAAAAAAAAAAAAAAAAAAAAAAAAAAAAAAAAAAAAAAAAAAAAAAAAAAAAAAAAAAAAAAAAAAAAAAAAAAAAAAAAAAAAAAAAgD8//f//v8AAAAAAAAAAAAAAAAAAAAAAAAAAAAAAAAAAAAAAAAAAAAAAAAAAAAAAAAAAAAAAAAAAAAAAAAAAAAAAAAAAAAAAAAAAAAAAAAAAAAAAAAAAAAAAAAAAAAAAAAAAAAAAAAAAAAAAAAAAAAAAAAAAAAAAAAAAAAAAAAAAAAAAAAAAAAAAAAAAAAAAAAAAAIA/P/+/wAAAAAAAAAAAAAAAAAAAAAAAAAAAAAAAAAAAAAAAAAAAAAAAAAAAAAAAAAAAAAAAAAAAAAAAAAAAAAAAAAAAAAAAAAAAAAAAAAAAAAAAAAAAAAAAAAAAAAAAAAAAAAAAAAAAAAAAAAAAAAAAAAAAAAAAAAAAAAAAAAAAAAAAAAAAAAAAAAAAAAAAAIA/P/+/wAAAAAAAAAAAAAAAAAAAAAAAAAAAAAAAAAAAAAAAAAAAAAAAAAAAAAAAAAAAAAAAAAAAAAAAAAAAAAAAAAAAAAAAAAAAAAAAAAAAAAAAAAAAAAAAAAAAAAAAAAAAAAAAAAAAAAAAAAAAAAAAAAAAAAAAAAAAAAAAAAAAAAAAAAAAAAAAAAAAAD+/wIAAgAAAAAAAAAAAAAAAAAAAAAAAAAAAAAAAAAAAAAAAAAAAAAAAAAAAAAAAAAAAAAAAAAAAAAAAAACAPz/9//+/wAAAAAAAAAAAgD8//n/+f/5//7/AAAAAAAAAAAAAAAAAAAAAAAAAAAAAAAAAAAAAAAAAAAAAAAAAAAAAAAAAAAAAAAAAAAAAAAAAAAAAAAAAAAAAAAAAAAAAAAAAAAAAAAAAAAAAAAAAAAAAAAAAAAAAAAAAAAAAAAAAAAAAAAAAAAAAAAAAAAAAAAAAAAAAAAAAAAAAAAAAAAAAAAAAAAAAAAAAAAAAAAAAAAAAAAAAAAAAAAAAAAAAAAAAAAAAAAAAAAAAPz//v8AAAAAAAAAAAAAAAAAAAAAAAD+//n//v8AAAAAAAAAAAAAAAAAAAAAAAAAAAAAAAAAAAAAAAAAAAAAAAAAAAAAAAAAAAAAAAAAAAAAAAAAAAAAAAAAAAAAAAAAAAAAAAAAAAAAAAAAAAAAAAAAAAAAAAAAAAAAAAAAAAAAAAAAAAAAAAD8//n//v8AAAAAAAAAAAAAAAAAAAAAAAAAAAAAAAAAAAAAAAAAAAAAAAAAAAAAAAAAAAAAAAAAAAAAAAAAAAAAAAAAAAAAAAAAAAAAAAAAAAAAAAAAAAAAAAAAAAAAAAAAAAAAAAAAAAAAAAAAAAAAAAAAAAAAAAAAAAAAAAAAAAAAAAAAAAAAAAAAAAAAAAAAAAAAAAAAAAAAAAAAAAAABAACAAAAAAAAAAAAAAAAAAAAAAAAAAAAAAAAAAAAAgACAAAAAAAAAAAAAAAAAAAAAAAAAAAAAAAAAAAAAAAAAAAAAAAAAAAAAAAAAAAAAAAAAAAAAAAAAAAAAAAAAAAAAAAAAAAAAAAAAAAAAAAAAAAAAAAAAAAAAAAAAAAAAAAAAAAAAAAAAAAAAgAAAAAAAgACAAIAAAAAAAIAAgAAAAAAAAACAAQAAAAAAAAAAgACAPz/+f/+//z/+f/5//n/+f/5//n//v8AAAAAAAAAAAAAAgAHAAQABAAHAAQABAAEAAQABAAEAAQAAgAAAAIA/P/+/wIA/P/3/wAA/v/5//n/9//+/wIA/P/+/wIA+f/5//7/AAAAAAAAAAAAAAAAAAAAAAIAAAAAAAQABwACAAAAAgACAAAAAAAAAAAAAAAAAAAAAAAAAAAAAAAAAAAAAAAAAP7/AAAAAAAAAAAAAAAAAAAAAAIAAgAAAAAAAAAAAAIAAAAAAAIAAAAAAAAAAAACAAQAAgD+/wAAAAAAAP7/BAAEAAIAAAAAAAIAAAACAPz//v8CAP7/+f/5//n/+f/+/wAAAAAAAAAAAAAAAAAAAAAAAAAAAgAEAAIABwAEAAQAAgAAAAAAAAAAAAAAAAAAAAAA/v8AAAIAAAD+/wIAAAAAAAIAAAAAAAAAAAACAPz//v8CAAAAAAAAAAAAAAACAAIAAAAAAP7/AgD5//z/AAD+/wAA+f/+//7/AAD8//7/AgD+/wIAAAACAAAAAAACAAIAAgAEAAQABwAHAAAAAgACAAAAAgD+/wAAAgAAAAAA/v/5//n/+f/8//f/9P8EAPz/8v8AAPz//v/8//z/AgAEAAIAAgACAAAADAD8/wQAAgAAAAkAAAAEAAIAAAACAAIA/P/+//7/+f8AAPz/+f/8//n/AAD8//n/AAD8//n//v/+/wIAAAAAAAAAAgAEAAAAAgAHAAIABAAHAAIAAgAAAAAAAAAAAAAAAAAAAAAAAAAAAAAAAgAAAAAAAAAAAAAAAAAAAAAAAAAAAAAAAAAAAAIAAAAAAAIA/P/+//z//v8CAP7/AgD8//7/AgD5//7/AAAAAAAAAAAAAAAAAAAAAAAAAAACAAAAAAAAAAIAAAAAAAAAAAAAAAAAAAAAAAAAAAAAAAAAAAAAAAIAAAAAAAIAAAD+/wQAAAD+/wQAAAACAAcAAAAAAAQAAAAAAAAA/v8AAAIAAAAAAAIA/v8CAAAAAgD8//z/AgD5//7/AAAAAAIAAgD8//7//P/8/wIA+f8AAAAA/v8AAAAAAAAAAAIAAAAAAAAABAACAP7/AAAAAAAAAAAAAAQAAgD+/wQABAD5/wAA/P/+/wAAAAAAAAAAAAAAAAAAAAACAPz//v/8//f//v8AAAAA+f/+/wIAAAAAAAAAAAD+/wAAAAAAAAAAAgACAP7/BAAEAAQAAgAAAAQAAgAAAAAAAAAAAAAAAAAAAAAAAAAAAAAAAAAAAAAAAAAAAAAAAAAAAAAAAAAAAAAAAAAAAAAAAAAAAAAAAAAAAAAAAAAAAAAAAAAAAAAAAAAAAAAAAAACAAIAAAAAAAAAAAAAAAAAAgAAAAAAAgD8//7/AAACAAAAAAAAAAIA/P/+/wAAAAAAAAAAAAAAAAAAAAACAAAAAgAAAAAAAgD+/wAAAAAAAAIAAAAAAAAAAAAAAAAAAgAAAAAAAgAAAAAAAAAAAPz//v8AAAAAAAACAAAAAAAAAAAA/P/+/wAAAAAAAAAAAAAAAAAAAAAAAAAAAAAAAAAAAAAAAAAAAAAAAAAAAAAAAAAAAAAAAAAAAAAAAAAAAAAAAAAAAAAAAAAAAAAAAAAAAAAAAAAAAAAAAAAAAAAAAAAAAAAEAAIAAAAAAAAAAAAAAAAAAAAAAAAAAAAAAAAAAAAAAAAAAAAAAAAAAAAAAAAAAAAAAAAAAAAAAAAAAAAAAAAAAAAAAAAAAAAAAAAAAAAAAAAAAAAAAAAAAAAAAAAAAAAAAAAAAAAAAAAAAAAAAAAAAAAAAAAAAAAAAAAAAAAAAAAAAAAAAAAAAAAAAAAAAAAAAAAAAAAAAAAAAAAAAAAAAAAAAAQAAgAAAAAAAAAAAAAAAAAAAAAAAAAAAAAAAAAAAAAAAAAAAAAAAAAAAAAAAAAAAAAAAAAAAAAAAAAAAAAAAAAAAAAAAAAAAAAAAAAAAAAAAAAAAAAAAAAAAAAAAAAAAAAAAAAAAAAAAAAAAAAAAAAAAAAAAAAAAAAAAAAAAAAAAAAAAAAAAAAAAAAAAAAAAAAAAAAAAAAAAAAAAAAAAAAAAAAAAAAAAAAAAAAAAAAAAAAAAAAAAAAAAAAAAAAAAAAAAAAAAAAAAAAAAAAAAAAAAAAAAAAAAAAAAAAAAAAAAAAAAAAAAAAAAAAAAAAAAAAAAAAAAAAAAAAAAAAAAAAAAAAAAAAAAAAAAgD8//7/AAAAAAAAAAAAAAAAAAAAAAAAAAAAAAAAAAAAAAAAAAAAAAAAAAAAAAAAAAAAAAAAAAAAAAAAAAAAAAAAAAAAAAAAAAAAAAAAAAAAAAAAAAAAAAAAAAAEAAIAAAAAAAAAAAAAAAAAAAAAAAAABAACAAAAAAAAAAAAAAAAAAAAAAAAAAAAAAAAAAAAAAAAAAAAAAAAAAAAAAAAAAAAAAAAAAAAAAAAAAAAAAAAAAAAAAAAAAAAAAAAAAAAAAAAAAAAAAAAAAAAAAAAAAAAAAAAAAAAAAAAAAAAAAAAAAAAAAAAAAAAAAAAAAAAAAAAAAAAAAAAAAAAAAAAAAAAAAAAAAAAAAAAAAAAAAAAAAAAAAAAAAAAAAAAAAAAAAAAAAAAAAAAAAAAAAAAAAAAAAAEAAIAAAAAAAAAAAAAAAAAAAAAAAAAAAAAAAAAAAAAAAAAAAAAAAAAAAACAPn//v8AAAAAAAAAAAAAAAAAAAAAAAAAAAAAAAAAAAAAAAAAAAAAAAAAAAAAAAAAAAAAAAAAAAAAAAAAAAAAAAAAAPz//v8AAAAAAAAAAAAAAAAAAAAAAAAAAAAAAAAAAAAAAAAAAAAAAAAAAAAAAAAAAAAAAAAAAAAAAAAAAAAAAAAAAAAAAAAAAAAAAAACAPz//v8CAAAAAAAAAAAAAAAAAAAAAAAAAAAAAAAAAAAAAAAAAAAAAAAAAAAAAAAAAAAAAAAAAAAAAAAAAAAAAAAAAAAAAAAAAAAAAAAAAAAAAAAAAAAAAAAAAAAAAAAAAAAAAAAAAAIA/P/5//z/+f/+/wAAAAAAAAAAAAAAAAAAAAAAAAAAAgD8//f//v8AAAAAAAAAAAAAAAAAAAAAAAAAAAAAAAAAAAAAAAAAAAAAAAAAAAAAAAAAAAAAAAAAAAAAAAAAAAAAAAAAAAAAAAAAAAAAAAAAAAAAAAAAAAAAAAAAAAAAAAAAAAAAAAAAAAAAAAAAAAAAAAAAAAAAAAAAAAAAAAAAAAAAAAAAAAAAAAAAAAAAAAAAAAAAAAAAAAAAAAAAAAAAAAAAAAAAAAAAAAAAAAAAAAAAAAAAAAAAAAAAAAAAAAAAAAAAAAAAAAAAAAAAAAAAAAAAAAAAAAAAAAAAAAAAAAAAAAAAAAAAAAAAAAAAAAACAPz/+f8AAPz//v8AAAAAAAAAAAAAAAAAAAAAAAAAAAAAAAAAAAAAAAAAAAAAAAAAAAAAAAAAAAAAAAAAAAAAAAAAAAAAAAAAAAAAAAAAAAAAAAAAAAAAAAAAAAAAAAAAAAAAAAAAAAAAAAAAAAAAAAAAAAAAAAAAAAAAAAAAAAAAAAAAAAAAAAAAAAAAAAAAAAAAAAAAAAAAAAAAAAAAAAAAAAAAAAAAAAAAAAAAAAAAAAAAAAAAAAAAAAAAAAAAAAAAAAAAAAAAAAAAAAAAAAAAAAAABAACAAAABAAEAAIAAAAAAAAAAAAAAAAAAAAAAAAAAAAAAAAAAAAAAAAAAAAAAAAAAAAAAAAAAAAAAAAAAAAAAAAAAAAAAAAAAAAAAAAAAAAAAAAAAAAAAAAAAAAAAAAAAAAAAAAAAAAAAAAAAAAAAAAAAAAAAAAAAAAAAAAAAAAAAAAAAAAAAAAAAAAAAAAAAAAAAAIAAAACAPz//v8CAAAAAAACAPz//P8EAAIAAAAAAAAABAACAAAAAAACAAQAAAAAAAAAAAAAAP7/AAAAAAAAAAAAAAAAAAAAAAAAAAAAAAAAAAAAAAAAAAAAAAAAAAAAAAAAAAAAAAAAAAAAAAAAAAD8//7/AAD+/wAAAAAAAAAAAgD8//n/AAAAAAIA/P/5//7/AAACAPz//v8AAAAA/P/5//7/AgAHAAIA+f/+/wAAAAAAAAAAAgAAAAAAAAACAAAA/v8CAAAAAgACAAAA/v8AAAIAAAAAAP7//v8CAAIA/v/3//7/AAAAAAAAAAAAAAAAAAACAAIABAAAAPz/+f/+/wIAAgAAAAAAAgAHAAIAAAAAAAAABAACAAAAAAAAAAIAAAAAAAAA/v8AAAIAAgAAAP7//v8CAAcAAgAAAAAA/v8CAAAAAAAAAAAAAgAAAAAAAAAAAAAAAAD8//z/+f/+/wIAAAACAP7/AAACAAAAAAAAAAAAAAACAAAAAAAAAAAAAAACAAIAAAAAAAAABAACAAAAAAD+/wIABwACAAAAAAAAAAAAAAACAAAAAAD+/wAAAAAAAAIAAAAEAAIAAAD8//7/AgAAAAAA/P/8//7/AAAAAAAAAAAAAAAAAAD+/wAAAAAAAAAAAgAAAAAAAAAAAP7/AAACAP7/AAAAAAAA/P/5//7/BAAEAAIAAAD8//7/AAAAAAAAAAACAAAA/P/3//7/AgAAAAAA/P/+/wIA/v8AAP7/AgAAAAAA/P/3/wAAAAAAAAAA/v8AAAAAAAAAAAIABwACAAAAAAAAAAAAAAAAAAAAAAACAAIAAAACAAAAAAAAAAAABAAEAPz/+f/5/wAAAAD8//7//v8EAAQA/P/3//7/AAAAAAAAAAD8//7/AAAAAAAAAAAAAP7/BAAEAAIAAAD+/wQAAgACAPz//v8AAP7/AAAAAAAAAAAAAAAA/v8AAAIAAAACAAAAAAAAAP7/AAACAAAAAAACAAAAAgD8//f//v8AAAQAAgD8//n//v8CAAIAAAAAAAIAAAACAAAAAAD+//n//v/+/wIABAD8//7/AgAHAAIA/P/5//7/AgAEAP7/+f/+/wIABAAAAAIAAAACAAIAAAAAAAIABwAAAAAAAAAAAAIA+f/+/wAAAgACAAAA/P/+/wIAAAD8//f//v8AAAAAAAAAAAAAAAAAAAAAAAAAAAAAAAAAAAAAAAAAAAAAAgACAPz//P8EAAQABAD8//7/AgAAAAIA/P/5//7/BAAEAAIAAAAAAAAABAACAAAAAAAAAAIAAAAAAAAAAAAAAAAAAAACAAIAAAAAAP7/AAAAAAAAAAAAAAAAAAAAAAAAAgD8//z/AgAEAAIAAAACAAAAAAAAAAAAAAAAAAAAAAAAAAAAAAAAAAAAAAAAAAAAAAAAAAAAAAAAAAAAAAAAAAAAAgAAAPz/+f/+/wAAAAAAAAAAAAACAAAAAAAAAAAAAAAAAAAAAAAAAAAAAAAAAAAAAAAAAAAAAAAAAAIA/v/5//7/AAAAAAIAAAAAAAAAAAAAAAAAAAAAAAAAAAAAAAAAAgAAAAAAAAACAAIAAAACAAAAAAAAAAAAAgAAAAAAAAAAAAAAAAAAAAAAAAAAAAAAAAAAAAAAAAAAAAAAAAAAAAAAAAAAAAAAAAACAAAAAAAAAAAAAgAAAAAAAAAAAAAAAAACAAQAAAAAAAAAAAAAAAIAAAAAAAAAAAAAAAAAAAAAAAIA/P/5//n//v8AAAAAAgD8//7/AAAAAAAAAAD+/wAAAAAAAAAAAAAAAAAAAAAAAAAAAAAAAAAAAAAAAAAAAAAAAAAAAgAEAAIAAAAAAAAABAAAAAAAAgAAAAAAAAAAAAAAAgAAAAAA+f/+/wIAAAAAAAAAAAAAAAAAAgD8//7/AAAAAAIA/P/5/wAAAAD+/wAAAAAAAAIAAAAAAAAAAAAAAAIAAAAAAAIAAgD+/wAAAgAAAAAAAAAAAAAAAAD+/wAABAAEAAAA/v/+/wQABAD8//n//v8CAAAA/P/3//7/AgACAP7/+f8EAAkA/v/w/+3//P8AAPz/9/8AAAwADAAHAAAAAAAEAAkAAgD8/wIABwAOAAcAAAAAAAQABAD+//f/9P/5//z//P/3//f//v/+//f/9//3//z/AAAAAAIABAACAAIAAAAAAP7/AAACAAIAAgACAAIABAAHAAIAAAAAAAQA/v/+/wIAAAACAAAAAAAAAAIA/v/5//7/AAAAAAIA/P/+/wIAAgD8//f//v/+/wAA/v/+/wIAAAD+/wIAAgACAAAAAAD+/wAABAACAAQABAAHAAkABwACAP7/BAAAAPf//v8AAAIA/P/5//f//P8AAPz//v8AAPz/+f/8//n//P/+/wAAAAACAAIABAAEAAAABAAHAAIAAgD+//7/AgD8//n/+f/+/wIA/v8AAP7/AgAHAAIAAgACAAQABAAEAAIABAAHAAQACQAEAAQABAD8//z//P/3//D/8P/0//n/9//y//T/9//3//n/9//8/wAABAAEAAcABwAHAAkACQAJAAkABAAHAA4ADAAHAAQABwAEAP7/+f/5//f/9//0//n/9//5//7/+f/3//L/9//5//T/9//8//7/AAAAAAAABAAHAAQAAgAAAAIAAAACAAAA/v8AAAAABAAEAAQABwAEAAQAAAAEAAQABAACAAAAAgAEAAQAAgACAAAAAAD8//z/9//0//f/9P/3//z/+f8AAPn/+f/5//7/AAD8/wAAAgAEAAcACQAJAAkACQAOAAwABwAHAAcABAAHAAQABwAEAAIA/v/8//7//P/5//T/9P/5//z/9//0//f/+f/5//n//v8AAAAAAAAAAAAAAgAAAAAAAgAAAAQABAACAAAAAAAAAAAAAAAAAAAAAgAAAP7/AgAEAAIAAAAAAAIAAAAAAAIAAAAAAPz/AAD+//f/+f/3/wAAAAAAAPz//P/8//n/+f/+/wIAAAD+/wAAAAAAAAAAAAAAAAIAAAAAAAQABAAEAAIABAAEAAQABAAAAAAAAgACAAcAAgACAAQABAACAAAAAAAAAAAAAgAAAAAAAgACAAAAAAD+//7/AAAAAP7/+f/8//n//P/5//n//v8AAAAAAAAAAAAAAgAAAAIABAACAAAAAgAEAAQABAAJAAcABAAHAAcAAgAAAAIA/v/8//z//P/5//7/AgACAPz/+f/5//n//P/8//n//v8AAAAA/P/3/wAAAgAAAAAAAAAAAAAAAAACAAIAAgACAP7//P/8//z//P/5//z/9//+/wAAAAAAAP7/AAACAAQAAgAEAAQABwACAP7/AAAAAAAAAAAAAAAAAAAAAAAAAgACAAAAAAAAAAIAAAAAAAIAAAAAAAIAAgAAAAAAAAAEAAQABAAHAAQABwACAAAAAAAAAAAAAAACAAIAAAACAAAAAAACAAAAAgAEAAQABwAHAAIAAAAAAAAAAAAAAPz/+f/+/wAAAAACAAIA/v/5//n//P/5//n/+f8AAAAAAAAAAAAAAgAAAAIAAgAAAAIAAAAAAAAAAAAAAAAAAAAAAAAAAAACAP7/+f/8//z/+f/5//n//v/8//7/AgD+/wIABAACAAcABwAEAAQAAgAAAAQAAgAAAAIAAAAAAAAAAAACAAAAAAAAAAAAAAACAAAAAAAAAAAAAAAAAAAAAAAAAAAAAAAAAAAAAAAAAAAAAAAAAAAAAgAAAAAAAgACAAAA+f/+/wIAAAAAAAAAAAAAAAIAAAAAAAAAAAAAAAAABAACAAAAAgACAAAAAgD8//7/AgACAPz/+f/5//7/AgD5/wAA/v/3//7/AAAAAAAAAAAAAAAAAAAAAAQABAAEAAQAAgAAAAAAAAACAAAAAgAAAAAAAAAAAAAAAAAAAAAAAAAAAAAAAAACAAAAAAAAAAAAAAAAAAIAAAACAPz/9//+/wAAAAAAAAAAAAAAAAIAAAAAAAAAAAACAAAAAAAAAAAAAAACAAIAAAAAAAAAAAACAAAAAAACAAAAAAAAAAAAAAAAAAAAAgACAAIA/P/8//n//v8AAAAAAAAAAAAAAAAAAAIA/P/+/wAAAAACAAAAAAAAAAAAAAAAAAIAAAACAPz//v8AAAAAAgAAAAIAAAAAAAAAAAAAAAAAAAAAAAAAAAAAAAAAAAAAAAIAAAAAAAAAAAAAAAAAAgAAAAAAAgAAAAAAAAAAAAAAAAAAAAAAAAAAAAAAAAAAAAIAAAAAAAIAAgAAAAIAAgAAAAIAAAAAAAAAAAAAAAAAAAAAAAAAAAAAAAAAAgAAAAAAAAAAAAAAAAAAAAQABAAEAAcAAgAAAAAAAAACAAAAAAAAAAAAAAAAAAAAAAACAP7/+f/5//7/AAAAAAAAAAACAAAAAgAAAAAAAAAAAAAAAAAAAAAAAAAAAAAAAAAAAAAAAAAAAAAAAAAAAAIA/P/+/wAAAAAAAAAAAAAAAAAAAAAAAAIAAAAAAAAAAAAAAAAAAAAAAAIAAAAAAAAAAAAAAAAAAAAAAAAAAAAAAAAAAAAAAAAAAAAEAAQABAACAAAAAAAAAAAAAAAAAAAAAAAAAAAAAAAAAAAAAAAAAAAAAAAAAAAAAAAAAAIA/P/3//7/AAAAAAAAAAAAAAAAAAAAAAAAAAAAAAAAAAACAPz//v8AAAAAAAAAAAAAAAAAAAAAAAAAAAAAAAAAAAAAAAAAAAAAAAAAAAAAAAAAAAAAAAAAAAAAAAAAAAAAAAAAAAAAAAAAAAAAAAAAAAAAAAAAAAAAAAAAAAAAAAAAAAAAAAAAAAAA/v8EAAAAAgACAAAAAgAAAAAAAAAAAAAAAAAAAAAAAAAAAAAAAAAAAAAAAAAAAAAAAAAAAAAAAAAAAAAAAAAAAAAAAAAAAAAAAAAAAAAAAAAAAAAAAAAAAAAAAAAAAAAAAAAAAAAAAAAAAAAAAAAAAAAAAAAAAAAAAAAAAAAAAAAAAAAAAAAAAAAAAAAAAAAAAAAAAAAAAAAAAAAAAAAAAAAAAAAAAAAAAAAAAAAAAAAAAAAAAAAAAAAAAAAAAAAAAAAAAAAAAAAAAAAAAAAAAAAAAAAAAAAAAAAAAAAAAAAAAAAAAAAAAAAAAAAAAAAAAAAAAAAAAAAAAAAAAAAAAAAAAAAAAAAAAAAAAAAAAAAAAAAAAAAAAAAAAAAAAAAAAAAAAAAAAAAAAAAAAAAAAAAABAACAAAAAAAAAAAAAAAAAAAAAAAAAAAAAAAAAAAAAAAAAAAAAAAAAAAAAAAAAAIABwACAAAAAAACAP7/9/8AAPz//v8AAAAAAAAAAAAAAAAAAAAAAgD8//n/+f/5//7/AAAAAAAAAAAAAAAAAAAAAAAAAAAAAAAAAAAAAAAAAAAAAAAAAAAAAAAAAgAAAAAAAAAAAAAAAAAAAAAAAAAAAAAAAAAAAAIAAAAAAAAAAAAAAAAAAAAAAAAAAAAAAAAAAAAAAAAAAAAAAAAAAAD+/wIABAAEAAQABAACAAAAAgAAAAAAAAAAAAAAAAAAAAQAAgAAAAAAAAAAAAAAAAAAAAAAAAAAAAAAAAAAAAAAAAAAAAAAAgD8//7/AAAAAAAAAAAAAAAAAAAAAAAAAAAAAPz/+f/+/wAAAAAAAAAAAAAAAAAAAAACAP7/+f/5//n//v8AAAAAAAAAAAAAAAAAAAAAAAAAAAAAAAAAAAAAAAAAAAAAAAAAAAAAAAAAAAAAAAAAAAAAAAAAAAAAAAAAAAAAAAAAAPz//v8AAAAAAgAAAAAAAAAAAAAAAAAAAAAAAAAAAAAAAAAAAAAAAAAAAAAAAAAAAAIAAgAAAAAAAAAAAAAAAAAAAAAAAAACAAAABAAAAAIAAgAAAAAAAAAAAAAAAAAAAAIAAAAAAAAAAAAAAAAAAAAAAAAAAAAAAAAAAAAAAAAAAAAAAAAAAAAAAAAAAAACAPz//v8AAAAAAAAAAAAAAAAAAAAAAAAAAAAAAAAAAAAAAAACAAAAAAAAAAAAAAAAAAIA/P/5//n/+f/+/wAAAAAAAAAAAAAAAAAAAAAAAAAAAAAAAAAAAAAAAAAAAgACAAAAAAAAAAAAAAAAAAAAAAAAAAAAAgAAAAAAAAAAAAAAAgAAAAAAAAAAAAAAAAAAAAAAAAAAAAAAAAAAAAAAAAAAAAAAAAAAAAQAAgAAAAAAAAAAAAAAAAAAAAAAAAAAAAAAAAAAAAAAAAAAAAAAAAAAAAAAAAAAAAAAAAAAAAAAAAAAAAAAAAAAAAAAAAACAPz//v/8//z/AgAAAAAAAAAAAAAAAAAAAAAAAAAAAAAAAAAAAAAAAAAAAAAAAAAAAAAAAAAAAAAAAAAAAAAAAAAAAAAAAAAAAAAAAAAAAAAAAAAAAAAAAAAAAAAAAAAAAAAAAAAAAAAAAAAAAAAAAAAAAAAAAAACAPz//v8AAAAAAAAAAAAAAAAAAAAAAAAAAAAAAAAAAAAAAAAAAAAAAAAAAAQAAgAAAAAAAAAAAAAAAAAAAAAAAAAAAAAAAAAAAAAAAAAAAAAAAAAAAAAAAAAAAAAAAAAAAAAAAAAAAAAAAAAAAAAAAAAAAAAAAAAAAAAAAAAAAAAAAAAAAAAAAAAAAAAAAAAAAAAAAAAAAAAAAAAAAAAAAAAAAAAAAAAAAAAAAAAAAAAAAAAAAAAAAAAAAAAAAAAAAAAAAAAAAAAAAAAAAAAAAAAAAAAAAAAAAAAAAAAAAAAAAAAAAAAAAAAAAAAAAAAAAAAAAAAAAAAAAAAAAAAAAAAAAAAAAAAAAAAAAAAAAAAAAAAAAAAAAAAAAAAAAAAAAAAAAAAAAAAAAAAAAAAAAAAAAAAAAAAAAAAAAAAAAAAAAAAAAAAAAAAAAAAAAAAAAAAAAAAAAAAAAAAAAAAAAAAAAAAAAAAAAAAAAAAAAAAAAAAAAAAAAAAAAAIA/P/5//n//v8CAPn//v8AAAAAAAAAAAAAAAAAAAAAAAAAAAAAAgD8//7//v/3//7/AAAAAAAAAAAAAAAAAAAAAAAAAAAAAAAAAAAAAAAAAAAAAAAAAAAAAAAAAAAAAAAAAAAAAAAAAAAAAAAAAAAAAAAAAAAAAAAAAAAAAAAAAAAAAAAAAAAAAAAAAAAAAAAAAAAAAAAAAAAAAAAAAAAAAAAAAAAAAAAAAAAAAAAAAAAAAAAAAAAAAAAAAAAAAAAAAAAAAAAAAgACAPz/+f/+/wAAAAAAAAAAAAAAAAAAAAAAAAAAAAACAPz//v8AAAAAAAAAAAAAAAAAAAAAAAAAAAAAAAAAAAAAAAAAAAAAAAAAAAAAAAAAAAAAAAAAAAAAAAAAAAAAAAAAAAAAAAAAAAAAAAAAAAAAAAAAAAAAAAAAAAAAAAAAAAAAAAAAAAAAAAAAAAAAAAACAAIAAAAAAAAAAAAAAAAAAAAAAAAAAAAAAAAAAAAAAAAAAAAAAAAAAAAAAAAAAAAAAAAAAAAAAAAAAAAAAAAAAAAAAAAAAAAAAAAAAAAAAAAAAAAAAAAAAAACAPz/+f/5//n/+f/5//7/AAAAAAIA/P/+/wAAAAAAAAAAAAAAAAAAAAAAAAAAAAAAAAAAAAAAAAAAAAAAAAAAAAACAAIA/P/5//n//v8AAAAAAAAAAAAAAAAAAAAAAAAAAAAAAAAAAAAAAAAAAAAAAAAAAAAAAAAAAAAAAAAAAAAAAAAAAAAAAAAAAAAAAgAEAAQABAACAAAAAgAAAAAAAAAAAAAAAAAEAAIAAAAAAAAAAAAAAAQAAgAAAAAAAAAAAAAAAAAAAAAAAAAAAAAAAAAAAAAAAAAAAAAAAAAAAAAAAAAAAAAAAAAAAAAAAAAAAAAAAAAAAAAAAAAAAAIA/P/5//n//v8AAAAAAAAAAAAAAAAAAAAAAAAAAAIA/P/5//n/9//+//7/AAACAAAAAgACAAAAAAAAAAAAAAAAAAAAAAAAAAAAAAAAAAAAAAAAAAAAAAAAAAAAAAAAAAAAAAAAAAAAAAAAAAAAAAAAAAAAAAAAAAAAAAAAAAAAAAAAAAAAAAAAAAAAAgD8//n//P/5//7/AAAAAAIAAAAAAAAAAAAAAAAAAAAAAAAAAAACAPz//P8AAAAAAAAAAAAAAAACAAAAAAAAAAAAAAAAAAAAAAAAAAAAAAAAAAQAAgAAAAIAAAAAAAAA/v8CAAIAAAAAAAAAAAAAAAAAAAACAAQABAAEAAQAAAAEAAQABAACAAAABAACAAAAAAAAAAAAAAAAAAAAAAAAAAAAAAAAAAIAAAAAAAAAAAAAAAAAAAAAAAAAAAAAAAAAAAACAPz/+f/8//z/+f/5//7/AAAAAAAAAAAAAAAAAAACAPz/+f/5//n/+f/5//n/9//+/wAAAAACAAAAAAAAAAAAAAACAP7/+f/+/wAAAAAAAAAAAAAAAAAAAAAAAAAAAAAAAAAAAAAAAAAAAAACAAQABAAAAAAAAAAAAAAAAAAAAAAAAAAAAAAAAAAAAAAAAAAAAAAAAAAAAAAAAAAAAAAAAAACAAIAAAAAAAAAAAD5//7/AgAAAAAAAAAAAAAAAAAAAAAAAAACAAIA/P/5//z//P/5//n/9//+/wAAAAAAAAAAAAAAAAAAAAACAAAAAAACAAIAAAAAAAAAAAAAAAAABAAAAAIABAAEAAcAAgAAAAIAAAACAAIAAAAAAAAAAAAAAAAAAAAAAAAAAAAAAAAAAAAAAAAAAAAAAAAAAAAAAAAAAAAAAAAAAAAAAAIAAgAAAAIA+f/+/wAA/v8AAAAAAAAAAAAAAgAAAAAAAAAAAAAAAAACAAAAAAACAAAAAAAAAAAAAAD+/wAAAgAAAAAAAAD+/wIABAAEAAIAAAACAAAAAgAAAAAAAgAAAAAAAAAAAAAAAAACAAIAAAD+/wAAAAAAAAAA/v8AAAAAAAACAAAAAAAAAAAAAAAAAAIA/P/5//n//P8AAP7/AgAAAAAAAAAAAAIAAAD+/wAAAAAAAAAAAAAAAAIAAAD+/wAAAAAAAAAAAgAAAAIAAgAAAAAA/v8AAAAAAgAEAAAABAACAAAAAAAAAAQAAAACAAIAAAACAP7/AAAAAAAAAgAEAAQAAgAAAAAAAgD+//n/AAD8//f//v8AAAAAAAACAAAAAgD8//n/+f/5//n/+f/8//z/+f8AAPz/+f/5//n/+f/3//7/AAAAAAQA/P/+/wAAAAAAAAAAAgAAAAAAAAAAAAAAAAACAAAAAAAEAAcABAACAP7/BAAEAAIAAAAEAAIAAAAAAAIABAAEAAQABAAEAAAAAAAAAAIABAAEAAQABAAHAAIAAAAAAAAAAAD+/wAAAAAAAAAAAAAAAAAAAAAAAAAAAAAAAAAAAAAAAAAAAAAAAAAA/v/5//n/+f/+/wAAAAAAAPz/+f/8//z/+f/3//7//v/+/wIA/P/+/wAA/P/5/wAA/P/+/wAAAAAAAAAAAAAAAAAAAgACAAAAAAAAAAAAAAD+/wAAAgAAAP7/BAAEAAIABAACAAQABwACAAAAAgAAAAAAAAAAAAAAAgAEAAQABwAEAAIAAgACAAIAAAACAPz//P8CAAAAAAAAAAIAAAAAAP7/AAAAAPz//P/5//7//v/5//n//v8AAAAAAAAAAAAAAAACAPz/+f/8//n/+f/3//7/AAAAAAAAAAAAAAIA/P/5//z//P/5//n/+f/5//7/AAAAAAAAAAAAAAAAAAACAAAAAgD8//7/AAAAAAIAAAAAAAAAAAAAAAAAAAAAAAAAAAAAAAAAAgAEAAQABAAEAAIAAAACAAIAAgAAAAAAAAAAAAAAAAAAAAIABAAEAAQABAACAAAAAAAAAAAAAAAAAAAAAAAAAAQAAgAAAAAAAAAAAAAAAAAAAAAAAAAAAAAAAAAAAAAAAAAAAAIAAAAAAAIA/P/5//n//v8AAAAAAAAAAAIAAAAAAAAAAgD8//n/+f/5/wAA/P/+/wAAAAACAAAAAAAAAAAAAAAAAAAAAAAAAAAAAAAAAAAAAAAAAAAAAAAAAAAAAAAAAAAAAAAAAAAAAgACAAAAAAAAAAAAAAAAAAAAAgAEAAIAAAAAAAAAAAAAAAAAAAACAAIAAAAAAAAAAAAAAAAAAAAAAAAAAAAAAAAAAAAAAAAAAgAAAAIAAAAAAAAAAAAAAAAAAAAAAAAAAAAAAAAAAAAAAAAAAAAAAAAAAAAAAAAAAAAAAAAAAAAAAAAAAAAAAAAAAgACAAAAAAAAAAAAAAAAAAAAAAAAAAAAAAACAAIAAgD+//n/+f/+/wIAAAAAAAAAAAAAAAAAAAAAAAAAAgAAAAAAAAAAAAAAAAAAAAAAAAAAAAAAAAAAAAAAAAAAAAAAAAACAAAAAAAAAAAAAAAAAAAAAAAAAAAAAAAAAAAAAAAAAAAAAAAAAAAAAAAAAAAAAAAAAAAAAAAAAAAAAAAAAAAAAAAAAAAAAAAAAAAAAAAAAAAAAAAAAAAAAAAAAAAAAAAAAAAAAAAAAAAAAAAAAAAAAAAAAAAAAAAAAAAAAAAAAAAAAAAAAAAAAAAAAAAAAAAAAAIA/v/5//z/+f/+/wAAAAAAAAAAAAAAAAAAAAAAAAAAAAAAAAAAAAAAAAAAAAAAAAAAAAAAAAAAAAAAAAAAAAAAAAAABAACAAAAAAAAAAAAAAAAAAAAAAAAAAAAAAAAAAAAAAAAAAAAAAAAAAAAAAAAAAAAAAAAAAAAAAAAAAAAAAAAAAAAAAAAAAAAAAAAAAAAAAAAAAAAAAAAAAAAAAAAAAAAAAAAAAAAAAAAAAAAAAAAAAAAAAAAAAAAAAAAAAAAAAAAAAAAAAAAAAAAAAAAAAAAAAAAAAAAAAAAAAAAAAAAAAAAAAAAAAAABAACAAAAAAAAAAAAAAAAAAAAAAAAAAAAAAAAAAAAAAAAAAAAAAAAAAAAAAAAAAAAAAAAAAAAAAAAAAAAAAAAAAAAAAAAAAAAAAAAAAAAAAAAAAAAAAAAAAAAAAAAAAAAAAAAAAAAAAAAAAAAAAAAAAAAAAACAAAAAAAAAAAAAAAAAAIA/P/+/wIAAAAAAAAAAAAAAAAAAAAAAAAAAAAAAAIA/P/+/wAAAAAAAAAAAAAAAAAAAAAAAAAAAAAAAAAAAAACAAAAAAAAAAAAAAAAAAAAAAAEAAQABAACAAAAAAAAAAAAAAAAAAAAAgAAAAQAAgAAAAAAAAAAAAAAAAAAAAAAAAAAAAAAAAAAAAAAAAAAAAIABAAAAAIABwACAAAAAAAAAAAAAAAAAAAAAAAAAAAAAAAAAAIA/P/5//n/9//+/wAAAgD+//f/AAD8//f//v8AAAAAAAAAAAAAAAAAAAAAAAAAAAAAAAAAAAAAAAAAAAAAAAAAAAAAAAAAAAAAAAAAAAAAAAAAAAAAAAAAAAAAAAAAAAAAAAAAAAAAAAAAAAAAAAAAAAAAAAAAAAAAAAAAAAAAAAAAAAAAAAAAAAAAAAAAAAAAAAAAAAAAAAAAAAAAAAAAAAAAAAAAAAAAAAAAAAAAAAAAAAAAAAAAAAAAAAAAAAAAAAAAAAIAAgACAAIA/P/5//n/+f/+/wAAAAAAAAAAAAAAAAAAAAAAAAAAAAAAAAAAAAAAAAAAAAAAAAAAAAAAAAAAAAAAAAAAAAAAAAAAAAAAAAAAAAAAAAAAAAAAAAAAAAAAAAAAAAAAAAAAAAAAAAAAAAAAAAAAAAAAAAAAAAAAAAAAAAAAAAAAAAAAAAAABAAEAAQAAgAAAAAAAAAAAAIA/v/5//z/9//+/wAAAAAAAAAAAAAAAAAAAAACAPz//v8AAAAAAAAAAAAAAAAAAAAAAAAAAAAAAAAAAAAAAAAAAAAAAAAAAAAAAAAAAAAAAAAAAAAAAAAAAAAAAAAAAAAAAAAAAAAAAAAAAAAAAAAAAAAAAAAAAPz/+f/+/wAAAAAAAAAAAAAAAAAAAAAAAAAAAAAAAAIAAgAAAAAAAAAAAAAAAAAAAAAAAAAAAAAAAAAAAAAAAAAAAAAAAAAAAAAAAAAAAAAAAAAAAAAAAAAAAAIA/P/+/wAAAAAAAP7/BAAHAAIAAAAAAAIA/v/5//n/9//+/wAAAAAAAAAABAACAAAAAAAAAAAAAAAAAP7/AgAEAAQABAAEAAQABAACAAAAAAACAPz/+f/5//n/9//+/wAAAAAAAAAAAgD8//n/9//8/wAA/v8CAAcABwAHAAQABwAHAAcACQAEAP7//P/8//z//v8AAAAAAAAAAPz/+f/3//T/9P/0//T/9//5//f//P8CAAQAAgACAP7//P/8//n/AAACAAQACQAOABAADgAJAAcA/v/8//z/+f/5//7/AAAAAAQABAACAAIA+f/3//T/8P/w/+3/8P/3/wAABAAHAAcABwAJAAQAAAAAAAAA/v8AAAQABwAMABAAEwAOAAkACQD+//f/9P/0//f/9//0//z//v8EAAkAAgACAPz/+f/3//L/9P8AAAIAAgAHAAkACQAMAAkABwAHAAAA/v/+//n//v8CAAAAAAAAAPn/9//3//f/9P/0//f/9P/8/wAABAAJAAkABwACAAIAAgAEAAQACQAQABAADgAJAAwACQAAAPT/8v/t//D/7f/o/+v/6//t//L/9/8AAP7/9P/3//7/AgAHABMAFQAfACEAKQArACkAHwAVABAAAAD8/+3/4//h/+H/3P/c/9//3//X/9L/1f/S/9L/2v/o//n/DgAfADIAPABGAEMAQQA8ADcAKwAdABoAHwAfABgADgAAAPf/4f/J/7j/rv+s/6z/sP+//9L/3P/r//D/8P/0//n//v8CAAkAGgArADoAQwBIAEYAQwA3ACYAGgAOAAkACQAJAAwAEAATAA4AAgD3/+3/6P/h/9r/1//V/9r/2v/h/9z/2v/c/9z/1//Q/9X/2v/j/+3//v8MABoAJgAyADUAPAA/AEEARgBIAE0ATQBQAEYAQQA1ACQAEwD5/+b/0v/E/7P/ov+b/4//jP+F/4X/h/+T/6L/rP/B/9f/9/8QACkANQBLAFkAYwBvAHkAggCFAIIAfgB5AGoAWQA8ACQAAgDr/9D/v/+u/6L/n/+b/5v/k/+b/5j/m/+b/6f/sP+//8n/4//5/xUAKQA1AD8APwBDAEEAQwA8AD8APwBIAEYAQwBDAD8AMAAkABAAAgD3//L/8P/r/+3/7f/w/+3/4//h/+H/1//L/8H/wf/J/87/1f/f/+b/6P/o/+3/7f/3/wAACQAOABUAHQAuADoAPAA/AD8AQQAwADAAIQAkABUAEwAEAAQA/P8CAPf/8P/r/+b/3//a/9f/y//S/9X/4f/m/+v/7f/0//T//P/5//z/AAAJAAwAEwAYABgAGgAYABMAEwAVABMADgAOABUAEwAVABMAHQAOABMADAAQAAAAAgD8//T/8P/r//D/4f/c/9L/2v/S/9r/0P/V/87/4f/j//D/6//5/wcAEwAfACEAMgApAEEANQBGADAAPwApACkAEwAQAP7/8v/h/8v/1/+//8b/s//E/67/yf+//9D/y//X/+P/9/8EAAkAJAAhAD8AOgBQAD8ASAA1ADwAKQAfAA4AAAD0/+P/3//L/9L/xv/S/8n/1//X/+H/4f/r//L/AAAVACQAOgBDAFAATQBQAEYAPwAuACEAEwACAPn/6P/j/9//4f/j/+H/4f/h/9z/2v/h/+H//P/+/xAADgAmAB0AMgAhAC4AHQAaABUAEAAOAPz/BwDw/wkA7f8JAOb/+f/h//T/4f/t//T/9P8AAPT/DgAAABUAAAAfAPn/FQDy/wcA3//o/9z/6//o/+H//P/m//n/1//3/9r/9//j/wQA9P8HAAwABwAJAAAAJgAfACYADAAOAPL/9//5/w4ABwAQAAkABADy/+j/7f/w/+P/6P/3//z/AAAEAAQAAAAAAPn/AgD8/wIAAgACAP7/BwD8/wAAAgD8/wAACQAaADwAbwCgAOgAIAFmAZcBwwHbAekBzwG5AXUBIwG9AD8Ap/8J/1b+m/3g/Bz8aPu8+i/6wPmI+Yb52Pl6+oP78fzM/gUBlANdBjoJ/gt1DmYQpBECEmcRyw8mDaIJUwV+AFr7MvZM8fXsWem+5jHlxuSG5U7nA+p47XrxyPU3+nr+gAL/BewIKQueDE0NPA1hDOAK0gg+BmYDYQBm/av6cfjj9gf2tPXz9Z/2tvdL+U77lv38/08CagQ0BgMIcAo3DZgPzhAhEdgQJBABD80NBQxtCf8F/wHk/bL6p/mL+rH7C/wJ/Y//dwOxB5gLow4cEUITuRUDGcMe0igJNds9ST8aOmQwQCPEEg8Bt++v3+fRqMadvDi0WrDhsce0a7QgsgiyJLbvvvzMNN9B9HQL9SJHNi9Ci0gMTDJL9UOyNxQp6hp7D4QGpvwn8PDjINrKz+PDsLrRt3269sDQypPXMubv9jUJiBkRJi4x5zt0QyxGXUbQRWdCZjoOLzchGRHTAP3xu+Oi1fbJwMLlvne9x7/3xdDOPdpA6O73TAjQGKIo7TXbP+JG0Uo3S+xI+kN9O84vHSJzE6oDLfMq45/UIsjDvmS5jLiOvMzE88+32/bmLvIs/n8KjRU7HhwlKit5L+Mwpy/+LNworyJnGm0QLAXr+ULw7ufx397ZcNjK2rfdNeAh5NzpxPBV+TEDaAt+EEsUIBeXFRQOhgXt//v6FfQ+71TxZ/ozCQkdoi9WN6U0zTCbLe8juRNLBXT74/Ee6HXhXd2/2c7Vos7PwAWwcqTvoWymiq9GvazR8u2WDaIoXz34T5JeSmGKV/dJBz7TMc0j0BTFA+bwU+Hf11nOgL93sOiolag5rLW1wccg3zT1Zgc8GJ0qnTwhSS9NP0qyRNs/tDsbNtcsbR9yEPcCn/aD6Vjd2NX60bvN2MrnzbzWZuMD8yQC2wxOFeIgpC6QN7c5VDlqN/cxHCq3I2gfchlBEC8GpfuP8LDopeUq44ndDteu1XjbteQr7eXz/PsLBnAMkQ3oDwIWqxpJGUwT3g2aCmwGrP/R9wXynu5f6kLliuK54zHqHvX3/WQB9wfVHwhGSF/rW5FQNlNoV0JGaiY5DYD4ktx8wha01KjXm7GVT5bfjgGASYF4mFWtWLW5xB3p6xLsMCFJHWKYcbpxBWkYW85HazJOHgIJSu/I1nPHz8DAvda5cLRNsSuzTrvUySjbHe68BFAb8CspONRG31cDYX9cV1A8Q3w2ZSg3GAUHJfOa3XzPD8tix/DB3MExyPvLbcyJ1oDt9wIADh4V6iG5Msk+WEYoTYxO10fGPlQ3DC+5IrEUdQgq/A/wT+ik5JXhvdxi2DDZWN2s4LDkzOoM8tP5UgBTBV8KDxDmFIQVhhNNFEgWTBWIEgwQCQ10B20Awfw6+2D2We/V6ZLlbuFo4PzlIe3h7aHqoeqM76z0WvXP9ST7/v9N/+L+RgV5DnQSOxF5ECMVxiXnQZZX4lVPRLg4rzYhKjILA+zV197FhrI1pkKjtKNkpeOmuaGhmp2iFbpozjzZGOkJCbMvsE01Yj1y7XiDcHFbOEFHKf0V4wJl607TR8Qbv+C7kbjoteOzMbfUwNPKgdaI7EAKsB9UKAszBEXlUY5UwE/XQnkxxiUaIXwZ0gsCANb1h+br16bSXtNg1B7UfNP21uviAPSaAjINbxaoHvEnYzPQOg09rT8QQLk5KjD6Jn4dKhOWBz/5i+oI4T3cR9hf1orVXdSF10zfq+Yi7k73yP7YA84J7Q/pEgoV/xfaFkoRog2qDOgJ6wJr+RLxRutE5/3j3eEE5GfqbO1g6+3tpff5/Qb+3ABgBn4JuBAgHoYnbyy5MsA4Y0MMVY1X4j8rKtkjrRFZ7znb/9NMwOeprqQ7owybkZtJp8CpFqJzqM/ATdUO4mD47Bd9MI1BtlOgYJpfA1hVTts7mSQlE5YFHvUD4YjNRMQXxzfHFL0SudLFzNGI06rcivK7BYEVZCnrOOk9EUNcTN9KOjoaLF8ntB5DDdf/rfyv9znq4eCT4BLfzNzt3k3gXOD25ovzCP52BrYQuBuGJyoyODTcMWw1YTgeMv8nmx85GEEQLgcY/RzzE+v15afist2G1vzT1tgm2xDZHN2K52vw2vaj/l0IOxEFF2Iazxz2HuYf5h18GQcULA69B7P/8/WR6QneSt1i5ADlh+CV4c3kNOZZ7UP4vfk3+NsD6RCpD5AP0R6HLr0x1zFCNCgwniscOfVMiUm+MhIl1yFMEVvzId0Czqm6kKr6ogmbg5W/nY+pVKb2n/CtoMiU3MXqePyAEoYpID83UD9ZRltxWLhOaj5dK90Z/guv+0TjVMwGxf3GEb9zsNKvMbvswqHLVN1i8UsF7xyOLtQwpzO8QulKGEGIOIk5WTXeJ5kblxFUBBz4UO4E4GLSJtAM0/PRe9KG2snlBvFs/B0F+Qt4GIcoQDKbNmQ9CUUPRrBAKzqmMign+xg0Cj762+oj4Xncy9UqzePJK8x6zcDNVtIK2mXg6+f48wgBjAtjFLQc5yIiJmQnDSXUHu4Z2xUpC8H8bfQH8mbuRejj4uffK+Aw5C/oBem56sHxQPpf/sQA1AYeD7kVphrVH14ovzMuOtM2/S4MLVE3RUSjPb0iJg8lCor71+Jn1oDON76FuH69UrFXohmwIcAvs4eqGME82driKfK8CM0Yjya9Nk4//DygOk08XDgSKTQYWQ+KCZb9XOvV2cTQjNCezbXDg8FJzfnXwNy85sT0IQAiDu8cHiAmH5EqeTgBOQM2uDh9N3EuOCS5F9IGavjX743nR92c1oLXD9yZ3DnZVdre4gPuHfl2BB4PBxtuKQ00FzfMOBA8wjrLM4MrASOcGqgRnwR39TzrTeQX24rRSMxjyq/I/8i7z+zaeOQk7XH4IAOSCvASLB4LJxkpZycUJzUoviePJJccChAkBQ79EfL75mTjIOVB56zlKt1T1kneOOzG71fwOfjj/wgGZRHvFrYSKRlkJ7clUSAiLRo1KietIGYvNjnDMCUifhJS/xDtxeUT51LekMv/xhXM7b50rb+z57vpsFKtIb76zSrdCvkzEO8T+xYTKAo4VjcfL9Iw9DenMRUjWxwTFDEBFvK25R3R88bVzgvOl8RSyobUQdX33NTs9vPM+QQLCxyEI4ErazjTP+Y8PTiwNVovOyk6KPkfUgt0+8v0Xepy3q7Zudbx0mDUCtgh2xLkQ/GQ+koCcQ0rGGUh2SznNrU5jzYpM1Ax8ipEHawSig79AdftJuY95XXYp8xwz4LQlszK1CLjweiX7uX8gwkJDzwS4RY1HQUiiSPKJTUoPiUjHkIXZw85BkL+C/bR7Izki9/63uHgrOCj37TjPOt+8FD01/o9AegEvgjYDHgNkAyhD/kUchkKHlsjUyLJGQkYXSU/MfcqOh3cFHkORAffA5f+LfHN5OneUtMmvq6xdrOBsnWpAajPsCO5AcRd1njk/Otm/YkWwyO1KGA3/0hdTXZHbT8fM/AkvBrPD8X+b+3D4V3Yqs98yJXCXL+twATD1saD087nbPrhB9gSfBvTJAcxvDnLOjk73T8kQ55BFj1BNbInlhakBiH6xPCy6iPmXd+c1jbR+dAk0zzZA+Xb8Wj7GAX0DxIYGR4HJnwtpS9jL4ovFi2FJmQe1xQkCQP+GPQo6nbiJ94S22rZfNpy3Pvf/eYD7s7y5Pl2BAINPBJaF14buRxyHc4dpxv7FkYSNA2jBXz7EfSW8kzzdPBI647oweht6/TvsfLx797tg/JS+CX5sflB/cj+e/0w/8YEOwpcDvISsRelGWod2Sw/Qf1CqDLWJ90k7xxaFxgZyRBz/oDyneREyI6xUK1+qa6fcJ4Xoy6i7aTCtAjGINHV4KD3dQoAGe4ryTyeQSpCaUaLRh9A1jvpNtwo1hcICsH4Pee+4abhD9jgy4fJRcsXy9rOcNZ03Mvmtve5AxkICBEQH2QnvivFMoI5uTsGO+42py21I5ceixzsFQQJK/2u9vTvOeaE30/datsr23LewuBS4kHpL/Mm+vn/ngfwDqsW5yDhKNcqdCqHKv4oTyV9IUkevhqvFQAO6wII9znv7Ozb6n7lCeAz3hjgVOSm6ATrUO6b9GX6ZP7CAwMKVg8xFd0ZOBldFX0TKxJhDhUJBgQ8//z5fvRZ75zqiOVu4VHfzd1S3AjdiuAg5ZXqhO/B8WH04/wjCOYQRRz8L/pBF0TZOckxADHVM8835Tc6LX4bgQrN9hbeE86fy97Hkr2PtNipwJr6lSSgHakqrjC8PNC535rtA/yKBYYOhR+FMag7OENMS0ZMYUXXPgc6lDT1Mcgw1STsDGX4tO4Y6QnkyeBl29rT79BI0BTLb8dqzrTayOS97mb5BwLwCXkS5Be2G5skpzE1OqU6bTaALz8mbR3kF1kUXRGDDiIHHPiO6Czhmt/l38DjP+mY6yHtVPG/9Pb1dfnyANwJchIpGW8bpRnBFnAVgRWtFfoVAhbfEjsMYQWB/mb3fvTV9pT3mPT98Sjv4Oqu6TDtJ/Aa8h/2Vvpx/Pb+yQIhBE0CygHXBKAHFge8BD8D7QC3/MX5OPmI+Vf7uP3O++n1LvK178zqU+oN8377B/0C+xH50P21D8cgvR1MExwWwB4xIqAmbSjfH2EZBhonEKL91/jS+pTuh9tdzzPEVLoFu5O8O7Ucs1G+F8cmx7fLcdfe5FT2agmnEgQWoyAPLUExTDQ1PMJBCkNiQlU6GixQJPkjGSD/F+4QRwim+tbqDd131TfXVN173lXYEdFmzz7UAtzK4w7rJ/Kt+tMDRgmaCtUNfxUIHjIl/ChCJ5IkXCSZImgdqRquG30cRhsJFnYL/ABu/Lb7Svzv/FX7VPhJ9wD3xvRA8+b0cfgB/CD+Hf9cAPkAef8y/8UBNAQLBv8H2geZBTIEnAEk/af7mP3Y/Rn8XPtW+jr5vfme+R330PTi87PyiPJ19YL4BvjF9eL1lfiC/LMAxAIPAbT+Tv7n/PT4EPa89sz5qf0V/2/73fX280P6WQmeF1gXhwtWBvEMkhU0HFIhyCEwH1IdLBcVC2IErAVjAu/4svHm6WLdMtRF0MLKzsj00OXWxtAIyZbKptKW3nfssfRP9uP6LQS/C7kTdiHALesxTTMyNSszfy72LPcthCyVJ6kf4hPHBUH7afcJ9nvyn+1R5g3bodJS07PXCtqQ3U3i2OMp5Wvqpu/c8gz5rwO6DXEUTRhPGgscXB/GIw4oMytxLKorbShnI4IfmB1XG94WIRGXCp8EMABF/C34lfXg8z7x6e6z7Srsleo86/LtQPFW9Wz42Pej9XD3dfzaAN8DgASLAUj/0gJxBs0E9ALMA3YCh/+b/wkAL/6Q/o0BWAHR/g/+Ov2y+if7BADcAiAB7PxD+Pn0YPbg+hL8EPiJ80TwJu1i7FHvYPFg75rtdu9689L4Bf3I/O77aAKGDIIRoBKxFEQXfhmfHBMfNx9JHtAb2xXkDhALfQjoAgr7pvPs7MTnXOUu46Hfp9zn2hDZwNgJ223euOLy5/frF++m8wf52v2ZA6MKKBH6FS4ZJBvLHZMh9CMLI38gdR5cHSAcgRlXFPQNJAlIBtED6ADr/e/6lPdt9M7yO/OP9Jn10vb99834avr4/Pv+oAAiA6cFXgdQCfUJ7gc5BtoHNwvqDR4PKQ5EDEIMWQ2TDdANAQ9DD9ANXAsSCHIFQwYvCIIGBALw/VX76/kP+dD26/K171Xu2e1l7dHs4+sf63TrsO2e8EHytvII8w70i/Vg+KL7Rv2M/Yz9oP3d/nQCFQawBsUFAAfoCWkMgg1aDJsJVQc1B4gHJwdQBVoBDP23+iP6Mfnv9ib0M/KI8qT0uPZ9+IL6oPtA/FH+XgILBpsHtgcYB2wGTwYjBuME1wKbAEj9V/nV9pL1tPM58avvzO6C7f3s7e0v71Xw9PHW89b1RPk//ev/vgFPBJwG9QfoCWYMEQ71Du0PfBB0EIEQYxCyD84Ohg6PDloOAw5gDZYLowi6BlUHtAiQCAAH7wR2AjQBwAHiAYIAav8O/0j9LPte+4n8n/zs/ED+mv6e/iEAJAJvAugCkwSqBYEFkgWPBfYEaAWfBukFuwNqAtEBmP+h/Dv6ific9yz3r/VA89TxV/I087nzvvP+8nvy8fNq9qD3g/e59xD49fef+AH6Rvuf/Er+X/65/NL8//6gAMoBrgRhB0IIOglwCrYJZAgaCUcKIwqXChUL9giNBcoDGwPGAgQEPQVfA/D/L/6b/f38f/yD+2T5rfdr98T2OPVG9Fn0QfSh8yDzGfOf82/0QPXY9eb2+/hc+7n82/yH/RX/jwB6AUEC4wKxA44EnwTnA+wDBQX6Be4FlgUzBb0FPwdWCIkIegiwCIkIWwiXCBUJogkSCtoJwwi2BxMH0gb7Bi4H6gZDBpYFpgQbAy8BPwCbAGkBOwH0/63+SP2E/AX9FP40/hL+Wv7+/SL9x/3//pb/SwBrAVQAO/5k/iQAwf9f/qz9K/3I/ID9lv31++/63/vu+zr7gPtM/N/7A/xS/Uf+eP6o/uj9pvw6/ez+Hf/R/lf/H/8G/oX96vxs/Cz+4QD+AOP/TQBQAAAACwLyBKcFwAXsBi4HMAcwCfEKTgrQCZIKWApSCRgJDQj0BB8CTQDk/Vb6pPb38lbvw+xz6rvna+Ut5DHjueEI4dvhhuNr5XLnD+pb7VvxufUj+qb+PwOIBwIL6A31EBoUbxbsFxQZ2hkIGtMZSxl3F/kUFxOhEZ0Plg0vDKEKkAhPBoAEKgOiAv8BdAC5/hv+xP2G/Dj7qfpF+sf56/lD+jT6T/rU+n77hvxp/gcANgFEAwQGjwfMB7wIdQplC58L/gsADPYKwglgCDcGPATcAiUBBv4H+5/4PvaP9A70OfML8WDvVO/Q70bwVvGb8irzz/Ou9Gn1KfZ/9w/5h/pH/FD9P/06/Tb+JgDbAfcClwOfBO4F+wbaB+8IwglyCYYIHgjNCIAJ/QgfB+UERwM5AqoB1wAV/+f8Efvi+Qf5pvhn+CH4ePgd+Vz5Wvnf+bL6J/vQ+7n8hf09/gT/hf+f/5b/av/R/lH+Tv5k/ij+0P3r/Qb+4f3Y/Qr+Qv6N/vv+p/+4AHsCPAQ6BesFZQa1BiwH6wduCHEIlwjBCJcI1QekBnUFpAQ+BAkE0QO+A8cDnAP+AnQCXgJxAlcCYwKuAtACqwJsAuABQgEKAQMBnQAhACEAZQCKAIwAUAAEACEAsQDwANwA3ADaAKIAIQCK/9n+Xf4D/mj9f/yP+wL7qfpd+u75RPnl+Dj5KPoC+8n7gvwf/cf9of61/8YA3QGzAgUDPQOXA9sDdQOpAsoBCgGkAIcAXADh/3v/E/9d/rH9pf0K/n/+DP9I/8P+6/1I/b78Ofzu+2H7F/p9+BH38fUF9XL04vMo84XyUvKD8kDzh/Ts9Q/38/cz+QD7Tf2k/40BFgOMBOkFAge/B1YI8wgkCdsIVgjyB6UHMwdpBlMFeARFBEUEKwQ3BIIE8gRrBesFXQbbBo8HNAiXCBUJugk4CkkK7QlQCdQIrQh/CBIIQQd2BqUF6gRZBOwDoAMbA4UCxwE9Ae0AqQAVADX/Z/6p/S79wfxH/KX76PpR+qr59vhe+Nj3WPfv9qn2WfZD9mX2n/bB9t72OPel90j4MflU+mH7RfwA/Yf9Cv6e/lL/7f9SAIwArgC6ALMAtQCgAF4AEwDt/9D/h/9L/yT/GP8M//3+4v6X/on+5f5t/+H/LgApAOb/xP/o/14A6ABVAXoBIAG/AKAApACzALUAogCCAIAAfgBIANz/e/9g/2D/p/8EACEA9//a/87/0P81AKkA7QDTAKwArgC6AOMA5gDcAN8A+QD3AKAAXgA6AEsAaACAAH4ASwA8AD8AXACAAMQATAHMATACggLjAmEDEgTLBFcFngXOBQYGCAb1BQYGJgYIBqAFBQVDBIsDCgOdAvYBGQFhAL3/Rv8C/7n+Uf7m/af9nf22/eb9D/4U/u390P2p/Vn9Ef3B/GT8Gfzk+7H7Uvvv+qb6bvp4+s/6M/tr+5b77vtd/BX9L/5o/28AGQGXAewBaAIxAxwEsgTDBGUEqAPVAhMCXQG1AAcAIf/1/cP82Pth+077efus+7j7x/vy+3P8PP1C/jf/4/9LAFIAXgCKAM4AFAEqAfwAhwATAK7/Uv/s/ob+Vv5T/oH+2/4r/2j/ov/5/20A9ACQASQCpwL+Aj0DYQNrA3ADdQNwA2QDNgP0AqICQwLuAbkBngF6ATYB9ADEAJ0AigB2AD8A/P/8/xAAGgAdACkAFQDo/9//8v8JADcAhwDJAAgBXwGmAc8B3QHMAaMBnAHAAd0BzAGSATYBwgBhAB8A9P/m/73/ef8T/7L+a/5O/kz+Mf4I/tz9rP10/Vz9V/06/QD92/ze/O/8Av0T/er8k/xW/ED8VvyX/Pj8Vf1+/Zj9zv0l/r7+lv+CAEIB5wGMAjED0QNxBAoFiAXnBRAG8AWbBSQFogT1AzEDTwJTAUgAKf8U/jr9q/xH/O77oPuD+3z7ivuZ+8z7Kvyj/Eb95P18/uz+GP8m/0b/h//c/zoAfgCYAIUAhQCuAOgAQgHAATICgALBAgADPQN3A7ED3wP1AwEE5AODA/QCVALWAWkB9wB+ANz/Mv+N/hL+x/2n/bP9p/1+/VX9P/1G/Xb9xP0K/lP+l/7K/u7+DP86/5P/9P8mAE0AgAC6AOYAAwEeAUIBbgGLAZwBiAGBAZ4BkAFkATgBGQH+ALoAcQA6APT/qf9o/xj/wP6N/oH+jf6E/m7+U/5K/lj+eP6m/tH+8/4J/zr/ef+9/xMAVwB+AJYAqQCkAKAAtQDOAOsAAQEZAQUB+QD5AAEBDQEjAUkBTgFMAWYBdwFmAVgBSQE4ASMB/gDTAIoATQAOALr/fv9S/yb/6v6v/mn+KP4B/u395v3V/dr96P3r/fX9CP5C/o3+w/7u/i3/dP+i/9f/KwB2AHsAlgABAUIBJwFAAZ4BgQEvAZABJgLgAVgB0QEVAtMAQwA9AUABm/8Y/zcAm//H/Rf+Xv+J/kv9R/5D/yz+m/37/qf/wP7i/lQAkQDV/zoADwGsAB8AjwDVAC4Awf8OABgAqf9l/37/dv86/0v/n//5/wwAGAB7AOYA8AABAWsBrwF6AV0BgQFmARYB6wDQAHkADADa/73/hf+A/7r/1f+//7r/2v/3/ysAhQDOAN8A3ADmANwAxgDEANUAxgCYAHEASAAaAAQAEwATAPf/3P+9/5H/av9Z/0j/Qf9N/03/Jv///gz/JP8h/yT/VP+A/4f/n//B/+3/EwBNAIIAmAC4AMQArgCgAIIAagA/APz/xP9t/xj/5f7D/pz+if6h/qb+l/6v/uX+JP9l/7j//v8mAG8AvwDfAPkAOAFuAW4BWgFFARsB0wCnAHEALgATABUA+f+R/23/ef9e/zr/Xv+n/5//dv+s//7/9P/o/zoAigB7AHsAugDEAIwAYQBqAGgANQAVAA4A7f+d/1n/VP9S/zD/EP8Q/wz/7v7s/ib/Wf9j/4f/1//+/wwAZQDGAPkAFgE7AWIBTAExAT0BRwEnAfcA1wCpAHYAUAAhAPT/y/+4/6T/iv+H/5b/p//E/9L/3//5/ysAVABoAJgAzgDjANwA/gAnASwBKgElASAB3ACRAG0ASAAAALD/dv8r/8j+c/5M/iz+Af75/Rf+FP4U/i/+ev7A/gT/aP/J/wIAHwBjALEAyQDVAAMBHgHmALMAtQCPAEMAGgAYAP7/yf+1/8v/uv+Y/7X/1f/J/8H/7f8OAPf/BwAuADoAFQD+//f/xP+F/1z/T/8+/yb/Gv8h/yb/Pv9c/4z/vf/t/yYAaACsANwACgEqAUkBawGIAZcBlQGQAXUBTgEvASABGQHrALEAmAB5AD8AHQAdAPz/wf+w/6f/dv8t/yT/K////uz+Gv83/zr/XP+Y/7X/vf/5/0EAYQCFAMsA9wABAQ8BJQElAQoB/ADoAKkAYwAuAPT/uP9+/03/Jv///tT+u/6e/pz+sv67/s/+7P4C/xD/N/9q/4//xP/3/yEAMgA1ADcAPwA/ADUANwAuAB8ABADj/8v/zv/V/7//uv+//7//uv/B//D/EwApAFQAfgB7AIAAoAC4AL0AwgDEAKIAcQA8ABAA6P/E/7P/nf97/2j/V/9N/0j/Tf9X/2X/fv+d/67/wf/o/xMAKwAyAEMASABQAE0ARgA3ACQAFQAVABMAEAATAB8AJAAdACYANQBNAFkAbwCKAJgAogCxAK4AsQC/AM4AvQCuAJgAcQBNACsAGgAJAO3/y/+w/5j/gP9j/1n/Wf9c/1n/cf+C/4D/fv+H/5H/m/+w/9X/6//0/wcAGgAmADUAWQBxAG8AYwB2AI8AggCAAHYAVAAyACYAHQAEAOP/y/+f/3T/VP88/yb/Dv/7/tv+w/7K/tn+4P7//ib/Ov9Z/3v/qf/O//L/IQBUAHQAgACRAKAAogCsALgAvQC/AJMAfgBqAEYANwA8AEsAQQA1AC4AKwArACEAJABBAEsATQBZAFIAQwA6ACYAGgAOABAAEwACAPL/2v/X/8v/wf/J/9L/3//m/+b/8v/y/+v/+f8JABUALgA/AFAAVwBGADoAQQBSAFAARgBDAEYATQBBACkAMgAyAB0AAADr/9X/yf/B/7//xv/L/8T/1f/y//n/8v/3//z/BwAYABgAKQA/AD8AJgAfACQAJgAYAPf/8P/j/8H/rv+T/37/bf9g/17/V/9N/1T/Y/9c/2X/hf+6/9z/6P/y/wAAEwAaADIASABGAFAAVwBcAGUAYwBhAFIAMgArACkAKwArAPf/3P/c/9r/xv/V/9r/xP+s/7P/0P/X/9z/4f/t//T//v8MABUAJAA/AEMAUABQAFcAVwBNADwAPwBDAAkA6P/w//f/6P/h//L/EAD+/wAACQD5//7/9P/r/9D/3P/f//n/9P/f//T/BAD+/9f/vf/Q/xgA9P+1/4r/y/9BAD8A5v+u/+3/cQB+ABoAxP/m/0MAVAAAALr/yf/w/7D/Mv8+/+v/ZQDm/8/+jf5q/2MAkwAY/4X91P74AYQBl/7o/VIC3AID/tr/LAelA2j7aP9YDHsNHf3y+MIHAAwd/z/7lgAqAzr7/fdK/oP9NvMr9u/8mPr49Q337/qg+QX16fthA978yftHA8wHzwOu/2UEpA/nBUsAVQziDm0DCAamCLEFpAsTDXIHbAQdAzD7ZQREBzv3COwS+gz/7vck65/m2/UhAL7sZ+i+AXb/6O+C/FAJf/7o/UwMshEIAQMFrxkCEA/3JQxiGAP8Lf/DD4f9Jv39CFf55/dGCUj/d/JZALkBDwW29znx1ApZAizstv3WCtz6hfJ/+rYJh//H7gL9hwtt/xn31v5gC6z/jPhXB9oC/fxOA+wIy/bd/pML4/+m+iUDogdp/lD9UgdDBjYB7/xQAxAInv49+44Ggf7P9fwJwfxC8Nv+SgTY98brDABsCNj5ze3bBuEJ2Ptz/o0FfgVt/80NTAqQ9RAGHBha9RjyaxmjAbvsngpOCr/yZfRACo0Hr+4V9AgOMwk+74bzxg0rAsfstQYEAmD2NAQMAH32AQazCYvudfmIDBgJh/Qm/2MN/fdABuIKZ/pk/goMYgjB9oIEzQ2U+x/2Sv74Cnj+ePGk+vcJJABN8qb6SP0NCEAB1O/Q+xgOwwiG9Vr1RAf4Dlj8lvS6CcMKL/XuA9UHOvvR+V0KwgXt7Yv+ug30/9zvy/3NDab8tPP9A8ELxvjM9UAMkQnB/K36FwQ5CCX+3fsrBEoEAv8QALUCCv5c/U398QF6/NH3awMFBcH6oPehAZcDlPsw+Bf+RwqeAc32w/7+BLEFov0m+C0C1w2YBOP2Dv90DRQDn/Y2/qEGCQKRALMAXP2AAG0DJgBm9ZkBsAv7+nv0mQOxCQT/NPVv+JIIAQqz+CX3BAJSCZ4BzvRd/CwH/gJ8+Tf9UQH3ALYFlPmL920F9Qm0+XT2gwVoC7r2nvmGCF4EiPu0/IQG/wXK/B/9PwcVAvj8p/+1AukDqQDN+GP7OwaVCC75D+7uA3sS3vYI7pYFYAaN/qf9r/md/WQIBQeZ+df0DAW8EQ3+xew/AEYW/wHz7sr+BA+JBsT0dPYeCkUK9PhT+UsFWQBkBc/+ufWhAVUJKv759owA6wUsAT35mvy7A7oCX/ku/a8DQAEo+kAB8QFZAOz+1f9o/aMBmwVI/zX/3/9sBP8Drv1L/dsDEgHl/J0AzQIq/qf/GgBt/xkBpvywAhYB5P1JA+L+qf3/A1gBAv0d/3T/kgPM/v/7TgWm/rD6xP/3ADAC2/5W+oIAegGgAHQA/v2g+9cCw/5ZAOgAjgKW/fP5gARCBQj8swB4/lMB7AOb/zgBYwJg/w3+NP4uBScFR/6i+y/+IQKdACQAmP+E+O/6cAqCBAf02fxsBkH/kPrG/90DpgR4/qH65P2mBJAGnvm3+msD3gLhAoQBlPvQ/9YBjP8QBPT/Lv1SByIDp/RiAUUNo/6P8usAhwm6/1z7BQM6/UT7pv7QBDcAlPka/+gCNgPs/Lf60QEBBiX+k/wgAWIEAAXg/iv9f/y/AjcJS/tD9t4EpAbr/cD7P/upAhQFr/mK+XYCtAXJAiz5bPq5CF0IOvtW+PwFrQZ7/5D8pwAzBe7+Gv1IAkn7+f+aBOP63vhyA+sFT/ya+pb9CwS5/m76vf9GBTsDmvqpAJMGDP+P/RoAHQPPA3T/ZgHuA4r/p/2pAu39MPtpA2IBb/0d/1f/ZQBI/6b6QPxGAh8CDP3j/HUDkgM8/TT+bf+G/jwCQQJwAXn/bwBrBQj+J/nGAlgDYvxd/o4CagIaAuv9KPycAQsCQQDW/tMD/gQo/ov+ggTPAwz7+PyUA+YCEP9e+8wB5v8u+6z9of6m/K3+S//J+/D/GQHB//T8Nv6+AxsB5v3aAuUEOAGsAO8CsgHJABgAEAIZAW8ATgPwAED84QD+AJX8Ev5fAWsB/f63/KQAqwTs/LT5H//bA9wAqf3J/TwAqgGs/9v87P6qAUcBTQC5/hL+rQOcA5X8Tf1IAlsCWgEs/sL9ZwRGAhv7JgDQBFwArv2a/gQC2gJZ/9T6bwLNBA38YPqGA5kFsvoK+TIChgWE/qz52fyNA1YEi/ps/FICUAO7Awj8pfvuB6cFnPom/aMDyQWKAHr8IQCkAFsCrAA4+aP+AQb//hP7mP0hArYBp/se/MUBegEf/9f/GQFqACsASQHX/yYAmAJoAp3/DgLyAEb/aQFoAL/9agBXAP7/jP9t/R//9wAq/KD9MgBvAPkALv1Z/SsEpQNM/B390gQ4Baj8ePx3BUIIGP1z+gYEuwVc/RH9pwDI/nD+TQInAcL5FPz3BST/cveQ/EsFnwae+6/34wTkB3/8kPoBAREFqQIN/m0AggQgA1z9s/saAi0EUgBO/pL+Qf9fAdX/Yvz7/KIASAL5/Ur8eQAyAtz/2Ps2/rkDNAT8/Tz9EwJsAmUAyP4lAYEDQgHg/hj/CwLXAPz9kv5BADEBbgGs/3X8PP9VATD/Df5D/xMCngE3/77+N/8vAVIA6vxD/7YDGQFX/ywB6v5p/icBO/5+/5wBhf90ACoB1/+1/1T/bv4rAA0BtQCAAI//HAJ8AYr9Jv+IATQBav+i/w8BZAHy/4z/8/7U/jAAvv6J/h8COAHn/nb/7v4VALMA7v4A/QgBdQMEAC79swAwApr+y/1q/2oAagJ9AuH9S/2GAzED8fzN/M7/VwKCAmT+V/0/A28E/f5S++X+xAKgAMP+af4/AL4DfQIS/Jf81QAPASv/kv6KAJUBPABe/0b/if7R/jUAVAAhAPcA0QF6AUb/p/+//0L+QgEbA2X/6P3rANEBTAFU/x/9dP/4ARkBPf67/pUBFAE+/03///5G/3AB/P/o/Y//ZAEVAgQAmP2b/WgAqgGA/+z8n/+aBK8Bcv2X/kgC+gHY/dj9KwLCAx4Blf5X/RYBYQPg/l38Tf9MAzgBHf31/e0AdABC/sf9dv+BAVUBAgBA/or/TQJYAST/Q/+zAGIBpABUAFQAIQBjAGgAVwDhAND/8v+zAGr/6v6v/t//GwGG/uD8/v88Asn/sPzR/k0CGADo/XsA8ACu/ykAAgDo/5EADQGKABoAbQAFAawASwApAEH/3/+pAHYA0P/P/jz//P8fALr/rv9S//f/3wC6/2v+gP+RAHkAgP9l/zoA9gG0Ae7+vv4WAT4CRgAv/sv/2AH+ADD/ZP4uAEUBcf+G/nb/9P/+AE0ATv5q/4cAhwB7AIr/VP+uAHcB9ADg/vv+8gDTAPT/aP9I/xQB6ADK/rn+E//Q/5ABRgC//UP/xAJMAXv9yv53AcsAWQAVAMH/VQHHAWX/Cv7G/2QBUgAr/xP/EwB8AVAAWf1C/hkB6ADM/pf+AwHsAXb/lf7V/5EAjABjAL3/BwASAUgAPP+1/zcA9/9IAGgA0v/Q/yQA0v90/87/RgDc/2X/OgAPAfT/4v7o/zgBQwCN/rX/RQEpAB3/e/9xAHsA7f/o/xUAZQAdAG//wf/+AEgA+P5ZABIB0v+T/x8APwAwANz/yf8JADwABwCM/4//y/+1/z8AnQDL/8n/gAA8AIX/pP8kAEgA8v/h/8IA0AC6/0H/+f+kAJH/+/5ZACwB1//z/vn/bQBL/yv/BAAQADAAoABNABMAwf9N/xoAXACs/xAAwgBQAJb/8v+CANL/V//8/4AAigAAAI//PwBQADf/z/7V/9UA+f8a/zIAzgCC/x3/6/+z/2P/DABQAN//uP8dAFkA4f+w/3sAqQDf//f/xgDoAFIA0P8TAG0ACQDf/yEAdABoAAkA3/86AEsA4/+R/4X/HQBjAPz/uv/V//T/HQCd/yv/8P9xAK7/Wf8AAD8AEwDw/6L/SP8yAMQA0P+A/0MAZQAdAFwAagDo/7//QQB2APT/pP/5/4oAoAC6/yb/AADGAPf/Av8y/2MAegFjALn+Y//XAIIASP9U/0MA+QDJAIz/av+FAGgAXv8J/8T/lgBXAHb/sP9GAAkAdP88/7//SwDa/8H/igB+AKn/v/8aANr//P9jAGUAYQBBABUAVAAaAOv/AACu//D/pwCsANr/wf+CAEgAWf9+/1IAfgDf/53/AABGAMT/Nf/O/x0A1/+k/7D/VAB0AJb/gP9DAEEAxP/O/wIAIQBqABoAav/c/7EAaACP/4r/7f9DAOj/Mv8EANcA8v90/wAAPwA3ADAAEAAEAHkAggAJAPf//P88AEMAn//V/64AeQC4/7P/7f/0/9//m/+d/x0ARgDG/4z//v9eAOP/SP/J/5YAZQC6/+3/fgBqAAIA4f/h//L/TQBGAL//4/90AHkA8v/G/xAAFQAJADcA/P+d/xMAjADy/0P/h/9QAGMAxv9+/73/JgAyALX/Ff+W/4cAKwA8/4f/jABcAFz/Wf8VADoA6P/a//L/CQApADoA9//a/0MARgAHAEYAoABNAAAAPAA/ACEAGgD5/wIALgApAMT/s/9LAFkAsP9X/+b/lgBNAIX/hf8kAGEA3P90//D/aAAyAOb/9P81AEgAAgCk/5v/6P/w/+H/wf/c/zwA8P+d/xUASwDG/37/9P9+AFkAuv+6/2MAggDc/4r/GACWAEsAv//L/2gAlgDV/1f/+f9lAN//rv8YAP7/s//y/zUA2v+b/+v/OgAOAO3//P8HAEMAXADw/4D/BwCzACkAav/S/64AggC6/3H/zv9oAFQAe/8+/0MAugDO/0H//v+iACYAn//c/2gAjAAyAAAAFQA8AGoAMAD8/+j/1//y/wAA5v+p/4X/1/8HAKn/Zf+6/xAABwDG/3n/sP9BAEEAyf+P/wIAogB5ANz/tf9NAJsAKwDy/wwASABqAAwAxv8TAEYAGgDy/9//3/8MADUAEADt/+3//v8mABoA9P/3/yYAOgACANf/8v8yAAcAsP+u/wQAMgD5/87/y//0/x8A4/9v/6T/cQBDAJb/uP9vAIwA9P+9/wkAewCHAOb/k/83ANwAOgBl/8T/bQAuAJH/sP8QABAA+f+6/67//v/3/5H/h//Q/x0A8v+b/wQAUAD0/6f/y/81AD8A2v+//00AsQBUAM7/4/9eADIAmP+C/wQASwAMAMH/AgBIAOv/qf/o/wwAAADt/wcAUgA3AOj/AABjAFkA1f+//00AhwAVAMn/9/8uACkA8v+4/8n/BwA6ABoA0v/m/zwAPwD3/9z/AgBGAC4A9//y/wIAEwAkADoAAAC9/9r/FQACAMn/vf/G//T/AgDj/8b/xv/m//z/8P+1/8T/NQBcABoA2v8EAGEAWQDm/5//BwBoADAA3P/f/xMAHQAJAM7/rv/w/xgA5v+w/8v/FQAwANL/wf/0/x0AGADy/9//4/8AABgAAADB/9f/GAAmAAIA3P/8/zUAMAACANr/4f8YAC4A8P/J/wwAPAAaAP7//P8HACEALgAHAOb/IQBhABgA0P/y/1kAZQAHAMn//v86AN//b/+F/yQAbQC6/y3/wf+pAFkAXv8+//7/jwA1AIf/jP+TACUBFQA6//f/3ACYALP/n/9tALoAOgDQ/+b/GgAhABMA4f+f/87/EADj/8b/0P+w/67/GAA3AJ//SP/V/28AKQBS/3T/kQC6AMH/N//m/7UAagCf/2D/BwDGAGEAdP9Z/yEAkQACAGD/p/92AKAAAgB+/9X/ZQBjAOH/ov8OAHsAbwATAM7/0P8TAEYA6P92/8n/bwB0AMn/av/E/zIAKQCi/2X/6P97AFkAyf+9/1IAqQA8AL//5v9+AKcAQwDm/9z/NQCMADwAuP/X/1AAdAAQAJ3/p//r/wIA8P+i/4f/BAB0ABoAbf92/0EAggDh/2D/mP8/AHQA1/9o/8v/YwA/AKf/h/8EAHEAHQCY/5v/6P8dAPn/rv/L/zcAXAD3/8H/9P8MAPT/1//8/wwAGABBADoAGgAOACEAGgD5/9r/8P8rACkA+f/r/x8APAAaANL/wf8dAF4AHQCz/+j/dABeAOv/1/8uAHYARgDh/8v/HQBIAPL/rP/r/zIAKwDL/7j/7f/5/+P/uP/V//L//v/8//L/BwAEAO3/4//8/xUA+f/w/w4AEwAVAAQADAAkABAA4//S/+b/BwAMAOP/5v8AAB8AIQDm/8v/CQApAPf/sP/Q/zcAMgDV/73//P8aAAIA4f/c/xAAMgA8ABUA6P8HABUABAD+/wIAAAAOAB8AGADy//D/GAAyABgAy//Q/xUAMAAhAPL/BABIAFIAJgDt//D/CQAAAPD/3//r/wkAJAAkAPT/1f/m/+v/1f+k/7P//P8rAAQAtf/c/ysAJgDh/7j/8v8QAOb/yf/t/x8AGADt/9X/+f8VAAwA8P/0/yQAGAAQABgAHQAhABMACQATADAAIQAJACQAQQA6AAIA4//3/w4A9P/j//f/FQAkAPz/4f/0/w4AGgAAANX/2v8YADoADADr/wAALgAyAO3/1//3/wAA7f/S/9//AgAVAAcA3//3/xUAAADt/9L/3P/t//f/8v/3/wkA8P/0//D/6/8AAP7/4//X/wIAGgAQAOv/6P8OABoABwDh//D/HwAfAP7/9/8YADwAGADj//L/GgAfAP7/3/8AACsAHwD0//z/HwArAAQA5v8JABAA9//m/+j/DAAMAOj/2v8AABUADAAJAAcABwAAAAQADgAMABAAEwAhABgABAAJAAAA/P8EAAkA+f/5/xMA/P/h/+b/6P/t/+v/2v/f//T/EwATAOj/1/8AAAkA9//0/wQADAATABoABAAAAB0ALgAJAOb/9P8TABoA/P/0/wcAJAATAPD/8P/+/wkAAgDt/+j//P8OAA4AAgD5/wkAIQATAAQA/P/5/w4A/v/m/+H/8v8TABgAAADw//L//P/5//D/5v/o/+j/2v/f//f/AgAEAAAA8P/o//D/6//w/wIAAAACAAcAAgD+/wIA/P/t//T/AgAQAAQABwAVABMADgD+//7/BwAHABAADAAQACkAJgAdABgAEwAfABoABAAEAAkABwAJAAkAGgAkAAwAAgAHAAIA/v/+//7/DAAMAAwAGAAdAB0ADgACABMADgDw/+v/AgAEAPf/9P8AABgAEwDr/+H/2v/a/+3/5v/O/9D/9/8EAPf/6P/r/9z/1//h/+b/4//5/xMADAAMAAQABwAMAP7//v8AAAcABAAEABAADgAJAPT/6//m/9//2v/a/+v/9//5//f/9//5//7/8P/r//f/8v/h/+v/9//8/wQAHQAdAAQACQAMAAcAAgAAAPz//v8EAA4AGgApADcANwArAB0AHQAhAA4ADAAMAAkAEwAdAB8ACQAJABAA9//m//L/+f/5/wIABwACABgAFQAHAAIA+f8CAAIA9//w/wkAEAAOAB0AEwAQAAwA9//8/wcABAAEAPz//v8AAPL/6P/w//T/8v/c/8v/4//0/+b/4f/w//f/9P/0/+j/4f/y/wcAAgDr//f/DgAMAAQABAAEAPz/7f/y/+v/6P/+/xAADgAJABMAGAAJAAIAAAD+/wIAEAAHAP7/AAAQAB8ADgACAAcAFQAMAPn/9//3//n//v/y/+v/9P8CAAcA8v/o/w==\" type=\"audio/wav\" />\n",
              "                    Your browser does not support the audio element.\n",
              "                </audio>\n",
              "              "
            ],
            "text/plain": [
              "<IPython.lib.display.Audio object>"
            ]
          },
          "metadata": {},
          "execution_count": 152
        }
      ]
    },
    {
      "cell_type": "code",
      "metadata": {
        "colab": {
          "base_uri": "https://localhost:8080/",
          "height": 92
        },
        "id": "Mfi01Bp9byrM",
        "outputId": "e7f0618e-c0d2-4227-8795-567c549d2fd5"
      },
      "source": [
        "waveform, sample_rate, utterance, *_ = train_set[100]\n",
        "print(f\"Expected: {utterance}. Predicted: {predict(waveform)}.\")\n",
        "\n",
        "ipd.Audio(waveform.numpy(), rate=sample_rate)"
      ],
      "execution_count": 153,
      "outputs": [
        {
          "output_type": "stream",
          "name": "stdout",
          "text": [
            "Expected: backward. Predicted: backward.\n"
          ]
        },
        {
          "output_type": "execute_result",
          "data": {
            "text/html": [
              "\n",
              "                <audio controls=\"controls\" >\n",
              "                    <source src=\"data:audio/wav;base64,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\" type=\"audio/wav\" />\n",
              "                    Your browser does not support the audio element.\n",
              "                </audio>\n",
              "              "
            ],
            "text/plain": [
              "<IPython.lib.display.Audio object>"
            ]
          },
          "metadata": {},
          "execution_count": 153
        }
      ]
    },
    {
      "cell_type": "markdown",
      "metadata": {
        "id": "KjO0nOtOcB1o"
      },
      "source": [
        "### Recording an audio\n",
        "\n",
        "\n",
        "If you want to leran about recording audio and classify them, then visit [this tutorial](https://pytorch.org/tutorials/intermediate/speech_command_recognition_with_torchaudio_tutorial.html) it will give you a how you can do it in google colab at the end."
      ]
    },
    {
      "cell_type": "markdown",
      "metadata": {
        "id": "zZvn4UoG73EZ"
      },
      "source": [
        "### Ref\n",
        "\n",
        "* [pytorch tutorials](https://pytorch.org/tutorials/intermediate/speech_command_recognition_with_torchaudio_tutorial.html)"
      ]
    }
  ]
}