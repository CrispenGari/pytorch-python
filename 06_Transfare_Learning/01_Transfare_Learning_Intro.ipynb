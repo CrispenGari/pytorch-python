{
 "cells": [
  {
   "cell_type": "markdown",
   "id": "romantic-radical",
   "metadata": {},
   "source": [
    "### Transfare Learning- `Pytorch`.\n",
    "* Computer vision image classification task transfare learning `bees` vrs `ants` using `resnet18` pretrained model."
   ]
  },
  {
   "cell_type": "markdown",
   "id": "proud-luxembourg",
   "metadata": {},
   "source": [
    "### Imports "
   ]
  },
  {
   "cell_type": "code",
   "execution_count": 23,
   "id": "australian-hopkins",
   "metadata": {},
   "outputs": [],
   "source": [
    "import torch\n",
    "from torchvision import transforms\n",
    "from torch.utils.data import DataLoader\n",
    "import numpy as np\n",
    "import os\n",
    "import matplotlib.pyplot as plt\n",
    "from torchvision.datasets import ImageFolder\n",
    "from torchvision import models\n",
    "from torch import nn\n",
    "from torch.nn import functional as F"
   ]
  },
  {
   "cell_type": "markdown",
   "id": "cross-above",
   "metadata": {},
   "source": [
    "> Loading the `data`."
   ]
  },
  {
   "cell_type": "code",
   "execution_count": 3,
   "id": "documentary-documentary",
   "metadata": {},
   "outputs": [],
   "source": [
    "base_dir = \"bees_v_ant\"\n",
    "sub_dirs = [\"train\", \"validation\"]"
   ]
  },
  {
   "cell_type": "markdown",
   "id": "instructional-judgment",
   "metadata": {},
   "source": [
    "> Transformation to the `images`."
   ]
  },
  {
   "cell_type": "code",
   "execution_count": 6,
   "id": "comprehensive-sewing",
   "metadata": {},
   "outputs": [],
   "source": [
    "image_transforms = {\n",
    "    \"train\": transforms.Compose([\n",
    "        transforms.Resize([224,224]), \n",
    "        transforms.RandomHorizontalFlip(),\n",
    "        transforms.ToTensor(),\n",
    "        transforms.Normalize(mean=(0.5,0.5,0.5), std=(0.5,0.5,0.5))\n",
    "    ]),\n",
    "    \"validation\":transforms.Compose([\n",
    "        transforms.Resize([224,224]), \n",
    "        transforms.RandomHorizontalFlip(),\n",
    "        transforms.ToTensor(),\n",
    "        transforms.Normalize(mean=(0.5,0.5,0.5), std=(0.5,0.5,0.5))\n",
    "    ])\n",
    "}"
   ]
  },
  {
   "cell_type": "markdown",
   "id": "communist-designer",
   "metadata": {},
   "source": [
    "> The `ImageFolder` class."
   ]
  },
  {
   "cell_type": "code",
   "execution_count": 12,
   "id": "scheduled-trash",
   "metadata": {},
   "outputs": [
    {
     "data": {
      "text/plain": [
       "{'train': Dataset ImageFolder\n",
       "     Number of datapoints: 20\n",
       "     Root location: bees_v_ant\\train\n",
       "     StandardTransform\n",
       " Transform: Compose(\n",
       "                Resize(size=[224, 224], interpolation=bilinear)\n",
       "                RandomHorizontalFlip(p=0.5)\n",
       "                ToTensor()\n",
       "                Normalize(mean=(0.5, 0.5, 0.5), std=(0.5, 0.5, 0.5))\n",
       "            ),\n",
       " 'validation': Dataset ImageFolder\n",
       "     Number of datapoints: 12\n",
       "     Root location: bees_v_ant\\validation\n",
       "     StandardTransform\n",
       " Transform: Compose(\n",
       "                Resize(size=[224, 224], interpolation=bilinear)\n",
       "                RandomHorizontalFlip(p=0.5)\n",
       "                ToTensor()\n",
       "                Normalize(mean=(0.5, 0.5, 0.5), std=(0.5, 0.5, 0.5))\n",
       "            )}"
      ]
     },
     "execution_count": 12,
     "metadata": {},
     "output_type": "execute_result"
    }
   ],
   "source": [
    "image_data = {x: ImageFolder(os.path.join(base_dir, x), image_transforms[x]) \n",
    "             for x in sub_dirs\n",
    "             }\n",
    "image_data"
   ]
  },
  {
   "cell_type": "markdown",
   "id": "arabic-seller",
   "metadata": {},
   "source": [
    "> The `DataLoader` class."
   ]
  },
  {
   "cell_type": "code",
   "execution_count": 14,
   "id": "raising-north",
   "metadata": {},
   "outputs": [],
   "source": [
    "train = DataLoader(\n",
    "    image_data['train'],\n",
    "    shuffle=True,\n",
    "    batch_size = 5,\n",
    "    num_workers =2\n",
    ")\n",
    "valid = DataLoader(\n",
    "    image_data['validation'],\n",
    "    shuffle=True,\n",
    "    batch_size = 5,\n",
    "    num_workers =2\n",
    ")"
   ]
  },
  {
   "cell_type": "code",
   "execution_count": 16,
   "id": "floating-nowhere",
   "metadata": {},
   "outputs": [],
   "source": [
    "for x in valid:\n",
    "    pass"
   ]
  },
  {
   "cell_type": "code",
   "execution_count": 17,
   "id": "unusual-xerox",
   "metadata": {},
   "outputs": [
    {
     "data": {
      "text/plain": [
       "tensor([[[[-0.1843, -0.1373, -0.1059,  ..., -0.5765, -0.5765, -0.5765],\n",
       "          [-0.1373, -0.1373, -0.1608,  ..., -0.5765, -0.5765, -0.5843],\n",
       "          [-0.0902, -0.1529, -0.2314,  ..., -0.5765, -0.5843, -0.5922],\n",
       "          ...,\n",
       "          [-0.9451, -0.9451, -0.9373,  ..., -0.7255, -0.7176, -0.7176],\n",
       "          [-0.9373, -0.9373, -0.9373,  ..., -0.7333, -0.7255, -0.7255],\n",
       "          [-0.9373, -0.9373, -0.9373,  ..., -0.7333, -0.7255, -0.7255]],\n",
       "\n",
       "         [[-0.4824, -0.4353, -0.4039,  ..., -0.4667, -0.4667, -0.4667],\n",
       "          [-0.4431, -0.4510, -0.4745,  ..., -0.4667, -0.4667, -0.4745],\n",
       "          [-0.4118, -0.4745, -0.5529,  ..., -0.4667, -0.4745, -0.4824],\n",
       "          ...,\n",
       "          [-1.0000, -1.0000, -1.0000,  ..., -0.6471, -0.6392, -0.6392],\n",
       "          [-1.0000, -1.0000, -1.0000,  ..., -0.6471, -0.6471, -0.6471],\n",
       "          [-1.0000, -1.0000, -1.0000,  ..., -0.6471, -0.6471, -0.6471]],\n",
       "\n",
       "         [[-0.8353, -0.7882, -0.7412,  ..., -0.9451, -0.9373, -0.9373],\n",
       "          [-0.7804, -0.7882, -0.8039,  ..., -0.9451, -0.9373, -0.9373],\n",
       "          [-0.7255, -0.7961, -0.8902,  ..., -0.9451, -0.9451, -0.9451],\n",
       "          ...,\n",
       "          [-0.9373, -0.9451, -0.9529,  ..., -0.9216, -0.9137, -0.9137],\n",
       "          [-0.9451, -0.9529, -0.9608,  ..., -0.9216, -0.9216, -0.9216],\n",
       "          [-0.9451, -0.9529, -0.9608,  ..., -0.9216, -0.9216, -0.9216]]],\n",
       "\n",
       "\n",
       "        [[[ 1.0000,  1.0000,  1.0000,  ...,  1.0000,  1.0000,  1.0000],\n",
       "          [ 1.0000,  1.0000,  1.0000,  ...,  1.0000,  1.0000,  1.0000],\n",
       "          [ 1.0000,  1.0000,  1.0000,  ...,  1.0000,  1.0000,  1.0000],\n",
       "          ...,\n",
       "          [ 1.0000,  1.0000,  1.0000,  ...,  1.0000,  1.0000,  1.0000],\n",
       "          [ 1.0000,  1.0000,  1.0000,  ...,  1.0000,  1.0000,  1.0000],\n",
       "          [ 1.0000,  1.0000,  1.0000,  ...,  1.0000,  1.0000,  1.0000]],\n",
       "\n",
       "         [[ 1.0000,  1.0000,  1.0000,  ...,  1.0000,  1.0000,  1.0000],\n",
       "          [ 1.0000,  1.0000,  1.0000,  ...,  1.0000,  1.0000,  1.0000],\n",
       "          [ 1.0000,  1.0000,  1.0000,  ...,  1.0000,  1.0000,  1.0000],\n",
       "          ...,\n",
       "          [ 1.0000,  1.0000,  1.0000,  ...,  1.0000,  1.0000,  1.0000],\n",
       "          [ 1.0000,  1.0000,  1.0000,  ...,  1.0000,  1.0000,  1.0000],\n",
       "          [ 1.0000,  1.0000,  1.0000,  ...,  1.0000,  1.0000,  1.0000]],\n",
       "\n",
       "         [[ 1.0000,  1.0000,  1.0000,  ...,  1.0000,  1.0000,  1.0000],\n",
       "          [ 1.0000,  1.0000,  1.0000,  ...,  1.0000,  1.0000,  1.0000],\n",
       "          [ 1.0000,  1.0000,  1.0000,  ...,  1.0000,  1.0000,  1.0000],\n",
       "          ...,\n",
       "          [ 1.0000,  1.0000,  1.0000,  ...,  1.0000,  1.0000,  1.0000],\n",
       "          [ 1.0000,  1.0000,  1.0000,  ...,  1.0000,  1.0000,  1.0000],\n",
       "          [ 1.0000,  1.0000,  1.0000,  ...,  1.0000,  1.0000,  1.0000]]]])"
      ]
     },
     "execution_count": 17,
     "metadata": {},
     "output_type": "execute_result"
    }
   ],
   "source": [
    "x[0]"
   ]
  },
  {
   "cell_type": "markdown",
   "id": "advanced-following",
   "metadata": {},
   "source": [
    "### Finetuning the convnet\n",
    "* We just want to twick the last layer of the `resnet18` model to be able to classify two images of `bee` and an `ant`."
   ]
  },
  {
   "cell_type": "code",
   "execution_count": 20,
   "id": "logical-bangladesh",
   "metadata": {},
   "outputs": [
    {
     "data": {
      "text/plain": [
       "ResNet(\n",
       "  (conv1): Conv2d(3, 64, kernel_size=(7, 7), stride=(2, 2), padding=(3, 3), bias=False)\n",
       "  (bn1): BatchNorm2d(64, eps=1e-05, momentum=0.1, affine=True, track_running_stats=True)\n",
       "  (relu): ReLU(inplace=True)\n",
       "  (maxpool): MaxPool2d(kernel_size=3, stride=2, padding=1, dilation=1, ceil_mode=False)\n",
       "  (layer1): Sequential(\n",
       "    (0): BasicBlock(\n",
       "      (conv1): Conv2d(64, 64, kernel_size=(3, 3), stride=(1, 1), padding=(1, 1), bias=False)\n",
       "      (bn1): BatchNorm2d(64, eps=1e-05, momentum=0.1, affine=True, track_running_stats=True)\n",
       "      (relu): ReLU(inplace=True)\n",
       "      (conv2): Conv2d(64, 64, kernel_size=(3, 3), stride=(1, 1), padding=(1, 1), bias=False)\n",
       "      (bn2): BatchNorm2d(64, eps=1e-05, momentum=0.1, affine=True, track_running_stats=True)\n",
       "    )\n",
       "    (1): BasicBlock(\n",
       "      (conv1): Conv2d(64, 64, kernel_size=(3, 3), stride=(1, 1), padding=(1, 1), bias=False)\n",
       "      (bn1): BatchNorm2d(64, eps=1e-05, momentum=0.1, affine=True, track_running_stats=True)\n",
       "      (relu): ReLU(inplace=True)\n",
       "      (conv2): Conv2d(64, 64, kernel_size=(3, 3), stride=(1, 1), padding=(1, 1), bias=False)\n",
       "      (bn2): BatchNorm2d(64, eps=1e-05, momentum=0.1, affine=True, track_running_stats=True)\n",
       "    )\n",
       "  )\n",
       "  (layer2): Sequential(\n",
       "    (0): BasicBlock(\n",
       "      (conv1): Conv2d(64, 128, kernel_size=(3, 3), stride=(2, 2), padding=(1, 1), bias=False)\n",
       "      (bn1): BatchNorm2d(128, eps=1e-05, momentum=0.1, affine=True, track_running_stats=True)\n",
       "      (relu): ReLU(inplace=True)\n",
       "      (conv2): Conv2d(128, 128, kernel_size=(3, 3), stride=(1, 1), padding=(1, 1), bias=False)\n",
       "      (bn2): BatchNorm2d(128, eps=1e-05, momentum=0.1, affine=True, track_running_stats=True)\n",
       "      (downsample): Sequential(\n",
       "        (0): Conv2d(64, 128, kernel_size=(1, 1), stride=(2, 2), bias=False)\n",
       "        (1): BatchNorm2d(128, eps=1e-05, momentum=0.1, affine=True, track_running_stats=True)\n",
       "      )\n",
       "    )\n",
       "    (1): BasicBlock(\n",
       "      (conv1): Conv2d(128, 128, kernel_size=(3, 3), stride=(1, 1), padding=(1, 1), bias=False)\n",
       "      (bn1): BatchNorm2d(128, eps=1e-05, momentum=0.1, affine=True, track_running_stats=True)\n",
       "      (relu): ReLU(inplace=True)\n",
       "      (conv2): Conv2d(128, 128, kernel_size=(3, 3), stride=(1, 1), padding=(1, 1), bias=False)\n",
       "      (bn2): BatchNorm2d(128, eps=1e-05, momentum=0.1, affine=True, track_running_stats=True)\n",
       "    )\n",
       "  )\n",
       "  (layer3): Sequential(\n",
       "    (0): BasicBlock(\n",
       "      (conv1): Conv2d(128, 256, kernel_size=(3, 3), stride=(2, 2), padding=(1, 1), bias=False)\n",
       "      (bn1): BatchNorm2d(256, eps=1e-05, momentum=0.1, affine=True, track_running_stats=True)\n",
       "      (relu): ReLU(inplace=True)\n",
       "      (conv2): Conv2d(256, 256, kernel_size=(3, 3), stride=(1, 1), padding=(1, 1), bias=False)\n",
       "      (bn2): BatchNorm2d(256, eps=1e-05, momentum=0.1, affine=True, track_running_stats=True)\n",
       "      (downsample): Sequential(\n",
       "        (0): Conv2d(128, 256, kernel_size=(1, 1), stride=(2, 2), bias=False)\n",
       "        (1): BatchNorm2d(256, eps=1e-05, momentum=0.1, affine=True, track_running_stats=True)\n",
       "      )\n",
       "    )\n",
       "    (1): BasicBlock(\n",
       "      (conv1): Conv2d(256, 256, kernel_size=(3, 3), stride=(1, 1), padding=(1, 1), bias=False)\n",
       "      (bn1): BatchNorm2d(256, eps=1e-05, momentum=0.1, affine=True, track_running_stats=True)\n",
       "      (relu): ReLU(inplace=True)\n",
       "      (conv2): Conv2d(256, 256, kernel_size=(3, 3), stride=(1, 1), padding=(1, 1), bias=False)\n",
       "      (bn2): BatchNorm2d(256, eps=1e-05, momentum=0.1, affine=True, track_running_stats=True)\n",
       "    )\n",
       "  )\n",
       "  (layer4): Sequential(\n",
       "    (0): BasicBlock(\n",
       "      (conv1): Conv2d(256, 512, kernel_size=(3, 3), stride=(2, 2), padding=(1, 1), bias=False)\n",
       "      (bn1): BatchNorm2d(512, eps=1e-05, momentum=0.1, affine=True, track_running_stats=True)\n",
       "      (relu): ReLU(inplace=True)\n",
       "      (conv2): Conv2d(512, 512, kernel_size=(3, 3), stride=(1, 1), padding=(1, 1), bias=False)\n",
       "      (bn2): BatchNorm2d(512, eps=1e-05, momentum=0.1, affine=True, track_running_stats=True)\n",
       "      (downsample): Sequential(\n",
       "        (0): Conv2d(256, 512, kernel_size=(1, 1), stride=(2, 2), bias=False)\n",
       "        (1): BatchNorm2d(512, eps=1e-05, momentum=0.1, affine=True, track_running_stats=True)\n",
       "      )\n",
       "    )\n",
       "    (1): BasicBlock(\n",
       "      (conv1): Conv2d(512, 512, kernel_size=(3, 3), stride=(1, 1), padding=(1, 1), bias=False)\n",
       "      (bn1): BatchNorm2d(512, eps=1e-05, momentum=0.1, affine=True, track_running_stats=True)\n",
       "      (relu): ReLU(inplace=True)\n",
       "      (conv2): Conv2d(512, 512, kernel_size=(3, 3), stride=(1, 1), padding=(1, 1), bias=False)\n",
       "      (bn2): BatchNorm2d(512, eps=1e-05, momentum=0.1, affine=True, track_running_stats=True)\n",
       "    )\n",
       "  )\n",
       "  (avgpool): AdaptiveAvgPool2d(output_size=(1, 1))\n",
       "  (fc): Linear(in_features=512, out_features=1000, bias=True)\n",
       ")"
      ]
     },
     "execution_count": 20,
     "metadata": {},
     "output_type": "execute_result"
    }
   ],
   "source": [
    "model_ft = models.resnet18(pretrained=True)\n",
    "model_ft"
   ]
  },
  {
   "cell_type": "markdown",
   "id": "minus-wiring",
   "metadata": {},
   "source": [
    "> Changing the `last_layer` output features.\n",
    "\n",
    "* First find the `last_layer` `in_features` in our case they are `512`.\n",
    "* Then tweek the last layer to have `512` in features and `2` out features."
   ]
  },
  {
   "cell_type": "code",
   "execution_count": 21,
   "id": "affiliated-house",
   "metadata": {},
   "outputs": [
    {
     "data": {
      "text/plain": [
       "512"
      ]
     },
     "execution_count": 21,
     "metadata": {},
     "output_type": "execute_result"
    }
   ],
   "source": [
    "in_features = model_ft.fc.in_features\n",
    "in_features"
   ]
  },
  {
   "cell_type": "code",
   "execution_count": 24,
   "id": "instrumental-graph",
   "metadata": {},
   "outputs": [
    {
     "data": {
      "text/plain": [
       "ResNet(\n",
       "  (conv1): Conv2d(3, 64, kernel_size=(7, 7), stride=(2, 2), padding=(3, 3), bias=False)\n",
       "  (bn1): BatchNorm2d(64, eps=1e-05, momentum=0.1, affine=True, track_running_stats=True)\n",
       "  (relu): ReLU(inplace=True)\n",
       "  (maxpool): MaxPool2d(kernel_size=3, stride=2, padding=1, dilation=1, ceil_mode=False)\n",
       "  (layer1): Sequential(\n",
       "    (0): BasicBlock(\n",
       "      (conv1): Conv2d(64, 64, kernel_size=(3, 3), stride=(1, 1), padding=(1, 1), bias=False)\n",
       "      (bn1): BatchNorm2d(64, eps=1e-05, momentum=0.1, affine=True, track_running_stats=True)\n",
       "      (relu): ReLU(inplace=True)\n",
       "      (conv2): Conv2d(64, 64, kernel_size=(3, 3), stride=(1, 1), padding=(1, 1), bias=False)\n",
       "      (bn2): BatchNorm2d(64, eps=1e-05, momentum=0.1, affine=True, track_running_stats=True)\n",
       "    )\n",
       "    (1): BasicBlock(\n",
       "      (conv1): Conv2d(64, 64, kernel_size=(3, 3), stride=(1, 1), padding=(1, 1), bias=False)\n",
       "      (bn1): BatchNorm2d(64, eps=1e-05, momentum=0.1, affine=True, track_running_stats=True)\n",
       "      (relu): ReLU(inplace=True)\n",
       "      (conv2): Conv2d(64, 64, kernel_size=(3, 3), stride=(1, 1), padding=(1, 1), bias=False)\n",
       "      (bn2): BatchNorm2d(64, eps=1e-05, momentum=0.1, affine=True, track_running_stats=True)\n",
       "    )\n",
       "  )\n",
       "  (layer2): Sequential(\n",
       "    (0): BasicBlock(\n",
       "      (conv1): Conv2d(64, 128, kernel_size=(3, 3), stride=(2, 2), padding=(1, 1), bias=False)\n",
       "      (bn1): BatchNorm2d(128, eps=1e-05, momentum=0.1, affine=True, track_running_stats=True)\n",
       "      (relu): ReLU(inplace=True)\n",
       "      (conv2): Conv2d(128, 128, kernel_size=(3, 3), stride=(1, 1), padding=(1, 1), bias=False)\n",
       "      (bn2): BatchNorm2d(128, eps=1e-05, momentum=0.1, affine=True, track_running_stats=True)\n",
       "      (downsample): Sequential(\n",
       "        (0): Conv2d(64, 128, kernel_size=(1, 1), stride=(2, 2), bias=False)\n",
       "        (1): BatchNorm2d(128, eps=1e-05, momentum=0.1, affine=True, track_running_stats=True)\n",
       "      )\n",
       "    )\n",
       "    (1): BasicBlock(\n",
       "      (conv1): Conv2d(128, 128, kernel_size=(3, 3), stride=(1, 1), padding=(1, 1), bias=False)\n",
       "      (bn1): BatchNorm2d(128, eps=1e-05, momentum=0.1, affine=True, track_running_stats=True)\n",
       "      (relu): ReLU(inplace=True)\n",
       "      (conv2): Conv2d(128, 128, kernel_size=(3, 3), stride=(1, 1), padding=(1, 1), bias=False)\n",
       "      (bn2): BatchNorm2d(128, eps=1e-05, momentum=0.1, affine=True, track_running_stats=True)\n",
       "    )\n",
       "  )\n",
       "  (layer3): Sequential(\n",
       "    (0): BasicBlock(\n",
       "      (conv1): Conv2d(128, 256, kernel_size=(3, 3), stride=(2, 2), padding=(1, 1), bias=False)\n",
       "      (bn1): BatchNorm2d(256, eps=1e-05, momentum=0.1, affine=True, track_running_stats=True)\n",
       "      (relu): ReLU(inplace=True)\n",
       "      (conv2): Conv2d(256, 256, kernel_size=(3, 3), stride=(1, 1), padding=(1, 1), bias=False)\n",
       "      (bn2): BatchNorm2d(256, eps=1e-05, momentum=0.1, affine=True, track_running_stats=True)\n",
       "      (downsample): Sequential(\n",
       "        (0): Conv2d(128, 256, kernel_size=(1, 1), stride=(2, 2), bias=False)\n",
       "        (1): BatchNorm2d(256, eps=1e-05, momentum=0.1, affine=True, track_running_stats=True)\n",
       "      )\n",
       "    )\n",
       "    (1): BasicBlock(\n",
       "      (conv1): Conv2d(256, 256, kernel_size=(3, 3), stride=(1, 1), padding=(1, 1), bias=False)\n",
       "      (bn1): BatchNorm2d(256, eps=1e-05, momentum=0.1, affine=True, track_running_stats=True)\n",
       "      (relu): ReLU(inplace=True)\n",
       "      (conv2): Conv2d(256, 256, kernel_size=(3, 3), stride=(1, 1), padding=(1, 1), bias=False)\n",
       "      (bn2): BatchNorm2d(256, eps=1e-05, momentum=0.1, affine=True, track_running_stats=True)\n",
       "    )\n",
       "  )\n",
       "  (layer4): Sequential(\n",
       "    (0): BasicBlock(\n",
       "      (conv1): Conv2d(256, 512, kernel_size=(3, 3), stride=(2, 2), padding=(1, 1), bias=False)\n",
       "      (bn1): BatchNorm2d(512, eps=1e-05, momentum=0.1, affine=True, track_running_stats=True)\n",
       "      (relu): ReLU(inplace=True)\n",
       "      (conv2): Conv2d(512, 512, kernel_size=(3, 3), stride=(1, 1), padding=(1, 1), bias=False)\n",
       "      (bn2): BatchNorm2d(512, eps=1e-05, momentum=0.1, affine=True, track_running_stats=True)\n",
       "      (downsample): Sequential(\n",
       "        (0): Conv2d(256, 512, kernel_size=(1, 1), stride=(2, 2), bias=False)\n",
       "        (1): BatchNorm2d(512, eps=1e-05, momentum=0.1, affine=True, track_running_stats=True)\n",
       "      )\n",
       "    )\n",
       "    (1): BasicBlock(\n",
       "      (conv1): Conv2d(512, 512, kernel_size=(3, 3), stride=(1, 1), padding=(1, 1), bias=False)\n",
       "      (bn1): BatchNorm2d(512, eps=1e-05, momentum=0.1, affine=True, track_running_stats=True)\n",
       "      (relu): ReLU(inplace=True)\n",
       "      (conv2): Conv2d(512, 512, kernel_size=(3, 3), stride=(1, 1), padding=(1, 1), bias=False)\n",
       "      (bn2): BatchNorm2d(512, eps=1e-05, momentum=0.1, affine=True, track_running_stats=True)\n",
       "    )\n",
       "  )\n",
       "  (avgpool): AdaptiveAvgPool2d(output_size=(1, 1))\n",
       "  (fc): Linear(in_features=512, out_features=2, bias=True)\n",
       ")"
      ]
     },
     "execution_count": 24,
     "metadata": {},
     "output_type": "execute_result"
    }
   ],
   "source": [
    "net = model_ft\n",
    "net.fc = nn.Linear(in_features=in_features, out_features=2) # bee or ant\n",
    "net"
   ]
  },
  {
   "cell_type": "markdown",
   "id": "failing-proof",
   "metadata": {},
   "source": [
    "> Trainning the `model` on our custom data."
   ]
  },
  {
   "cell_type": "code",
   "execution_count": 26,
   "id": "stainless-cannon",
   "metadata": {},
   "outputs": [],
   "source": [
    "criterion = nn.CrossEntropyLoss()\n",
    "optimizer = torch.optim.Adam(net.parameters())"
   ]
  },
  {
   "cell_type": "code",
   "execution_count": 37,
   "id": "swedish-closure",
   "metadata": {},
   "outputs": [],
   "source": [
    "def accuracy(y_true, y_pred):\n",
    "    total = 0\n",
    "    correct = 0\n",
    "    with torch.no_grad():\n",
    "        for i in range(len(y_true)):\n",
    "            if y_true[i] == y_pred[i]:\n",
    "                correct += 1\n",
    "            total+=1\n",
    "    return correct / total"
   ]
  },
  {
   "cell_type": "code",
   "execution_count": 41,
   "id": "attractive-undergraduate",
   "metadata": {},
   "outputs": [],
   "source": [
    "def val_accuracy():\n",
    "    total = 0\n",
    "    correct = 0\n",
    "    with torch.no_grad():\n",
    "        for X, y in valid:\n",
    "            output = net(X)\n",
    "            y_pred = torch.argmax(output, dim=1)\n",
    "            for i in range(len(y)):\n",
    "                if y[i] == y_pred[i]:\n",
    "                    correct += 1\n",
    "                total+=1\n",
    "    return correct / total"
   ]
  },
  {
   "cell_type": "code",
   "execution_count": 42,
   "id": "uniform-warrant",
   "metadata": {},
   "outputs": [
    {
     "name": "stdout",
     "output_type": "stream",
     "text": [
      "Epoch: 1/5\n",
      "loss: 0.004483374767005444, accuracy: 1.000, val_acc: 1.000\n",
      "Epoch: 2/5\n",
      "loss: 0.0015506030758842826, accuracy: 1.000, val_acc: 0.917\n",
      "Epoch: 3/5\n",
      "loss: 0.0227950569242239, accuracy: 1.000, val_acc: 1.000\n",
      "Epoch: 4/5\n",
      "loss: 0.00022527687542606145, accuracy: 1.000, val_acc: 1.000\n",
      "Epoch: 5/5\n",
      "loss: 0.001376884407363832, accuracy: 1.000, val_acc: 1.000\n"
     ]
    }
   ],
   "source": [
    "EPOCHS = 5\n",
    "for epoch in range(EPOCHS):\n",
    "    for X, y in train:\n",
    "        optimizer.zero_grad()\n",
    "        # forward pass\n",
    "        output = net(X)\n",
    "        loss = criterion(output, y)\n",
    "        accuracy(torch.argmax(output, dim=1), y)\n",
    "        # backward pass\n",
    "        loss.backward()\n",
    "        # update the weights\n",
    "        optimizer.step()\n",
    "    acc = accuracy(torch.argmax(output, dim=1), y)\n",
    "    val_acc = val_accuracy()\n",
    "    print(f\"Epoch: {epoch+1}/{EPOCHS}\")\n",
    "    print(f\"loss: {loss}, accuracy: {acc:.3f}, val_acc: {val_acc:.3f}\")"
   ]
  },
  {
   "cell_type": "markdown",
   "id": "expensive-popularity",
   "metadata": {},
   "source": [
    "> We was able to get `100%` accuracy on both trainning and testing."
   ]
  },
  {
   "cell_type": "code",
   "execution_count": 56,
   "id": "confirmed-significance",
   "metadata": {},
   "outputs": [],
   "source": [
    "class_names = [\"ant\", \"bee\"]\n",
    "def plot_predictions_images(images, labels_true, labels_pred, cols=2):\n",
    "  rows = 3\n",
    "  fig = plt.figure()\n",
    "  fig.set_size_inches(cols * 2, rows * 2)\n",
    "  plt.title(\"Predictions\")\n",
    "  for i, (image, label_true, label_pred) in enumerate(zip(images, labels_true, labels_pred )):\n",
    "    plt.subplot(rows, cols, i + 1).set_ylabel('common xlabel')\n",
    "    plt.axis('off')\n",
    "    plt.imshow(image.numpy().transpose(1, 2, 0), cmap='gray')\n",
    "    plt.title(f'{class_names[label_true]}',color ='g' if label_true == label_pred else 'r', fontsize=20 )"
   ]
  },
  {
   "cell_type": "code",
   "execution_count": 49,
   "id": "better-pizza",
   "metadata": {},
   "outputs": [],
   "source": [
    "for X, y in valid:\n",
    "    break"
   ]
  },
  {
   "cell_type": "markdown",
   "id": "micro-greece",
   "metadata": {},
   "source": [
    "> \"Making predictions\" and `plot` them"
   ]
  },
  {
   "cell_type": "code",
   "execution_count": 52,
   "id": "informed-playlist",
   "metadata": {},
   "outputs": [
    {
     "data": {
      "text/plain": [
       "(tensor([0, 1, 0, 1, 0]), tensor([0, 1, 0, 1, 0]))"
      ]
     },
     "execution_count": 52,
     "metadata": {},
     "output_type": "execute_result"
    }
   ],
   "source": [
    "predictions = torch.argmax(net(X), dim=1)\n",
    "y_true = y\n",
    "predictions, y"
   ]
  },
  {
   "cell_type": "code",
   "execution_count": 57,
   "id": "opposed-medicine",
   "metadata": {},
   "outputs": [
    {
     "name": "stderr",
     "output_type": "stream",
     "text": [
      "Clipping input data to the valid range for imshow with RGB data ([0..1] for floats or [0..255] for integers).\n",
      "Clipping input data to the valid range for imshow with RGB data ([0..1] for floats or [0..255] for integers).\n",
      "Clipping input data to the valid range for imshow with RGB data ([0..1] for floats or [0..255] for integers).\n",
      "Clipping input data to the valid range for imshow with RGB data ([0..1] for floats or [0..255] for integers).\n",
      "Clipping input data to the valid range for imshow with RGB data ([0..1] for floats or [0..255] for integers).\n"
     ]
    },
    {
     "data": {
      "image/png": "[encoded data removed]",
      "text/plain": [
       "<Figure size 288x432 with 5 Axes>"
      ]
     },
     "metadata": {
      "needs_background": "light"
     },
     "output_type": "display_data"
    }
   ],
   "source": [
    "plot_predictions_images(X, y_true, predictions)"
   ]
  },
  {
   "cell_type": "markdown",
   "id": "monthly-pencil",
   "metadata": {},
   "source": [
    "> Confusion `matrix`."
   ]
  },
  {
   "cell_type": "code",
   "execution_count": 65,
   "id": "eligible-roulette",
   "metadata": {},
   "outputs": [],
   "source": [
    "import itertools\n",
    "from sklearn.metrics import confusion_matrix\n",
    "def plot_confusion_matrix(y_true, y_pred, classes=None, figsize=(10, 10), text_size=20): \n",
    "      # Create the confustion matrix\n",
    "      cm = confusion_matrix(y_true, y_pred)\n",
    "      cm_norm = cm.astype(\"float\") / cm.sum(axis=1)[:, np.newaxis] \n",
    "      n_classes = cm.shape[0]\n",
    "      # Plot the figure and make it pretty\n",
    "      fig, ax = plt.subplots(figsize=figsize)\n",
    "      cax = ax.matshow(cm, cmap=plt.cm.Blues) \n",
    "      fig.colorbar(cax)\n",
    "    \n",
    "      if classes:\n",
    "        labels = classes\n",
    "      else:\n",
    "        labels = np.arange(cm.shape[0])\n",
    "        \n",
    "      ax.set(title=\"Confusion Matrix\",\n",
    "             xlabel=\"Predicted label\",\n",
    "             ylabel=\"True label\",\n",
    "             xticks=np.arange(n_classes),\n",
    "             yticks=np.arange(n_classes), \n",
    "             xticklabels=labels,\n",
    "             yticklabels=labels,\n",
    "            )\n",
    "\n",
    "      ax.xaxis.set_label_position(\"bottom\")\n",
    "      ax.xaxis.tick_bottom()\n",
    "\n",
    "      threshold = (cm.max() + cm.min()) / 2.\n",
    "      # Plot the text on each cell\n",
    "      for i, j in itertools.product(range(cm.shape[0]), range(cm.shape[1])):\n",
    "        plt.text(j, i, f\"{cm[i, j]} ({cm_norm[i, j]*100:.1f}%)\",\n",
    "                 horizontalalignment=\"center\",\n",
    "                 color=\"white\" if cm[i, j] > threshold else \"black\",\n",
    "                 size=text_size)"
   ]
  },
  {
   "cell_type": "code",
   "execution_count": 68,
   "id": "proper-administrator",
   "metadata": {},
   "outputs": [
    {
     "data": {
      "image/png": "[encoded data removed]",
      "text/plain": [
       "<Figure size 576x576 with 2 Axes>"
      ]
     },
     "metadata": {
      "needs_background": "light"
     },
     "output_type": "display_data"
    }
   ],
   "source": [
    "plot_confusion_matrix(y_true, predictions, classes=class_names, figsize=(8, 8), text_size=20)"
   ]
  },
  {
   "cell_type": "markdown",
   "id": "excess-handy",
   "metadata": {},
   "source": [
    "> That's more of it with transfare learning. [Ref](https://pytorch.org/tutorials/beginner/transfer_learning_tutorial.html)"
   ]
  },
  {
   "cell_type": "code",
   "execution_count": null,
   "id": "pediatric-hobby",
   "metadata": {},
   "outputs": [],
   "source": []
  }
 ],
 "metadata": {
  "kernelspec": {
   "display_name": "Python 3",
   "language": "python",
   "name": "python3"
  },
  "language_info": {
   "codemirror_mode": {
    "name": "ipython",
    "version": 3
   },
   "file_extension": ".py",
   "mimetype": "text/x-python",
   "name": "python",
   "nbconvert_exporter": "python",
   "pygments_lexer": "ipython3",
   "version": "3.8.5"
  }
 },
 "nbformat": 4,
 "nbformat_minor": 5
}
