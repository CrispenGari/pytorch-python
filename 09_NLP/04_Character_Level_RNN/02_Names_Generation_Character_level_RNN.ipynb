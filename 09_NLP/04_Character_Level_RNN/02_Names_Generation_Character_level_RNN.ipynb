{
  "nbformat": 4,
  "nbformat_minor": 0,
  "metadata": {
    "colab": {
      "name": "02_Names_Generation_Character_level_RNN.ipynb",
      "provenance": [],
      "collapsed_sections": []
    },
    "kernelspec": {
      "name": "python3",
      "display_name": "Python 3"
    },
    "language_info": {
      "name": "python"
    },
    "accelerator": "GPU"
  },
  "cells": [
    {
      "cell_type": "markdown",
      "metadata": {
        "id": "XKQfEhLErqiH"
      },
      "source": [
        "### Genarating names with character-level RNN\n",
        "\n",
        "In this notebook we are going to follow the previous notebook wher we classified name's nationalities based on a character level RNN. This time around we are going to generate names using character level RNN. Example: _given a nationality and three starting characters we want to generate some names based on those characters_\n",
        "\n",
        "We will be following [this pytorch tutorial](https://pytorch.org/tutorials/intermediate/char_rnn_generation_tutorial.html).\n",
        "\n",
        "\n",
        "The difference between this notebook and the previous notebook is that we instead of predicting the class where the name belongs, we are going to output one letter at a time until we generate a name. This can be done on a word level but we will do this on a character based level in our case."
      ]
    },
    {
      "cell_type": "markdown",
      "metadata": {
        "id": "227ss7ArtVVl"
      },
      "source": [
        "### Data preparation\n",
        "\n",
        "The dataset that we are going to use was downloaded [here](https://download.pytorch.org/tutorial/data.zip). This dataset has nationality as a file name and inside the files we will see the names that belongs to that nationality. I've uploaded this dataset on my google drive so that we can load it eaisly. \n",
        "\n",
        "### Mounting the drive\n"
      ]
    },
    {
      "cell_type": "code",
      "metadata": {
        "colab": {
          "base_uri": "https://localhost:8080/"
        },
        "id": "bcLgVGA5rBK6",
        "outputId": "df62408b-c23e-4d25-fbaf-212e25aad169"
      },
      "source": [
        "from google.colab import drive\n",
        "drive.mount('/content/drive')"
      ],
      "execution_count": 1,
      "outputs": [
        {
          "output_type": "stream",
          "name": "stdout",
          "text": [
            "Mounted at /content/drive\n"
          ]
        }
      ]
    },
    {
      "cell_type": "code",
      "metadata": {
        "id": "Zlm9UVXIrqEd"
      },
      "source": [
        "data_path = '/content/drive/My Drive/NLP Data/names-dataset/names'"
      ],
      "execution_count": 10,
      "outputs": []
    },
    {
      "cell_type": "markdown",
      "metadata": {
        "id": "JMRmaaC5uc-Y"
      },
      "source": [
        "### Imports"
      ]
    },
    {
      "cell_type": "code",
      "metadata": {
        "colab": {
          "base_uri": "https://localhost:8080/",
          "height": 35
        },
        "id": "uw02kCaIrqBe",
        "outputId": "80e3e5e6-f413-4547-ec0f-95f6ab92dce0"
      },
      "source": [
        "from __future__ import unicode_literals, print_function, division\n",
        "import os, string, unicodedata, random\n",
        "\n",
        "import torch \n",
        "from torch import nn\n",
        "from torch.nn import functional as F\n",
        "\n",
        "torch.__version__"
      ],
      "execution_count": 16,
      "outputs": [
        {
          "output_type": "execute_result",
          "data": {
            "application/vnd.google.colaboratory.intrinsic+json": {
              "type": "string"
            },
            "text/plain": [
              "'1.9.0+cu111'"
            ]
          },
          "metadata": {},
          "execution_count": 16
        }
      ]
    },
    {
      "cell_type": "code",
      "metadata": {
        "id": "0SLMCD44rp-V"
      },
      "source": [
        "all_letters = string.ascii_letters + \" .,;'-\"\n",
        "n_letters = len(all_letters) + 1 # Plus EOS marker"
      ],
      "execution_count": 4,
      "outputs": []
    },
    {
      "cell_type": "markdown",
      "metadata": {
        "id": "kpt6doOQvGZN"
      },
      "source": [
        "A function that converts all unicodes to ASCII."
      ]
    },
    {
      "cell_type": "code",
      "metadata": {
        "id": "G4K8C4hXrp7V"
      },
      "source": [
        "def unicodeToAscii(s):\n",
        "    return ''.join(\n",
        "        c for c in unicodedata.normalize('NFD', s)\n",
        "        if unicodedata.category(c) != 'Mn'\n",
        "        and c in all_letters\n",
        "    )"
      ],
      "execution_count": 5,
      "outputs": []
    },
    {
      "cell_type": "code",
      "metadata": {
        "id": "YO93PmUxrp4Z"
      },
      "source": [
        "def read_lines(filename):\n",
        "  with open(filename, encoding='utf-8') as some_file:\n",
        "    return [unicodeToAscii(line.strip()) for line in some_file]"
      ],
      "execution_count": 6,
      "outputs": []
    },
    {
      "cell_type": "code",
      "metadata": {
        "colab": {
          "base_uri": "https://localhost:8080/"
        },
        "id": "ywSuin1Wrp1h",
        "outputId": "3df7fded-1da8-40ca-cb05-bd6b17c028a4"
      },
      "source": [
        "# Build the category_lines dictionary, a list of lines per category\n",
        "category_lines = {}\n",
        "all_categories = []\n",
        "\n",
        "for filename in os.listdir(data_path):\n",
        "  category = filename.split(\".\")[0]\n",
        "  all_categories.append(category)\n",
        "  lines = read_lines(os.path.join(data_path, filename))\n",
        "  category_lines[category] = lines\n",
        "\n",
        "n_categories = len(all_categories)\n",
        "print('# categories:', n_categories, all_categories)"
      ],
      "execution_count": 25,
      "outputs": [
        {
          "output_type": "stream",
          "name": "stdout",
          "text": [
            "# categories: 18 ['Italian', 'Vietnamese', 'Scottish', 'German', 'Dutch', 'Spanish', 'English', 'Portuguese', 'Russian', 'Chinese', 'Irish', 'Greek', 'Korean', 'Japanese', 'Czech', 'French', 'Arabic', 'Polish']\n"
          ]
        }
      ]
    },
    {
      "cell_type": "markdown",
      "metadata": {
        "id": "aYVRPD9bwyOt"
      },
      "source": [
        "### Creating the Network\n",
        "\n",
        "This network extends from the previous notebook with an etra argumeny for the category tensor which is concatenated along with others. The category tensor is one-hot vector just like the letter input.\n",
        "\n",
        "We will output the most probable letter and used it as input to the next letter.\n",
        "\n",
        "\n",
        "\n",
        "![img](https://i.imgur.com/jzVrf7f.png)\n",
        "\n"
      ]
    },
    {
      "cell_type": "code",
      "metadata": {
        "id": "8f3LKd1IrpyY"
      },
      "source": [
        "class RNN(nn.Module):\n",
        "  def __init__(self, input_size, hidden_size, output_size):\n",
        "    super(RNN, self).__init__()\n",
        "    self.hidden_size = hidden_size\n",
        "\n",
        "    self.i2h = nn.Linear(n_categories + input_size + hidden_size, hidden_size)\n",
        "    self.i2o = nn.Linear(n_categories + input_size + hidden_size, output_size)\n",
        "    self.o2o = nn.Linear(hidden_size + output_size, output_size)\n",
        "    self.dropout = nn.Dropout(0.1)\n",
        "    self.softmax = nn.LogSoftmax(dim=1)\n",
        "\n",
        "  def forward(self, category, input, hidden):\n",
        "    input_combined = torch.cat((category, input, hidden), 1)\n",
        "    hidden = self.i2h(input_combined)\n",
        "    output = self.i2o(input_combined)\n",
        "    output_combined = torch.cat((hidden, output), 1)\n",
        "    output = self.o2o(output_combined)\n",
        "    output = self.dropout(output)\n",
        "    output = self.softmax(output)\n",
        "    return output, hidden\n",
        "\n",
        "  def initHidden(self):\n",
        "        return torch.zeros(1, self.hidden_size)\n"
      ],
      "execution_count": 15,
      "outputs": []
    },
    {
      "cell_type": "markdown",
      "metadata": {
        "id": "qiXu2At4yNgR"
      },
      "source": [
        "### Training\n",
        "\n",
        "First of all, helper functions to get random pairs of (category, line):\n"
      ]
    },
    {
      "cell_type": "code",
      "metadata": {
        "id": "dDrLZXbKxpX7"
      },
      "source": [
        "# Random item from a list\n",
        "def randomChoice(l):\n",
        "    return l[random.randint(0, len(l) - 1)]\n",
        "\n",
        "# Get a random category and random line from that category\n",
        "def randomTrainingPair():\n",
        "    category = randomChoice(all_categories)\n",
        "    line = randomChoice(category_lines[category])\n",
        "    return category, line"
      ],
      "execution_count": 28,
      "outputs": []
    },
    {
      "cell_type": "code",
      "metadata": {
        "colab": {
          "base_uri": "https://localhost:8080/"
        },
        "id": "rVhYNiElxpUk",
        "outputId": "d5c82664-47e7-462c-fc7c-bed801df3c1c"
      },
      "source": [
        "line, cate = randomTrainingPair()\n",
        "line, cate"
      ],
      "execution_count": 29,
      "outputs": [
        {
          "output_type": "execute_result",
          "data": {
            "text/plain": [
              "('Spanish', 'Rocha')"
            ]
          },
          "metadata": {},
          "execution_count": 29
        }
      ]
    },
    {
      "cell_type": "markdown",
      "metadata": {
        "id": "ss2Y9bB3zdQs"
      },
      "source": [
        "For each timestep (that is, for each letter in a training word) the inputs of the network will be ``(category, current letter, hidden state)`` and the outputs will be ``(next letter, next hidden state)``. So for each training set, we’ll need the category, a set of input letters, and a set of output/target letters.\n",
        "\n",
        "Since we are predicting the next letter from the current letter for each timestep, the letter pairs are groups of consecutive letters from the line - e.g. for `\"ABCD<EOS>\"` we would create (“A”, “B”), (“B”, “C”), (“C”, “D”), (“D”, “EOS”).\n",
        "\n",
        "![img](https://i.imgur.com/JH58tXY.png)\n",
        "\n",
        "The category tensor is a one-hot tensor of size `<1 x n_categories>`. When training we feed it to the network at every timestep - this is a design choice, it could have been included as part of initial hidden state or some other strategy."
      ]
    },
    {
      "cell_type": "code",
      "metadata": {
        "id": "mb1QUYhlz_PW"
      },
      "source": [
        "def category_tensor(category):\n",
        "  li = all_categories.index(category)\n",
        "  tensor = torch.zeros(1, n_categories)\n",
        "  tensor[0][li] = 1\n",
        "  return tensor\n",
        "\n",
        "# out = 3\n",
        "def input_tensor(line):\n",
        "  tensor = torch.zeros(len(line), 1, n_letters)\n",
        "  for li in range(len(line)):\n",
        "    letter = line[li]\n",
        "    tensor[li][0][all_letters.find(letter)] = 1\n",
        "  return tensor\n",
        "\n",
        "def target_tensor(line):\n",
        "  letter_indexes = [all_letters.find(line[li]) for li in range(1, len(line))]\n",
        "  letter_indexes.append(n_letters - 1) # EOS\n",
        "  return torch.LongTensor(letter_indexes)\n"
      ],
      "execution_count": 41,
      "outputs": []
    },
    {
      "cell_type": "markdown",
      "metadata": {
        "id": "Qh4GMttF1T2l"
      },
      "source": [
        "For convenience during training we’ll make a `randomTrainingExample` function that fetches a random (category, line) pair and turns them into the required (category, input, target) tensors."
      ]
    },
    {
      "cell_type": "code",
      "metadata": {
        "id": "zF0g5ynCz_IE"
      },
      "source": [
        "# Make category, input, and target tensors from a random category, line pair\n",
        "def randomTrainingExample():\n",
        "    category, line = randomTrainingPair()\n",
        "    category_t = category_tensor(category)\n",
        "    input_line_tensor = input_tensor(line)\n",
        "    target_line_tensor = target_tensor(line)\n",
        "    return category_t, input_line_tensor, target_line_tensor\n"
      ],
      "execution_count": 43,
      "outputs": []
    },
    {
      "cell_type": "markdown",
      "metadata": {
        "id": "lTkTrqTR1cH8"
      },
      "source": [
        "### Training the Network\n",
        "\n",
        "In contrast to classification, where only the last output is used, we are making a prediction at every step, so we are calculating loss at every step.\n",
        "\n",
        "The magic of autograd allows you to simply sum these losses at each step and call backward at the end."
      ]
    },
    {
      "cell_type": "code",
      "metadata": {
        "id": "nU7eAb1Hz_E3"
      },
      "source": [
        "criterion = nn.NLLLoss()\n",
        "\n",
        "learning_rate = 0.0005\n",
        "\n",
        "def train(category_tensor, input_line_tensor, target_line_tensor):\n",
        "    target_line_tensor.unsqueeze_(-1)\n",
        "    hidden = rnn.initHidden()\n",
        "    rnn.zero_grad()\n",
        "    loss = 0\n",
        "    for i in range(input_line_tensor.size(0)):\n",
        "        output, hidden = rnn(category_tensor, input_line_tensor[i], hidden)\n",
        "        l = criterion(output, target_line_tensor[i])\n",
        "        loss += l\n",
        "    loss.backward()\n",
        "\n",
        "    for p in rnn.parameters():\n",
        "        p.data.add_(p.grad.data, alpha=-learning_rate)\n",
        "        \n",
        "    return output, loss.item() / input_line_tensor.size(0)"
      ],
      "execution_count": 42,
      "outputs": []
    },
    {
      "cell_type": "markdown",
      "metadata": {
        "id": "hYDhqxiG2NFk"
      },
      "source": [
        "To keep track of how long training takes I am adding a `time_since(timestamp)` function which returns a human readable string:"
      ]
    },
    {
      "cell_type": "code",
      "metadata": {
        "id": "KpYE9cN7z--G"
      },
      "source": [
        "import time, math\n",
        "\n",
        "def time_since(since):\n",
        "  now = time.time()\n",
        "  s = now - since\n",
        "  m = math.floor(s / 60)\n",
        "  s -= m * 60\n",
        "  return '%dm %ds' % (m, s)"
      ],
      "execution_count": 35,
      "outputs": []
    },
    {
      "cell_type": "markdown",
      "metadata": {
        "id": "iqsH6NRo2fBa"
      },
      "source": [
        "Training is business as usual - call train a bunch of times and wait a few minutes, printing the current time and loss every `print_every` examples, and keeping store of an average loss per `plot_every` examples in `all_losses` for plotting later."
      ]
    },
    {
      "cell_type": "code",
      "metadata": {
        "colab": {
          "base_uri": "https://localhost:8080/"
        },
        "id": "d_Tm6vAnz-q1",
        "outputId": "4a4e8db0-977c-4aa2-cc1a-ee7796382a3d"
      },
      "source": [
        "rnn = RNN(n_letters, 128, n_letters)\n",
        "\n",
        "n_iters = 100000\n",
        "print_every = 5000\n",
        "plot_every = 500\n",
        "all_losses = []\n",
        "total_loss = 0 # Reset every plot_every iters\n",
        "\n",
        "start = time.time()\n",
        "\n",
        "for iter in range(1, n_iters + 1):\n",
        "    output, loss = train(*randomTrainingExample())\n",
        "    total_loss += loss\n",
        "\n",
        "    if iter % print_every == 0:\n",
        "        print('%s (%d %d%%) %.4f' % (time_since(start), iter, iter / n_iters * 100, loss))\n",
        "\n",
        "    if iter % plot_every == 0:\n",
        "        all_losses.append(total_loss / plot_every)\n",
        "        total_loss = 0\n"
      ],
      "execution_count": 45,
      "outputs": [
        {
          "output_type": "stream",
          "name": "stdout",
          "text": [
            "0m 17s (5000 5%) 3.5449\n",
            "0m 34s (10000 10%) 3.2120\n",
            "0m 52s (15000 15%) 2.6916\n",
            "1m 9s (20000 20%) 2.8286\n",
            "1m 26s (25000 25%) 2.5112\n",
            "1m 43s (30000 30%) 3.1578\n",
            "2m 1s (35000 35%) 2.6247\n",
            "2m 18s (40000 40%) 1.9059\n",
            "2m 36s (45000 45%) 3.0486\n",
            "2m 53s (50000 50%) 2.4448\n",
            "3m 11s (55000 55%) 2.7774\n",
            "3m 28s (60000 60%) 2.7981\n",
            "3m 45s (65000 65%) 2.1292\n",
            "4m 2s (70000 70%) 3.0557\n",
            "4m 20s (75000 75%) 3.0763\n",
            "4m 37s (80000 80%) 1.8526\n",
            "4m 55s (85000 85%) 2.0696\n",
            "5m 12s (90000 90%) 1.4502\n",
            "5m 30s (95000 95%) 2.7539\n",
            "5m 47s (100000 100%) 2.1774\n"
          ]
        }
      ]
    },
    {
      "cell_type": "markdown",
      "metadata": {
        "id": "x31QQ1DC3FJm"
      },
      "source": [
        "### Plotting the losses\n",
        "\n",
        "* Plotting the historical loss from all_losses shows the network learning:"
      ]
    },
    {
      "cell_type": "code",
      "metadata": {
        "colab": {
          "base_uri": "https://localhost:8080/",
          "height": 265
        },
        "id": "Fgllz0wsz941",
        "outputId": "b45b16b2-ecac-4f3a-d3da-a0e2fdf92fa7"
      },
      "source": [
        "import matplotlib.pyplot as plt\n",
        "\n",
        "plt.figure()\n",
        "plt.plot(all_losses)\n",
        "plt.show()"
      ],
      "execution_count": 47,
      "outputs": [
        {
          "output_type": "display_data",
          "data": {
            "image/png": "[encoded data removed]",
            "text/plain": [
              "<Figure size 432x288 with 1 Axes>"
            ]
          },
          "metadata": {
            "needs_background": "light"
          }
        }
      ]
    },
    {
      "cell_type": "markdown",
      "metadata": {
        "id": "Chijwy7b3SmU"
      },
      "source": [
        "#### Sampling the network\n",
        "\n",
        "To sample we give the network a letter and ask what the next one is, feed that in as the next letter, and repeat until the `EOS` token.\n",
        "\n",
        "* Create tensors for input category, starting letter, and empty hidden state\n",
        "* Create a string output_name with the starting letter\n",
        "* Up to a maximum output length,\n",
        "  * Feed the current letter to the network\n",
        "  * Get the next letter from highest output, and next hidden state\n",
        "  * If the letter is EOS, stop here\n",
        "  * If a regular letter, add to output_name and continue\n",
        "* Return the final name\n",
        "\n",
        "\n",
        "> Rather than having to give it a starting letter, another strategy would have been to include a “start of string” token in training and have the network choose its own starting letter."
      ]
    },
    {
      "cell_type": "code",
      "metadata": {
        "colab": {
          "base_uri": "https://localhost:8080/"
        },
        "id": "M3-r1A_k3zdt",
        "outputId": "2dfc35a8-a516-401f-dda0-aac07a828002"
      },
      "source": [
        "max_length = 20\n",
        "\n",
        "# Sample from a category and starting letter\n",
        "def sample(category, start_letter='A'):\n",
        "  with torch.no_grad():  # no need to track history in sampling\n",
        "    category_t = category_tensor(category)\n",
        "    input = input_tensor(start_letter)\n",
        "    hidden = rnn.initHidden()\n",
        "\n",
        "    output_name = start_letter\n",
        "\n",
        "    for i in range(max_length):\n",
        "        output, hidden = rnn(category_t, input[0], hidden)\n",
        "        topv, topi = output.topk(1)\n",
        "        topi = topi[0][0]\n",
        "        if topi == n_letters - 1: #eos\n",
        "            break\n",
        "        else:\n",
        "            letter = all_letters[topi]\n",
        "            output_name += letter\n",
        "        input = input_tensor(letter)\n",
        "\n",
        "    return output_name\n",
        "\n",
        "# Get multiple samples from one category and multiple starting letters\n",
        "def samples(category, start_letters='ABC'):\n",
        "  for start_letter in start_letters:\n",
        "      print(sample(category, start_letter))\n",
        "\n",
        "samples('Russian', 'RUS')\n"
      ],
      "execution_count": 49,
      "outputs": [
        {
          "output_type": "stream",
          "name": "stdout",
          "text": [
            "Rovell\n",
            "Uakin\n",
            "Shillin\n"
          ]
        }
      ]
    },
    {
      "cell_type": "code",
      "metadata": {
        "colab": {
          "base_uri": "https://localhost:8080/"
        },
        "id": "DIiMA2Df4a4n",
        "outputId": "77877f4e-0e0d-450d-ee3c-1a6e626eaf69"
      },
      "source": [
        "samples('German', 'GER')"
      ],
      "execution_count": 50,
      "outputs": [
        {
          "output_type": "stream",
          "name": "stdout",
          "text": [
            "Gerte\n",
            "Eren\n",
            "Rour\n"
          ]
        }
      ]
    },
    {
      "cell_type": "code",
      "metadata": {
        "colab": {
          "base_uri": "https://localhost:8080/"
        },
        "id": "9fR0Op894chc",
        "outputId": "f5667008-9fdc-49be-f25c-1a57f74acc89"
      },
      "source": [
        "samples('Spanish', 'SPA')\n"
      ],
      "execution_count": 51,
      "outputs": [
        {
          "output_type": "stream",
          "name": "stdout",
          "text": [
            "Saler\n",
            "Palla\n",
            "Alan\n"
          ]
        }
      ]
    },
    {
      "cell_type": "code",
      "metadata": {
        "colab": {
          "base_uri": "https://localhost:8080/"
        },
        "id": "FpRgg3ya4e0t",
        "outputId": "b5095c59-fdd7-4fd9-8c81-e4dfbfdede65"
      },
      "source": [
        "samples('Chinese', 'CHI')"
      ],
      "execution_count": 52,
      "outputs": [
        {
          "output_type": "stream",
          "name": "stdout",
          "text": [
            "Cha\n",
            "Han\n",
            "Ian\n"
          ]
        }
      ]
    },
    {
      "cell_type": "markdown",
      "metadata": {
        "id": "6rSS_cKOsYwH"
      },
      "source": [
        "### Ref\n",
        "\n",
        "* [pytorch tutorial](https://pytorch.org/tutorials/intermediate/char_rnn_generation_tutorial.html)\n",
        "* [Understanding LSTM Networks](https://colah.github.io/posts/2015-08-Understanding-LSTMs/)\n",
        "* [The Unreasonable Effectiveness of Recurrent Neural Networks](https://karpathy.github.io/2015/05/21/rnn-effectiveness/)"
      ]
    },
    {
      "cell_type": "code",
      "metadata": {
        "id": "t7j37q4iscKk"
      },
      "source": [
        ""
      ],
      "execution_count": null,
      "outputs": []
    }
  ]
}