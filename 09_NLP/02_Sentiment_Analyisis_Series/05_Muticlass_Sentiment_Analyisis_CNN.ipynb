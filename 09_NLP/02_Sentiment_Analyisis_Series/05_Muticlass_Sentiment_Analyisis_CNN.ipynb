{
  "nbformat": 4,
  "nbformat_minor": 0,
  "metadata": {
    "colab": {
      "name": "05_Muticlass_Sentiment_Analyisis_CNN.ipynb",
      "provenance": [],
      "collapsed_sections": [],
      "toc_visible": true
    },
    "kernelspec": {
      "name": "python3",
      "display_name": "Python 3"
    },
    "language_info": {
      "name": "python"
    },
    "accelerator": "GPU"
  },
  "cells": [
    {
      "cell_type": "markdown",
      "metadata": {
        "id": "B5Vbx9Wxv4Zq"
      },
      "source": [
        "### Multi-class Sentiment Analyisis.\n",
        "\n",
        "Up to now we have been classifying text with two outcomes either positive or otherwise. In this Notebook we are going to take it futher and be able to classify multiclass text.\n",
        "When we have more than 2 examples, our output must be a $C$ dimensional vector, where $C$ is the number of classes.\n",
        "\n",
        "We are going to use the dataset with **6** (TREC dataset) classes it's a dataset of questions and the task is to classify what category the question belongs to. We do not need to set the dtype in the ``LABEL`` field. When doing a ``mutli-class`` problem, PyTorch expects the labels to be numericalized **LongTensors**.\n",
        "The fine_grained argument allows us to use the fine-grained labels (of which there are 50 classes) or not (in which case they'll be 6 classes). You can change this how you please."
      ]
    },
    {
      "cell_type": "code",
      "metadata": {
        "id": "3EN0JnjuvxOh"
      },
      "source": [
        "import torch\n",
        "from torchtext.legacy import data, datasets\n",
        "import numpy as np\n",
        "import random"
      ],
      "execution_count": 1,
      "outputs": []
    },
    {
      "cell_type": "code",
      "metadata": {
        "id": "3OhzBkzAv4Io"
      },
      "source": [
        "SEED = 42\n",
        "random.seed(SEED)\n",
        "torch.manual_seed(SEED)\n",
        "np.random.seed(SEED)\n",
        "torch.backends.cudnn.deterministic = True\n",
        "\n",
        "device = torch.device('cuda' if torch.cuda.is_available() else 'cpu')"
      ],
      "execution_count": 2,
      "outputs": []
    },
    {
      "cell_type": "code",
      "metadata": {
        "id": "dk9YDgfsv4FA"
      },
      "source": [
        "TEXT = data.Field(tokenize=\"spacy\", tokenizer_language=\"en_core_web_sm\")\n",
        "LABEL = data.LabelField()"
      ],
      "execution_count": 3,
      "outputs": []
    },
    {
      "cell_type": "code",
      "metadata": {
        "id": "cDOTidhgv4Cm"
      },
      "source": [
        "train_data, test_data = datasets.TREC.splits(TEXT, LABEL, fine_grained=False)"
      ],
      "execution_count": 11,
      "outputs": []
    },
    {
      "cell_type": "code",
      "metadata": {
        "id": "IoQd6PpGv3_Z"
      },
      "source": [
        "validation_data, test_data = test_data.split(random_state=random.seed(SEED))"
      ],
      "execution_count": 12,
      "outputs": []
    },
    {
      "cell_type": "code",
      "metadata": {
        "colab": {
          "base_uri": "https://localhost:8080/"
        },
        "id": "0OR7ouoZv38l",
        "outputId": "fbfbb0d7-750f-4615-fff7-e85815d0f2a8"
      },
      "source": [
        "print(f\"TRAINING: \\t {len(train_data)}\")\n",
        "print(f\"TESTING: \\t {len(test_data)}\")\n",
        "print(f\"VALIDATION: \\t {len(validation_data)}\")"
      ],
      "execution_count": 13,
      "outputs": [
        {
          "output_type": "stream",
          "text": [
            "TRAINING: \t 5452\n",
            "TESTING: \t 150\n",
            "VALIDATION: \t 350\n"
          ],
          "name": "stdout"
        }
      ]
    },
    {
      "cell_type": "markdown",
      "metadata": {
        "id": "pYQTupxEzzKZ"
      },
      "source": [
        "### Let's look at some example of the training set."
      ]
    },
    {
      "cell_type": "code",
      "metadata": {
        "colab": {
          "base_uri": "https://localhost:8080/"
        },
        "id": "S_c3H2DBv35R",
        "outputId": "3904bdc5-2d3f-4a25-fa50-b893950338ba"
      },
      "source": [
        "print(vars(train_data[1]))"
      ],
      "execution_count": 14,
      "outputs": [
        {
          "output_type": "stream",
          "text": [
            "{'text': ['What', 'films', 'featured', 'the', 'character', 'Popeye', 'Doyle', '?'], 'label': 'ENTY'}\n"
          ],
          "name": "stdout"
        }
      ]
    },
    {
      "cell_type": "markdown",
      "metadata": {
        "id": "y0ZWkfuk0V7F"
      },
      "source": [
        "### Building a vocabulary.\n"
      ]
    },
    {
      "cell_type": "code",
      "metadata": {
        "id": "jxqghotCv32x"
      },
      "source": [
        "MAX_VOCAB_SIZE = 25_000\n",
        "TEXT.build_vocab(\n",
        "    train_data,\n",
        "    max_size = MAX_VOCAB_SIZE,\n",
        "    vectors= \"glove.6B.100d\",\n",
        "    unk_init = torch.Tensor.normal_\n",
        ")\n",
        "LABEL.build_vocab(train_data)"
      ],
      "execution_count": 15,
      "outputs": []
    },
    {
      "cell_type": "markdown",
      "metadata": {
        "id": "hRNGM9yN04j3"
      },
      "source": [
        "### Checking Labels.\n",
        "\n",
        "\n",
        "The 6 labels (for the non-fine-grained case) correspond to the 6 types of questions in the dataset:\n",
        "\n",
        "* HUM for questions about humans\n",
        "* ENTY for questions about entities\n",
        "* DESC for questions asking you for a description\n",
        "* NUM for questions where the answer is numerical\n",
        "* LOC for questions where the answer is a location\n",
        "* ABBR for questions asking about abbreviations"
      ]
    },
    {
      "cell_type": "code",
      "metadata": {
        "colab": {
          "base_uri": "https://localhost:8080/"
        },
        "id": "iUyi-RSqv30A",
        "outputId": "b30549a0-5e78-4676-e65a-3966c49c8457"
      },
      "source": [
        "LABEL.vocab.stoi"
      ],
      "execution_count": 16,
      "outputs": [
        {
          "output_type": "execute_result",
          "data": {
            "text/plain": [
              "defaultdict(None,\n",
              "            {'ABBR': 5, 'DESC': 2, 'ENTY': 0, 'HUM': 1, 'LOC': 4, 'NUM': 3})"
            ]
          },
          "metadata": {
            "tags": []
          },
          "execution_count": 16
        }
      ]
    },
    {
      "cell_type": "markdown",
      "metadata": {
        "id": "85Ts84-31gmU"
      },
      "source": [
        "### Creating iterators.\n",
        "\n",
        "As usual we want to use the `BucketIterator` to create iterators for all sets."
      ]
    },
    {
      "cell_type": "code",
      "metadata": {
        "id": "vnmUAtkEv3xg"
      },
      "source": [
        "BATCH_SIZE = 64\n",
        "\n",
        "train_iterator, validation_iterator, test_iterator = data.BucketIterator.splits(\n",
        "    (train_data, validation_data, test_data),\n",
        "    batch_size = BATCH_SIZE,\n",
        "    device = device\n",
        ")"
      ],
      "execution_count": 18,
      "outputs": []
    },
    {
      "cell_type": "markdown",
      "metadata": {
        "id": "ZhYnUI7c3IdA"
      },
      "source": [
        "### Creating A `CNN` model to classify Text.\n"
      ]
    },
    {
      "cell_type": "code",
      "metadata": {
        "id": "OTif6iagv3uY"
      },
      "source": [
        "import torch.nn as nn\n",
        "from torch.nn import  functional as F"
      ],
      "execution_count": 19,
      "outputs": []
    },
    {
      "cell_type": "code",
      "metadata": {
        "id": "0ju5wrJHv3ro"
      },
      "source": [
        "class CNN(nn.Module):\n",
        "  def __init__(self, vocab_size, embedding_dim, n_filters, filter_sizes, output_dim, dropout, pad_idx):\n",
        "    super(CNN, self).__init__()\n",
        "    self.embedding = nn.Embedding(vocab_size, embedding_dim = embedding_dim, padding_idx = pad_idx)\n",
        "    self.convs = nn.ModuleList([\n",
        "                                nn.Conv2d(in_channels = 1, \n",
        "                                          out_channels = n_filters, \n",
        "                                          kernel_size = (fs, embedding_dim)) \n",
        "                                for fs in filter_sizes\n",
        "                                ])\n",
        "    self.fc = nn.Linear(len(filter_sizes) * n_filters, output_dim)\n",
        "    self.dropout = nn.Dropout(dropout)\n",
        "\n",
        "  def forward(self, text):  \n",
        "    #text = [batch size, sent len]\n",
        "    text = text.permute(1, 0)\n",
        "    \n",
        "    embedded = self.embedding(text)    \n",
        "    #embedded = [batch size, sent len, emb dim]\n",
        "    embedded = embedded.unsqueeze(1)\n",
        "    #embedded = [batch size, 1, sent len, emb dim]\n",
        "\n",
        "    conved = [F.relu(conv(embedded)).squeeze(3) for conv in self.convs]\n",
        "    #conved_n = [batch size, n_filters, sent len - filter_sizes[n] + 1]\n",
        "\n",
        "    pooled = [F.max_pool1d(conv, conv.shape[2]).squeeze(2) for conv in conved]\n",
        "    #pooled_n = [batch size, n_filters]\n",
        "    cat = self.dropout(torch.cat(pooled, dim = 1))\n",
        "    #cat = [batch size, n_filters * len(filter_sizes)]  \n",
        "    return self.fc(cat)\n",
        "\n"
      ],
      "execution_count": 51,
      "outputs": []
    },
    {
      "cell_type": "markdown",
      "metadata": {
        "id": "5y2GtbUv4XpR"
      },
      "source": [
        "### Hyper parameters"
      ]
    },
    {
      "cell_type": "code",
      "metadata": {
        "id": "IAgVRi4dv3o4"
      },
      "source": [
        "INPUT_DIM = len(TEXT.vocab)\n",
        "EMBEDDING_DIM = 100\n",
        "N_FILTERS = 100\n",
        "FILTER_SIZES = [2,3,4]\n",
        "OUTPUT_DIM = len(LABEL.vocab)\n",
        "DROPOUT = 0.5\n",
        "PAD_IDX = TEXT.vocab.stoi[TEXT.pad_token]"
      ],
      "execution_count": 52,
      "outputs": []
    },
    {
      "cell_type": "code",
      "metadata": {
        "colab": {
          "base_uri": "https://localhost:8080/"
        },
        "id": "73vHriFev3lp",
        "outputId": "2f17df98-4f8d-47fd-d427-2d85d1276371"
      },
      "source": [
        "\n",
        "model = CNN(INPUT_DIM, EMBEDDING_DIM, N_FILTERS, FILTER_SIZES, OUTPUT_DIM, DROPOUT, PAD_IDX)\n",
        "model"
      ],
      "execution_count": 53,
      "outputs": [
        {
          "output_type": "execute_result",
          "data": {
            "text/plain": [
              "CNN(\n",
              "  (embedding): Embedding(9343, 100, padding_idx=1)\n",
              "  (convs): ModuleList(\n",
              "    (0): Conv2d(1, 100, kernel_size=(2, 100), stride=(1, 1))\n",
              "    (1): Conv2d(1, 100, kernel_size=(3, 100), stride=(1, 1))\n",
              "    (2): Conv2d(1, 100, kernel_size=(4, 100), stride=(1, 1))\n",
              "  )\n",
              "  (fc): Linear(in_features=300, out_features=6, bias=True)\n",
              "  (dropout): Dropout(p=0.5, inplace=False)\n",
              ")"
            ]
          },
          "metadata": {
            "tags": []
          },
          "execution_count": 53
        }
      ]
    },
    {
      "cell_type": "markdown",
      "metadata": {
        "id": "3_5g5nLb4kIv"
      },
      "source": [
        "### Trainable parameters"
      ]
    },
    {
      "cell_type": "code",
      "metadata": {
        "colab": {
          "base_uri": "https://localhost:8080/"
        },
        "id": "ofhxizcx4nzp",
        "outputId": "4fbfff29-2f49-422d-b595-accb47f23751"
      },
      "source": [
        "def count_trainable_params(model):\n",
        "  return sum(p.numel() for p in model.parameters() if p.requires_grad)\n",
        "\n",
        "print(f'The model has  {count_trainable_params(model):,} trainable parameters')"
      ],
      "execution_count": 54,
      "outputs": [
        {
          "output_type": "stream",
          "text": [
            "The model has  1,026,406 trainable parameters\n"
          ],
          "name": "stdout"
        }
      ]
    },
    {
      "cell_type": "markdown",
      "metadata": {
        "id": "n95_R_oY5M32"
      },
      "source": [
        "### Loading the pretrainned embeddings"
      ]
    },
    {
      "cell_type": "code",
      "metadata": {
        "id": "evoBPJo-4nxT"
      },
      "source": [
        "pretrained_embeddings = TEXT.vocab.vectors"
      ],
      "execution_count": 55,
      "outputs": []
    },
    {
      "cell_type": "code",
      "metadata": {
        "colab": {
          "base_uri": "https://localhost:8080/"
        },
        "id": "aJ4PwUQI4nuQ",
        "outputId": "8250271d-397d-41c0-ca4a-deeec27c48fd"
      },
      "source": [
        "model.embedding.weight.data.copy_(pretrained_embeddings)"
      ],
      "execution_count": 56,
      "outputs": [
        {
          "output_type": "execute_result",
          "data": {
            "text/plain": [
              "tensor([[-0.3118, -1.5756,  0.4242,  ...,  0.1282, -0.0354, -0.6897],\n",
              "        [-0.3598, -0.3909,  0.4201,  ...,  0.4844,  0.1023,  1.0094],\n",
              "        [ 0.1638,  0.6046,  1.0789,  ..., -0.3140,  0.1844,  0.3624],\n",
              "        ...,\n",
              "        [ 0.0091,  0.2810,  0.7356,  ..., -0.7508,  0.8967, -0.7631],\n",
              "        [ 0.2906,  0.3217,  0.2419,  ..., -0.9444, -0.3790,  0.6196],\n",
              "        [ 0.4245, -1.1554,  0.0043,  ..., -0.8200, -2.1399,  0.5137]])"
            ]
          },
          "metadata": {
            "tags": []
          },
          "execution_count": 56
        }
      ]
    },
    {
      "cell_type": "markdown",
      "metadata": {
        "id": "1Znr3BZw5dQd"
      },
      "source": [
        "### Make the `<pad>` and `<unk>` layers zeros.\n",
        "The first two layers should have zeros."
      ]
    },
    {
      "cell_type": "code",
      "metadata": {
        "colab": {
          "base_uri": "https://localhost:8080/"
        },
        "id": "_bOZufLS4nr3",
        "outputId": "e7767d96-9c08-487d-fe95-9d3e0f1e80f6"
      },
      "source": [
        "for i in range(2):\n",
        "  model.embedding.weight.data[i] = torch.zeros(EMBEDDING_DIM)\n",
        "\n",
        "model.embedding.weight.data"
      ],
      "execution_count": 57,
      "outputs": [
        {
          "output_type": "execute_result",
          "data": {
            "text/plain": [
              "tensor([[ 0.0000,  0.0000,  0.0000,  ...,  0.0000,  0.0000,  0.0000],\n",
              "        [ 0.0000,  0.0000,  0.0000,  ...,  0.0000,  0.0000,  0.0000],\n",
              "        [ 0.1638,  0.6046,  1.0789,  ..., -0.3140,  0.1844,  0.3624],\n",
              "        ...,\n",
              "        [ 0.0091,  0.2810,  0.7356,  ..., -0.7508,  0.8967, -0.7631],\n",
              "        [ 0.2906,  0.3217,  0.2419,  ..., -0.9444, -0.3790,  0.6196],\n",
              "        [ 0.4245, -1.1554,  0.0043,  ..., -0.8200, -2.1399,  0.5137]])"
            ]
          },
          "metadata": {
            "tags": []
          },
          "execution_count": 57
        }
      ]
    },
    {
      "cell_type": "markdown",
      "metadata": {
        "id": "vX35E6dQ6FuW"
      },
      "source": [
        "### Trainning the Model."
      ]
    },
    {
      "cell_type": "markdown",
      "metadata": {
        "id": "I6B_FzjS4nph"
      },
      "source": [
        "Generally:\n",
        "\n",
        "``CrossEntropyLoss`` is used when our examples exclusively belong to one of $C$ classes\n",
        "\n",
        "``BCEWithLogitsLoss`` is used when our examples exclusively belong to only 2 classes (0 and 1) and is also used in the case where our examples belong to between 0 and $C$ classes (aka multilabel classification).\n",
        "\n",
        "In this Notebook we are going to use ``CrossEntropyLoss``."
      ]
    },
    {
      "cell_type": "code",
      "metadata": {
        "id": "rWFS7JN84nlt"
      },
      "source": [
        "optimizer = torch.optim.Adam(model.parameters())\n",
        "criterion = nn.CrossEntropyLoss()"
      ],
      "execution_count": 58,
      "outputs": []
    },
    {
      "cell_type": "markdown",
      "metadata": {
        "id": "jUW7ZjR26mUO"
      },
      "source": [
        "### Pushing the model and Criterion to the device."
      ]
    },
    {
      "cell_type": "code",
      "metadata": {
        "id": "uEw3g4r_4nij"
      },
      "source": [
        "model = model.to(device)\n",
        "criterion = criterion.to(device)"
      ],
      "execution_count": 59,
      "outputs": []
    },
    {
      "cell_type": "markdown",
      "metadata": {
        "id": "CKpdpOyn4nc1"
      },
      "source": [
        "### Accuracy On Multi-Class Classification\n",
        "\n",
        "Before, we had a function that calculated accuracy in the binary label case, where we said if the value was over ``0.5`` then we would assume it is positive. In the case where we have more than 2 classes, our model outputs a $C$ dimensional vector, where the value of each element is the beleief that the example belongs to that class.\n",
        "\n",
        "For example, in our labels we have:\n",
        "\n",
        " ``**'HUM' = 0, 'ENTY' = 1, 'DESC' = 2, 'NUM' = 3, 'LOC' = 4 and 'ABBR' = 5**.``\n",
        "\n",
        "If the output of our model was something like: \n",
        "\n",
        "``[5.1, 0.3, 0.1, 2.1, 0.2, 0.6]`` \n",
        "\n",
        "this means that the model strongly believes the example belongs to class ``0``, a question about a human, and slightly believes the example belongs to class 3, a numerical question.\n",
        "\n",
        "We calculate the accuracy by performing an argmax to get the index of the maximum value in the prediction for each element in the batch, and then counting how many times this equals the actual label. We then average this across the batch."
      ]
    },
    {
      "cell_type": "code",
      "metadata": {
        "id": "E6AtZJZu4nZv"
      },
      "source": [
        "def categorical_accuracy(preds, y):\n",
        "    top_pred = preds.argmax(1, keepdim = True)\n",
        "    correct = top_pred.eq(y.view_as(top_pred)).sum()\n",
        "    acc = correct.float() / y.shape[0]\n",
        "    return acc"
      ],
      "execution_count": 60,
      "outputs": []
    },
    {
      "cell_type": "markdown",
      "metadata": {
        "id": "hHu5tkoL8Ahe"
      },
      "source": [
        "The training loop and evaluating is similar to before, without the need to squeeze the model predictions as CrossEntropyLoss expects the input to be ``[batch size, n classes]`` and the label to be ``[batch size]``.`\n"
      ]
    },
    {
      "cell_type": "code",
      "metadata": {
        "id": "JMyOdhwK4nWj"
      },
      "source": [
        "def train(model, iterator, optimizer, criterion):\n",
        "    epoch_loss = 0\n",
        "    epoch_acc = 0\n",
        "    model.train()\n",
        "    for batch in iterator:\n",
        "        optimizer.zero_grad()\n",
        "        text = batch.text\n",
        "        predictions = model(text)\n",
        "        loss = criterion(predictions, batch.label)\n",
        "        acc = categorical_accuracy(predictions, batch.label)\n",
        "        loss.backward()\n",
        "        optimizer.step()\n",
        "        epoch_loss += loss.item()\n",
        "        epoch_acc += acc.item()\n",
        "    return epoch_loss / len(iterator), epoch_acc / len(iterator)\n",
        "\n",
        "def evaluate(model, iterator, criterion):\n",
        "    epoch_loss = 0\n",
        "    epoch_acc = 0\n",
        "    model.eval()\n",
        "    with torch.no_grad():\n",
        "        for batch in iterator:\n",
        "            text = batch.text\n",
        "            predictions = model(text)\n",
        "            loss = criterion(predictions, batch.label)\n",
        "            acc = categorical_accuracy(predictions, batch.label)\n",
        "            epoch_loss += loss.item()\n",
        "            epoch_acc += acc.item()\n",
        "    return epoch_loss / len(iterator), epoch_acc / len(iterator)"
      ],
      "execution_count": 63,
      "outputs": []
    },
    {
      "cell_type": "code",
      "metadata": {
        "id": "hBE1W_Gs8lxp"
      },
      "source": [
        ""
      ],
      "execution_count": null,
      "outputs": []
    },
    {
      "cell_type": "markdown",
      "metadata": {
        "id": "xTi6evc-8mbj"
      },
      "source": [
        "We'll also create a function to tell us how long an epoch takes to compare training times between models."
      ]
    },
    {
      "cell_type": "code",
      "metadata": {
        "id": "SdENIcef4e26"
      },
      "source": [
        "import time\n",
        "def epoch_time(start_time, end_time):\n",
        "    elapsed_time = end_time - start_time\n",
        "    elapsed_mins = int(elapsed_time / 60)\n",
        "    elapsed_secs = int(elapsed_time - (elapsed_mins * 60))\n",
        "    return elapsed_mins, elapsed_secs"
      ],
      "execution_count": 64,
      "outputs": []
    },
    {
      "cell_type": "code",
      "metadata": {
        "colab": {
          "base_uri": "https://localhost:8080/"
        },
        "id": "6tI6gVjA8sNV",
        "outputId": "19162d47-039b-46d2-bc55-8403115444e2"
      },
      "source": [
        "N_EPOCHS = 5\n",
        "best_valid_loss = float('inf')\n",
        "for epoch in range(N_EPOCHS):\n",
        "    start_time = time.time()\n",
        "    train_loss, train_acc = train(model, train_iterator, optimizer, criterion)\n",
        "    valid_loss, valid_acc = evaluate(model, validation_iterator, criterion)\n",
        "    end_time = time.time()\n",
        "    epoch_mins, epoch_secs = epoch_time(start_time, end_time)\n",
        "    if valid_loss < best_valid_loss:\n",
        "        best_valid_loss = valid_loss\n",
        "        torch.save(model.state_dict(), 'best-model.pt')\n",
        "    print(f'Epoch: {epoch+1:02} | Epoch Time: {epoch_mins}m {epoch_secs}s')\n",
        "    print(f'\\tTrain Loss: {train_loss:.3f} | Train Acc: {train_acc*100:.2f}%')\n",
        "    print(f'\\t Val. Loss: {valid_loss:.3f} |  Val. Acc: {valid_acc*100:.2f}%')"
      ],
      "execution_count": 65,
      "outputs": [
        {
          "output_type": "stream",
          "text": [
            "Epoch: 01 | Epoch Time: 0m 1s\n",
            "\tTrain Loss: 1.235 | Train Acc: 52.69%\n",
            "\t Val. Loss: 0.791 |  Val. Acc: 74.32%\n",
            "Epoch: 02 | Epoch Time: 0m 0s\n",
            "\tTrain Loss: 0.783 | Train Acc: 72.23%\n",
            "\t Val. Loss: 0.583 |  Val. Acc: 77.74%\n",
            "Epoch: 03 | Epoch Time: 0m 0s\n",
            "\tTrain Loss: 0.568 | Train Acc: 80.70%\n",
            "\t Val. Loss: 0.421 |  Val. Acc: 84.06%\n",
            "Epoch: 04 | Epoch Time: 0m 0s\n",
            "\tTrain Loss: 0.416 | Train Acc: 85.93%\n",
            "\t Val. Loss: 0.384 |  Val. Acc: 86.18%\n",
            "Epoch: 05 | Epoch Time: 0m 0s\n",
            "\tTrain Loss: 0.309 | Train Acc: 90.35%\n",
            "\t Val. Loss: 0.333 |  Val. Acc: 87.29%\n"
          ],
          "name": "stdout"
        }
      ]
    },
    {
      "cell_type": "markdown",
      "metadata": {
        "id": "xT86RNrg-s-7"
      },
      "source": [
        "### Evaluating the `model`"
      ]
    },
    {
      "cell_type": "code",
      "metadata": {
        "colab": {
          "base_uri": "https://localhost:8080/"
        },
        "id": "0i6BFN8Y84Si",
        "outputId": "a0d44f39-9898-4ba4-c377-15fc67200e35"
      },
      "source": [
        "model.load_state_dict(torch.load('best-model.pt'))\n",
        "\n",
        "test_loss, test_acc = evaluate(model, test_iterator, criterion)\n",
        "\n",
        "print(f'Test Loss: {test_loss:.3f} | Test Acc: {test_acc*100:.2f}%')"
      ],
      "execution_count": 68,
      "outputs": [
        {
          "output_type": "stream",
          "text": [
            "Test Loss: 0.392 | Test Acc: 86.65%\n"
          ],
          "name": "stdout"
        }
      ]
    },
    {
      "cell_type": "markdown",
      "metadata": {
        "id": "nOPHRtXX-xh8"
      },
      "source": [
        "### User Input."
      ]
    },
    {
      "cell_type": "code",
      "metadata": {
        "id": "9kkmxzt7-oAV"
      },
      "source": [
        "import spacy\n",
        "import en_core_web_sm\n",
        "nlp = en_core_web_sm.load()\n",
        "\n",
        "def predict_class(model, sentence, min_len = 5):\n",
        "    model.eval()\n",
        "    tokenized = [tok.text for tok in nlp.tokenizer(sentence)]\n",
        "    if len(tokenized) < min_len:\n",
        "        tokenized += ['<pad>'] * (min_len - len(tokenized))\n",
        "    indexed = [TEXT.vocab.stoi[t] for t in tokenized]\n",
        "    tensor = torch.LongTensor(indexed).to(device)\n",
        "    tensor = tensor.unsqueeze(1)\n",
        "    prediction = torch.argmax(model(tensor), dim=1)\n",
        "    return prediction.item()"
      ],
      "execution_count": 83,
      "outputs": []
    },
    {
      "cell_type": "code",
      "metadata": {
        "id": "dpTBE148_dB0"
      },
      "source": [
        "labels = dict(LABEL.vocab.stoi)\n",
        "labels = dict([(v, k) for (k, v) in labels.items()])"
      ],
      "execution_count": 87,
      "outputs": []
    },
    {
      "cell_type": "markdown",
      "metadata": {
        "id": "MoTqjN-A-_eJ"
      },
      "source": [
        "### Getting the user input."
      ]
    },
    {
      "cell_type": "code",
      "metadata": {
        "colab": {
          "base_uri": "https://localhost:8080/"
        },
        "id": "kRA4HBJW_pXD",
        "outputId": "5a5ea8db-6f7c-4a3b-808a-cb4905c58edf"
      },
      "source": [
        "while True:\n",
        "  qn = input(\"Enter a question\\nOR 'exit' to close:\\n\")\n",
        "\n",
        "  if qn.lower() == \"exit\":\n",
        "    break\n",
        "  pred_class = predict_class(model, qn)\n",
        "  print(f'Predicted class is: {pred_class} = {labels[pred_class]}')"
      ],
      "execution_count": 88,
      "outputs": [
        {
          "output_type": "stream",
          "text": [
            "Enter a question\n",
            "OR 'exit' to close:\n",
            "what is your name?\n",
            "Predicted class is: 2 = DESC\n",
            "Enter a question\n",
            "OR 'exit' to close:\n",
            "Who is Keyser Söze?\n",
            "Predicted class is: 1 = HUM\n",
            "Enter a question\n",
            "OR 'exit' to close:\n",
            "How many minutes are in six hundred and eighteen hours?\n",
            "Predicted class is: 3 = NUM\n",
            "Enter a question\n",
            "OR 'exit' to close:\n",
            "What continent is Bulgaria in?\n",
            "Predicted class is: 4 = LOC\n",
            "Enter a question\n",
            "OR 'exit' to close:\n",
            "What does WYSIWYG stand for?\n",
            "Predicted class is: 5 = ABBR\n",
            "Enter a question\n",
            "OR 'exit' to close:\n",
            "exit\n"
          ],
          "name": "stdout"
        }
      ]
    },
    {
      "cell_type": "markdown",
      "metadata": {
        "id": "MEuAYukUAFGg"
      },
      "source": [
        "### Credits\n",
        "\n",
        "* [bentrevett](https://github.com/bentrevett/pytorch-sentiment-analysis/blob/master/5%20-%20Multi-class%20Sentiment%20Analysis.ipynb)"
      ]
    }
  ]
}