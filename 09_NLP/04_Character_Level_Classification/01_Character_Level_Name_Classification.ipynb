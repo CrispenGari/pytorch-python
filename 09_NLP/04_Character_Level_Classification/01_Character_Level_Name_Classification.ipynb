{
  "nbformat": 4,
  "nbformat_minor": 0,
  "metadata": {
    "colab": {
      "name": "01_Character_Level_Name_Classification.ipynb",
      "provenance": []
    },
    "kernelspec": {
      "name": "python3",
      "display_name": "Python 3"
    },
    "language_info": {
      "name": "python"
    },
    "accelerator": "GPU"
  },
  "cells": [
    {
      "cell_type": "markdown",
      "metadata": {
        "id": "lY8RnrT-nDfU"
      },
      "source": [
        "### Character level name classification.\n",
        "\n",
        "In this notebook we are going to learn how to classify names. We will be following [this](https://pytorch.org/tutorials/intermediate/char_rnn_classification_tutorial.html) to understand how we can perform this task. First we must download the [dataset](https://download.pytorch.org/tutorial/data.zip) which I've already downloaded and uploaded it on my google drive. Specifically, we’ll train on a few thousand surnames from 18 languages of origin, and predict which language a name is from based on the spelling.\n",
        "\n",
        "### Imports"
      ]
    },
    {
      "cell_type": "code",
      "metadata": {
        "colab": {
          "base_uri": "https://localhost:8080/",
          "height": 35
        },
        "id": "LeKPSbl0m8MI",
        "outputId": "a41ea66f-d57c-41d2-b19a-423a75174496"
      },
      "source": [
        "from __future__ import unicode_literals\n",
        "import string, unicodedata, os, time, random, math\n",
        "\n",
        "import torch\n",
        "from torch import nn\n",
        "from torch.nn import functional as F\n",
        "\n",
        "from torch.utils.data import  Dataset, DataLoader\n",
        "\n",
        "import matplotlib.pyplot as plt\n",
        "from prettytable import PrettyTable\n",
        "\n",
        "import numpy as np\n",
        "from torchtext.legacy import data, datasets\n",
        "import matplotlib.ticker as ticker\n",
        "\n",
        "torch.__version__"
      ],
      "execution_count": 1,
      "outputs": [
        {
          "output_type": "execute_result",
          "data": {
            "application/vnd.google.colaboratory.intrinsic+json": {
              "type": "string"
            },
            "text/plain": [
              "'1.9.0+cu102'"
            ]
          },
          "metadata": {},
          "execution_count": 1
        }
      ]
    },
    {
      "cell_type": "markdown",
      "metadata": {
        "id": "Fuz8DLSPo0ZZ"
      },
      "source": [
        "### Seeds\n"
      ]
    },
    {
      "cell_type": "code",
      "metadata": {
        "id": "yeSymwAAnDJ-"
      },
      "source": [
        "SEED = 42\n",
        "\n",
        "np.random.seed(SEED)\n",
        "torch.manual_seed(SEED)\n",
        "random.seed(SEED)\n",
        "torch.cuda.manual_seed(SEED)\n",
        "torch.backends.cudnn.deteministic = True"
      ],
      "execution_count": 2,
      "outputs": []
    },
    {
      "cell_type": "markdown",
      "metadata": {
        "id": "RP8sDZJLBqKk"
      },
      "source": [
        "### Device"
      ]
    },
    {
      "cell_type": "code",
      "metadata": {
        "colab": {
          "base_uri": "https://localhost:8080/"
        },
        "id": "NDn8CTxaBrgE",
        "outputId": "3bcae10b-cec9-4163-edf7-d12f2898b061"
      },
      "source": [
        "device = torch.device('cuda' if torch.cuda.is_available() else 'cpu')\n",
        "device"
      ],
      "execution_count": 3,
      "outputs": [
        {
          "output_type": "execute_result",
          "data": {
            "text/plain": [
              "device(type='cuda')"
            ]
          },
          "metadata": {},
          "execution_count": 3
        }
      ]
    },
    {
      "cell_type": "markdown",
      "metadata": {
        "id": "5XuY2tRio9oK"
      },
      "source": [
        "### Mounting the drive"
      ]
    },
    {
      "cell_type": "code",
      "metadata": {
        "colab": {
          "base_uri": "https://localhost:8080/"
        },
        "id": "a-CGGShnnDHF",
        "outputId": "e6ef8c1c-d67e-4c71-9670-c94bdad3adc9"
      },
      "source": [
        "from google.colab import drive\n",
        "drive.mount('/content/drive')"
      ],
      "execution_count": 4,
      "outputs": [
        {
          "output_type": "stream",
          "text": [
            "Drive already mounted at /content/drive; to attempt to forcibly remount, call drive.mount(\"/content/drive\", force_remount=True).\n"
          ],
          "name": "stdout"
        }
      ]
    },
    {
      "cell_type": "code",
      "metadata": {
        "colab": {
          "base_uri": "https://localhost:8080/"
        },
        "id": "PDoC7kJpnDCx",
        "outputId": "7bcd3c36-62b3-4c0c-b633-3f97e71f5b6e"
      },
      "source": [
        "file_path = '/content/drive/My Drive/NLP Data/seq2seq/data/names'\n",
        "os.path.exists(file_path)"
      ],
      "execution_count": 5,
      "outputs": [
        {
          "output_type": "execute_result",
          "data": {
            "text/plain": [
              "True"
            ]
          },
          "metadata": {},
          "execution_count": 5
        }
      ]
    },
    {
      "cell_type": "code",
      "metadata": {
        "colab": {
          "base_uri": "https://localhost:8080/"
        },
        "id": "-s0U9f_0nDAn",
        "outputId": "b4a5bf37-fe4e-4232-a014-c816ed009d64"
      },
      "source": [
        "all_letters = string.ascii_letters + \" .,;'\"\n",
        "n_letters = len(all_letters)\n",
        "n_letters"
      ],
      "execution_count": 6,
      "outputs": [
        {
          "output_type": "execute_result",
          "data": {
            "text/plain": [
              "57"
            ]
          },
          "metadata": {},
          "execution_count": 6
        }
      ]
    },
    {
      "cell_type": "markdown",
      "metadata": {
        "id": "niLv_RMZpy6M"
      },
      "source": [
        "We need a function that turns ``Unicode`` characters to `ASCII` characters. Basically the function will convert text from this kind of domain `Ślusàrski` to `Slusarski`"
      ]
    },
    {
      "cell_type": "code",
      "metadata": {
        "colab": {
          "base_uri": "https://localhost:8080/"
        },
        "id": "QNM8rjkFnC8d",
        "outputId": "576919ec-de01-4ea4-ca4a-8d2b28bd0f43"
      },
      "source": [
        "def unicodeToAscii(s):\n",
        "  return ''.join(\n",
        "      c for c in unicodedata.normalize('NFD', s)\n",
        "      if unicodedata.category(c) != 'Mn' and c in all_letters\n",
        "  )\n",
        "\n",
        "print(unicodeToAscii('Ślusàrski'))"
      ],
      "execution_count": 7,
      "outputs": [
        {
          "output_type": "stream",
          "text": [
            "Slusarski\n"
          ],
          "name": "stdout"
        }
      ]
    },
    {
      "cell_type": "markdown",
      "metadata": {
        "id": "I6tG0UlEqtfy"
      },
      "source": [
        "Builing the category line dictionary of list of names per language."
      ]
    },
    {
      "cell_type": "code",
      "metadata": {
        "id": "1Phl55A3nC6m"
      },
      "source": [
        "def readLines(filename):\n",
        "  lines = open(filename, encoding=\"utf-8\").read().strip().split('\\n')\n",
        "  return [unicodeToAscii(line) for line in lines]"
      ],
      "execution_count": 8,
      "outputs": []
    },
    {
      "cell_type": "code",
      "metadata": {
        "colab": {
          "base_uri": "https://localhost:8080/"
        },
        "id": "dH1Xi8NdnC3R",
        "outputId": "bdd739e1-4364-4b72-c24f-f003e86f3c67"
      },
      "source": [
        "categories = []\n",
        "category_names = {}\n",
        "\n",
        "for file in os.listdir(file_path):\n",
        "  category = file.split('.')[0]\n",
        "  categories.append(category)\n",
        "  category_names[category] = readLines(os.path.join(file_path, file))\n",
        "len(categories)"
      ],
      "execution_count": 9,
      "outputs": [
        {
          "output_type": "execute_result",
          "data": {
            "text/plain": [
              "18"
            ]
          },
          "metadata": {},
          "execution_count": 9
        }
      ]
    },
    {
      "cell_type": "code",
      "metadata": {
        "colab": {
          "base_uri": "https://localhost:8080/"
        },
        "id": "9VaJkUk_nC1K",
        "outputId": "c1e273dd-f80e-44e1-bce7-a4ba128a84a8"
      },
      "source": [
        "category_names.get(\"French\")[:5]"
      ],
      "execution_count": 10,
      "outputs": [
        {
          "output_type": "execute_result",
          "data": {
            "text/plain": [
              "['Abel', 'Abraham', 'Adam', 'Albert', 'Allard']"
            ]
          },
          "metadata": {},
          "execution_count": 10
        }
      ]
    },
    {
      "cell_type": "markdown",
      "metadata": {
        "id": "g0AqLrhJtEcu"
      },
      "source": [
        "### Converting names into tensors\n",
        "\n",
        "To represent a single letter we are going to make use of `one_hot_vector` where each letter will be representet with a vector of `[1, n_letters]`. Where the index of the current letter will be the only 1 in the vector and others will be only zeros."
      ]
    },
    {
      "cell_type": "code",
      "metadata": {
        "id": "NFKyqqdgnCxW"
      },
      "source": [
        "def letterToIndex(letter):\n",
        "  return all_letters.find(letter)"
      ],
      "execution_count": 11,
      "outputs": []
    },
    {
      "cell_type": "code",
      "metadata": {
        "colab": {
          "base_uri": "https://localhost:8080/"
        },
        "id": "zJDKBoVxnCvr",
        "outputId": "f3b504a6-47a4-483f-d71d-39560899b07a"
      },
      "source": [
        "def letterToTensor(letter):\n",
        "  return torch.from_numpy(\n",
        "      np.eye(n_letters, dtype=\"float32\")[letterToIndex(letter)].reshape(1, -1)\n",
        "  )\n",
        "print(letterToTensor(';'))"
      ],
      "execution_count": 12,
      "outputs": [
        {
          "output_type": "stream",
          "text": [
            "tensor([[0., 0., 0., 0., 0., 0., 0., 0., 0., 0., 0., 0., 0., 0., 0., 0., 0., 0.,\n",
            "         0., 0., 0., 0., 0., 0., 0., 0., 0., 0., 0., 0., 0., 0., 0., 0., 0., 0.,\n",
            "         0., 0., 0., 0., 0., 0., 0., 0., 0., 0., 0., 0., 0., 0., 0., 0., 0., 0.,\n",
            "         0., 1., 0.]])\n"
          ],
          "name": "stdout"
        }
      ]
    },
    {
      "cell_type": "code",
      "metadata": {
        "colab": {
          "base_uri": "https://localhost:8080/"
        },
        "id": "083hBsHyuyHp",
        "outputId": "4885fec4-c939-447a-b233-23ac72d7c826"
      },
      "source": [
        "def lineToTensor(line):\n",
        "  tensor = torch.zeros(len(line), 1, n_letters)\n",
        "  for i, letter in enumerate(line):\n",
        "    tensor[i][0][letterToIndex(letter)] = 1\n",
        "  return tensor\n",
        "\n",
        "print(lineToTensor('Jones').size())\n",
        "print(lineToTensor('Jones'))"
      ],
      "execution_count": 13,
      "outputs": [
        {
          "output_type": "stream",
          "text": [
            "torch.Size([5, 1, 57])\n",
            "tensor([[[0., 0., 0., 0., 0., 0., 0., 0., 0., 0., 0., 0., 0., 0., 0., 0., 0.,\n",
            "          0., 0., 0., 0., 0., 0., 0., 0., 0., 0., 0., 0., 0., 0., 0., 0., 0.,\n",
            "          0., 1., 0., 0., 0., 0., 0., 0., 0., 0., 0., 0., 0., 0., 0., 0., 0.,\n",
            "          0., 0., 0., 0., 0., 0.]],\n",
            "\n",
            "        [[0., 0., 0., 0., 0., 0., 0., 0., 0., 0., 0., 0., 0., 0., 1., 0., 0.,\n",
            "          0., 0., 0., 0., 0., 0., 0., 0., 0., 0., 0., 0., 0., 0., 0., 0., 0.,\n",
            "          0., 0., 0., 0., 0., 0., 0., 0., 0., 0., 0., 0., 0., 0., 0., 0., 0.,\n",
            "          0., 0., 0., 0., 0., 0.]],\n",
            "\n",
            "        [[0., 0., 0., 0., 0., 0., 0., 0., 0., 0., 0., 0., 0., 1., 0., 0., 0.,\n",
            "          0., 0., 0., 0., 0., 0., 0., 0., 0., 0., 0., 0., 0., 0., 0., 0., 0.,\n",
            "          0., 0., 0., 0., 0., 0., 0., 0., 0., 0., 0., 0., 0., 0., 0., 0., 0.,\n",
            "          0., 0., 0., 0., 0., 0.]],\n",
            "\n",
            "        [[0., 0., 0., 0., 1., 0., 0., 0., 0., 0., 0., 0., 0., 0., 0., 0., 0.,\n",
            "          0., 0., 0., 0., 0., 0., 0., 0., 0., 0., 0., 0., 0., 0., 0., 0., 0.,\n",
            "          0., 0., 0., 0., 0., 0., 0., 0., 0., 0., 0., 0., 0., 0., 0., 0., 0.,\n",
            "          0., 0., 0., 0., 0., 0.]],\n",
            "\n",
            "        [[0., 0., 0., 0., 0., 0., 0., 0., 0., 0., 0., 0., 0., 0., 0., 0., 0.,\n",
            "          0., 1., 0., 0., 0., 0., 0., 0., 0., 0., 0., 0., 0., 0., 0., 0., 0.,\n",
            "          0., 0., 0., 0., 0., 0., 0., 0., 0., 0., 0., 0., 0., 0., 0., 0., 0.,\n",
            "          0., 0., 0., 0., 0., 0.]]])\n"
          ],
          "name": "stdout"
        }
      ]
    },
    {
      "cell_type": "markdown",
      "metadata": {
        "id": "wPqzTvHyvkTa"
      },
      "source": [
        "### Model definition.\n",
        "\n",
        "We are going to create our `RNN` layer or module from scratch. The achitecture looks as follows:\n",
        "\n",
        "![img](https://i.imgur.com/Z2xbySO.png)"
      ]
    },
    {
      "cell_type": "code",
      "metadata": {
        "id": "U-BINxoAvf0I"
      },
      "source": [
        "class RNN(nn.Module):\n",
        "  def __init__(self, input_size, hidden_size, output_size):\n",
        "    super(RNN, self).__init__()\n",
        "    self.hidden_size = hidden_size\n",
        "\n",
        "    self.i2h = nn.Linear(input_size + hidden_size, hidden_size)\n",
        "    self.i2o = nn.Linear(input_size + hidden_size, output_size)\n",
        "  \n",
        "  def forward(self, input, hidden):\n",
        "    hidden = hidden.to(device)\n",
        "    input = input.to(device)\n",
        "    combined = torch.cat((input, hidden), 1)\n",
        "    \n",
        "    hidden = self.i2h(combined)\n",
        "    output = self.i2o(combined)\n",
        "    return output, hidden\n",
        "  def initHidden(self):\n",
        "    return torch.rand(size=(1, self.hidden_size))"
      ],
      "execution_count": 24,
      "outputs": []
    },
    {
      "cell_type": "code",
      "metadata": {
        "id": "UESLE0s2xbXP"
      },
      "source": [
        "n_hidden = 128\n",
        "rnn = RNN(n_letters, n_hidden, len(categories)).to(device)"
      ],
      "execution_count": 25,
      "outputs": []
    },
    {
      "cell_type": "markdown",
      "metadata": {
        "id": "rgFtGcvgx906"
      },
      "source": [
        "To run a step of this network we need to pass an input (in our case, the Tensor for the current letter) and a previous hidden state (which we initialize as zeros at first). We’ll get back the output (probability of each language) and a next hidden state (which we keep for the next step)."
      ]
    },
    {
      "cell_type": "code",
      "metadata": {
        "id": "zZAd5c_1xeeq"
      },
      "source": [
        "input = letterToTensor('A').to(device)\n",
        "hidden = torch.zeros(1, n_hidden).to(device)\n",
        "\n",
        "output, next_hidden = rnn(input, hidden)"
      ],
      "execution_count": 26,
      "outputs": []
    },
    {
      "cell_type": "code",
      "metadata": {
        "colab": {
          "base_uri": "https://localhost:8080/"
        },
        "id": "GPupnUeQzjje",
        "outputId": "7961a2fb-7bc2-463b-8cfc-328ce8438138"
      },
      "source": [
        "input = lineToTensor('Albert').to(device)\n",
        "hidden = torch.zeros(1, n_hidden).to(device)\n",
        "\n",
        "output, next_hidden = rnn(input[0], hidden)\n",
        "print(output)"
      ],
      "execution_count": 27,
      "outputs": [
        {
          "output_type": "stream",
          "text": [
            "tensor([[ 0.0085,  0.0400,  0.0183,  0.0599,  0.0601,  0.0283, -0.1087,  0.0567,\n",
            "         -0.0821, -0.0028, -0.0840, -0.0157, -0.0156,  0.0181, -0.0343,  0.0729,\n",
            "         -0.0339, -0.0503]], device='cuda:0', grad_fn=<AddmmBackward>)\n"
          ],
          "name": "stdout"
        }
      ]
    },
    {
      "cell_type": "markdown",
      "metadata": {
        "id": "ikeCBHdKzZS0"
      },
      "source": [
        "### Training\n",
        "Before going into training we should make a few helper functions. The first is to interpret the output of the network, which we know to be a likelihood of each category.\n",
        "\n",
        "\n",
        "\n"
      ]
    },
    {
      "cell_type": "code",
      "metadata": {
        "colab": {
          "base_uri": "https://localhost:8080/"
        },
        "id": "9ykuPzqayQOl",
        "outputId": "d294aa39-94bb-4782-bdef-096c2662efbe"
      },
      "source": [
        "def categoryFromOutput(output):\n",
        "  top_n, top_i = output.topk(1)\n",
        "  category_i = top_i[0].item()\n",
        "  return categories[category_i], category_i\n",
        "print(categoryFromOutput(output))"
      ],
      "execution_count": 28,
      "outputs": [
        {
          "output_type": "stream",
          "text": [
            "('Japanese', 15)\n"
          ],
          "name": "stdout"
        }
      ]
    },
    {
      "cell_type": "code",
      "metadata": {
        "colab": {
          "base_uri": "https://localhost:8080/"
        },
        "id": "vVuSsr6H3Avs",
        "outputId": "c88e17b9-2b56-4f54-9f75-29f168e40ba3"
      },
      "source": [
        "def randomChoice(l):\n",
        "   return l[random.randint(0, len(l) - 1)]\n",
        "\n",
        "def randomTrainingExample():\n",
        "  category = randomChoice(categories)\n",
        "  line = randomChoice(category_names[category])\n",
        "  category_tensor = torch.tensor([categories.index(category)], dtype=torch.long)\n",
        "  line_tensor = lineToTensor(line)\n",
        "  return category, line, category_tensor, line_tensor\n",
        "\n",
        "for i in range(10):\n",
        "  category, line, category_tensor, line_tensor = randomTrainingExample()\n",
        "  print('category =', category, '/ line =', line)\n"
      ],
      "execution_count": 29,
      "outputs": [
        {
          "output_type": "stream",
          "text": [
            "category = Czech / line = Till\n",
            "category = Scottish / line = Smith\n",
            "category = French / line = Porcher\n",
            "category = Vietnamese / line = Kim\n",
            "category = Russian / line = Halepsky\n",
            "category = Vietnamese / line = Ngo\n",
            "category = English / line = Howell\n",
            "category = Spanish / line = Oleastro\n",
            "category = Italian / line = Selvaggio\n",
            "category = Scottish / line = Thomson\n"
          ],
          "name": "stdout"
        }
      ]
    },
    {
      "cell_type": "markdown",
      "metadata": {
        "id": "tAhhjndw0TY5"
      },
      "source": [
        "### Loss"
      ]
    },
    {
      "cell_type": "code",
      "metadata": {
        "id": "ObQ8QWUt0Qne"
      },
      "source": [
        "criterion = nn.NLLLoss().to(device)"
      ],
      "execution_count": 30,
      "outputs": []
    },
    {
      "cell_type": "code",
      "metadata": {
        "id": "WZHNm7e0BFIK"
      },
      "source": [
        "optimimizer = torch.optim.Adam(rnn.parameters())"
      ],
      "execution_count": 31,
      "outputs": []
    },
    {
      "cell_type": "markdown",
      "metadata": {
        "id": "0s7ZBGHn0r40"
      },
      "source": [
        "### Training loop\n",
        "* Create input and target tensors\n",
        "* Create a random initial hidden state\n",
        "* Read each letter in and\n",
        "* Keep hidden state for next letter\n",
        "* Compare final output to target\n",
        "* Back-propagate\n",
        "* Return the output and loss"
      ]
    },
    {
      "cell_type": "code",
      "metadata": {
        "id": "So75iOfv0Qj6"
      },
      "source": [
        "def train(category_tensor, line_tensor, optimimizer, model):\n",
        "  model.train()\n",
        "  category_tensor = category_tensor.to(device)\n",
        "  line_tensor = line_tensor.to(device)\n",
        "\n",
        "  hidden = model.initHidden()\n",
        "  optimimizer.zero_grad()\n",
        "\n",
        "  for i in range(line_tensor.size()[0]):\n",
        "    output, hidden = model(line_tensor[i], hidden)\n",
        "  loss = criterion(output, category_tensor)\n",
        "  optimimizer.step()\n",
        "  return output, loss.item()"
      ],
      "execution_count": 32,
      "outputs": []
    },
    {
      "cell_type": "code",
      "metadata": {
        "colab": {
          "base_uri": "https://localhost:8080/"
        },
        "id": "AxA5xmLw0QhA",
        "outputId": "dbfeede4-7cf9-4a21-b435-c58b51518cb3"
      },
      "source": [
        "n_iters = 100000\n",
        "print_every = 5000\n",
        "plot_every = 1000\n",
        "\n",
        "current_loss = 0\n",
        "all_losses = []\n",
        "\n",
        "def timeSince(since):\n",
        "  now = time.time()\n",
        "  s = now - since\n",
        "  m = math.floor(s / 60)\n",
        "  s -= m * 60\n",
        "  return '%dm %ds' % (m, s)\n",
        "start = time.time()\n",
        "\n",
        "for iter in range(1, n_iters + 1):\n",
        "  category, line, category_tensor, line_tensor = randomTrainingExample()\n",
        "  output, loss = train(category_tensor, line_tensor, optimimizer, rnn)\n",
        "\n",
        "  current_loss += loss\n",
        "  if iter % print_every == 0:\n",
        "    guess, guess_i = categoryFromOutput(output)\n",
        "    correct = '✓' if guess == category else '✗ (%s)' % category\n",
        "    print('%d %d%% (%s) %.4f %s / %s %s' % (iter, iter / n_iters * 100, timeSince(start), loss, line, guess, correct))\n",
        "\n",
        "  # Add current loss avg to list of losses\n",
        "  if iter % plot_every == 0:\n",
        "      all_losses.append(current_loss / plot_every)\n",
        "      current_loss = 0\n"
      ],
      "execution_count": 33,
      "outputs": [
        {
          "output_type": "stream",
          "text": [
            "5000 5% (0m 6s) -0.0674 Ruhlyadko / Japanese ✗ (Russian)\n",
            "10000 10% (0m 13s) 0.1001 Zabek / English ✗ (Polish)\n",
            "15000 15% (0m 20s) 0.1224 Zientek / English ✗ (Polish)\n",
            "20000 20% (0m 27s) -0.0163 Kolen / French ✗ (Dutch)\n",
            "25000 25% (0m 34s) 0.1449 Meisner / Irish ✗ (German)\n",
            "30000 30% (0m 41s) 0.1584 Ritter / Irish ✗ (German)\n",
            "35000 35% (0m 47s) 0.0666 Toset / Italian ✗ (Spanish)\n",
            "40000 40% (0m 54s) -0.0369 Qian / Japanese ✗ (Chinese)\n",
            "45000 45% (1m 1s) 0.1194 Heidrich / Japanese ✗ (German)\n",
            "50000 50% (1m 8s) 0.0060 Ron / Japanese ✗ (Korean)\n",
            "55000 55% (1m 14s) -0.0767 Saigo / Japanese ✓\n",
            "60000 60% (1m 21s) -0.0409 Jon / Russian ✗ (Korean)\n",
            "65000 65% (1m 28s) 0.0967 Krauss / English ✗ (German)\n",
            "70000 70% (1m 35s) 0.0364 An / Italian ✗ (Vietnamese)\n",
            "75000 75% (1m 41s) 0.0109 Pantelas / English ✗ (Greek)\n",
            "80000 80% (1m 48s) -0.1993 Roy / French ✓\n",
            "85000 85% (1m 55s) -0.1051 Murkami / English ✗ (Japanese)\n",
            "90000 90% (2m 2s) -0.0311 Youj / English ✗ (Korean)\n",
            "95000 95% (2m 8s) -0.0140 Karameros / English ✗ (Greek)\n",
            "100000 100% (2m 15s) -0.0620 Loft / Italian ✗ (English)\n"
          ],
          "name": "stdout"
        }
      ]
    },
    {
      "cell_type": "markdown",
      "metadata": {
        "id": "PX3TpFCj3_jY"
      },
      "source": [
        "### Plotting results"
      ]
    },
    {
      "cell_type": "code",
      "metadata": {
        "colab": {
          "base_uri": "https://localhost:8080/",
          "height": 282
        },
        "id": "wOr2IfPq0Qc_",
        "outputId": "a732b960-98af-452f-922c-0026443e6e86"
      },
      "source": [
        "import matplotlib.pyplot as plt\n",
        "import matplotlib.ticker as ticker\n",
        "\n",
        "plt.figure()\n",
        "plt.plot(all_losses)"
      ],
      "execution_count": 34,
      "outputs": [
        {
          "output_type": "execute_result",
          "data": {
            "text/plain": [
              "[<matplotlib.lines.Line2D at 0x7fcda69c0050>]"
            ]
          },
          "metadata": {},
          "execution_count": 34
        },
        {
          "output_type": "display_data",
          "data": {
            "image/png": "[encoded data removed]",
            "text/plain": [
              "<Figure size 432x288 with 1 Axes>"
            ]
          },
          "metadata": {
            "needs_background": "light"
          }
        }
      ]
    },
    {
      "cell_type": "markdown",
      "metadata": {
        "id": "zMtwuCOR4Iwi"
      },
      "source": [
        "### Evaluating the results\n",
        "\n",
        "To see how well the network performs on different categories, we will create a confusion matrix, indicating for every actual language (rows) which language the network guesses (columns). To calculate the confusion matrix a bunch of samples are run through the network with evaluate(), which is the same as train() minus the backprop."
      ]
    },
    {
      "cell_type": "code",
      "metadata": {
        "colab": {
          "base_uri": "https://localhost:8080/",
          "height": 320
        },
        "id": "fctqPrNo0Qbc",
        "outputId": "2c0637c7-a4ec-44dc-ce5c-42aea32fc1b0"
      },
      "source": [
        "# Keep track of correct guesses in a confusion matrix\n",
        "confusion = torch.zeros(len(categories), len(categories))\n",
        "n_confusion = 10000\n",
        "# Just return an output given a line\n",
        "def evaluate(line_tensor):\n",
        "  hidden = rnn.initHidden()\n",
        "  for i in range(line_tensor.size()[0]):\n",
        "    output, hidden = rnn(line_tensor[i], hidden)\n",
        "  return output\n",
        "\n",
        "# Go through a bunch of examples and record which are correctly guessed\n",
        "for i in range(n_confusion):\n",
        "  category, line, category_tensor, line_tensor = randomTrainingExample()\n",
        "  output = evaluate(line_tensor)\n",
        "  guess, guess_i = categoryFromOutput(output)\n",
        "  category_i = categories.index(category)\n",
        "  confusion[category_i][guess_i] += 1\n",
        "\n",
        "# Normalize by dividing every row by its sum\n",
        "for i in range(len(categories)):\n",
        "  confusion[i] = confusion[i] / confusion[i].sum()\n",
        "\n",
        "# Set up plot\n",
        "fig = plt.figure()\n",
        "ax = fig.add_subplot(111)\n",
        "cax = ax.matshow(confusion.numpy())\n",
        "fig.colorbar(cax)\n",
        "\n",
        "# Set up axes\n",
        "ax.set_xticklabels([''] + categories, rotation=90)\n",
        "ax.set_yticklabels([''] + categories)\n",
        "\n",
        "# Force label at every tick\n",
        "ax.xaxis.set_major_locator(ticker.MultipleLocator(1))\n",
        "ax.yaxis.set_major_locator(ticker.MultipleLocator(1))\n",
        "\n",
        "# sphinx_galler"
      ],
      "execution_count": 39,
      "outputs": [
        {
          "output_type": "display_data",
          "data": {
            "image/png": "[encoded data removed]",
            "text/plain": [
              "<Figure size 432x288 with 2 Axes>"
            ]
          },
          "metadata": {
            "needs_background": "light"
          }
        }
      ]
    },
    {
      "cell_type": "markdown",
      "metadata": {
        "id": "bZrLPE2w4cAv"
      },
      "source": [
        "### User input"
      ]
    },
    {
      "cell_type": "code",
      "metadata": {
        "colab": {
          "base_uri": "https://localhost:8080/"
        },
        "id": "KlJZLnUc0QXA",
        "outputId": "de37c6bd-ea14-438f-bd05-67385a65a3f2"
      },
      "source": [
        "def predict(input_line, n_predictions=3):\n",
        "  print('\\n> %s' % input_line)\n",
        "  with torch.no_grad():\n",
        "    output = evaluate(lineToTensor(input_line))\n",
        "\n",
        "    # Get top N categories\n",
        "    topv, topi = output.topk(n_predictions, 1, True)\n",
        "    predictions = []\n",
        "\n",
        "    for i in range(n_predictions):\n",
        "      value = topv[0][i].item()\n",
        "      category_index = topi[0][i].item()\n",
        "      print('(%.2f) %s' % (value, categories[category_index]))\n",
        "      predictions.append([value, categories[category_index]])\n",
        "\n",
        "predict('Dovesky')\n",
        "predict('Jackson')\n",
        "predict('Satoshi')"
      ],
      "execution_count": 42,
      "outputs": [
        {
          "output_type": "stream",
          "text": [
            "\n",
            "> Dovesky\n",
            "(0.10) Japanese\n",
            "(0.09) Italian\n",
            "(0.09) French\n",
            "\n",
            "> Jackson\n",
            "(0.13) Italian\n",
            "(0.13) Russian\n",
            "(0.07) Japanese\n",
            "\n",
            "> Satoshi\n",
            "(0.17) English\n",
            "(0.10) Japanese\n",
            "(0.08) Spanish\n"
          ],
          "name": "stdout"
        }
      ]
    },
    {
      "cell_type": "markdown",
      "metadata": {
        "id": "u5MNe7p54e4X"
      },
      "source": [
        "### Conclusion\n",
        "\n",
        "We have learnt a lot in this notebook.\n",
        "\n",
        "### Todos\n",
        "* Try with a different dataset of line -> category, for example:\n",
        "* Any word -> language\n",
        "* First name -> gender\n",
        "* Character name -> writer\n",
        "* Page title -> blog or subreddit\n",
        "\n",
        "_Get better results with a bigger and/or better shaped network_\n",
        "* Add more linear layers\n",
        "* Try the `nn.LSTM` and `nn.GRU` layers\n",
        "* Combine multiple of these RNNs as a higher level network\n",
        "\n",
        "### Ref:\n",
        "\n",
        "[this tutorial](https://pytorch.org/tutorials/intermediate/char_rnn_classification_tutorial.html)\n",
        "\n"
      ]
    }
  ]
}