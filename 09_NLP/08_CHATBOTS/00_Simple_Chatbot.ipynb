{
  "nbformat": 4,
  "nbformat_minor": 0,
  "metadata": {
    "colab": {
      "name": "00_Simple_Chatbot.ipynb",
      "provenance": [],
      "collapsed_sections": []
    },
    "kernelspec": {
      "name": "python3",
      "display_name": "Python 3"
    },
    "language_info": {
      "name": "python"
    },
    "accelerator": "GPU"
  },
  "cells": [
    {
      "cell_type": "markdown",
      "metadata": {
        "id": "FSRP6-td75NN"
      },
      "source": [
        "### A simple chatbot.\n",
        "\n",
        "\n",
        "In this notebook we are going to create a simple chatbot sith the dataset that comes from [Cornell_Movie-Dialogs_Corpus](https://www.cs.cornell.edu/~cristian/Cornell_Movie-Dialogs_Corpus.html) in pytorch.\n",
        "\n",
        "\n",
        "I will be loading this dataset that I've downloaded from my google drive since i'm working on google colab.\n",
        "\n",
        "\n",
        "### Mounting the drive"
      ]
    },
    {
      "cell_type": "code",
      "metadata": {
        "colab": {
          "base_uri": "https://localhost:8080/"
        },
        "id": "AgqGIi187uFS",
        "outputId": "ecbb0117-eb22-4181-a568-9ad10311e228"
      },
      "source": [
        "from google.colab import drive\n",
        "drive.mount('/content/drive')"
      ],
      "execution_count": 1,
      "outputs": [
        {
          "output_type": "stream",
          "name": "stdout",
          "text": [
            "Mounted at /content/drive\n"
          ]
        }
      ]
    },
    {
      "cell_type": "markdown",
      "metadata": {
        "id": "YnMZm_Sv-kxs"
      },
      "source": [
        "### Imports\n",
        "\n"
      ]
    },
    {
      "cell_type": "code",
      "metadata": {
        "colab": {
          "base_uri": "https://localhost:8080/",
          "height": 35
        },
        "id": "56LeuYwv707r",
        "outputId": "1dbe0c87-45e8-4925-a5ef-8391cf7b6ae0"
      },
      "source": [
        "from __future__ import absolute_import, division, print_function, unicode_literals\n",
        "\n",
        "import torch\n",
        "from torch import nn\n",
        "from torch.nn import functional as F\n",
        "from torch.jit import script, trace\n",
        "\n",
        "import csv, random, re, os, codecs, math, time, itertools, unicodedata\n",
        "\n",
        "torch.__version__\n"
      ],
      "execution_count": 2,
      "outputs": [
        {
          "output_type": "execute_result",
          "data": {
            "application/vnd.google.colaboratory.intrinsic+json": {
              "type": "string"
            },
            "text/plain": [
              "'1.9.0+cu111'"
            ]
          },
          "metadata": {},
          "execution_count": 2
        }
      ]
    },
    {
      "cell_type": "markdown",
      "metadata": {
        "id": "YA4X0m54_ZgL"
      },
      "source": [
        "### Device\n"
      ]
    },
    {
      "cell_type": "code",
      "metadata": {
        "colab": {
          "base_uri": "https://localhost:8080/"
        },
        "id": "bAhlWwZD705c",
        "outputId": "2fd6cea6-b8ad-4e45-ce2b-0b7af3739772"
      },
      "source": [
        "device = torch.device(\"cuda\" if torch.cuda.is_available() else 'cpu')\n",
        "device"
      ],
      "execution_count": 4,
      "outputs": [
        {
          "output_type": "execute_result",
          "data": {
            "text/plain": [
              "device(type='cuda')"
            ]
          },
          "metadata": {},
          "execution_count": 4
        }
      ]
    },
    {
      "cell_type": "markdown",
      "metadata": {
        "id": "heKZxpXn_o6U"
      },
      "source": [
        "### Loading and processing data.\n",
        "\n",
        "The [Cornell Movie-Dialogs Corpus](https://www.cs.cornell.edu/~cristian/Cornell_Movie-Dialogs_Corpus.html) is a rich dataset of movie character dialog:\n",
        "\n",
        "* 220,579 conversational exchanges between 10,292 pairs of movie characters\n",
        "* 9,035 characters from 617 movies\n",
        "* 304,713 total utterances\n",
        "\n",
        "### extracting the dataset"
      ]
    },
    {
      "cell_type": "code",
      "metadata": {
        "colab": {
          "base_uri": "https://localhost:8080/"
        },
        "id": "4SXqPLSUAZq_",
        "outputId": "adf37d4e-e7ff-4828-d6c5-7d67d048c17a"
      },
      "source": [
        "path_to_zip_file = '/content/drive/My Drive/NLP Data/cornell_movie_dialogs_corpus/cornell_movie_dialogs_corpus.zip'\n",
        "os.path.exists(path_to_zip_file)"
      ],
      "execution_count": 5,
      "outputs": [
        {
          "output_type": "execute_result",
          "data": {
            "text/plain": [
              "True"
            ]
          },
          "metadata": {},
          "execution_count": 5
        }
      ]
    },
    {
      "cell_type": "code",
      "metadata": {
        "id": "RsjOHNTPA8J1"
      },
      "source": [
        "path_to_data = '/content/drive/My Drive/NLP Data/cornell_movie_dialogs_corpus/data'\n"
      ],
      "execution_count": 6,
      "outputs": []
    },
    {
      "cell_type": "code",
      "metadata": {
        "id": "PP82k4ZA702R"
      },
      "source": [
        "# import zipfile\n",
        "# with zipfile.ZipFile(path_to_zip_file, 'r') as zip_ref:\n",
        "#     zip_ref.extractall(path_to_data)"
      ],
      "execution_count": 7,
      "outputs": []
    },
    {
      "cell_type": "markdown",
      "metadata": {
        "id": "y_deddBlBOYT"
      },
      "source": [
        "First, we’ll take a look at some lines of our datafile to see the original format."
      ]
    },
    {
      "cell_type": "code",
      "metadata": {
        "colab": {
          "base_uri": "https://localhost:8080/"
        },
        "id": "PLlzUzpi70zV",
        "outputId": "5926f5cf-6f82-4426-eb9e-b1f2df6e6de0"
      },
      "source": [
        "corpus_name = \"cornell movie-dialogs corpus\"\n",
        "corpus = os.path.join(path_to_data, corpus_name)\n",
        "\n",
        "def print_lines(file, n=10):\n",
        "    with open(file, 'rb') as datafile:\n",
        "        lines = datafile.readlines()\n",
        "    for line in lines[:n]:\n",
        "        print(line)\n",
        "\n",
        "print_lines(os.path.join(corpus, \"movie_lines.txt\"))"
      ],
      "execution_count": 9,
      "outputs": [
        {
          "output_type": "stream",
          "name": "stdout",
          "text": [
            "b'L1045 +++$+++ u0 +++$+++ m0 +++$+++ BIANCA +++$+++ They do not!\\n'\n",
            "b'L1044 +++$+++ u2 +++$+++ m0 +++$+++ CAMERON +++$+++ They do to!\\n'\n",
            "b'L985 +++$+++ u0 +++$+++ m0 +++$+++ BIANCA +++$+++ I hope so.\\n'\n",
            "b'L984 +++$+++ u2 +++$+++ m0 +++$+++ CAMERON +++$+++ She okay?\\n'\n",
            "b\"L925 +++$+++ u0 +++$+++ m0 +++$+++ BIANCA +++$+++ Let's go.\\n\"\n",
            "b'L924 +++$+++ u2 +++$+++ m0 +++$+++ CAMERON +++$+++ Wow\\n'\n",
            "b\"L872 +++$+++ u0 +++$+++ m0 +++$+++ BIANCA +++$+++ Okay -- you're gonna need to learn how to lie.\\n\"\n",
            "b'L871 +++$+++ u2 +++$+++ m0 +++$+++ CAMERON +++$+++ No\\n'\n",
            "b'L870 +++$+++ u0 +++$+++ m0 +++$+++ BIANCA +++$+++ I\\'m kidding.  You know how sometimes you just become this \"persona\"?  And you don\\'t know how to quit?\\n'\n",
            "b'L869 +++$+++ u0 +++$+++ m0 +++$+++ BIANCA +++$+++ Like my fear of wearing pastels?\\n'\n"
          ]
        }
      ]
    },
    {
      "cell_type": "markdown",
      "metadata": {
        "id": "Fwi2pYzJBkQs"
      },
      "source": [
        "### Creating a formated data file.\n",
        "\n",
        "We are goig to create a formatted data file where each sentence and response pair will be tab-separated."
      ]
    },
    {
      "cell_type": "code",
      "metadata": {
        "id": "CYpirfVp70we"
      },
      "source": [
        "def load_lines(filename, fields):\n",
        "  \"\"\"\n",
        "  splits each line of the file into a dictionary of fields \n",
        "  (lineID, characterID, movieID, character, text)\n",
        "  \"\"\"\n",
        "  lines ={}\n",
        "  with open(filename, \"r\", encoding=\"iso-8859-1\") as f:\n",
        "    for line in f:\n",
        "      values = line.split(\" +++$+++ \")\n",
        "      obj = {}\n",
        "      for i, field in enumerate(fields):\n",
        "        obj[field] = values[i]\n",
        "        lines[obj['lineID']] = obj\n",
        "  return lines"
      ],
      "execution_count": 10,
      "outputs": []
    },
    {
      "cell_type": "code",
      "metadata": {
        "id": "pwwdtpqS70tO"
      },
      "source": [
        "def load_conversations(filename, lines, fields):\n",
        "  \"\"\"\n",
        "  groups fields of lines from loadLines into conversations based on movie_conversations.txt\n",
        "\n",
        "  \"\"\"\n",
        "  conversations =[]\n",
        "  with open(filename, 'r', encoding='iso-8859-1') as f:\n",
        "    for line in f:\n",
        "      values = line.split(\" +++$+++ \")\n",
        "      # Extract fields\n",
        "      convObj = {}\n",
        "      for i, field in enumerate(fields):\n",
        "          convObj[field] = values[i]\n",
        "      # Convert string to list (convObj[\"utteranceIDs\"] == \"['L598485', 'L598486', ...]\")\n",
        "      utterance_id_pattern = re.compile('L[0-9]+')\n",
        "      lineIds = utterance_id_pattern.findall(convObj[\"utteranceIDs\"])\n",
        "      # Reassemble lines\n",
        "      convObj[\"lines\"] = []\n",
        "      for lineId in lineIds:\n",
        "          convObj[\"lines\"].append(lines[lineId])\n",
        "      conversations.append(convObj)\n",
        "  return conversations\n"
      ],
      "execution_count": 19,
      "outputs": []
    },
    {
      "cell_type": "code",
      "metadata": {
        "id": "YgbD5rOy70qp"
      },
      "source": [
        "# Extracts pairs of sentences from conversations\n",
        "def extract_sentence_pairs(conversations):\n",
        "  qa_pairs = []\n",
        "  for conversation in conversations:\n",
        "    # Iterate over all the lines of the conversation\n",
        "    for i in range(len(conversation[\"lines\"]) - 1):  # We ignore the last line (no answer for it)\n",
        "      input_line = conversation[\"lines\"][i][\"text\"].strip()\n",
        "      target_line = conversation[\"lines\"][i+1][\"text\"].strip()\n",
        "      # Filter wrong samples (if one of the lists is empty)\n",
        "      if input_line and target_line:\n",
        "          qa_pairs.append([input_line, target_line])\n",
        "  return qa_pairs\n",
        "  "
      ],
      "execution_count": 12,
      "outputs": []
    },
    {
      "cell_type": "markdown",
      "metadata": {
        "id": "n2DQp38JEZ3K"
      },
      "source": [
        "> Next we are going to save the formated movies line pairs delimited by a tab as `formatted_movie_lines.txt`"
      ]
    },
    {
      "cell_type": "code",
      "metadata": {
        "id": "jCDTUh3d70nw"
      },
      "source": [
        "datafile = os.path.join(corpus, \"formatted_movie_lines.txt\")"
      ],
      "execution_count": 13,
      "outputs": []
    },
    {
      "cell_type": "code",
      "metadata": {
        "id": "tAUlTGki70lF"
      },
      "source": [
        "lines = {}\n",
        "conversations = []\n",
        "MOVIE_LINES_FIELDS = [\"lineID\", \"characterID\", \"movieID\", \"character\", \"text\"]\n",
        "MOVIE_CONVERSATIONS_FIELDS = [\"character1ID\", \"character2ID\", \"movieID\", \"utteranceIDs\"]\n"
      ],
      "execution_count": 17,
      "outputs": []
    },
    {
      "cell_type": "code",
      "metadata": {
        "colab": {
          "base_uri": "https://localhost:8080/"
        },
        "id": "5PR3597l70iJ",
        "outputId": "60f15aab-c7d5-4e5c-8b00-30e4a1421a1d"
      },
      "source": [
        "# Load lines and process conversations\n",
        "print(\"\\nProcessing corpus...\")\n",
        "lines = load_lines(os.path.join(corpus, \"movie_lines.txt\"), MOVIE_LINES_FIELDS)\n",
        "print(\"\\nLoading conversations...\")\n",
        "conversations = load_conversations(os.path.join(corpus, \"movie_conversations.txt\"),\n",
        "                                  lines, MOVIE_CONVERSATIONS_FIELDS)"
      ],
      "execution_count": 20,
      "outputs": [
        {
          "output_type": "stream",
          "name": "stdout",
          "text": [
            "\n",
            "Processing corpus...\n",
            "\n",
            "Loading conversations...\n"
          ]
        }
      ]
    },
    {
      "cell_type": "code",
      "metadata": {
        "colab": {
          "base_uri": "https://localhost:8080/"
        },
        "id": "LVC0Y9US70fR",
        "outputId": "230e660f-316b-4d66-c520-800dd3d596f4"
      },
      "source": [
        "conversations[0]"
      ],
      "execution_count": 21,
      "outputs": [
        {
          "output_type": "execute_result",
          "data": {
            "text/plain": [
              "{'character1ID': 'u0',\n",
              " 'character2ID': 'u2',\n",
              " 'lines': [{'character': 'BIANCA',\n",
              "   'characterID': 'u0',\n",
              "   'lineID': 'L194',\n",
              "   'movieID': 'm0',\n",
              "   'text': 'Can we make this quick?  Roxanne Korrine and Andrew Barrett are having an incredibly horrendous public break- up on the quad.  Again.\\n'},\n",
              "  {'character': 'CAMERON',\n",
              "   'characterID': 'u2',\n",
              "   'lineID': 'L195',\n",
              "   'movieID': 'm0',\n",
              "   'text': \"Well, I thought we'd start with pronunciation, if that's okay with you.\\n\"},\n",
              "  {'character': 'BIANCA',\n",
              "   'characterID': 'u0',\n",
              "   'lineID': 'L196',\n",
              "   'movieID': 'm0',\n",
              "   'text': 'Not the hacking and gagging and spitting part.  Please.\\n'},\n",
              "  {'character': 'CAMERON',\n",
              "   'characterID': 'u2',\n",
              "   'lineID': 'L197',\n",
              "   'movieID': 'm0',\n",
              "   'text': \"Okay... then how 'bout we try out some French cuisine.  Saturday?  Night?\\n\"}],\n",
              " 'movieID': 'm0',\n",
              " 'utteranceIDs': \"['L194', 'L195', 'L196', 'L197']\\n\"}"
            ]
          },
          "metadata": {},
          "execution_count": 21
        }
      ]
    },
    {
      "cell_type": "markdown",
      "metadata": {
        "id": "WMxKhG4cFw-b"
      },
      "source": [
        "writting to a `csv` file."
      ]
    },
    {
      "cell_type": "code",
      "metadata": {
        "colab": {
          "base_uri": "https://localhost:8080/"
        },
        "id": "eRJF1GO_70cM",
        "outputId": "cceb5d2c-286f-4488-b19e-d03d872d8a39"
      },
      "source": [
        "# Write new csv file\n",
        "\n",
        "delimiter = '\\t'\n",
        "# Unescape the delimiter\n",
        "delimiter = str(codecs.decode(delimiter, \"unicode_escape\"))\n",
        "\n",
        "print(\"\\nWriting newly formatted file...\")\n",
        "with open(datafile, 'w', encoding='utf-8') as outputfile:\n",
        "    writer = csv.writer(outputfile, delimiter=delimiter, lineterminator='\\n')\n",
        "    for pair in extract_sentence_pairs(conversations):\n",
        "        writer.writerow(pair)"
      ],
      "execution_count": 23,
      "outputs": [
        {
          "output_type": "stream",
          "name": "stdout",
          "text": [
            "\n",
            "Writing newly formatted file...\n"
          ]
        }
      ]
    },
    {
      "cell_type": "code",
      "metadata": {
        "colab": {
          "base_uri": "https://localhost:8080/"
        },
        "id": "6kU-A2n970Wg",
        "outputId": "c787a34a-bdb3-407b-fa5a-c52a861e3310"
      },
      "source": [
        "print(\"\\nSample lines from file:\")\n",
        "print_lines(datafile)"
      ],
      "execution_count": 25,
      "outputs": [
        {
          "output_type": "stream",
          "name": "stdout",
          "text": [
            "\n",
            "Sample lines from file:\n",
            "b\"Can we make this quick?  Roxanne Korrine and Andrew Barrett are having an incredibly horrendous public break- up on the quad.  Again.\\tWell, I thought we'd start with pronunciation, if that's okay with you.\\n\"\n",
            "b\"Well, I thought we'd start with pronunciation, if that's okay with you.\\tNot the hacking and gagging and spitting part.  Please.\\n\"\n",
            "b\"Not the hacking and gagging and spitting part.  Please.\\tOkay... then how 'bout we try out some French cuisine.  Saturday?  Night?\\n\"\n",
            "b\"You're asking me out.  That's so cute. What's your name again?\\tForget it.\\n\"\n",
            "b\"No, no, it's my fault -- we didn't have a proper introduction ---\\tCameron.\\n\"\n",
            "b\"Cameron.\\tThe thing is, Cameron -- I'm at the mercy of a particularly hideous breed of loser.  My sister.  I can't date until she does.\\n\"\n",
            "b\"The thing is, Cameron -- I'm at the mercy of a particularly hideous breed of loser.  My sister.  I can't date until she does.\\tSeems like she could get a date easy enough...\\n\"\n",
            "b'Why?\\tUnsolved mystery.  She used to be really popular when she started high school, then it was just like she got sick of it or something.\\n'\n",
            "b\"Unsolved mystery.  She used to be really popular when she started high school, then it was just like she got sick of it or something.\\tThat's a shame.\\n\"\n",
            "b'Gosh, if only we could find Kat a boyfriend...\\tLet me see what I can do.\\n'\n"
          ]
        }
      ]
    },
    {
      "cell_type": "markdown",
      "metadata": {
        "id": "IZsmA-XyGTJb"
      },
      "source": [
        "### Loading and trimming data.\n",
        "\n",
        "We aare going to create the `Voc` class which keeps a mapping from words to indexes, a reverse mapping of indices to words, a count of each word and a total word count. \n",
        "\n",
        "The class provides methods for adding a word to the vocabulary (`add_word`), adding all words in a sentence ``(add_sentence)`` and trimming infrequently seen words (`trim`). More on trimming later."
      ]
    },
    {
      "cell_type": "code",
      "metadata": {
        "id": "ZNk91CiB70Tc"
      },
      "source": [
        "# Default word tokens\n",
        "PAD_token = 0  # Used for padding short sentences\n",
        "SOS_token = 1  # Start-of-sentence token\n",
        "EOS_token = 2  # End-of-sentence token\n"
      ],
      "execution_count": 26,
      "outputs": []
    },
    {
      "cell_type": "code",
      "metadata": {
        "id": "XZHcYwnDG5xN"
      },
      "source": [
        "class Voc:\n",
        "  def __init__(self, name):\n",
        "    self.name = name\n",
        "    self.trimmed = False\n",
        "    self.word2index = {}\n",
        "    self.word2count = {}\n",
        "    self.index2word = {PAD_token: \"<pad>\", \n",
        "                       SOS_token: \"<sos>\", \n",
        "                       EOS_token:\"<eos>\"}\n",
        "    self.num_words = 3  # Count SOS, EOS, PAD\n",
        "\n",
        "  def add_sentence(self, sentence):\n",
        "    for word in sentence.split(\" \"):\n",
        "      self.add_word(word)\n",
        "\n",
        "  def add_word(self, word):\n",
        "    if word not in self.word2index:\n",
        "      self.word2index[word] = self.num_words\n",
        "      self.word2count[word] = 1\n",
        "      self.index2word[self.num_words] = word\n",
        "      self.num_words += 1\n",
        "    else:\n",
        "      self.word2count[word] += 1\n",
        "\n",
        "  def trim(self, min_count):\n",
        "    if self.trimmed:\n",
        "      return\n",
        "    self.trimmed = True\n",
        "\n",
        "    keep_words = []\n",
        "\n",
        "    for k, v in self.word2count.items():\n",
        "      if v >= min_count:\n",
        "        keep_words.append(k)\n",
        "      print('keep_words {} / {} = {:.4f}'.format(\n",
        "              len(keep_words), len(self.word2index), len(keep_words) / len(self.word2index)\n",
        "          ))\n",
        "\n",
        "      # Reinitialize dictionaries\n",
        "      self.word2index = {}\n",
        "      self.word2count = {}\n",
        "      self.index2word = {PAD_token: \"PAD\", SOS_token: \"SOS\", EOS_token: \"EOS\"}\n",
        "      self.num_words = 3 # Count default tokens\n",
        "\n",
        "      for word in keep_words:\n",
        "          self.add_word(word)\n"
      ],
      "execution_count": 42,
      "outputs": []
    },
    {
      "cell_type": "markdown",
      "metadata": {
        "id": "f4Fpep8JIz3x"
      },
      "source": [
        "Before we can use this dataset, we need to persome some preprocessing on it."
      ]
    },
    {
      "cell_type": "code",
      "metadata": {
        "id": "d-ifz_VSIzsm"
      },
      "source": [
        "MAX_LENGTH = 10  # Maximum sentence length to consider\n",
        "\n",
        "def unicode_to_ascii(s):\n",
        "  # convert unicodes to ascii characters\n",
        "  return ''.join(\n",
        "        c for c in unicodedata.normalize('NFD', s)\n",
        "        if unicodedata.category(c) != 'Mn'\n",
        "    )\n",
        "\n",
        "def normalize_string(s):\n",
        "  s = unicode_to_ascii(s.lower().strip())\n",
        "  s = re.sub(r\"([.!?])\", r\" \\1\", s)\n",
        "  s = re.sub(r\"[^a-zA-Z.!?]+\", r\" \", s)\n",
        "  s = re.sub(r\"\\s+\", r\" \", s).strip()\n",
        "  return s\n",
        "\n",
        "def read_vocs(datafile, corpus_name):\n",
        "  # Read query/response pairs and return a voc object\n",
        "  lines = open(datafile, encoding='utf-8').read().strip().split(\"\\n\")\n",
        "  pairs = [[normalize_string(s) for s in l.split('\\t')] for l in lines]\n",
        "  voc = Voc(corpus_name)\n",
        "  return voc, pairs\n",
        "\n",
        "def filter_pair(p):\n",
        "  return len(p[0].split(' ')) < MAX_LENGTH and len(p[1].split(' ')) < MAX_LENGTH\n",
        "\n",
        "def filter_pairs(pairs):\n",
        "    return [pair for pair in pairs if filter_pair(pair)]\n",
        "\n",
        "\n",
        "def load_prepare_data(corpus, corpus_name, datafile, save_dir):\n",
        "    print(\"Start preparing training data ...\")\n",
        "    voc, pairs = read_vocs(datafile, corpus_name)\n",
        "    print(\"Read {!s} sentence pairs\".format(len(pairs)))\n",
        "    pairs = filter_pairs(pairs)\n",
        "    print(\"Trimmed to {!s} sentence pairs\".format(len(pairs)))\n",
        "    print(\"Counting words...\")\n",
        "    for pair in pairs:\n",
        "        voc.add_sentence(pair[0])\n",
        "        voc.add_sentence(pair[1])\n",
        "    print(\"Counted words:\", voc.num_words)\n",
        "    return voc, pairs\n"
      ],
      "execution_count": 43,
      "outputs": []
    },
    {
      "cell_type": "code",
      "metadata": {
        "colab": {
          "base_uri": "https://localhost:8080/"
        },
        "id": "P1WO7vFDIzqJ",
        "outputId": "54f97c92-3cf2-40a5-878f-de9ce3c1f037"
      },
      "source": [
        "# Load/Assemble voc and pairs\n",
        "save_dir = os.path.join(path_to_data, \"save\")\n",
        "voc, pairs = load_prepare_data(corpus, corpus_name, datafile, save_dir)\n",
        "# Print some pairs to validate\n",
        "print(\"\\npairs:\")\n",
        "for pair in pairs[:10]:\n",
        "    print(pair)"
      ],
      "execution_count": 44,
      "outputs": [
        {
          "output_type": "stream",
          "name": "stdout",
          "text": [
            "Start preparing training data ...\n",
            "Read 221282 sentence pairs\n",
            "Trimmed to 64271 sentence pairs\n",
            "Counting words...\n",
            "Counted words: 18008\n",
            "\n",
            "pairs:\n",
            "['there .', 'where ?']\n",
            "['you have my word . as a gentleman', 'you re sweet .']\n",
            "['hi .', 'looks like things worked out tonight huh ?']\n",
            "['you know chastity ?', 'i believe we share an art instructor']\n",
            "['have fun tonight ?', 'tons']\n",
            "['well no . . .', 'then that s all you had to say .']\n",
            "['then that s all you had to say .', 'but']\n",
            "['but', 'you always been this selfish ?']\n",
            "['do you listen to this crap ?', 'what crap ?']\n",
            "['what good stuff ?', 'the real you .']\n"
          ]
        }
      ]
    },
    {
      "cell_type": "markdown",
      "metadata": {
        "id": "ad5Kth5iLkez"
      },
      "source": [
        "Another tactic that is beneficial to achieving faster convergence during training is trimming rarely used words out of our vocabulary. Decreasing the feature space will also soften the difficulty of the function that the model must learn to approximate. We will do this as a two-step process:\n",
        "\n",
        "\n",
        "1. Trim words used under MIN_COUNT threshold using the voc.trim function.\n",
        "2. Filter out pairs with trimmed words.\n"
      ]
    },
    {
      "cell_type": "code",
      "metadata": {
        "colab": {
          "base_uri": "https://localhost:8080/"
        },
        "id": "wWw5tYEiIzml",
        "outputId": "afa522de-cd57-4f72-8971-827825b0ac9b"
      },
      "source": [
        "MIN_COUNT = 3    # Minimum word count threshold for trimming\n",
        "\n",
        "def trim_rare_words(voc, pairs, MIN_COUNT):\n",
        "    # Trim words used under the MIN_COUNT from the voc\n",
        "    voc.trim(MIN_COUNT)\n",
        "    # Filter out pairs with trimmed words\n",
        "    keep_pairs = []\n",
        "    for pair in pairs:\n",
        "        input_sentence = pair[0]\n",
        "        output_sentence = pair[1]\n",
        "        keep_input = True\n",
        "        keep_output = True\n",
        "        # Check input sentence\n",
        "        for word in input_sentence.split(' '):\n",
        "            if word not in voc.word2index:\n",
        "                keep_input = False\n",
        "                break\n",
        "        # Check output sentence\n",
        "        for word in output_sentence.split(' '):\n",
        "            if word not in voc.word2index:\n",
        "                keep_output = False\n",
        "                break\n",
        "\n",
        "        # Only keep pairs that do not contain trimmed word(s) in their input or output sentence\n",
        "        if keep_input and keep_output:\n",
        "            keep_pairs.append(pair)\n",
        "\n",
        "    print(\"Trimmed from {} pairs to {}, {:.4f} of total\".format(len(pairs), len(keep_pairs), len(keep_pairs) / len(pairs)))\n",
        "    return keep_pairs\n",
        "\n",
        "\n",
        "# Trim voc and pairs\n",
        "pairs = trim_rare_words(voc, pairs, MIN_COUNT)"
      ],
      "execution_count": 47,
      "outputs": [
        {
          "output_type": "stream",
          "name": "stdout",
          "text": [
            "Trimmed from 64271 pairs to 3713, 0.0578 of total\n"
          ]
        }
      ]
    },
    {
      "cell_type": "code",
      "metadata": {
        "colab": {
          "base_uri": "https://localhost:8080/"
        },
        "id": "_tslFjGwIzgZ",
        "outputId": "9cea6fc7-718c-4c6e-e7df-22668ab3bfd9"
      },
      "source": [
        "pairs[:3]"
      ],
      "execution_count": 48,
      "outputs": [
        {
          "output_type": "execute_result",
          "data": {
            "text/plain": [
              "[['there .', 'where ?'],\n",
              " ['you have my word . as a gentleman', 'you re sweet .'],\n",
              " ['hi .', 'looks like things worked out tonight huh ?']]"
            ]
          },
          "metadata": {},
          "execution_count": 48
        }
      ]
    },
    {
      "cell_type": "markdown",
      "metadata": {
        "id": "hXJ3GLc7NKFy"
      },
      "source": [
        "### Data preparation for the model.\n",
        "\n",
        "We are then going to convert or sentences int tensors so that the network can be able to train on them since neural networks only understand numbers.\n",
        "\n",
        "\n",
        "The `input_var` function handles the process of converting sentences to tensor, ultimately creating a correctly shaped zero-padded tensor. It also returns a tensor of `lengths` for each of the sequences in the batch which will be passed to our decoder later.\n",
        "\n",
        "The `output_var` function performs a similar function to `input_var`, but instead of returning a lengths tensor, it returns a binary mask tensor and a maximum target sentence length. The binary mask tensor has the same shape as the output target tensor, but every element that is a `PAD_token` is 0 and all others are 1.\n",
        "\n",
        "`batch_2_train_data `simply takes a bunch of pairs and returns the input and target tensors using the aforementioned functions.\n",
        "\n"
      ]
    },
    {
      "cell_type": "code",
      "metadata": {
        "id": "PZMMDk-sIzd1"
      },
      "source": [
        "def indexes_from_sentence(voc, sentence):\n",
        "  return [voc.word2index[word] for word in sentence.split(\" \")] + [EOS_token]\n",
        "\n",
        "def zero_padding(l, fillvalue=PAD_token):\n",
        "  return list(itertools.zip_longest(*l, fillvalue=fillvalue))\n",
        "\n",
        "def binary_matrix(l, value=PAD_token):\n",
        "  m = []\n",
        "  for i, seq in enumerate(l):\n",
        "    m.append([])\n",
        "    for token in seq:\n",
        "      if token == PAD_token:\n",
        "          m[i].append(0)\n",
        "      else:\n",
        "          m[i].append(1)\n",
        "  return m\n",
        "\n",
        "def input_var(l, voc):\n",
        "  # Returns padded input sequence tensor and lengths\n",
        "  indexes_batch = [indexes_from_sentence(voc, sentence) for sentence in l]\n",
        "  lengths = torch.tensor([len(indexes) for indexes in indexes_batch])\n",
        "  pad_list = zero_padding(indexes_batch)\n",
        "  pad_var = torch.LongTensor(pad_list)\n",
        "  return pad_var, lengths\n",
        "\n",
        "\n",
        "def output_var(l, voc):\n",
        "  # Returns padded target sequence tensor, padding mask, and max target length\n",
        "  indexes_batch = [indexes_from_sentence(voc, sentence) for sentence in l]\n",
        "  max_target_len = max([len(indexes) for indexes in indexes_batch])\n",
        "  pad_list = zero_padding(indexes_batch)\n",
        "  mask = binary_matrix(pad_list)\n",
        "  mask = torch.BoolTensor(mask)\n",
        "  pad_var = torch.LongTensor(pad_list)\n",
        "  return pad_var, mask, max_target_len\n",
        "\n",
        "def batch_2_train_data(voc, pair_batch):\n",
        "  # Returns all items for a given batch of pairs\n",
        "  pair_batch.sort(key=lambda x: len(x[0].split(\" \")), reverse=True)\n",
        "  input_batch, output_batch = [], []\n",
        "  for pair in pair_batch:\n",
        "      input_batch.append(pair[0])\n",
        "      output_batch.append(pair[1])\n",
        "  inp, lengths = input_var(input_batch, voc)\n",
        "  output, mask, max_target_len = output_var(output_batch, voc)\n",
        "  return inp, lengths, output, mask, max_target_len\n"
      ],
      "execution_count": 53,
      "outputs": []
    },
    {
      "cell_type": "code",
      "metadata": {
        "colab": {
          "base_uri": "https://localhost:8080/"
        },
        "id": "TeVWCuK5Iza8",
        "outputId": "faf6c791-fcd5-453f-dfee-30754e4b265f"
      },
      "source": [
        "# Example for validation\n",
        "small_batch_size = 5\n",
        "batches = batch_2_train_data(voc, [random.choice(pairs) for _ in range(small_batch_size)])\n",
        "input_variable, lengths, target_variable, mask, max_target_len = batches\n",
        "\n",
        "print(\"input_variable:\", input_variable)\n",
        "print(\"lengths:\", lengths)\n",
        "print(\"target_variable:\", target_variable)\n",
        "print(\"mask:\", mask)\n",
        "print(\"max_target_len:\", max_target_len)\n"
      ],
      "execution_count": 54,
      "outputs": [
        {
          "output_type": "stream",
          "name": "stdout",
          "text": [
            "input_variable: tensor([[ 88,  34,  42,  47,   5],\n",
            "        [147,   6,   7,   7,   6],\n",
            "        [  7,  50, 215,  24,   2],\n",
            "        [158,  47,   7,   6,   0],\n",
            "        [ 21,   7,   4,   2,   0],\n",
            "        [ 56, 260,   2,   0,   0],\n",
            "        [159,  34,   0,   0,   0],\n",
            "        [  4,   6,   0,   0,   0],\n",
            "        [  2,   2,   0,   0,   0]])\n",
            "lengths: tensor([9, 9, 6, 5, 3])\n",
            "target_variable: tensor([[ 25,  34,  64,  34, 159],\n",
            "        [197,   4,  50,   4,   4],\n",
            "        [117,   2,   6,   2,   2],\n",
            "        [ 24,   0,   2,   0,   0],\n",
            "        [  4,   0,   0,   0,   0],\n",
            "        [  2,   0,   0,   0,   0]])\n",
            "mask: tensor([[ True,  True,  True,  True,  True],\n",
            "        [ True,  True,  True,  True,  True],\n",
            "        [ True,  True,  True,  True,  True],\n",
            "        [ True, False,  True, False, False],\n",
            "        [ True, False, False, False, False],\n",
            "        [ True, False, False, False, False]])\n",
            "max_target_len: 6\n"
          ]
        }
      ]
    },
    {
      "cell_type": "markdown",
      "metadata": {
        "id": "9cl-HR45QXlR"
      },
      "source": [
        "### Defining models\n",
        "\n",
        "### Seq2Seq Model\n",
        "\n",
        "The brains of our chatbot is a sequence-to-sequence (seq2seq) model. The goal of a seq2seq model is to take a variable-length sequence as an input, and return a variable-length sequence as an output using a fixed-sized model.\n",
        "\n",
        "![img](https://pytorch.org/tutorials/_images/seq2seq_ts.png)\n",
        "\n",
        "\n",
        "### Encoder\n",
        "\n",
        "> The encoder RNN iterates through the input sentence one token (e.g. word) at a time, at each time step outputting an “output” vector and a “hidden state” vector. The hidden state vector is then passed to the next time step, while the output vector is recorded. The encoder transforms the context it saw at each point in the sequence into a set of points in a high-dimensional space, which the decoder will use to generate a meaningful output for the given task.\n",
        "\n",
        "At the heart of our encoder is a multi-layered Gated Recurrent Unit. We will use a bidirectional variant of the GRU, meaning that there are essentially two independent RNNs: one that is fed the input sequence in normal sequential order, and one that is fed the input sequence in reverse order. The outputs of each network are summed at each time step. Using a bidirectional GRU will give us the advantage of encoding both past and future contexts.\n",
        "\n",
        "Bidirectional RNN.\n",
        "\n",
        "\n",
        "![img](https://pytorch.org/tutorials/_images/RNN-bidirectional.png)\n",
        "\n",
        "\n",
        "**Note** that an embedding layer is used to encode our word indices in an arbitrarily sized feature space. For our models, this layer will map each word to a feature space of size `hidden_size`. When trained, these values should encode semantic similarity between similar meaning words.\n",
        "\n",
        "Finally, if passing a padded batch of sequences to an RNN module, we must pack and unpack padding around the RNN pass using `nn.utils.rnn.pack_padded_sequence` and `nn.utils.rnn.pad_packed_sequence` respectively.\n",
        "\n",
        "### Computation Graph: \n",
        "\n",
        "* Convert word indexes to embeddings.\n",
        "* Pack padded batch of sequences for RNN module.\n",
        "* Forward pass through GRU.\n",
        "* Unpack padding.\n",
        "* Sum bidirectional GRU outputs.\n",
        "* Return output and final hidden state.\n",
        "\n",
        "### Inputs\n",
        "\n",
        "* `input_seq`: batch of input sentences; shape=`(max_length, batch_size)`\n",
        "* `input_lengths`: list of sentence lengths corresponding to each sentence in the batch; shape=`(batch_size)`\n",
        "* `hidden`: hidden state; shape=`(n_layers x num_directions, batch_size, hidden_size)`\n",
        "\n",
        "\n",
        "### Ouputs \n",
        "\n",
        "* `outputs`: output features from the last hidden layer of the GRU (sum of bidirectional outputs); shape=`(max_length, batch_size, hidden_size)`\n",
        "* `hidden`: updated hidden state from GRU; shape=`(n_layers x num_directions, batch_size, hidden_size)`\n",
        "\n",
        "\n"
      ]
    },
    {
      "cell_type": "code",
      "metadata": {
        "id": "90r88KzgIzXz"
      },
      "source": [
        "class Encoder(nn.Module):\n",
        "  def __init__(self, hidden_size, embedding,\n",
        "               n_layers=1, dropout=.5, bidirectional = True):\n",
        "    super(Encoder, self).__init__()\n",
        "    self.n_layers = n_layers\n",
        "    self.hidden_size = hidden_size\n",
        "    self.embedding = embedding\n",
        "\n",
        "    self.gru = nn.GRU(hidden_size, hidden_size,\n",
        "                      n_layers, dropout=(0 if n_layers==1 else dropout),\n",
        "                      bidirectional=bidirectional)\n",
        "    \n",
        "    def forward(self, input_seq, input_lengths, hidden=None):\n",
        "      embedded = self.embedding(input_seq)\n",
        "      packed = nn.utils.rnn.pack_padded_sequence(embedded, input_lengths)\n",
        "      outputs, hidden = self.gru(packed, hidden)\n",
        "      outputs, _ = nn.utils.rnn.pad_packed_sequence(outputs)\n",
        "      outputs = outputs[:, :, :self.hidden_size] + outputs[:, : ,self.hidden_size:]\n",
        "      return outputs, hidden\n"
      ],
      "execution_count": 55,
      "outputs": []
    },
    {
      "cell_type": "markdown",
      "metadata": {
        "id": "Th8cUOlwTnL6"
      },
      "source": [
        "### Decoder\n",
        "\n",
        "The decoder RNN generates the response sentence in a token-by-token fashion. It uses the encoder’s context vectors, and internal hidden states to generate the next word in the sequence. It continues generating words until it outputs an EOS_token, representing the end of the sentence. A common problem with a vanilla seq2seq decoder is that if we rely solely on the context vector to encode the entire input sequence’s meaning, it is likely that we will have information loss. This is especially the case when dealing with long input sequences, greatly limiting the capability of our decoder.\n",
        "\n",
        "To combat this, Bahdanau et al. created an “attention mechanism” that allows the decoder to pay attention to certain parts of the input sequence, rather than using the entire fixed context at every step.\n",
        "\n",
        "At a high level, attention is calculated using the decoder’s current hidden state and the encoder’s outputs. The output attention weights have the same shape as the input sequence, allowing us to multiply them by the encoder outputs, giving us a weighted sum which indicates the parts of encoder output to pay attention to. Sean Robertson’s figure describes this very well:\n",
        "\n",
        "![img](https://pytorch.org/tutorials/_images/attn2.png)\n",
        "\n",
        "Luong et al. improved upon Bahdanau et al.’s groundwork by creating “Global attention”. The key difference is that with “Global attention”, we consider all of the encoder’s hidden states, as opposed to Bahdanau et al.’s “Local attention”, which only considers the encoder’s hidden state from the current time step. Another difference is that with “Global attention”, we calculate attention weights, or energies, using the hidden state of the decoder from the current time step only. Bahdanau et al.’s attention calculation requires knowledge of the decoder’s state from the previous time step. Also, Luong et al. provides various methods to calculate the attention energies between the encoder output and decoder output which are called “score functions”:\n",
        "\n",
        "\n",
        "![img](https://pytorch.org/tutorials/_images/scores.png)\n",
        "\n",
        "where $h_t$ = current target decoder state and $\\bar{h}_s$ =\n",
        "all encoder states.\n",
        "\n",
        "Overall, the Global attention mechanism can be summarized by the following figure. Note that we will implement the “Attention Layer” as a separate nn.Module called Attention. The output of this module is a `softmax` normalized weights tensor of shape (`batch_size, 1, max_length`).\n",
        "\n",
        "![img](https://pytorch.org/tutorials/_images/global_attn.png)\n",
        "\n",
        "\n",
        "\n",
        "\n",
        "\n"
      ]
    },
    {
      "cell_type": "code",
      "metadata": {
        "id": "46ON3suyIzUq"
      },
      "source": [
        "class Attention(nn.Module):\n",
        "  def __init__(self, method, hidden_size):\n",
        "    super(Attention, self).__init__()\n",
        "    self.method = method\n",
        "    if self.method not in ['dot', 'general', 'concat']:\n",
        "        raise ValueError(self.method, \"is not an appropriate attention method.\")\n",
        "    self.hidden_size = hidden_size\n",
        "    if self.method == 'general':\n",
        "        self.attn = nn.Linear(self.hidden_size, hidden_size)\n",
        "    elif self.method == 'concat':\n",
        "        self.attn = nn.Linear(self.hidden_size * 2, hidden_size)\n",
        "        self.v = nn.Parameter(torch.FloatTensor(hidden_size))\n",
        "\n",
        "    def dot_score(self, hidden, encoder_output):\n",
        "      return torch.sum(hidden * encoder_output, dim=2)\n",
        "\n",
        "    def general_score(self, hidden, encoder_output):\n",
        "      energy = self.attn(encoder_output)\n",
        "      return torch.sum(hidden * energy, dim=2)\n",
        "\n",
        "    def concat_score(self, hidden, encoder_output):\n",
        "      energy = self.attn(torch.cat((hidden.expand(encoder_output.size(0), -1, -1), encoder_output), 2)).tanh()\n",
        "      return torch.sum(self.v * energy, dim=2)\n",
        "\n",
        "    def forward(self, hidden, encoder_outputs):\n",
        "      # Calculate the attention weights (energies) based on the given method\n",
        "      if self.method == 'general':\n",
        "          attn_energies = self.general_score(hidden, encoder_outputs)\n",
        "      elif self.method == 'concat':\n",
        "          attn_energies = self.concat_score(hidden, encoder_outputs)\n",
        "      elif self.method == 'dot':\n",
        "          attn_energies = self.dot_score(hidden, encoder_outputs)\n",
        "\n",
        "      # Transpose max_length and batch_size dimensions\n",
        "      attn_energies = attn_energies.t()\n",
        "\n",
        "      # Return the softmax normalized probability scores (with added dimension)\n",
        "      return F.softmax(attn_energies, dim=1).unsqueeze(1)\n"
      ],
      "execution_count": 66,
      "outputs": []
    },
    {
      "cell_type": "markdown",
      "metadata": {
        "id": "Lu_1tXeOVYqB"
      },
      "source": [
        "Now that we have defined our attention submodule, we can implement the actual decoder model. For the decoder, we will manually feed our batch one time step at a time. This means that our embedded word tensor and GRU output will both have shape `(1, batch_size, hidden_size)`.\n",
        "\n",
        "### Computational Graph\n",
        "\n",
        "1. Get embedding of current input word.\n",
        "2. Forward through unidirectional GRU.\n",
        "3. Calculate attention weights from the current GRU output from (2).\n",
        "4. Multiply attention weights to encoder outputs to get new “weighted sum” context vector.\n",
        "4. Concatenate weighted context vector and GRU output using Luong eq. 5.\n",
        "6. Predict next word using Luong eq. 6 (without softmax).\n",
        "7. Return output and final hidden state.\n",
        "\n",
        "### Inputs:\n",
        "\n",
        "* input_step: one time step (one word) of input sequence batch; shape=(`1, batch_size`)\n",
        "* last_hidden: final hidden layer of GRU; shape=(`n_layers x num_directions, batch_size, hidden_size`)\n",
        "* encoder_outputs: encoder model’s output; shape=(`max_length, batch_size, hidden_size`)\n",
        "\n",
        "### Outputs:\n",
        "\n",
        "* output: softmax normalized tensor giving probabilities of each word being the correct next word in the decoded sequence; shape=(`batch_size, voc.num_words`)\n",
        "* hidden: final hidden state of GRU; shape=(`n_layers x num_directions, batch_size, hidden_size`)"
      ]
    },
    {
      "cell_type": "code",
      "metadata": {
        "id": "98R-7jeAIs_Z"
      },
      "source": [
        "class Decoder(nn.Module):\n",
        "  def __init__(self, attn_model, embedding, hidden_size, output_size, n_layers=1, dropout=0.1):\n",
        "    super(Decoder, self).__init__()\n",
        "\n",
        "    # Keep for reference\n",
        "    self.attn_model = attn_model\n",
        "    self.hidden_size = hidden_size\n",
        "    self.output_size = output_size\n",
        "    self.n_layers = n_layers\n",
        "    self.dropout = dropout\n",
        "\n",
        "    # Define layers\n",
        "    self.embedding = embedding\n",
        "    self.embedding_dropout = nn.Dropout(dropout)\n",
        "    self.gru = nn.GRU(hidden_size, hidden_size, n_layers, dropout=(0 if n_layers == 1 else dropout))\n",
        "    self.concat = nn.Linear(hidden_size * 2, hidden_size)\n",
        "    self.out = nn.Linear(hidden_size, output_size)\n",
        "\n",
        "    self.attn = Attention(attn_model, hidden_size)\n",
        "\n",
        "  def forward(self, input_step, last_hidden, encoder_outputs):\n",
        "    # Note: we run this one step (word) at a time\n",
        "    # Get embedding of current input word\n",
        "    embedded = self.embedding(input_step)\n",
        "    embedded = self.embedding_dropout(embedded)\n",
        "    # Forward through unidirectional GRU\n",
        "    rnn_output, hidden = self.gru(embedded, last_hidden)\n",
        "    # Calculate attention weights from the current GRU output\n",
        "    attn_weights = self.attn(rnn_output, encoder_outputs)\n",
        "    # Multiply attention weights to encoder outputs to get new \"weighted sum\" context vector\n",
        "    context = attn_weights.bmm(encoder_outputs.transpose(0, 1))\n",
        "    # Concatenate weighted context vector and GRU output using Luong eq. 5\n",
        "    rnn_output = rnn_output.squeeze(0)\n",
        "    context = context.squeeze(1)\n",
        "    concat_input = torch.cat((rnn_output, context), 1)\n",
        "    concat_output = torch.tanh(self.concat(concat_input))\n",
        "    # Predict next word using Luong eq. 6\n",
        "    output = self.out(concat_output)\n",
        "    output = F.softmax(output, dim=1)\n",
        "    # Return output and final hidden state\n",
        "    return output, hidden\n",
        "    "
      ],
      "execution_count": 67,
      "outputs": []
    },
    {
      "cell_type": "markdown",
      "metadata": {
        "id": "lDW9zIokWjAj"
      },
      "source": [
        "### Define training Procedure\n",
        "\n",
        "1. masked loss\n",
        "\n",
        "Since we are dealing with batches of padded sequences, we cannot simply consider all elements of the tensor when calculating loss. We define `maskNLLLoss` to calculate our loss based on our decoder’s output tensor, the target tensor, and a binary mask tensor describing the padding of the target tensor. This loss function calculates the average negative log likelihood of the elements that correspond to a 1 in the mask tensor.\n"
      ]
    },
    {
      "cell_type": "code",
      "metadata": {
        "id": "F-davXhnTm2l"
      },
      "source": [
        "def maskNLLLoss(inp, target, mask):\n",
        "  nTotal = mask.sum()\n",
        "  crossEntropy = -torch.log(torch.gather(inp, 1, target.view(-1, 1)).squeeze(1))\n",
        "  loss = crossEntropy.masked_select(mask).mean()\n",
        "  loss = loss.to(device)\n",
        "  return loss, nTotal.item()"
      ],
      "execution_count": 59,
      "outputs": []
    },
    {
      "cell_type": "markdown",
      "metadata": {
        "id": "hiu_Sh2lW2ac"
      },
      "source": [
        "### Single training iteration\n",
        "\n",
        "The train function contains the algorithm for a single training iteration (a single batch of inputs).\n",
        "\n",
        "\n",
        "We will use a couple of clever tricks to aid in convergence:\n",
        "\n",
        "The first trick is using **teacher forcing**. This means that at some probability, set by `teacher_forcing_ratio`, we use the current target word as the decoder’s next input rather than using the decoder’s current guess. This technique acts as training wheels for the decoder, aiding in more efficient training. However, teacher forcing can lead to model instability during inference, as the decoder may not have a sufficient chance to truly craft its own output sequences during training. Thus, we must be mindful of how we are setting the `teacher_forcing_ratio`, and not be fooled by fast convergence.\n",
        "\n",
        "* The second trick that we implement is **gradient clipping**. This is a commonly used technique for countering the “exploding gradient” problem. In essence, by clipping or thresholding gradients to a maximum value, we prevent the gradients from growing exponentially and either overflow (NaN), or overshoot steep cliffs in the cost function.\n",
        "\n",
        "![img](https://pytorch.org/tutorials/_images/grad_clip.png)\n",
        "\n",
        "### Sequence operations\n",
        "\n",
        "1. Forward pass entire input batch through encoder.\n",
        "2. Initialize decoder inputs as SOS_token, and hidden state as the encoder’s final hidden state.\n",
        "3. Forward input batch sequence through decoder one time step at a time.\n",
        "4. If teacher forcing: set next decoder input as the current target; else: set next decoder input as current decoder output.\n",
        "5. Calculate and accumulate loss.\n",
        "6. Perform backpropagation.\n",
        "7. Clip gradients.\n",
        "8. Update encoder and decoder model parameters."
      ]
    },
    {
      "cell_type": "code",
      "metadata": {
        "id": "1LBO197hTmzZ"
      },
      "source": [
        "def train(input_variable, \n",
        "          lengths, \n",
        "          target_variable, \n",
        "          mask, max_target_len, encoder, decoder, embedding,\n",
        "          encoder_optimizer, \n",
        "          decoder_optimizer, batch_size, clip, max_length=MAX_LENGTH):\n",
        "  encoder_optimizer.zero_grad()\n",
        "  decoder_optimizer.zero_grad()\n",
        "\n",
        "  input_variable = input_variable.to(device)\n",
        "  target_variable = target_variable.to(device)\n",
        "  mask = mask.to(device)\n",
        "  lengths = lengths.to(\"cpu\")\n",
        "\n",
        "  loss = 0\n",
        "  print_losses = []\n",
        "  n_totals = 0\n",
        "\n",
        "  encoder_outputs, encoder_hidden = encoder(input_variable, lengths)\n",
        "  use_teacher_forcing = True if random.random() < teacher_forcing_ratio else False\n",
        "\n",
        "  if use_teacher_forcing:\n",
        "    for t in range(max_target_len):\n",
        "        decoder_output, decoder_hidden = decoder(\n",
        "            decoder_input, decoder_hidden, encoder_outputs\n",
        "        )\n",
        "        # Teacher forcing: next input is current target\n",
        "        decoder_input = target_variable[t].view(1, -1)\n",
        "        # Calculate and accumulate loss\n",
        "        mask_loss, nTotal = maskNLLLoss(decoder_output, target_variable[t], mask[t])\n",
        "        loss += mask_loss\n",
        "        print_losses.append(mask_loss.item() * nTotal)\n",
        "        n_totals += nTotal\n",
        "  else:\n",
        "    for t in range(max_target_len):\n",
        "        decoder_output, decoder_hidden = decoder(\n",
        "            decoder_input, decoder_hidden, encoder_outputs\n",
        "        )\n",
        "        # No teacher forcing: next input is decoder's own current output\n",
        "        _, topi = decoder_output.topk(1)\n",
        "        decoder_input = torch.LongTensor([[topi[i][0] for i in range(batch_size)]])\n",
        "        decoder_input = decoder_input.to(device)\n",
        "        # Calculate and accumulate loss\n",
        "        mask_loss, nTotal = maskNLLLoss(decoder_output, target_variable[t], mask[t])\n",
        "        loss += mask_loss\n",
        "        print_losses.append(mask_loss.item() * nTotal)\n",
        "        n_totals += nTotal\n",
        "\n",
        "  loss.backward()\n",
        "  \n",
        "  # Clip gradients: gradients are modified in place\n",
        "  _ = nn.utils.clip_grad_norm_(encoder.parameters(), clip)\n",
        "  _ = nn.utils.clip_grad_norm_(decoder.parameters(), clip)\n",
        "\n",
        "  # Adjust model weights\n",
        "  encoder_optimizer.step()\n",
        "  decoder_optimizer.step()\n",
        "\n",
        "  return sum(print_losses) / n_totals\n"
      ],
      "execution_count": 60,
      "outputs": []
    },
    {
      "cell_type": "markdown",
      "metadata": {
        "id": "fJ40qF7lY8cv"
      },
      "source": [
        "### Training iterations\n",
        "\n",
        "It is finally time to tie the full training procedure together with the data. The `trainIters` function is responsible for running `n_iterations` of training given the passed models, optimizers, data, etc. This function is quite self explanatory, as we have done the heavy lifting with the train function.\n",
        "\n",
        "One thing to note is that when we save our model, we save a tarball containing the encoder and decoder `state_dicts` (parameters), the optimizers’ state_dicts, the loss, the iteration, etc. Saving the model in this way will give us the ultimate flexibility with the checkpoint. After loading a checkpoint, we will be able to use the model parameters to run inference, or we can continue training right where we left off"
      ]
    },
    {
      "cell_type": "code",
      "metadata": {
        "id": "M0MN3uEoTmvW"
      },
      "source": [
        "def trainIters(model_name, voc, pairs, encoder, decoder,\n",
        "               encoder_optimizer, decoder_optimizer,\n",
        "               embedding, encoder_n_layers, \n",
        "               decoder_n_layers, save_dir,\n",
        "               n_iteration, batch_size, print_every,\n",
        "               save_every, clip, corpus_name, loadFilename):\n",
        "\n",
        "    # Load batches for each iteration\n",
        "    training_batches = [batch_2_train_data(voc, [random.choice(pairs) for _ in range(batch_size)])\n",
        "                      for _ in range(n_iteration)]\n",
        "\n",
        "    # Initializations\n",
        "    print('Initializing ...')\n",
        "    start_iteration = 1\n",
        "    print_loss = 0\n",
        "    if loadFilename:\n",
        "        start_iteration = checkpoint['iteration'] + 1\n",
        "\n",
        "    # Training loop\n",
        "    print(\"Training...\")\n",
        "    for iteration in range(start_iteration, n_iteration + 1):\n",
        "        training_batch = training_batches[iteration - 1]\n",
        "        # Extract fields from batch\n",
        "        input_variable, lengths, target_variable, mask, max_target_len = training_batch\n",
        "\n",
        "        # Run a training iteration with batch\n",
        "        loss = train(input_variable, lengths, target_variable, mask, max_target_len, encoder,\n",
        "                     decoder, embedding, encoder_optimizer, decoder_optimizer, batch_size, clip)\n",
        "        print_loss += loss\n",
        "\n",
        "        # Print progress\n",
        "        if iteration % print_every == 0:\n",
        "            print_loss_avg = print_loss / print_every\n",
        "            print(\"Iteration: {}; Percent complete: {:.1f}%; Average loss: {:.4f}\".format(iteration, iteration / n_iteration * 100, print_loss_avg))\n",
        "            print_loss = 0\n",
        "\n",
        "        # Save checkpoint\n",
        "        if (iteration % save_every == 0):\n",
        "            directory = os.path.join(save_dir, model_name, corpus_name, '{}-{}_{}'.format(encoder_n_layers, decoder_n_layers, hidden_size))\n",
        "            if not os.path.exists(directory):\n",
        "                os.makedirs(directory)\n",
        "            torch.save({\n",
        "                'iteration': iteration,\n",
        "                'en': encoder.state_dict(),\n",
        "                'de': decoder.state_dict(),\n",
        "                'en_opt': encoder_optimizer.state_dict(),\n",
        "                'de_opt': decoder_optimizer.state_dict(),\n",
        "                'loss': loss,\n",
        "                'voc_dict': voc.__dict__,\n",
        "                'embedding': embedding.state_dict()\n",
        "            }, os.path.join(directory, '{}_{}.tar'.format(iteration, 'checkpoint')))"
      ],
      "execution_count": 72,
      "outputs": []
    },
    {
      "cell_type": "markdown",
      "metadata": {
        "id": "TkBiBnYlZiFL"
      },
      "source": [
        "### Define Evaluation\n",
        "\n",
        "After training a model, we want to be able to talk to the bot ourselves. First, we must define how we want the model to decode the encoded input.\n",
        "\n",
        "\n",
        "### Greedy decoding\n",
        "\n",
        "Greedy decoding is the decoding method that we use during training when we are **NOT** using teacher forcing. In other words, for each time step, we simply choose the word from `decoder_output` with the highest softmax value. This decoding method is optimal on a single time-step level.\n",
        "\n",
        "To facilitate the greedy decoding operation, we define a `GreedySearchDecoder` class. When run, an object of this class takes an input sequence `(input_seq)` of shape `(input_seq length, 1)`, a scalar input length (input_length) tensor, and a `max_length` to bound the response sentence length. The input sentence is evaluated using the following computational graph:\n",
        "\n",
        "\n",
        "### Computation Graph:\n",
        "\n",
        "1. Forward input through encoder model.\n",
        "2. Prepare encoder’s final hidden layer to be first hidden input to the decoder.\n",
        "3. Initialize decoder’s first input as SOS_token.\n",
        "4. Initialize tensors to append decoded words to.\n",
        "5. Iteratively decode one word token at a time:\n",
        "  1. Forward pass through decoder.\n",
        "  2. Obtain most likely word token and its softmax score.\n",
        "  3. Record token and score.\n",
        "  4. Prepare current token to be next decoder input.\n",
        "6. Return collections of word tokens and scores.\n"
      ]
    },
    {
      "cell_type": "code",
      "metadata": {
        "id": "y7Sh-5dGTmsi"
      },
      "source": [
        "class GreedySearchDecoder(nn.Module):\n",
        "  def __init__(self, encoder, decoder):\n",
        "    super(GreedySearchDecoder, self).__init__()\n",
        "    self.encoder = encoder\n",
        "    self.decoder = decoder\n",
        "\n",
        "  def forward(self, input_seq, input_length, max_length):\n",
        "    # Forward input through encoder model\n",
        "    encoder_outputs, encoder_hidden = self.encoder(input_seq, input_length)\n",
        "    # Prepare encoder's final hidden layer to be first hidden input to the decoder\n",
        "    decoder_hidden = encoder_hidden[:decoder.n_layers]\n",
        "    # Initialize decoder input with SOS_token\n",
        "    decoder_input = torch.ones(1, 1, device=device, dtype=torch.long) * SOS_token\n",
        "    # Initialize tensors to append decoded words to\n",
        "    all_tokens = torch.zeros([0], device=device, dtype=torch.long)\n",
        "    all_scores = torch.zeros([0], device=device)\n",
        "    # Iteratively decode one word token at a time\n",
        "    for _ in range(max_length):\n",
        "        # Forward pass through decoder\n",
        "        decoder_output, decoder_hidden = self.decoder(decoder_input, decoder_hidden, encoder_outputs)\n",
        "        # Obtain most likely word token and its softmax score\n",
        "        decoder_scores, decoder_input = torch.max(decoder_output, dim=1)\n",
        "        # Record token and score\n",
        "        all_tokens = torch.cat((all_tokens, decoder_input), dim=0)\n",
        "        all_scores = torch.cat((all_scores, decoder_scores), dim=0)\n",
        "        # Prepare current token to be next decoder input (add a dimension)\n",
        "        decoder_input = torch.unsqueeze(decoder_input, 0)\n",
        "    # Return collections of word tokens and scores\n",
        "    return all_tokens, all_scores\n",
        "    "
      ],
      "execution_count": 73,
      "outputs": []
    },
    {
      "cell_type": "markdown",
      "metadata": {
        "id": "nmI3H3jJabH7"
      },
      "source": [
        "### Evaluate my text\n",
        "\n",
        "Now that we have our decoding method defined, we can write functions for evaluating a string input sentence. The `evaluate` function manages the low-level process of handling the input sentence. We first format the sentence as an input batch of word indexes with `batch_size==1`. We do this by converting the words of the sentence to their corresponding indexes, and transposing the dimensions to prepare the tensor for our models. We also create a `lengths` tensor which contains the length of our input sentence. In this case, lengths is scalar because we are only evaluating one sentence at a time `(batch_size==1)`. Next, we obtain the decoded response sentence tensor using our `GreedySearchDecoder` object `(searcher)`. Finally, we convert the response’s indexes to words and return the list of decoded words.\n",
        "\n",
        "`evaluateInput` acts as the user interface for our chatbot. When called, an input text field will spawn in which we can enter our query sentence. After typing our input sentence and pressing Enter, our text is normalized in the same way as our training data, and is ultimately fed to the `evaluate` function to obtain a decoded output sentence. We loop this process, so we can keep chatting with our bot until we enter either “q” or “quit”.\n",
        "\n",
        "Finally, if a sentence is entered that contains a word that is not in the vocabulary, we handle this gracefully by printing an error message and prompting the user to enter another sentence."
      ]
    },
    {
      "cell_type": "code",
      "metadata": {
        "id": "HTi8N5RDTmph"
      },
      "source": [
        "def evaluate(encoder, decoder, searcher, voc, sentence, max_length=MAX_LENGTH):\n",
        "  ### Format input sentence as a batch\n",
        "  # words -> indexes\n",
        "  indexes_batch = [indexesFromSentence(voc, sentence)]\n",
        "  # Create lengths tensor\n",
        "  lengths = torch.tensor([len(indexes) for indexes in indexes_batch])\n",
        "  # Transpose dimensions of batch to match models' expectations\n",
        "  input_batch = torch.LongTensor(indexes_batch).transpose(0, 1)\n",
        "  # Use appropriate device\n",
        "  input_batch = input_batch.to(device)\n",
        "  lengths = lengths.to(\"cpu\")\n",
        "  # Decode sentence with searcher\n",
        "  tokens, scores = searcher(input_batch, lengths, max_length)\n",
        "  # indexes -> words\n",
        "  decoded_words = [voc.index2word[token.item()] for token in tokens]\n",
        "  return decoded_words\n",
        "\n",
        "\n",
        "def evaluateInput(encoder, decoder, searcher, voc):\n",
        "  input_sentence = ''\n",
        "  while True:\n",
        "      try:\n",
        "          # Get input sentence\n",
        "          input_sentence = input('> ')\n",
        "          # Check if it is quit case\n",
        "          if input_sentence == 'q' or input_sentence == 'quit': break\n",
        "          # Normalize sentence\n",
        "          input_sentence = normalizeString(input_sentence)\n",
        "          # Evaluate sentence\n",
        "          output_words = evaluate(encoder, decoder, searcher, voc, input_sentence)\n",
        "          # Format and print response sentence\n",
        "          output_words[:] = [x for x in output_words if not (x == 'EOS' or x == 'PAD')]\n",
        "          print('Bot:', ' '.join(output_words))\n",
        "\n",
        "      except KeyError:\n",
        "          print(\"Error: Encountered unknown word.\")\n",
        "          "
      ],
      "execution_count": 74,
      "outputs": []
    },
    {
      "cell_type": "markdown",
      "metadata": {
        "id": "_s22M6GNbGzN"
      },
      "source": [
        "### Run Model\n",
        "\n",
        "Finally, it is time to run our model!\n",
        "\n",
        "Regardless of whether we want to train or test the chatbot model, we must initialize the individual encoder and decoder models. In the following block, we set our desired configurations, choose to start from scratch or set a checkpoint to load from, and build and initialize the models. Feel free to play with different model configurations to optimize performance."
      ]
    },
    {
      "cell_type": "code",
      "metadata": {
        "colab": {
          "base_uri": "https://localhost:8080/"
        },
        "id": "aAUK063CTmmZ",
        "outputId": "c8053ecd-72cc-4ec2-b909-5c57004ff964"
      },
      "source": [
        "# Configure models\n",
        "model_name = 'cb_model'\n",
        "attn_model = 'dot'\n",
        "#attn_model = 'general'\n",
        "#attn_model = 'concat'\n",
        "hidden_size = 500\n",
        "encoder_n_layers = 2\n",
        "decoder_n_layers = 2\n",
        "dropout = 0.1\n",
        "batch_size = 64\n",
        "\n",
        "# Set checkpoint to load from; set to None if starting from scratch\n",
        "loadFilename = None\n",
        "checkpoint_iter = 4000\n",
        "#loadFilename = os.path.join(save_dir, model_name, corpus_name,\n",
        "#                            '{}-{}_{}'.format(encoder_n_layers, decoder_n_layers, hidden_size),\n",
        "#                            '{}_checkpoint.tar'.format(checkpoint_iter))\n",
        "\n",
        "\n",
        "# Load model if a loadFilename is provided\n",
        "if loadFilename:\n",
        "    # If loading on same machine the model was trained on\n",
        "    checkpoint = torch.load(loadFilename)\n",
        "    # If loading a model trained on GPU to CPU\n",
        "    #checkpoint = torch.load(loadFilename, map_location=torch.device('cpu'))\n",
        "    encoder_sd = checkpoint['en']\n",
        "    decoder_sd = checkpoint['de']\n",
        "    encoder_optimizer_sd = checkpoint['en_opt']\n",
        "    decoder_optimizer_sd = checkpoint['de_opt']\n",
        "    embedding_sd = checkpoint['embedding']\n",
        "    voc.__dict__ = checkpoint['voc_dict']\n",
        "\n",
        "\n",
        "print('Building encoder and decoder ...')\n",
        "# Initialize word embeddings\n",
        "embedding = nn.Embedding(voc.num_words, hidden_size)\n",
        "if loadFilename:\n",
        "    embedding.load_state_dict(embedding_sd)\n",
        "# Initialize encoder & decoder models\n",
        "encoder = Encoder(hidden_size, embedding, encoder_n_layers, dropout)\n",
        "decoder = Decoder(attn_model, embedding, hidden_size, voc.num_words, decoder_n_layers, dropout)\n",
        "if loadFilename:\n",
        "    encoder.load_state_dict(encoder_sd)\n",
        "    decoder.load_state_dict(decoder_sd)\n",
        "# Use appropriate device\n",
        "encoder = encoder.to(device)\n",
        "decoder = decoder.to(device)\n",
        "print('Models built and ready to go!')"
      ],
      "execution_count": 75,
      "outputs": [
        {
          "output_type": "stream",
          "name": "stdout",
          "text": [
            "Building encoder and decoder ...\n",
            "Models built and ready to go!\n"
          ]
        }
      ]
    },
    {
      "cell_type": "markdown",
      "metadata": {
        "id": "86EtqWVCbvQQ"
      },
      "source": [
        "### Run training\n",
        "\n"
      ]
    },
    {
      "cell_type": "code",
      "metadata": {
        "colab": {
          "base_uri": "https://localhost:8080/",
          "height": 459
        },
        "id": "XYfXwJg8be-V",
        "outputId": "5c413be6-b3c8-4b2f-c8a8-a623e97a9acd"
      },
      "source": [
        "# Configure training/optimization\n",
        "clip = 50.0\n",
        "teacher_forcing_ratio = 1.0\n",
        "learning_rate = 0.0001\n",
        "decoder_learning_ratio = 5.0\n",
        "n_iteration = 4000\n",
        "print_every = 1\n",
        "save_every = 500\n",
        "\n",
        "# Ensure dropout layers are in train mode\n",
        "encoder.train()\n",
        "decoder.train()\n",
        "\n",
        "# Initialize optimizers\n",
        "print('Building optimizers ...')\n",
        "encoder_optimizer = torch.optim.Adam(encoder.parameters(), lr=learning_rate)\n",
        "decoder_optimizer = torch.optim.Adam(decoder.parameters(), lr=learning_rate * decoder_learning_ratio)\n",
        "if loadFilename:\n",
        "    encoder_optimizer.load_state_dict(encoder_optimizer_sd)\n",
        "    decoder_optimizer.load_state_dict(decoder_optimizer_sd)\n",
        "\n",
        "# If you have cuda, configure cuda to call\n",
        "for state in encoder_optimizer.state.values():\n",
        "    for k, v in state.items():\n",
        "        if isinstance(v, torch.Tensor):\n",
        "            state[k] = v.cuda()\n",
        "\n",
        "for state in decoder_optimizer.state.values():\n",
        "    for k, v in state.items():\n",
        "        if isinstance(v, torch.Tensor):\n",
        "            state[k] = v.cuda()\n",
        "\n",
        "# Run training iterations\n",
        "print(\"Starting Training!\")\n",
        "trainIters(model_name, voc, pairs, encoder, decoder, encoder_optimizer, decoder_optimizer,\n",
        "           embedding, encoder_n_layers, decoder_n_layers, save_dir, n_iteration, batch_size,\n",
        "           print_every, save_every, clip, corpus_name, loadFilename)\n"
      ],
      "execution_count": 78,
      "outputs": [
        {
          "output_type": "stream",
          "name": "stdout",
          "text": [
            "Building optimizers ...\n",
            "Starting Training!\n",
            "Initializing ...\n",
            "Training...\n"
          ]
        },
        {
          "output_type": "error",
          "ename": "NotImplementedError",
          "evalue": "ignored",
          "traceback": [
            "\u001b[0;31m---------------------------------------------------------------------------\u001b[0m",
            "\u001b[0;31mNotImplementedError\u001b[0m                       Traceback (most recent call last)",
            "\u001b[0;32m<ipython-input-78-2f87d916828a>\u001b[0m in \u001b[0;36m<module>\u001b[0;34m()\u001b[0m\n\u001b[1;32m     35\u001b[0m trainIters(model_name, voc, pairs, encoder, decoder, encoder_optimizer, decoder_optimizer,\n\u001b[1;32m     36\u001b[0m            \u001b[0membedding\u001b[0m\u001b[0;34m,\u001b[0m \u001b[0mencoder_n_layers\u001b[0m\u001b[0;34m,\u001b[0m \u001b[0mdecoder_n_layers\u001b[0m\u001b[0;34m,\u001b[0m \u001b[0msave_dir\u001b[0m\u001b[0;34m,\u001b[0m \u001b[0mn_iteration\u001b[0m\u001b[0;34m,\u001b[0m \u001b[0mbatch_size\u001b[0m\u001b[0;34m,\u001b[0m\u001b[0;34m\u001b[0m\u001b[0;34m\u001b[0m\u001b[0m\n\u001b[0;32m---> 37\u001b[0;31m            print_every, save_every, clip, corpus_name, loadFilename)\n\u001b[0m",
            "\u001b[0;32m<ipython-input-72-30212246288a>\u001b[0m in \u001b[0;36mtrainIters\u001b[0;34m(model_name, voc, pairs, encoder, decoder, encoder_optimizer, decoder_optimizer, embedding, encoder_n_layers, decoder_n_layers, save_dir, n_iteration, batch_size, print_every, save_every, clip, corpus_name, loadFilename)\u001b[0m\n\u001b[1;32m     21\u001b[0m         \u001b[0;31m# Run a training iteration with batch\u001b[0m\u001b[0;34m\u001b[0m\u001b[0;34m\u001b[0m\u001b[0;34m\u001b[0m\u001b[0m\n\u001b[1;32m     22\u001b[0m         loss = train(input_variable, lengths, target_variable, mask, max_target_len, encoder,\n\u001b[0;32m---> 23\u001b[0;31m                      decoder, embedding, encoder_optimizer, decoder_optimizer, batch_size, clip)\n\u001b[0m\u001b[1;32m     24\u001b[0m         \u001b[0mprint_loss\u001b[0m \u001b[0;34m+=\u001b[0m \u001b[0mloss\u001b[0m\u001b[0;34m\u001b[0m\u001b[0;34m\u001b[0m\u001b[0m\n\u001b[1;32m     25\u001b[0m \u001b[0;34m\u001b[0m\u001b[0m\n",
            "\u001b[0;32m<ipython-input-60-b8fe56349019>\u001b[0m in \u001b[0;36mtrain\u001b[0;34m(input_variable, lengths, target_variable, mask, max_target_len, encoder, decoder, embedding, encoder_optimizer, decoder_optimizer, batch_size, clip, max_length)\u001b[0m\n\u001b[1;32m     17\u001b[0m   \u001b[0mn_totals\u001b[0m \u001b[0;34m=\u001b[0m \u001b[0;36m0\u001b[0m\u001b[0;34m\u001b[0m\u001b[0;34m\u001b[0m\u001b[0m\n\u001b[1;32m     18\u001b[0m \u001b[0;34m\u001b[0m\u001b[0m\n\u001b[0;32m---> 19\u001b[0;31m   \u001b[0mencoder_outputs\u001b[0m\u001b[0;34m,\u001b[0m \u001b[0mencoder_hidden\u001b[0m \u001b[0;34m=\u001b[0m \u001b[0mencoder\u001b[0m\u001b[0;34m(\u001b[0m\u001b[0minput_variable\u001b[0m\u001b[0;34m,\u001b[0m \u001b[0mlengths\u001b[0m\u001b[0;34m)\u001b[0m\u001b[0;34m\u001b[0m\u001b[0;34m\u001b[0m\u001b[0m\n\u001b[0m\u001b[1;32m     20\u001b[0m   \u001b[0muse_teacher_forcing\u001b[0m \u001b[0;34m=\u001b[0m \u001b[0;32mTrue\u001b[0m \u001b[0;32mif\u001b[0m \u001b[0mrandom\u001b[0m\u001b[0;34m.\u001b[0m\u001b[0mrandom\u001b[0m\u001b[0;34m(\u001b[0m\u001b[0;34m)\u001b[0m \u001b[0;34m<\u001b[0m \u001b[0mteacher_forcing_ratio\u001b[0m \u001b[0;32melse\u001b[0m \u001b[0;32mFalse\u001b[0m\u001b[0;34m\u001b[0m\u001b[0;34m\u001b[0m\u001b[0m\n\u001b[1;32m     21\u001b[0m \u001b[0;34m\u001b[0m\u001b[0m\n",
            "\u001b[0;32m/usr/local/lib/python3.7/dist-packages/torch/nn/modules/module.py\u001b[0m in \u001b[0;36m_call_impl\u001b[0;34m(self, *input, **kwargs)\u001b[0m\n\u001b[1;32m   1049\u001b[0m         if not (self._backward_hooks or self._forward_hooks or self._forward_pre_hooks or _global_backward_hooks\n\u001b[1;32m   1050\u001b[0m                 or _global_forward_hooks or _global_forward_pre_hooks):\n\u001b[0;32m-> 1051\u001b[0;31m             \u001b[0;32mreturn\u001b[0m \u001b[0mforward_call\u001b[0m\u001b[0;34m(\u001b[0m\u001b[0;34m*\u001b[0m\u001b[0minput\u001b[0m\u001b[0;34m,\u001b[0m \u001b[0;34m**\u001b[0m\u001b[0mkwargs\u001b[0m\u001b[0;34m)\u001b[0m\u001b[0;34m\u001b[0m\u001b[0;34m\u001b[0m\u001b[0m\n\u001b[0m\u001b[1;32m   1052\u001b[0m         \u001b[0;31m# Do not call functions when jit is used\u001b[0m\u001b[0;34m\u001b[0m\u001b[0;34m\u001b[0m\u001b[0;34m\u001b[0m\u001b[0m\n\u001b[1;32m   1053\u001b[0m         \u001b[0mfull_backward_hooks\u001b[0m\u001b[0;34m,\u001b[0m \u001b[0mnon_full_backward_hooks\u001b[0m \u001b[0;34m=\u001b[0m \u001b[0;34m[\u001b[0m\u001b[0;34m]\u001b[0m\u001b[0;34m,\u001b[0m \u001b[0;34m[\u001b[0m\u001b[0;34m]\u001b[0m\u001b[0;34m\u001b[0m\u001b[0;34m\u001b[0m\u001b[0m\n",
            "\u001b[0;32m/usr/local/lib/python3.7/dist-packages/torch/nn/modules/module.py\u001b[0m in \u001b[0;36m_forward_unimplemented\u001b[0;34m(self, *input)\u001b[0m\n\u001b[1;32m    199\u001b[0m         \u001b[0mregistered\u001b[0m \u001b[0mhooks\u001b[0m \u001b[0;32mwhile\u001b[0m \u001b[0mthe\u001b[0m \u001b[0mlatter\u001b[0m \u001b[0msilently\u001b[0m \u001b[0mignores\u001b[0m \u001b[0mthem\u001b[0m\u001b[0;34m.\u001b[0m\u001b[0;34m\u001b[0m\u001b[0;34m\u001b[0m\u001b[0m\n\u001b[1;32m    200\u001b[0m     \"\"\"\n\u001b[0;32m--> 201\u001b[0;31m     \u001b[0;32mraise\u001b[0m \u001b[0mNotImplementedError\u001b[0m\u001b[0;34m\u001b[0m\u001b[0;34m\u001b[0m\u001b[0m\n\u001b[0m\u001b[1;32m    202\u001b[0m \u001b[0;34m\u001b[0m\u001b[0m\n\u001b[1;32m    203\u001b[0m \u001b[0;34m\u001b[0m\u001b[0m\n",
            "\u001b[0;31mNotImplementedError\u001b[0m: "
          ]
        }
      ]
    },
    {
      "cell_type": "markdown",
      "metadata": {
        "id": "MOPCnNd7cSHU"
      },
      "source": [
        "### Inference"
      ]
    },
    {
      "cell_type": "code",
      "metadata": {
        "id": "SFyyEf43b017"
      },
      "source": [
        "# Set dropout layers to eval mode\n",
        "encoder.eval()\n",
        "decoder.eval()\n",
        "\n",
        "# Initialize search module\n",
        "searcher = GreedySearchDecoder(encoder, decoder)\n",
        "\n",
        "# Begin chatting (uncomment and run the following line to begin)\n",
        "evaluateInput(encoder, decoder, searcher, voc)"
      ],
      "execution_count": null,
      "outputs": []
    },
    {
      "cell_type": "markdown",
      "metadata": {
        "id": "MQ4V-AtdcXXp"
      },
      "source": [
        "### Ref\n",
        "\n",
        "* [chatbot_tutorial](https://pytorch.org/tutorials/beginner/chatbot_tutorial.html?highlight=machine%20translation)"
      ]
    },
    {
      "cell_type": "code",
      "metadata": {
        "id": "EZgQBXaWceDq"
      },
      "source": [
        ""
      ],
      "execution_count": null,
      "outputs": []
    }
  ]
}