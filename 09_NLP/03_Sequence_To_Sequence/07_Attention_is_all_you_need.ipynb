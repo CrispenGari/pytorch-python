{
  "nbformat": 4,
  "nbformat_minor": 0,
  "metadata": {
    "colab": {
      "name": "07_Attention_is_all_you_need.ipynb",
      "provenance": [],
      "collapsed_sections": []
    },
    "kernelspec": {
      "name": "python3",
      "display_name": "Python 3"
    },
    "language_info": {
      "name": "python"
    },
    "accelerator": "GPU"
  },
  "cells": [
    {
      "cell_type": "markdown",
      "metadata": {
        "id": "sI6i6jOJfxYf"
      },
      "source": [
        "### Attention is All you Need.\n",
        "\n",
        "In this notebook we will be implementing a (slightly modified version) of the Transformer model from the [Attention is All You Need](https://arxiv.org/abs/1706.03762) paper. All images in this notebook will be taken from the Transformer paper. For more information about the Transformer, see [these](http://nlp.seas.harvard.edu/2018/04/03/attention.html) articles.\n",
        "\n",
        "![alt](https://github.com/bentrevett/pytorch-seq2seq/raw/49df8404d938a6edbf729876405558cc2c2b3013/assets/transformer1.png)\n",
        "\n",
        "### Introduction.\n",
        "\n",
        "Similar to the Convolutional Sequence-to-Sequence model, the Transformer does not use any recurrence. It also does not use any convolutional layers. Instead the model is entirely made up of linear layers, attention mechanisms and normalization.\n",
        "\n",
        "As of January 2020, Transformers are the dominant architecture in NLP and are used to achieve state-of-the-art results for many tasks and it appears as if they will be for the near future.\n",
        "\n",
        "The most popular Transformer variant is [BERT](https://arxiv.org/abs/1810.04805) (**B**idirectional **E**ncoder **R**epresentations from **T**ransformers) and pre-trained versions of BERT are commonly used to replace the embedding layers - if not more - in NLP models.\n",
        "\n",
        "A common library used when dealing with pre-trained transformers is the [Transformers](https://huggingface.co/transformers/) library, see [here](https://huggingface.co/transformers/pretrained_models.html) for a list of all pre-trained models available.\n",
        "\n",
        "The differences between the implementation in this notebook and the paper are:\n",
        "\n",
        "* we use a learned positional encoding instead of a static one\n",
        "* we use the standard ``Adam`` optimizer with a static learning rate instead of one with warm-up and cool-down steps\n",
        "* we do not use label smoothing\n",
        "\n",
        "We make all of these changes as they closely follow BERT's set-up and the majority of Transformer variants use a similar set-up.\n",
        "\n",
        "### Preparing the Data\n"
      ]
    },
    {
      "cell_type": "code",
      "metadata": {
        "colab": {
          "base_uri": "https://localhost:8080/",
          "height": 35
        },
        "id": "PDiIMkdkfoPP",
        "outputId": "641ed71c-5019-4079-90a2-7bd1517e6f58"
      },
      "source": [
        "import torch\n",
        "from torch import nn\n",
        "from torch.nn import functional as F\n",
        "import time, os, random, spacy, math\n",
        "\n",
        "import matplotlib.pyplot as plt\n",
        "from prettytable import PrettyTable\n",
        "\n",
        "import numpy as np\n",
        "from torchtext.legacy import data, datasets\n",
        "import matplotlib.ticker as ticker\n",
        "\n",
        "torch.__version__"
      ],
      "execution_count": 1,
      "outputs": [
        {
          "output_type": "execute_result",
          "data": {
            "application/vnd.google.colaboratory.intrinsic+json": {
              "type": "string"
            },
            "text/plain": [
              "'1.9.0+cu102'"
            ]
          },
          "metadata": {
            "tags": []
          },
          "execution_count": 1
        }
      ]
    },
    {
      "cell_type": "markdown",
      "metadata": {
        "id": "GQ2vJXHKj3u9"
      },
      "source": [
        "### Seeds"
      ]
    },
    {
      "cell_type": "code",
      "metadata": {
        "id": "ru2Fkhk3j0cG"
      },
      "source": [
        "SEED = 42\n",
        "\n",
        "np.random.seed(SEED)\n",
        "torch.manual_seed(SEED)\n",
        "random.seed(SEED)\n",
        "torch.cuda.manual_seed(SEED)\n",
        "torch.backends.cudnn.deteministic = True"
      ],
      "execution_count": 2,
      "outputs": []
    },
    {
      "cell_type": "markdown",
      "metadata": {
        "id": "IeycZTi0j9BF"
      },
      "source": [
        "### Loading `spaCy` model\n",
        "We will then define the tokenizers for both the SRC and the TRG ."
      ]
    },
    {
      "cell_type": "code",
      "metadata": {
        "id": "Kn2yUpg3j8on"
      },
      "source": [
        "spacy.cli.download('de_core_news_sm')\n",
        "import de_core_news_sm, en_core_web_sm\n",
        "\n",
        "spacy_de = spacy.load('de_core_news_sm')\n",
        "spacy_en = spacy.load('en_core_web_sm')"
      ],
      "execution_count": null,
      "outputs": []
    },
    {
      "cell_type": "markdown",
      "metadata": {
        "id": "rEIEAo5EkaiF"
      },
      "source": [
        "### Function that tokenizes sentences."
      ]
    },
    {
      "cell_type": "code",
      "metadata": {
        "id": "lHwTY18-kSgp"
      },
      "source": [
        "def tokenize_de(sent):\n",
        "  return [tok.text for tok in spacy_de.tokenizer(sent)]\n",
        "\n",
        "def tokenize_en(sent):\n",
        "  return [tok.text for tok in spacy_en.tokenizer(sent)]"
      ],
      "execution_count": null,
      "outputs": []
    },
    {
      "cell_type": "markdown",
      "metadata": {
        "id": "uuz6Wj47kjRt"
      },
      "source": [
        "### Creating the fields.\n",
        "Our fields are the same from the previous notebook. We are also going to pass the `batch_first=True` argument."
      ]
    },
    {
      "cell_type": "code",
      "metadata": {
        "id": "8VydLjsgkgat"
      },
      "source": [
        "SRC = data.Field(\n",
        "    tokenize = tokenize_de,\n",
        "    lower= True,\n",
        "    init_token = \"<sos>\",\n",
        "    eos_token = \"<eos>\",\n",
        "    batch_first = True\n",
        ")\n",
        "TRG = data.Field(\n",
        "    tokenize = tokenize_en,\n",
        "    lower= True,\n",
        "    init_token = \"<sos>\",\n",
        "    eos_token = \"<eos>\",\n",
        "    batch_first = True\n",
        ")"
      ],
      "execution_count": null,
      "outputs": []
    },
    {
      "cell_type": "markdown",
      "metadata": {
        "id": "W4FJYcTUk6WQ"
      },
      "source": [
        "### Then we load our `Multi30k` dataset."
      ]
    },
    {
      "cell_type": "code",
      "metadata": {
        "id": "Br28m6xKk5KU"
      },
      "source": [
        "train_data, valid_data, test_data = datasets.Multi30k.splits(\n",
        "    exts=('.de', '.en'),\n",
        "    fields= (SRC, TRG)\n",
        ")"
      ],
      "execution_count": null,
      "outputs": []
    },
    {
      "cell_type": "markdown",
      "metadata": {
        "id": "4qCyrRHylhNN"
      },
      "source": [
        "### Now we build the vocabularies\n",
        "Just like from the previous notebook we are also going to set the `min_freq=2` so that the word that appears less than 2 time in the corpus we convert it to `<unk>` token.\n",
        "\n",
        "**Also not that we only build the vocabulary only on the `train` data**"
      ]
    },
    {
      "cell_type": "code",
      "metadata": {
        "id": "S71Eza_RlgBL"
      },
      "source": [
        "SRC.build_vocab(train_data, min_freq=2)\n",
        "TRG.build_vocab(train_data, min_freq=2)"
      ],
      "execution_count": null,
      "outputs": []
    },
    {
      "cell_type": "markdown",
      "metadata": {
        "id": "pWBdVBKUmRB2"
      },
      "source": [
        "### Device"
      ]
    },
    {
      "cell_type": "code",
      "metadata": {
        "id": "DzTIjrbGmQX3"
      },
      "source": [
        "device = torch.device('cuda' if torch.cuda.is_available() else 'cpu')\n",
        "device"
      ],
      "execution_count": null,
      "outputs": []
    },
    {
      "cell_type": "markdown",
      "metadata": {
        "id": "oE4zcAjXmhjm"
      },
      "source": [
        "### Creating the iterators.\n",
        "Again we are going to use the `BucketIterator` to create iterators for our sets."
      ]
    },
    {
      "cell_type": "code",
      "metadata": {
        "id": "eOUPMWKambJC"
      },
      "source": [
        "BATCH_SIZE = 128\n",
        "train_iterator, valid_iterator, test_iterator = data.BucketIterator.splits(\n",
        "    (train_data, valid_data, test_data),\n",
        "    device = device,\n",
        "    batch_size = BATCH_SIZE \n",
        ")"
      ],
      "execution_count": null,
      "outputs": []
    },
    {
      "cell_type": "markdown",
      "metadata": {
        "id": "w1wF-0SUnGl2"
      },
      "source": [
        "### Again we are going to check examples."
      ]
    },
    {
      "cell_type": "code",
      "metadata": {
        "id": "C16OfKmHnEAd"
      },
      "source": [
        "def tabulate(column_names, data):\n",
        "  table = PrettyTable(column_names)\n",
        "  table.title= \"VISUALIZING SETS EXAMPLES\"\n",
        "  table.align[column_names[0]] = 'l'\n",
        "  table.align[column_names[1]] = 'r'\n",
        "  for row in data:\n",
        "    table.add_row(row)\n",
        "  print(table)\n",
        "\n",
        "column_names = [\"SUBSET\", \"EXAMPLE(s)\"]\n",
        "row_data = [\n",
        "        [\"training\", len(train_data)],\n",
        "        ['validation', len(valid_data)],\n",
        "        ['test', len(test_data)]\n",
        "]\n",
        "tabulate(column_names, row_data)"
      ],
      "execution_count": null,
      "outputs": []
    },
    {
      "cell_type": "markdown",
      "metadata": {
        "id": "NzAHoj38nPal"
      },
      "source": [
        "### Building the Model.\n",
        "Next, we'll build the model. Like previous notebooks it is made up of an encoder and a decoder, with the encoder encoding the input/source sentence (in German) into context vector and the decoder then decoding this context vector to output our output/target sentence (in English).\n",
        "\n",
        "### Encoder.\n",
        "Similar to the ConvSeq2Seq model, the Transformer's encoder does not attempt to compress the entire source sentence, $X = (x_1, ... ,x_n)$, into a single context vector, $z$. Instead it produces a sequence of context vectors, $Z = (z_1, ... , z_n)$. So, if our input sequence was 5 tokens long we would have $Z = (z_1, z_2, z_3, z_4, z_5)$. Why do we call this a sequence of context vectors and not a sequence of hidden states? A hidden state at time $t$ in an RNN has only seen tokens $x_t$ and all the tokens before it. However, each context vector here has seen all tokens at all positions within the input sequence.\n",
        "\n",
        "![alt](https://github.com/bentrevett/pytorch-seq2seq/raw/49df8404d938a6edbf729876405558cc2c2b3013/assets/transformer-encoder.png)\n",
        "\n",
        "\n",
        "First, the tokens are passed through a standard embedding layer. Next, as the model has no recurrent it has no idea about the order of the tokens within the sequence. We solve this by using a second embedding layer called a positional embedding layer. This is a standard embedding layer where the input is not the token itself but the position of the token within the sequence, starting with the first token, the <sos> (start of sequence) token, in position 0. The position embedding has a \"vocabulary\" size of 100, which means our model can accept sentences up to 100 tokens long. This can be increased if we want to handle longer sentences.\n",
        "\n",
        "The original Transformer implementation from the Attention is All You Need paper does not learn positional embeddings. Instead it uses a fixed static embedding. Modern Transformer architectures, like BERT, use positional embeddings instead, hence we have decided to use them in these notebooks. Check out this section to read more about the positional embeddings used in the original Transformer model.\n",
        "Next, the token and positional embeddings are elementwise summed together to get a vector which contains information about the token and also its position with in the sequence. However, before they are summed, the token embeddings are multiplied by a scaling factor which is $\\sqrt{d_{model}}$, where $d_{model}$ is the hidden dimension size, ``hid_dim``. This supposedly reduces variance in the embeddings and the model is difficult to train reliably without this scaling factor. Dropout is then applied to the combined embeddings.\n",
        "\n",
        "The combined embeddings are then passed through $N$ encoder layers to get $Z$, which is then output and can be used by the decoder.\n",
        "\n",
        "The source mask, ``src_mask``, is simply the same shape as the source sentence but has a value of 1 when the token in the source sentence is not a ``<pad> `` token and 0 when it is a ``<pad>`` token. This is used in the encoder layers to mask the multi-head attention mechanisms, which are used to calculate and apply attention over the source sentence, so the model does not pay attention to ``<pad>`` tokens, which contain no useful information."
      ]
    },
    {
      "cell_type": "code",
      "metadata": {
        "id": "yNqnol2Dp9r3"
      },
      "source": [
        "class Encoder(nn.Module):\n",
        "  def __init__(self, input_dim, hid_dim, n_layers, \n",
        "               n_heads, pf_dim, dropout, device, max_length=100):\n",
        "    super(Encoder, self).__init__()\n",
        "    self.device = device \n",
        "\n",
        "    self.tok_embedding = nn.Embedding(input_dim, hid_dim)\n",
        "    self.pos_embedding = nn.Embedding(max_length, hid_dim)\n",
        "\n",
        "    self.layers = nn.ModuleList([\n",
        "          EncoderLayer(hid_dim, n_heads, pf_dim, dropout, device) for _ in range(n_layers)\n",
        "    ])\n",
        "    self.dropout = nn.Dropout(dropout)\n",
        "    self.scale = torch.sqrt(torch.FloatTensor([\n",
        "        hid_dim\n",
        "    ])).to(device)\n",
        "\n",
        "  def forward(self, src, src_mask):\n",
        "    \"\"\"\n",
        "    src = [batch size, src len]\n",
        "    src_mask = [batch size, 1, 1, src len]\n",
        "    \"\"\"\n",
        "    batch_size = src.shape[0]\n",
        "    src_len = src.shape[1]\n",
        "\n",
        "    pos = torch.arange(0, src_len).unsqueeze(0).repeat(batch_size, 1).to(self.device)\n",
        "    \"\"\"\n",
        "    pos = [batch_size, src len]\n",
        "    \"\"\"\n",
        "    src = self.dropout(\n",
        "        (self.tok_embedding(src) * self.scale) + self.pos_embedding(pos)\n",
        "    )\n",
        "    # src = [batch_size, src_len, hid_dim]\n",
        "\n",
        "    for layer in self.layers:\n",
        "      src = layer(src, src_mask)\n",
        "    # src = [batch size, src len, hid dim]\n",
        "    \n",
        "    return src\n"
      ],
      "execution_count": null,
      "outputs": []
    },
    {
      "cell_type": "markdown",
      "metadata": {
        "id": "CxvwSVYis4ye"
      },
      "source": [
        "### Encoder Layer.\n",
        "As you can see we have used the `EncoderLayer` in our encoder and yet not defined it.\n",
        "\n",
        "The encoder layers are where all of the \"meat\" of the encoder is contained. We first pass the source sentence and its mask into the multi-head attention layer, then perform dropout on it, apply a residual connection and pass it through a [Layer Normalization](https://arxiv.org/abs/1607.06450) layer. We then pass it through a position-wise feedforward layer and then, again, apply dropout, a residual connection and then layer normalization to get the output of this layer which is fed into the next layer. The parameters are not shared between layers.\n",
        "\n",
        "The mutli head attention layer is used by the encoder layer to attend to the source sentence, i.e. it is calculating and applying attention over itself instead of another sequence, hence we call it self attention.\n",
        "\n",
        "[This](https://mlexplained.com/2018/01/13/weight-normalization-and-layer-normalization-explained-normalization-in-deep-learning-part-2/) article goes into more detail about layer normalization, but the gist is that it normalizes the values of the features, i.e. across the hidden dimension, so each feature has a mean of 0 and a standard deviation of 1. This allows neural networks with a larger number of layers, like the Transformer, to be trained easier."
      ]
    },
    {
      "cell_type": "code",
      "metadata": {
        "id": "4S6yRqD6p9d-"
      },
      "source": [
        "class EncoderLayer(nn.Module):\n",
        "  def __init__(self, hid_dim, n_heads, pf_dim,\n",
        "               dropout, device):\n",
        "    super(EncoderLayer, self).__init__()\n",
        "\n",
        "    self.self_attn_layer_norm = nn.LayerNorm(hid_dim)\n",
        "    self.ff_layer_norm = nn.LayerNorm(hid_dim)\n",
        "    self.self_attention = MultiHeadAttentionLayer(hid_dim, n_heads, \n",
        "                                                  dropout, device)\n",
        "    self.positionwise_feedforward = PositionwiseFeedforwardLayer(hid_dim, \n",
        "                                                                 pf_dim,\n",
        "                                                                 dropout\n",
        "                                                                 )\n",
        "    self.dropout = nn.Dropout(dropout)\n",
        "  \n",
        "  def forward(self, src, src_mask):\n",
        "    \"\"\"\n",
        "    src = [batch size, src len, hid dim]\n",
        "    src_mask = [batch size, 1, 1, src len]\n",
        "    \"\"\"\n",
        "    # SELF ATTENTION\n",
        "    _src, _ = self.self_attention(src, src, src, src_mask)\n",
        "    # DROPOUT, RESIDUAL CONNECTION AND LAYER NORM\n",
        "    src = self.self_attn_layer_norm(src + self.dropout(_src))\n",
        "    # src = [batch size, src len, hid dim]\n",
        "\n",
        "    # POSITIONWISE FEED-FORWARD\n",
        "    _src = self.positionwise_feedforward(src)\n",
        "\n",
        "    # DROPOUT RESIDUAL AND LAYER NORM\n",
        "    src = self.ff_layer_norm(src + self.dropout(_src)) # src = [batch size, src len, hid dim]\n",
        "    return src\n",
        "    "
      ],
      "execution_count": null,
      "outputs": []
    },
    {
      "cell_type": "markdown",
      "metadata": {
        "id": "jA7XSG6zwgqG"
      },
      "source": [
        "### Mutli Head Attention Layer\n",
        "Again we use the `MultiHeadAttentionLayer` in our `EncoderLayer` and yet we have not defied it. Let's look at it.\n",
        "\n",
        "One of the key, novel concepts introduced by the Transformer paper is the multi-head attention layer.\n",
        "\n",
        "![img](https://github.com/bentrevett/pytorch-seq2seq/raw/49df8404d938a6edbf729876405558cc2c2b3013/assets/transformer-attention.png)\n",
        "\n",
        "Attention can be though of as queries, keys and values - where the query is used with the key to get an attention vector (usually the output of a softmax operation and has all values between 0 and 1 which sum to 1) which is then used to get a weighted sum of the values.\n",
        "\n",
        "The Transformer uses scaled dot-product attention, where the query and key are combined by taking the dot product between them, then applying the ``softmax`` operation and scaling by $d_k$ before finally then multiplying by the value. $d_k$ is the head dimension, head_dim, which we will shortly explain further.\n",
        "\n",
        "$$ \\text{Attention}(Q, K, V) = \\text{Softmax} \\big( \\frac{QK^T}{\\sqrt{d_k}} \\big)V $$\n",
        "This is similar to standard dot product attention but is scaled by $d_k$, which the paper states is used to stop the results of the dot products growing large, causing gradients to become too small.\n",
        "\n",
        "However, the scaled dot-product attention isn't simply applied to the queries, keys and values. Instead of doing a single attention application the queries, keys and values have their ``hid_dim`` split into $h$ heads and the scaled dot-product attention is calculated over all heads in parallel. This means instead of paying attention to one concept per attention application, we pay attention to $h$. We then re-combine the heads into their hid_dim shape, thus each ``hid_dim`` is potentially paying attention to $h$ different concepts.\n",
        "\n",
        "$$ \\text{MultiHead}(Q, K, V) = \\text{Concat}(\\text{head}_1,...,\\text{head}_h)W^O $$$$\\text{head}_i = \\text{Attention}(QW_i^Q, KW_i^K, VW_i^V) $$\n",
        "$W^O$ is the linear layer applied at the end of the multi-head attention layer, fc. $W^Q, W^K, W^V$ are the linear layers ``fc_q``, ``fc_k`` and ``fc_v``.\n",
        "\n",
        "\n",
        "Walking through the module, first we calculate $QW^Q$, $KW^K$ and $VW^V$ with the linear layers, ``fc_q``, ``fc_k`` and ``fc_v``, to give us Q, K and V. Next, we split the ``hid_dim`` of the query, key and value into n_heads using .view and correctly permute them so they can be multiplied together. We then calculate the energy (the un-normalized attention) by multiplying Q and K together and scaling it by the square root of head_dim, which is calulated as ``hid_dim // n_heads``. We then mask the energy so we do not pay attention over any elements of the sequeuence we shouldn't, then apply the softmax and dropout. We then apply the attention to the value heads, V, before combining the n_heads together. Finally, we multiply this $W^O$, represented by ``fc_o``.\n",
        "\n",
        "Note that in our implementation the lengths of the keys and values are always the same, thus when matrix multiplying the output of the softmax, attention, with V we will always have valid dimension sizes for matrix multiplication. This multiplication is carried out using torch.matmul which, when both tensors are >2-dimensional, does a batched matrix multiplication over the last two dimensions of each tensor. This will be a [query len, key len] x [value len, head dim] batched matrix multiplication over the batch size and each head which provides the [batch size, n heads, query len, head dim] result.\n",
        "\n",
        "One thing that looks strange at first is that dropout is applied directly to the attention. This means that our attention vector will most probably not sum to 1 and we may pay full attention to a token but the attention over that token is set to 0 by dropout. This is never explained, or even mentioned, in the paper however is used by the [official implementation](https://github.com/tensorflow/tensor2tensor/) and every Transformer implementation since, [including BERT](https://github.com/google-research/bert/).\n",
        "\n"
      ]
    },
    {
      "cell_type": "code",
      "metadata": {
        "id": "TqX6tj8Jp9an"
      },
      "source": [
        "class MultiHeadAttentionLayer(nn.Module):\n",
        "  def __init__(self, hid_dim, n_heads, dropout, device):\n",
        "    super(MultiHeadAttentionLayer, self).__init__()\n",
        "\n",
        "    assert hid_dim % n_heads == 0\n",
        "\n",
        "    self.hid_dim = hid_dim\n",
        "    self.n_heads = n_heads\n",
        "    self.head_dim = hid_dim // n_heads\n",
        "\n",
        "    self.fc_q = nn.Linear(hid_dim, hid_dim)\n",
        "    self.fc_k = nn.Linear(hid_dim, hid_dim)\n",
        "    self.fc_v = nn.Linear(hid_dim, hid_dim)\n",
        "\n",
        "    self.fc_o = nn.Linear(hid_dim, hid_dim)\n",
        "    self.dropout = nn.Dropout(dropout)\n",
        "\n",
        "    self.scale = torch.sqrt(torch.FloatTensor([\n",
        "        self.head_dim\n",
        "    ])).to(device)\n",
        "\n",
        "  def forward(self, query, key, value, mask):\n",
        "    \"\"\"\n",
        "    query = [batch size, query len, hid dim]\n",
        "    key = [batch size, key len, hid dim]\n",
        "    value = [batch size, value len, hid dim]\n",
        "    \"\"\"\n",
        "    batch_size = query.shape[0]\n",
        "\n",
        "    Q = self.fc_q(query)\n",
        "    K = self.fc_k(key)\n",
        "    V = self.fc_v(value)\n",
        "    \"\"\"\n",
        "    Q = [batch size, query len, hid dim]\n",
        "    K = [batch size, key len, hid dim]\n",
        "    V = [batch size, value len, hid dim]\n",
        "    \"\"\"\n",
        "\n",
        "    Q = Q.view(batch_size, -1, self.n_heads, self.head_dim\n",
        "               ).permute(0, 2, 1, 3)\n",
        "    K = K.view(batch_size, -1, self.n_heads, self.head_dim\n",
        "               ).permute(0, 2, 1, 3)\n",
        "    V = V.view(batch_size, -1, self.n_heads, self.head_dim\n",
        "               ).permute(0, 2, 1, 3)\n",
        "    \n",
        "    \"\"\"\n",
        "    Q = [batch size, n heads, query len, head dim]\n",
        "    K = [batch size, n heads, key len, head dim]\n",
        "    V = [batch size, n heads, value len, head dim]\n",
        "    \"\"\"\n",
        "\n",
        "    energy = torch.matmul(Q, K.permute(0, 1, 3, 2)) / self.scale\n",
        "    # energy = [batch size, n heads, query len, key len]\n",
        "\n",
        "    if mask is not None:\n",
        "      energy = energy.masked_fill(mask == 0, -1e10)\n",
        "    \n",
        "    attention = torch.softmax(energy, dim = -1)\n",
        "    # attention = [batch size, n heads, query len, key len]\n",
        "    x = torch.matmul(self.dropout(attention), V) # x = [batch size, n heads, query len, head dim]\n",
        "    x = x.permute(0, 2, 1, 3).contiguous()\n",
        "    # x = [batch size, query len, n heads, head dim]\n",
        "    x = x.view(batch_size, -1, self.hid_dim)\n",
        "    # x = [batch size, query len, hid dim]\n",
        "    x = self.fc_o(x)\n",
        "    # x = [batch size, query len, hid dim]\n",
        "    return x, attention\n"
      ],
      "execution_count": null,
      "outputs": []
    },
    {
      "cell_type": "markdown",
      "metadata": {
        "id": "wHXCk9uT1_tG"
      },
      "source": [
        "### Position-wise Feedforward Layer\n",
        "Again in our `EcodingLayer` we used the `PositionwiseFeedforwardLayer` without defining it now let's look at it.\n",
        "\n",
        "The other main block inside the encoder layer is the position-wise feedforward layer This is relatively simple compared to the multi-head attention layer. The input is transformed from hid_dim to pf_dim, where ``pf_dim`` is usually a lot larger than ``hid_dim``. The original Transformer used a ``hid_dim`` of 512 and a ``pf_dim`` of 2048. The ``ReLU`` activation function and dropout are applied before it is transformed back into a ``hid_dim`` representation.\n",
        "\n",
        "Why is this used? Unfortunately, it is never explained in the paper.\n",
        "\n",
        "BERT uses the [GELU](https://arxiv.org/abs/1606.08415) activation function, which can be used by simply switching torch.relu for F.gelu. Why did they use GELU? Again, it is never explained."
      ]
    },
    {
      "cell_type": "code",
      "metadata": {
        "id": "71rBebmGyvgW"
      },
      "source": [
        "class PositionwiseFeedforwardLayer(nn.Module):\n",
        "  def __init__(self, hid_dim, pf_dim, dropout):\n",
        "    super(PositionwiseFeedforwardLayer, self).__init__()\n",
        "\n",
        "    self.fc_1 = nn.Linear(hid_dim, pf_dim)\n",
        "    self.fc_2 = nn.Linear(pf_dim, hid_dim)\n",
        "\n",
        "    self.dropout = nn.Dropout(dropout)\n",
        "\n",
        "  def forward(self, x):\n",
        "    # x = [batch size, seq len, hid dim]\n",
        "    x = self.dropout(torch.relu(self.fc_1(x)))\n",
        "    # x = [batch size, seq len, pf dim]\n",
        "    x = self.fc_2(x) # x = [batch size, seq len, hid dim]\n",
        "    return x"
      ],
      "execution_count": null,
      "outputs": []
    },
    {
      "cell_type": "markdown",
      "metadata": {
        "id": "Sv1SLNTq3bl_"
      },
      "source": [
        "### Decoder.\n",
        "The objective of the decoder is to take the encoded representation of the source sentence, $Z$, and convert it into predicted tokens in the target sentence, $\\hat{Y}$. We then compare $\\hat{Y}$ with the actual tokens in the target sentence, $Y$, to calculate our loss, which will be used to calculate the gradients of our parameters and then use our optimizer to update our weights in order to improve our predictions.\n",
        "\n",
        "![img](https://github.com/bentrevett/pytorch-seq2seq/raw/49df8404d938a6edbf729876405558cc2c2b3013/assets/transformer-decoder.png)\n",
        "\n",
        "The decoder is similar to encoder, however it now has two multi-head attention layers. A masked multi-head attention layer over the target sequence, and a multi-head attention layer which uses the decoder representation as the query and the encoder representation as the key and value.\n",
        "\n",
        "The decoder uses positional embeddings and combines - via an elementwise sum - them with the scaled embedded target tokens, followed by dropout. Again, our positional encodings have a \"vocabulary\" of 100, which means they can accept sequences up to 100 tokens long. This can be increased if desired.\n",
        "\n",
        "The combined embeddings are then passed through the $N$ decoder layers, along with the encoded source, ``enc_src``, and the source and target masks. Note that the number of layers in the encoder does not have to be equal to the number of layers in the decoder, even though they are both denoted by $N$.\n",
        "\n",
        "The decoder representation after the $N^{th}$ layer is then passed through a linear layer, ``fc_out``. In PyTorch, the softmax operation is contained within our loss function, so we do not explicitly need to use a softmax layer here.\n",
        "\n",
        "As well as using the source mask, as we did in the encoder to prevent our model attending to ``<pad>`` tokens, we also use a target mask. This will be explained further in the ``Seq2Seq`` model which encapsulates both the encoder and decoder, but the gist of it is that it performs a similar operation as the decoder padding in the convolutional sequence-to-sequence model. As we are processing all of the target tokens at once in parallel we need a method of stopping the decoder from \"cheating\" by simply \"looking\" at what the next token in the target sequence is and outputting it.\n",
        "\n",
        "Our decoder layer also outputs the normalized attention values so we can later plot them to see what our model is actually paying attention to."
      ]
    },
    {
      "cell_type": "code",
      "metadata": {
        "id": "c87RgB3z3vNO"
      },
      "source": [
        "class Decoder(nn.Module):\n",
        "  def __init__(self,\n",
        "                output_dim,  hid_dim,   n_layers, \n",
        "                 n_heads, pf_dim,  dropout,  device,\n",
        "                 max_length = 100\n",
        "               ):\n",
        "    super(Decoder, self).__init__()\n",
        "    \n",
        "    self.device = device\n",
        "    self.tok_embedding = nn.Embedding(output_dim, hid_dim)\n",
        "    self.pos_embedding = nn.Embedding(max_length, hid_dim)\n",
        "\n",
        "    self.layers = nn.ModuleList([DecoderLayer(hid_dim, \n",
        "                                                  n_heads, \n",
        "                                                  pf_dim, \n",
        "                                                  dropout, \n",
        "                                                  device)\n",
        "                                     for _ in range(n_layers)])\n",
        "    self.fc_out = nn.Linear(hid_dim, output_dim)\n",
        "    self.dropout = nn.Dropout(dropout)\n",
        "    self.scale = torch.sqrt(torch.FloatTensor([hid_dim])).to(device)\n",
        "\n",
        "  def forward(self, trg, enc_src, trg_mask, src_mask):\n",
        "    \"\"\"\n",
        "    trg = [batch size, trg len]\n",
        "    enc_src = [batch size, src len, hid dim]\n",
        "    trg_mask = [batch size, 1, trg len, trg len]\n",
        "    src_mask = [batch size, 1, 1, src len]\n",
        "    \"\"\"\n",
        "    batch_size = trg.shape[0]\n",
        "    trg_len = trg.shape[1]\n",
        "    pos = torch.arange(0, trg_len).unsqueeze(0).repeat(batch_size, 1).to(self.device)\n",
        "    # pos = [batch size, trg len]\n",
        "    trg = self.dropout(\n",
        "        (self.tok_embedding(trg) * self.scale) + self.pos_embedding(pos)\n",
        "    )\n",
        "    # trg = [batch size, trg len, hid dim]\n",
        "\n",
        "    for layer in self.layers:\n",
        "      trg, attention = layer(trg, enc_src, trg_mask, src_mask)\n",
        "    \n",
        "    \"\"\"\n",
        "    trg = [batch size, trg len, hid dim]\n",
        "    attention = [batch size, n heads, trg len, src len]\n",
        "    \"\"\"\n",
        "    output = self.fc_out(trg) # output = [batch size, trg len, output dim]\n",
        "\n",
        "    return output, attention\n"
      ],
      "execution_count": null,
      "outputs": []
    },
    {
      "cell_type": "markdown",
      "metadata": {
        "id": "Qx-k2j9j5sqP"
      },
      "source": [
        "### Decoder Layer\n",
        "Again we have used the `DecoderLayer` in our decoder without defining i. Let's have a look at it.\n",
        "\n",
        "As mentioned previously, the decoder layer is similar to the encoder layer except that it now has two multi-head attention layers, ``self_attention`` and ``encoder_attention``.\n",
        "\n",
        "The first performs self-attention, as in the encoder, by using the decoder representation so far as the query, key and value. This is followed by dropout, residual connection and layer normalization. This ``self_attention`` layer uses the target sequence mask, ``trg_mask``, in order to prevent the decoder from \"cheating\" by paying attention to tokens that are \"ahead\" of the one it is currently processing as it processes all tokens in the target sentence in parallel.\n",
        "\n",
        "The second is how we actually feed the encoded source sentence, ``enc_src``, into our decoder. In this multi-head attention layer the queries are the decoder representations and the keys and values are the encoder representations. Here, the source mask, ``src_mask`` is used to prevent the multi-head attention layer from attending to ``<pad>`` tokens within the source sentence. This is then followed by the dropout, residual connection and layer normalization layers.\n",
        "\n",
        "Finally, we pass this through the position-wise feedforward layer and yet another sequence of dropout, residual connection and layer normalization.\n",
        "\n",
        "The decoder layer isn't introducing any new concepts, just using the same set of layers as the encoder in a slightly different way."
      ]
    },
    {
      "cell_type": "code",
      "metadata": {
        "id": "_dlhV4F_3vIY"
      },
      "source": [
        "class DecoderLayer(nn.Module):\n",
        "  def __init__(self, hid_dim,  n_heads, \n",
        "                 pf_dim, dropout, device\n",
        "               ):\n",
        "    super(DecoderLayer, self).__init__()\n",
        "    self.self_attn_layer_norm = nn.LayerNorm(hid_dim)\n",
        "    self.enc_attn_layer_norm = nn.LayerNorm(hid_dim)\n",
        "    self.ff_layer_norm = nn.LayerNorm(hid_dim)\n",
        "    self.self_attention = MultiHeadAttentionLayer(hid_dim, n_heads, \n",
        "                                                  dropout, device)\n",
        "    self.encoder_attention = MultiHeadAttentionLayer(hid_dim, n_heads, dropout,\n",
        "                                                     device)\n",
        "    self.positionwise_feedforward = PositionwiseFeedforwardLayer(hid_dim,\n",
        "                                                                     pf_dim, \n",
        "                                                                     dropout\n",
        "                                                                 )\n",
        "    self.dropout = nn.Dropout(dropout)\n",
        "\n",
        "  def forward(self, trg, enc_src, trg_mask, src_mask):\n",
        "    \"\"\"\n",
        "    trg = [batch size, trg len, hid dim]\n",
        "    enc_src = [batch size, src len, hid dim]\n",
        "    trg_mask = [batch size, 1, trg len, trg len]\n",
        "    src_mask = [batch size, 1, 1, src len]\n",
        "    \"\"\"\n",
        "    # self attention\n",
        "    _trg, _ = self.self_attention(trg, trg, trg, trg_mask)\n",
        "    # dropout, residual connection and layer norm\n",
        "    trg = self.self_attn_layer_norm(trg + self.dropout(_trg))\n",
        "    # trg = [batch size, trg len, hid dim]\n",
        "\n",
        "    # encoder attention\n",
        "    _trg, attention = self.encoder_attention(trg, enc_src, enc_src, src_mask)\n",
        "\n",
        "    # dropout, residual connection and layer norm\n",
        "    trg = self.enc_attn_layer_norm(trg + self.dropout(_trg))\n",
        "    # trg = [batch size, trg len, hid dim]\n",
        "    # positionwise feedforward\n",
        "    _trg = self.positionwise_feedforward(trg)\n",
        "    # dropout, residual and layer norm\n",
        "    trg = self.ff_layer_norm(trg + self.dropout(_trg))\n",
        "    \"\"\"\n",
        "    trg = [batch size, trg len, hid dim]\n",
        "    attention = [batch size, n heads, trg len, src len]\n",
        "    \"\"\"\n",
        "    return trg, attention\n"
      ],
      "execution_count": null,
      "outputs": []
    },
    {
      "cell_type": "markdown",
      "metadata": {
        "id": "UWx5bxe97uvC"
      },
      "source": [
        "### Seq2Seq.\n",
        "Finally, we have the Seq2Seq module which encapsulates the encoder and decoder, as well as handling the creation of the masks.\n",
        "\n",
        "The source mask is created by checking where the source sequence is not equal to a ``<pad>`` token. It is 1 where the token is not a ``<pad>`` token and 0 when it is. It is then unsqueezed so it can be correctly broadcast when applying the mask to the energy, which of shape ``[batch size, n heads, seq len, seq len]``.\n",
        "\n",
        "The target mask is slightly more complicated. First, we create a mask for the ``<pad>`` tokens, as we did for the source mask. Next, we create a \"subsequent\" mask, ``trg_sub_mask``, using ``torch.tri``l. This creates a diagonal matrix where the elements above the diagonal will be zero and the elements below the diagonal will be set to whatever the input tensor is. In this case, the input tensor will be a tensor filled with ones. So this means our ``trg_sub_mask`` will look something like this (for a target with 5 tokens):\n",
        "\n",
        "$$\\begin{matrix} 1 & 0 & 0 & 0 & 0\\\\ 1 & 1 & 0 & 0 & 0\\\\ 1 & 1 & 1 & 0 & 0\\\\ 1 & 1 & 1 & 1 & 0\\\\ 1 & 1 & 1 & 1 & 1\\\\ \\end{matrix}$$\n",
        "This shows what each target token (row) is allowed to look at (column). The first target token has a mask of [1, 0, 0, 0, 0] which means it can only look at the first target token. The second target token has a mask of [1, 1, 0, 0, 0] which it means it can look at both the first and second target tokens.\n",
        "\n",
        "The \"subsequent\" mask is then logically anded with the padding mask, this combines the two masks ensuring both the subsequent tokens and the padding tokens cannot be attended to. For example if the last two tokens were ``<pad>`` tokens the mask would look like:\n",
        "\n",
        "$$\\begin{matrix} 1 & 0 & 0 & 0 & 0\\\\ 1 & 1 & 0 & 0 & 0\\\\ 1 & 1 & 1 & 0 & 0\\\\ 1 & 1 & 1 & 0 & 0\\\\ 1 & 1 & 1 & 0 & 0\\\\ \\end{matrix}$$\n",
        "After the masks are created, they used with the encoder and decoder along with the source and target sentences to get our predicted target sentence, output, along with the decoder's attention over the source sequence.\n"
      ]
    },
    {
      "cell_type": "code",
      "metadata": {
        "id": "H1uD1UQ83vF2"
      },
      "source": [
        "class Seq2Seq(nn.Module):\n",
        "  def __init__(self, encoder, decoder, src_pad_idx, trg_pad_idx, device):\n",
        "    super(Seq2Seq, self).__init__()\n",
        "\n",
        "    self.encoder = encoder\n",
        "    self.decoder = decoder\n",
        "    self.src_pad_idx = src_pad_idx\n",
        "    self.trg_pad_idx = trg_pad_idx\n",
        "    self.device = device\n",
        "\n",
        "  def make_src_mask(self, src):\n",
        "    # src = [batch size, src len]\n",
        "    src_mask = (src != self.src_pad_idx).unsqueeze(1).unsqueeze(2)\n",
        "    # src_mask = [batch size, 1, 1, src len]\n",
        "    return src_mask\n",
        "\n",
        "  def make_trg_mask(self, trg):\n",
        "    # trg = [batch size, trg len]\n",
        "    trg_pad_mask = (trg != self.trg_pad_idx).unsqueeze(1).unsqueeze(2)\n",
        "    # trg_pad_mask = [batch size, 1, 1, trg len]\n",
        "    trg_len = trg.shape[1]\n",
        "    trg_sub_mask = torch.tril(torch.ones((trg_len, trg_len), \n",
        "                                         device = self.device)).bool()\n",
        "\n",
        "    # trg_sub_mask = [trg len, trg len]\n",
        "    trg_mask = trg_pad_mask & trg_sub_mask\n",
        "    # trg_mask = [batch size, 1, trg len, trg len]\n",
        "    return trg_mask\n",
        "\n",
        "  def forward(self, src, trg):\n",
        "    \"\"\"\n",
        "    src = [batch size, src len]\n",
        "    trg = [batch size, trg len]\n",
        "    \"\"\"\n",
        "    src_mask = self.make_src_mask(src)\n",
        "    trg_mask = self.make_trg_mask(trg)\n",
        "    \"\"\"\n",
        "    src_mask = [batch size, 1, 1, src len]\n",
        "    trg_mask = [batch size, 1, trg len, trg len]\n",
        "    \"\"\"\n",
        "    enc_src = self.encoder(src, src_mask)\n",
        "    # enc_src = [batch size, src len, hid dim]\n",
        "    output, attention = self.decoder(trg, enc_src, trg_mask, src_mask)\n",
        "    \"\"\"\n",
        "    output = [batch size, trg len, output dim]\n",
        "    attention = [batch size, n heads, trg len, src len]\n",
        "    \"\"\"\n",
        "    return output, attention\n"
      ],
      "execution_count": null,
      "outputs": []
    },
    {
      "cell_type": "markdown",
      "metadata": {
        "id": "zImpxiZx90j3"
      },
      "source": [
        "### Training the `Seq2Seq` model.\n",
        "We can now define our encoder and decoders. This model is significantly smaller than Transformers used in research today, but is able to be run on a single GPU quickly."
      ]
    },
    {
      "cell_type": "code",
      "metadata": {
        "id": "JaL7nJhV3vCe"
      },
      "source": [
        "INPUT_DIM = len(SRC.vocab)\n",
        "OUTPUT_DIM = len(TRG.vocab)\n",
        "HID_DIM = 256\n",
        "ENC_LAYERS = DEC_LAYERS = 3\n",
        "ENC_HEADS = DEC_HEADS = 8\n",
        "ENC_PF_DIM =  DEC_PF_DIM = 512\n",
        "ENC_DROPOUT = DEC_DROPOUT = 0.1\n",
        "\n",
        "enc = Encoder(INPUT_DIM, \n",
        "              HID_DIM, \n",
        "              ENC_LAYERS, \n",
        "              ENC_HEADS, \n",
        "              ENC_PF_DIM, \n",
        "              ENC_DROPOUT, \n",
        "              device)\n",
        "\n",
        "dec = Decoder(OUTPUT_DIM, \n",
        "              HID_DIM, \n",
        "              DEC_LAYERS, \n",
        "              DEC_HEADS, \n",
        "              DEC_PF_DIM, \n",
        "              DEC_DROPOUT, \n",
        "              device)\n",
        "\n",
        "\n",
        "print(enc)\n",
        "dec"
      ],
      "execution_count": null,
      "outputs": []
    },
    {
      "cell_type": "markdown",
      "metadata": {
        "id": "jsm4Bj2n-MuC"
      },
      "source": [
        "Then, use them to define our whole sequence-to-sequence encapsulating model."
      ]
    },
    {
      "cell_type": "code",
      "metadata": {
        "id": "w-MiD2ZI-xvO"
      },
      "source": [
        "SRC_PAD_IDX = SRC.vocab.stoi[SRC.pad_token]\n",
        "TRG_PAD_IDX = TRG.vocab.stoi[TRG.pad_token]\n",
        "\n",
        "model = Seq2Seq(enc, dec, SRC_PAD_IDX, TRG_PAD_IDX, device).to(device)\n",
        "model"
      ],
      "execution_count": null,
      "outputs": []
    },
    {
      "cell_type": "markdown",
      "metadata": {
        "id": "TG7KFboZ-3Kg"
      },
      "source": [
        "## Model parameters."
      ]
    },
    {
      "cell_type": "code",
      "metadata": {
        "id": "25bIEffv-xq5"
      },
      "source": [
        "def count_trainable_params(model):\n",
        "  return sum(p.numel() for p in model.parameters()), sum(p.numel() for p in model.parameters() if p.requires_grad)\n",
        "\n",
        "n_params, trainable_params = count_trainable_params(model)\n",
        "print(f\"Total number of paramaters: {n_params:,}\\nTotal tainable parameters: {trainable_params:,}\")"
      ],
      "execution_count": null,
      "outputs": []
    },
    {
      "cell_type": "markdown",
      "metadata": {
        "id": "MtMHyhLL_Fcn"
      },
      "source": [
        "The paper does not mention which weight initialization scheme was used, however Xavier uniform seems to be common amongst Transformer models, so we use it here."
      ]
    },
    {
      "cell_type": "code",
      "metadata": {
        "id": "_fyy0dGe-xoz"
      },
      "source": [
        "def initialize_weights(m):\n",
        "  if hasattr(m, 'weight') and m.weight.dim() > 1:\n",
        "      nn.init.xavier_uniform_(m.weight.data)"
      ],
      "execution_count": null,
      "outputs": []
    },
    {
      "cell_type": "code",
      "metadata": {
        "id": "qDPFnZBc-xlS"
      },
      "source": [
        "model.apply(initialize_weights)"
      ],
      "execution_count": null,
      "outputs": []
    },
    {
      "cell_type": "markdown",
      "metadata": {
        "id": "woomlSXE-xh7"
      },
      "source": [
        "The optimizer used in the original Transformer paper uses Adam with a learning rate that has a \"warm-up\" and then a \"cool-down\" period. BERT and other Transformer models use Adam with a fixed learning rate, so we will implement that. Check [this](http://nlp.seas.harvard.edu/2018/04/03/attention.html#optimizer) link for more details about the original Transformer's learning rate schedule.\n",
        "\n",
        "Note that the learning rate needs to be lower than the default used by Adam or else learning is unstable."
      ]
    },
    {
      "cell_type": "code",
      "metadata": {
        "id": "Jn-DD044_QyT"
      },
      "source": [
        "LEARNING_RATE = 0.0005\n",
        "\n",
        "optimizer = torch.optim.Adam(model.parameters(), lr = LEARNING_RATE)"
      ],
      "execution_count": null,
      "outputs": []
    },
    {
      "cell_type": "markdown",
      "metadata": {
        "id": "XkHt005h_pFU"
      },
      "source": [
        "Next, we define our loss function, making sure to ignore losses calculated over <pad> tokens."
      ]
    },
    {
      "cell_type": "code",
      "metadata": {
        "id": "t3elz8nR_QuL"
      },
      "source": [
        "criterion = nn.CrossEntropyLoss(ignore_index = TRG_PAD_IDX)"
      ],
      "execution_count": null,
      "outputs": []
    },
    {
      "cell_type": "markdown",
      "metadata": {
        "id": "oG6SO2OX_tkZ"
      },
      "source": [
        "### Training Loop\n",
        "As we want our model to predict the <eos> token but not have it be an input into our model we simply slice the <eos> token off the end of the sequence. Thus:\n",
        "\n",
        "$$\\begin{align*} \\text{trg} &= [sos, x_1, x_2, x_3, eos]\\\\ \\text{trg[:-1]} &= [sos, x_1, x_2, x_3] \\end{align*}$$\n",
        "$x_i$ denotes actual target sequence element. We then feed this into the model to get a predicted sequence that should hopefully predict the <eos> token:\n",
        "\n",
        "$$\\begin{align*} \\text{output} &= [y_1, y_2, y_3, eos] \\end{align*}$$\n",
        "$y_i$ denotes predicted target sequence element. We then calculate our loss using the original trg tensor with the <sos> token sliced off the front, leaving the <eos> token:\n",
        "\n",
        "$$\\begin{align*} \\text{output} &= [y_1, y_2, y_3, eos]\\\\ \\text{trg[1:]} &= [x_1, x_2, x_3, eos] \\end{align*}$$\n",
        "We then calculate our losses and update our parameters as is standard."
      ]
    },
    {
      "cell_type": "code",
      "metadata": {
        "id": "j4669ovD_QrU"
      },
      "source": [
        "def train(model, iterator, optimizer, criterion, clip):\n",
        "  model.train()\n",
        "  epoch_loss = 0\n",
        "  for i, batch in enumerate(iterator):\n",
        "    src = batch.src\n",
        "    trg = batch.trg\n",
        "    optimizer.zero_grad()\n",
        "    output, _ = model(src, trg[:,:-1])\n",
        "    \"\"\"\n",
        "    output = [batch size, trg len - 1, output dim]\n",
        "    trg = [batch size, trg len]\n",
        "    \"\"\"\n",
        "    output_dim = output.shape[-1]\n",
        "    \n",
        "    output = output.contiguous().view(-1, output_dim)\n",
        "    trg = trg[:,1:].contiguous().view(-1)\n",
        "    \"\"\"\n",
        "    output = [batch size * trg len - 1, output dim]\n",
        "    trg = [batch size * trg len - 1]\n",
        "    \"\"\"\n",
        "    loss = criterion(output, trg)\n",
        "    loss.backward()\n",
        "    torch.nn.utils.clip_grad_norm_(model.parameters(), clip)\n",
        "    optimizer.step()\n",
        "    epoch_loss += loss.item()\n",
        "  return epoch_loss / len(iterator)\n",
        "\n",
        "\n",
        "def evaluate(model, iterator, criterion):\n",
        "  model.eval()\n",
        "  epoch_loss = 0\n",
        "  with torch.no_grad():\n",
        "    for i, batch in enumerate(iterator):\n",
        "      src = batch.src\n",
        "      trg = batch.trg\n",
        "      output, _ = model(src, trg[:,:-1])\n",
        "      \"\"\"\n",
        "      output = [batch size, trg len - 1, output dim]\n",
        "      trg = [batch size, trg len]\n",
        "      \"\"\"\n",
        "      output_dim = output.shape[-1]\n",
        "      \n",
        "      output = output.contiguous().view(-1, output_dim)\n",
        "      trg = trg[:,1:].contiguous().view(-1)\n",
        "      \"\"\"\n",
        "      output = [batch size * trg len - 1, output dim]\n",
        "      trg = [batch size * trg len - 1]\n",
        "      \"\"\"\n",
        "      loss = criterion(output, trg)\n",
        "\n",
        "      epoch_loss += loss.item()\n",
        "  return epoch_loss / len(iterator)"
      ],
      "execution_count": null,
      "outputs": []
    },
    {
      "cell_type": "markdown",
      "metadata": {
        "id": "QXe1nTVyAIfi"
      },
      "source": [
        "### Helper functions\n",
        "\n",
        "1. Time to string representation"
      ]
    },
    {
      "cell_type": "code",
      "metadata": {
        "id": "NexauNlJAqlj"
      },
      "source": [
        "def hms_string(sec_elapsed):\n",
        "    h = int(sec_elapsed / (60 * 60))\n",
        "    m = int((sec_elapsed % (60 * 60)) / 60)\n",
        "    s = sec_elapsed % 60\n",
        "    return \"{}:{:>02}:{:>05.2f}\".format(h, m, s)"
      ],
      "execution_count": null,
      "outputs": []
    },
    {
      "cell_type": "markdown",
      "metadata": {
        "id": "Az5U5nOCAxtL"
      },
      "source": [
        "2. Tabulate training each epoch"
      ]
    },
    {
      "cell_type": "code",
      "metadata": {
        "id": "NFVIeoGxAqkK"
      },
      "source": [
        "def tabulate_training(column_names, data, title):\n",
        "  table = PrettyTable(column_names)\n",
        "  table.title= title\n",
        "  table.align[column_names[0]] = 'l'\n",
        "  table.align[column_names[1]] = 'r'\n",
        "  table.align[column_names[2]] = 'r'\n",
        "  table.align[column_names[3]] = 'r'\n",
        "  for row in data:\n",
        "    table.add_row(row)\n",
        "  print(table)"
      ],
      "execution_count": null,
      "outputs": []
    },
    {
      "cell_type": "code",
      "metadata": {
        "colab": {
          "base_uri": "https://localhost:8080/"
        },
        "id": "USwMHo81AqfS",
        "outputId": "4e03df6a-efb1-40f3-bbf0-35a0dd1a4273"
      },
      "source": [
        "N_EPOCHS = 50\n",
        "CLIP = 0.1\n",
        "best_valid_loss = float('inf')\n",
        "column_names = [\"SET\", \"LOSS\", \"PPL\", \"ETA\"]\n",
        "print(\"TRAINING START....\")\n",
        "for epoch in range(N_EPOCHS):\n",
        "  start = time.time()\n",
        "  train_loss = train(model, train_iterator, optimizer, criterion, CLIP)\n",
        "  valid_loss = evaluate(model, valid_iterator, criterion)\n",
        "  end = time.time()\n",
        "  title = f\"EPOCH: {epoch+1:02}/{N_EPOCHS:02} | {'saving model...' if valid_loss < best_valid_loss else 'not saving...'}\" \n",
        "  if valid_loss < best_valid_loss:\n",
        "      best_valid_loss = valid_loss\n",
        "      torch.save(model.state_dict(), 'best-model.pt')\n",
        "  rows_data =[\n",
        "        [\"train\", f\"{train_loss:.3f}\", f\"{math.exp(train_loss):7.3f}\", hms_string(end - start) ],\n",
        "        [\"val\", f\"{valid_loss:.3f}\", f\"{math.exp(train_loss):7.3f}\", '' ]\n",
        "  ]\n",
        "  tabulate_training(column_names, rows_data, title)\n",
        "\n",
        "print(\"TRAINING ENDS....\")"
      ],
      "execution_count": 28,
      "outputs": [
        {
          "output_type": "stream",
          "text": [
            "TRAINING START....\n",
            "+--------------------------------------+\n",
            "|    EPOCH: 01/50 | saving model...    |\n",
            "+-------+-------+---------+------------+\n",
            "| SET   |  LOSS |     PPL |        ETA |\n",
            "+-------+-------+---------+------------+\n",
            "| train | 4.229 |  68.656 | 0:00:40.58 |\n",
            "| val   | 3.020 |  68.656 |            |\n",
            "+-------+-------+---------+------------+\n",
            "+--------------------------------------+\n",
            "|    EPOCH: 02/50 | saving model...    |\n",
            "+-------+-------+---------+------------+\n",
            "| SET   |  LOSS |     PPL |        ETA |\n",
            "+-------+-------+---------+------------+\n",
            "| train | 2.820 |  16.783 | 0:00:40.34 |\n",
            "| val   | 2.305 |  16.783 |            |\n",
            "+-------+-------+---------+------------+\n",
            "+--------------------------------------+\n",
            "|    EPOCH: 03/50 | saving model...    |\n",
            "+-------+-------+---------+------------+\n",
            "| SET   |  LOSS |     PPL |        ETA |\n",
            "+-------+-------+---------+------------+\n",
            "| train | 2.245 |   9.441 | 0:00:40.43 |\n",
            "| val   | 1.992 |   9.441 |            |\n",
            "+-------+-------+---------+------------+\n",
            "+--------------------------------------+\n",
            "|    EPOCH: 04/50 | saving model...    |\n",
            "+-------+-------+---------+------------+\n",
            "| SET   |  LOSS |     PPL |        ETA |\n",
            "+-------+-------+---------+------------+\n",
            "| train | 1.893 |   6.639 | 0:00:40.48 |\n",
            "| val   | 1.818 |   6.639 |            |\n",
            "+-------+-------+---------+------------+\n",
            "+--------------------------------------+\n",
            "|    EPOCH: 05/50 | saving model...    |\n",
            "+-------+-------+---------+------------+\n",
            "| SET   |  LOSS |     PPL |        ETA |\n",
            "+-------+-------+---------+------------+\n",
            "| train | 1.648 |   5.199 | 0:00:40.34 |\n",
            "| val   | 1.720 |   5.199 |            |\n",
            "+-------+-------+---------+------------+\n",
            "+--------------------------------------+\n",
            "|    EPOCH: 06/50 | saving model...    |\n",
            "+-------+-------+---------+------------+\n",
            "| SET   |  LOSS |     PPL |        ETA |\n",
            "+-------+-------+---------+------------+\n",
            "| train | 1.462 |   4.316 | 0:00:40.37 |\n",
            "| val   | 1.657 |   4.316 |            |\n",
            "+-------+-------+---------+------------+\n",
            "+--------------------------------------+\n",
            "|    EPOCH: 07/50 | saving model...    |\n",
            "+-------+-------+---------+------------+\n",
            "| SET   |  LOSS |     PPL |        ETA |\n",
            "+-------+-------+---------+------------+\n",
            "| train | 1.308 |   3.700 | 0:00:40.29 |\n",
            "| val   | 1.623 |   3.700 |            |\n",
            "+-------+-------+---------+------------+\n",
            "+--------------------------------------+\n",
            "|    EPOCH: 08/50 | saving model...    |\n",
            "+-------+-------+---------+------------+\n",
            "| SET   |  LOSS |     PPL |        ETA |\n",
            "+-------+-------+---------+------------+\n",
            "| train | 1.180 |   3.256 | 0:00:40.28 |\n",
            "| val   | 1.611 |   3.256 |            |\n",
            "+-------+-------+---------+------------+\n",
            "+--------------------------------------+\n",
            "|     EPOCH: 09/50 | not saving...     |\n",
            "+-------+-------+---------+------------+\n",
            "| SET   |  LOSS |     PPL |        ETA |\n",
            "+-------+-------+---------+------------+\n",
            "| train | 1.071 |   2.919 | 0:00:40.19 |\n",
            "| val   | 1.619 |   2.919 |            |\n",
            "+-------+-------+---------+------------+\n",
            "+--------------------------------------+\n",
            "|     EPOCH: 10/50 | not saving...     |\n",
            "+-------+-------+---------+------------+\n",
            "| SET   |  LOSS |     PPL |        ETA |\n",
            "+-------+-------+---------+------------+\n",
            "| train | 0.976 |   2.654 | 0:00:40.43 |\n",
            "| val   | 1.638 |   2.654 |            |\n",
            "+-------+-------+---------+------------+\n",
            "+--------------------------------------+\n",
            "|     EPOCH: 11/50 | not saving...     |\n",
            "+-------+-------+---------+------------+\n",
            "| SET   |  LOSS |     PPL |        ETA |\n",
            "+-------+-------+---------+------------+\n",
            "| train | 0.891 |   2.437 | 0:00:40.51 |\n",
            "| val   | 1.652 |   2.437 |            |\n",
            "+-------+-------+---------+------------+\n",
            "+--------------------------------------+\n",
            "|     EPOCH: 12/50 | not saving...     |\n",
            "+-------+-------+---------+------------+\n",
            "| SET   |  LOSS |     PPL |        ETA |\n",
            "+-------+-------+---------+------------+\n",
            "| train | 0.819 |   2.268 | 0:00:40.32 |\n",
            "| val   | 1.694 |   2.268 |            |\n",
            "+-------+-------+---------+------------+\n",
            "+--------------------------------------+\n",
            "|     EPOCH: 13/50 | not saving...     |\n",
            "+-------+-------+---------+------------+\n",
            "| SET   |  LOSS |     PPL |        ETA |\n",
            "+-------+-------+---------+------------+\n",
            "| train | 0.751 |   2.119 | 0:00:40.18 |\n",
            "| val   | 1.705 |   2.119 |            |\n",
            "+-------+-------+---------+------------+\n",
            "+--------------------------------------+\n",
            "|     EPOCH: 14/50 | not saving...     |\n",
            "+-------+-------+---------+------------+\n",
            "| SET   |  LOSS |     PPL |        ETA |\n",
            "+-------+-------+---------+------------+\n",
            "| train | 0.693 |   2.000 | 0:00:40.40 |\n",
            "| val   | 1.737 |   2.000 |            |\n",
            "+-------+-------+---------+------------+\n",
            "+--------------------------------------+\n",
            "|     EPOCH: 15/50 | not saving...     |\n",
            "+-------+-------+---------+------------+\n",
            "| SET   |  LOSS |     PPL |        ETA |\n",
            "+-------+-------+---------+------------+\n",
            "| train | 0.643 |   1.902 | 0:00:40.35 |\n",
            "| val   | 1.781 |   1.902 |            |\n",
            "+-------+-------+---------+------------+\n",
            "+--------------------------------------+\n",
            "|     EPOCH: 16/50 | not saving...     |\n",
            "+-------+-------+---------+------------+\n",
            "| SET   |  LOSS |     PPL |        ETA |\n",
            "+-------+-------+---------+------------+\n",
            "| train | 0.593 |   1.809 | 0:00:40.33 |\n",
            "| val   | 1.811 |   1.809 |            |\n",
            "+-------+-------+---------+------------+\n",
            "+--------------------------------------+\n",
            "|     EPOCH: 17/50 | not saving...     |\n",
            "+-------+-------+---------+------------+\n",
            "| SET   |  LOSS |     PPL |        ETA |\n",
            "+-------+-------+---------+------------+\n",
            "| train | 0.554 |   1.740 | 0:00:40.31 |\n",
            "| val   | 1.865 |   1.740 |            |\n",
            "+-------+-------+---------+------------+\n",
            "+--------------------------------------+\n",
            "|     EPOCH: 18/50 | not saving...     |\n",
            "+-------+-------+---------+------------+\n",
            "| SET   |  LOSS |     PPL |        ETA |\n",
            "+-------+-------+---------+------------+\n",
            "| train | 0.517 |   1.677 | 0:00:40.33 |\n",
            "| val   | 1.909 |   1.677 |            |\n",
            "+-------+-------+---------+------------+\n",
            "+--------------------------------------+\n",
            "|     EPOCH: 19/50 | not saving...     |\n",
            "+-------+-------+---------+------------+\n",
            "| SET   |  LOSS |     PPL |        ETA |\n",
            "+-------+-------+---------+------------+\n",
            "| train | 0.486 |   1.626 | 0:00:40.43 |\n",
            "| val   | 1.937 |   1.626 |            |\n",
            "+-------+-------+---------+------------+\n",
            "+--------------------------------------+\n",
            "|     EPOCH: 20/50 | not saving...     |\n",
            "+-------+-------+---------+------------+\n",
            "| SET   |  LOSS |     PPL |        ETA |\n",
            "+-------+-------+---------+------------+\n",
            "| train | 0.455 |   1.576 | 0:00:40.18 |\n",
            "| val   | 1.977 |   1.576 |            |\n",
            "+-------+-------+---------+------------+\n",
            "+--------------------------------------+\n",
            "|     EPOCH: 21/50 | not saving...     |\n",
            "+-------+-------+---------+------------+\n",
            "| SET   |  LOSS |     PPL |        ETA |\n",
            "+-------+-------+---------+------------+\n",
            "| train | 0.428 |   1.534 | 0:00:40.35 |\n",
            "| val   | 2.025 |   1.534 |            |\n",
            "+-------+-------+---------+------------+\n",
            "+--------------------------------------+\n",
            "|     EPOCH: 22/50 | not saving...     |\n",
            "+-------+-------+---------+------------+\n",
            "| SET   |  LOSS |     PPL |        ETA |\n",
            "+-------+-------+---------+------------+\n",
            "| train | 0.405 |   1.500 | 0:00:40.29 |\n",
            "| val   | 2.049 |   1.500 |            |\n",
            "+-------+-------+---------+------------+\n",
            "+--------------------------------------+\n",
            "|     EPOCH: 23/50 | not saving...     |\n",
            "+-------+-------+---------+------------+\n",
            "| SET   |  LOSS |     PPL |        ETA |\n",
            "+-------+-------+---------+------------+\n",
            "| train | 0.382 |   1.466 | 0:00:40.26 |\n",
            "| val   | 2.081 |   1.466 |            |\n",
            "+-------+-------+---------+------------+\n",
            "+--------------------------------------+\n",
            "|     EPOCH: 24/50 | not saving...     |\n",
            "+-------+-------+---------+------------+\n",
            "| SET   |  LOSS |     PPL |        ETA |\n",
            "+-------+-------+---------+------------+\n",
            "| train | 0.364 |   1.440 | 0:00:40.49 |\n",
            "| val   | 2.116 |   1.440 |            |\n",
            "+-------+-------+---------+------------+\n",
            "+--------------------------------------+\n",
            "|     EPOCH: 25/50 | not saving...     |\n",
            "+-------+-------+---------+------------+\n",
            "| SET   |  LOSS |     PPL |        ETA |\n",
            "+-------+-------+---------+------------+\n",
            "| train | 0.347 |   1.415 | 0:00:40.17 |\n",
            "| val   | 2.169 |   1.415 |            |\n",
            "+-------+-------+---------+------------+\n",
            "+--------------------------------------+\n",
            "|     EPOCH: 26/50 | not saving...     |\n",
            "+-------+-------+---------+------------+\n",
            "| SET   |  LOSS |     PPL |        ETA |\n",
            "+-------+-------+---------+------------+\n",
            "| train | 0.330 |   1.391 | 0:00:40.33 |\n",
            "| val   | 2.204 |   1.391 |            |\n",
            "+-------+-------+---------+------------+\n",
            "+--------------------------------------+\n",
            "|     EPOCH: 27/50 | not saving...     |\n",
            "+-------+-------+---------+------------+\n",
            "| SET   |  LOSS |     PPL |        ETA |\n",
            "+-------+-------+---------+------------+\n",
            "| train | 0.316 |   1.372 | 0:00:40.28 |\n",
            "| val   | 2.230 |   1.372 |            |\n",
            "+-------+-------+---------+------------+\n",
            "+--------------------------------------+\n",
            "|     EPOCH: 28/50 | not saving...     |\n",
            "+-------+-------+---------+------------+\n",
            "| SET   |  LOSS |     PPL |        ETA |\n",
            "+-------+-------+---------+------------+\n",
            "| train | 0.303 |   1.354 | 0:00:40.53 |\n",
            "| val   | 2.252 |   1.354 |            |\n",
            "+-------+-------+---------+------------+\n",
            "+--------------------------------------+\n",
            "|     EPOCH: 29/50 | not saving...     |\n",
            "+-------+-------+---------+------------+\n",
            "| SET   |  LOSS |     PPL |        ETA |\n",
            "+-------+-------+---------+------------+\n",
            "| train | 0.290 |   1.337 | 0:00:40.62 |\n",
            "| val   | 2.280 |   1.337 |            |\n",
            "+-------+-------+---------+------------+\n",
            "+--------------------------------------+\n",
            "|     EPOCH: 30/50 | not saving...     |\n",
            "+-------+-------+---------+------------+\n",
            "| SET   |  LOSS |     PPL |        ETA |\n",
            "+-------+-------+---------+------------+\n",
            "| train | 0.277 |   1.320 | 0:00:40.43 |\n",
            "| val   | 2.303 |   1.320 |            |\n",
            "+-------+-------+---------+------------+\n",
            "+--------------------------------------+\n",
            "|     EPOCH: 31/50 | not saving...     |\n",
            "+-------+-------+---------+------------+\n",
            "| SET   |  LOSS |     PPL |        ETA |\n",
            "+-------+-------+---------+------------+\n",
            "| train | 0.267 |   1.306 | 0:00:40.41 |\n",
            "| val   | 2.345 |   1.306 |            |\n",
            "+-------+-------+---------+------------+\n",
            "+--------------------------------------+\n",
            "|     EPOCH: 32/50 | not saving...     |\n",
            "+-------+-------+---------+------------+\n",
            "| SET   |  LOSS |     PPL |        ETA |\n",
            "+-------+-------+---------+------------+\n",
            "| train | 0.259 |   1.296 | 0:00:40.46 |\n",
            "| val   | 2.370 |   1.296 |            |\n",
            "+-------+-------+---------+------------+\n",
            "+--------------------------------------+\n",
            "|     EPOCH: 33/50 | not saving...     |\n",
            "+-------+-------+---------+------------+\n",
            "| SET   |  LOSS |     PPL |        ETA |\n",
            "+-------+-------+---------+------------+\n",
            "| train | 0.248 |   1.282 | 0:00:40.30 |\n",
            "| val   | 2.403 |   1.282 |            |\n",
            "+-------+-------+---------+------------+\n",
            "+--------------------------------------+\n",
            "|     EPOCH: 34/50 | not saving...     |\n",
            "+-------+-------+---------+------------+\n",
            "| SET   |  LOSS |     PPL |        ETA |\n",
            "+-------+-------+---------+------------+\n",
            "| train | 0.240 |   1.272 | 0:00:40.47 |\n",
            "| val   | 2.404 |   1.272 |            |\n",
            "+-------+-------+---------+------------+\n",
            "+--------------------------------------+\n",
            "|     EPOCH: 35/50 | not saving...     |\n",
            "+-------+-------+---------+------------+\n",
            "| SET   |  LOSS |     PPL |        ETA |\n",
            "+-------+-------+---------+------------+\n",
            "| train | 0.232 |   1.261 | 0:00:40.45 |\n",
            "| val   | 2.428 |   1.261 |            |\n",
            "+-------+-------+---------+------------+\n",
            "+--------------------------------------+\n",
            "|     EPOCH: 36/50 | not saving...     |\n",
            "+-------+-------+---------+------------+\n",
            "| SET   |  LOSS |     PPL |        ETA |\n",
            "+-------+-------+---------+------------+\n",
            "| train | 0.225 |   1.252 | 0:00:40.38 |\n",
            "| val   | 2.472 |   1.252 |            |\n",
            "+-------+-------+---------+------------+\n",
            "+--------------------------------------+\n",
            "|     EPOCH: 37/50 | not saving...     |\n",
            "+-------+-------+---------+------------+\n",
            "| SET   |  LOSS |     PPL |        ETA |\n",
            "+-------+-------+---------+------------+\n",
            "| train | 0.220 |   1.246 | 0:00:40.51 |\n",
            "| val   | 2.493 |   1.246 |            |\n",
            "+-------+-------+---------+------------+\n",
            "+--------------------------------------+\n",
            "|     EPOCH: 38/50 | not saving...     |\n",
            "+-------+-------+---------+------------+\n",
            "| SET   |  LOSS |     PPL |        ETA |\n",
            "+-------+-------+---------+------------+\n",
            "| train | 0.212 |   1.236 | 0:00:40.27 |\n",
            "| val   | 2.514 |   1.236 |            |\n",
            "+-------+-------+---------+------------+\n",
            "+--------------------------------------+\n",
            "|     EPOCH: 39/50 | not saving...     |\n",
            "+-------+-------+---------+------------+\n",
            "| SET   |  LOSS |     PPL |        ETA |\n",
            "+-------+-------+---------+------------+\n",
            "| train | 0.206 |   1.229 | 0:00:40.14 |\n",
            "| val   | 2.531 |   1.229 |            |\n",
            "+-------+-------+---------+------------+\n",
            "+--------------------------------------+\n",
            "|     EPOCH: 40/50 | not saving...     |\n",
            "+-------+-------+---------+------------+\n",
            "| SET   |  LOSS |     PPL |        ETA |\n",
            "+-------+-------+---------+------------+\n",
            "| train | 0.201 |   1.222 | 0:00:40.47 |\n",
            "| val   | 2.566 |   1.222 |            |\n",
            "+-------+-------+---------+------------+\n",
            "+--------------------------------------+\n",
            "|     EPOCH: 41/50 | not saving...     |\n",
            "+-------+-------+---------+------------+\n",
            "| SET   |  LOSS |     PPL |        ETA |\n",
            "+-------+-------+---------+------------+\n",
            "| train | 0.195 |   1.215 | 0:00:40.27 |\n",
            "| val   | 2.594 |   1.215 |            |\n",
            "+-------+-------+---------+------------+\n",
            "+--------------------------------------+\n",
            "|     EPOCH: 42/50 | not saving...     |\n",
            "+-------+-------+---------+------------+\n",
            "| SET   |  LOSS |     PPL |        ETA |\n",
            "+-------+-------+---------+------------+\n",
            "| train | 0.191 |   1.210 | 0:00:40.19 |\n",
            "| val   | 2.598 |   1.210 |            |\n",
            "+-------+-------+---------+------------+\n",
            "+--------------------------------------+\n",
            "|     EPOCH: 43/50 | not saving...     |\n",
            "+-------+-------+---------+------------+\n",
            "| SET   |  LOSS |     PPL |        ETA |\n",
            "+-------+-------+---------+------------+\n",
            "| train | 0.186 |   1.205 | 0:00:40.26 |\n",
            "| val   | 2.624 |   1.205 |            |\n",
            "+-------+-------+---------+------------+\n",
            "+--------------------------------------+\n",
            "|     EPOCH: 44/50 | not saving...     |\n",
            "+-------+-------+---------+------------+\n",
            "| SET   |  LOSS |     PPL |        ETA |\n",
            "+-------+-------+---------+------------+\n",
            "| train | 0.181 |   1.198 | 0:00:40.25 |\n",
            "| val   | 2.629 |   1.198 |            |\n",
            "+-------+-------+---------+------------+\n",
            "+--------------------------------------+\n",
            "|     EPOCH: 45/50 | not saving...     |\n",
            "+-------+-------+---------+------------+\n",
            "| SET   |  LOSS |     PPL |        ETA |\n",
            "+-------+-------+---------+------------+\n",
            "| train | 0.178 |   1.195 | 0:00:40.48 |\n",
            "| val   | 2.661 |   1.195 |            |\n",
            "+-------+-------+---------+------------+\n",
            "+--------------------------------------+\n",
            "|     EPOCH: 46/50 | not saving...     |\n",
            "+-------+-------+---------+------------+\n",
            "| SET   |  LOSS |     PPL |        ETA |\n",
            "+-------+-------+---------+------------+\n",
            "| train | 0.172 |   1.188 | 0:00:40.43 |\n",
            "| val   | 2.684 |   1.188 |            |\n",
            "+-------+-------+---------+------------+\n",
            "+--------------------------------------+\n",
            "|     EPOCH: 47/50 | not saving...     |\n",
            "+-------+-------+---------+------------+\n",
            "| SET   |  LOSS |     PPL |        ETA |\n",
            "+-------+-------+---------+------------+\n",
            "| train | 0.169 |   1.185 | 0:00:40.17 |\n",
            "| val   | 2.711 |   1.185 |            |\n",
            "+-------+-------+---------+------------+\n",
            "+--------------------------------------+\n",
            "|     EPOCH: 48/50 | not saving...     |\n",
            "+-------+-------+---------+------------+\n",
            "| SET   |  LOSS |     PPL |        ETA |\n",
            "+-------+-------+---------+------------+\n",
            "| train | 0.168 |   1.183 | 0:00:40.32 |\n",
            "| val   | 2.718 |   1.183 |            |\n",
            "+-------+-------+---------+------------+\n",
            "+--------------------------------------+\n",
            "|     EPOCH: 49/50 | not saving...     |\n",
            "+-------+-------+---------+------------+\n",
            "| SET   |  LOSS |     PPL |        ETA |\n",
            "+-------+-------+---------+------------+\n",
            "| train | 0.162 |   1.176 | 0:00:40.28 |\n",
            "| val   | 2.769 |   1.176 |            |\n",
            "+-------+-------+---------+------------+\n",
            "+--------------------------------------+\n",
            "|     EPOCH: 50/50 | not saving...     |\n",
            "+-------+-------+---------+------------+\n",
            "| SET   |  LOSS |     PPL |        ETA |\n",
            "+-------+-------+---------+------------+\n",
            "| train | 0.160 |   1.173 | 0:00:40.57 |\n",
            "| val   | 2.757 |   1.173 |            |\n",
            "+-------+-------+---------+------------+\n",
            "TRAINING ENDS....\n"
          ],
          "name": "stdout"
        }
      ]
    },
    {
      "cell_type": "markdown",
      "metadata": {
        "id": "7X8DEEESDgSB"
      },
      "source": [
        "### Evaluating the best model.\n"
      ]
    },
    {
      "cell_type": "code",
      "metadata": {
        "colab": {
          "base_uri": "https://localhost:8080/"
        },
        "id": "pjMsQn6yDxo-",
        "outputId": "c5ae1d0a-3b61-4e91-ba72-47e26df7909e"
      },
      "source": [
        "model.load_state_dict(torch.load('best-model.pt'))\n",
        "\n",
        "test_loss = evaluate(model, test_iterator, criterion)\n",
        "title = \"Model Evaluation Summary\"\n",
        "data_rows = [[\"Test\", f'{test_loss:.3f}', f'{math.exp(test_loss):7.3f}', \"\"]]\n",
        "\n",
        "tabulate_training([\"SET\", \"LOSS\", \"PPL\", \"ETA\"], data_rows, title)"
      ],
      "execution_count": 29,
      "outputs": [
        {
          "output_type": "stream",
          "text": [
            "+------------------------------+\n",
            "|   Model Evaluation Summary   |\n",
            "+------+-------+---------+-----+\n",
            "| SET  |  LOSS |     PPL | ETA |\n",
            "+------+-------+---------+-----+\n",
            "| Test | 1.671 |   5.317 |     |\n",
            "+------+-------+---------+-----+\n"
          ],
          "name": "stdout"
        }
      ]
    },
    {
      "cell_type": "markdown",
      "metadata": {
        "id": "dmXwNfLxEhhD"
      },
      "source": [
        "### Model Inference.\n",
        "\n",
        "Now we can can translations from our model with the ``translate_sentence`` function below.\n",
        "\n",
        "These steps are:\n",
        "\n",
        "* tokenize the source sentence if it has not been tokenized (is a string)\n",
        "* append the ``<sos>`` and ``<eos>`` tokens\n",
        "* numericalize the source sentence\n",
        "* convert it to a tensor and add a batch dimension\n",
        "* create the source sentence mask\n",
        "* feed the source sentence and mask into the encoder\n",
        "* create a list to hold the output sentence, initialized with an <sos> token\n",
        "* while we have not hit a maximum length\n",
        "  * convert the current output sentence prediction into a tensor with a batch dimension\n",
        "  * create a target sentence mask\n",
        "  * place the current output, encoder output and both masks into the decoder\n",
        "  * get next output token prediction from decoder along with attention\n",
        "  * add prediction to current output sentence prediction\n",
        "  * break if the prediction was an <eos> token\n",
        "* convert the output sentence from indexes to tokens\n",
        "* return the output sentence (with the <sos> token removed) and the attention from the last layer\n"
      ]
    },
    {
      "cell_type": "code",
      "metadata": {
        "id": "6hJSbmx7FkXs"
      },
      "source": [
        "def translate_sentence(sentence, src_field, trg_field, model, device, max_len = 50):\n",
        "    \n",
        "    model.eval()\n",
        "        \n",
        "    if isinstance(sentence, str):\n",
        "        nlp = spacy.load('de_core_news_sm')\n",
        "        tokens = [token.text.lower() for token in nlp(sentence)]\n",
        "    else:\n",
        "        tokens = [token.lower() for token in sentence]\n",
        "\n",
        "    tokens = [src_field.init_token] + tokens + [src_field.eos_token]\n",
        "        \n",
        "    src_indexes = [src_field.vocab.stoi[token] for token in tokens]\n",
        "\n",
        "    src_tensor = torch.LongTensor(src_indexes).unsqueeze(0).to(device)\n",
        "    \n",
        "    src_mask = model.make_src_mask(src_tensor)\n",
        "    \n",
        "    with torch.no_grad():\n",
        "        enc_src = model.encoder(src_tensor, src_mask)\n",
        "\n",
        "    trg_indexes = [trg_field.vocab.stoi[trg_field.init_token]]\n",
        "\n",
        "    for i in range(max_len):\n",
        "\n",
        "        trg_tensor = torch.LongTensor(trg_indexes).unsqueeze(0).to(device)\n",
        "\n",
        "        trg_mask = model.make_trg_mask(trg_tensor)\n",
        "        \n",
        "        with torch.no_grad():\n",
        "            output, attention = model.decoder(trg_tensor, enc_src, trg_mask, src_mask)\n",
        "        \n",
        "        pred_token = output.argmax(2)[:,-1].item()\n",
        "        \n",
        "        trg_indexes.append(pred_token)\n",
        "\n",
        "        if pred_token == trg_field.vocab.stoi[trg_field.eos_token]:\n",
        "            break\n",
        "    \n",
        "    trg_tokens = [trg_field.vocab.itos[i] for i in trg_indexes]\n",
        "    \n",
        "    return trg_tokens[1:], attention\n",
        "\n",
        "    "
      ],
      "execution_count": 30,
      "outputs": []
    },
    {
      "cell_type": "markdown",
      "metadata": {
        "id": "U6L0twMZFwqo"
      },
      "source": [
        "We'll now define a function that displays the attention over the source sentence for each step of the decoding. As this model has 8 heads our model we can view the attention for each of the heads."
      ]
    },
    {
      "cell_type": "code",
      "metadata": {
        "id": "ogx7uR6ZFujQ"
      },
      "source": [
        "def display_attention(sentence, translation, attention, n_heads = 8, n_rows = 4, n_cols = 2):\n",
        "    \n",
        "    assert n_rows * n_cols == n_heads\n",
        "    \n",
        "    fig = plt.figure(figsize=(15,25))\n",
        "    \n",
        "    for i in range(n_heads):\n",
        "        \n",
        "        ax = fig.add_subplot(n_rows, n_cols, i+1)\n",
        "        \n",
        "        _attention = attention.squeeze(0)[i].cpu().detach().numpy()\n",
        "\n",
        "        cax = ax.matshow(_attention, cmap='bone')\n",
        "\n",
        "        ax.tick_params(labelsize=12)\n",
        "        ax.set_xticklabels(['']+['<sos>']+[t.lower() for t in sentence]+['<eos>'], \n",
        "                           rotation=45)\n",
        "        ax.set_yticklabels(['']+translation)\n",
        "\n",
        "        ax.xaxis.set_major_locator(ticker.MultipleLocator(1))\n",
        "        ax.yaxis.set_major_locator(ticker.MultipleLocator(1))\n",
        "\n",
        "    plt.show()\n",
        "    plt.close()"
      ],
      "execution_count": 31,
      "outputs": []
    },
    {
      "cell_type": "markdown",
      "metadata": {
        "id": "6XdoalCLF0nr"
      },
      "source": [
        "First, we'll get an example from the training set."
      ]
    },
    {
      "cell_type": "code",
      "metadata": {
        "colab": {
          "base_uri": "https://localhost:8080/",
          "height": 1000
        },
        "id": "3ykygpWrF3Fy",
        "outputId": "2cc5c0f1-5919-4cf1-8121-7d9257951602"
      },
      "source": [
        "\n",
        "example_idx = 8\n",
        "\n",
        "src = vars(train_data.examples[example_idx])['src']\n",
        "trg = vars(train_data.examples[example_idx])['trg']\n",
        "\n",
        "translation, attention = translate_sentence(src, SRC, TRG, model, device)\n",
        "print(f'src = {src}')\n",
        "print(f'trg = {trg}')\n",
        "print(f'predicted trg = {translation}')\n",
        "display_attention(src, translation, attention)"
      ],
      "execution_count": 32,
      "outputs": [
        {
          "output_type": "stream",
          "text": [
            "src = ['eine', 'frau', 'mit', 'einer', 'großen', 'geldbörse', 'geht', 'an', 'einem', 'tor', 'vorbei', '.']\n",
            "trg = ['a', 'woman', 'with', 'a', 'large', 'purse', 'is', 'walking', 'by', 'a', 'gate', '.']\n",
            "predicted trg = ['a', 'woman', 'with', 'a', 'large', 'purse', 'walks', 'past', 'a', 'gate', '.', '<eos>']\n"
          ],
          "name": "stdout"
        },
        {
          "output_type": "display_data",
          "data": {
            "image/png": "[encoded data removed]",
            "text/plain": [
              "<Figure size 1080x1800 with 8 Axes>"
            ]
          },
          "metadata": {
            "tags": [],
            "needs_background": "light"
          }
        }
      ]
    },
    {
      "cell_type": "markdown",
      "metadata": {
        "id": "kRBGyCeOGsZk"
      },
      "source": [
        "### Let's try the validation example."
      ]
    },
    {
      "cell_type": "code",
      "metadata": {
        "colab": {
          "base_uri": "https://localhost:8080/",
          "height": 1000
        },
        "id": "5a-pSf7iGwk5",
        "outputId": "3661fe09-2824-462e-8965-3f1fafa0c836"
      },
      "source": [
        "example_idx = 6\n",
        "\n",
        "src = vars(valid_data.examples[example_idx])['src']\n",
        "trg = vars(valid_data.examples[example_idx])['trg']\n",
        "translation, attention = translate_sentence(src, SRC, TRG, model, device)\n",
        "\n",
        "\n",
        "print(f'src = {src}')\n",
        "print(f'trg = {trg}')\n",
        "print(f'predicted trg = {translation}')\n",
        "display_attention(src, translation, attention)"
      ],
      "execution_count": 33,
      "outputs": [
        {
          "output_type": "stream",
          "text": [
            "src = ['ein', 'brauner', 'hund', 'rennt', 'dem', 'schwarzen', 'hund', 'hinterher', '.']\n",
            "trg = ['a', 'brown', 'dog', 'is', 'running', 'after', 'the', 'black', 'dog', '.']\n",
            "predicted trg = ['a', 'brown', 'dog', 'runs', 'after', 'the', 'black', 'dog', '.', '<eos>']\n"
          ],
          "name": "stdout"
        },
        {
          "output_type": "display_data",
          "data": {
            "image/png": "[encoded data removed]",
            "text/plain": [
              "<Figure size 1080x1800 with 8 Axes>"
            ]
          },
          "metadata": {
            "tags": [],
            "needs_background": "light"
          }
        }
      ]
    },
    {
      "cell_type": "markdown",
      "metadata": {
        "id": "Qrp9kMLNGR4K"
      },
      "source": [
        "### Now lets try some test examples."
      ]
    },
    {
      "cell_type": "code",
      "metadata": {
        "colab": {
          "base_uri": "https://localhost:8080/",
          "height": 1000
        },
        "id": "4jPtNGh0GRqc",
        "outputId": "827e933d-a130-423d-aead-4f767b468d97"
      },
      "source": [
        "example_idx = 6\n",
        "\n",
        "src = vars(test_data.examples[example_idx])['src']\n",
        "trg = vars(test_data.examples[example_idx])['trg']\n",
        "translation, attention = translate_sentence(src, SRC, TRG, model, device)\n",
        "\n",
        "\n",
        "print(f'src = {src}')\n",
        "print(f'trg = {trg}')\n",
        "print(f'predicted trg = {translation}')\n",
        "display_attention(src, translation, attention)"
      ],
      "execution_count": 34,
      "outputs": [
        {
          "output_type": "stream",
          "text": [
            "src = ['eine', 'gruppe', 'von', 'menschen', 'steht', 'vor', 'einem', 'iglu', '.']\n",
            "trg = ['a', 'group', 'of', 'people', 'standing', 'in', 'front', 'of', 'an', 'igloo', '.']\n",
            "predicted trg = ['a', 'group', 'of', 'people', 'standing', 'in', 'front', 'of', 'an', 'igloo', '<eos>']\n"
          ],
          "name": "stdout"
        },
        {
          "output_type": "display_data",
          "data": {
            "image/png": "[encoded data removed]",
            "text/plain": [
              "<Figure size 1080x1800 with 8 Axes>"
            ]
          },
          "metadata": {
            "tags": [],
            "needs_background": "light"
          }
        }
      ]
    },
    {
      "cell_type": "markdown",
      "metadata": {
        "id": "1u6jc4S0Hvv3"
      },
      "source": [
        "### Making translation and tabulate them."
      ]
    },
    {
      "cell_type": "code",
      "metadata": {
        "colab": {
          "base_uri": "https://localhost:8080/"
        },
        "id": "NHNRxigtHzuu",
        "outputId": "d4efb937-3e65-4cb0-cff8-babaeac75e26"
      },
      "source": [
        "def tabulate_translations(column_names, data, title, max_characters=25):\n",
        "  table = PrettyTable(column_names)\n",
        "  table.title= title\n",
        "  table.align[column_names[0]] = 'l'\n",
        "  table.align[column_names[1]] = 'l'\n",
        "  table.align[column_names[2]] = 'l'\n",
        "  table._max_width = {column_names[0] :max_characters, column_names[1] :max_characters, column_names[2]:max_characters}\n",
        "  for row in data:\n",
        "    table.add_row(row)\n",
        "  print(table)\n",
        "columns_names = [\n",
        "    \"German (real src sentence)\", \"English (the actual text)\", \"Translated (translated version)\"\n",
        "]\n",
        "title = \"GERMAN to ENGLISH TRANSLATOR\"\n",
        "\n",
        "def translation_table(src, SRC, TRG, model, device,columns_names, title,  max_characters=25,total_translations=10):\n",
        "  rows_data = []\n",
        "  for idx in range(total_translations):\n",
        "    src = vars(test_data.examples[idx])['src']\n",
        "    trg = vars(test_data.examples[idx])['trg']\n",
        "    trasl, _ = translate_sentence(src, SRC, TRG, model, device)\n",
        "    rows_data.append(\n",
        "        [\n",
        "        \" \".join(src),\n",
        "        \" \".join(trg),\n",
        "        \" \".join(trasl).replace('<eos>', '')\n",
        "        ], \n",
        "    )\n",
        "    if idx+1 != total_translations:\n",
        "      rows_data.append([\"-\" * max_characters, \"-\" * max_characters, \"-\" * max_characters ])\n",
        "\n",
        "  tabulate_translations(columns_names, rows_data, title, max_characters)\n",
        "  \n",
        "translation_table(src, SRC, TRG, model, device,columns_names, title, max_characters=36)"
      ],
      "execution_count": 35,
      "outputs": [
        {
          "output_type": "stream",
          "text": [
            "+--------------------------------------------------------------------------------------------------------------------+\n",
            "|                                            GERMAN to ENGLISH TRANSLATOR                                            |\n",
            "+--------------------------------------+--------------------------------------+--------------------------------------+\n",
            "| German (real src sentence)           | English (the actual text)            | Translated (translated version)      |\n",
            "+--------------------------------------+--------------------------------------+--------------------------------------+\n",
            "| ein mann mit einem orangefarbenen    | a man in an orange hat starring at   | a man in an orange hat walking       |\n",
            "| hut , der etwas anstarrt .           | something .                          | something .                          |\n",
            "| ------------------------------------ | ------------------------------------ | ------------------------------------ |\n",
            "| ein boston terrier läuft über        | a boston terrier is running on lush  | a boston <unk> runs across the grass |\n",
            "| saftig-grünes gras vor einem weißen  | green grass in front of a white      | in front of a white fence .          |\n",
            "| zaun .                               | fence .                              |                                      |\n",
            "| ------------------------------------ | ------------------------------------ | ------------------------------------ |\n",
            "| ein mädchen in einem karateanzug     | a girl in karate uniform breaking a  | a girl in a karate uniform is being  |\n",
            "| bricht ein brett mit einem tritt .   | stick with a front kick .            | thrown a board .                     |\n",
            "| ------------------------------------ | ------------------------------------ | ------------------------------------ |\n",
            "| fünf leute in winterjacken und mit   | five people wearing winter jackets   | five people in winter jackets and    |\n",
            "| helmen stehen im schnee mit          | and helmets stand in the snow , with | jackets in the snow with snow gear   |\n",
            "| schneemobilen im hintergrund .       | snowmobiles in the background .      | in the background .                  |\n",
            "| ------------------------------------ | ------------------------------------ | ------------------------------------ |\n",
            "| leute reparieren das dach eines      | people are fixing the roof of a      | people fixing the roof of a house .  |\n",
            "| hauses .                             | house .                              |                                      |\n",
            "| ------------------------------------ | ------------------------------------ | ------------------------------------ |\n",
            "| ein hell gekleideter mann            | a man in light colored clothing      | a man in brightly colored suits is   |\n",
            "| fotografiert eine gruppe von männern | photographs a group of men wearing   | taking a picture of men in dark hats |\n",
            "| in dunklen anzügen und mit hüten ,   | dark suits and hats standing around  | and a woman in a dark dress are      |\n",
            "| die um eine frau in einem            | a woman dressed in a strapless gown  | standing around a woman in a         |\n",
            "| trägerlosen kleid herum stehen .     | .                                    | courtyard .                          |\n",
            "| ------------------------------------ | ------------------------------------ | ------------------------------------ |\n",
            "| eine gruppe von menschen steht vor   | a group of people standing in front  | a group of people standing in front  |\n",
            "| einem iglu .                         | of an igloo .                        | of an igloo                          |\n",
            "| ------------------------------------ | ------------------------------------ | ------------------------------------ |\n",
            "| ein junge in einem roten trikot      | a boy in a red uniform is attempting | a boy in a red jersey trying to      |\n",
            "| versucht , die home base zu          | to avoid getting out at home plate , | catch the base in the blue uniform   |\n",
            "| erreichen , während der catcher im   | while the catcher in the blue        | while the catcher in the blue        |\n",
            "| blauen trikot versucht , ihn zu      | uniform is attempting to catch him . | uniform tries to catch him .         |\n",
            "| fangen .                             |                                      |                                      |\n",
            "| ------------------------------------ | ------------------------------------ | ------------------------------------ |\n",
            "| ein typ arbeitet an einem gebäude .  | a guy works on a building .          | a guy working on a building .        |\n",
            "| ------------------------------------ | ------------------------------------ | ------------------------------------ |\n",
            "| ein mann in einer weste sitzt auf    | a man in a vest is sitting in a      | a man in a vest sitting on a chair   |\n",
            "| einem stuhl und hält magazine .      | chair and holding magazines .        | holding a <unk> .                    |\n",
            "+--------------------------------------+--------------------------------------+--------------------------------------+\n"
          ],
          "name": "stdout"
        }
      ]
    },
    {
      "cell_type": "markdown",
      "metadata": {
        "id": "Bzc_AweJHCXx"
      },
      "source": [
        "### The BLEU metric"
      ]
    },
    {
      "cell_type": "code",
      "metadata": {
        "id": "oVXqo4sEGRoV"
      },
      "source": [
        "from torchtext.data.metrics import bleu_score\n",
        "\n",
        "def calculate_bleu(data, src_field, trg_field, model, device, max_len = 50):\n",
        "    trgs = []\n",
        "    pred_trgs = []\n",
        "    \n",
        "    for datum in data:\n",
        "        \n",
        "        src = vars(datum)['src']\n",
        "        trg = vars(datum)['trg']\n",
        "        \n",
        "        pred_trg, _ = translate_sentence(src, src_field, trg_field, model, device, max_len)\n",
        "        \n",
        "        #cut off <eos> token\n",
        "        pred_trg = pred_trg[:-1]\n",
        "        \n",
        "        pred_trgs.append(pred_trg)\n",
        "        trgs.append([trg])\n",
        "        \n",
        "    return bleu_score(pred_trgs, trgs)"
      ],
      "execution_count": 36,
      "outputs": []
    },
    {
      "cell_type": "code",
      "metadata": {
        "colab": {
          "base_uri": "https://localhost:8080/"
        },
        "id": "ukgj6OPcGRjt",
        "outputId": "febc06ea-6c59-4d5d-d47e-1689d272bcdc"
      },
      "source": [
        "bleu_score = calculate_bleu(test_data, SRC, TRG, model, device)\n",
        "print(f'BLEU score = {bleu_score*100:.2f}')"
      ],
      "execution_count": 37,
      "outputs": [
        {
          "output_type": "stream",
          "text": [
            "BLEU score = 35.26\n"
          ],
          "name": "stdout"
        }
      ]
    },
    {
      "cell_type": "markdown",
      "metadata": {
        "id": "XTMidfDnoa5V"
      },
      "source": [
        "### Credits.\n",
        "* [bentrevett](https://github.com/bentrevett/pytorch-seq2seq/blob/master/6%20-%20Attention%20is%20All%20You%20Need.ipynb)\n",
        "\n",
        "### More Readings\n",
        "* [BERT](https://arxiv.org/abs/1810.04805) (**B**idirectional **E**ncoder **R**epresentations from **T**ransformers)\n",
        "* [Transformers Libary](https://huggingface.co/transformers/) \n",
        "* [Pretrained Models](https://huggingface.co/transformers/pretrained_models.html) \n",
        "\n",
        "* [More about Positional Embeddings ](http://nlp.seas.harvard.edu/2018/04/03/attention.html#positional-encoding)\n",
        "* [Layer Normalization](https://arxiv.org/abs/1607.06450)\n",
        "* [Layer Normalization more details](https://mlexplained.com/2018/01/13/weight-normalization-and-layer-normalization-explained-normalization-in-deep-learning-part-2/)\n",
        "* [MultiHeadAttentionLayer official implementation](https://github.com/tensorflow/tensor2tensor/)\n",
        "* [GELU Activation](https://arxiv.org/abs/1606.08415)\n",
        "\n",
        "## Other usefull resources\n",
        "* [azadyasar](https://github.com/azadyasar)\n"
      ]
    }
  ]
}