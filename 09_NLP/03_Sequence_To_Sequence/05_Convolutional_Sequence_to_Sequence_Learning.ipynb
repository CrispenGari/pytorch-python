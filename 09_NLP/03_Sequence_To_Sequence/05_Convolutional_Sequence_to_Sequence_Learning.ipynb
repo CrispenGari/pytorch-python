{
  "nbformat": 4,
  "nbformat_minor": 0,
  "metadata": {
    "colab": {
      "name": "05_Convolutional_Sequence_to_Sequence_Learning.ipynb",
      "provenance": []
    },
    "kernelspec": {
      "name": "python3",
      "display_name": "Python 3"
    },
    "language_info": {
      "name": "python"
    },
    "accelerator": "GPU"
  },
  "cells": [
    {
      "cell_type": "markdown",
      "metadata": {
        "id": "3BNxPcLDPtMM"
      },
      "source": [
        "### Convolutional Sequence to Sequence Learning\n",
        "\n",
        "### Introduction\n",
        "In this notebook we will cover a lot on how we can do [sequence to sequence using convulutional networks](https://arxiv.org/abs/1705.03122). In the past notebooks we have been working with Recurrent Neural Networks to perform such a task. This time around we want to see how we can do it using conv nets.\n",
        "\n",
        "\n",
        "<p align=\"center\">\n",
        "<img src=\"https://github.com/bentrevett/pytorch-seq2seq/raw/49df8404d938a6edbf729876405558cc2c2b3013/assets/convseq2seq0.png\"/>\n",
        "</p>\n",
        "\n",
        "Conv Nets are performs a good task on images. If you want to learn more about conv nets and sequence please look for sentiment analysis convnets notebook.\n",
        "\n",
        "In short, a convolutional layer uses filters. These filters have a width (and also a height in images, but usually not text). If a filter has a width of 3, then it can see 3 consecutive tokens. Each convolutional layer has many of these filters (1024 in this tutorial). Each filter will slide across the sequence, from beginning to the end, looking at all 3 consectuive tokens at a time. The idea is that each of these 1024 filters will learn to extract a different feature from the text. The result of this feature extraction will then be used by the model - potentially as input to another convolutional layer. This can then all be used to extract features from the source sentence to translate it into the target language.\n",
        "\n",
        "### Imports\n"
      ]
    },
    {
      "cell_type": "code",
      "metadata": {
        "id": "gP37u7i0PLmn"
      },
      "source": [
        "import torch\n",
        "from torch import nn\n",
        "from torch.nn import functional as F\n",
        "from torchtext.legacy import data, datasets\n",
        "import numpy as np\n",
        "import matplotlib.pyplot as plt\n",
        "import matplotlib.ticker as ticker\n",
        "\n",
        "import spacy, os, random, time, math\n",
        "from prettytable import PrettyTable\n"
      ],
      "execution_count": 1,
      "outputs": []
    },
    {
      "cell_type": "markdown",
      "metadata": {
        "id": "4hG83rF_SZpS"
      },
      "source": [
        "### Seeds"
      ]
    },
    {
      "cell_type": "code",
      "metadata": {
        "id": "ua8S-JA1SYrr"
      },
      "source": [
        "SEED = 42\n",
        "\n",
        "np.random.seed(SEED)\n",
        "torch.manual_seed(SEED)\n",
        "random.seed(SEED)\n",
        "torch.cuda.manual_seed(SEED)\n",
        "torch.backends.cudnn.deteministic = True"
      ],
      "execution_count": 2,
      "outputs": []
    },
    {
      "cell_type": "markdown",
      "metadata": {
        "id": "R6KxjOvuSo0h"
      },
      "source": [
        "### Next we'll load the `spaCy` models and define the tokenizer for bothe the Target and Source languages."
      ]
    },
    {
      "cell_type": "code",
      "metadata": {
        "colab": {
          "base_uri": "https://localhost:8080/"
        },
        "id": "HPkFCSR-SnnY",
        "outputId": "689b626c-5865-4b9a-d807-6287594af961"
      },
      "source": [
        "import spacy\n",
        "import spacy.cli\n",
        "spacy.cli.download('de_core_news_sm')\n",
        "\n",
        "import de_core_news_sm, en_core_web_sm\n",
        "\n",
        "spacy_de = spacy.load('de_core_news_sm')\n",
        "spacy_en = spacy.load('en_core_web_sm')"
      ],
      "execution_count": 3,
      "outputs": [
        {
          "output_type": "stream",
          "text": [
            "\u001b[38;5;2m✔ Download and installation successful\u001b[0m\n",
            "You can now load the model via spacy.load('de_core_news_sm')\n"
          ],
          "name": "stdout"
        }
      ]
    },
    {
      "cell_type": "markdown",
      "metadata": {
        "id": "TsYpuToJTBkK"
      },
      "source": [
        "### Preprocessing function that tokenizes sentences."
      ]
    },
    {
      "cell_type": "code",
      "metadata": {
        "id": "S2zwIzieS6db"
      },
      "source": [
        "def tokenize_de(sent):\n",
        "  return [tok.text for tok in spacy_de.tokenizer(sent)]\n",
        "\n",
        "def tokenize_en(sent):\n",
        "  return [tok.text for tok in spacy_en.tokenizer(sent)]"
      ],
      "execution_count": 4,
      "outputs": []
    },
    {
      "cell_type": "markdown",
      "metadata": {
        "id": "W3e_-8QETMJ2"
      },
      "source": [
        "Next, we'll set up the `Fields` which decide how the data will be processed. By default `RNN` models in `PyTorch` require the sequence to be a tensor of shape **`[sequence length, batch size]`** so `TorchText` will, by default, return batches of tensors in the same shape. \n",
        "\n",
        "However in this notebook we are using `CNNs` which expect the batch dimension to be first. We tell `TorchText` to have batches be **`[batch size, sequence length]`** by setting `batch_first = True`.\n",
        "\n",
        "We also append the start and end of sequence tokens as well as lowercasing all text."
      ]
    },
    {
      "cell_type": "code",
      "metadata": {
        "id": "G_1QL1GFTFCU"
      },
      "source": [
        "SRC = data.Field(\n",
        "    tokenize = tokenize_de,\n",
        "    lower= True,\n",
        "    init_token = \"<sos>\",\n",
        "    eos_token = \"<eos>\",\n",
        "    batch_first = True\n",
        ")\n",
        "TRG = data.Field(\n",
        "    tokenize = tokenize_en,\n",
        "    lower= True,\n",
        "    init_token = \"<sos>\",\n",
        "    eos_token = \"<eos>\",\n",
        "    batch_first = True\n",
        ")"
      ],
      "execution_count": 5,
      "outputs": []
    },
    {
      "cell_type": "markdown",
      "metadata": {
        "id": "YsCR1YS3UQns"
      },
      "source": [
        "### Loading the `Multi30k` dataset."
      ]
    },
    {
      "cell_type": "code",
      "metadata": {
        "id": "nEtK5M_tULbQ"
      },
      "source": [
        "train_data, valid_data, test_data = datasets.Multi30k.splits(\n",
        "    exts=('.de', '.en'),\n",
        "    fields = (SRC, TRG)\n",
        ")"
      ],
      "execution_count": 6,
      "outputs": []
    },
    {
      "cell_type": "markdown",
      "metadata": {
        "id": "1-r-E8soUi2b"
      },
      "source": [
        "### Checking examples for each subset."
      ]
    },
    {
      "cell_type": "code",
      "metadata": {
        "colab": {
          "base_uri": "https://localhost:8080/"
        },
        "id": "IeFi_xupUnVC",
        "outputId": "1b37ef26-2883-4cfa-a045-c823d4f7a8a6"
      },
      "source": [
        "def tabulate(column_names, data):\n",
        "  table = PrettyTable(column_names)\n",
        "  table.title= \"VISUALIZING SETS EXAMPLES\"\n",
        "  table.align[column_names[0]] = 'l'\n",
        "  table.align[column_names[1]] = 'r'\n",
        "  for row in data:\n",
        "    table.add_row(row)\n",
        "  print(table)\n",
        "\n",
        "column_names = [\"SUBSET\", \"EXAMPLE(s)\"]\n",
        "row_data = [\n",
        "        [\"training\", len(train_data)],\n",
        "        ['validation', len(valid_data)],\n",
        "        ['test', len(test_data)]\n",
        "]\n",
        "tabulate(column_names, row_data)"
      ],
      "execution_count": 7,
      "outputs": [
        {
          "output_type": "stream",
          "text": [
            "+-----------------------------+\n",
            "|  VISUALIZING SETS EXAMPLES  |\n",
            "+--------------+--------------+\n",
            "| SUBSET       |   EXAMPLE(s) |\n",
            "+--------------+--------------+\n",
            "| training     |        29000 |\n",
            "| validation   |         1014 |\n",
            "| test         |         1000 |\n",
            "+--------------+--------------+\n"
          ],
          "name": "stdout"
        }
      ]
    },
    {
      "cell_type": "markdown",
      "metadata": {
        "id": "OOX0UlxNUuaa"
      },
      "source": [
        "### Checking a single example."
      ]
    },
    {
      "cell_type": "code",
      "metadata": {
        "colab": {
          "base_uri": "https://localhost:8080/"
        },
        "id": "j_fl_OYVUyIq",
        "outputId": "a1a30d02-aee1-4d18-f697-134a202981bb"
      },
      "source": [
        "print(vars(train_data[0]))"
      ],
      "execution_count": 8,
      "outputs": [
        {
          "output_type": "stream",
          "text": [
            "{'src': ['zwei', 'junge', 'weiße', 'männer', 'sind', 'im', 'freien', 'in', 'der', 'nähe', 'vieler', 'büsche', '.'], 'trg': ['two', 'young', ',', 'white', 'males', 'are', 'outside', 'near', 'many', 'bushes', '.']}\n"
          ],
          "name": "stdout"
        }
      ]
    },
    {
      "cell_type": "markdown",
      "metadata": {
        "id": "LRIkmgAlU8bM"
      },
      "source": [
        "### Building the vocabulary.\n",
        "\n",
        "When building the vocabulary,we will set all the tokens that appears less than 2 times to be `<unk>` (unknown). We do this by setting the `min_freq=2` for both the `SRC` and the `TRG`."
      ]
    },
    {
      "cell_type": "code",
      "metadata": {
        "id": "BX1sPnWPU_fz"
      },
      "source": [
        "SRC.build_vocab(train_data, min_freq=2)\n",
        "TRG.build_vocab(train_data, min_freq=2)"
      ],
      "execution_count": 9,
      "outputs": []
    },
    {
      "cell_type": "markdown",
      "metadata": {
        "id": "gKoPf1oSUeXD"
      },
      "source": [
        "### Device."
      ]
    },
    {
      "cell_type": "code",
      "metadata": {
        "colab": {
          "base_uri": "https://localhost:8080/"
        },
        "id": "908B08S0Ud-5",
        "outputId": "e54b4b2e-57a9-43d5-dc99-498a16e051b9"
      },
      "source": [
        "device = torch.device('cuda' if torch.cuda.is_available() else 'cpu')\n",
        "device"
      ],
      "execution_count": 10,
      "outputs": [
        {
          "output_type": "execute_result",
          "data": {
            "text/plain": [
              "device(type='cuda')"
            ]
          },
          "metadata": {
            "tags": []
          },
          "execution_count": 10
        }
      ]
    },
    {
      "cell_type": "markdown",
      "metadata": {
        "id": "AQwJH1eIVjHJ"
      },
      "source": [
        "### Building Iterators.\n",
        "We are going to use our favourite iterator known as the `BucketIterator` to create iterators for all the sets. Unlike from the previous notebook where we used packed padded sequences we are not going to pass params like:\n",
        "```\n",
        "sort_key= sort_key,\n",
        "sort_within_batch = True\n",
        "```"
      ]
    },
    {
      "cell_type": "code",
      "metadata": {
        "id": "RoMO3I06UZr-"
      },
      "source": [
        "BATCH_SIZE = 128\n",
        "\n",
        "train_iterator, valid_iterator, test_iterator = data.BucketIterator.splits(\n",
        "    (train_data, valid_data, test_data),\n",
        "    device = device,\n",
        "    batch_size = BATCH_SIZE,\n",
        ")"
      ],
      "execution_count": 11,
      "outputs": []
    },
    {
      "cell_type": "markdown",
      "metadata": {
        "id": "oXSBaBGYWRsb"
      },
      "source": [
        "### Building the Model.\n",
        "As before, the model is made of an encoder and decoder. The encoder encodes the input sentence, in the source language, into a context vector. The decoder decodes the context vector to produce the output sentence in the target language.\n",
        "\n",
        "### Encoder\n",
        "\n",
        "Previous models had an encoder that compresses an entire input sentence into a single context vector, $z$. The convolutional sequence-to-sequence model is a little different - it gets two context vectors for each token in the input sentence. So, if our input sentence had 6 tokens, we would get 12 context vectors, two for each token.\n",
        "\n",
        "The two context vectors per token are a conved vector and a combined vector. The conved vector is the result of each token being passed through a few layers - which we will explain shortly. The combined vector comes from the sum of the convolved vector and the embedding of that token. Both of these are returned by the encoder to be used by the decoder.\n",
        "\n",
        "The image below shows the result of an input sentence - _zwei menschen fechten_. - being passed through the encoder.\n",
        "\n",
        "<p align=\"center\">\n",
        "<img src=\"https://github.com/bentrevett/pytorch-seq2seq/raw/49df8404d938a6edbf729876405558cc2c2b3013/assets/convseq2seq1.png\"/>\n",
        "</p>\n",
        "\n",
        "1. First, the token is passed through a token embedding layer - which is standard for neural networks in natural language processing. However, as there are no recurrent connections in this model it has no idea about the order of the tokens within a sequence. To rectify this we have a second embedding layer, the positional embedding layer. This is a standard embedding layer where the input is not the token itself but the position of the token within the sequence - starting with the first token, the <sos> (start of sequence) token, in position 0.\n",
        "\n",
        "2. Next, the token and positional embeddings are elementwise summed together to get a vector which contains information about the token and also its position with in the sequence - which we simply call the embedding vector. This is followed by a linear layer which transforms the embedding vector into a vector with the required hidden dimension size.\n",
        "\n",
        "3. The next step is to pass this hidden vector into $N$ convolutional blocks. This is where the \"magic\" happens in this model and we will detail the contents of the convolutional blocks shortly. After passing through the convolutional blocks, the vector is then fed through another linear layer to transform it back from the hidden dimension size into the embedding dimension size. This is our conved vector - and we have one of these per token in the input sequence.\n",
        "\n",
        "4. Finally, the conved vector is elementwise summed with the embedding vector via a residual connection to get a combined vector for each token. Again, there is a combined vector for each token in the input sequence.\n",
        "\n",
        "### Convolutional Blocks\n",
        "So, how do these convolutional blocks work? The below image shows 2 convolutional blocks with a single filter (blue) that is sliding across the tokens within the sequence. In the actual implementation we will have 10 convolutional blocks with 1024 filters in each block.\n",
        "\n",
        "<p align=\"\">\n",
        "<img src=\"https://github.com/bentrevett/pytorch-seq2seq/raw/49df8404d938a6edbf729876405558cc2c2b3013/assets/convseq2seq2.png\"/>\n",
        "</p>\n",
        "\n",
        "First, the input sentence is padded. This is because the convolutional layers will reduce the length of the input sentence and we want the length of the sentence coming into the convolutional blocks to equal the length of it coming out of the convolutional blocks. Without padding, the length of the sequence coming out of a convolutional layer will be filter_size - 1 shorter than the sequence entering the convolutional layer. For example, if we had a filter size of 3, the sequence will be 2 elements shorter. Thus, we pad the sentence with one padding element on each side. We can calculate the amount of padding on each side by simply doing (filter_size - 1)/2 for odd sized filters - we will not cover even sized filters in this tutorial.\n",
        "\n",
        "These filters are designed so the output hidden dimension of them is twice the input hidden dimension. In computer vision terminology these hidden dimensions are called channels - but we will stick to calling them hidden dimensions. Why do we double the size of the hidden dimension leaving the convolutional filter? This is because we are using a special activation function called **`gated linear units`** `(GLU)`. `GLUs` have gating mechanisms (similar to LSTMs and GRUs) contained within the activation function and actually half the size of the hidden dimension - whereas usually activation functions keep the hidden dimensions the same size.\n",
        "\n",
        "After passing through the GLU activation the hidden dimension size for each token is the same as it was when it entered the convolutional blocks. It is now elementwise summed with its own vector before it was passed through the convolutional layer.\n",
        "\n",
        "This concludes a single convolutional block. Subsequent blocks take the output of the previous block and perform the same steps. Each block has their own parameters, they are not shared between blocks. The output of the last block goes back to the main encoder - where it is fed through a linear layer to get the conved output and then elementwise summed with the embedding of the token to get the combined output.\n",
        "\n",
        "### Encoder Implementation\n",
        "To keep the implementation simple, we only allow for odd sized kernels. This allows padding to be added equally to both sides of the source sequence.\n",
        "\n",
        "The scale variable is used by the authors to **\"ensure that the variance throughout the network does not change dramatically\"**. The performance of the model seems to vary wildly using different seeds if this is not used.\n",
        "\n",
        "The positional embedding is initialized to have a **\"vocabulary\"** of 100. This means it can handle sequences up to 100 elements long, indexed from 0 to 99. This can be increased if used on a dataset with longer sequences."
      ]
    },
    {
      "cell_type": "code",
      "metadata": {
        "id": "TcfppypdWOtP"
      },
      "source": [
        "class Encoder(nn.Module):\n",
        "  def __init__(self, input_dim, emb_dim,\n",
        "               hid_dim, n_layers, kernel_size, dropout,\n",
        "               device, max_length=100\n",
        "               ):\n",
        "    super(Encoder, self).__init__()\n",
        "\n",
        "    \"\"\"\n",
        "    CHECKING FOR ODD KERNEL_SIZE\n",
        "    \"\"\"\n",
        "    assert kernel_size%2 == 1 , \"KERNEL SIZE MUST BE ODD!\"\n",
        "    self.device = device\n",
        "    self.scale = torch.sqrt(torch.FloatTensor([0.5])).to(device)\n",
        "    self.tok_embedding = nn.Embedding(input_dim, emb_dim)\n",
        "    self.pos_embedding = nn.Embedding(max_length, emb_dim)\n",
        "\n",
        "    self.emb2hid = nn.Linear(emb_dim, hid_dim)\n",
        "    self.hid2emb = nn.Linear(hid_dim, emb_dim)\n",
        "\n",
        "    self.convs = nn.ModuleList([\n",
        "        nn.Conv1d(\n",
        "        in_channels = hid_dim, \n",
        "        out_channels = 2 * hid_dim, \n",
        "        kernel_size = kernel_size, \n",
        "        padding = (kernel_size - 1) // 2) for _ in range(n_layers)\n",
        "    ])\n",
        "    self.dropout = nn.Dropout(dropout)\n",
        "\n",
        "  def forward(self, src):\n",
        "    # src = [batch size, src len]\n",
        "    batch_size = src.shape[0]\n",
        "    src_len  = src.shape[1]\n",
        "    # create position tensor\n",
        "    pos = torch.arange(0, src_len).unsqueeze(0).repeat(batch_size, 1).to(self.device)\n",
        "    \"\"\"\n",
        "    pos = [0, 1, 2, 3, ..., src len - 1]\n",
        "    pos = [batch size, src len]\n",
        "    \"\"\"\n",
        "    #embed tokens and positions\n",
        "    tok_embedded = self.tok_embedding(src)\n",
        "    pos_embedded = self.pos_embedding(pos)\n",
        "    # tok_embedded = pos_embedded = [batch size, src len, emb dim]\n",
        "    \n",
        "    # combine embeddings by elementwise summing\n",
        "    embedded = self.dropout(tok_embedded + pos_embedded)\n",
        "    \n",
        "    # embedded = [batch size, src len, emb dim]\n",
        "    \n",
        "    # pass embedded through linear layer to convert from emb dim to hid dim\n",
        "    conv_input = self.emb2hid(embedded)\n",
        "    \n",
        "    # conv_input = [batch size, src len, hid dim]\n",
        "    \n",
        "    # permute for convolutional layer\n",
        "    conv_input = conv_input.permute(0, 2, 1) \n",
        "    \n",
        "    \"\"\"\n",
        "    conv_input = [batch size, hid dim, src len]\n",
        "    begin convolutional blocks...\n",
        "    \"\"\"\n",
        "    for i, conv in enumerate(self.convs):\n",
        "      #pass through convolutional layer\n",
        "      conved = conv(self.dropout(conv_input))\n",
        "      # conved = [batch size, 2 * hid dim, src len]\n",
        "      # pass through GLU activation function\n",
        "      conved = F.glu(conved, dim = 1)\n",
        "\n",
        "      # conved = [batch size, hid dim, src len]\n",
        "      # apply residual connection\n",
        "      conved = (conved + conv_input) * self.scale\n",
        "\n",
        "      # conved = [batch size, hid dim, src len]\n",
        "      \n",
        "      # set conv_input to conved for next loop iteration\n",
        "      conv_input = conved\n",
        "    \n",
        "    # ...end convolutional blocks\n",
        "    \n",
        "    # permute and convert back to emb dim\n",
        "    conved = self.hid2emb(conved.permute(0, 2, 1))\n",
        "    \n",
        "    # conved = [batch size, src len, emb dim]\n",
        "    # elementwise sum output (conved) and input (embedded) to be used for attention\n",
        "    combined = (conved + embedded) * self.scale\n",
        "    # combined = [batch size, src len, emb dim]\n",
        "    return conved, combined"
      ],
      "execution_count": 12,
      "outputs": []
    },
    {
      "cell_type": "markdown",
      "metadata": {
        "id": "pC_4yz43fj9b"
      },
      "source": [
        "### Decoder\n",
        "The decoder takes in the actual target sentence and tries to predict it. This model differs from the recurrent neural network models previously detailed in these tutorials as it predicts all tokens within the target sentence in parallel. There is no sequential processing, i.e. no decoding loop. This will be detailed further later on in the tutorials.\n",
        "\n",
        "The decoder is similar to the encoder, with a few changes to both the main model and the convolutional blocks inside the model.\n",
        "\n",
        "<p align=\"center\">\n",
        "<img src=\"https://github.com/bentrevett/pytorch-seq2seq/raw/49df8404d938a6edbf729876405558cc2c2b3013/assets/convseq2seq3.png\"/>\n",
        "</p>\n",
        "First, the embeddings do not have a residual connection that connects after the convolutional blocks and the transformation. Instead the embeddings are fed into the convolutional blocks to be used as residual connections there.\n",
        "\n",
        "Second, to feed the decoder information from the encoder, the encoder conved and combined outputs are used - again, within the convolutional blocks.\n",
        "\n",
        "Finally, the output of the decoder is a linear layer from embedding dimension to output dimension. This is used make a prediction about what the next word in the translation should be.\n",
        "\n",
        "### Decoder Convolutional Blocks\n",
        "Again, these are similar to the convolutional blocks within the encoder, with a few changes.\n",
        "\n",
        "<p align=\"center\">\n",
        "<img src=\"https://github.com/bentrevett/pytorch-seq2seq/raw/49df8404d938a6edbf729876405558cc2c2b3013/assets/convseq2seq4.png\"/>\n",
        "</p>\n",
        "\n",
        "First, the padding. Instead of padding equally on each side to ensure the length of the sentence stays the same throughout, we only pad at the beginning of the sentence. As we are processing all of the targets simultaneously in parallel, and not sequentially, we need a method of only allowing the filters translating token $i$ to only look at tokens before word $i$. If they were allowed to look at token $i+1$ (the token they should be outputting), the model will simply learn to output the next word in the sequence by directly copying it, without actually learning how to translate.\n",
        "\n",
        "Let's see what happens if we **incorrectly** padded equally on each side, like we do in the encoder.\n",
        "<p align=\"center\">\n",
        "<img src=\"https://github.com/bentrevett/pytorch-seq2seq/raw/49df8404d938a6edbf729876405558cc2c2b3013/assets/convseq2seq5.png\"/>\n",
        "</p>\n",
        "\n",
        "The filter at the first position, which is trying use the first word in the sequence, `<sos>` to predict the second word, two, can now directly see the word two. This is the same for every position, the word the model trying to predict is the second element covered by the filter. Thus, the filters can learn to simply copy the second word at each position allowing for perfect translation without actually learning how to translate.\n",
        "\n",
        "Second, after the GLU activation and before the residual connection, the block calculates and applies attention - using the encoded representations and the embedding of the current word. Note: we only show the connections to the rightmost token, but they are actually connected to all tokens - this was done for clarity. Each token input uses their own, and only their own, embedding for their own attention calculation.\n",
        "\n",
        "The attention is calculated by first using a linear layer to change the hidden dimension to the same size as the embedding dimension. Then the embedding summed via a residual connection. This combination then has the standard attention calculation applied by finding how much it \"matches\" with the encoded conved and then this is applied by getting a weighted sum over the encoded combined. This is then projected back up to the hidden dimenson size and a residual connection to the initial input to the attention layer is applied.\n",
        "\n",
        "Why do they calculate attention first with the encoded conved and then use it to calculate the weighted sum over the encoded combined? The paper argues that the encoded conved is good for getting a larger context over the encoded sequence, whereas the encoded combined has more information about the specific token and is thus therefore more useful for makng a prediction.\n",
        "\n",
        "### Decoder Impementation\n",
        "As we only pad on one side the decoder is allowed to use both odd and even sized padding. Again, the scale is used to reduce variance throughout the model and the position embedding is initialized to have a \"vocabulary\" of 100.\n",
        "\n",
        "This model takes in the encoder representations in its forward method and both are passed to the `calculate_attention` method which calculates and applies attention. It also returns the actual attention values, but we are not currently using them."
      ]
    },
    {
      "cell_type": "code",
      "metadata": {
        "id": "TfAjBebNfjmb"
      },
      "source": [
        "class Decoder(nn.Module):\n",
        "  def __init__(self, output_dim, emb_dim, hid_dim, n_layers, kernel_size, \n",
        "                 dropout, trg_pad_idx, device,max_length = 100\n",
        "                 ):\n",
        "    super(Decoder, self).__init__()\n",
        "    \n",
        "    self.kernel_size = kernel_size\n",
        "    self.trg_pad_idx = trg_pad_idx\n",
        "    self.device = device\n",
        "    \n",
        "    self.scale = torch.sqrt(torch.FloatTensor([0.5])).to(device)\n",
        "    \n",
        "    self.tok_embedding = nn.Embedding(output_dim, emb_dim)\n",
        "    self.pos_embedding = nn.Embedding(max_length, emb_dim)\n",
        "    \n",
        "    self.emb2hid = nn.Linear(emb_dim, hid_dim)\n",
        "    self.hid2emb = nn.Linear(hid_dim, emb_dim)\n",
        "    \n",
        "    self.attn_hid2emb = nn.Linear(hid_dim, emb_dim)\n",
        "    self.attn_emb2hid = nn.Linear(emb_dim, hid_dim)\n",
        "    \n",
        "    self.fc_out = nn.Linear(emb_dim, output_dim)\n",
        "        \n",
        "    self.convs = nn.ModuleList([\n",
        "      nn.Conv1d(\n",
        "          in_channels = hid_dim, \n",
        "          out_channels = 2 * hid_dim, \n",
        "          kernel_size = kernel_size\n",
        "      )\n",
        "      for _ in range(n_layers)\n",
        "    ])\n",
        "        \n",
        "    self.dropout = nn.Dropout(dropout)\n",
        "      \n",
        "  def calculate_attention(self, embedded, conved, encoder_conved, encoder_combined):\n",
        "    \"\"\"\n",
        "    embedded = [batch size, trg len, emb dim]\n",
        "    conved = [batch size, hid dim, trg len]\n",
        "    encoder_conved = encoder_combined = [batch size, src len, emb dim]\n",
        "    \"\"\"   \n",
        "    # permute and convert back to emb dim\n",
        "    conved_emb = self.attn_hid2emb(conved.permute(0, 2, 1)) \n",
        "    # conved_emb = [batch size, trg len, emb dim]\n",
        "    combined = (conved_emb + embedded) * self.scale  \n",
        "    # combined = [batch size, trg len, emb dim]    \n",
        "    energy = torch.matmul(combined, encoder_conved.permute(0, 2, 1))     \n",
        "    # energy = [batch size, trg len, src len]  \n",
        "    attention = F.softmax(energy, dim=2)  \n",
        "    # attention = [batch size, trg len, src len]\n",
        "    attended_encoding = torch.matmul(attention, encoder_combined)\n",
        "    # attended_encoding = [batch size, trg len, emd dim]\n",
        "    # convert from emb dim -> hid dim\n",
        "    attended_encoding = self.attn_emb2hid(attended_encoding)\n",
        "    # attended_vvvvn  bencoding = [batch size, trg len, hid dim]\n",
        "    # apply residual connection\n",
        "    attended_combined = (conved + attended_encoding.permute(0, 2, 1)) * self.scale\n",
        "    # attended_combined = [batch size, hid dim, trg len]\n",
        "    return attention, attended_combined\n",
        "        \n",
        "  def forward(self, trg, encoder_conved, encoder_combined):\n",
        "    \"\"\"\n",
        "    trg = [batch size, trg len]\n",
        "    encoder_conved = encoder_combined = [batch size, src len, emb dim]\n",
        "    \"\"\"        \n",
        "    batch_size = trg.shape[0]    \n",
        "    trg_len = trg.shape[1]\n",
        "    # create position tensor\n",
        "    pos = torch.arange(0, trg_len).unsqueeze(0).repeat(batch_size, 1).to(self.device)\n",
        "    # pos = [batch size, trg len]\n",
        "        \n",
        "    # embed tokens and positions\n",
        "    tok_embedded = self.tok_embedding(trg)\n",
        "    pos_embedded = self.pos_embedding(pos)\n",
        "    \"\"\"\n",
        "    tok_embedded = [batch size, trg len, emb dim]\n",
        "    pos_embedded = [batch size, trg len, emb dim]\n",
        "    \"\"\"\n",
        "    # combine embeddings by elementwise summing\n",
        "    embedded = self.dropout(tok_embedded + pos_embedded)\n",
        "\n",
        "    # embedded = [batch size, trg len, emb dim]\n",
        "    #pass embedded through linear layer to go through emb dim -> hid dim\n",
        "    conv_input = self.emb2hid(embedded)\n",
        "    \"\"\"\n",
        "    conv_input = [batch size, trg len, hid dim]\n",
        "    permute for convolutional layer\n",
        "    \"\"\"\n",
        "    conv_input = conv_input.permute(0, 2, 1) \n",
        "    # conv_input = [batch size, hid dim, trg len]\n",
        "    \n",
        "    batch_size = conv_input.shape[0]\n",
        "    hid_dim = conv_input.shape[1]\n",
        "    \n",
        "    for i, conv in enumerate(self.convs):\n",
        "      # apply dropout\n",
        "      conv_input = self.dropout(conv_input)\n",
        "      # need to pad so decoder can't \"cheat\"\n",
        "      padding = torch.zeros(batch_size, \n",
        "                            hid_dim, \n",
        "                            self.kernel_size - 1\n",
        "                            ).fill_(self.trg_pad_idx).to(self.device)\n",
        "          \n",
        "      padded_conv_input = torch.cat((padding, conv_input), dim = 2)\n",
        "  \n",
        "      # padded_conv_input = [batch size, hid dim, trg len + kernel size - 1]\n",
        "  \n",
        "      # pass through convolutional layer\n",
        "      conved = conv(padded_conv_input)\n",
        "\n",
        "      # conved = [batch size, 2 * hid dim, trg len]\n",
        "      \n",
        "      # pass through GLU activation function\n",
        "      conved = F.glu(conved, dim = 1)\n",
        "\n",
        "      # conved = [batch size, hid dim, trg len]\n",
        "      \n",
        "      # calculate attention\n",
        "      attention, conved = self.calculate_attention(embedded, \n",
        "                                                    conved, \n",
        "                                                    encoder_conved, \n",
        "                                                    encoder_combined\n",
        "                                                    )\n",
        "      \n",
        "      # attention = [batch size, trg len, src len]\n",
        "      \n",
        "      # apply residual connection\n",
        "      conved = (conved + conv_input) * self.scale\n",
        "      \n",
        "      #conved = [batch size, hid dim, trg len]\n",
        "      \n",
        "      # set conv_input to conved for next loop iteration\n",
        "      conv_input = conved\n",
        "        \n",
        "    conved = self.hid2emb(conved.permute(0, 2, 1)) \n",
        "    #conved = [batch size, trg len, emb dim]\n",
        "        \n",
        "    output = self.fc_out(self.dropout(conved))\n",
        "    \n",
        "    #output = [batch size, trg len, output dim]\n",
        "            \n",
        "    return output, attention"
      ],
      "execution_count": 13,
      "outputs": []
    },
    {
      "cell_type": "markdown",
      "metadata": {
        "id": "zNmnUbCRiyvb"
      },
      "source": [
        "### Seq2Seq\n",
        "The encapsulating `Seq2Seq` module is a lot different from recurrent neural network methods used in previous notebooks, especially in the decoding.\n",
        "\n",
        "Our trg has the `<eos>` element sliced off of the end of the sequence. This is because we do not input the `<eos>` token into the decoder.\n",
        "\n",
        "The encoding is similar, insert the source sequence and receive a **\"context vector\"**. However, here we have two context vectors per word in the source sequence, `encoder_conved` and `encoder_combined`.\n",
        "\n",
        "As the decoding is done in parallel we do not need a decoding loop. All of the target sequence is input into the decoder at once and the padding is used to ensure each convolutional filter in the decoder can only see the current and previous tokens in the sequence as it slides across the sentence.\n",
        "\n",
        "This also, however, means we cannot do teacher forcing using this model. We do not have a loop in which we can choose whether to input the predicted token or the actual token in the sequence as everything is predicted in parallel."
      ]
    },
    {
      "cell_type": "code",
      "metadata": {
        "id": "YK73K2YYjG_t"
      },
      "source": [
        "class Seq2Seq(nn.Module):\n",
        "  def __init__(self, encoder, decoder):\n",
        "    super(Seq2Seq, self).__init__()\n",
        "    self.encoder = encoder\n",
        "    self.decoder = decoder\n",
        "        \n",
        "  def forward(self, src, trg):\n",
        "    \"\"\"\n",
        "    # src = [batch size, src len]\n",
        "    # trg = [batch size, trg len - 1] (<eos> token sliced off the end)\n",
        "        \n",
        "    # calculate z^u (encoder_conved) and (z^u + e) (encoder_combined)\n",
        "    # encoder_conved is output from final encoder conv. block\n",
        "    #encoder_combined is encoder_conved plus (elementwise) src embedding plus \n",
        "    #  positional embeddings \n",
        "    \"\"\"\n",
        "    encoder_conved, encoder_combined = self.encoder(src)\n",
        "    \"\"\"\n",
        "    encoder_conved = [batch size, src len, emb dim]\n",
        "    encoder_combined = [batch size, src len, emb dim]\n",
        "    calculate predictions of next words\n",
        "    output is a batch of predictions for each word in the trg sentence\n",
        "    attention a batch of attention scores across the src sentence for \n",
        "     each word in the trg sentence\n",
        "    \"\"\"\n",
        "    output, attention = self.decoder(trg, encoder_conved, encoder_combined)\n",
        "        \n",
        "    \"\"\"\n",
        "    output = [batch size, trg len - 1, output dim]\n",
        "    attention = [batch size, trg len - 1, src len]\n",
        "    \"\"\"\n",
        "    return output, attention"
      ],
      "execution_count": 14,
      "outputs": []
    },
    {
      "cell_type": "markdown",
      "metadata": {
        "id": "-6XzHKcyD6mG"
      },
      "source": [
        "### Training the `Seq2Seq` Model\n",
        "We will define hyper parameters. In the orginal paper they found it effective to use `5+` layers and a smaller `kernel_size`. IN our case we are going t use a `kernel_size` of 3.\n"
      ]
    },
    {
      "cell_type": "code",
      "metadata": {
        "colab": {
          "base_uri": "https://localhost:8080/"
        },
        "id": "YG8AFLqkDyUI",
        "outputId": "e1ccf83a-ba3e-4d42-b92d-be9a7efd0a10"
      },
      "source": [
        "INPUT_DIM = len(SRC.vocab)\n",
        "OUTPUT_DIM = len(TRG.vocab)\n",
        "EMB_DIM = 256\n",
        "HID_DIM = 512 # each conv. layer has 2 * hid_dim filters\n",
        "ENC_LAYERS = DEC_LAYERS = 10 # number of conv. blocks in decoder and encoder\n",
        "ENC_KERNEL_SIZE = 3 # must be odd!\n",
        "DEC_KERNEL_SIZE = 3 # can be even or odd\n",
        "ENC_DROPOUT = DEC_DROPOUT = 0.25\n",
        "TRG_PAD_IDX = TRG.vocab.stoi[TRG.pad_token]\n",
        "    \n",
        "enc = Encoder(INPUT_DIM, EMB_DIM, HID_DIM, ENC_LAYERS, ENC_KERNEL_SIZE, ENC_DROPOUT, device)\n",
        "dec = Decoder(OUTPUT_DIM, EMB_DIM, HID_DIM, DEC_LAYERS, DEC_KERNEL_SIZE, DEC_DROPOUT, TRG_PAD_IDX, device)\n",
        "\n",
        "model = Seq2Seq(enc, dec).to(device)\n",
        "model"
      ],
      "execution_count": 15,
      "outputs": [
        {
          "output_type": "execute_result",
          "data": {
            "text/plain": [
              "Seq2Seq(\n",
              "  (encoder): Encoder(\n",
              "    (tok_embedding): Embedding(7855, 256)\n",
              "    (pos_embedding): Embedding(100, 256)\n",
              "    (emb2hid): Linear(in_features=256, out_features=512, bias=True)\n",
              "    (hid2emb): Linear(in_features=512, out_features=256, bias=True)\n",
              "    (convs): ModuleList(\n",
              "      (0): Conv1d(512, 1024, kernel_size=(3,), stride=(1,), padding=(1,))\n",
              "      (1): Conv1d(512, 1024, kernel_size=(3,), stride=(1,), padding=(1,))\n",
              "      (2): Conv1d(512, 1024, kernel_size=(3,), stride=(1,), padding=(1,))\n",
              "      (3): Conv1d(512, 1024, kernel_size=(3,), stride=(1,), padding=(1,))\n",
              "      (4): Conv1d(512, 1024, kernel_size=(3,), stride=(1,), padding=(1,))\n",
              "      (5): Conv1d(512, 1024, kernel_size=(3,), stride=(1,), padding=(1,))\n",
              "      (6): Conv1d(512, 1024, kernel_size=(3,), stride=(1,), padding=(1,))\n",
              "      (7): Conv1d(512, 1024, kernel_size=(3,), stride=(1,), padding=(1,))\n",
              "      (8): Conv1d(512, 1024, kernel_size=(3,), stride=(1,), padding=(1,))\n",
              "      (9): Conv1d(512, 1024, kernel_size=(3,), stride=(1,), padding=(1,))\n",
              "    )\n",
              "    (dropout): Dropout(p=0.25, inplace=False)\n",
              "  )\n",
              "  (decoder): Decoder(\n",
              "    (tok_embedding): Embedding(5893, 256)\n",
              "    (pos_embedding): Embedding(100, 256)\n",
              "    (emb2hid): Linear(in_features=256, out_features=512, bias=True)\n",
              "    (hid2emb): Linear(in_features=512, out_features=256, bias=True)\n",
              "    (attn_hid2emb): Linear(in_features=512, out_features=256, bias=True)\n",
              "    (attn_emb2hid): Linear(in_features=256, out_features=512, bias=True)\n",
              "    (fc_out): Linear(in_features=256, out_features=5893, bias=True)\n",
              "    (convs): ModuleList(\n",
              "      (0): Conv1d(512, 1024, kernel_size=(3,), stride=(1,))\n",
              "      (1): Conv1d(512, 1024, kernel_size=(3,), stride=(1,))\n",
              "      (2): Conv1d(512, 1024, kernel_size=(3,), stride=(1,))\n",
              "      (3): Conv1d(512, 1024, kernel_size=(3,), stride=(1,))\n",
              "      (4): Conv1d(512, 1024, kernel_size=(3,), stride=(1,))\n",
              "      (5): Conv1d(512, 1024, kernel_size=(3,), stride=(1,))\n",
              "      (6): Conv1d(512, 1024, kernel_size=(3,), stride=(1,))\n",
              "      (7): Conv1d(512, 1024, kernel_size=(3,), stride=(1,))\n",
              "      (8): Conv1d(512, 1024, kernel_size=(3,), stride=(1,))\n",
              "      (9): Conv1d(512, 1024, kernel_size=(3,), stride=(1,))\n",
              "    )\n",
              "    (dropout): Dropout(p=0.25, inplace=False)\n",
              "  )\n",
              ")"
            ]
          },
          "metadata": {
            "tags": []
          },
          "execution_count": 15
        }
      ]
    },
    {
      "cell_type": "markdown",
      "metadata": {
        "id": "rsQjQh9cEr_s"
      },
      "source": [
        "### Counting model parameters."
      ]
    },
    {
      "cell_type": "code",
      "metadata": {
        "colab": {
          "base_uri": "https://localhost:8080/"
        },
        "id": "6-ut6CCAEgfG",
        "outputId": "147b8ee3-795f-4f5d-94f3-0102f363fd5f"
      },
      "source": [
        "def count_trainable_params(model):\n",
        "  return sum(p.numel() for p in model.parameters()), sum(p.numel() for p in model.parameters() if p.requires_grad)\n",
        "\n",
        "n_params, trainable_params = count_trainable_params(model)\n",
        "print(f\"Total number of paramaters: {n_params:,}\\nTotal tainable parameters: {trainable_params:,}\")"
      ],
      "execution_count": 16,
      "outputs": [
        {
          "output_type": "stream",
          "text": [
            "Total number of paramaters: 37,351,685\n",
            "Total tainable parameters: 37,351,685\n"
          ],
          "name": "stdout"
        }
      ]
    },
    {
      "cell_type": "markdown",
      "metadata": {
        "id": "rAxPWy4XE-rn"
      },
      "source": [
        "### Optimizer and Criterion."
      ]
    },
    {
      "cell_type": "code",
      "metadata": {
        "id": "SIu3KIKRE3NN"
      },
      "source": [
        "optimizer = torch.optim.Adam(model.parameters())\n",
        "criterion = nn.CrossEntropyLoss(ignore_index = TRG_PAD_IDX)"
      ],
      "execution_count": 17,
      "outputs": []
    },
    {
      "cell_type": "markdown",
      "metadata": {
        "id": "WorZz4dEFbf1"
      },
      "source": [
        "### Model training loop.\n",
        "\n",
        "Then, we define the training loop for the model.\n",
        "\n",
        "We handle the sequences a little differently than previous notebooks. For all models we never put the `<eos>` into the decoder. This is handled in the RNN models by the having the decoder loop not reach having the `<eos>` as an input to the decoder. In this model, we simply slice the `<eos>` token off the end of the sequence. Thus:\n",
        "\n",
        "$$\\begin{align*}\n",
        "\\text{trg} &amp;= [sos, x_1, x_2, x_3, eos]\\\\\n",
        "\\text{trg[:-1]} &amp;= [sos, x_1, x_2, x_3]\n",
        "\\end{align*}$$\n",
        "$x_i$ denotes actual target sequence element. We then feed this into the model to get a predicted sequence that should hopefully predict the <eos> token:\n",
        "\n",
        "$$\\begin{align*}\n",
        "\\text{output} &amp;= [y_1, y_2, y_3, eos]\n",
        "\\end{align*}$$\n",
        "$y_i$ denotes predicted target sequence element. We then calculate our loss using the original trg tensor with the <sos> token sliced off the front, leaving the <eos> token:\n",
        "\n",
        "$$\\begin{align*}\n",
        "\\text{output} &amp;= [y_1, y_2, y_3, eos]\\\\\n",
        "\\text{trg[1:]} &amp;= [x_1, x_2, x_3, eos]\n",
        "\\end{align*}$$\n",
        "We then calculate our losses and update our parameters as is standard."
      ]
    },
    {
      "cell_type": "code",
      "metadata": {
        "id": "blRAWlMuE39U"
      },
      "source": [
        "def train(model, iterator, optimizer, criterion, clip):\n",
        "  model.train()\n",
        "  epoch_loss = 0\n",
        "  for i, batch in enumerate(iterator):\n",
        "    src = batch.src\n",
        "    trg = batch.trg\n",
        "    optimizer.zero_grad()\n",
        "    output, _ = model(src, trg[:,:-1])\n",
        "    \"\"\"\n",
        "    output = [batch size, trg len - 1, output dim]\n",
        "    trg = [batch size, trg len]\n",
        "    \"\"\"\n",
        "    output_dim = output.shape[-1]\n",
        "    \n",
        "    output = output.contiguous().view(-1, output_dim)\n",
        "    trg = trg[:,1:].contiguous().view(-1)\n",
        "    \"\"\"\n",
        "    output = [batch size * trg len - 1, output dim]\n",
        "    trg = [batch size * trg len - 1]\n",
        "    \"\"\"\n",
        "    loss = criterion(output, trg)\n",
        "    loss.backward()\n",
        "    torch.nn.utils.clip_grad_norm_(model.parameters(), clip)\n",
        "    optimizer.step()\n",
        "    epoch_loss += loss.item()\n",
        "  return epoch_loss / len(iterator)\n",
        "\n",
        "\n",
        "def evaluate(model, iterator, criterion):\n",
        "  model.eval()\n",
        "  epoch_loss = 0\n",
        "  with torch.no_grad():\n",
        "    for i, batch in enumerate(iterator):\n",
        "      src = batch.src\n",
        "      trg = batch.trg\n",
        "      output, _ = model(src, trg[:,:-1])\n",
        "      \"\"\"\n",
        "      output = [batch size, trg len - 1, output dim]\n",
        "      trg = [batch size, trg len]\n",
        "      \"\"\"\n",
        "      output_dim = output.shape[-1]\n",
        "      \n",
        "      output = output.contiguous().view(-1, output_dim)\n",
        "      trg = trg[:,1:].contiguous().view(-1)\n",
        "      \"\"\"\n",
        "      output = [batch size * trg len - 1, output dim]\n",
        "      trg = [batch size * trg len - 1]\n",
        "      \"\"\"\n",
        "      loss = criterion(output, trg)\n",
        "\n",
        "      epoch_loss += loss.item()\n",
        "  return epoch_loss / len(iterator)"
      ],
      "execution_count": 18,
      "outputs": []
    },
    {
      "cell_type": "markdown",
      "metadata": {
        "id": "ywDNy5l8Gvyd"
      },
      "source": [
        "### A function that tell us how long each epoch took."
      ]
    },
    {
      "cell_type": "code",
      "metadata": {
        "id": "96kr507oE37L"
      },
      "source": [
        "def epoch_time(start_time, end_time):\n",
        "  elapsed_time = end_time - start_time\n",
        "  elapsed_mins = int(elapsed_time / 60)\n",
        "  elapsed_secs = int(elapsed_time - (elapsed_mins * 60))\n",
        "  return elapsed_mins, elapsed_secs"
      ],
      "execution_count": 19,
      "outputs": []
    },
    {
      "cell_type": "markdown",
      "metadata": {
        "id": "8_ezF-j1G6YO"
      },
      "source": [
        "Finally, we train our model. Notice we have reduced the `CLIP` value from `1` to `0.1` in order to train this model more reliably. With higher `CLIP` values, the gradient occasionally explodes.\n",
        "\n",
        "**Although we have almost twice as many parameters as the attention based RNN model, it actually takes around half the time as the standard version and about the same time as the packed padded sequences version. This is due to all calculations being done in parallel using the convolutional filters instead of sequentially using `RNNs`**.\n",
        "\n",
        "Note: this model always has a teacher forcing ratio of 1, i.e. it will always use the ground truth next token from the target sequence. This means we cannot compare perplexity values against the previous models when they are using a teacher forcing ratio that is not 1. See here for the results of the attention based RNN using a teacher forcing ratio of 1."
      ]
    },
    {
      "cell_type": "code",
      "metadata": {
        "colab": {
          "base_uri": "https://localhost:8080/"
        },
        "id": "kh_dJsGYE34j",
        "outputId": "ab56488e-5e36-4818-85e6-97340cd729a2"
      },
      "source": [
        "N_EPOCHS = 10\n",
        "CLIP = 0.1\n",
        "best_valid_loss = float('inf')\n",
        "print(\"TRAINING START....\")\n",
        "for epoch in range(N_EPOCHS):\n",
        "  start_time = time.time()\n",
        "  train_loss = train(model, train_iterator, optimizer, criterion, CLIP)\n",
        "  valid_loss = evaluate(model, valid_iterator, criterion)\n",
        "  end_time = time.time()\n",
        "  \n",
        "  epoch_mins, epoch_secs = epoch_time(start_time, end_time)\n",
        "  \n",
        "  if valid_loss < best_valid_loss:\n",
        "      best_valid_loss = valid_loss\n",
        "      torch.save(model.state_dict(), 'best-model.pt')\n",
        "  print(f'Epoch: {epoch+1:02} | Time: {epoch_mins}m {epoch_secs}s')\n",
        "  print(f'\\tTrain Loss: {train_loss:.3f} | Train PPL: {math.exp(train_loss):7.3f}')\n",
        "  print(f'\\t Val. Loss: {valid_loss:.3f} |  Val. PPL: {math.exp(valid_loss):7.3f}')\n",
        "\n",
        "print(\"TRAINING ENDS....\")"
      ],
      "execution_count": 20,
      "outputs": [
        {
          "output_type": "stream",
          "text": [
            "TRAINING START....\n",
            "Epoch: 01 | Time: 1m 6s\n",
            "\tTrain Loss: 4.221 | Train PPL:  68.086\n",
            "\t Val. Loss: 3.031 |  Val. PPL:  20.718\n",
            "Epoch: 02 | Time: 1m 4s\n",
            "\tTrain Loss: 3.039 | Train PPL:  20.877\n",
            "\t Val. Loss: 2.414 |  Val. PPL:  11.174\n",
            "Epoch: 03 | Time: 1m 4s\n",
            "\tTrain Loss: 2.618 | Train PPL:  13.713\n",
            "\t Val. Loss: 2.182 |  Val. PPL:   8.862\n",
            "Epoch: 04 | Time: 1m 5s\n",
            "\tTrain Loss: 2.390 | Train PPL:  10.914\n",
            "\t Val. Loss: 2.081 |  Val. PPL:   8.011\n",
            "Epoch: 05 | Time: 1m 4s\n",
            "\tTrain Loss: 2.242 | Train PPL:   9.417\n",
            "\t Val. Loss: 1.957 |  Val. PPL:   7.078\n",
            "Epoch: 06 | Time: 1m 5s\n",
            "\tTrain Loss: 2.133 | Train PPL:   8.439\n",
            "\t Val. Loss: 1.937 |  Val. PPL:   6.935\n",
            "Epoch: 07 | Time: 1m 4s\n",
            "\tTrain Loss: 2.047 | Train PPL:   7.747\n",
            "\t Val. Loss: 1.876 |  Val. PPL:   6.524\n",
            "Epoch: 08 | Time: 1m 5s\n",
            "\tTrain Loss: 1.980 | Train PPL:   7.242\n",
            "\t Val. Loss: 1.838 |  Val. PPL:   6.284\n",
            "Epoch: 09 | Time: 1m 4s\n",
            "\tTrain Loss: 1.919 | Train PPL:   6.817\n",
            "\t Val. Loss: 1.821 |  Val. PPL:   6.179\n",
            "Epoch: 10 | Time: 1m 5s\n",
            "\tTrain Loss: 1.870 | Train PPL:   6.490\n",
            "\t Val. Loss: 1.803 |  Val. PPL:   6.071\n",
            "TRAINING ENDS....\n"
          ],
          "name": "stdout"
        }
      ]
    },
    {
      "cell_type": "markdown",
      "metadata": {
        "id": "BWPcMdjIHhus"
      },
      "source": [
        "### Evaluating the model with the least loss."
      ]
    },
    {
      "cell_type": "code",
      "metadata": {
        "colab": {
          "base_uri": "https://localhost:8080/"
        },
        "id": "DO4N6jNeE320",
        "outputId": "cde73b9f-c335-4fc8-f45a-744f6e5118fa"
      },
      "source": [
        "model.load_state_dict(torch.load('best-model.pt'))\n",
        "test_loss = evaluate(model, test_iterator, criterion)\n",
        "print(f'| Test Loss: {test_loss:.3f} | Test PPL: {math.exp(test_loss):7.3f} |')"
      ],
      "execution_count": 21,
      "outputs": [
        {
          "output_type": "stream",
          "text": [
            "| Test Loss: 1.863 | Test PPL:   6.443 |\n"
          ],
          "name": "stdout"
        }
      ]
    },
    {
      "cell_type": "markdown",
      "metadata": {
        "id": "laUoJO5rHuqv"
      },
      "source": [
        "### Inference\n",
        "Now we can can translations from our model with the translate_sentence function below.\n",
        "\n",
        "The steps taken are:\n",
        "\n",
        "* tokenize the source sentence if it has not been tokenized (is a string)\n",
        "append the `<sos>` and `<eos>` tokens\n",
        "* numericalize the source sentence\n",
        "* convert it to a tensor and add a batch dimension\n",
        "* feed the source sentence into the encoder\n",
        "* create a list to hold the output sentence, initialized with an `<sos>` token\n",
        "* while we have not hit a maximum length\n",
        "  * convert the current output sentence prediction into a tensor with a batch dimension\n",
        "  * place the current output and the two encoder outputs into the decoder\n",
        "  * get next output token prediction from decoder\n",
        "  * add prediction to current output sentence prediction\n",
        "  * break if the prediction was an <eos> token\n",
        "* convert the output sentence from indexes to tokens\n",
        "* return the output sentence (with the <sos> token removed) and the attention from the last layer"
      ]
    },
    {
      "cell_type": "code",
      "metadata": {
        "id": "EXvul0vmE3yh"
      },
      "source": [
        "import spacy\n",
        "import de_core_news_sm\n",
        "def translate_sentence(sentence, src_field, trg_field, model, device, max_len = 50):\n",
        "    model.eval()\n",
        "    if isinstance(sentence, str):\n",
        "        nlp = de_core_news_sm.load()\n",
        "        tokens = [token.text.lower() for token in nlp(sentence)]\n",
        "    else:\n",
        "        tokens = [token.lower() for token in sentence]\n",
        "\n",
        "    tokens = [src_field.init_token] + tokens + [src_field.eos_token]\n",
        "        \n",
        "    src_indexes = [src_field.vocab.stoi[token] for token in tokens]\n",
        "\n",
        "    src_tensor = torch.LongTensor(src_indexes).unsqueeze(0).to(device)\n",
        "\n",
        "    with torch.no_grad():\n",
        "        encoder_conved, encoder_combined = model.encoder(src_tensor)\n",
        "\n",
        "    trg_indexes = [trg_field.vocab.stoi[trg_field.init_token]]\n",
        "\n",
        "    for i in range(max_len):\n",
        "\n",
        "        trg_tensor = torch.LongTensor(trg_indexes).unsqueeze(0).to(device)\n",
        "\n",
        "        with torch.no_grad():\n",
        "            output, attention = model.decoder(trg_tensor, encoder_conved, encoder_combined)\n",
        "        \n",
        "        pred_token = output.argmax(2)[:,-1].item()\n",
        "        \n",
        "        trg_indexes.append(pred_token)\n",
        "\n",
        "        if pred_token == trg_field.vocab.stoi[trg_field.eos_token]:\n",
        "            break\n",
        "    \n",
        "    trg_tokens = [trg_field.vocab.itos[i] for i in trg_indexes]\n",
        "    \n",
        "    return trg_tokens[1:], attention"
      ],
      "execution_count": 22,
      "outputs": []
    },
    {
      "cell_type": "markdown",
      "metadata": {
        "id": "WY7PY_JvIaKI"
      },
      "source": [
        "Next, we have a function what will display how much the model pays attention to each input token during each step of the decoding.\n"
      ]
    },
    {
      "cell_type": "code",
      "metadata": {
        "id": "yq6t67roE3vi"
      },
      "source": [
        "def display_attention(sentence, translation, attention):\n",
        "  fig = plt.figure(figsize=(10,10))\n",
        "  ax = fig.add_subplot(111)\n",
        "  attention = attention.squeeze(0).cpu().detach().numpy()\n",
        "  cax = ax.matshow(attention, cmap='bone')\n",
        "  ax.tick_params(labelsize=15)\n",
        "  ax.set_xticklabels(['']+['<sos>']+[t.lower() for t in sentence]+['<eos>'], \n",
        "                      rotation=45)\n",
        "  ax.set_yticklabels(['']+translation)\n",
        "  ax.xaxis.set_major_locator(ticker.MultipleLocator(1))\n",
        "  ax.yaxis.set_major_locator(ticker.MultipleLocator(1))\n",
        "  plt.show()\n",
        "  plt.close()"
      ],
      "execution_count": 23,
      "outputs": []
    },
    {
      "cell_type": "markdown",
      "metadata": {
        "id": "s80Zxwu7JSyG"
      },
      "source": [
        "Then we'll finally start translating some sentences.\n",
        "\n",
        "First, we'll get an example from the training set:"
      ]
    },
    {
      "cell_type": "code",
      "metadata": {
        "colab": {
          "base_uri": "https://localhost:8080/"
        },
        "id": "Z4EkoGpbJTZ-",
        "outputId": "89b2bbec-019d-4efb-989b-ad93a172fe86"
      },
      "source": [
        "example_idx = 2\n",
        "src = vars(train_data.examples[example_idx])['src']\n",
        "trg = vars(train_data.examples[example_idx])['trg']\n",
        "\n",
        "print(f'src = {src}')\n",
        "print(f'trg = {trg}')"
      ],
      "execution_count": 24,
      "outputs": [
        {
          "output_type": "stream",
          "text": [
            "src = ['ein', 'kleines', 'mädchen', 'klettert', 'in', 'ein', 'spielhaus', 'aus', 'holz', '.']\n",
            "trg = ['a', 'little', 'girl', 'climbing', 'into', 'a', 'wooden', 'playhouse', '.']\n"
          ],
          "name": "stdout"
        }
      ]
    },
    {
      "cell_type": "code",
      "metadata": {
        "colab": {
          "base_uri": "https://localhost:8080/"
        },
        "id": "_dCb6V22Jit9",
        "outputId": "1c465ef5-5b43-4a13-e6d4-1f8cd0a80ab1"
      },
      "source": [
        "\n",
        "translation, attention = translate_sentence(src, SRC, TRG, model, device)\n",
        "\n",
        "print(f'predicted trg = {translation}')"
      ],
      "execution_count": 25,
      "outputs": [
        {
          "output_type": "stream",
          "text": [
            "predicted trg = ['a', 'little', 'girl', 'climbing', 'into', 'a', 'playhouse', 'of', 'wood', '.', '<eos>']\n"
          ],
          "name": "stdout"
        }
      ]
    },
    {
      "cell_type": "markdown",
      "metadata": {
        "id": "tuOTnW3IJ0AJ"
      },
      "source": [
        "We can view the attention of the model, making sure it gives sensibile looking results."
      ]
    },
    {
      "cell_type": "code",
      "metadata": {
        "colab": {
          "base_uri": "https://localhost:8080/",
          "height": 614
        },
        "id": "6zpqD2TsJ0kD",
        "outputId": "bc213a0d-79a4-489e-d8a6-6176f2a44fb5"
      },
      "source": [
        "display_attention(src, translation, attention)"
      ],
      "execution_count": 26,
      "outputs": [
        {
          "output_type": "display_data",
          "data": {
            "image/png": "[encoded data removed]",
            "text/plain": [
              "<Figure size 720x720 with 1 Axes>"
            ]
          },
          "metadata": {
            "tags": [],
            "needs_background": "light"
          }
        }
      ]
    },
    {
      "cell_type": "markdown",
      "metadata": {
        "id": "1G6xEvBkJ8fX"
      },
      "source": [
        "Let's see how well it translates an example that is not in the training set."
      ]
    },
    {
      "cell_type": "code",
      "metadata": {
        "colab": {
          "base_uri": "https://localhost:8080/",
          "height": 705
        },
        "id": "nahuggQOKIX_",
        "outputId": "ec9a0725-1a27-4a66-8264-2d07aac7526c"
      },
      "source": [
        "example_idx = 2\n",
        "src = vars(valid_data.examples[example_idx])['src']\n",
        "trg = vars(valid_data.examples[example_idx])['trg']\n",
        "print(f'src = {src}')\n",
        "print(f'trg = {trg}')\n",
        "translation, attention = translate_sentence(src, SRC, TRG, model, device)\n",
        "print(f'predicted trg = {translation}')\n",
        "display_attention(src, translation, attention)"
      ],
      "execution_count": 27,
      "outputs": [
        {
          "output_type": "stream",
          "text": [
            "src = ['ein', 'junge', 'mit', 'kopfhörern', 'sitzt', 'auf', 'den', 'schultern', 'einer', 'frau', '.']\n",
            "trg = ['a', 'boy', 'wearing', 'headphones', 'sits', 'on', 'a', 'woman', \"'s\", 'shoulders', '.']\n",
            "predicted trg = ['a', 'boy', 'in', 'headphones', 'sits', 'on', 'the', 'shoulders', 'of', 'a', 'woman', '.', '<eos>']\n"
          ],
          "name": "stdout"
        },
        {
          "output_type": "display_data",
          "data": {
            "image/png": "[encoded data removed]",
            "text/plain": [
              "<Figure size 720x720 with 1 Axes>"
            ]
          },
          "metadata": {
            "tags": [],
            "needs_background": "light"
          }
        }
      ]
    },
    {
      "cell_type": "code",
      "metadata": {
        "colab": {
          "base_uri": "https://localhost:8080/",
          "height": 679
        },
        "id": "fUuxp6uMKaDK",
        "outputId": "76c6885c-3bb8-4e5e-b1be-932b237a34d9"
      },
      "source": [
        "example_idx = 10\n",
        "src = vars(valid_data.examples[example_idx])['src']\n",
        "trg = vars(valid_data.examples[example_idx])['trg']\n",
        "print(f'src = {src}')\n",
        "print(f'trg = {trg}')\n",
        "translation, attention = translate_sentence(src, SRC, TRG, model, device)\n",
        "print(f'predicted trg = {translation}')\n",
        "display_attention(src, translation, attention)"
      ],
      "execution_count": 28,
      "outputs": [
        {
          "output_type": "stream",
          "text": [
            "src = ['ein', 'kleines', 'kind', 'steht', 'allein', 'auf', 'einem', 'zerklüfteten', 'felsen', '.']\n",
            "trg = ['a', 'young', 'child', 'is', 'standing', 'alone', 'on', 'some', 'jagged', 'rocks', '.']\n",
            "predicted trg = ['a', 'young', 'child', 'stands', 'alone', 'on', 'a', 'rock', 'rock', '.', '<eos>']\n"
          ],
          "name": "stdout"
        },
        {
          "output_type": "display_data",
          "data": {
            "image/png": "[encoded data removed]",
            "text/plain": [
              "<Figure size 720x720 with 1 Axes>"
            ]
          },
          "metadata": {
            "tags": [],
            "needs_background": "light"
          }
        }
      ]
    },
    {
      "cell_type": "code",
      "metadata": {
        "colab": {
          "base_uri": "https://localhost:8080/",
          "height": 709
        },
        "id": "jClgc6TnKZ16",
        "outputId": "6f10cc1c-ceb4-4d2e-c8f9-e43e13fa21c3"
      },
      "source": [
        "example_idx = 19\n",
        "src = vars(valid_data.examples[example_idx])['src']\n",
        "trg = vars(valid_data.examples[example_idx])['trg']\n",
        "print(f'src = {src}')\n",
        "print(f'trg = {trg}')\n",
        "translation, attention = translate_sentence(src, SRC, TRG, model, device)\n",
        "print(f'predicted trg = {translation}')\n",
        "display_attention(src, translation, attention)"
      ],
      "execution_count": 29,
      "outputs": [
        {
          "output_type": "stream",
          "text": [
            "src = ['drei', 'mädchen', ',', 'von', 'denen', 'eines', 'gerade', 'trinkt', ',', 'stehen', 'in', 'einer', 'belebten', 'straße', 'und', 'schneiden', 'grimassen', '.']\n",
            "trg = ['three', 'girls', 'make', 'faces', 'as', 'one', 'takes', 'a', 'drink', 'while', 'they', 'stand', 'in', 'a', 'busy', 'street', '.']\n",
            "predicted trg = ['three', 'girls', 'drinking', 'in', 'a', 'crowded', 'street', ',', 'are', 'standing', 'in', 'a', 'crowded', 'street', 'and', 'cutting', 'faces', '.', '<eos>']\n"
          ],
          "name": "stdout"
        },
        {
          "output_type": "display_data",
          "data": {
            "image/png": "[encoded data removed]",
            "text/plain": [
              "<Figure size 720x720 with 1 Axes>"
            ]
          },
          "metadata": {
            "tags": [],
            "needs_background": "light"
          }
        }
      ]
    },
    {
      "cell_type": "markdown",
      "metadata": {
        "id": "zUO_MWbkKems"
      },
      "source": [
        "### BLEU\n"
      ]
    },
    {
      "cell_type": "code",
      "metadata": {
        "id": "J1V_q1NRKkc0"
      },
      "source": [
        "from torchtext.data.metrics import bleu_score\n",
        "def calculate_bleu(data, src_field, trg_field, model, device, max_len = 50):\n",
        "    \n",
        "    trgs = []\n",
        "    pred_trgs = []\n",
        "    \n",
        "    for datum in data:\n",
        "        \n",
        "        src = vars(datum)['src']\n",
        "        trg = vars(datum)['trg']\n",
        "        \n",
        "        pred_trg, _ = translate_sentence(src, src_field, trg_field, model, device, max_len)\n",
        "        \n",
        "        #cut off <eos> token\n",
        "        pred_trg = pred_trg[:-1]\n",
        "        \n",
        "        pred_trgs.append(pred_trg)\n",
        "        trgs.append([trg])\n",
        "        \n",
        "    return bleu_score(pred_trgs, trgs)"
      ],
      "execution_count": 30,
      "outputs": []
    },
    {
      "cell_type": "code",
      "metadata": {
        "colab": {
          "base_uri": "https://localhost:8080/"
        },
        "id": "tOyavDOBKyJY",
        "outputId": "92c6c5cd-a30f-4043-ec33-ef97d1d4c3f7"
      },
      "source": [
        "bleu_score = calculate_bleu(test_data, SRC, TRG, model, device)\n",
        "\n",
        "print(f'BLEU score = {bleu_score*100:.2f}')"
      ],
      "execution_count": 31,
      "outputs": [
        {
          "output_type": "stream",
          "text": [
            "BLEU score = 32.51\n"
          ],
          "name": "stdout"
        }
      ]
    },
    {
      "cell_type": "markdown",
      "metadata": {
        "id": "iKjXTWeEKxty"
      },
      "source": [
        "\n",
        "We've now covered the first of our non-RNN using models! Next up is the Transformer model which doesn't even use convolutional layers - only linear layers and a lot of attention mechanisms.\n",
        "\n",
        "### Credits\n",
        "\n",
        "* [bentrevett](https://github.com/bentrevett/pytorch-seq2seq/blob/master/5%20-%20Convolutional%20Sequence%20to%20Sequence%20Learning.ipynb)"
      ]
    },
    {
      "cell_type": "code",
      "metadata": {
        "id": "aY9wgGUkK6eL"
      },
      "source": [
        ""
      ],
      "execution_count": null,
      "outputs": []
    }
  ]
}