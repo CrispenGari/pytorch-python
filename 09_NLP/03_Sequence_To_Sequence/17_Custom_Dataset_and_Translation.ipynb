{
  "nbformat": 4,
  "nbformat_minor": 0,
  "metadata": {
    "colab": {
      "name": "17_Custom_Dataset_and_Translation.ipynb",
      "provenance": [],
      "collapsed_sections": []
    },
    "kernelspec": {
      "name": "python3",
      "display_name": "Python 3"
    },
    "language_info": {
      "name": "python"
    },
    "accelerator": "GPU"
  },
  "cells": [
    {
      "cell_type": "markdown",
      "metadata": {
        "id": "LQMkaN_D5wAI"
      },
      "source": [
        "### TorchText (Custom dataset and Translation).\n",
        "\n",
        "In this notebook we are going to make use of the knowledge that we have gathered for the past weeks, on how to load our custom dataset from text files using torchtext and create a model that we will use to make prediction, translation from germany language to english language.\n",
        "\n",
        "### Files\n",
        "I have 6 files that are in my google drive which are:\n",
        "\n",
        "```\n",
        "1. train.de\n",
        "2. train.en\n",
        "3. test.de\n",
        "4. test.en\n",
        "5. val.de\n",
        "6. val.en\n",
        "```\n",
        "\n",
        "Each file contain a line which correcpond to the a line in another laguage.\n",
        "\n",
        "\n",
        "I'm going to make use of [this](https://github.com/CrispenGari/pytorch-python/blob/main/09_NLP/03_Sequence_To_Sequence/04_Packed_Padded_Sequences%2C_Masking%2C_Inference_and_BLEU.ipynb) notebook for the code. The purpose of this notebook is to show how we can load our own custom dataset from files.\n",
        "\n",
        "### Imports"
      ]
    },
    {
      "cell_type": "code",
      "metadata": {
        "id": "FE5swgHH5uRr"
      },
      "source": [
        "import torch\n",
        "from torch import nn\n",
        "from torch.nn  import functional as F\n",
        "import spacy, math, random\n",
        "import numpy as np\n",
        "from torchtext.legacy import datasets, data\n",
        "import time, os\n",
        "from prettytable import PrettyTable\n",
        "from matplotlib import pyplot as plt"
      ],
      "execution_count": 1,
      "outputs": []
    },
    {
      "cell_type": "markdown",
      "metadata": {
        "id": "gCb_p4gZ63SA"
      },
      "source": [
        "### Setting the seeds"
      ]
    },
    {
      "cell_type": "code",
      "metadata": {
        "id": "WMgeQosE5uPF"
      },
      "source": [
        "SEED = 42\n",
        "\n",
        "np.random.seed(SEED)\n",
        "torch.manual_seed(SEED)\n",
        "random.seed(SEED)\n",
        "torch.cuda.manual_seed(SEED)\n",
        "torch.backends.cudnn.deteministic = True"
      ],
      "execution_count": 2,
      "outputs": []
    },
    {
      "cell_type": "markdown",
      "metadata": {
        "id": "_ORS675N67JY"
      },
      "source": [
        "### Mounting the google drive"
      ]
    },
    {
      "cell_type": "code",
      "metadata": {
        "colab": {
          "base_uri": "https://localhost:8080/"
        },
        "id": "LKcip7Ky5uMQ",
        "outputId": "509ae8fc-778c-46b8-eb17-c62aafdbd041"
      },
      "source": [
        "from google.colab import drive\n",
        "drive.mount('/content/drive')"
      ],
      "execution_count": 3,
      "outputs": [
        {
          "output_type": "stream",
          "name": "stdout",
          "text": [
            "Drive already mounted at /content/drive; to attempt to forcibly remount, call drive.mount(\"/content/drive\", force_remount=True).\n"
          ]
        }
      ]
    },
    {
      "cell_type": "code",
      "metadata": {
        "colab": {
          "base_uri": "https://localhost:8080/"
        },
        "id": "rwYw5nwo7PJZ",
        "outputId": "35e35808-ac56-49ba-bbd6-0a171f8831ef"
      },
      "source": [
        "base_path = '/content/drive/My Drive/NLP Data/seq2seq/manythings'\n",
        "path_to_files = os.path.join(base_path, \"German - English\")\n",
        "os.listdir(path_to_files)"
      ],
      "execution_count": 4,
      "outputs": [
        {
          "output_type": "execute_result",
          "data": {
            "text/plain": [
              "['deu.txt',\n",
              " 'valid.en',\n",
              " 'train.de',\n",
              " 'test.de',\n",
              " 'valid.de',\n",
              " 'test.en',\n",
              " 'train.en',\n",
              " 'multi30k']"
            ]
          },
          "metadata": {},
          "execution_count": 4
        }
      ]
    },
    {
      "cell_type": "markdown",
      "metadata": {
        "id": "c_iM0AFQ7fIu"
      },
      "source": [
        "### Loading tokenization models."
      ]
    },
    {
      "cell_type": "code",
      "metadata": {
        "colab": {
          "base_uri": "https://localhost:8080/"
        },
        "id": "w7aofxLg5uJx",
        "outputId": "9e928ff8-3f52-47cd-f1f4-5012d80f95cb"
      },
      "source": [
        "import spacy\n",
        "spacy.cli.download('de_core_news_sm')\n",
        "import de_core_news_sm, en_core_web_sm\n",
        "spacy_de = spacy.load('de_core_news_sm')\n",
        "spacy_en = spacy.load('en_core_web_sm')"
      ],
      "execution_count": 5,
      "outputs": [
        {
          "output_type": "stream",
          "name": "stdout",
          "text": [
            "\u001b[38;5;2m✔ Download and installation successful\u001b[0m\n",
            "You can now load the model via spacy.load('de_core_news_sm')\n"
          ]
        }
      ]
    },
    {
      "cell_type": "markdown",
      "metadata": {
        "id": "i26WSLr37tNc"
      },
      "source": [
        "### Preprocessing functions that will tokenize the sents"
      ]
    },
    {
      "cell_type": "code",
      "metadata": {
        "id": "xOXc-hLw5uA6"
      },
      "source": [
        "def tokenize_de(sent):\n",
        "  return [tok.text for tok in spacy_de.tokenizer(sent)]\n",
        "\n",
        "def tokenize_en(sent):\n",
        "  return [tok.text for tok in spacy_en.tokenizer(sent)]"
      ],
      "execution_count": 6,
      "outputs": []
    },
    {
      "cell_type": "markdown",
      "metadata": {
        "id": "1FfxZpjr71xH"
      },
      "source": [
        "### Creating fields"
      ]
    },
    {
      "cell_type": "code",
      "metadata": {
        "id": "SAvDjue95tl2"
      },
      "source": [
        "SRC = data.Field(\n",
        "    tokenize = tokenize_de,\n",
        "    lower= True,\n",
        "    init_token = \"<sos>\",\n",
        "     eos_token = \"<eos>\",\n",
        "     include_lengths =True\n",
        ")\n",
        "TRG = data.Field(\n",
        "    tokenize = tokenize_en,\n",
        "    lower= True,\n",
        "    init_token = \"<sos>\",\n",
        "     eos_token = \"<eos>\"\n",
        ")"
      ],
      "execution_count": 7,
      "outputs": []
    },
    {
      "cell_type": "markdown",
      "metadata": {
        "id": "WX8GeCof8Bkn"
      },
      "source": [
        "### Translation Dataset\n",
        "We are using the `TranslationDataset` class to load our data from files. I got the idea from [this](https://pytorch.org/text/_modules/torchtext/datasets/translation.html) pytorch website."
      ]
    },
    {
      "cell_type": "code",
      "metadata": {
        "id": "bF4qhaii5tjB"
      },
      "source": [
        "train_data, valid_data, test_data = datasets.TranslationDataset.splits(\n",
        "    exts=('.de', '.en'),\n",
        "    path=path_to_files,\n",
        "    train='train', validation='valid', test='test',\n",
        "    fields = (SRC, TRG)\n",
        ")"
      ],
      "execution_count": 8,
      "outputs": []
    },
    {
      "cell_type": "code",
      "metadata": {
        "colab": {
          "base_uri": "https://localhost:8080/"
        },
        "id": "p-jIQ7sd5tgK",
        "outputId": "8fbec73c-0a65-4b13-dbfe-571db8c2b429"
      },
      "source": [
        "print(vars(train_data.examples[0]))"
      ],
      "execution_count": 9,
      "outputs": [
        {
          "output_type": "stream",
          "name": "stdout",
          "text": [
            "{'src': ['du', 'solltest', 'es', 'tun', '.'], 'trg': ['you', 'should', 'do', 'it', '.']}\n"
          ]
        }
      ]
    },
    {
      "cell_type": "code",
      "metadata": {
        "colab": {
          "base_uri": "https://localhost:8080/"
        },
        "id": "qy58elzc5tdI",
        "outputId": "65449e65-e25f-4eba-e48f-de637e8518d2"
      },
      "source": [
        "print(vars(valid_data.examples[0]))"
      ],
      "execution_count": 10,
      "outputs": [
        {
          "output_type": "stream",
          "name": "stdout",
          "text": [
            "{'src': ['ich', 'hoffe', ',', 'wir', 'bekommen', 'weiße', 'weihnachten', '.'], 'trg': ['i', 'hope', 'we', 'have', 'a', 'white', 'christmas', '.']}\n"
          ]
        }
      ]
    },
    {
      "cell_type": "code",
      "metadata": {
        "colab": {
          "base_uri": "https://localhost:8080/"
        },
        "id": "N4XnDTO0Fcki",
        "outputId": "4267a388-69d2-4917-aaf8-2ce62415f132"
      },
      "source": [
        "print(vars(test_data.examples[0]))"
      ],
      "execution_count": 11,
      "outputs": [
        {
          "output_type": "stream",
          "name": "stdout",
          "text": [
            "{'src': ['er', 'brachte', 'uns', 'traurige', 'nachrichten', '.'], 'trg': ['he', 'brought', 'us', 'sad', 'news', '.']}\n"
          ]
        }
      ]
    },
    {
      "cell_type": "markdown",
      "metadata": {
        "id": "oi79LMrv5tMh"
      },
      "source": [
        "### Counting examples"
      ]
    },
    {
      "cell_type": "code",
      "metadata": {
        "colab": {
          "base_uri": "https://localhost:8080/"
        },
        "id": "vT1CZzQ25lzn",
        "outputId": "b433d4ca-023f-4382-f752-255c9fbe426f"
      },
      "source": [
        "from prettytable import PrettyTable\n",
        "def tabulate(column_names, data):\n",
        "  table = PrettyTable(column_names)\n",
        "  table.title= \"VISUALIZING SETS EXAMPLES\"\n",
        "  table.align[column_names[0]] = 'l'\n",
        "  table.align[column_names[1]] = 'r'\n",
        "  for row in data:\n",
        "    table.add_row(row)\n",
        "  print(table)\n",
        "\n",
        "column_names = [\"SUBSET\", \"EXAMPLE(s)\"]\n",
        "row_data = [\n",
        "        [\"training\", len(train_data)],\n",
        "        ['validation', len(valid_data)],\n",
        "        ['test', len(test_data)]\n",
        "]\n",
        "tabulate(column_names, row_data)"
      ],
      "execution_count": 12,
      "outputs": [
        {
          "output_type": "stream",
          "name": "stdout",
          "text": [
            "+-----------------------------+\n",
            "|  VISUALIZING SETS EXAMPLES  |\n",
            "+--------------+--------------+\n",
            "| SUBSET       |   EXAMPLE(s) |\n",
            "+--------------+--------------+\n",
            "| training     |       240166 |\n",
            "| validation   |         1207 |\n",
            "| test         |         1213 |\n",
            "+--------------+--------------+\n"
          ]
        }
      ]
    },
    {
      "cell_type": "markdown",
      "metadata": {
        "id": "WOmQnlBaFqVi"
      },
      "source": [
        "### Building vocabulary"
      ]
    },
    {
      "cell_type": "code",
      "metadata": {
        "id": "M_BaH3NiFkI3"
      },
      "source": [
        "SRC.build_vocab(train_data, min_freq=2)\n",
        "TRG.build_vocab(train_data, min_freq=2)"
      ],
      "execution_count": 13,
      "outputs": []
    },
    {
      "cell_type": "markdown",
      "metadata": {
        "id": "srQA1g3ZFu8r"
      },
      "source": [
        "### Devices"
      ]
    },
    {
      "cell_type": "code",
      "metadata": {
        "colab": {
          "base_uri": "https://localhost:8080/"
        },
        "id": "D_xb2tZHFtjt",
        "outputId": "4db4b0aa-ef24-4c3b-ae37-ee45a9cd6bb9"
      },
      "source": [
        "device = torch.device('cuda' if torch.cuda.is_available() else 'cpu')\n",
        "device"
      ],
      "execution_count": 14,
      "outputs": [
        {
          "output_type": "execute_result",
          "data": {
            "text/plain": [
              "device(type='cuda')"
            ]
          },
          "metadata": {},
          "execution_count": 14
        }
      ]
    },
    {
      "cell_type": "markdown",
      "metadata": {
        "id": "REwr7swVFzoC"
      },
      "source": [
        "### Iterators"
      ]
    },
    {
      "cell_type": "code",
      "metadata": {
        "id": "qPdDM7e9Fx4N"
      },
      "source": [
        "BATCH_SIZE = 128\n",
        "sort_key = lambda x: len(x.src)\n",
        "\n",
        "train_iterator, valid_iterator, test_iterator = data.BucketIterator.splits(\n",
        "    (train_data, valid_data, test_data),\n",
        "    batch_size = BATCH_SIZE,\n",
        "    sort_key= sort_key,\n",
        "    sort_within_batch = True\n",
        ")"
      ],
      "execution_count": 27,
      "outputs": []
    },
    {
      "cell_type": "markdown",
      "metadata": {
        "id": "ZBaa0EyEF8DI"
      },
      "source": [
        "### Encoder Model.\n"
      ]
    },
    {
      "cell_type": "code",
      "metadata": {
        "id": "yGucT2TWFzSX"
      },
      "source": [
        "class Encoder(nn.Module):\n",
        "  def __init__(self, input_dim, emb_dim, enc_hid_dim, dec_hid_dim, dropout):\n",
        "    super(Encoder, self).__init__()\n",
        "\n",
        "    self.embedding = nn.Embedding(input_dim, embedding_dim=emb_dim)\n",
        "    self.gru = nn.GRU(emb_dim, enc_hid_dim, bidirectional = True)\n",
        "    self.fc = nn.Linear(enc_hid_dim * 2, dec_hid_dim)\n",
        "    self.dropout = nn.Dropout(dropout)\n",
        "\n",
        "  def forward(self, src, src_len):\n",
        "    embedded = self.dropout(self.embedding(src)) # embedded = [src len, batch size, emb dim]\n",
        "    # need to explicitly put lengths on cpu!\n",
        "    packed_embedded = nn.utils.rnn.pack_padded_sequence(embedded, src_len.to('cpu'))\n",
        "    packed_outputs, hidden = self.gru(packed_embedded)\n",
        "    outputs, _ = nn.utils.rnn.pad_packed_sequence(packed_outputs) \n",
        "    hidden = torch.tanh(self.fc(torch.cat((hidden[-2,:,:], hidden[-1,:,:]), dim = 1)))\n",
        "    return outputs, hidden"
      ],
      "execution_count": 16,
      "outputs": []
    },
    {
      "cell_type": "markdown",
      "metadata": {
        "id": "EN8aVX2SGGSj"
      },
      "source": [
        "### Attention layer"
      ]
    },
    {
      "cell_type": "code",
      "metadata": {
        "id": "2OmYm1RqFzQb"
      },
      "source": [
        "class Attention(nn.Module):\n",
        "  def __init__(self, enc_hid_dim, dec_hid_dim):\n",
        "    super(Attention, self).__init__()\n",
        "    self.attn = nn.Linear((enc_hid_dim * 2) + dec_hid_dim, dec_hid_dim)\n",
        "    self.v = nn.Linear(dec_hid_dim, 1, bias = False)\n",
        "\n",
        "  def forward(self, hidden, encoder_outputs, mask):\n",
        "    batch_size = encoder_outputs.shape[1]\n",
        "    src_len = encoder_outputs.shape[0]\n",
        "    # repeat decoder hidden state src_len times\n",
        "    hidden = hidden.unsqueeze(1).repeat(1, src_len, 1)\n",
        "    encoder_outputs = encoder_outputs.permute(1, 0, 2)\n",
        "    energy = torch.tanh(self.attn(torch.cat((hidden, encoder_outputs), dim = 2))) # energy = [batch size, src len, dec hid dim]\n",
        "    attention = self.v(energy).squeeze(2) # attention= [batch size, src len]\n",
        "    attention = attention.masked_fill(mask == 0, -1e10)\n",
        "    return F.softmax(attention, dim=1)"
      ],
      "execution_count": 17,
      "outputs": []
    },
    {
      "cell_type": "markdown",
      "metadata": {
        "id": "RSjmJGR7GNYw"
      },
      "source": [
        "### Decoder"
      ]
    },
    {
      "cell_type": "code",
      "metadata": {
        "id": "OaAyWZ23FzM8"
      },
      "source": [
        "class Decoder(nn.Module):\n",
        "  def __init__(self, output_dim, emb_dim, enc_hid_dim, dec_hid_dim, dropout, attention):\n",
        "    super(Decoder, self).__init__()\n",
        "    self.output_dim = output_dim\n",
        "    self.attention = attention\n",
        "\n",
        "    self.embedding = nn.Embedding(output_dim, emb_dim)\n",
        "    self.gru = nn.GRU((enc_hid_dim * 2) + emb_dim, dec_hid_dim)\n",
        "    self.fc = nn.Linear((enc_hid_dim * 2) + dec_hid_dim + emb_dim, output_dim)\n",
        "    self.dropout = nn.Dropout(dropout)\n",
        "        \n",
        "  def forward(self, input, hidden, encoder_outputs, mask):\n",
        "    input = input.unsqueeze(0) # input = [1, batch size]\n",
        "    embedded = self.dropout(self.embedding(input)) # embedded = [1, batch size, emb dim]\n",
        "    a = self.attention(hidden, encoder_outputs, mask)# a = [batch size, src len]\n",
        "    a = a.unsqueeze(1) # a = [batch size, 1, src len]\n",
        "    encoder_outputs = encoder_outputs.permute(1, 0, 2) # encoder_outputs = [batch size, src len, enc hid dim * 2]\n",
        "    weighted = torch.bmm(a, encoder_outputs) # weighted = [batch size, 1, enc hid dim * 2]\n",
        "    weighted = weighted.permute(1, 0, 2) # weighted = [1, batch size, enc hid dim * 2]\n",
        "    rnn_input = torch.cat((embedded, weighted), dim = 2) # rnn_input = [1, batch size, (enc hid dim * 2) + emb dim]\n",
        "    output, hidden = self.gru(rnn_input, hidden.unsqueeze(0))\n",
        "    \n",
        "    assert (output == hidden).all()\n",
        "    embedded = embedded.squeeze(0)\n",
        "    output = output.squeeze(0)\n",
        "    weighted = weighted.squeeze(0)\n",
        "\n",
        "    prediction = self.fc(torch.cat((output, weighted, embedded), dim = 1)) # prediction = [batch size, output dim]\n",
        "    return prediction, hidden.squeeze(0), a.squeeze(1)"
      ],
      "execution_count": 18,
      "outputs": []
    },
    {
      "cell_type": "markdown",
      "metadata": {
        "id": "t-qVR5xRGRVk"
      },
      "source": [
        "### Seq2Seq"
      ]
    },
    {
      "cell_type": "code",
      "metadata": {
        "id": "CoAeQlHBFzKU"
      },
      "source": [
        "class Seq2Seq(nn.Module):\n",
        "  def __init__(self, encoder, decoder, src_pad_idx, device):\n",
        "    super().__init__()\n",
        "    self.encoder = encoder\n",
        "    self.decoder = decoder\n",
        "    self.device = device\n",
        "    self.src_pad_idx = src_pad_idx\n",
        "  \n",
        "  def create_mask(self, src):\n",
        "    mask = (src != self.src_pad_idx).permute(1, 0)\n",
        "    return mask\n",
        "  def forward(self, src, src_len, trg, teacher_forcing_ratio = 0.5):\n",
        "    \"\"\"\n",
        "    src = [src len, batch size]\n",
        "    src_len = [batch size]\n",
        "    trg = [trg len, batch size]\n",
        "    teacher_forcing_ratio is probability to use teacher forcing\n",
        "    e.g. if teacher_forcing_ratio is 0.75 we use teacher forcing 75% of the time\n",
        "    \"\"\"\n",
        "    trg_len, batch_size = trg.shape\n",
        "    trg_vocab_size = self.decoder.output_dim\n",
        "        \n",
        "    # tensor to store decoder outputs\n",
        "    outputs = torch.zeros(trg_len, batch_size, trg_vocab_size).to(self.device)\n",
        "    \"\"\"\n",
        "    encoder_outputs is all hidden states of the input sequence, back and forwards\n",
        "    hidden is the final forward and backward hidden states, passed through a linear layer\n",
        "    \"\"\"\n",
        "    encoder_outputs, hidden = self.encoder(src, src_len)     \n",
        "    # first input to the decoder is the <sos> tokens\n",
        "    input = trg[0,:]\n",
        "    mask = self.create_mask(src) # mask = [batch size, src len]\n",
        "    for t in range(1, trg_len):\n",
        "      # insert input token embedding, previous hidden state and all encoder hidden states and mask\n",
        "      # receive output tensor (predictions) and new hidden state\n",
        "      output, hidden, _ = self.decoder(input, hidden, encoder_outputs, mask)\n",
        "      \n",
        "      # place predictions in a tensor holding predictions for each token\n",
        "      outputs[t] = output\n",
        "      \n",
        "      # decide if we are going to use teacher forcing or not\n",
        "      teacher_force = random.random() < teacher_forcing_ratio\n",
        "      \n",
        "      # get the highest predicted token from our predictions\n",
        "      top1 = output.argmax(1) \n",
        "      \n",
        "      # if teacher forcing, use actual next token as next input\n",
        "      # if not, use predicted token\n",
        "      input = trg[t] if teacher_force else top1\n",
        "    return outputs"
      ],
      "execution_count": 19,
      "outputs": []
    },
    {
      "cell_type": "markdown",
      "metadata": {
        "id": "HM_HJNl5GWTa"
      },
      "source": [
        "### Model Instance"
      ]
    },
    {
      "cell_type": "code",
      "metadata": {
        "colab": {
          "base_uri": "https://localhost:8080/"
        },
        "id": "we_BoyRMGV0t",
        "outputId": "d8822ffc-2787-4cd8-91e4-7fafb8132965"
      },
      "source": [
        "INPUT_DIM = len(SRC.vocab)\n",
        "OUTPUT_DIM = len(TRG.vocab)\n",
        "ENC_EMB_DIM = DEC_EMB_DIM = 256\n",
        "ENC_HID_DIM = DEC_HID_DIM = 128\n",
        "ENC_DROPOUT = DEC_DROPOUT = 0.5\n",
        "SRC_PAD_IDX = SRC.vocab.stoi[SRC.pad_token]\n",
        "\n",
        "attn = Attention(ENC_HID_DIM, DEC_HID_DIM)\n",
        "enc = Encoder(INPUT_DIM, ENC_EMB_DIM, ENC_HID_DIM, DEC_HID_DIM, ENC_DROPOUT)\n",
        "dec = Decoder(OUTPUT_DIM, DEC_EMB_DIM, ENC_HID_DIM, DEC_HID_DIM, DEC_DROPOUT, attn)\n",
        "\n",
        "model = Seq2Seq(enc, dec, SRC_PAD_IDX, device).to(device)\n",
        "model"
      ],
      "execution_count": 31,
      "outputs": [
        {
          "output_type": "execute_result",
          "data": {
            "text/plain": [
              "Seq2Seq(\n",
              "  (encoder): Encoder(\n",
              "    (embedding): Embedding(20572, 256)\n",
              "    (gru): GRU(256, 128, bidirectional=True)\n",
              "    (fc): Linear(in_features=256, out_features=128, bias=True)\n",
              "    (dropout): Dropout(p=0.5, inplace=False)\n",
              "  )\n",
              "  (decoder): Decoder(\n",
              "    (attention): Attention(\n",
              "      (attn): Linear(in_features=384, out_features=128, bias=True)\n",
              "      (v): Linear(in_features=128, out_features=1, bias=False)\n",
              "    )\n",
              "    (embedding): Embedding(11667, 256)\n",
              "    (gru): GRU(512, 128)\n",
              "    (fc): Linear(in_features=640, out_features=11667, bias=True)\n",
              "    (dropout): Dropout(p=0.5, inplace=False)\n",
              "  )\n",
              ")"
            ]
          },
          "metadata": {},
          "execution_count": 31
        }
      ]
    },
    {
      "cell_type": "markdown",
      "metadata": {
        "id": "5ZXdE7DzGjiS"
      },
      "source": [
        "### Initializing model weights"
      ]
    },
    {
      "cell_type": "code",
      "metadata": {
        "colab": {
          "base_uri": "https://localhost:8080/"
        },
        "id": "-SWSkyg7Gfsq",
        "outputId": "af34f132-9174-407b-d600-ea0d27f1d073"
      },
      "source": [
        "def init_weights(m):\n",
        "  for name, param in m.named_parameters():\n",
        "    if 'weight' in name:\n",
        "        nn.init.normal_(param.data, mean=0, std=0.01)\n",
        "    else:\n",
        "        nn.init.constant_(param.data, 0)   \n",
        "model.apply(init_weights)"
      ],
      "execution_count": 32,
      "outputs": [
        {
          "output_type": "execute_result",
          "data": {
            "text/plain": [
              "Seq2Seq(\n",
              "  (encoder): Encoder(\n",
              "    (embedding): Embedding(20572, 256)\n",
              "    (gru): GRU(256, 128, bidirectional=True)\n",
              "    (fc): Linear(in_features=256, out_features=128, bias=True)\n",
              "    (dropout): Dropout(p=0.5, inplace=False)\n",
              "  )\n",
              "  (decoder): Decoder(\n",
              "    (attention): Attention(\n",
              "      (attn): Linear(in_features=384, out_features=128, bias=True)\n",
              "      (v): Linear(in_features=128, out_features=1, bias=False)\n",
              "    )\n",
              "    (embedding): Embedding(11667, 256)\n",
              "    (gru): GRU(512, 128)\n",
              "    (fc): Linear(in_features=640, out_features=11667, bias=True)\n",
              "    (dropout): Dropout(p=0.5, inplace=False)\n",
              "  )\n",
              ")"
            ]
          },
          "metadata": {},
          "execution_count": 32
        }
      ]
    },
    {
      "cell_type": "markdown",
      "metadata": {
        "id": "2aP-7tBOGm6i"
      },
      "source": [
        "### Counting model parameters"
      ]
    },
    {
      "cell_type": "code",
      "metadata": {
        "colab": {
          "base_uri": "https://localhost:8080/"
        },
        "id": "eS_1Ry7NGloi",
        "outputId": "ee55a7fd-afb8-4362-d9de-bbdacef37aca"
      },
      "source": [
        "def count_trainable_params(model):\n",
        "  return sum(p.numel() for p in model.parameters()), sum(p.numel() for p in model.parameters() if p.requires_grad)\n",
        "\n",
        "n_params, trainable_params = count_trainable_params(model)\n",
        "print(f\"Total number of paramaters: {n_params:,}\\nTotal tainable parameters: {trainable_params:,}\")"
      ],
      "execution_count": 33,
      "outputs": [
        {
          "output_type": "stream",
          "name": "stdout",
          "text": [
            "Total number of paramaters: 16,357,011\n",
            "Total tainable parameters: 16,357,011\n"
          ]
        }
      ]
    },
    {
      "cell_type": "markdown",
      "metadata": {
        "id": "CfSyGvC2GttC"
      },
      "source": [
        "### Optimizer and Criterion"
      ]
    },
    {
      "cell_type": "code",
      "metadata": {
        "id": "gGrH0CLDGs32"
      },
      "source": [
        "optimizer = torch.optim.Adam(model.parameters())\n",
        "TRG_PAD_IDX = TRG.vocab.stoi[TRG.pad_token]\n",
        "criterion = nn.CrossEntropyLoss(ignore_index = TRG_PAD_IDX).to(device)"
      ],
      "execution_count": 34,
      "outputs": []
    },
    {
      "cell_type": "markdown",
      "metadata": {
        "id": "d91BG__RG8-K"
      },
      "source": [
        "### Train and evaluation functions"
      ]
    },
    {
      "cell_type": "code",
      "metadata": {
        "id": "bm6H4IsCG418"
      },
      "source": [
        "def train(model, iterator, optimizer, criterion, clip):\n",
        "    model.train()\n",
        "    epoch_loss = 0\n",
        "    for i, batch in enumerate(iterator):\n",
        "        src, src_len = batch.src\n",
        "        src = src.to(device)\n",
        "        src_len = src_len.to(device)\n",
        "        trg = batch.trg\n",
        "        trg = trg.to(device)\n",
        "        optimizer.zero_grad()\n",
        "        output = model(src, src_len, trg)\n",
        "        \"\"\"\n",
        "        trg = [trg len, batch size]\n",
        "        output = [trg len, batch size, output dim]\n",
        "        \"\"\"\n",
        "        output_dim = output.shape[-1]\n",
        "        output = output[1:].view(-1, output_dim)\n",
        "        trg = trg[1:].view(-1)\n",
        "        \"\"\"\n",
        "        trg = [(trg len - 1) * batch size]\n",
        "        output = [(trg len - 1) * batch size, output dim]\n",
        "        \"\"\"\n",
        "        loss = criterion(output, trg)\n",
        "        loss.backward()\n",
        "        torch.nn.utils.clip_grad_norm_(model.parameters(), clip)\n",
        "        optimizer.step()\n",
        "        epoch_loss += loss.item()\n",
        "    return epoch_loss / len(iterator)\n",
        "\n",
        "def evaluate(model, iterator, criterion):\n",
        "    model.eval()\n",
        "    epoch_loss = 0\n",
        "    with torch.no_grad():\n",
        "      for i, batch in enumerate(iterator):\n",
        "          src, src_len = batch.src\n",
        "          src = src.to(device)\n",
        "          src_len = src_len.to(device)\n",
        "          trg = batch.trg\n",
        "          trg = trg.to(device)\n",
        "          optimizer.zero_grad()\n",
        "          output = model(src, src_len, trg, 0) ## Turn off the teacher forcing ratio.\n",
        "          \"\"\"\n",
        "          trg = [trg len, batch size]\n",
        "          output = [trg len, batch size, output dim]\n",
        "          \"\"\"\n",
        "          output_dim = output.shape[-1]\n",
        "          output = output[1:].view(-1, output_dim)\n",
        "          trg = trg[1:].view(-1)\n",
        "          \"\"\"\n",
        "          trg = [(trg len - 1) * batch size]\n",
        "          output = [(trg len - 1) * batch size, output dim]\n",
        "          \"\"\"\n",
        "          loss =  criterion(output, trg)\n",
        "          epoch_loss += loss.item()\n",
        "    return epoch_loss / len(iterator)"
      ],
      "execution_count": 35,
      "outputs": []
    },
    {
      "cell_type": "markdown",
      "metadata": {
        "id": "oEk9u5G5HDqj"
      },
      "source": [
        "### Train loop"
      ]
    },
    {
      "cell_type": "code",
      "metadata": {
        "id": "OiFAfwk_HAca"
      },
      "source": [
        "def epoch_time(start_time, end_time):\n",
        "  elapsed_time = end_time - start_time\n",
        "  elapsed_mins = int(elapsed_time / 60)\n",
        "  elapsed_secs = int(elapsed_time - (elapsed_mins * 60))\n",
        "  return elapsed_mins, elapsed_secs"
      ],
      "execution_count": 36,
      "outputs": []
    },
    {
      "cell_type": "code",
      "metadata": {
        "colab": {
          "base_uri": "https://localhost:8080/"
        },
        "id": "trWJdt4FHE7O",
        "outputId": "e999b7e6-9c29-4810-c87a-3502eec3d555"
      },
      "source": [
        "N_EPOCHS = 10\n",
        "CLIP = 1\n",
        "best_valid_loss = float('inf')\n",
        "for epoch in range(N_EPOCHS):\n",
        "  start_time = time.time()\n",
        "  train_loss = train(model, train_iterator, optimizer, criterion, CLIP)\n",
        "  valid_loss = evaluate(model, valid_iterator, criterion)\n",
        "  end_time = time.time()\n",
        "  epoch_mins, epoch_secs = epoch_time(start_time, end_time)\n",
        "  if valid_loss < best_valid_loss:\n",
        "      best_valid_loss = valid_loss\n",
        "      torch.save(model.state_dict(), 'best-model.pt')\n",
        "  \n",
        "  print(f'Epoch: {epoch+1:02} | Time: {epoch_mins}m {epoch_secs}s')\n",
        "  print(f'\\tTrain Loss: {train_loss:.3f} | Train PPL: {math.exp(train_loss):7.3f}')\n",
        "  print(f'\\t Val. Loss: {valid_loss:.3f} |  Val. PPL: {math.exp(valid_loss):7.3f}')"
      ],
      "execution_count": 37,
      "outputs": [
        {
          "output_type": "stream",
          "name": "stdout",
          "text": [
            "Epoch: 01 | Time: 5m 39s\n",
            "\tTrain Loss: 3.697 | Train PPL:  40.324\n",
            "\t Val. Loss: 3.032 |  Val. PPL:  20.731\n",
            "Epoch: 02 | Time: 5m 37s\n",
            "\tTrain Loss: 2.195 | Train PPL:   8.983\n",
            "\t Val. Loss: 2.364 |  Val. PPL:  10.635\n",
            "Epoch: 03 | Time: 5m 37s\n",
            "\tTrain Loss: 1.701 | Train PPL:   5.480\n",
            "\t Val. Loss: 2.155 |  Val. PPL:   8.628\n",
            "Epoch: 04 | Time: 5m 37s\n",
            "\tTrain Loss: 1.479 | Train PPL:   4.390\n",
            "\t Val. Loss: 2.054 |  Val. PPL:   7.800\n",
            "Epoch: 05 | Time: 5m 36s\n",
            "\tTrain Loss: 1.352 | Train PPL:   3.864\n",
            "\t Val. Loss: 1.986 |  Val. PPL:   7.288\n",
            "Epoch: 06 | Time: 5m 38s\n",
            "\tTrain Loss: 1.260 | Train PPL:   3.526\n",
            "\t Val. Loss: 1.975 |  Val. PPL:   7.210\n",
            "Epoch: 07 | Time: 5m 38s\n",
            "\tTrain Loss: 1.190 | Train PPL:   3.288\n",
            "\t Val. Loss: 1.938 |  Val. PPL:   6.947\n",
            "Epoch: 08 | Time: 5m 36s\n",
            "\tTrain Loss: 1.136 | Train PPL:   3.115\n",
            "\t Val. Loss: 1.920 |  Val. PPL:   6.821\n",
            "Epoch: 09 | Time: 5m 34s\n",
            "\tTrain Loss: 1.092 | Train PPL:   2.980\n",
            "\t Val. Loss: 1.943 |  Val. PPL:   6.976\n",
            "Epoch: 10 | Time: 5m 34s\n",
            "\tTrain Loss: 1.067 | Train PPL:   2.907\n",
            "\t Val. Loss: 1.914 |  Val. PPL:   6.783\n"
          ]
        }
      ]
    },
    {
      "cell_type": "markdown",
      "metadata": {
        "id": "i7NquEMrHMKL"
      },
      "source": [
        "### Evaluating the best model."
      ]
    },
    {
      "cell_type": "code",
      "metadata": {
        "colab": {
          "base_uri": "https://localhost:8080/"
        },
        "id": "_c4Q6BDpHHxt",
        "outputId": "8c748bcb-ff01-4ddf-899d-1ae8537b2fd1"
      },
      "source": [
        "model.load_state_dict(torch.load('best-model.pt'))\n",
        "test_loss = evaluate(model, test_iterator, criterion)\n",
        "print(f'| Test Loss: {test_loss:.3f} | Test PPL: {math.exp(test_loss):7.3f} |')"
      ],
      "execution_count": 38,
      "outputs": [
        {
          "output_type": "stream",
          "name": "stdout",
          "text": [
            "| Test Loss: 2.024 | Test PPL:   7.567 |\n"
          ]
        }
      ]
    },
    {
      "cell_type": "markdown",
      "metadata": {
        "id": "5B7knEYsHR1b"
      },
      "source": [
        "### Model inference"
      ]
    },
    {
      "cell_type": "code",
      "metadata": {
        "id": "GII4XGKFHTUh"
      },
      "source": [
        "import de_core_news_sm\n",
        "def translate_sentence(sent, src_field, trg_field, mdoel, device, max_len=50):\n",
        "  model.eval()\n",
        "\n",
        "  if isinstance(sent, str):\n",
        "    nlp = de_core_news_sm.load()\n",
        "    tokens = [token.text.lower() for token in nlp(sent)]\n",
        "  else:\n",
        "    tokens = [token.lower() for token in sent]\n",
        "  \n",
        "  tokens = [src_field.init_token] + tokens + [src_field.eos_token]\n",
        "  src_indexes = [src_field.vocab.stoi[token] for token in tokens]\n",
        "  src_tensor = torch.LongTensor(src_indexes).unsqueeze(1).to(device)\n",
        "  src_len = torch.LongTensor([len(src_indexes)])\n",
        "\n",
        "  with torch.no_grad():\n",
        "    encoder_outputs, hidden = model.encoder(src_tensor, src_len)\n",
        "\n",
        "  mask = model.create_mask(src_tensor)\n",
        "  trg_indexes = [trg_field.vocab.stoi[trg_field.init_token]]\n",
        "  attentions = torch.zeros(max_len, 1, len(src_indexes)).to(device)\n",
        "\n",
        "  for i in range(max_len):\n",
        "    trg_tensor = torch.LongTensor([trg_indexes[-1]]).to(device)\n",
        "    with torch.no_grad():\n",
        "      output, hidden, attention = model.decoder(trg_tensor, hidden, encoder_outputs, mask)\n",
        "\n",
        "    attentions[i] = attention\n",
        "    pred_token = output.argmax(1).item()\n",
        "    trg_indexes.append(pred_token)\n",
        "\n",
        "    if pred_token == trg_field.vocab.stoi[trg_field.eos_token]:\n",
        "       break\n",
        "  trg_tokens = [trg_field.vocab.itos[i] for i in trg_indexes]\n",
        "  return trg_tokens[1:], attentions[:len(trg_tokens)-1]"
      ],
      "execution_count": 39,
      "outputs": []
    },
    {
      "cell_type": "markdown",
      "metadata": {
        "id": "FNUBNRwRHdih"
      },
      "source": [
        "### Model visualization"
      ]
    },
    {
      "cell_type": "code",
      "metadata": {
        "id": "PhnGU_vnHgUA"
      },
      "source": [
        "import matplotlib.ticker as ticker\n",
        "def display_attention(sentence, translation, attention):\n",
        "    \n",
        "    fig = plt.figure(figsize=(10,10))\n",
        "    ax = fig.add_subplot(111)\n",
        "    \n",
        "    attention = attention.squeeze(1).cpu().detach().numpy()\n",
        "    \n",
        "    cax = ax.matshow(attention, cmap='bone')\n",
        "   \n",
        "    ax.tick_params(labelsize=15)\n",
        "    \n",
        "    x_ticks = [''] + ['<sos>'] + [t.lower() for t in sentence] + ['<eos>']\n",
        "    y_ticks = [''] + translation\n",
        "     \n",
        "    ax.set_xticklabels(x_ticks, rotation=45)\n",
        "    ax.set_yticklabels(y_ticks)\n",
        "\n",
        "    ax.xaxis.set_major_locator(ticker.MultipleLocator(1))\n",
        "    ax.yaxis.set_major_locator(ticker.MultipleLocator(1))\n",
        "\n",
        "    plt.show()\n",
        "    plt.close()"
      ],
      "execution_count": 40,
      "outputs": []
    },
    {
      "cell_type": "markdown",
      "metadata": {
        "id": "aQ8fShxrTBer"
      },
      "source": [
        "### Getting a single example in the train set"
      ]
    },
    {
      "cell_type": "code",
      "metadata": {
        "colab": {
          "base_uri": "https://localhost:8080/"
        },
        "id": "4HTSX18WHikk",
        "outputId": "13817ab8-2fd0-453c-9c37-d4c96cf602a4"
      },
      "source": [
        "example_idx = 0\n",
        "src = vars(train_data.examples[example_idx])['src']\n",
        "trg = vars(train_data.examples[example_idx])['trg']\n",
        "print(f'src = {src}')\n",
        "print(f'trg = {trg}')"
      ],
      "execution_count": 41,
      "outputs": [
        {
          "output_type": "stream",
          "name": "stdout",
          "text": [
            "src = ['du', 'solltest', 'es', 'tun', '.']\n",
            "trg = ['you', 'should', 'do', 'it', '.']\n"
          ]
        }
      ]
    },
    {
      "cell_type": "code",
      "metadata": {
        "colab": {
          "base_uri": "https://localhost:8080/"
        },
        "id": "jzrLiz8RHnF9",
        "outputId": "0f9a8ca1-7e01-4bf3-ae0d-28f4d94401a2"
      },
      "source": [
        "tokens, attention = translate_sentence(src,  SRC, TRG, model, device)\n",
        "print(tokens)\n",
        "tokens, attention = translate_sentence(\"zwei junge\",  SRC, TRG, model, device)\n",
        "print(tokens)"
      ],
      "execution_count": 42,
      "outputs": [
        {
          "output_type": "stream",
          "name": "stdout",
          "text": [
            "['you', 'should', 'do', 'it', '.', '<eos>']\n",
            "['two', 'boy', 'boy', '.', '<eos>']\n"
          ]
        }
      ]
    },
    {
      "cell_type": "code",
      "metadata": {
        "colab": {
          "base_uri": "https://localhost:8080/",
          "height": 634
        },
        "id": "r9oCnqqnHnC2",
        "outputId": "3219ac67-9756-4141-ac1c-d927e578d446"
      },
      "source": [
        "display_attention(src, tokens, attention)"
      ],
      "execution_count": 43,
      "outputs": [
        {
          "output_type": "display_data",
          "data": {
            "image/png": "[encoded data removed]",
            "text/plain": [
              "<Figure size 720x720 with 1 Axes>"
            ]
          },
          "metadata": {
            "needs_background": "light"
          }
        }
      ]
    },
    {
      "cell_type": "markdown",
      "metadata": {
        "id": "n7buoC6OTGJa"
      },
      "source": [
        "### Getting a single example in the valid set"
      ]
    },
    {
      "cell_type": "code",
      "metadata": {
        "colab": {
          "base_uri": "https://localhost:8080/"
        },
        "id": "Aj7jtLnfHnAh",
        "outputId": "49153e63-6cb1-403d-bf88-49a43fb663a5"
      },
      "source": [
        "example_idx = 14\n",
        "src = vars(valid_data.examples[example_idx])['src']\n",
        "trg = vars(valid_data.examples[example_idx])['trg']\n",
        "print(f'src = {src}')\n",
        "print(f'trg = {trg}')"
      ],
      "execution_count": 44,
      "outputs": [
        {
          "output_type": "stream",
          "name": "stdout",
          "text": [
            "src = ['sind', 'sie', 'ein', 'religiöser', 'mensch', '?']\n",
            "trg = ['are', 'you', 'a', 'religious', 'person', '?']\n"
          ]
        }
      ]
    },
    {
      "cell_type": "code",
      "metadata": {
        "colab": {
          "base_uri": "https://localhost:8080/",
          "height": 607
        },
        "id": "IZ67fapYHm-X",
        "outputId": "b304a244-3fac-48fe-cde3-232bc4f116a9"
      },
      "source": [
        "translation, attention = translate_sentence(src, SRC, TRG, model, device)\n",
        "print(f'predicted trg = {translation}')\n",
        "display_attention(src, translation, attention)"
      ],
      "execution_count": 45,
      "outputs": [
        {
          "output_type": "stream",
          "name": "stdout",
          "text": [
            "predicted trg = ['are', 'you', 'a', 'religious', 'person', '?', '<eos>']\n"
          ]
        },
        {
          "output_type": "display_data",
          "data": {
            "image/png": "[encoded data removed]",
            "text/plain": [
              "<Figure size 720x720 with 1 Axes>"
            ]
          },
          "metadata": {
            "needs_background": "light"
          }
        }
      ]
    },
    {
      "cell_type": "markdown",
      "metadata": {
        "id": "KFGoTRbdTLNy"
      },
      "source": [
        "### Getting a single example in the test set"
      ]
    },
    {
      "cell_type": "code",
      "metadata": {
        "colab": {
          "base_uri": "https://localhost:8080/"
        },
        "id": "kdTJwXRsHm8h",
        "outputId": "59b801fa-4f92-4c97-acbe-9bdb31054ab2"
      },
      "source": [
        "example_idx = 18\n",
        "src = vars(test_data.examples[example_idx])['src']\n",
        "trg = vars(test_data.examples[example_idx])['trg']\n",
        "print(f'src = {src}')\n",
        "print(f'trg = {trg}')"
      ],
      "execution_count": 46,
      "outputs": [
        {
          "output_type": "stream",
          "name": "stdout",
          "text": [
            "src = ['die', 'wellen', 'verschlangen', 'das', 'boot', '.']\n",
            "trg = ['the', 'waves', 'swallowed', 'up', 'the', 'boat', '.']\n"
          ]
        }
      ]
    },
    {
      "cell_type": "code",
      "metadata": {
        "colab": {
          "base_uri": "https://localhost:8080/",
          "height": 629
        },
        "id": "FoV9N1VuHm4A",
        "outputId": "70c1cd2a-2674-4272-f63c-c694883ca416"
      },
      "source": [
        "translation, attention = translate_sentence(src, SRC, TRG, model, device)\n",
        "print(f'predicted trg = {translation}')\n",
        "display_attention(src, translation, attention)"
      ],
      "execution_count": 47,
      "outputs": [
        {
          "output_type": "stream",
          "name": "stdout",
          "text": [
            "predicted trg = ['the', 'waves', 'crashed', 'the', 'boat', '.', '<eos>']\n"
          ]
        },
        {
          "output_type": "display_data",
          "data": {
            "image/png": "[encoded data removed]",
            "text/plain": [
              "<Figure size 720x720 with 1 Axes>"
            ]
          },
          "metadata": {
            "needs_background": "light"
          }
        }
      ]
    },
    {
      "cell_type": "markdown",
      "metadata": {
        "id": "6pcwSjd7TQVq"
      },
      "source": [
        "### More translations"
      ]
    },
    {
      "cell_type": "code",
      "metadata": {
        "colab": {
          "base_uri": "https://localhost:8080/"
        },
        "id": "1lULC-pAHm1H",
        "outputId": "bc366ea1-435f-4770-f3fb-cfe8775e68af"
      },
      "source": [
        "def tabulate_translations(column_names, data, title, max_characters=25):\n",
        "  table = PrettyTable(column_names)\n",
        "  table.title= title\n",
        "  table.align[column_names[0]] = 'l'\n",
        "  table.align[column_names[1]] = 'l'\n",
        "  table.align[column_names[2]] = 'l'\n",
        "  table._max_width = {column_names[0] :max_characters, column_names[1] :max_characters, column_names[2]:max_characters}\n",
        "  for row in data:\n",
        "    table.add_row(row)\n",
        "  print(table)\n",
        "columns_names = [\n",
        "    \"German (real src sentence)\", \"English (the actual text)\", \"Translated (translated version)\"\n",
        "]\n",
        "title = \"GERMAN to ENGLISH TRANSLATOR\"\n",
        "\n",
        "def translation_table(src, SRC, TRG, model, device,columns_names, title,  max_characters=25,total_translations=10):\n",
        "  rows_data = []\n",
        "  for idx in range(total_translations):\n",
        "    src = vars(test_data.examples[idx])['src']\n",
        "    trg = vars(test_data.examples[idx])['trg']\n",
        "    trasl, _ = translate_sentence(src, SRC, TRG, model, device)\n",
        "    rows_data.append(\n",
        "        [\n",
        "        \" \".join(src),\n",
        "        \" \".join(trg),\n",
        "        \" \".join(trasl).replace('<eos>', '')\n",
        "        ], \n",
        "    )\n",
        "    if idx+1 != total_translations:\n",
        "      rows_data.append([\"-\" * max_characters, \"-\" * max_characters, \"-\" * max_characters ])\n",
        "\n",
        "  tabulate_translations(columns_names, rows_data, title, max_characters)\n",
        "translation_table(src, SRC, TRG, model, device,columns_names, title, max_characters=36)"
      ],
      "execution_count": 48,
      "outputs": [
        {
          "output_type": "stream",
          "name": "stdout",
          "text": [
            "+--------------------------------------------------------------------------------------------------------------------+\n",
            "|                                            GERMAN to ENGLISH TRANSLATOR                                            |\n",
            "+--------------------------------------+--------------------------------------+--------------------------------------+\n",
            "| German (real src sentence)           | English (the actual text)            | Translated (translated version)      |\n",
            "+--------------------------------------+--------------------------------------+--------------------------------------+\n",
            "| er brachte uns traurige nachrichten  | he brought us sad news .             | he brought us a news .               |\n",
            "| .                                    |                                      |                                      |\n",
            "| ------------------------------------ | ------------------------------------ | ------------------------------------ |\n",
            "| das mache ich nicht .                | i 'm not going to do that .          | i 'm not doing that .                |\n",
            "| ------------------------------------ | ------------------------------------ | ------------------------------------ |\n",
            "| ich verlasse mich auf dich .         | i am counting on you .               | i 'm counting on you .               |\n",
            "| ------------------------------------ | ------------------------------------ | ------------------------------------ |\n",
            "| tom schimpfte mit seinem sohn , weil | tom scolded his son for being late . | tom scolded his son because he was   |\n",
            "| dieser zu spät gekommen war .        |                                      | late .                               |\n",
            "| ------------------------------------ | ------------------------------------ | ------------------------------------ |\n",
            "| das sieht gut aus .                  | this looks good .                    | that looks good .                    |\n",
            "| ------------------------------------ | ------------------------------------ | ------------------------------------ |\n",
            "| mir war ziemlich schwindlig .        | i was very dizzy .                   | i was pretty dizzy .                 |\n",
            "| ------------------------------------ | ------------------------------------ | ------------------------------------ |\n",
            "| ich kenne dich nicht .               | i do n't know you .                  | i do n't know you .                  |\n",
            "| ------------------------------------ | ------------------------------------ | ------------------------------------ |\n",
            "| ich werde nie vergessen , was sie    | i 'll never forget what you 've done | i 'll never forget what you did .    |\n",
            "| für uns getan haben .                | for us .                             |                                      |\n",
            "| ------------------------------------ | ------------------------------------ | ------------------------------------ |\n",
            "| ich kann ihnen unmöglich helfen .    | it is impossible for me to help you  | i can impossible possibly help you . |\n",
            "|                                      | .                                    |                                      |\n",
            "| ------------------------------------ | ------------------------------------ | ------------------------------------ |\n",
            "| er fand mein fahrrad .               | he found my bike .                   | he found my bicycle .                |\n",
            "+--------------------------------------+--------------------------------------+--------------------------------------+\n"
          ]
        }
      ]
    },
    {
      "cell_type": "code",
      "metadata": {
        "id": "kQ1Zko8AHmyH"
      },
      "source": [
        ""
      ],
      "execution_count": null,
      "outputs": []
    },
    {
      "cell_type": "markdown",
      "metadata": {
        "id": "QmbZL-teHmYu"
      },
      "source": [
        "### The BLUE SCORE\n"
      ]
    },
    {
      "cell_type": "code",
      "metadata": {
        "id": "6rIM7N3cH-JG"
      },
      "source": [
        "from torchtext.data.metrics import bleu_score\n",
        "def calculate_bleu(data, src_field, trg_field, model, device, max_len = 50):\n",
        "    trgs = []\n",
        "    pred_trgs = []\n",
        "    for datum in data:\n",
        "        src = vars(datum)['src']\n",
        "        trg = vars(datum)['trg']\n",
        "        pred_trg, _ = translate_sentence(src, src_field, trg_field, model, device, max_len)\n",
        "        # cut off <eos> token\n",
        "        pred_trg = pred_trg[:-1]\n",
        "        pred_trgs.append(pred_trg)\n",
        "        trgs.append([trg])\n",
        "    return bleu_score(pred_trgs, trgs)"
      ],
      "execution_count": 49,
      "outputs": []
    },
    {
      "cell_type": "code",
      "metadata": {
        "colab": {
          "base_uri": "https://localhost:8080/"
        },
        "id": "PGaKWLBcIQ_R",
        "outputId": "0f27054e-e302-4482-be70-85ec4a2635ad"
      },
      "source": [
        "bleu_score = calculate_bleu(test_data, SRC, TRG, model, device)\n",
        "print(f'BLEU score = {bleu_score*100:.2f}')"
      ],
      "execution_count": 50,
      "outputs": [
        {
          "output_type": "stream",
          "name": "stdout",
          "text": [
            "BLEU score = 47.44\n"
          ]
        }
      ]
    },
    {
      "cell_type": "markdown",
      "metadata": {
        "id": "AWAB9VnbHmVh"
      },
      "source": [
        ""
      ]
    }
  ]
}