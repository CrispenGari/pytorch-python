{
 "cells": [
  {
   "cell_type": "markdown",
   "id": "awful-semiconductor",
   "metadata": {},
   "source": [
    "## Neral Networks In Pytorch\n",
    "* We're just going to use data from Pytorch's \"torchvision.\" Pytorch has a relatively handy inclusion of a bunch of different datasets, including many for vision tasks, which is what torchvision is for.\n",
    "> Let's visualise the datatets that we can find in `torchvision`"
   ]
  },
  {
   "cell_type": "markdown",
   "id": "visible-layer",
   "metadata": {},
   "source": [
    "## Imports"
   ]
  },
  {
   "cell_type": "code",
   "execution_count": 52,
   "id": "opponent-surface",
   "metadata": {},
   "outputs": [],
   "source": [
    "import torch\n",
    "import torchvision\n",
    "from torchvision import datasets, transforms\n",
    "from matplotlib import pyplot as plt\n",
    "import numpy as np"
   ]
  },
  {
   "cell_type": "markdown",
   "id": "fantastic-advance",
   "metadata": {},
   "source": [
    "> The datasets `dir`"
   ]
  },
  {
   "cell_type": "code",
   "execution_count": 6,
   "id": "engaged-hopkins",
   "metadata": {},
   "outputs": [
    {
     "name": "stdout",
     "output_type": "stream",
     "text": [
      "['CIFAR10', 'CIFAR100', 'Caltech101', 'Caltech256', 'CelebA', 'Cityscapes', 'CocoCaptions', 'CocoDetection', 'DatasetFolder', 'EMNIST', 'FakeData', 'FashionMNIST', 'Flickr30k', 'Flickr8k', 'HMDB51', 'ImageFolder', 'ImageNet', 'KMNIST', 'Kinetics400', 'LSUN', 'LSUNClass', 'MNIST', 'Omniglot', 'PhotoTour', 'Places365', 'QMNIST', 'SBDataset', 'SBU', 'SEMEION', 'STL10', 'SVHN', 'UCF101', 'USPS', 'VOCDetection', 'VOCSegmentation', 'VisionDataset', 'WIDERFace', '__all__', '__builtins__', '__cached__', '__doc__', '__file__', '__loader__', '__name__', '__package__', '__path__', '__spec__', 'caltech', 'celeba', 'cifar', 'cityscapes', 'coco', 'fakedata', 'flickr', 'folder', 'hmdb51', 'imagenet', 'kinetics', 'lsun', 'mnist', 'omniglot', 'phototour', 'places365', 'sbd', 'sbu', 'semeion', 'stl10', 'svhn', 'ucf101', 'usps', 'utils', 'video_utils', 'vision', 'voc', 'widerface']\n"
     ]
    },
    {
     "data": {
      "text/plain": [
       "(None, 75)"
      ]
     },
     "execution_count": 6,
     "metadata": {},
     "output_type": "execute_result"
    }
   ],
   "source": [
    "print(dir(datasets)), len(dir(datasets))"
   ]
  },
  {
   "cell_type": "markdown",
   "id": "victorian-samoa",
   "metadata": {},
   "source": [
    "> We have `75` items that we can work with in the torchvision dataset."
   ]
  },
  {
   "cell_type": "markdown",
   "id": "occupied-maryland",
   "metadata": {},
   "source": [
    "### The MNIST dataset"
   ]
  },
  {
   "cell_type": "markdown",
   "id": "annual-couple",
   "metadata": {},
   "source": [
    "The goal is to classify hand-written digits that comes from the `mnist` dataset as our `hello-world-neural-network`. This dataset contains images of handwritten digits from `0` to `9`"
   ]
  },
  {
   "cell_type": "markdown",
   "id": "pediatric-emergency",
   "metadata": {},
   "source": [
    "### Loading the data"
   ]
  },
  {
   "cell_type": "code",
   "execution_count": 14,
   "id": "pointed-documentation",
   "metadata": {},
   "outputs": [],
   "source": [
    "train = datasets.MNIST('', train=True, download=True,\n",
    "                      transform = transforms.Compose({\n",
    "                          transforms.ToTensor()\n",
    "                      }))\n",
    "test = datasets.MNIST('', train=False, download=True,\n",
    "                      transform = transforms.Compose({\n",
    "                          transforms.ToTensor()\n",
    "                      }))"
   ]
  },
  {
   "cell_type": "markdown",
   "id": "applicable-accountability",
   "metadata": {},
   "source": [
    "> From the above cell we are just downloading the datasets and then transform or preprocess it."
   ]
  },
  {
   "cell_type": "markdown",
   "id": "desirable-ukraine",
   "metadata": {},
   "source": [
    "> Now, we need to handle for how we're going to iterate over that dataset:"
   ]
  },
  {
   "cell_type": "code",
   "execution_count": 34,
   "id": "atmospheric-latino",
   "metadata": {},
   "outputs": [],
   "source": [
    "trainset = torch.utils.data.DataLoader(train, batch_size=10, shuffle=True)\n",
    "testset = torch.utils.data.DataLoader(test, batch_size=10, shuffle=False)"
   ]
  },
  {
   "cell_type": "markdown",
   "id": "typical-school",
   "metadata": {},
   "source": [
    "> **That was so brutal!! What is happening here?**\n",
    "\n",
    "**shuffle** - in ML normally we shuffle the data to mix it up so that the data will not have labels of the same type following each other.\n",
    "**batch_size** - this split our data in batches in our case a batch of `10` "
   ]
  },
  {
   "cell_type": "code",
   "execution_count": 33,
   "id": "found-telling",
   "metadata": {},
   "outputs": [
    {
     "name": "stdout",
     "output_type": "stream",
     "text": [
      "tensor([[[[0., 0., 0.,  ..., 0., 0., 0.],\n",
      "          [0., 0., 0.,  ..., 0., 0., 0.],\n",
      "          [0., 0., 0.,  ..., 0., 0., 0.],\n",
      "          ...,\n",
      "          [0., 0., 0.,  ..., 0., 0., 0.],\n",
      "          [0., 0., 0.,  ..., 0., 0., 0.],\n",
      "          [0., 0., 0.,  ..., 0., 0., 0.]]],\n",
      "\n",
      "\n",
      "        [[[0., 0., 0.,  ..., 0., 0., 0.],\n",
      "          [0., 0., 0.,  ..., 0., 0., 0.],\n",
      "          [0., 0., 0.,  ..., 0., 0., 0.],\n",
      "          ...,\n",
      "          [0., 0., 0.,  ..., 0., 0., 0.],\n",
      "          [0., 0., 0.,  ..., 0., 0., 0.],\n",
      "          [0., 0., 0.,  ..., 0., 0., 0.]]]]) tensor([7, 7])\n"
     ]
    },
    {
     "data": {
      "image/png": "[encoded data removed]",
      "text/plain": [
       "<Figure size 432x288 with 1 Axes>"
      ]
     },
     "metadata": {
      "needs_background": "light"
     },
     "output_type": "display_data"
    }
   ],
   "source": [
    "\n",
    "for data in trainset:\n",
    "    print(data[0][:2], data[1][:2])\n",
    "    plt.imshow(data[0][0].view(28, 28), cmap=\"gray\")\n",
    "    plt.show()\n",
    "    break"
   ]
  },
  {
   "cell_type": "markdown",
   "id": "adapted-tactics",
   "metadata": {},
   "source": [
    "### Creating a NN\n",
    "* Now we have our trainset and testset let's start creating a Neural Network."
   ]
  },
  {
   "cell_type": "code",
   "execution_count": 35,
   "id": "thorough-kentucky",
   "metadata": {},
   "outputs": [],
   "source": [
    "import torch.nn as nn\n",
    "import torch.nn.functional as F"
   ]
  },
  {
   "cell_type": "markdown",
   "id": "boring-parks",
   "metadata": {},
   "source": [
    "> The `torch.nn` import gives us access to some helpful neural network things, such as various neural network layer types like:\n",
    " **regular fully-connected layers**, **convolutional layers** ..etc\n",
    " \n",
    "> The `torch.nn.functional` area specifically gives us access to some handy functions that we might not want to write ourselves. We will be using the **`relu`** or \"rectified linear unit\" activation function for our neurons."
   ]
  },
  {
   "cell_type": "code",
   "execution_count": 36,
   "id": "polar-pension",
   "metadata": {},
   "outputs": [
    {
     "name": "stdout",
     "output_type": "stream",
     "text": [
      "Net()\n"
     ]
    }
   ],
   "source": [
    "class Net(nn.Module):\n",
    "    def __init__(self):\n",
    "        super().__init__()\n",
    "\n",
    "net = Net()\n",
    "print(net)"
   ]
  },
  {
   "cell_type": "markdown",
   "id": "enormous-guyana",
   "metadata": {},
   "source": [
    "> We have created a `Net` class which is inheriting from the `nn.Module` class."
   ]
  },
  {
   "cell_type": "code",
   "execution_count": 39,
   "id": "cubic-contemporary",
   "metadata": {},
   "outputs": [
    {
     "name": "stdout",
     "output_type": "stream",
     "text": [
      "Net(\n",
      "  (FC1): Linear(in_features=784, out_features=64, bias=True)\n",
      "  (FC2): Linear(in_features=64, out_features=64, bias=True)\n",
      "  (FC3): Linear(in_features=64, out_features=64, bias=True)\n",
      "  (FC4): Linear(in_features=64, out_features=10, bias=True)\n",
      ")\n"
     ]
    }
   ],
   "source": [
    "class Net(nn.Module):\n",
    "    def __init__(self):\n",
    "        super().__init__()\n",
    "        self.FC1 = nn.Linear(28*28, 64)\n",
    "        self.FC2 = nn.Linear(64, 64 )\n",
    "        self.FC3 = nn.Linear(64, 64)\n",
    "        self.FC4 = nn.Linear(64, 10)\n",
    "\n",
    "net = Net()\n",
    "print(net)"
   ]
  },
  {
   "cell_type": "markdown",
   "id": "unnecessary-tuesday",
   "metadata": {},
   "source": [
    "> Each of our `nn.Linear` layers expects the first parameter to be the input size, and the 2nd parameter is the output size. Note that the basic `Nural Network` expect a flattened array not a `28x28`. So at some point we must pass the flattened array.\n",
    "\n",
    "> The last layer **accepts 64 in_features and outputs 10** which is in our case the total number of unique labels.`"
   ]
  },
  {
   "cell_type": "markdown",
   "id": "racial-prescription",
   "metadata": {},
   "source": [
    "> Let's define a new method called `forward`"
   ]
  },
  {
   "cell_type": "code",
   "execution_count": 40,
   "id": "fifteen-emperor",
   "metadata": {},
   "outputs": [
    {
     "data": {
      "text/plain": [
       "Net(\n",
       "  (FC1): Linear(in_features=784, out_features=64, bias=True)\n",
       "  (FC2): Linear(in_features=64, out_features=64, bias=True)\n",
       "  (FC3): Linear(in_features=64, out_features=64, bias=True)\n",
       "  (FC4): Linear(in_features=64, out_features=10, bias=True)\n",
       ")"
      ]
     },
     "execution_count": 40,
     "metadata": {},
     "output_type": "execute_result"
    }
   ],
   "source": [
    "class Net(nn.Module):\n",
    "    def __init__(self):\n",
    "        super().__init__();\n",
    "        self.FC1 = nn.Linear(28 * 28, 64)\n",
    "        self.FC2 = nn.Linear(64, 64)\n",
    "        self.FC3 = nn.Linear(64, 64)\n",
    "        self.FC4 = nn.Linear(64, 10)\n",
    "    \n",
    "    def forward(self, X):\n",
    "        X = self.FC1(X)\n",
    "        X = self.FC2(X)\n",
    "        X = self.FC3(X)\n",
    "        X = self.FC4(X)\n",
    "        return X\n",
    "Net()"
   ]
  },
  {
   "cell_type": "markdown",
   "id": "ready-sailing",
   "metadata": {},
   "source": [
    "> So `X` in this case is our input data, we will pass this to the first `FC1` and the output will be passed down to the `FC2` up to the `FC4` **And also remember that our `X` is a flattened array.**\n",
    "**Wait** Our layers are missing activation functions. In this case we are going to use `relu` as our activation function for  other layers and `log_softmax` for the output layer."
   ]
  },
  {
   "cell_type": "code",
   "execution_count": 56,
   "id": "infrared-focus",
   "metadata": {},
   "outputs": [
    {
     "data": {
      "text/plain": [
       "8"
      ]
     },
     "execution_count": 56,
     "metadata": {},
     "output_type": "execute_result"
    }
   ],
   "source": [
    "class Net(nn.Module):\n",
    "    def __init__(self):\n",
    "        super().__init__()\n",
    "        self.FC1 = nn.Linear(28 * 28, 64)\n",
    "        self.FC2 = nn.Linear(64, 64)\n",
    "        self.FC3 = nn.Linear(64, 64)\n",
    "        self.FC4 = nn.Linear(64, 10)\n",
    "    \n",
    "    def forward(self, X):\n",
    "        X = F.relu(self.FC1(X))\n",
    "        X = F.relu(self.FC2(X))\n",
    "        X = F.relu(self.FC3(X))\n",
    "        X = F.log_softmax(self.FC4(X), dim=1)\n",
    "        return X\n",
    "    N\n",
    "\n",
    "X = torch.randn((28,28))\n",
    "\n",
    "X = X.view(-1, 28*28)\n",
    "net = Net()\n",
    "np.argmax(net(X).detach().numpy())"
   ]
  },
  {
   "cell_type": "markdown",
   "id": "occasional-holiday",
   "metadata": {},
   "source": [
    "### Training Our NN"
   ]
  },
  {
   "cell_type": "code",
   "execution_count": 57,
   "id": "convenient-nebraska",
   "metadata": {},
   "outputs": [
    {
     "data": {
      "text/plain": [
       "<generator object Module.parameters at 0x00000192D053A190>"
      ]
     },
     "execution_count": 57,
     "metadata": {},
     "output_type": "execute_result"
    }
   ],
   "source": [
    "net.parameters()"
   ]
  },
  {
   "cell_type": "code",
   "execution_count": 60,
   "id": "handled-beaver",
   "metadata": {},
   "outputs": [],
   "source": [
    "from torch import optim\n",
    "optimizer = optim.Adam(net.parameters(), lr=1e-3)"
   ]
  },
  {
   "cell_type": "markdown",
   "id": "tutorial-honey",
   "metadata": {},
   "source": [
    "**loss** - this function calcualetes how far are our classifiaction from reality.\n",
    "**For one hot vectors** - `mean_square_error` is better to use.\n",
    "**For scalar classifictaion** - `cross_entropy` is better to use.\n",
    "\n",
    "> [Loss Functions](https://pytorch.org/docs/stable/nn.html#loss-functions)\n",
    "\n",
    "**optimizer** - this is what adjust the model's adjustable parameters like weights. The one that is popular is `Adam` (**Adaptive Momentum**) which takes a `lr` which has a default value of `0.001 or 1e-3`. The learning rate dictates the magnitude of changes that the optimizer can make at a time"
   ]
  },
  {
   "cell_type": "markdown",
   "id": "legal-apache",
   "metadata": {},
   "source": [
    "> Now we can iterate over the data and see more about the **loss** we are going to define our `EPOCHS`\n",
    "too many epochs can result in the model `over-fitting` and too few epochs may result in the model `under-learning` the data."
   ]
  },
  {
   "cell_type": "code",
   "execution_count": 62,
   "id": "governmental-germany",
   "metadata": {},
   "outputs": [
    {
     "name": "stdout",
     "output_type": "stream",
     "text": [
      "EPOCHS 1/3\n",
      "tensor(0.0112, grad_fn=<NllLossBackward>)\n",
      "EPOCHS 2/3\n",
      "tensor(0.2175, grad_fn=<NllLossBackward>)\n",
      "EPOCHS 3/3\n",
      "tensor(0.2117, grad_fn=<NllLossBackward>)\n"
     ]
    }
   ],
   "source": [
    "EPOCHS = 3\n",
    "for epoch in range(EPOCHS):\n",
    "    print(f\"EPOCHS {epoch+1}/{EPOCHS }\")\n",
    "    for data in trainset:\n",
    "        X, y = data # a batch of 10 features and 10 labels\n",
    "        net.zero_grad() # sets gradients to 0 before loss calulated\n",
    "        output = net(X.view(-1,784)) ## pass the flattened image\n",
    "        \n",
    "        ## calculate the loss value\n",
    "        loss = F.nll_loss(output, y)\n",
    "        # apply this loss backwards thru the network's parameters\n",
    "        loss.backward() \n",
    "        # attempt to optimize weights to account for loss/gradients\n",
    "        optimizer.step()\n",
    "    print(loss)"
   ]
  },
  {
   "cell_type": "markdown",
   "id": "danish-blond",
   "metadata": {},
   "source": [
    "The `net.zero_grad()` is a very important step, otherwise these gradients will add up for every pass, and then we'll be re-optimizing for previous gradients that we already optimized for."
   ]
  },
  {
   "cell_type": "markdown",
   "id": "reverse-webster",
   "metadata": {},
   "source": [
    "### Calculating accuracy"
   ]
  },
  {
   "cell_type": "code",
   "execution_count": 63,
   "id": "associate-partition",
   "metadata": {},
   "outputs": [
    {
     "name": "stdout",
     "output_type": "stream",
     "text": [
      "Accuracy:  0.971\n"
     ]
    }
   ],
   "source": [
    "correct = 0\n",
    "total = 0\n",
    "\n",
    "with torch.no_grad():\n",
    "    for data in testset:\n",
    "        X, y = data\n",
    "        output = net(X.view(-1, 784))\n",
    "        \n",
    "        for i, j in enumerate(output):\n",
    "            if torch.argmax(j) == y[i]:\n",
    "                correct +=1\n",
    "            total += 1\n",
    "print(\"Accuracy: \", correct/total)"
   ]
  },
  {
   "cell_type": "markdown",
   "id": "automated-sample",
   "metadata": {},
   "source": [
    "> Our model is `97%` accurate on the `testset`"
   ]
  },
  {
   "cell_type": "code",
   "execution_count": 65,
   "id": "ongoing-treasurer",
   "metadata": {},
   "outputs": [
    {
     "name": "stdout",
     "output_type": "stream",
     "text": [
      "Accuracy:  0.9787666666666667\n"
     ]
    }
   ],
   "source": [
    "correct = 0\n",
    "total = 0\n",
    "\n",
    "with torch.no_grad():\n",
    "    for data in trainset:\n",
    "        X, y = data\n",
    "        output = net(X.view(-1, 784))\n",
    "        \n",
    "        for i, j in enumerate(output):\n",
    "            if torch.argmax(j) == y[i]:\n",
    "                correct +=1\n",
    "            total += 1\n",
    "print(\"Accuracy: \", correct/total)"
   ]
  },
  {
   "cell_type": "markdown",
   "id": "voluntary-heritage",
   "metadata": {},
   "source": [
    "> Our model is `98%` accurate on the trainset. Which is closer to `97%` which means we are not overfitting or underfitting the model. Our model is learning fine with `3` epochs."
   ]
  },
  {
   "cell_type": "markdown",
   "id": "suffering-stable",
   "metadata": {},
   "source": [
    "### Making Predictions"
   ]
  },
  {
   "cell_type": "code",
   "execution_count": 72,
   "id": "automated-walnut",
   "metadata": {},
   "outputs": [],
   "source": [
    "for X in trainset:\n",
    "    X, y = X\n",
    "    break"
   ]
  },
  {
   "cell_type": "code",
   "execution_count": 75,
   "id": "silver-pioneer",
   "metadata": {},
   "outputs": [
    {
     "data": {
      "text/plain": [
       "(<matplotlib.image.AxesImage at 0x192d04a7eb0>, tensor(3))"
      ]
     },
     "execution_count": 75,
     "metadata": {},
     "output_type": "execute_result"
    },
    {
     "data": {
      "image/png": "[encoded data removed]",
      "text/plain": [
       "<Figure size 432x288 with 1 Axes>"
      ]
     },
     "metadata": {
      "needs_background": "light"
     },
     "output_type": "display_data"
    }
   ],
   "source": [
    "plt.imshow(X[0].view(28,28), cmap=\"gray\"), y[0]"
   ]
  },
  {
   "cell_type": "code",
   "execution_count": 78,
   "id": "intense-marine",
   "metadata": {},
   "outputs": [
    {
     "data": {
      "text/plain": [
       "array(3, dtype=int64)"
      ]
     },
     "execution_count": 78,
     "metadata": {},
     "output_type": "execute_result"
    }
   ],
   "source": [
    "predictions  = net(X[0].view(-1, 28*28))\n",
    "torch.argmax(predictions).detach().numpy()"
   ]
  },
  {
   "cell_type": "markdown",
   "id": "demanding-gather",
   "metadata": {},
   "source": [
    "> The model is cool in predicting the digit `3`."
   ]
  },
  {
   "cell_type": "code",
   "execution_count": null,
   "id": "prerequisite-giving",
   "metadata": {},
   "outputs": [],
   "source": []
  }
 ],
 "metadata": {
  "kernelspec": {
   "display_name": "Python 3",
   "language": "python",
   "name": "python3"
  },
  "language_info": {
   "codemirror_mode": {
    "name": "ipython",
    "version": 3
   },
   "file_extension": ".py",
   "mimetype": "text/x-python",
   "name": "python",
   "nbconvert_exporter": "python",
   "pygments_lexer": "ipython3",
   "version": "3.8.5"
  }
 },
 "nbformat": 4,
 "nbformat_minor": 5
}
