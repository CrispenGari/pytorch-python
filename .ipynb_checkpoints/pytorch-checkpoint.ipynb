{
 "cells": [
  {
   "cell_type": "markdown",
   "id": "effective-reproduction",
   "metadata": {},
   "source": [
    "# Pytorch\n",
    "* Introduction to machine learning library based on the Torch library, used for applications such as computer vision and natural language processing, primarily developed by Facebook's AI Research lab"
   ]
  },
  {
   "cell_type": "markdown",
   "id": "classical-creature",
   "metadata": {},
   "source": [
    "## Installation"
   ]
  },
  {
   "cell_type": "code",
   "execution_count": 4,
   "id": "respective-committee",
   "metadata": {},
   "outputs": [
    {
     "name": "stdout",
     "output_type": "stream",
     "text": [
      "Looking in links: https://download.pytorch.org/whl/torch_stable.html\n",
      "Requirement already satisfied: torch==1.8.1+cpu in c:\\users\\crisp\\documents\\anaconda3\\lib\\site-packages (1.8.1+cpu)\n",
      "Requirement already satisfied: torchvision==0.9.1+cpu in c:\\users\\crisp\\documents\\anaconda3\\lib\\site-packages (0.9.1+cpu)\n",
      "Requirement already satisfied: torchaudio===0.8.1 in c:\\users\\crisp\\documents\\anaconda3\\lib\\site-packages (0.8.1)\n",
      "Requirement already satisfied: numpy in c:\\users\\crisp\\documents\\anaconda3\\lib\\site-packages (from torch==1.8.1+cpu) (1.19.5)\n",
      "Requirement already satisfied: typing-extensions in c:\\users\\crisp\\documents\\anaconda3\\lib\\site-packages (from torch==1.8.1+cpu) (3.7.4.3)\n",
      "Requirement already satisfied: pillow>=4.1.1 in c:\\users\\crisp\\documents\\anaconda3\\lib\\site-packages (from torchvision==0.9.1+cpu) (8.1.0)\n"
     ]
    }
   ],
   "source": [
    "!pip install torch==1.8.1+cpu torchvision==0.9.1+cpu torchaudio===0.8.1 -f https://download.pytorch.org/whl/torch_stable.html\n"
   ]
  },
  {
   "cell_type": "markdown",
   "id": "signal-gates",
   "metadata": {},
   "source": [
    "## 1. Touch\n",
    "* The torch package contains data structures for multi-dimensional tensors and defines mathematical operations over these tensors. \n",
    "* Additionally, it provides many utilities for efficient serializing of Tensors and arbitrary types, and other useful utilities."
   ]
  },
  {
   "cell_type": "code",
   "execution_count": 6,
   "id": "governmental-polls",
   "metadata": {},
   "outputs": [],
   "source": [
    "import torch\n",
    "import numpy as np\n",
    "from matplotlib import pyplot as plt"
   ]
  },
  {
   "cell_type": "code",
   "execution_count": 14,
   "id": "cleared-syracuse",
   "metadata": {},
   "outputs": [
    {
     "data": {
      "text/plain": [
       "tensor([4., 1., 4.])"
      ]
     },
     "execution_count": 14,
     "metadata": {},
     "output_type": "execute_result"
    }
   ],
   "source": [
    "# Creating tensors\n",
    "\n",
    "t = torch.tensor([4., 1, 4])\n",
    "t"
   ]
  },
  {
   "cell_type": "markdown",
   "id": "endangered-circuit",
   "metadata": {},
   "source": [
    "### touch methods"
   ]
  },
  {
   "cell_type": "markdown",
   "id": "valid-disease",
   "metadata": {},
   "source": [
    "#### 1.  TORCH.IS_TENSOR\n",
    "* checks if an object is a tensor or not"
   ]
  },
  {
   "cell_type": "code",
   "execution_count": 21,
   "id": "hungarian-empty",
   "metadata": {},
   "outputs": [
    {
     "name": "stdout",
     "output_type": "stream",
     "text": [
      "False\n"
     ]
    },
    {
     "data": {
      "text/plain": [
       "True"
      ]
     },
     "execution_count": 21,
     "metadata": {},
     "output_type": "execute_result"
    }
   ],
   "source": [
    "print(torch.is_tensor([9, 8, -7, 8]))\n",
    "torch.is_tensor(t)"
   ]
  },
  {
   "cell_type": "markdown",
   "id": "electronic-springer",
   "metadata": {},
   "source": [
    "#### 2. TORCH.IS_STORAGE\n",
    "* returns true if the pytorch tensor is an object else false"
   ]
  },
  {
   "cell_type": "code",
   "execution_count": 22,
   "id": "acceptable-glossary",
   "metadata": {},
   "outputs": [
    {
     "data": {
      "text/plain": [
       "False"
      ]
     },
     "execution_count": 22,
     "metadata": {},
     "output_type": "execute_result"
    }
   ],
   "source": [
    "torch.is_storage(t)"
   ]
  },
  {
   "cell_type": "markdown",
   "id": "manufactured-israel",
   "metadata": {},
   "source": [
    "#### 3. TORCH.IS_COMPLEX\n",
    "* Returns True if the data type of input is a complex data type i.e., one of torch.complex64, and torch.complex128."
   ]
  },
  {
   "cell_type": "code",
   "execution_count": 25,
   "id": "turned-seminar",
   "metadata": {},
   "outputs": [
    {
     "name": "stdout",
     "output_type": "stream",
     "text": [
      "True\n"
     ]
    },
    {
     "data": {
      "text/plain": [
       "False"
      ]
     },
     "execution_count": 25,
     "metadata": {},
     "output_type": "execute_result"
    }
   ],
   "source": [
    "c = torch.tensor([2, 5, 8, 9], dtype=torch.complex64)\n",
    "print(torch.is_complex(c))\n",
    "torch.is_complex(t)"
   ]
  },
  {
   "cell_type": "markdown",
   "id": "faced-following",
   "metadata": {},
   "source": [
    "#### 4.TORCH.IS_FLOATING_POINT\n",
    "* Returns True if the data type of input is a floating point data type i.e., one of torch.float64, torch.float32, torch.float16, and torch.bfloat16."
   ]
  },
  {
   "cell_type": "code",
   "execution_count": 27,
   "id": "vocational-ireland",
   "metadata": {},
   "outputs": [
    {
     "name": "stdout",
     "output_type": "stream",
     "text": [
      "False\n"
     ]
    },
    {
     "data": {
      "text/plain": [
       "True"
      ]
     },
     "execution_count": 27,
     "metadata": {},
     "output_type": "execute_result"
    }
   ],
   "source": [
    "print(torch.is_floating_point(torch.tensor([0, 6, 9])))\n",
    "torch.is_floating_point(t)"
   ]
  },
  {
   "cell_type": "markdown",
   "id": "breathing-lewis",
   "metadata": {},
   "source": [
    "#### 5. TORCH.IS_NONZERO\n",
    "* Returns True if the input is a single element tensor which is not equal to zero after type conversions."
   ]
  },
  {
   "cell_type": "code",
   "execution_count": 46,
   "id": "basic-accident",
   "metadata": {},
   "outputs": [
    {
     "name": "stdout",
     "output_type": "stream",
     "text": [
      "True\n"
     ]
    }
   ],
   "source": [
    "print(torch.is_nonzero(torch.tensor([9])))"
   ]
  },
  {
   "cell_type": "markdown",
   "id": "corresponding-robertson",
   "metadata": {},
   "source": [
    "#### 6. TORCH.SET_DEFAULT_DTYPE\n",
    "* Sets the default floating point dtype to d"
   ]
  },
  {
   "cell_type": "code",
   "execution_count": 63,
   "id": "objective-france",
   "metadata": {},
   "outputs": [
    {
     "name": "stdout",
     "output_type": "stream",
     "text": [
      "torch.float32\n"
     ]
    },
    {
     "data": {
      "text/plain": [
       "torch.float64"
      ]
     },
     "execution_count": 63,
     "metadata": {},
     "output_type": "execute_result"
    }
   ],
   "source": [
    "b = torch.tensor([9., 6, 8], dtype=torch.float32)\n",
    "print(b.dtype)\n",
    "torch.set_default_dtype(torch.float64)\n",
    "torch.tensor([2, 5, .9]).dtype\n"
   ]
  },
  {
   "cell_type": "markdown",
   "id": "julian-biography",
   "metadata": {},
   "source": [
    "#### 7. TORCH.NUMEL\n",
    "* Returns the total number of elements in the input tensor."
   ]
  },
  {
   "cell_type": "code",
   "execution_count": 69,
   "id": "statistical-administration",
   "metadata": {},
   "outputs": [
    {
     "name": "stdout",
     "output_type": "stream",
     "text": [
      "tensor([0., 0., 0., 0., 0., 0., 0., 0.])\n",
      "8\n"
     ]
    }
   ],
   "source": [
    "b = torch.ones(8)\n",
    "a = torch.zeros_like(b)\n",
    "print(a)\n",
    "print(torch.numel(a))"
   ]
  },
  {
   "cell_type": "markdown",
   "id": "english-ballet",
   "metadata": {},
   "source": [
    "#### 8. TORCH.SET_PRINTOPTIONS\n",
    "* [Here](https://pytorch.org/docs/stable/generated/torch.set_printoptions.html#torch.set_printoptions)"
   ]
  },
  {
   "cell_type": "markdown",
   "id": "formal-afternoon",
   "metadata": {},
   "source": [
    "#### 9. TORCH.SET_FLUSH_DENORMAL\n",
    "* [Here](https://pytorch.org/docs/stable/generated/torch.set_flush_denormal.html#torch.set_flush_denormal)"
   ]
  },
  {
   "cell_type": "code",
   "execution_count": 73,
   "id": "seeing-packet",
   "metadata": {},
   "outputs": [
    {
     "data": {
      "text/plain": [
       "True"
      ]
     },
     "execution_count": 73,
     "metadata": {},
     "output_type": "execute_result"
    }
   ],
   "source": [
    "torch.set_flush_denormal(False)"
   ]
  },
  {
   "cell_type": "markdown",
   "id": "incoming-floating",
   "metadata": {},
   "source": [
    "## Creation Ops\n",
    "* [Here](https://pytorch.org/docs/stable/torch.html#creation-ops)"
   ]
  },
  {
   "cell_type": "code",
   "execution_count": 76,
   "id": "imperial-invention",
   "metadata": {},
   "outputs": [
    {
     "data": {
      "text/plain": [
       "tensor([0.7801, 0.5808, 0.9566, 0.8771, 0.4297, 0.6235, 0.6755, 0.0372, 0.3678])"
      ]
     },
     "execution_count": 76,
     "metadata": {},
     "output_type": "execute_result"
    }
   ],
   "source": [
    "## torch.rand(n) \n",
    "ten = torch.rand(9)\n",
    "ten"
   ]
  },
  {
   "cell_type": "code",
   "execution_count": 93,
   "id": "posted-cassette",
   "metadata": {},
   "outputs": [
    {
     "data": {
      "text/plain": [
       "tensor([-1.7272,  1.0899, -0.0452, -1.0541])"
      ]
     },
     "execution_count": 93,
     "metadata": {},
     "output_type": "execute_result"
    }
   ],
   "source": [
    "## torch.rand_like()\n",
    "a = torch.tensor([4., 7, 8, 9])\n",
    "ten = torch.randn_like(a)\n",
    "ten"
   ]
  },
  {
   "cell_type": "code",
   "execution_count": 98,
   "id": "junior-wisdom",
   "metadata": {},
   "outputs": [
    {
     "data": {
      "text/plain": [
       "tensor([[ 0.2572,  0.9909,  0.1526, -0.0797,  1.5206],\n",
       "        [-0.6843, -1.2109,  1.2663,  1.1530, -0.0511]])"
      ]
     },
     "execution_count": 98,
     "metadata": {},
     "output_type": "execute_result"
    }
   ],
   "source": [
    "## torch.randn()\n",
    "ten = torch.randn([2, 5])\n",
    "ten"
   ]
  },
  {
   "cell_type": "code",
   "execution_count": 99,
   "id": "small-philosophy",
   "metadata": {},
   "outputs": [
    {
     "data": {
      "text/plain": [
       "tensor([[-0.5828, -0.5335,  0.8463,  0.3833,  1.8376],\n",
       "        [ 1.0752, -0.2285, -1.9837, -0.2995, -0.1300]])"
      ]
     },
     "execution_count": 99,
     "metadata": {},
     "output_type": "execute_result"
    }
   ],
   "source": [
    "## torch.randn_like\n",
    "ten = torch.randn_like(ten)\n",
    "ten"
   ]
  },
  {
   "cell_type": "code",
   "execution_count": 105,
   "id": "interesting-webmaster",
   "metadata": {},
   "outputs": [
    {
     "data": {
      "text/plain": [
       "tensor([[1, 8, 8, 9, 4],\n",
       "        [9, 9, 4, 9, 5],\n",
       "        [9, 8, 1, 5, 0],\n",
       "        [3, 6, 4, 9, 7],\n",
       "        [7, 0, 9, 1, 5]])"
      ]
     },
     "execution_count": 105,
     "metadata": {},
     "output_type": "execute_result"
    }
   ],
   "source": [
    "## touch.randint(low, high, size)\n",
    "ten = torch.randint(0, 10, [5, 5])\n",
    "ten"
   ]
  },
  {
   "cell_type": "code",
   "execution_count": 111,
   "id": "collect-malta",
   "metadata": {},
   "outputs": [
    {
     "data": {
      "text/plain": [
       "tensor([[7, 4, 4, 4, 5],\n",
       "        [7, 6, 5, 6, 7],\n",
       "        [0, 5, 2, 3, 6],\n",
       "        [2, 2, 3, 1, 0],\n",
       "        [6, 1, 1, 4, 8]])"
      ]
     },
     "execution_count": 111,
     "metadata": {},
     "output_type": "execute_result"
    }
   ],
   "source": [
    "## torch.randint_like()\n",
    "ten = torch.randint_like(ten, 0, 9)\n",
    "ten"
   ]
  },
  {
   "cell_type": "code",
   "execution_count": 113,
   "id": "derived-disney",
   "metadata": {},
   "outputs": [
    {
     "data": {
      "text/plain": [
       "tensor([1, 7, 2, 6, 4, 5, 3, 0])"
      ]
     },
     "execution_count": 113,
     "metadata": {},
     "output_type": "execute_result"
    }
   ],
   "source": [
    "## torch.randperm()\n",
    "    # Returns a random permutation of integers from\n",
    "ten = torch.randperm(8)\n",
    "ten"
   ]
  },
  {
   "cell_type": "code",
   "execution_count": null,
   "id": "automotive-heath",
   "metadata": {},
   "outputs": [],
   "source": []
  },
  {
   "cell_type": "code",
   "execution_count": null,
   "id": "returning-words",
   "metadata": {},
   "outputs": [],
   "source": []
  },
  {
   "cell_type": "code",
   "execution_count": null,
   "id": "continuous-storm",
   "metadata": {},
   "outputs": [],
   "source": []
  },
  {
   "cell_type": "code",
   "execution_count": null,
   "id": "extreme-values",
   "metadata": {},
   "outputs": [],
   "source": []
  },
  {
   "cell_type": "code",
   "execution_count": null,
   "id": "worse-question",
   "metadata": {},
   "outputs": [],
   "source": []
  },
  {
   "cell_type": "code",
   "execution_count": null,
   "id": "massive-circus",
   "metadata": {},
   "outputs": [],
   "source": []
  },
  {
   "cell_type": "code",
   "execution_count": null,
   "id": "hazardous-abuse",
   "metadata": {},
   "outputs": [],
   "source": []
  },
  {
   "cell_type": "code",
   "execution_count": null,
   "id": "aquatic-slovenia",
   "metadata": {},
   "outputs": [],
   "source": []
  },
  {
   "cell_type": "code",
   "execution_count": null,
   "id": "medium-trail",
   "metadata": {},
   "outputs": [],
   "source": []
  },
  {
   "cell_type": "code",
   "execution_count": null,
   "id": "brave-criticism",
   "metadata": {},
   "outputs": [],
   "source": []
  },
  {
   "cell_type": "code",
   "execution_count": null,
   "id": "pleasant-satisfaction",
   "metadata": {},
   "outputs": [],
   "source": []
  },
  {
   "cell_type": "code",
   "execution_count": null,
   "id": "stainless-likelihood",
   "metadata": {},
   "outputs": [],
   "source": []
  },
  {
   "cell_type": "code",
   "execution_count": null,
   "id": "contained-display",
   "metadata": {},
   "outputs": [],
   "source": []
  },
  {
   "cell_type": "code",
   "execution_count": null,
   "id": "transparent-student",
   "metadata": {},
   "outputs": [],
   "source": []
  },
  {
   "cell_type": "code",
   "execution_count": null,
   "id": "skilled-fault",
   "metadata": {},
   "outputs": [],
   "source": []
  },
  {
   "cell_type": "code",
   "execution_count": null,
   "id": "sound-affairs",
   "metadata": {},
   "outputs": [],
   "source": []
  },
  {
   "cell_type": "code",
   "execution_count": null,
   "id": "respected-tissue",
   "metadata": {},
   "outputs": [],
   "source": []
  }
 ],
 "metadata": {
  "kernelspec": {
   "display_name": "Python 3",
   "language": "python",
   "name": "python3"
  },
  "language_info": {
   "codemirror_mode": {
    "name": "ipython",
    "version": 3
   },
   "file_extension": ".py",
   "mimetype": "text/x-python",
   "name": "python",
   "nbconvert_exporter": "python",
   "pygments_lexer": "ipython3",
   "version": "3.8.5"
  }
 },
 "nbformat": 4,
 "nbformat_minor": 5
}
